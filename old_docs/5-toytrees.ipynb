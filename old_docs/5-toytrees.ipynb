{
 "cells": [
  {
   "cell_type": "markdown",
   "metadata": {},
   "source": [
    "## ToyTree objects\n",
    "\n",
    "The main class object users interact with in toytree is called a `ToyTree`. This object contains a number of useful functions for interacting with the underlying `TreeNode` structure (e.g., rooting, dropping tips) and for drawing trees and adding data from the tree (e.g., support values) to the plots. The link between tree structure and the data used to build tree drawings is tightly linked in toytree with the goal of making it very difficult for users to accidentally plot tip or node labels in an incorrect order. This section of the tutorial is primarily about how ToyTree objects store data, and how to access it easily using their functions. "
   ]
  },
  {
   "cell_type": "code",
   "execution_count": 1,
   "metadata": {},
   "outputs": [],
   "source": [
    "import toytree\n",
    "import toyplot\n",
    "import numpy as np"
   ]
  },
  {
   "cell_type": "code",
   "execution_count": 2,
   "metadata": {},
   "outputs": [],
   "source": [
    "# load a tree for this tutorial\n",
    "tre = toytree.tree(\"https://eaton-lab.org/data/Cyathophora.tre\")"
   ]
  },
  {
   "cell_type": "markdown",
   "metadata": {},
   "source": [
    "### Selecting parts of a tree\n",
    "Toytree provides many functions for modifying the tree structure (e.g., rooting a tree, dropping tips), as well as methods for applying styles to specific parts of the tree (e.g., coloring edges differently). Both of these require an easy and reliable method for selecting specific parts of the tree while also minimizing the chance for user error. "
   ]
  },
  {
   "cell_type": "markdown",
   "metadata": {},
   "source": [
    "#### Selecting subtrees with tip labels\n",
    "In toytree we recommend using tip labels to select the location in the tree where it should be manipulated. Whey use tip labels instead of node names or indices? Well, using node indices (e.g., idx labels) would be a reasonable alternative, but it turns out this would likely be more error prone for users (although it is also allowed as an option). This is because _if_ the tree is modified (e.g., if tips are dropped or the tree is re-rooted) the node indices will change. In contrast, the relationships among tips (i.e., who shares a more recent common ancestor with whom) does not change with any of these tree modifications. Node names are another option, but in most trees internal nodes are not named.\n",
    "\n",
    "The plot below shows how node idx labels changes as the tree is modified. This is the reason why using idx labels as selectors is more error prone. "
   ]
  },
  {
   "cell_type": "code",
   "execution_count": 3,
   "metadata": {},
   "outputs": [],
   "source": [
    "# store a rooted copy of tre (more on this later...)\n",
    "rtre = tre.root(['33588_przewalskii', '32082_przewalskii'])"
   ]
  },
  {
   "cell_type": "code",
   "execution_count": 4,
   "metadata": {},
   "outputs": [
    {
     "data": {
      "text/html": [
       "<div class=\"toyplot\" id=\"t2769db53573946f0bc2c0a989c88cc08\" style=\"text-align:center\"><svg class=\"toyplot-canvas-Canvas\" height=\"275.0px\" id=\"t982aeee04c564071a730b0603b7db30d\" preserveAspectRatio=\"xMidYMid meet\" style=\"background-color:transparent;border-color:#292724;border-style:none;border-width:1.0;fill:rgb(16.1%,15.3%,14.1%);fill-opacity:1.0;font-family:Helvetica;font-size:12px;opacity:1.0;stroke:rgb(16.1%,15.3%,14.1%);stroke-opacity:1.0;stroke-width:1.0\" viewBox=\"0 0 360.0 275.0\" width=\"360.0px\" xmlns=\"http://www.w3.org/2000/svg\" xmlns:toyplot=\"http://www.sandia.gov/toyplot\" xmlns:xlink=\"http://www.w3.org/1999/xlink\"><g class=\"toyplot-coordinates-Cartesian\" id=\"t5b1e1f4555c2431d9bf95128a579686d\"><clipPath id=\"t54e02459d88642c49b3892c2e23ef69e\"><rect height=\"215.0\" width=\"300.0\" x=\"30.0\" y=\"30.0\"></rect></clipPath><g clip-path=\"url(#t54e02459d88642c49b3892c2e23ef69e)\"><g class=\"toytree-mark-Toytree\" id=\"tc2bf6805daf6462c90e3e13332956992\"><g class=\"toytree-Edges\" style=\"fill:none;stroke:rgb(14.9%,14.9%,14.9%);stroke-linecap:round;stroke-opacity:1;stroke-width:2\"><path d=\"M 51.1 98.2 L 51.1 67.4 L 129.6 67.4\" id=\"24,23\"></path><path d=\"M 51.1 98.2 L 51.1 128.9 L 129.6 128.9\" id=\"24,22\"></path><path d=\"M 129.6 128.9 L 129.6 105.6 L 142.7 105.6\" id=\"22,21\"></path><path d=\"M 129.6 128.9 L 129.6 152.2 L 153.2 152.2\" id=\"22,20\"></path><path d=\"M 142.7 105.6 L 142.7 92.9 L 153.1 92.9\" id=\"21,19\"></path><path d=\"M 142.7 105.6 L 142.7 118.4 L 183.9 118.4\" id=\"21,18\"></path><path d=\"M 153.2 152.2 L 153.2 167.0 L 157.8 167.0\" id=\"20,17\"></path><path d=\"M 157.8 167.0 L 157.8 183.7 L 161.2 183.7\" id=\"17,16\"></path><path d=\"M 161.2 183.7 L 161.2 169.4 L 170.9 169.4\" id=\"16,15\"></path><path d=\"M 161.2 183.7 L 161.2 198.1 L 164.4 198.1\" id=\"16,14\"></path><path d=\"M 164.4 198.1 L 164.4 207.6 L 191.5 207.6\" id=\"14,13\"></path><path d=\"M 129.6 67.4 L 129.6 61.0 L 141.0 61.0\" id=\"23,12\"></path><path d=\"M 129.6 67.4 L 129.6 73.8 L 140.5 73.8\" id=\"23,11\"></path><path d=\"M 153.1 92.9 L 153.1 86.5 L 180.9 86.5\" id=\"19,10\"></path><path d=\"M 153.1 92.9 L 153.1 99.3 L 182.4 99.3\" id=\"19,9\"></path><path d=\"M 183.9 118.4 L 183.9 112.0 L 184.3 112.0\" id=\"18,8\"></path><path d=\"M 183.9 118.4 L 183.9 124.8 L 184.1 124.8\" id=\"18,7\"></path><path d=\"M 153.2 152.2 L 153.2 137.5 L 178.0 137.5\" id=\"20,6\"></path><path d=\"M 157.8 167.0 L 157.8 150.2 L 186.3 150.2\" id=\"17,5\"></path><path d=\"M 170.9 169.4 L 170.9 163.0 L 185.6 163.0\" id=\"15,4\"></path><path d=\"M 170.9 169.4 L 170.9 175.7 L 185.8 175.7\" id=\"15,3\"></path><path d=\"M 164.4 198.1 L 164.4 188.5 L 189.8 188.5\" id=\"14,2\"></path><path d=\"M 191.5 207.6 L 191.5 201.2 L 195.7 201.2\" id=\"13,1\"></path><path d=\"M 191.5 207.6 L 191.5 214.0 L 196.2 214.0\" id=\"13,0\"></path></g><g class=\"toytree-TipLabels\" style=\"fill:rgb(14.9%,14.9%,14.9%);fill-opacity:1.0;font-family:helvetica;font-size:11px;font-weight:normal;stroke:none;white-space:pre\"><g transform=\"translate(196.23,213.99)rotate(0)\"><text style=\"\" x=\"15.00\" y=\"2.81\">38362_rex</text></g><g transform=\"translate(195.66,201.24)rotate(0)\"><text style=\"\" x=\"15.00\" y=\"2.81\">39618_rex</text></g><g transform=\"translate(189.83,188.49)rotate(0)\"><text style=\"\" x=\"15.00\" y=\"2.81\">35236_rex</text></g><g transform=\"translate(185.83,175.74)rotate(0)\"><text style=\"\" x=\"15.00\" y=\"2.81\">35855_rex</text></g><g transform=\"translate(185.63,163.00)rotate(0)\"><text style=\"\" x=\"15.00\" y=\"2.81\">40578_rex</text></g><g transform=\"translate(186.35,150.25)rotate(0)\"><text style=\"\" x=\"15.00\" y=\"2.81\">30556_thamno</text></g><g transform=\"translate(177.98,137.50)rotate(0)\"><text style=\"\" x=\"15.00\" y=\"2.81\">33413_thamno</text></g><g transform=\"translate(184.10,124.75)rotate(0)\"><text style=\"\" x=\"15.00\" y=\"2.81\">41478_cyathophylloides</text></g><g transform=\"translate(184.26,112.00)rotate(0)\"><text style=\"\" x=\"15.00\" y=\"2.81\">41954_cyathophylloides</text></g><g transform=\"translate(182.42,99.26)rotate(0)\"><text style=\"\" x=\"15.00\" y=\"2.81\">30686_cyathophylla</text></g><g transform=\"translate(180.86,86.51)rotate(0)\"><text style=\"\" x=\"15.00\" y=\"2.81\">29154_superba</text></g><g transform=\"translate(140.46,73.76)rotate(0)\"><text style=\"\" x=\"15.00\" y=\"2.81\">33588_przewalskii</text></g><g transform=\"translate(141.00,61.01)rotate(0)\"><text style=\"\" x=\"15.00\" y=\"2.81\">32082_przewalskii</text></g></g></g></g></g></svg><div class=\"toyplot-behavior\"><script>(function()\n",
       "{\n",
       "var modules={};\n",
       "})();</script></div></div>"
      ]
     },
     "metadata": {},
     "output_type": "display_data"
    }
   ],
   "source": [
    "rtre.draw();"
   ]
  },
  {
   "cell_type": "code",
   "execution_count": 25,
   "metadata": {},
   "outputs": [
    {
     "data": {
      "text/html": [
       "<div class=\"toyplot\" id=\"t9d92d787dfaa418c9fc7e24637406fc7\" style=\"text-align:center\"><svg class=\"toyplot-canvas-Canvas\" height=\"250.0px\" id=\"tceb67b77d998455294787aec924e188a\" preserveAspectRatio=\"xMidYMid meet\" style=\"background-color:transparent;border-color:#292724;border-style:none;border-width:1.0;fill:rgb(16.1%,15.3%,14.1%);fill-opacity:1.0;font-family:Helvetica;font-size:12px;opacity:1.0;stroke:rgb(16.1%,15.3%,14.1%);stroke-opacity:1.0;stroke-width:1.0\" viewBox=\"0 0 500.0 250.0\" width=\"500.0px\" xmlns=\"http://www.w3.org/2000/svg\" xmlns:toyplot=\"http://www.sandia.gov/toyplot\" xmlns:xlink=\"http://www.w3.org/1999/xlink\"><g class=\"toyplot-coordinates-Cartesian\" id=\"t763ecd67f1b441b189e7da90ad207d08\"><clipPath id=\"tfbcf1ca901364bd592c1d439c6e49c80\"><rect height=\"220.0\" width=\"220.0\" x=\"15.0\" y=\"15.0\"></rect></clipPath><g clip-path=\"url(#tfbcf1ca901364bd592c1d439c6e49c80)\"><g class=\"toytree-mark-Toytree\" id=\"ta33e1e0cbca3462d89db67b39ce11540\"><g class=\"toytree-Edges\" style=\"fill:none;stroke:rgb(14.9%,14.9%,14.9%);stroke-linecap:round;stroke-opacity:1;stroke-width:2\"><path d=\"M 26.0 61.0 L 26.0 97.5 L 46.7 97.5\" id=\"23,22\"></path><path d=\"M 46.7 97.5 L 46.7 72.6 L 51.9 72.6\" id=\"22,21\"></path><path d=\"M 46.7 97.5 L 46.7 122.4 L 53.2 122.4\" id=\"22,20\"></path><path d=\"M 53.2 122.4 L 53.2 102.6 L 132.0 102.6\" id=\"20,19\"></path><path d=\"M 53.2 122.4 L 53.2 142.3 L 65.0 142.3\" id=\"20,18\"></path><path d=\"M 65.0 142.3 L 65.0 159.6 L 67.3 159.6\" id=\"18,17\"></path><path d=\"M 67.3 159.6 L 67.3 179.2 L 69.0 179.2\" id=\"17,16\"></path><path d=\"M 69.0 179.2 L 69.0 162.4 L 73.9 162.4\" id=\"16,15\"></path><path d=\"M 69.0 179.2 L 69.0 196.1 L 70.7 196.1\" id=\"16,14\"></path><path d=\"M 70.7 196.1 L 70.7 207.3 L 84.2 207.3\" id=\"14,13\"></path><path d=\"M 26.0 61.0 L 26.0 35.2 L 26.2 35.2\" id=\"23,12\"></path><path d=\"M 26.0 61.0 L 26.0 50.2 L 26.1 50.2\" id=\"23,11\"></path><path d=\"M 51.9 72.6 L 51.9 65.2 L 65.8 65.2\" id=\"21,10\"></path><path d=\"M 51.9 72.6 L 51.9 80.1 L 66.6 80.1\" id=\"21,9\"></path><path d=\"M 132.0 102.6 L 132.0 95.1 L 137.7 95.1\" id=\"19,8\"></path><path d=\"M 132.0 102.6 L 132.0 110.0 L 137.4 110.0\" id=\"19,7\"></path><path d=\"M 65.0 142.3 L 65.0 125.0 L 77.5 125.0\" id=\"18,6\"></path><path d=\"M 67.3 159.6 L 67.3 140.0 L 81.7 140.0\" id=\"17,5\"></path><path d=\"M 73.9 162.4 L 73.9 154.9 L 81.3 154.9\" id=\"15,4\"></path><path d=\"M 73.9 162.4 L 73.9 169.9 L 81.4 169.9\" id=\"15,3\"></path><path d=\"M 70.7 196.1 L 70.7 184.8 L 83.4 184.8\" id=\"14,2\"></path><path d=\"M 84.2 207.3 L 84.2 199.8 L 86.3 199.8\" id=\"13,1\"></path><path d=\"M 84.2 207.3 L 84.2 214.8 L 86.6 214.8\" id=\"13,0\"></path></g><g class=\"toytree-Nodes\" style=\"fill:rgb(40%,76.1%,64.7%);fill-opacity:1.0;stroke:None;stroke-width:1\"><g id=\"node-0\" transform=\"translate(86.624,214.767)\"><circle r=\"0.0\"></circle></g><g id=\"node-1\" transform=\"translate(86.338,199.806)\"><circle r=\"0.0\"></circle></g><g id=\"node-2\" transform=\"translate(83.412,184.844)\"><circle r=\"0.0\"></circle></g><g id=\"node-3\" transform=\"translate(81.403,169.883)\"><circle r=\"0.0\"></circle></g><g id=\"node-4\" transform=\"translate(81.303,154.922)\"><circle r=\"0.0\"></circle></g><g id=\"node-5\" transform=\"translate(81.665,139.961)\"><circle r=\"0.0\"></circle></g><g id=\"node-6\" transform=\"translate(77.464,125.000)\"><circle r=\"0.0\"></circle></g><g id=\"node-7\" transform=\"translate(137.444,110.039)\"><circle r=\"0.0\"></circle></g><g id=\"node-8\" transform=\"translate(137.712,95.078)\"><circle r=\"0.0\"></circle></g><g id=\"node-9\" transform=\"translate(66.617,80.117)\"><circle r=\"0.0\"></circle></g><g id=\"node-10\" transform=\"translate(65.833,65.156)\"><circle r=\"0.0\"></circle></g><g id=\"node-11\" transform=\"translate(26.117,50.194)\"><circle r=\"0.0\"></circle></g><g id=\"node-12\" transform=\"translate(26.196,35.233)\"><circle r=\"0.0\"></circle></g><g id=\"node-13\" transform=\"translate(84.225,207.286)\"><circle r=\"7.5\"></circle></g><g id=\"node-14\" transform=\"translate(70.659,196.065)\"><circle r=\"7.5\"></circle></g><g id=\"node-15\" transform=\"translate(73.935,162.403)\"><circle r=\"7.5\"></circle></g><g id=\"node-16\" transform=\"translate(69.036,179.234)\"><circle r=\"7.5\"></circle></g><g id=\"node-17\" transform=\"translate(67.315,159.598)\"><circle r=\"7.5\"></circle></g><g id=\"node-18\" transform=\"translate(65.045,142.299)\"><circle r=\"7.5\"></circle></g><g id=\"node-19\" transform=\"translate(132.015,102.558)\"><circle r=\"7.5\"></circle></g><g id=\"node-20\" transform=\"translate(53.210,122.429)\"><circle r=\"7.5\"></circle></g><g id=\"node-21\" transform=\"translate(51.901,72.636)\"><circle r=\"7.5\"></circle></g><g id=\"node-22\" transform=\"translate(46.672,97.532)\"><circle r=\"7.5\"></circle></g><g id=\"node-23\" transform=\"translate(26.001,60.987)\"><circle r=\"0.0\"></circle></g></g><g class=\"toytree-NodeLabels\" style=\"fill:rgb(14.9%,14.9%,14.9%);fill-opacity:1.0;font-size:9px;stroke:none\"><g transform=\"translate(79.22,209.59)\"><text>13</text></g><g transform=\"translate(65.66,198.36)\"><text>14</text></g><g transform=\"translate(68.93,164.70)\"><text>15</text></g><g transform=\"translate(64.03,181.53)\"><text>16</text></g><g transform=\"translate(62.31,161.90)\"><text>17</text></g><g transform=\"translate(60.04,144.60)\"><text>18</text></g><g transform=\"translate(127.01,104.86)\"><text>19</text></g><g transform=\"translate(48.21,124.73)\"><text>20</text></g><g transform=\"translate(46.90,74.94)\"><text>21</text></g><g transform=\"translate(41.67,99.83)\"><text>22</text></g></g><g class=\"toytree-TipLabels\" style=\"fill:rgb(14.9%,14.9%,14.9%);fill-opacity:1.0;font-family:helvetica;font-size:9px;font-weight:normal;stroke:none;white-space:pre\"><g transform=\"translate(86.62,214.77)rotate(0)\"><text style=\"\" x=\"10.00\" y=\"2.30\">38362_rex</text></g><g transform=\"translate(86.34,199.81)rotate(0)\"><text style=\"\" x=\"10.00\" y=\"2.30\">39618_rex</text></g><g transform=\"translate(83.41,184.84)rotate(0)\"><text style=\"\" x=\"10.00\" y=\"2.30\">35236_rex</text></g><g transform=\"translate(81.40,169.88)rotate(0)\"><text style=\"\" x=\"10.00\" y=\"2.30\">35855_rex</text></g><g transform=\"translate(81.30,154.92)rotate(0)\"><text style=\"\" x=\"10.00\" y=\"2.30\">40578_rex</text></g><g transform=\"translate(81.66,139.96)rotate(0)\"><text style=\"\" x=\"10.00\" y=\"2.30\">30556_thamno</text></g><g transform=\"translate(77.46,125.00)rotate(0)\"><text style=\"\" x=\"10.00\" y=\"2.30\">33413_thamno</text></g><g transform=\"translate(137.44,110.04)rotate(0)\"><text style=\"\" x=\"10.00\" y=\"2.30\">33588_przewalskii</text></g><g transform=\"translate(137.71,95.08)rotate(0)\"><text style=\"\" x=\"10.00\" y=\"2.30\">32082_przewalskii</text></g><g transform=\"translate(66.62,80.12)rotate(0)\"><text style=\"\" x=\"10.00\" y=\"2.30\">30686_cyathophylla</text></g><g transform=\"translate(65.83,65.16)rotate(0)\"><text style=\"\" x=\"10.00\" y=\"2.30\">29154_superba</text></g><g transform=\"translate(26.12,50.19)rotate(0)\"><text style=\"\" x=\"10.00\" y=\"2.30\">41478_cyathophylloides</text></g><g transform=\"translate(26.20,35.23)rotate(0)\"><text style=\"\" x=\"10.00\" y=\"2.30\">41954_cyathophylloides</text></g></g></g></g></g><g class=\"toyplot-coordinates-Cartesian\" id=\"t6f2df97b4a42496f9d253349845c778d\"><clipPath id=\"t67dafed2dfaa4117a969a132a89d7256\"><rect height=\"220.0\" width=\"220.0\" x=\"265.0\" y=\"15.0\"></rect></clipPath><g clip-path=\"url(#t67dafed2dfaa4117a969a132a89d7256)\"><g class=\"toytree-mark-Toytree\" id=\"t2fa3081472a1493eab94127f5cec3dd8\"><g class=\"toytree-Edges\" style=\"fill:none;stroke:rgb(14.9%,14.9%,14.9%);stroke-linecap:round;stroke-opacity:1;stroke-width:2\"><path d=\"M 275.0 78.8 L 275.0 42.7 L 330.9 42.7\" id=\"24,23\"></path><path d=\"M 275.0 78.8 L 275.0 114.9 L 330.9 114.9\" id=\"24,22\"></path><path d=\"M 330.9 114.9 L 330.9 87.6 L 340.2 87.6\" id=\"22,21\"></path><path d=\"M 330.9 114.9 L 330.9 142.3 L 347.7 142.3\" id=\"22,20\"></path><path d=\"M 340.2 87.6 L 340.2 72.6 L 347.6 72.6\" id=\"21,19\"></path><path d=\"M 340.2 87.6 L 340.2 102.6 L 369.5 102.6\" id=\"21,18\"></path><path d=\"M 347.7 142.3 L 347.7 159.6 L 350.9 159.6\" id=\"20,17\"></path><path d=\"M 350.9 159.6 L 350.9 179.2 L 353.3 179.2\" id=\"17,16\"></path><path d=\"M 353.3 179.2 L 353.3 162.4 L 360.3 162.4\" id=\"16,15\"></path><path d=\"M 353.3 179.2 L 353.3 196.1 L 355.6 196.1\" id=\"16,14\"></path><path d=\"M 355.6 196.1 L 355.6 207.3 L 374.9 207.3\" id=\"14,13\"></path><path d=\"M 330.9 42.7 L 330.9 35.2 L 339.0 35.2\" id=\"23,12\"></path><path d=\"M 330.9 42.7 L 330.9 50.2 L 338.6 50.2\" id=\"23,11\"></path><path d=\"M 347.6 72.6 L 347.6 65.2 L 367.3 65.2\" id=\"19,10\"></path><path d=\"M 347.6 72.6 L 347.6 80.1 L 368.4 80.1\" id=\"19,9\"></path><path d=\"M 369.5 102.6 L 369.5 95.1 L 369.7 95.1\" id=\"18,8\"></path><path d=\"M 369.5 102.6 L 369.5 110.0 L 369.6 110.0\" id=\"18,7\"></path><path d=\"M 347.7 142.3 L 347.7 125.0 L 365.3 125.0\" id=\"20,6\"></path><path d=\"M 350.9 159.6 L 350.9 140.0 L 371.2 140.0\" id=\"17,5\"></path><path d=\"M 360.3 162.4 L 360.3 154.9 L 370.7 154.9\" id=\"15,4\"></path><path d=\"M 360.3 162.4 L 360.3 169.9 L 370.9 169.9\" id=\"15,3\"></path><path d=\"M 355.6 196.1 L 355.6 184.8 L 373.7 184.8\" id=\"14,2\"></path><path d=\"M 374.9 207.3 L 374.9 199.8 L 377.9 199.8\" id=\"13,1\"></path><path d=\"M 374.9 207.3 L 374.9 214.8 L 378.3 214.8\" id=\"13,0\"></path></g><g class=\"toytree-Nodes\" style=\"fill:rgb(40%,76.1%,64.7%);fill-opacity:1.0;stroke:None;stroke-width:1\"><g id=\"node-0\" transform=\"translate(378.272,214.767)\"><circle r=\"0.0\"></circle></g><g id=\"node-1\" transform=\"translate(377.866,199.806)\"><circle r=\"0.0\"></circle></g><g id=\"node-2\" transform=\"translate(373.716,184.844)\"><circle r=\"0.0\"></circle></g><g id=\"node-3\" transform=\"translate(370.867,169.883)\"><circle r=\"0.0\"></circle></g><g id=\"node-4\" transform=\"translate(370.725,154.922)\"><circle r=\"0.0\"></circle></g><g id=\"node-5\" transform=\"translate(371.238,139.961)\"><circle r=\"0.0\"></circle></g><g id=\"node-6\" transform=\"translate(365.280,125.000)\"><circle r=\"0.0\"></circle></g><g id=\"node-7\" transform=\"translate(369.637,110.039)\"><circle r=\"0.0\"></circle></g><g id=\"node-8\" transform=\"translate(369.750,95.078)\"><circle r=\"0.0\"></circle></g><g id=\"node-9\" transform=\"translate(368.442,80.117)\"><circle r=\"0.0\"></circle></g><g id=\"node-10\" transform=\"translate(367.330,65.156)\"><circle r=\"0.0\"></circle></g><g id=\"node-11\" transform=\"translate(338.582,50.194)\"><circle r=\"0.0\"></circle></g><g id=\"node-12\" transform=\"translate(338.962,35.233)\"><circle r=\"0.0\"></circle></g><g id=\"node-13\" transform=\"translate(374.869,207.286)\"><circle r=\"7.5\"></circle></g><g id=\"node-14\" transform=\"translate(355.630,196.065)\"><circle r=\"7.5\"></circle></g><g id=\"node-15\" transform=\"translate(360.276,162.403)\"><circle r=\"7.5\"></circle></g><g id=\"node-16\" transform=\"translate(353.328,179.234)\"><circle r=\"7.5\"></circle></g><g id=\"node-17\" transform=\"translate(350.887,159.598)\"><circle r=\"7.5\"></circle></g><g id=\"node-18\" transform=\"translate(369.473,102.558)\"><circle r=\"7.5\"></circle></g><g id=\"node-19\" transform=\"translate(347.570,72.636)\"><circle r=\"7.5\"></circle></g><g id=\"node-20\" transform=\"translate(347.667,142.299)\"><circle r=\"7.5\"></circle></g><g id=\"node-21\" transform=\"translate(340.155,87.597)\"><circle r=\"7.5\"></circle></g><g id=\"node-22\" transform=\"translate(330.883,114.948)\"><circle r=\"7.5\"></circle></g><g id=\"node-23\" transform=\"translate(330.883,42.714)\"><circle r=\"7.5\"></circle></g><g id=\"node-24\" transform=\"translate(275.000,78.831)\"><circle r=\"0.0\"></circle></g></g><g class=\"toytree-NodeLabels\" style=\"fill:rgb(14.9%,14.9%,14.9%);fill-opacity:1.0;font-size:9px;stroke:none\"><g transform=\"translate(369.87,209.59)\"><text>13</text></g><g transform=\"translate(350.63,198.36)\"><text>14</text></g><g transform=\"translate(355.27,164.70)\"><text>15</text></g><g transform=\"translate(348.32,181.53)\"><text>16</text></g><g transform=\"translate(345.88,161.90)\"><text>17</text></g><g transform=\"translate(364.47,104.86)\"><text>18</text></g><g transform=\"translate(342.57,74.94)\"><text>19</text></g><g transform=\"translate(342.66,144.60)\"><text>20</text></g><g transform=\"translate(335.15,89.90)\"><text>21</text></g><g transform=\"translate(325.88,117.25)\"><text>22</text></g><g transform=\"translate(325.88,45.01)\"><text>23</text></g></g><g class=\"toytree-TipLabels\" style=\"fill:rgb(14.9%,14.9%,14.9%);fill-opacity:1.0;font-family:helvetica;font-size:9px;font-weight:normal;stroke:none;white-space:pre\"><g transform=\"translate(378.27,214.77)rotate(0)\"><text style=\"\" x=\"10.00\" y=\"2.30\">38362_rex</text></g><g transform=\"translate(377.87,199.81)rotate(0)\"><text style=\"\" x=\"10.00\" y=\"2.30\">39618_rex</text></g><g transform=\"translate(373.72,184.84)rotate(0)\"><text style=\"\" x=\"10.00\" y=\"2.30\">35236_rex</text></g><g transform=\"translate(370.87,169.88)rotate(0)\"><text style=\"\" x=\"10.00\" y=\"2.30\">35855_rex</text></g><g transform=\"translate(370.73,154.92)rotate(0)\"><text style=\"\" x=\"10.00\" y=\"2.30\">40578_rex</text></g><g transform=\"translate(371.24,139.96)rotate(0)\"><text style=\"\" x=\"10.00\" y=\"2.30\">30556_thamno</text></g><g transform=\"translate(365.28,125.00)rotate(0)\"><text style=\"\" x=\"10.00\" y=\"2.30\">33413_thamno</text></g><g transform=\"translate(369.64,110.04)rotate(0)\"><text style=\"\" x=\"10.00\" y=\"2.30\">41478_cyathophylloides</text></g><g transform=\"translate(369.75,95.08)rotate(0)\"><text style=\"\" x=\"10.00\" y=\"2.30\">41954_cyathophylloides</text></g><g transform=\"translate(368.44,80.12)rotate(0)\"><text style=\"\" x=\"10.00\" y=\"2.30\">30686_cyathophylla</text></g><g transform=\"translate(367.33,65.16)rotate(0)\"><text style=\"\" x=\"10.00\" y=\"2.30\">29154_superba</text></g><g transform=\"translate(338.58,50.19)rotate(0)\"><text style=\"\" x=\"10.00\" y=\"2.30\">33588_przewalskii</text></g><g transform=\"translate(338.96,35.23)rotate(0)\"><text style=\"\" x=\"10.00\" y=\"2.30\">32082_przewalskii</text></g></g></g></g></g></svg><div class=\"toyplot-behavior\"><script>(function()\n",
       "{\n",
       "var modules={};\n",
       "})();</script></div></div>"
      ]
     },
     "metadata": {},
     "output_type": "display_data"
    }
   ],
   "source": [
    "# a multitree storing the unrooted and rooted toytrees\n",
    "mtre = toytree.mtree([tre, rtre])\n",
    "\n",
    "# plot shows that idx labels change with rerooting\n",
    "mtre.draw(\n",
    "    node_labels='idx',\n",
    "    node_sizes=15,\n",
    ");"
   ]
  },
  {
   "cell_type": "markdown",
   "metadata": {},
   "source": [
    "#### Fuzzy tip label matching\n",
    "\n",
    "Many toytree functions allow for a variety of input methods to select the list of tip labels to represent a clade. To create the name list without having to type each name out by hand, you can use fuzzy name matching. The three options are to write each name into a list using the `names` argument; to select samples based on a shared unique string sequence in their names with `wildcard`; or using a `regex` (regular expression) statement to match samples using more complex name patterns."
   ]
  },
  {
   "cell_type": "markdown",
   "metadata": {},
   "source": [
    "#### Get node idx label from tip labels\n",
    "In the example below I use the function `.get_mrca_idx_from_tip_labels()`, which returns the correct node index of the mrca of the tips entered as arguments. You can see in the example below that the names, wildcard, and regex arguments return the correct node label for the clade that includes the two przewalskii samples (see the figure above) for each tree. "
   ]
  },
  {
   "cell_type": "code",
   "execution_count": 26,
   "metadata": {},
   "outputs": [
    {
     "name": "stdout",
     "output_type": "stream",
     "text": [
      "tre:  19\n",
      "tre:  19\n",
      "tre:  19\n",
      "rtre: 23\n",
      "rtre: 23\n",
      "rtre: 23\n"
     ]
    }
   ],
   "source": [
    "# get an idx label of przewalskii clade using names, wildcard or regex\n",
    "print('tre: ', tre.get_mrca_idx_from_tip_labels(names=['33588_przewalskii', '32082_przewalskii']))\n",
    "print('tre: ', tre.get_mrca_idx_from_tip_labels(wildcard=\"prz\"))\n",
    "print('tre: ', tre.get_mrca_idx_from_tip_labels(regex=\"[0-9]*_przewalskii\"))\n",
    "\n",
    "# get an idx label of przewalskii clade using names, wildcard or regex\n",
    "print('rtre:', rtre.get_mrca_idx_from_tip_labels(names=['33588_przewalskii', '32082_przewalskii']))\n",
    "print('rtre:', rtre.get_mrca_idx_from_tip_labels(wildcard=\"prz\"))\n",
    "print('rtre:', rtre.get_mrca_idx_from_tip_labels(regex=\"[0-9]*_przewalskii\"))"
   ]
  },
  {
   "cell_type": "markdown",
   "metadata": {},
   "source": [
    "#### Get TreeNode object from node idx label"
   ]
  },
  {
   "cell_type": "code",
   "execution_count": 27,
   "metadata": {},
   "outputs": [
    {
     "data": {
      "text/plain": [
       "<toytree.TreeNode.TreeNode at 0x7f2b105d0320>"
      ]
     },
     "execution_count": 27,
     "metadata": {},
     "output_type": "execute_result"
    }
   ],
   "source": [
    "tre.idx_dict[19]"
   ]
  },
  {
   "cell_type": "markdown",
   "metadata": {},
   "source": [
    "#### Get tip labels from a node idx label\n",
    "\n",
    "If you really want to select parts of the tree using nodes because maybe the tip names are very hard to match then this can be done using the `get_tip_labels()` function to build a list of tip names from a node idx label. If you enter an `idx` argument to this function it will return a list of names descended from the node. If no idx argument is entered then the root node idx is used so that all tip labels are returned. "
   ]
  },
  {
   "cell_type": "code",
   "execution_count": 28,
   "metadata": {},
   "outputs": [
    {
     "data": {
      "text/plain": [
       "['33588_przewalskii', '32082_przewalskii']"
      ]
     },
     "execution_count": 28,
     "metadata": {},
     "output_type": "execute_result"
    }
   ],
   "source": [
    "# get list of tips descended from a specific node in the tree\n",
    "tre.get_tip_labels(idx=19)"
   ]
  },
  {
   "cell_type": "code",
   "execution_count": 29,
   "metadata": {},
   "outputs": [
    {
     "data": {
      "text/plain": [
       "['38362_rex',\n",
       " '39618_rex',\n",
       " '35236_rex',\n",
       " '35855_rex',\n",
       " '40578_rex',\n",
       " '30556_thamno',\n",
       " '33413_thamno',\n",
       " '33588_przewalskii',\n",
       " '32082_przewalskii',\n",
       " '30686_cyathophylla',\n",
       " '29154_superba',\n",
       " '41478_cyathophylloides',\n",
       " '41954_cyathophylloides']"
      ]
     },
     "execution_count": 29,
     "metadata": {},
     "output_type": "execute_result"
    }
   ],
   "source": [
    "# get list of all tips in the tree\n",
    "tre.get_tip_labels()"
   ]
  },
  {
   "cell_type": "markdown",
   "metadata": {},
   "source": [
    "The `.get_tip_labels()` function can be combined with `.get_mrca_idx_from_tip_labels()` function to get a list of names that are all descendend from a common ancestor. For example, in the rooted tree above if I wanted to get a list of all tip labels in the ingroup clade I could select just one sample from each of the two subclades in it with `.get_mrca_idx_from_tip_labels()` to get the node idx of their common ancestor. Then pass this to `.get_tip_labels()` to return the full list of descendants. This is an efficient way to build a list of tip label names for large clade without having to write them all out by hand. "
   ]
  },
  {
   "cell_type": "code",
   "execution_count": 30,
   "metadata": {},
   "outputs": [
    {
     "data": {
      "text/plain": [
       "['38362_rex',\n",
       " '39618_rex',\n",
       " '35236_rex',\n",
       " '35855_rex',\n",
       " '40578_rex',\n",
       " '30556_thamno',\n",
       " '33413_thamno',\n",
       " '41478_cyathophylloides',\n",
       " '41954_cyathophylloides',\n",
       " '30686_cyathophylla',\n",
       " '29154_superba']"
      ]
     },
     "execution_count": 30,
     "metadata": {},
     "output_type": "execute_result"
    }
   ],
   "source": [
    "# get node index (idx) of mrca\n",
    "idx = rtre.get_mrca_idx_from_tip_labels([\"29154_superba\", \"40578_rex\"])\n",
    "\n",
    "# get tip labels descended from node idx\n",
    "rtre.get_tip_labels(idx=idx)"
   ]
  },
  {
   "cell_type": "markdown",
   "metadata": {},
   "source": [
    "### Modifying ToyTrees\n",
    "\n",
    "ToyTrees provide a number of functions for modifying the tree structure. All of these methods return a modified copy of the object -- they do not change your original tree by modifying it *in place*. This is useful because you can reliably chain together multiple tree modification functions (e.g., see [Chaining many functions and arguments](#Chaining-functions-and-arguments)). As discussed above, it is generally good practice to use tip name selectors to identify clades that should be modified on the tree. In some cases, if you are modifying a tree and using plotting styles that both rely on the tree structure, it may be easier and more clear to separate the code into multiple separate function calls. The process of chaining arguments together makes for elegant code, but use whichever method is most comfortable for you. See the Cookbook gallery for more examples. "
   ]
  },
  {
   "cell_type": "markdown",
   "metadata": {},
   "source": [
    "#### Rooting trees\n",
    "You can root toytrees using the `.root()` function call. This takes as an argument either a single tip name, or a list of tip names. You can use the fuzzy name matching options to match multiple tip names, as shown below. "
   ]
  },
  {
   "cell_type": "code",
   "execution_count": 31,
   "metadata": {},
   "outputs": [
    {
     "data": {
      "text/html": [
       "<div class=\"toyplot\" id=\"t361789f6d99c444ab75d170c34d559ca\" style=\"text-align:center\"><svg class=\"toyplot-canvas-Canvas\" height=\"275.0px\" id=\"tcb3308ae93b549389a1e70505d07008b\" preserveAspectRatio=\"xMidYMid meet\" style=\"background-color:transparent;border-color:#292724;border-style:none;border-width:1.0;fill:rgb(16.1%,15.3%,14.1%);fill-opacity:1.0;font-family:Helvetica;font-size:12px;opacity:1.0;stroke:rgb(16.1%,15.3%,14.1%);stroke-opacity:1.0;stroke-width:1.0\" viewBox=\"0 0 360.0 275.0\" width=\"360.0px\" xmlns=\"http://www.w3.org/2000/svg\" xmlns:toyplot=\"http://www.sandia.gov/toyplot\" xmlns:xlink=\"http://www.w3.org/1999/xlink\"><g class=\"toyplot-coordinates-Cartesian\" id=\"t1e8eada232f24f65864584229924e206\"><clipPath id=\"tf48c202c1f874637870de390f241c4e7\"><rect height=\"215.0\" width=\"300.0\" x=\"30.0\" y=\"30.0\"></rect></clipPath><g clip-path=\"url(#tf48c202c1f874637870de390f241c4e7)\"><g class=\"toytree-mark-Toytree\" id=\"t8d1f2775183344d6ad9c88b15fdd494c\"><g class=\"toytree-Edges\" style=\"fill:none;stroke:rgb(14.9%,14.9%,14.9%);stroke-linecap:round;stroke-opacity:1;stroke-width:2\"><path d=\"M 50.0 98.2 L 50.0 67.4 L 128.9 67.4\" id=\"24,23\"></path><path d=\"M 50.0 98.2 L 50.0 128.9 L 128.9 128.9\" id=\"24,22\"></path><path d=\"M 128.9 128.9 L 128.9 105.6 L 142.0 105.6\" id=\"22,21\"></path><path d=\"M 128.9 128.9 L 128.9 152.2 L 152.6 152.2\" id=\"22,20\"></path><path d=\"M 142.0 105.6 L 142.0 92.9 L 152.4 92.9\" id=\"21,19\"></path><path d=\"M 142.0 105.6 L 142.0 118.4 L 183.3 118.4\" id=\"21,18\"></path><path d=\"M 152.6 152.2 L 152.6 167.0 L 157.1 167.0\" id=\"20,17\"></path><path d=\"M 157.1 167.0 L 157.1 183.7 L 160.5 183.7\" id=\"17,16\"></path><path d=\"M 160.5 183.7 L 160.5 169.4 L 170.3 169.4\" id=\"16,15\"></path><path d=\"M 160.5 183.7 L 160.5 198.1 L 163.8 198.1\" id=\"16,14\"></path><path d=\"M 163.8 198.1 L 163.8 207.6 L 190.9 207.6\" id=\"14,13\"></path><path d=\"M 128.9 67.4 L 128.9 61.0 L 140.3 61.0\" id=\"23,12\"></path><path d=\"M 128.9 67.4 L 128.9 73.8 L 139.7 73.8\" id=\"23,11\"></path><path d=\"M 152.4 92.9 L 152.4 86.5 L 180.3 86.5\" id=\"19,10\"></path><path d=\"M 152.4 92.9 L 152.4 99.3 L 181.9 99.3\" id=\"19,9\"></path><path d=\"M 183.3 118.4 L 183.3 112.0 L 183.7 112.0\" id=\"18,8\"></path><path d=\"M 183.3 118.4 L 183.3 124.8 L 183.6 124.8\" id=\"18,7\"></path><path d=\"M 152.6 152.2 L 152.6 137.5 L 177.4 137.5\" id=\"20,6\"></path><path d=\"M 157.1 167.0 L 157.1 150.2 L 185.8 150.2\" id=\"17,5\"></path><path d=\"M 170.3 169.4 L 170.3 163.0 L 185.1 163.0\" id=\"15,4\"></path><path d=\"M 170.3 169.4 L 170.3 175.7 L 185.3 175.7\" id=\"15,3\"></path><path d=\"M 163.8 198.1 L 163.8 188.5 L 189.3 188.5\" id=\"14,2\"></path><path d=\"M 190.9 207.6 L 190.9 201.2 L 195.2 201.2\" id=\"13,1\"></path><path d=\"M 190.9 207.6 L 190.9 214.0 L 195.7 214.0\" id=\"13,0\"></path></g><g class=\"toytree-Nodes\" style=\"fill:rgb(40%,76.1%,64.7%);fill-opacity:1.0;stroke:None;stroke-width:1\"><g id=\"node-0\" transform=\"translate(195.742,213.986)\"><circle r=\"0.0\"></circle></g><g id=\"node-1\" transform=\"translate(195.170,201.238)\"><circle r=\"0.0\"></circle></g><g id=\"node-2\" transform=\"translate(189.313,188.491)\"><circle r=\"0.0\"></circle></g><g id=\"node-3\" transform=\"translate(185.292,175.743)\"><circle r=\"0.0\"></circle></g><g id=\"node-4\" transform=\"translate(185.092,162.995)\"><circle r=\"0.0\"></circle></g><g id=\"node-5\" transform=\"translate(185.816,150.248)\"><circle r=\"0.0\"></circle></g><g id=\"node-6\" transform=\"translate(177.408,137.500)\"><circle r=\"0.0\"></circle></g><g id=\"node-7\" transform=\"translate(183.557,124.752)\"><circle r=\"0.0\"></circle></g><g id=\"node-8\" transform=\"translate(183.715,112.005)\"><circle r=\"0.0\"></circle></g><g id=\"node-9\" transform=\"translate(181.870,99.257)\"><circle r=\"0.0\"></circle></g><g id=\"node-10\" transform=\"translate(180.300,86.509)\"><circle r=\"0.0\"></circle></g><g id=\"node-11\" transform=\"translate(139.730,73.762)\"><circle r=\"0.0\"></circle></g><g id=\"node-12\" transform=\"translate(140.267,61.014)\"><circle r=\"0.0\"></circle></g><g id=\"node-13\" transform=\"translate(190.940,207.612)\"><circle r=\"7.5\"></circle></g><g id=\"node-14\" transform=\"translate(163.789,198.051)\"><circle r=\"7.5\"></circle></g><g id=\"node-15\" transform=\"translate(170.345,169.369)\"><circle r=\"7.5\"></circle></g><g id=\"node-16\" transform=\"translate(160.540,183.710)\"><circle r=\"7.5\"></circle></g><g id=\"node-17\" transform=\"translate(157.096,166.979)\"><circle r=\"7.5\"></circle></g><g id=\"node-18\" transform=\"translate(183.325,118.378)\"><circle r=\"7.5\"></circle></g><g id=\"node-19\" transform=\"translate(152.414,92.883)\"><circle r=\"7.5\"></circle></g><g id=\"node-20\" transform=\"translate(152.551,152.239)\"><circle r=\"7.5\"></circle></g><g id=\"node-21\" transform=\"translate(141.950,105.631)\"><circle r=\"7.5\"></circle></g><g id=\"node-22\" transform=\"translate(128.865,128.935)\"><circle r=\"7.5\"></circle></g><g id=\"node-23\" transform=\"translate(128.865,67.388)\"><circle r=\"7.5\"></circle></g><g id=\"node-24\" transform=\"translate(50.000,98.161)\"><circle r=\"0.0\"></circle></g></g><g class=\"toytree-NodeLabels\" style=\"fill:rgb(14.9%,14.9%,14.9%);fill-opacity:1.0;font-size:9px;stroke:none\"><g transform=\"translate(185.94,209.91)\"><text>13</text></g><g transform=\"translate(158.79,200.35)\"><text>14</text></g><g transform=\"translate(165.34,171.67)\"><text>15</text></g><g transform=\"translate(155.54,186.01)\"><text>16</text></g><g transform=\"translate(152.09,169.28)\"><text>17</text></g><g transform=\"translate(178.32,120.68)\"><text>18</text></g><g transform=\"translate(147.41,95.18)\"><text>19</text></g><g transform=\"translate(147.55,154.54)\"><text>20</text></g><g transform=\"translate(136.95,107.93)\"><text>21</text></g><g transform=\"translate(123.86,131.23)\"><text>22</text></g><g transform=\"translate(123.86,69.69)\"><text>23</text></g></g><g class=\"toytree-TipLabels\" style=\"fill:rgb(14.9%,14.9%,14.9%);fill-opacity:1.0;font-family:helvetica;font-size:11px;font-weight:normal;stroke:none;white-space:pre\"><g transform=\"translate(195.74,213.99)rotate(0)\"><text style=\"\" x=\"15.00\" y=\"2.81\">38362_rex</text></g><g transform=\"translate(195.17,201.24)rotate(0)\"><text style=\"\" x=\"15.00\" y=\"2.81\">39618_rex</text></g><g transform=\"translate(189.31,188.49)rotate(0)\"><text style=\"\" x=\"15.00\" y=\"2.81\">35236_rex</text></g><g transform=\"translate(185.29,175.74)rotate(0)\"><text style=\"\" x=\"15.00\" y=\"2.81\">35855_rex</text></g><g transform=\"translate(185.09,163.00)rotate(0)\"><text style=\"\" x=\"15.00\" y=\"2.81\">40578_rex</text></g><g transform=\"translate(185.82,150.25)rotate(0)\"><text style=\"\" x=\"15.00\" y=\"2.81\">30556_thamno</text></g><g transform=\"translate(177.41,137.50)rotate(0)\"><text style=\"\" x=\"15.00\" y=\"2.81\">33413_thamno</text></g><g transform=\"translate(183.56,124.75)rotate(0)\"><text style=\"\" x=\"15.00\" y=\"2.81\">41478_cyathophylloides</text></g><g transform=\"translate(183.72,112.00)rotate(0)\"><text style=\"\" x=\"15.00\" y=\"2.81\">41954_cyathophylloides</text></g><g transform=\"translate(181.87,99.26)rotate(0)\"><text style=\"\" x=\"15.00\" y=\"2.81\">30686_cyathophylla</text></g><g transform=\"translate(180.30,86.51)rotate(0)\"><text style=\"\" x=\"15.00\" y=\"2.81\">29154_superba</text></g><g transform=\"translate(139.73,73.76)rotate(0)\"><text style=\"\" x=\"15.00\" y=\"2.81\">33588_przewalskii</text></g><g transform=\"translate(140.27,61.01)rotate(0)\"><text style=\"\" x=\"15.00\" y=\"2.81\">32082_przewalskii</text></g></g></g></g></g></svg><div class=\"toyplot-behavior\"><script>(function()\n",
       "{\n",
       "var modules={};\n",
       "})();</script></div></div>"
      ]
     },
     "metadata": {},
     "output_type": "display_data"
    }
   ],
   "source": [
    "# three ways to do the same re-rooting\n",
    "rtre = tre.root(names=[\"32082_przewalskii\", \"33588_przewalskii\"])\n",
    "rtre = tre.root(wildcard=\"prz\")\n",
    "rtre = tre.root(regex=\"[0-9]*_przewalskii\")\n",
    "\n",
    "# draw the rooted tree\n",
    "rtre.draw(node_labels='idx', node_sizes=15);"
   ]
  },
  {
   "cell_type": "markdown",
   "metadata": {},
   "source": [
    "There is also a function `.unroot()` to remove the root node from trees. This creates a polytomy at the root. Technically there still exists a point on the treenode structure that we refer to as the root, but it does not appear in drawings."
   ]
  },
  {
   "cell_type": "code",
   "execution_count": 32,
   "metadata": {},
   "outputs": [
    {
     "data": {
      "text/html": [
       "<div class=\"toyplot\" id=\"tbb35f05b9a7643f68ecb245d16410dbe\" style=\"text-align:center\"><svg class=\"toyplot-canvas-Canvas\" height=\"275.0px\" id=\"td731a8ddec604784bcb6e40ccb05e4c4\" preserveAspectRatio=\"xMidYMid meet\" style=\"background-color:transparent;border-color:#292724;border-style:none;border-width:1.0;fill:rgb(16.1%,15.3%,14.1%);fill-opacity:1.0;font-family:Helvetica;font-size:12px;opacity:1.0;stroke:rgb(16.1%,15.3%,14.1%);stroke-opacity:1.0;stroke-width:1.0\" viewBox=\"0 0 360.0 275.0\" width=\"360.0px\" xmlns=\"http://www.w3.org/2000/svg\" xmlns:toyplot=\"http://www.sandia.gov/toyplot\" xmlns:xlink=\"http://www.w3.org/1999/xlink\"><g class=\"toyplot-coordinates-Cartesian\" id=\"t1d6c140541a84c9b977e8d235244d65d\"><clipPath id=\"t861ebfb990e94fdca56718da4e16392d\"><rect height=\"215.0\" width=\"300.0\" x=\"30.0\" y=\"30.0\"></rect></clipPath><g clip-path=\"url(#t861ebfb990e94fdca56718da4e16392d)\"><g class=\"toytree-mark-Toytree\" id=\"t617b09de234b4622bc19cbac3f87e32b\"><g class=\"toytree-Edges\" style=\"fill:none;stroke:rgb(14.9%,14.9%,14.9%);stroke-linecap:round;stroke-opacity:1;stroke-width:2\"><path d=\"M 51.1 87.9 L 51.1 128.9 L 129.6 128.9\" id=\"23,22\"></path><path d=\"M 129.6 128.9 L 129.6 105.6 L 142.7 105.6\" id=\"22,21\"></path><path d=\"M 129.6 128.9 L 129.6 152.2 L 153.2 152.2\" id=\"22,20\"></path><path d=\"M 142.7 105.6 L 142.7 92.9 L 153.1 92.9\" id=\"21,19\"></path><path d=\"M 142.7 105.6 L 142.7 118.4 L 183.9 118.4\" id=\"21,18\"></path><path d=\"M 153.2 152.2 L 153.2 167.0 L 157.8 167.0\" id=\"20,17\"></path><path d=\"M 157.8 167.0 L 157.8 183.7 L 161.2 183.7\" id=\"17,16\"></path><path d=\"M 161.2 183.7 L 161.2 169.4 L 170.9 169.4\" id=\"16,15\"></path><path d=\"M 161.2 183.7 L 161.2 198.1 L 164.4 198.1\" id=\"16,14\"></path><path d=\"M 164.4 198.1 L 164.4 207.6 L 191.5 207.6\" id=\"14,13\"></path><path d=\"M 51.1 87.9 L 51.1 61.0 L 62.5 61.0\" id=\"23,12\"></path><path d=\"M 51.1 87.9 L 51.1 73.8 L 61.9 73.8\" id=\"23,11\"></path><path d=\"M 153.1 92.9 L 153.1 86.5 L 180.9 86.5\" id=\"19,10\"></path><path d=\"M 153.1 92.9 L 153.1 99.3 L 182.4 99.3\" id=\"19,9\"></path><path d=\"M 183.9 118.4 L 183.9 112.0 L 184.3 112.0\" id=\"18,8\"></path><path d=\"M 183.9 118.4 L 183.9 124.8 L 184.1 124.8\" id=\"18,7\"></path><path d=\"M 153.2 152.2 L 153.2 137.5 L 178.0 137.5\" id=\"20,6\"></path><path d=\"M 157.8 167.0 L 157.8 150.2 L 186.3 150.2\" id=\"17,5\"></path><path d=\"M 170.9 169.4 L 170.9 163.0 L 185.6 163.0\" id=\"15,4\"></path><path d=\"M 170.9 169.4 L 170.9 175.7 L 185.8 175.7\" id=\"15,3\"></path><path d=\"M 164.4 198.1 L 164.4 188.5 L 189.8 188.5\" id=\"14,2\"></path><path d=\"M 191.5 207.6 L 191.5 201.2 L 195.7 201.2\" id=\"13,1\"></path><path d=\"M 191.5 207.6 L 191.5 214.0 L 196.2 214.0\" id=\"13,0\"></path></g><g class=\"toytree-TipLabels\" style=\"fill:rgb(14.9%,14.9%,14.9%);fill-opacity:1.0;font-family:helvetica;font-size:11px;font-weight:normal;stroke:none;white-space:pre\"><g transform=\"translate(196.23,213.99)rotate(0)\"><text style=\"\" x=\"15.00\" y=\"2.81\">38362_rex</text></g><g transform=\"translate(195.66,201.24)rotate(0)\"><text style=\"\" x=\"15.00\" y=\"2.81\">39618_rex</text></g><g transform=\"translate(189.83,188.49)rotate(0)\"><text style=\"\" x=\"15.00\" y=\"2.81\">35236_rex</text></g><g transform=\"translate(185.83,175.74)rotate(0)\"><text style=\"\" x=\"15.00\" y=\"2.81\">35855_rex</text></g><g transform=\"translate(185.63,163.00)rotate(0)\"><text style=\"\" x=\"15.00\" y=\"2.81\">40578_rex</text></g><g transform=\"translate(186.35,150.25)rotate(0)\"><text style=\"\" x=\"15.00\" y=\"2.81\">30556_thamno</text></g><g transform=\"translate(177.98,137.50)rotate(0)\"><text style=\"\" x=\"15.00\" y=\"2.81\">33413_thamno</text></g><g transform=\"translate(184.10,124.75)rotate(0)\"><text style=\"\" x=\"15.00\" y=\"2.81\">41478_cyathophylloides</text></g><g transform=\"translate(184.26,112.00)rotate(0)\"><text style=\"\" x=\"15.00\" y=\"2.81\">41954_cyathophylloides</text></g><g transform=\"translate(182.42,99.26)rotate(0)\"><text style=\"\" x=\"15.00\" y=\"2.81\">30686_cyathophylla</text></g><g transform=\"translate(180.86,86.51)rotate(0)\"><text style=\"\" x=\"15.00\" y=\"2.81\">29154_superba</text></g><g transform=\"translate(61.94,73.76)rotate(0)\"><text style=\"\" x=\"15.00\" y=\"2.81\">33588_przewalskii</text></g><g transform=\"translate(62.47,61.01)rotate(0)\"><text style=\"\" x=\"15.00\" y=\"2.81\">32082_przewalskii</text></g></g></g></g></g></svg><div class=\"toyplot-behavior\"><script>(function()\n",
       "{\n",
       "var modules={};\n",
       "})();</script></div></div>"
      ]
     },
     "metadata": {},
     "output_type": "display_data"
    }
   ],
   "source": [
    "# an unrooted tree\n",
    "rtre.unroot().draw();"
   ]
  },
  {
   "cell_type": "markdown",
   "metadata": {},
   "source": [
    "#### Drop tips\n",
    "Dropping tips from a tree retains the structure of the remaining nodes in the tree. Here again you can use fuzzy name matching to select the tips you wish to drop from the tree. In this case the names that are selected with matching do not have to form a monophyletic clade, however, if you select to remove all tips in the tree then it will raise an error. "
   ]
  },
  {
   "cell_type": "code",
   "execution_count": 33,
   "metadata": {},
   "outputs": [
    {
     "data": {
      "text/html": [
       "<div class=\"toyplot\" id=\"t5b1b094180be49ab88d92811229079a8\" style=\"text-align:center\"><svg class=\"toyplot-canvas-Canvas\" height=\"275.0px\" id=\"t939b0050cb9a41579e5a04bc50293335\" preserveAspectRatio=\"xMidYMid meet\" style=\"background-color:transparent;border-color:#292724;border-style:none;border-width:1.0;fill:rgb(16.1%,15.3%,14.1%);fill-opacity:1.0;font-family:Helvetica;font-size:12px;opacity:1.0;stroke:rgb(16.1%,15.3%,14.1%);stroke-opacity:1.0;stroke-width:1.0\" viewBox=\"0 0 335.0 275.0\" width=\"335.0px\" xmlns=\"http://www.w3.org/2000/svg\" xmlns:toyplot=\"http://www.sandia.gov/toyplot\" xmlns:xlink=\"http://www.w3.org/1999/xlink\"><g class=\"toyplot-coordinates-Cartesian\" id=\"t8e73beb05fbd4e1995690c0610c12a82\"><clipPath id=\"t579785f2a39f4d10acfe28d4532ad67a\"><rect height=\"215.0\" width=\"275.0\" x=\"30.0\" y=\"30.0\"></rect></clipPath><g clip-path=\"url(#t579785f2a39f4d10acfe28d4532ad67a)\"><g class=\"toytree-mark-Toytree\" id=\"te168f5216abe432b82c7f568820e7720\"><g class=\"toytree-Edges\" style=\"fill:none;stroke:rgb(14.9%,14.9%,14.9%);stroke-linecap:round;stroke-opacity:1;stroke-width:2\"><path d=\"M 51.3 116.9 L 51.3 69.5 L 134.1 69.5\" id=\"18,17\"></path><path d=\"M 51.3 116.9 L 51.3 164.3 L 134.1 164.3\" id=\"18,16\"></path><path d=\"M 134.1 164.3 L 134.1 114.7 L 158.9 114.7\" id=\"16,15\"></path><path d=\"M 158.9 114.7 L 158.9 134.3 L 163.7 134.3\" id=\"15,14\"></path><path d=\"M 163.7 134.3 L 163.7 156.6 L 167.3 156.6\" id=\"14,13\"></path><path d=\"M 167.3 156.6 L 167.3 137.5 L 177.6 137.5\" id=\"13,12\"></path><path d=\"M 167.3 156.6 L 167.3 175.7 L 170.7 175.7\" id=\"13,11\"></path><path d=\"M 170.7 175.7 L 170.7 188.5 L 199.2 188.5\" id=\"11,10\"></path><path d=\"M 134.1 69.5 L 134.1 61.0 L 146.0 61.0\" id=\"17,9\"></path><path d=\"M 134.1 69.5 L 134.1 78.0 L 145.5 78.0\" id=\"17,8\"></path><path d=\"M 158.9 114.7 L 158.9 95.0 L 185.0 95.0\" id=\"15,7\"></path><path d=\"M 163.7 134.3 L 163.7 112.0 L 193.8 112.0\" id=\"14,6\"></path><path d=\"M 177.6 137.5 L 177.6 129.0 L 193.1 129.0\" id=\"12,5\"></path><path d=\"M 177.6 137.5 L 177.6 146.0 L 193.3 146.0\" id=\"12,4\"></path><path d=\"M 170.7 175.7 L 170.7 163.0 L 197.5 163.0\" id=\"11,3\"></path><path d=\"M 199.2 188.5 L 199.2 180.0 L 203.6 180.0\" id=\"10,2\"></path><path d=\"M 199.2 188.5 L 199.2 197.0 L 204.2 197.0\" id=\"10,1\"></path><path d=\"M 134.1 164.3 L 134.1 214.0 L 188.0 214.0\" id=\"16,0\"></path></g><g class=\"toytree-TipLabels\" style=\"fill:rgb(14.9%,14.9%,14.9%);fill-opacity:1.0;font-family:helvetica;font-size:11px;font-weight:normal;stroke:none;white-space:pre\"><g transform=\"translate(188.04,213.99)rotate(0)\"><text style=\"\" x=\"15.00\" y=\"2.81\">29154_superba</text></g><g transform=\"translate(204.24,196.99)rotate(0)\"><text style=\"\" x=\"15.00\" y=\"2.81\">38362_rex</text></g><g transform=\"translate(203.64,179.99)rotate(0)\"><text style=\"\" x=\"15.00\" y=\"2.81\">39618_rex</text></g><g transform=\"translate(197.50,163.00)rotate(0)\"><text style=\"\" x=\"15.00\" y=\"2.81\">35236_rex</text></g><g transform=\"translate(193.28,146.00)rotate(0)\"><text style=\"\" x=\"15.00\" y=\"2.81\">35855_rex</text></g><g transform=\"translate(193.07,129.00)rotate(0)\"><text style=\"\" x=\"15.00\" y=\"2.81\">40578_rex</text></g><g transform=\"translate(193.83,112.00)rotate(0)\"><text style=\"\" x=\"15.00\" y=\"2.81\">30556_thamno</text></g><g transform=\"translate(185.00,95.01)rotate(0)\"><text style=\"\" x=\"15.00\" y=\"2.81\">33413_thamno</text></g><g transform=\"translate(145.46,78.01)rotate(0)\"><text style=\"\" x=\"15.00\" y=\"2.81\">33588_przewalskii</text></g><g transform=\"translate(146.03,61.01)rotate(0)\"><text style=\"\" x=\"15.00\" y=\"2.81\">32082_przewalskii</text></g></g></g></g></g></svg><div class=\"toyplot-behavior\"><script>(function()\n",
       "{\n",
       "var modules={};\n",
       "})();</script></div></div>"
      ]
     },
     "metadata": {},
     "output_type": "display_data"
    }
   ],
   "source": [
    "rtre.drop_tips(wildcard=\"cyatho\").draw();"
   ]
  },
  {
   "cell_type": "markdown",
   "metadata": {},
   "source": [
    "#### Ladderize\n",
    "By default toytrees are ladderized unless you change the tip order in some way, by either entering a fixed_order for tip labels, by dropping tips from the tree, or by rotating nodes. If you want to return a tree to being ladderized you can do so with the `.ladderize()` function. "
   ]
  },
  {
   "cell_type": "code",
   "execution_count": 34,
   "metadata": {},
   "outputs": [
    {
     "data": {
      "text/html": [
       "<div class=\"toyplot\" id=\"t17c6fc9aa6a146d1b582a08930663498\" style=\"text-align:center\"><svg class=\"toyplot-canvas-Canvas\" height=\"275.0px\" id=\"td189e4c9753642e1bfee4e9a3cd5c679\" preserveAspectRatio=\"xMidYMid meet\" style=\"background-color:transparent;border-color:#292724;border-style:none;border-width:1.0;fill:rgb(16.1%,15.3%,14.1%);fill-opacity:1.0;font-family:Helvetica;font-size:12px;opacity:1.0;stroke:rgb(16.1%,15.3%,14.1%);stroke-opacity:1.0;stroke-width:1.0\" viewBox=\"0 0 335.0 275.0\" width=\"335.0px\" xmlns=\"http://www.w3.org/2000/svg\" xmlns:toyplot=\"http://www.sandia.gov/toyplot\" xmlns:xlink=\"http://www.w3.org/1999/xlink\"><g class=\"toyplot-coordinates-Cartesian\" id=\"tda58312970f542ce993c132e78330cce\"><clipPath id=\"tc24142f5b7b946948ade118ed17e1296\"><rect height=\"215.0\" width=\"275.0\" x=\"30.0\" y=\"30.0\"></rect></clipPath><g clip-path=\"url(#tc24142f5b7b946948ade118ed17e1296)\"><g class=\"toytree-mark-Toytree\" id=\"t3fa036d9b4bf4e9b9288f23395f2912d\"><g class=\"toytree-Edges\" style=\"fill:none;stroke:rgb(14.9%,14.9%,14.9%);stroke-linecap:round;stroke-opacity:1;stroke-width:2\"><path d=\"M 51.3 91.4 L 51.3 69.5 L 134.1 69.5\" id=\"18,17\"></path><path d=\"M 51.3 91.4 L 51.3 113.3 L 134.1 113.3\" id=\"18,16\"></path><path d=\"M 134.1 113.3 L 134.1 131.7 L 158.9 131.7\" id=\"16,15\"></path><path d=\"M 158.9 131.7 L 158.9 151.3 L 163.7 151.3\" id=\"15,14\"></path><path d=\"M 163.7 151.3 L 163.7 173.6 L 167.3 173.6\" id=\"14,13\"></path><path d=\"M 167.3 173.6 L 167.3 154.5 L 177.6 154.5\" id=\"13,12\"></path><path d=\"M 167.3 173.6 L 167.3 192.7 L 170.7 192.7\" id=\"13,11\"></path><path d=\"M 170.7 192.7 L 170.7 205.5 L 199.2 205.5\" id=\"11,10\"></path><path d=\"M 134.1 69.5 L 134.1 61.0 L 146.0 61.0\" id=\"17,9\"></path><path d=\"M 134.1 69.5 L 134.1 78.0 L 145.5 78.0\" id=\"17,8\"></path><path d=\"M 134.1 113.3 L 134.1 95.0 L 188.0 95.0\" id=\"16,7\"></path><path d=\"M 158.9 131.7 L 158.9 112.0 L 185.0 112.0\" id=\"15,6\"></path><path d=\"M 163.7 151.3 L 163.7 129.0 L 193.8 129.0\" id=\"14,5\"></path><path d=\"M 177.6 154.5 L 177.6 146.0 L 193.1 146.0\" id=\"12,4\"></path><path d=\"M 177.6 154.5 L 177.6 163.0 L 193.3 163.0\" id=\"12,3\"></path><path d=\"M 170.7 192.7 L 170.7 180.0 L 197.5 180.0\" id=\"11,2\"></path><path d=\"M 199.2 205.5 L 199.2 197.0 L 203.6 197.0\" id=\"10,1\"></path><path d=\"M 199.2 205.5 L 199.2 214.0 L 204.2 214.0\" id=\"10,0\"></path></g><g class=\"toytree-TipLabels\" style=\"fill:rgb(14.9%,14.9%,14.9%);fill-opacity:1.0;font-family:helvetica;font-size:11px;font-weight:normal;stroke:none;white-space:pre\"><g transform=\"translate(204.24,213.99)rotate(0)\"><text style=\"\" x=\"15.00\" y=\"2.81\">38362_rex</text></g><g transform=\"translate(203.64,196.99)rotate(0)\"><text style=\"\" x=\"15.00\" y=\"2.81\">39618_rex</text></g><g transform=\"translate(197.50,179.99)rotate(0)\"><text style=\"\" x=\"15.00\" y=\"2.81\">35236_rex</text></g><g transform=\"translate(193.28,163.00)rotate(0)\"><text style=\"\" x=\"15.00\" y=\"2.81\">35855_rex</text></g><g transform=\"translate(193.07,146.00)rotate(0)\"><text style=\"\" x=\"15.00\" y=\"2.81\">40578_rex</text></g><g transform=\"translate(193.83,129.00)rotate(0)\"><text style=\"\" x=\"15.00\" y=\"2.81\">30556_thamno</text></g><g transform=\"translate(185.00,112.00)rotate(0)\"><text style=\"\" x=\"15.00\" y=\"2.81\">33413_thamno</text></g><g transform=\"translate(188.04,95.01)rotate(0)\"><text style=\"\" x=\"15.00\" y=\"2.81\">29154_superba</text></g><g transform=\"translate(145.46,78.01)rotate(0)\"><text style=\"\" x=\"15.00\" y=\"2.81\">33588_przewalskii</text></g><g transform=\"translate(146.03,61.01)rotate(0)\"><text style=\"\" x=\"15.00\" y=\"2.81\">32082_przewalskii</text></g></g></g></g></g></svg><div class=\"toyplot-behavior\"><script>(function()\n",
       "{\n",
       "var modules={};\n",
       "})();</script></div></div>"
      ]
     },
     "metadata": {},
     "output_type": "display_data"
    }
   ],
   "source": [
    "# dropping tips unladderized the tree, so we re-ladderized it before plotting\n",
    "rtre.drop_tips(wildcard=\"cyatho\").ladderize().draw();"
   ]
  },
  {
   "cell_type": "markdown",
   "metadata": {},
   "source": [
    "#### Rotate nodes \n",
    "Rotating nodes of the tree does not affect the actual tree structure (e.g., the newick structure does not change), it simply affects the order of tips when the tree is drawn. You can rotate nodes by entering tip names as in the previous examples using either names, wildcard, or regex. The names must form a monophyletic clade for one of the descendants of the node you wish to rotate. Rotating nodes for plotting is usually done for some aesthetic reason, such as aligning tips better with geography or trait values plotted on the tips of the tree. "
   ]
  },
  {
   "cell_type": "code",
   "execution_count": 35,
   "metadata": {},
   "outputs": [
    {
     "data": {
      "text/html": [
       "<div class=\"toyplot\" id=\"t4e56ba2b4a974cd3a71b74a7bf8cc9bf\" style=\"text-align:center\"><svg class=\"toyplot-canvas-Canvas\" height=\"275.0px\" id=\"t85640d44bd1149228c1638bedc65cfdc\" preserveAspectRatio=\"xMidYMid meet\" style=\"background-color:transparent;border-color:#292724;border-style:none;border-width:1.0;fill:rgb(16.1%,15.3%,14.1%);fill-opacity:1.0;font-family:Helvetica;font-size:12px;opacity:1.0;stroke:rgb(16.1%,15.3%,14.1%);stroke-opacity:1.0;stroke-width:1.0\" viewBox=\"0 0 360.0 275.0\" width=\"360.0px\" xmlns=\"http://www.w3.org/2000/svg\" xmlns:toyplot=\"http://www.sandia.gov/toyplot\" xmlns:xlink=\"http://www.w3.org/1999/xlink\"><g class=\"toyplot-coordinates-Cartesian\" id=\"tc12fd95360554c80877dfcf72d56f329\"><clipPath id=\"t43c5d6a8d3a44d39be6d6bb1cf002fa2\"><rect height=\"215.0\" width=\"300.0\" x=\"30.0\" y=\"30.0\"></rect></clipPath><g clip-path=\"url(#t43c5d6a8d3a44d39be6d6bb1cf002fa2)\"><g class=\"toytree-mark-Toytree\" id=\"t8d0649cc667d48b2927f707ba8f5d19c\"><g class=\"toytree-Edges\" style=\"fill:none;stroke:rgb(14.9%,14.9%,14.9%);stroke-linecap:round;stroke-opacity:1;stroke-width:2\"><path d=\"M 51.1 98.2 L 51.1 67.4 L 129.6 67.4\" id=\"24,23\"></path><path d=\"M 51.1 98.2 L 51.1 128.9 L 129.6 128.9\" id=\"24,22\"></path><path d=\"M 129.6 128.9 L 129.6 105.6 L 142.7 105.6\" id=\"22,21\"></path><path d=\"M 129.6 128.9 L 129.6 152.2 L 153.2 152.2\" id=\"22,20\"></path><path d=\"M 142.7 105.6 L 142.7 92.9 L 153.1 92.9\" id=\"21,19\"></path><path d=\"M 142.7 105.6 L 142.7 118.4 L 183.9 118.4\" id=\"21,18\"></path><path d=\"M 153.2 152.2 L 153.2 167.0 L 157.8 167.0\" id=\"20,17\"></path><path d=\"M 157.8 167.0 L 157.8 183.7 L 161.2 183.7\" id=\"17,16\"></path><path d=\"M 161.2 183.7 L 161.2 169.4 L 170.9 169.4\" id=\"16,15\"></path><path d=\"M 161.2 183.7 L 161.2 198.1 L 164.4 198.1\" id=\"16,14\"></path><path d=\"M 164.4 198.1 L 164.4 207.6 L 191.5 207.6\" id=\"14,13\"></path><path d=\"M 129.6 67.4 L 129.6 61.0 L 141.0 61.0\" id=\"23,12\"></path><path d=\"M 129.6 67.4 L 129.6 73.8 L 140.5 73.8\" id=\"23,11\"></path><path d=\"M 153.1 92.9 L 153.1 86.5 L 180.9 86.5\" id=\"19,10\"></path><path d=\"M 153.1 92.9 L 153.1 99.3 L 182.4 99.3\" id=\"19,9\"></path><path d=\"M 183.9 118.4 L 183.9 112.0 L 184.3 112.0\" id=\"18,8\"></path><path d=\"M 183.9 118.4 L 183.9 124.8 L 184.1 124.8\" id=\"18,7\"></path><path d=\"M 153.2 152.2 L 153.2 137.5 L 178.0 137.5\" id=\"20,6\"></path><path d=\"M 157.8 167.0 L 157.8 150.2 L 186.3 150.2\" id=\"17,5\"></path><path d=\"M 170.9 169.4 L 170.9 163.0 L 185.6 163.0\" id=\"15,4\"></path><path d=\"M 170.9 169.4 L 170.9 175.7 L 185.8 175.7\" id=\"15,3\"></path><path d=\"M 164.4 198.1 L 164.4 188.5 L 189.8 188.5\" id=\"14,2\"></path><path d=\"M 191.5 207.6 L 191.5 201.2 L 195.7 201.2\" id=\"13,1\"></path><path d=\"M 191.5 207.6 L 191.5 214.0 L 196.2 214.0\" id=\"13,0\"></path></g><g class=\"toytree-TipLabels\" style=\"fill:rgb(14.9%,14.9%,14.9%);fill-opacity:1.0;font-family:helvetica;font-size:11px;font-weight:normal;stroke:none;white-space:pre\"><g transform=\"translate(196.23,213.99)rotate(0)\"><text style=\"\" x=\"15.00\" y=\"2.81\">38362_rex</text></g><g transform=\"translate(195.66,201.24)rotate(0)\"><text style=\"\" x=\"15.00\" y=\"2.81\">39618_rex</text></g><g transform=\"translate(189.83,188.49)rotate(0)\"><text style=\"\" x=\"15.00\" y=\"2.81\">35236_rex</text></g><g transform=\"translate(185.83,175.74)rotate(0)\"><text style=\"\" x=\"15.00\" y=\"2.81\">35855_rex</text></g><g transform=\"translate(185.63,163.00)rotate(0)\"><text style=\"\" x=\"15.00\" y=\"2.81\">40578_rex</text></g><g transform=\"translate(186.35,150.25)rotate(0)\"><text style=\"\" x=\"15.00\" y=\"2.81\">30556_thamno</text></g><g transform=\"translate(177.98,137.50)rotate(0)\"><text style=\"\" x=\"15.00\" y=\"2.81\">33413_thamno</text></g><g transform=\"translate(184.10,124.75)rotate(0)\"><text style=\"\" x=\"15.00\" y=\"2.81\">41478_cyathophylloides</text></g><g transform=\"translate(184.26,112.00)rotate(0)\"><text style=\"\" x=\"15.00\" y=\"2.81\">41954_cyathophylloides</text></g><g transform=\"translate(182.42,99.26)rotate(0)\"><text style=\"\" x=\"15.00\" y=\"2.81\">30686_cyathophylla</text></g><g transform=\"translate(180.86,86.51)rotate(0)\"><text style=\"\" x=\"15.00\" y=\"2.81\">29154_superba</text></g><g transform=\"translate(140.46,73.76)rotate(0)\"><text style=\"\" x=\"15.00\" y=\"2.81\">33588_przewalskii</text></g><g transform=\"translate(141.00,61.01)rotate(0)\"><text style=\"\" x=\"15.00\" y=\"2.81\">32082_przewalskii</text></g></g></g></g></g></svg><div class=\"toyplot-behavior\"><script>(function()\n",
       "{\n",
       "var modules={};\n",
       "})();</script></div></div>"
      ]
     },
     "metadata": {},
     "output_type": "display_data"
    }
   ],
   "source": [
    "rtre.rotate_node(wildcard=\"prz\").draw();"
   ]
  },
  {
   "cell_type": "markdown",
   "metadata": {},
   "source": [
    "#### Resolve polytomy\n",
    "This method should generally not be used much unless needed. The problem is that you usually don't know what to set the branch length to for the new edge when you split a polytomy. If the tree is unrooted then you should use `.root()` instead to root it. If you have a hard polytomy in the tree and need to resolve it then this will resolve all polytomies in the tree. You can change what the default .dist and .support values will be on the new node. "
   ]
  },
  {
   "cell_type": "code",
   "execution_count": 36,
   "metadata": {},
   "outputs": [
    {
     "data": {
      "text/html": [
       "<div class=\"toyplot\" id=\"t8467cf55a1764d628f0d603f1b552e41\" style=\"text-align:center\"><svg class=\"toyplot-canvas-Canvas\" height=\"275.0px\" id=\"t7629a62f855e4fdc85ba0a2b94c64e65\" preserveAspectRatio=\"xMidYMid meet\" style=\"background-color:transparent;border-color:#292724;border-style:none;border-width:1.0;fill:rgb(16.1%,15.3%,14.1%);fill-opacity:1.0;font-family:Helvetica;font-size:12px;opacity:1.0;stroke:rgb(16.1%,15.3%,14.1%);stroke-opacity:1.0;stroke-width:1.0\" viewBox=\"0 0 255.0 275.0\" width=\"255.0px\" xmlns=\"http://www.w3.org/2000/svg\" xmlns:toyplot=\"http://www.sandia.gov/toyplot\" xmlns:xlink=\"http://www.w3.org/1999/xlink\"><g class=\"toyplot-coordinates-Cartesian\" id=\"t2d06986b88264947b4920d04d8a44296\"><clipPath id=\"t08b508a71ea34973ba9e390b414ac43b\"><rect height=\"215.0\" width=\"195.0\" x=\"30.0\" y=\"30.0\"></rect></clipPath><g clip-path=\"url(#t08b508a71ea34973ba9e390b414ac43b)\"><g class=\"toytree-mark-Toytree\" id=\"t1c99d33ecb8140bbaec4b37ea9d6ab4c\"><g class=\"toytree-Edges\" style=\"fill:none;stroke:rgb(14.9%,14.9%,14.9%);stroke-linecap:round;stroke-opacity:1;stroke-width:2\"><path d=\"M 51.8 118.4 L 51.8 175.7 L 99.3 175.7\" id=\"6,5\"></path><path d=\"M 99.3 175.7 L 99.3 137.5 L 146.8 137.5\" id=\"5,4\"></path><path d=\"M 51.8 118.4 L 51.8 61.0 L 99.3 61.0\" id=\"6,3\"></path><path d=\"M 146.8 137.5 L 146.8 112.0 L 194.3 112.0\" id=\"4,2\"></path><path d=\"M 146.8 137.5 L 146.8 163.0 L 194.3 163.0\" id=\"4,1\"></path><path d=\"M 99.3 175.7 L 99.3 214.0 L 146.8 214.0\" id=\"5,0\"></path></g><g class=\"toytree-TipLabels\" style=\"fill:rgb(14.9%,14.9%,14.9%);fill-opacity:1.0;font-family:helvetica;font-size:11px;font-weight:normal;stroke:none;white-space:pre\"><g transform=\"translate(146.79,213.99)rotate(0)\"><text style=\"\" x=\"15.00\" y=\"2.81\">a</text></g><g transform=\"translate(194.27,163.00)rotate(0)\"><text style=\"\" x=\"15.00\" y=\"2.81\">c</text></g><g transform=\"translate(194.27,112.00)rotate(0)\"><text style=\"\" x=\"15.00\" y=\"2.81\">b</text></g><g transform=\"translate(99.32,61.01)rotate(0)\"><text style=\"\" x=\"15.00\" y=\"2.81\">d</text></g></g></g></g></g></svg><div class=\"toyplot-behavior\"><script>(function()\n",
       "{\n",
       "var modules={};\n",
       "})();</script></div></div>"
      ]
     },
     "metadata": {},
     "output_type": "display_data"
    }
   ],
   "source": [
    "toytree.tree(\"((a,b,c),d);\").resolve_polytomy(dist=1.).draw();"
   ]
  },
  {
   "cell_type": "markdown",
   "metadata": {},
   "source": [
    "### Chaining functions and arguments\n",
    "Because the tree modification calls in toytrees always return a copy of the object, you can chain together many of these functions when building a plot. This is especially nice if you are only modifying the tree temporarily for the purpose of plotting (e.g., rotating nodes), and so you don't need to store the intermediate trees. It's kind of analagous to using pipes in bash programming. \n",
    "\n",
    "When chaining many function calls and plotting styles together in toytree code it is best to use good coding practices. In the example below I split each function call and style option over a separate line. This makes the code more readable, and easier to debug, since you can comment out a line at a time to examine its effect without it breaking the rest of the command. The parentheses surrounding the main function calls makes this possible. "
   ]
  },
  {
   "cell_type": "code",
   "execution_count": 37,
   "metadata": {
    "scrolled": false
   },
   "outputs": [
    {
     "data": {
      "text/html": [
       "<div class=\"toyplot\" id=\"te1f7ce075cee4127bd8c2b6ea5433651\" style=\"text-align:center\"><svg class=\"toyplot-canvas-Canvas\" height=\"275.0px\" id=\"t31a32779f1184eceb34f234360192292\" preserveAspectRatio=\"xMidYMid meet\" style=\"background-color:transparent;border-color:#292724;border-style:none;border-width:1.0;fill:rgb(16.1%,15.3%,14.1%);fill-opacity:1.0;font-family:Helvetica;font-size:12px;opacity:1.0;stroke:rgb(16.1%,15.3%,14.1%);stroke-opacity:1.0;stroke-width:1.0\" viewBox=\"0 0 360.0 275.0\" width=\"360.0px\" xmlns=\"http://www.w3.org/2000/svg\" xmlns:toyplot=\"http://www.sandia.gov/toyplot\" xmlns:xlink=\"http://www.w3.org/1999/xlink\"><g class=\"toyplot-coordinates-Cartesian\" id=\"t0823bad7a13f49ffb6fee2498c4f71b7\"><clipPath id=\"t3d7ffc34cc2f433bb49fb44c61c22982\"><rect height=\"215.0\" width=\"300.0\" x=\"30.0\" y=\"30.0\"></rect></clipPath><g clip-path=\"url(#t3d7ffc34cc2f433bb49fb44c61c22982)\"><g class=\"toytree-mark-Toytree\" id=\"t7a8ad57cd52941e0b4c5fe86a4eace1e\"><g class=\"toytree-Edges\" style=\"fill:none;stroke:rgb(90.6%,54.1%,76.5%);stroke-linecap:round;stroke-opacity:1;stroke-width:2\"><path d=\"M 51.1 95.5 L 51.1 68.0 L 129.6 68.0\" id=\"22,21\"></path><path d=\"M 51.1 95.5 L 51.1 122.9 L 129.6 122.9\" id=\"22,20\"></path><path d=\"M 129.6 122.9 L 129.6 99.3 L 142.7 99.3\" id=\"20,19\"></path><path d=\"M 129.6 122.9 L 129.6 146.6 L 153.2 146.6\" id=\"20,18\"></path><path d=\"M 142.7 99.3 L 142.7 109.7 L 183.9 109.7\" id=\"19,17\"></path><path d=\"M 153.2 146.6 L 153.2 162.7 L 157.8 162.7\" id=\"18,16\"></path><path d=\"M 157.8 162.7 L 157.8 181.0 L 161.2 181.0\" id=\"16,15\"></path><path d=\"M 161.2 181.0 L 161.2 165.3 L 170.9 165.3\" id=\"15,14\"></path><path d=\"M 161.2 181.0 L 161.2 196.6 L 164.4 196.6\" id=\"15,13\"></path><path d=\"M 164.4 196.6 L 164.4 207.0 L 191.5 207.0\" id=\"13,12\"></path><path d=\"M 129.6 68.0 L 129.6 61.0 L 141.0 61.0\" id=\"21,11\"></path><path d=\"M 129.6 68.0 L 129.6 74.9 L 140.5 74.9\" id=\"21,10\"></path><path d=\"M 142.7 99.3 L 142.7 88.8 L 182.4 88.8\" id=\"19,9\"></path><path d=\"M 183.9 109.7 L 183.9 102.7 L 184.3 102.7\" id=\"17,8\"></path><path d=\"M 183.9 109.7 L 183.9 116.6 L 184.1 116.6\" id=\"17,7\"></path><path d=\"M 153.2 146.6 L 153.2 130.5 L 178.0 130.5\" id=\"18,6\"></path><path d=\"M 157.8 162.7 L 157.8 144.5 L 186.3 144.5\" id=\"16,5\"></path><path d=\"M 170.9 165.3 L 170.9 158.4 L 185.6 158.4\" id=\"14,4\"></path><path d=\"M 170.9 165.3 L 170.9 172.3 L 185.8 172.3\" id=\"14,3\"></path><path d=\"M 164.4 196.6 L 164.4 186.2 L 189.8 186.2\" id=\"13,2\"></path><path d=\"M 191.5 207.0 L 191.5 200.1 L 195.7 200.1\" id=\"12,1\"></path><path d=\"M 191.5 207.0 L 191.5 214.0 L 196.2 214.0\" id=\"12,0\"></path></g><g class=\"toytree-AlignEdges\" style=\"stroke:rgb(66.3%,66.3%,66.3%);stroke-dasharray:2, 4;stroke-linecap:round;stroke-opacity:1.0;stroke-width:2\"><path d=\"M 196.2 214.0 L 196.2 214.0\"></path><path d=\"M 196.2 200.1 L 195.7 200.1\"></path><path d=\"M 196.2 186.2 L 189.8 186.2\"></path><path d=\"M 196.2 172.3 L 185.8 172.3\"></path><path d=\"M 196.2 158.4 L 185.6 158.4\"></path><path d=\"M 196.2 144.5 L 186.3 144.5\"></path><path d=\"M 196.2 130.5 L 178.0 130.5\"></path><path d=\"M 196.2 116.6 L 184.1 116.6\"></path><path d=\"M 196.2 102.7 L 184.3 102.7\"></path><path d=\"M 196.2 88.8 L 182.4 88.8\"></path><path d=\"M 196.2 74.9 L 140.5 74.9\"></path><path d=\"M 196.2 61.0 L 141.0 61.0\"></path></g><g class=\"toytree-TipLabels\" style=\"fill:rgb(14.9%,14.9%,14.9%);fill-opacity:1.0;font-family:helvetica;font-size:11px;font-weight:normal;stroke:none;white-space:pre\"><g transform=\"translate(196.23,213.99)rotate(0)\"><text style=\"\" x=\"15.00\" y=\"2.81\">38362_rex</text></g><g transform=\"translate(196.23,200.08)rotate(0)\"><text style=\"\" x=\"15.00\" y=\"2.81\">39618_rex</text></g><g transform=\"translate(196.23,186.17)rotate(0)\"><text style=\"\" x=\"15.00\" y=\"2.81\">35236_rex</text></g><g transform=\"translate(196.23,172.27)rotate(0)\"><text style=\"\" x=\"15.00\" y=\"2.81\">35855_rex</text></g><g transform=\"translate(196.23,158.36)rotate(0)\"><text style=\"\" x=\"15.00\" y=\"2.81\">40578_rex</text></g><g transform=\"translate(196.23,144.45)rotate(0)\"><text style=\"\" x=\"15.00\" y=\"2.81\">30556_thamno</text></g><g transform=\"translate(196.23,130.55)rotate(0)\"><text style=\"\" x=\"15.00\" y=\"2.81\">33413_thamno</text></g><g transform=\"translate(196.23,116.64)rotate(0)\"><text style=\"\" x=\"15.00\" y=\"2.81\">41478_cyathophylloides</text></g><g transform=\"translate(196.23,102.73)rotate(0)\"><text style=\"\" x=\"15.00\" y=\"2.81\">41954_cyathophylloides</text></g><g transform=\"translate(196.23,88.83)rotate(0)\"><text style=\"\" x=\"15.00\" y=\"2.81\">30686_cyathophylla</text></g><g transform=\"translate(196.23,74.92)rotate(0)\"><text style=\"\" x=\"15.00\" y=\"2.81\">33588_przewalskii</text></g><g transform=\"translate(196.23,61.01)rotate(0)\"><text style=\"\" x=\"15.00\" y=\"2.81\">32082_przewalskii</text></g></g></g></g></g></svg><div class=\"toyplot-behavior\"><script>(function()\n",
       "{\n",
       "var modules={};\n",
       "})();</script></div></div>"
      ]
     },
     "metadata": {},
     "output_type": "display_data"
    }
   ],
   "source": [
    "# readable style for writing long draw functions\n",
    "canvas, axes, mark = (\n",
    "    tre\n",
    "    .root(wildcard=\"prz\")\n",
    "    .drop_tips(wildcard=\"superba\")\n",
    "    .rotate_node(wildcard=\"30686\")\n",
    "    .draw(\n",
    "        tip_labels_align=True,\n",
    "        edge_style={\n",
    "            \"stroke\": toytree.colors[3],\n",
    "        }\n",
    "    )\n",
    ")"
   ]
  },
  {
   "cell_type": "markdown",
   "metadata": {},
   "source": [
    "### Attributes and functions"
   ]
  },
  {
   "cell_type": "code",
   "execution_count": 38,
   "metadata": {},
   "outputs": [],
   "source": [
    "rtre.get_tip_labels()             # list of labels in node-plot order\n",
    "rtre.get_tip_coordinates()        # array of tip plot coordinates in idx order\n",
    "rtre.get_node_values()            # list in node-plot order\n",
    "rtre.get_node_dict()              # dict mapping idx:name for each tip\n",
    "rtre.get_node_coordinates()       # array of node plot coordinates in idx order\n",
    "rtre.get_edge_values()            # list of edge values in edge plot order\n",
    "rtre.get_edge_values_mapped();    # list of edge values with mapped dict in edge plot order"
   ]
  },
  {
   "cell_type": "code",
   "execution_count": 39,
   "metadata": {},
   "outputs": [],
   "source": [
    "rtre.is_bifurcating()             # boolean\n",
    "rtre.is_rooted();                 # boolean"
   ]
  },
  {
   "cell_type": "code",
   "execution_count": 40,
   "metadata": {},
   "outputs": [],
   "source": [
    "rtre.nnodes                       # number of nodes in the tree\n",
    "rtre.ntips                        # number of tips in the tree\n",
    "rtre.newick                       # the newick representation of the tree\n",
    "rtre.features                     # list of node features that can be accessed \n",
    "rtre.style;                       # dict of plotting style of tree "
   ]
  },
  {
   "cell_type": "markdown",
   "metadata": {},
   "source": [
    "### Saving/writing ToyTrees\n"
   ]
  },
  {
   "cell_type": "code",
   "execution_count": 41,
   "metadata": {},
   "outputs": [
    {
     "data": {
      "text/plain": [
       "'((32082_przewalskii:0.00259326,33588_przewalskii:0.00247134)100:0.0179371,(((29154_superba:0.00634237,30686_cyathophylla:0.00669945)100:0.00237995,(41954_cyathophylloides:8.88803e-05,41478_cyathophylloides:5.28218e-05)100:0.00941021)100:0.00297626,(33413_thamno:0.00565358,(30556_thamno:0.00653218,((40578_rex:0.00335406,35855_rex:0.00339963)100:0.00223,(35236_rex:0.00580525,(39618_rex:0.000962081,38362_rex:0.00109218)100:0.00617527)96:0.0007389)99:0.000783365)100:0.0010338)100:0.00538723)100:0.0179371);'"
      ]
     },
     "execution_count": 41,
     "metadata": {},
     "output_type": "execute_result"
    }
   ],
   "source": [
    "# if no file handle is entered then the newick string is returned\n",
    "rtre.write()"
   ]
  },
  {
   "cell_type": "code",
   "execution_count": 42,
   "metadata": {
    "scrolled": true
   },
   "outputs": [
    {
     "data": {
      "text/plain": [
       "'((32082_przewalskii,33588_przewalskii),(((29154_superba,30686_cyathophylla),(41954_cyathophylloides,41478_cyathophylloides)),(33413_thamno,(30556_thamno,((40578_rex,35855_rex),(35236_rex,(39618_rex,38362_rex)))))));'"
      ]
     },
     "execution_count": 42,
     "metadata": {},
     "output_type": "execute_result"
    }
   ],
   "source": [
    "# the fmt (format) options write different newick formats.\n",
    "rtre.write(tree_format=9)"
   ]
  },
  {
   "cell_type": "code",
   "execution_count": 43,
   "metadata": {},
   "outputs": [],
   "source": [
    "# write to file \n",
    "rtre.write(\"/tmp/mytree.tre\", tree_format=0)"
   ]
  }
 ],
 "metadata": {
  "kernelspec": {
   "display_name": "Python 3",
   "language": "python",
   "name": "python3"
  },
  "language_info": {
   "codemirror_mode": {
    "name": "ipython",
    "version": 3
   },
   "file_extension": ".py",
   "mimetype": "text/x-python",
   "name": "python",
   "nbconvert_exporter": "python",
   "pygments_lexer": "ipython3",
   "version": "3.6.7"
  }
 },
 "nbformat": 4,
 "nbformat_minor": 2
}
