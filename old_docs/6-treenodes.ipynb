{
 "cells": [
  {
   "cell_type": "markdown",
   "metadata": {},
   "source": [
    "## TreeNode objects\n",
    "The `.treenode` attribute of ToyTrees allows users to access the underlying TreeNode structure directly. This is where you can traverse the tree and query the parent/child relationships of nodes. While this is used extensively within the code of toytree, most users will likely not need to interact with TreeNodes in order do most things they want toytree for (i.e., drawing). However, for power users, the TreeNode structure of toytrees provides a lot of additional functionality especially for doing scientific computation and research on trees. The `TreeNode` object in toytree is a modified fork of the TreeNode in ete3. Thus, you can read the very detailed [ete documentation](http://etetoolkit.org) if you want a detailed understanding of the object."
   ]
  },
  {
   "cell_type": "code",
   "execution_count": 1,
   "metadata": {},
   "outputs": [],
   "source": [
    "import toytree\n",
    "import toyplot\n",
    "import numpy as np\n",
    "\n",
    "# generate a random tree\n",
    "tre = toytree.rtree.unittree(ntips=10, seed=12345)"
   ]
  },
  {
   "cell_type": "markdown",
   "metadata": {},
   "source": [
    "TreeNode objects are always nested inside of ToyTree objects, and accessed from ToyTrees. When you use `.treenode` to access a TreeNode from a ToyTree you are actually accessing the top level node of the tree structure, the root. The root TreeNode is connected to every other TreeNode in the tree, and together they describe the tree structure. "
   ]
  },
  {
   "cell_type": "code",
   "execution_count": 2,
   "metadata": {},
   "outputs": [
    {
     "data": {
      "text/plain": [
       "<toytree.TreeNode.TreeNode at 0x7f2b1f711978>"
      ]
     },
     "execution_count": 2,
     "metadata": {},
     "output_type": "execute_result"
    }
   ],
   "source": [
    "# the .treenode attribute of the ToyTree returns its root TreeNode\n",
    "tre.treenode"
   ]
  },
  {
   "cell_type": "code",
   "execution_count": 3,
   "metadata": {},
   "outputs": [
    {
     "data": {
      "text/plain": [
       "{18: <toytree.TreeNode.TreeNode at 0x7f2b1f711978>,\n",
       " 17: <toytree.TreeNode.TreeNode at 0x7f2b1f7e14e0>,\n",
       " 16: <toytree.TreeNode.TreeNode at 0x7f2b2fc31198>,\n",
       " 15: <toytree.TreeNode.TreeNode at 0x7f2b1f71a710>,\n",
       " 14: <toytree.TreeNode.TreeNode at 0x7f2b1f71a278>,\n",
       " 13: <toytree.TreeNode.TreeNode at 0x7f2b1f71ada0>,\n",
       " 12: <toytree.TreeNode.TreeNode at 0x7f2b2fc26ac8>,\n",
       " 11: <toytree.TreeNode.TreeNode at 0x7f2b2fbc7828>,\n",
       " 10: <toytree.TreeNode.TreeNode at 0x7f2b2fbc7898>,\n",
       " 9: <toytree.TreeNode.TreeNode at 0x7f2b2fc2dc18>,\n",
       " 8: <toytree.TreeNode.TreeNode at 0x7f2b1f71ae48>,\n",
       " 7: <toytree.TreeNode.TreeNode at 0x7f2b2fbc78d0>,\n",
       " 6: <toytree.TreeNode.TreeNode at 0x7f2b2fbc7908>,\n",
       " 5: <toytree.TreeNode.TreeNode at 0x7f2b2fbc77f0>,\n",
       " 4: <toytree.TreeNode.TreeNode at 0x7f2b2fbc7940>,\n",
       " 3: <toytree.TreeNode.TreeNode at 0x7f2b2fbc7978>,\n",
       " 2: <toytree.TreeNode.TreeNode at 0x7f2b2fbc7860>,\n",
       " 1: <toytree.TreeNode.TreeNode at 0x7f2b2fbc79b0>,\n",
       " 0: <toytree.TreeNode.TreeNode at 0x7f2b2fbc79e8>}"
      ]
     },
     "execution_count": 3,
     "metadata": {},
     "output_type": "execute_result"
    }
   ],
   "source": [
    "# the .idx_dict of a toytree makes TreeNodes accessible by index\n",
    "tre.idx_dict"
   ]
  },
  {
   "cell_type": "markdown",
   "metadata": {},
   "source": [
    "### Traversing TreeNodes\n",
    "To traverse a tree means to move from node to node to visit every node of the tree. In this case, we move from TreeNode to TreeNode. Depending on your reason for traversing the tree, the order in which nodes are visited may be arbitrary, or, it may actually be very important. For example, if you wish to calculate some new value on a node that depends on the values of its children, then you will want to visit the child nodes before you visit their parents. TreeNodes can be traversed in three ways. Below I print the order that nodes are visited for each. You can see the node index labels plotted on the tree which toytree uses to order nodes for plotting. "
   ]
  },
  {
   "cell_type": "code",
   "execution_count": 4,
   "metadata": {},
   "outputs": [
    {
     "name": "stdout",
     "output_type": "stream",
     "text": [
      "levelorder: [18, 17, 16, 9, 15, 14, 13, 8, 12, 5, 11, 2, 10, 7, 6, 4, 3, 1, 0]\n",
      "preorder:   [18, 17, 9, 15, 8, 12, 7, 6, 16, 14, 5, 11, 4, 3, 13, 2, 10, 1, 0]\n",
      "postorder:  [9, 8, 7, 6, 12, 15, 17, 5, 4, 3, 11, 14, 2, 1, 0, 10, 13, 16, 18]\n"
     ]
    },
    {
     "data": {
      "text/html": [
       "<div class=\"toyplot\" id=\"t2281927f755c415888ef2e8294e5c84f\" style=\"text-align:center\"><svg class=\"toyplot-canvas-Canvas\" height=\"275.0px\" id=\"t744d5ee754654edf97af369e88038015\" preserveAspectRatio=\"xMidYMid meet\" style=\"background-color:transparent;border-color:#292724;border-style:none;border-width:1.0;fill:rgb(16.1%,15.3%,14.1%);fill-opacity:1.0;font-family:Helvetica;font-size:12px;opacity:1.0;stroke:rgb(16.1%,15.3%,14.1%);stroke-opacity:1.0;stroke-width:1.0\" viewBox=\"0 0 260.0 275.0\" width=\"260.0px\" xmlns=\"http://www.w3.org/2000/svg\" xmlns:toyplot=\"http://www.sandia.gov/toyplot\" xmlns:xlink=\"http://www.w3.org/1999/xlink\"><g class=\"toyplot-coordinates-Cartesian\" id=\"t2058ca619c994b77b79526061f939bcb\"><clipPath id=\"tc9def191e2da443e8dd8fe02de7ca5fb\"><rect height=\"215.0\" width=\"200.0\" x=\"30.0\" y=\"30.0\"></rect></clipPath><g clip-path=\"url(#tc9def191e2da443e8dd8fe02de7ca5fb)\"><g class=\"toytree-mark-Toytree\" id=\"t7e117545d6424e86ba888056561d66be\"><g class=\"toytree-Edges\" style=\"fill:none;stroke:rgb(14.9%,14.9%,14.9%);stroke-linecap:round;stroke-opacity:1;stroke-width:2\"><path d=\"M 63.2 122.1 L 63.2 77.9 L 96.0 77.9\" id=\"18,17\"></path><path d=\"M 63.2 122.1 L 63.2 166.3 L 96.0 166.3\" id=\"18,16\"></path><path d=\"M 96.0 77.9 L 96.0 92.3 L 128.9 92.3\" id=\"17,15\"></path><path d=\"M 96.0 166.3 L 96.0 141.6 L 128.9 141.6\" id=\"16,14\"></path><path d=\"M 96.0 166.3 L 96.0 190.9 L 128.9 190.9\" id=\"16,13\"></path><path d=\"M 128.9 92.3 L 128.9 104.6 L 161.8 104.6\" id=\"15,12\"></path><path d=\"M 128.9 141.6 L 128.9 153.9 L 161.8 153.9\" id=\"14,11\"></path><path d=\"M 128.9 190.9 L 128.9 203.3 L 161.8 203.3\" id=\"13,10\"></path><path d=\"M 96.0 77.9 L 96.0 63.5 L 194.7 63.5\" id=\"17,9\"></path><path d=\"M 128.9 92.3 L 128.9 80.0 L 194.7 80.0\" id=\"15,8\"></path><path d=\"M 161.8 104.6 L 161.8 96.4 L 194.7 96.4\" id=\"12,7\"></path><path d=\"M 161.8 104.6 L 161.8 112.8 L 194.7 112.8\" id=\"12,6\"></path><path d=\"M 128.9 141.6 L 128.9 129.3 L 194.7 129.3\" id=\"14,5\"></path><path d=\"M 161.8 153.9 L 161.8 145.7 L 194.7 145.7\" id=\"11,4\"></path><path d=\"M 161.8 153.9 L 161.8 162.2 L 194.7 162.2\" id=\"11,3\"></path><path d=\"M 128.9 190.9 L 128.9 178.6 L 194.7 178.6\" id=\"13,2\"></path><path d=\"M 161.8 203.3 L 161.8 195.0 L 194.7 195.0\" id=\"10,1\"></path><path d=\"M 161.8 203.3 L 161.8 211.5 L 194.7 211.5\" id=\"10,0\"></path></g><g class=\"toytree-Nodes\" style=\"fill:rgb(40%,76.1%,64.7%);fill-opacity:1.0;stroke:None;stroke-width:1\"><g id=\"node-0\" transform=\"translate(194.656,211.473)\"><circle r=\"8.0\"></circle></g><g id=\"node-1\" transform=\"translate(194.656,195.035)\"><circle r=\"8.0\"></circle></g><g id=\"node-2\" transform=\"translate(194.656,178.596)\"><circle r=\"8.0\"></circle></g><g id=\"node-3\" transform=\"translate(194.656,162.158)\"><circle r=\"8.0\"></circle></g><g id=\"node-4\" transform=\"translate(194.656,145.719)\"><circle r=\"8.0\"></circle></g><g id=\"node-5\" transform=\"translate(194.656,129.281)\"><circle r=\"8.0\"></circle></g><g id=\"node-6\" transform=\"translate(194.656,112.842)\"><circle r=\"8.0\"></circle></g><g id=\"node-7\" transform=\"translate(194.656,96.404)\"><circle r=\"8.0\"></circle></g><g id=\"node-8\" transform=\"translate(194.656,79.965)\"><circle r=\"8.0\"></circle></g><g id=\"node-9\" transform=\"translate(194.656,63.527)\"><circle r=\"8.0\"></circle></g><g id=\"node-10\" transform=\"translate(161.779,203.254)\"><circle r=\"8.0\"></circle></g><g id=\"node-11\" transform=\"translate(161.779,153.939)\"><circle r=\"8.0\"></circle></g><g id=\"node-12\" transform=\"translate(161.779,104.623)\"><circle r=\"8.0\"></circle></g><g id=\"node-13\" transform=\"translate(128.903,190.925)\"><circle r=\"8.0\"></circle></g><g id=\"node-14\" transform=\"translate(128.903,141.610)\"><circle r=\"8.0\"></circle></g><g id=\"node-15\" transform=\"translate(128.903,92.294)\"><circle r=\"8.0\"></circle></g><g id=\"node-16\" transform=\"translate(96.027,166.267)\"><circle r=\"8.0\"></circle></g><g id=\"node-17\" transform=\"translate(96.027,77.910)\"><circle r=\"8.0\"></circle></g><g id=\"node-18\" transform=\"translate(63.151,122.089)\"><circle r=\"8.0\"></circle></g></g><g class=\"toytree-NodeLabels\" style=\"fill:rgb(14.9%,14.9%,14.9%);fill-opacity:1.0;font-size:9px;stroke:none\"><g transform=\"translate(192.15,213.77)\"><text>0</text></g><g transform=\"translate(192.15,197.33)\"><text>1</text></g><g transform=\"translate(192.15,180.90)\"><text>2</text></g><g transform=\"translate(192.15,164.46)\"><text>3</text></g><g transform=\"translate(192.15,148.02)\"><text>4</text></g><g transform=\"translate(192.15,131.58)\"><text>5</text></g><g transform=\"translate(192.15,115.14)\"><text>6</text></g><g transform=\"translate(192.15,98.70)\"><text>7</text></g><g transform=\"translate(192.15,82.26)\"><text>8</text></g><g transform=\"translate(192.15,65.83)\"><text>9</text></g><g transform=\"translate(156.78,205.55)\"><text>10</text></g><g transform=\"translate(156.78,156.24)\"><text>11</text></g><g transform=\"translate(156.78,106.92)\"><text>12</text></g><g transform=\"translate(123.90,193.22)\"><text>13</text></g><g transform=\"translate(123.90,143.91)\"><text>14</text></g><g transform=\"translate(123.90,94.59)\"><text>15</text></g><g transform=\"translate(91.02,168.57)\"><text>16</text></g><g transform=\"translate(91.02,80.21)\"><text>17</text></g><g transform=\"translate(58.15,124.39)\"><text>18</text></g></g><g class=\"toytree-TipLabels\" style=\"fill:rgb(14.9%,14.9%,14.9%);fill-opacity:1.0;font-family:helvetica;font-size:11px;font-weight:normal;stroke:none;white-space:pre\"><g transform=\"translate(194.66,211.47)rotate(0)\"><text style=\"\" x=\"15.00\" y=\"2.81\">r0</text></g><g transform=\"translate(194.66,195.03)rotate(0)\"><text style=\"\" x=\"15.00\" y=\"2.81\">r1</text></g><g transform=\"translate(194.66,178.60)rotate(0)\"><text style=\"\" x=\"15.00\" y=\"2.81\">r2</text></g><g transform=\"translate(194.66,162.16)rotate(0)\"><text style=\"\" x=\"15.00\" y=\"2.81\">r3</text></g><g transform=\"translate(194.66,145.72)rotate(0)\"><text style=\"\" x=\"15.00\" y=\"2.81\">r4</text></g><g transform=\"translate(194.66,129.28)rotate(0)\"><text style=\"\" x=\"15.00\" y=\"2.81\">r5</text></g><g transform=\"translate(194.66,112.84)rotate(0)\"><text style=\"\" x=\"15.00\" y=\"2.81\">r6</text></g><g transform=\"translate(194.66,96.40)rotate(0)\"><text style=\"\" x=\"15.00\" y=\"2.81\">r7</text></g><g transform=\"translate(194.66,79.97)rotate(0)\"><text style=\"\" x=\"15.00\" y=\"2.81\">r8</text></g><g transform=\"translate(194.66,63.53)rotate(0)\"><text style=\"\" x=\"15.00\" y=\"2.81\">r9</text></g></g></g></g></g></svg><div class=\"toyplot-behavior\"><script>(function()\n",
       "{\n",
       "var modules={};\n",
       "})();</script></div></div>"
      ]
     },
     "metadata": {},
     "output_type": "display_data"
    }
   ],
   "source": [
    "print('levelorder:', [node.idx for node in tre.treenode.traverse(\"levelorder\")])\n",
    "print('preorder:  ', [node.idx for node in tre.treenode.traverse(\"preorder\")])\n",
    "print('postorder: ', [node.idx for node in tre.treenode.traverse(\"postorder\")])\n",
    "tre.draw(node_labels=True, node_sizes=16);"
   ]
  },
  {
   "cell_type": "markdown",
   "metadata": {},
   "source": [
    "TreeNodes have a large number of attributes and functions available to them which you can explore using tab-completion in a notebook and from the ete3 tutorial. In general, only advanced users will need to access attributes of the TreeNodes directly. For example, it is easier to access node idx and name labels from ToyTrees than from TreeNodes, since ToyTrees will return the values in the order they will be plotted. "
   ]
  },
  {
   "cell_type": "code",
   "execution_count": 5,
   "metadata": {},
   "outputs": [
    {
     "name": "stdout",
     "output_type": "stream",
     "text": [
      "18    18    0     1    \n",
      "17    17    0     0    \n",
      "16    16    0     0    \n",
      "9     r9    1     0    \n",
      "15    15    0     0    \n",
      "14    14    0     0    \n",
      "13    13    0     0    \n",
      "8     r8    1     0    \n",
      "12    12    0     0    \n",
      "5     r5    1     0    \n",
      "11    11    0     0    \n",
      "2     r2    1     0    \n",
      "10    10    0     0    \n",
      "7     r7    1     0    \n",
      "6     r6    1     0    \n",
      "4     r4    1     0    \n",
      "3     r3    1     0    \n",
      "1     r1    1     0    \n",
      "0     r0    1     0    \n"
     ]
    }
   ],
   "source": [
    "# traverse the tree and access node attributes\n",
    "for node in tre.treenode.traverse(strategy=\"levelorder\"):\n",
    "    print(\"{:<5} {:<5} {:<5} {:<5}\".format(\n",
    "        node.idx, node.name, node.is_leaf(), node.is_root()\n",
    "        )\n",
    "    )"
   ]
  },
  {
   "cell_type": "markdown",
   "metadata": {},
   "source": [
    "### Adding features to TreeNodes\n",
    "For the purposes of plotting, there are cases where accessing TreeNode attributes can be particularly powerful. For example, when you want to build a list of values for plotting that are based on the tree structure itself (number of children, edge length, is_root, etc.). You can traverse through the tree and calculate these attributes for each node. \n",
    "\n",
    "When doing so, I have a recommended best practice that once again is intended to help users avoid accidentally plotting values in an incorrect order. This recommended practice is to add new features to the TreeNodes by traversing the tree, but then to retrieve and plot the features from the TreeNodes using ToyTree, since ToyTrees are the objects that organize the coordinates for plotting. "
   ]
  },
  {
   "cell_type": "code",
   "execution_count": 6,
   "metadata": {},
   "outputs": [
    {
     "data": {
      "text/plain": [
       "{'dist', 'height', 'idx', 'name', 'support'}"
      ]
     },
     "execution_count": 6,
     "metadata": {},
     "output_type": "execute_result"
    }
   ],
   "source": [
    "# see available features on a ToyTree \n",
    "tre.features"
   ]
  },
  {
   "cell_type": "markdown",
   "metadata": {},
   "source": [
    "Let's say we wanted to plot a value on each node of a toytree. You can use the toytree function `.set_node_values()` to set a value to each node. This takes the feature name, a dictionary mapping values to idx labels, and optionally a default value that is assigned to all other nodes. You can modify existing features or set new features."
   ]
  },
  {
   "cell_type": "code",
   "execution_count": 18,
   "metadata": {},
   "outputs": [],
   "source": [
    "# set a feature a few nodes with a new name\n",
    "tre = tre.set_node_values(\n",
    "    feature=\"name\", \n",
    "    values={0: 'tip-0', 1: 'tip-1', 2: 'tip-2'},\n",
    ")"
   ]
  },
  {
   "cell_type": "code",
   "execution_count": 19,
   "metadata": {},
   "outputs": [],
   "source": [
    "# set a feature to every node of a random integer in 1-5\n",
    "tre = tre.set_node_values(\n",
    "    feature=\"randomint\", \n",
    "    values={idx: np.random.randint(1, 5) for idx in tre.idx_dict},\n",
    ")"
   ]
  },
  {
   "cell_type": "markdown",
   "metadata": {},
   "source": [
    "Another potentially useful 'feature' to access includes statistics about the tree. For example, we may want to measure the number of extant descendants of each node on a tree. Such things can be measured directly from TreeNode objects. Below I use `get_leaves()` as an example. You can see the ete3 docs for more info on TreeNode functions and attributes. "
   ]
  },
  {
   "cell_type": "code",
   "execution_count": 20,
   "metadata": {},
   "outputs": [],
   "source": [
    "# set a feature to every node for the number of descendants\n",
    "tre = tre.set_node_values(\n",
    "    feature=\"ndesc\", \n",
    "    values={\n",
    "        idx: len(node.get_leaves())\n",
    "        for (idx, node) in tre.idx_dict.items()\n",
    "    }\n",
    ")"
   ]
  },
  {
   "cell_type": "markdown",
   "metadata": {},
   "source": [
    "The `set_node_values()` function of toytrees operates similarly to the loop below which visits each TreeNode of the tree and adds a feature. The `.traverse()` function of treenodes is convenient for accessing all nodes. "
   ]
  },
  {
   "cell_type": "code",
   "execution_count": 21,
   "metadata": {},
   "outputs": [],
   "source": [
    "# add a new feature to every node\n",
    "for node in tre.treenode.traverse():\n",
    "    node.add_feature(\"ndesc\", len(node.get_leaves()))"
   ]
  },
  {
   "cell_type": "markdown",
   "metadata": {},
   "source": [
    "### Modifying features of TreeNodes\n",
    "\n",
    "Note: *Use caution* when modifying features of TreeNode objects because you can easily mess up the data that toytree needs in order to correctly plot trees and orient nodes, and tips, etc. This is why interacting with TreeNode objects directly should be considered an advanced method for toytree users. In contrast to ToyTree functions, which do not modify the tree structure in place, but instead return a copy, modification to TreeNodes do occur in place and therefore effect the current tree. Be aware that if you modify the parent/child relationships in the TreeNode it will change the tree. Similarly, if you change the `.dist` or `.idx` values of nodes it will effect the edge lengths and the order in which nodes are plotted. "
   ]
  },
  {
   "cell_type": "markdown",
   "metadata": {},
   "source": [
    "### Accessing features from ToyTrees\n",
    "The recommended workflow for adding features to TreeNodes and including them in toytree drawings is to use ToyTrees to retrieve the features, since ToyTree ensure the correct order.\n",
    "When you add a new feature to TreeNodes it can then be accessed by ToyTrees just like other default features: \"height\", \"idx\", \"name\", etc. You can use `.get_node_values()` to retrive them in the proper order, and to censor values for the root or tips if wanted. This also  allows you to further build color mappings based on these values, calculate further statistics, etc. "
   ]
  },
  {
   "cell_type": "code",
   "execution_count": 22,
   "metadata": {},
   "outputs": [
    {
     "data": {
      "text/plain": [
       "{'dist', 'height', 'idx', 'name', 'ndesc', 'randomint', 'support'}"
      ]
     },
     "execution_count": 22,
     "metadata": {},
     "output_type": "execute_result"
    }
   ],
   "source": [
    "# ndesc is now an available feature alongside the defaults\n",
    "tre.features"
   ]
  },
  {
   "cell_type": "code",
   "execution_count": 23,
   "metadata": {},
   "outputs": [
    {
     "data": {
      "text/plain": [
       "array([10,  4,  6,  3,  3,  3,  2,  2,  2,  1,  1,  1,  1,  1,  1,  1,  1,\n",
       "        1,  1])"
      ]
     },
     "execution_count": 23,
     "metadata": {},
     "output_type": "execute_result"
    }
   ],
   "source": [
    "# it can be accessed from the ToyTree object using .get_node_values()\n",
    "tre.get_node_values('ndesc', True, True)"
   ]
  },
  {
   "cell_type": "code",
   "execution_count": 24,
   "metadata": {},
   "outputs": [
    {
     "data": {
      "text/html": [
       "<div class=\"toyplot\" id=\"tc376676dcf80438db00f1eb4d09a9ee6\" style=\"text-align:center\"><svg class=\"toyplot-canvas-Canvas\" height=\"275.0px\" id=\"t5857c84a4d234b64b62a4a1ef4bc5d9c\" preserveAspectRatio=\"xMidYMid meet\" style=\"background-color:transparent;border-color:#292724;border-style:none;border-width:1.0;fill:rgb(16.1%,15.3%,14.1%);fill-opacity:1.0;font-family:Helvetica;font-size:12px;opacity:1.0;stroke:rgb(16.1%,15.3%,14.1%);stroke-opacity:1.0;stroke-width:1.0\" viewBox=\"0 0 275.0 275.0\" width=\"275.0px\" xmlns=\"http://www.w3.org/2000/svg\" xmlns:toyplot=\"http://www.sandia.gov/toyplot\" xmlns:xlink=\"http://www.w3.org/1999/xlink\"><g class=\"toyplot-coordinates-Cartesian\" id=\"t8fe720c8f5cf4be4a18f1ab87852aadb\"><clipPath id=\"tae198dc2d19b4cc195c41a15e0b32a7c\"><rect height=\"215.0\" width=\"215.0\" x=\"30.0\" y=\"30.0\"></rect></clipPath><g clip-path=\"url(#tae198dc2d19b4cc195c41a15e0b32a7c)\"><g class=\"toytree-mark-Toytree\" id=\"t8198c5fbbbfe4dc58dbdcaad95149587\"><g class=\"toytree-Edges\" style=\"fill:none;stroke:rgb(14.9%,14.9%,14.9%);stroke-linecap:round;stroke-opacity:1;stroke-width:2\"><path d=\"M 61.4 121.6 L 61.4 75.9 L 94.5 75.9\" id=\"18,17\"></path><path d=\"M 61.4 121.6 L 61.4 167.2 L 94.5 167.2\" id=\"18,16\"></path><path d=\"M 94.5 75.9 L 94.5 90.8 L 127.7 90.8\" id=\"17,15\"></path><path d=\"M 94.5 167.2 L 94.5 141.7 L 127.7 141.7\" id=\"16,14\"></path><path d=\"M 94.5 167.2 L 94.5 192.7 L 127.7 192.7\" id=\"16,13\"></path><path d=\"M 127.7 90.8 L 127.7 103.5 L 160.9 103.5\" id=\"15,12\"></path><path d=\"M 127.7 141.7 L 127.7 154.5 L 160.9 154.5\" id=\"14,11\"></path><path d=\"M 127.7 192.7 L 127.7 205.5 L 160.9 205.5\" id=\"13,10\"></path><path d=\"M 94.5 75.9 L 94.5 61.0 L 194.0 61.0\" id=\"17,9\"></path><path d=\"M 127.7 90.8 L 127.7 78.0 L 194.0 78.0\" id=\"15,8\"></path><path d=\"M 160.9 103.5 L 160.9 95.0 L 194.0 95.0\" id=\"12,7\"></path><path d=\"M 160.9 103.5 L 160.9 112.0 L 194.0 112.0\" id=\"12,6\"></path><path d=\"M 127.7 141.7 L 127.7 129.0 L 194.0 129.0\" id=\"14,5\"></path><path d=\"M 160.9 154.5 L 160.9 146.0 L 194.0 146.0\" id=\"11,4\"></path><path d=\"M 160.9 154.5 L 160.9 163.0 L 194.0 163.0\" id=\"11,3\"></path><path d=\"M 127.7 192.7 L 127.7 180.0 L 194.0 180.0\" id=\"13,2\"></path><path d=\"M 160.9 205.5 L 160.9 197.0 L 194.0 197.0\" id=\"10,1\"></path><path d=\"M 160.9 205.5 L 160.9 214.0 L 194.0 214.0\" id=\"10,0\"></path></g><g class=\"toytree-Nodes\" style=\"fill:rgb(40%,76.1%,64.7%);fill-opacity:1.0;stroke:None;stroke-width:1\"><g id=\"node-0\" transform=\"translate(194.036,213.986)\"><circle r=\"0.0\"></circle></g><g id=\"node-1\" transform=\"translate(194.036,196.989)\"><circle r=\"0.0\"></circle></g><g id=\"node-2\" transform=\"translate(194.036,179.992)\"><circle r=\"0.0\"></circle></g><g id=\"node-3\" transform=\"translate(194.036,162.995)\"><circle r=\"0.0\"></circle></g><g id=\"node-4\" transform=\"translate(194.036,145.998)\"><circle r=\"0.0\"></circle></g><g id=\"node-5\" transform=\"translate(194.036,129.002)\"><circle r=\"0.0\"></circle></g><g id=\"node-6\" transform=\"translate(194.036,112.005)\"><circle r=\"0.0\"></circle></g><g id=\"node-7\" transform=\"translate(194.036,95.008)\"><circle r=\"0.0\"></circle></g><g id=\"node-8\" transform=\"translate(194.036,78.011)\"><circle r=\"0.0\"></circle></g><g id=\"node-9\" transform=\"translate(194.036,61.014)\"><circle r=\"0.0\"></circle></g><g id=\"node-10\" transform=\"translate(160.870,205.488)\"><circle r=\"7.5\"></circle></g><g id=\"node-11\" transform=\"translate(160.870,154.497)\"><circle r=\"7.5\"></circle></g><g id=\"node-12\" transform=\"translate(160.870,103.506)\"><circle r=\"7.5\"></circle></g><g id=\"node-13\" transform=\"translate(127.704,192.740)\"><circle r=\"7.5\"></circle></g><g id=\"node-14\" transform=\"translate(127.704,141.749)\"><circle r=\"7.5\"></circle></g><g id=\"node-15\" transform=\"translate(127.704,90.759)\"><circle r=\"7.5\"></circle></g><g id=\"node-16\" transform=\"translate(94.537,167.245)\"><circle r=\"7.5\"></circle></g><g id=\"node-17\" transform=\"translate(94.537,75.886)\"><circle r=\"7.5\"></circle></g><g id=\"node-18\" transform=\"translate(61.371,121.565)\"><circle r=\"7.5\"></circle></g></g><g class=\"toytree-NodeLabels\" style=\"fill:rgb(14.9%,14.9%,14.9%);fill-opacity:1.0;font-size:9px;stroke:none\"><g transform=\"translate(158.37,207.79)\"><text>2</text></g><g transform=\"translate(158.37,156.80)\"><text>2</text></g><g transform=\"translate(158.37,105.81)\"><text>2</text></g><g transform=\"translate(125.20,195.04)\"><text>3</text></g><g transform=\"translate(125.20,144.05)\"><text>3</text></g><g transform=\"translate(125.20,93.06)\"><text>3</text></g><g transform=\"translate(92.04,169.54)\"><text>6</text></g><g transform=\"translate(92.04,78.19)\"><text>4</text></g><g transform=\"translate(56.37,123.86)\"><text>10</text></g></g><g class=\"toytree-TipLabels\" style=\"fill:rgb(14.9%,14.9%,14.9%);fill-opacity:1.0;font-family:helvetica;font-size:11px;font-weight:normal;stroke:none;white-space:pre\"><g transform=\"translate(194.04,213.99)rotate(0)\"><text style=\"\" x=\"15.00\" y=\"2.81\">tip-0</text></g><g transform=\"translate(194.04,196.99)rotate(0)\"><text style=\"\" x=\"15.00\" y=\"2.81\">tip-1</text></g><g transform=\"translate(194.04,179.99)rotate(0)\"><text style=\"\" x=\"15.00\" y=\"2.81\">tip-2</text></g><g transform=\"translate(194.04,163.00)rotate(0)\"><text style=\"\" x=\"15.00\" y=\"2.81\">r3</text></g><g transform=\"translate(194.04,146.00)rotate(0)\"><text style=\"\" x=\"15.00\" y=\"2.81\">r4</text></g><g transform=\"translate(194.04,129.00)rotate(0)\"><text style=\"\" x=\"15.00\" y=\"2.81\">r5</text></g><g transform=\"translate(194.04,112.00)rotate(0)\"><text style=\"\" x=\"15.00\" y=\"2.81\">r6</text></g><g transform=\"translate(194.04,95.01)rotate(0)\"><text style=\"\" x=\"15.00\" y=\"2.81\">r7</text></g><g transform=\"translate(194.04,78.01)rotate(0)\"><text style=\"\" x=\"15.00\" y=\"2.81\">r8</text></g><g transform=\"translate(194.04,61.01)rotate(0)\"><text style=\"\" x=\"15.00\" y=\"2.81\">r9</text></g></g></g></g></g></svg><div class=\"toyplot-behavior\"><script>(function()\n",
       "{\n",
       "var modules={};\n",
       "})();</script></div></div>"
      ]
     },
     "metadata": {},
     "output_type": "display_data"
    }
   ],
   "source": [
    "# and can be accessed by shortcut using just the feature name to 'node_labels'\n",
    "tre.draw(node_labels=(\"ndesc\", 1, 0), node_sizes=15);"
   ]
  },
  {
   "cell_type": "markdown",
   "metadata": {},
   "source": [
    "Here is another example where color values are stored on TreeNodes and then retrieved from the ToyTree, and then used as draw argument to color nodes based on their TreeNode attribute. The nodes are colored based on whether the TreeNode was True or False for the `.is_leaf()`. We use the default color palette of toytree accessed from `toytree.colors`. "
   ]
  },
  {
   "cell_type": "code",
   "execution_count": 25,
   "metadata": {},
   "outputs": [
    {
     "data": {
      "text/html": [
       "<div class=\"toyplot\" id=\"t0e46eb5864b94be5ab814dfa9efa0fee\" style=\"text-align:center\"><svg class=\"toyplot-canvas-Canvas\" height=\"275.0px\" id=\"t1062a2de9ecd4440a7256aedd3fee93b\" preserveAspectRatio=\"xMidYMid meet\" style=\"background-color:transparent;border-color:#292724;border-style:none;border-width:1.0;fill:rgb(16.1%,15.3%,14.1%);fill-opacity:1.0;font-family:Helvetica;font-size:12px;opacity:1.0;stroke:rgb(16.1%,15.3%,14.1%);stroke-opacity:1.0;stroke-width:1.0\" viewBox=\"0 0 275.0 275.0\" width=\"275.0px\" xmlns=\"http://www.w3.org/2000/svg\" xmlns:toyplot=\"http://www.sandia.gov/toyplot\" xmlns:xlink=\"http://www.w3.org/1999/xlink\"><g class=\"toyplot-coordinates-Cartesian\" id=\"tbba60ec48e8743a084dda57a38d265c7\"><clipPath id=\"tacdfeadb7af44f0899b121c83730547a\"><rect height=\"215.0\" width=\"215.0\" x=\"30.0\" y=\"30.0\"></rect></clipPath><g clip-path=\"url(#tacdfeadb7af44f0899b121c83730547a)\"><g class=\"toytree-mark-Toytree\" id=\"t3b4a1e8b319742608b58ea4a9a53abc2\"><g class=\"toytree-Edges\" style=\"fill:none;stroke:rgb(14.9%,14.9%,14.9%);stroke-linecap:round;stroke-opacity:1;stroke-width:2\"><path d=\"M 61.4 121.9 L 61.4 77.3 L 94.5 77.3\" id=\"18,17\"></path><path d=\"M 61.4 121.9 L 61.4 166.5 L 94.5 166.5\" id=\"18,16\"></path><path d=\"M 94.5 77.3 L 94.5 91.9 L 127.7 91.9\" id=\"17,15\"></path><path d=\"M 94.5 166.5 L 94.5 141.6 L 127.7 141.6\" id=\"16,14\"></path><path d=\"M 94.5 166.5 L 94.5 191.4 L 127.7 191.4\" id=\"16,13\"></path><path d=\"M 127.7 91.9 L 127.7 104.3 L 160.9 104.3\" id=\"15,12\"></path><path d=\"M 127.7 141.6 L 127.7 154.1 L 160.9 154.1\" id=\"14,11\"></path><path d=\"M 127.7 191.4 L 127.7 203.9 L 160.9 203.9\" id=\"13,10\"></path><path d=\"M 94.5 77.3 L 94.5 62.8 L 194.0 62.8\" id=\"17,9\"></path><path d=\"M 127.7 91.9 L 127.7 79.4 L 194.0 79.4\" id=\"15,8\"></path><path d=\"M 160.9 104.3 L 160.9 96.0 L 194.0 96.0\" id=\"12,7\"></path><path d=\"M 160.9 104.3 L 160.9 112.6 L 194.0 112.6\" id=\"12,6\"></path><path d=\"M 127.7 141.6 L 127.7 129.2 L 194.0 129.2\" id=\"14,5\"></path><path d=\"M 160.9 154.1 L 160.9 145.8 L 194.0 145.8\" id=\"11,4\"></path><path d=\"M 160.9 154.1 L 160.9 162.4 L 194.0 162.4\" id=\"11,3\"></path><path d=\"M 127.7 191.4 L 127.7 179.0 L 194.0 179.0\" id=\"13,2\"></path><path d=\"M 160.9 203.9 L 160.9 195.6 L 194.0 195.6\" id=\"10,1\"></path><path d=\"M 160.9 203.9 L 160.9 212.2 L 194.0 212.2\" id=\"10,0\"></path></g><g class=\"toytree-Nodes\" style=\"fill:rgb(40%,76.1%,64.7%);fill-opacity:1.0;stroke:None;stroke-width:1\"><g fill=\"rgb(98.8%,55.3%,38.4%)\" fill-opacity=\"1.0\" id=\"node-0\" transform=\"translate(194.036,212.195)\"><circle r=\"7.5\"></circle></g><g fill=\"rgb(98.8%,55.3%,38.4%)\" fill-opacity=\"1.0\" id=\"node-1\" transform=\"translate(194.036,195.596)\"><circle r=\"7.5\"></circle></g><g fill=\"rgb(98.8%,55.3%,38.4%)\" fill-opacity=\"1.0\" id=\"node-2\" transform=\"translate(194.036,178.997)\"><circle r=\"7.5\"></circle></g><g fill=\"rgb(98.8%,55.3%,38.4%)\" fill-opacity=\"1.0\" id=\"node-3\" transform=\"translate(194.036,162.398)\"><circle r=\"7.5\"></circle></g><g fill=\"rgb(98.8%,55.3%,38.4%)\" fill-opacity=\"1.0\" id=\"node-4\" transform=\"translate(194.036,145.799)\"><circle r=\"7.5\"></circle></g><g fill=\"rgb(98.8%,55.3%,38.4%)\" fill-opacity=\"1.0\" id=\"node-5\" transform=\"translate(194.036,129.201)\"><circle r=\"7.5\"></circle></g><g fill=\"rgb(98.8%,55.3%,38.4%)\" fill-opacity=\"1.0\" id=\"node-6\" transform=\"translate(194.036,112.602)\"><circle r=\"7.5\"></circle></g><g fill=\"rgb(98.8%,55.3%,38.4%)\" fill-opacity=\"1.0\" id=\"node-7\" transform=\"translate(194.036,96.003)\"><circle r=\"7.5\"></circle></g><g fill=\"rgb(98.8%,55.3%,38.4%)\" fill-opacity=\"1.0\" id=\"node-8\" transform=\"translate(194.036,79.404)\"><circle r=\"7.5\"></circle></g><g fill=\"rgb(98.8%,55.3%,38.4%)\" fill-opacity=\"1.0\" id=\"node-9\" transform=\"translate(194.036,62.805)\"><circle r=\"7.5\"></circle></g><g fill=\"rgb(55.3%,62.7%,79.6%)\" fill-opacity=\"1.0\" id=\"node-10\" transform=\"translate(160.870,203.896)\"><circle r=\"7.5\"></circle></g><g fill=\"rgb(55.3%,62.7%,79.6%)\" fill-opacity=\"1.0\" id=\"node-11\" transform=\"translate(160.870,154.099)\"><circle r=\"7.5\"></circle></g><g fill=\"rgb(55.3%,62.7%,79.6%)\" fill-opacity=\"1.0\" id=\"node-12\" transform=\"translate(160.870,104.302)\"><circle r=\"7.5\"></circle></g><g fill=\"rgb(55.3%,62.7%,79.6%)\" fill-opacity=\"1.0\" id=\"node-13\" transform=\"translate(127.704,191.446)\"><circle r=\"7.5\"></circle></g><g fill=\"rgb(55.3%,62.7%,79.6%)\" fill-opacity=\"1.0\" id=\"node-14\" transform=\"translate(127.704,141.650)\"><circle r=\"7.5\"></circle></g><g fill=\"rgb(55.3%,62.7%,79.6%)\" fill-opacity=\"1.0\" id=\"node-15\" transform=\"translate(127.704,91.853)\"><circle r=\"7.5\"></circle></g><g fill=\"rgb(55.3%,62.7%,79.6%)\" fill-opacity=\"1.0\" id=\"node-16\" transform=\"translate(94.537,166.548)\"><circle r=\"7.5\"></circle></g><g fill=\"rgb(55.3%,62.7%,79.6%)\" fill-opacity=\"1.0\" id=\"node-17\" transform=\"translate(94.537,77.329)\"><circle r=\"7.5\"></circle></g><g fill=\"rgb(55.3%,62.7%,79.6%)\" fill-opacity=\"1.0\" id=\"node-18\" transform=\"translate(61.371,121.939)\"><circle r=\"7.5\"></circle></g></g><g class=\"toytree-TipLabels\" style=\"fill:rgb(14.9%,14.9%,14.9%);fill-opacity:1.0;font-family:helvetica;font-size:11px;font-weight:normal;stroke:none;white-space:pre\"><g transform=\"translate(194.04,212.20)rotate(0)\"><text style=\"\" x=\"15.00\" y=\"2.81\">tip-0</text></g><g transform=\"translate(194.04,195.60)rotate(0)\"><text style=\"\" x=\"15.00\" y=\"2.81\">tip-1</text></g><g transform=\"translate(194.04,179.00)rotate(0)\"><text style=\"\" x=\"15.00\" y=\"2.81\">tip-2</text></g><g transform=\"translate(194.04,162.40)rotate(0)\"><text style=\"\" x=\"15.00\" y=\"2.81\">r3</text></g><g transform=\"translate(194.04,145.80)rotate(0)\"><text style=\"\" x=\"15.00\" y=\"2.81\">r4</text></g><g transform=\"translate(194.04,129.20)rotate(0)\"><text style=\"\" x=\"15.00\" y=\"2.81\">r5</text></g><g transform=\"translate(194.04,112.60)rotate(0)\"><text style=\"\" x=\"15.00\" y=\"2.81\">r6</text></g><g transform=\"translate(194.04,96.00)rotate(0)\"><text style=\"\" x=\"15.00\" y=\"2.81\">r7</text></g><g transform=\"translate(194.04,79.40)rotate(0)\"><text style=\"\" x=\"15.00\" y=\"2.81\">r8</text></g><g transform=\"translate(194.04,62.80)rotate(0)\"><text style=\"\" x=\"15.00\" y=\"2.81\">r9</text></g></g></g></g></g></svg><div class=\"toyplot-behavior\"><script>(function()\n",
       "{\n",
       "var modules={};\n",
       "})();</script></div></div>"
      ]
     },
     "metadata": {},
     "output_type": "display_data"
    }
   ],
   "source": [
    "# traverse the tree and modify nodes (add new 'color' feature)\n",
    "for node in tre.treenode.traverse():\n",
    "    if node.is_leaf():\n",
    "        node.add_feature('color', toytree.colors[1])\n",
    "    else:\n",
    "        node.add_feature('color', toytree.colors[2])\n",
    "\n",
    "# store color list with values for tips and root\n",
    "colors = tre.get_node_values('color', show_root=1, show_tips=1)\n",
    "\n",
    "# draw tree with node colors\n",
    "tre.draw(node_labels=False, node_colors=colors, node_sizes=15);"
   ]
  },
  {
   "cell_type": "markdown",
   "metadata": {},
   "source": [
    "Keep in mind that for many lists of attributes you wish to plot on nodes of a tree, or to use for color mapping, such as support values or names you likely will not need to add features to the tree since the features are already available by default. In that case you can get far using just the `get_node_values()` function from ToyTrees. "
   ]
  }
 ],
 "metadata": {
  "kernelspec": {
   "display_name": "Python 3",
   "language": "python",
   "name": "python3"
  },
  "language_info": {
   "codemirror_mode": {
    "name": "ipython",
    "version": 3
   },
   "file_extension": ".py",
   "mimetype": "text/x-python",
   "name": "python",
   "nbconvert_exporter": "python",
   "pygments_lexer": "ipython3",
   "version": "3.6.7"
  }
 },
 "nbformat": 4,
 "nbformat_minor": 2
}
