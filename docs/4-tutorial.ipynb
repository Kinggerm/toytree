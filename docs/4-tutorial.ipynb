{
 "cells": [
  {
   "cell_type": "markdown",
   "metadata": {},
   "source": [
    "# Quick Guide\n",
    "\n",
    "**Toytree** is a Python tree plotting library designed for use inside \n",
    "jupyter notebooks. In fact, this entire tutorial was created using notebooks, and assumes that you are following along in a notebook of your own. To begin, we will import `toytree`, and the plotting library it is built on, `toyplot`, as well as `numpy` for generating some numerical data. "
   ]
  },
  {
   "cell_type": "code",
   "execution_count": 1,
   "metadata": {},
   "outputs": [],
   "source": [
    "import toytree       # a tree plotting library\n",
    "import toyplot       # a general plotting library\n",
    "import numpy as np   # numerical library"
   ]
  },
  {
   "cell_type": "code",
   "execution_count": 2,
   "metadata": {},
   "outputs": [
    {
     "name": "stdout",
     "output_type": "stream",
     "text": [
      "2.0.0\n",
      "0.20.0-dev\n",
      "1.17.3\n"
     ]
    }
   ],
   "source": [
    "print(toytree.__version__)\n",
    "print(toyplot.__version__)\n",
    "print(np.__version__)"
   ]
  },
  {
   "cell_type": "markdown",
   "metadata": {},
   "source": [
    "### Load and draw your first tree\n",
    "The main Class object in toytree is a `ToyTree`, which provides plotting functionality in addition to a number of useful functions and attributes for returning values and statistics about trees. As we'll see below, you can generate a ToyTree object in many ways, but generally it is done by reading in a newick formatted string of text. The example below shows the simplest way to load a ToyTree which is to use the `toytree.tree()` convenience function to parse a file, URL, or string."
   ]
  },
  {
   "cell_type": "code",
   "execution_count": 3,
   "metadata": {},
   "outputs": [],
   "source": [
    "# load a toytree from a newick string at a URL\n",
    "tre = toytree.tree(\"https://eaton-lab.org/data/Cyathophora.tre\")"
   ]
  },
  {
   "cell_type": "code",
   "execution_count": 4,
   "metadata": {},
   "outputs": [
    {
     "data": {
      "text/html": [
       "<div class=\"toyplot\" id=\"tc2a04ef848f4494ea30547e6fc16833d\" style=\"text-align:center\"><svg class=\"toyplot-canvas-Canvas\" height=\"275.0px\" id=\"t3a4de9137b8b470e8be8c2f80c70f069\" preserveAspectRatio=\"xMidYMid meet\" style=\"background-color:transparent;border-color:#292724;border-style:none;border-width:1.0;fill:rgb(16.1%,15.3%,14.1%);fill-opacity:1.0;font-family:Helvetica;font-size:12px;opacity:1.0;stroke:rgb(16.1%,15.3%,14.1%);stroke-opacity:1.0;stroke-width:1.0\" viewBox=\"0 0 360.0 275.0\" width=\"360.0px\" xmlns=\"http://www.w3.org/2000/svg\" xmlns:toyplot=\"http://www.sandia.gov/toyplot\" xmlns:xlink=\"http://www.w3.org/1999/xlink\"><g class=\"toyplot-coordinates-Cartesian\" id=\"td48474ee9ff84251bed54d6c134f7949\"><clipPath id=\"td6254bb38c374e86b15715c1fb4b6afc\"><rect height=\"215.0\" width=\"300.0\" x=\"30.0\" y=\"30.0\"></rect></clipPath><g clip-path=\"url(#td6254bb38c374e86b15715c1fb4b6afc)\"><g class=\"toytree-mark-Toytree\" id=\"tbf8aaaa52de64a02a2cea4d697764027\"><g class=\"toytree-Edges\" style=\"fill:none;stroke:rgb(14.9%,14.9%,14.9%);stroke-linecap:round;stroke-opacity:1;stroke-width:2\"><path d=\"M 51.1 98.2 L 51.1 67.4 L 129.6 67.4\" id=\"24,23\"></path><path d=\"M 51.1 98.2 L 51.1 128.9 L 129.6 128.9\" id=\"24,22\"></path><path d=\"M 129.6 128.9 L 129.6 105.6 L 142.7 105.6\" id=\"22,21\"></path><path d=\"M 129.6 128.9 L 129.6 152.2 L 153.2 152.2\" id=\"22,20\"></path><path d=\"M 142.7 105.6 L 142.7 92.9 L 153.1 92.9\" id=\"21,19\"></path><path d=\"M 142.7 105.6 L 142.7 118.4 L 183.9 118.4\" id=\"21,18\"></path><path d=\"M 153.2 152.2 L 153.2 167.0 L 157.8 167.0\" id=\"20,17\"></path><path d=\"M 157.8 167.0 L 157.8 183.7 L 161.2 183.7\" id=\"17,16\"></path><path d=\"M 161.2 183.7 L 161.2 169.4 L 170.9 169.4\" id=\"16,15\"></path><path d=\"M 161.2 183.7 L 161.2 198.1 L 164.4 198.1\" id=\"16,14\"></path><path d=\"M 164.4 198.1 L 164.4 207.6 L 191.5 207.6\" id=\"14,13\"></path><path d=\"M 129.6 67.4 L 129.6 61.0 L 141.0 61.0\" id=\"23,12\"></path><path d=\"M 129.6 67.4 L 129.6 73.8 L 140.5 73.8\" id=\"23,11\"></path><path d=\"M 153.1 92.9 L 153.1 86.5 L 180.9 86.5\" id=\"19,10\"></path><path d=\"M 153.1 92.9 L 153.1 99.3 L 182.4 99.3\" id=\"19,9\"></path><path d=\"M 183.9 118.4 L 183.9 112.0 L 184.3 112.0\" id=\"18,8\"></path><path d=\"M 183.9 118.4 L 183.9 124.8 L 184.1 124.8\" id=\"18,7\"></path><path d=\"M 153.2 152.2 L 153.2 137.5 L 178.0 137.5\" id=\"20,6\"></path><path d=\"M 157.8 167.0 L 157.8 150.2 L 186.3 150.2\" id=\"17,5\"></path><path d=\"M 170.9 169.4 L 170.9 163.0 L 185.6 163.0\" id=\"15,4\"></path><path d=\"M 170.9 169.4 L 170.9 175.7 L 185.8 175.7\" id=\"15,3\"></path><path d=\"M 164.4 198.1 L 164.4 188.5 L 189.8 188.5\" id=\"14,2\"></path><path d=\"M 191.5 207.6 L 191.5 201.2 L 195.7 201.2\" id=\"13,1\"></path><path d=\"M 191.5 207.6 L 191.5 214.0 L 196.2 214.0\" id=\"13,0\"></path></g><g class=\"toytree-AlignEdges\" style=\"stroke:rgb(66.3%,66.3%,66.3%);stroke-dasharray:2, 4;stroke-linecap:round;stroke-opacity:1.0;stroke-width:2\"><path d=\"M 196.2 214.0 L 196.2 214.0\"></path><path d=\"M 196.2 201.2 L 195.7 201.2\"></path><path d=\"M 196.2 188.5 L 189.8 188.5\"></path><path d=\"M 196.2 175.7 L 185.8 175.7\"></path><path d=\"M 196.2 163.0 L 185.6 163.0\"></path><path d=\"M 196.2 150.2 L 186.3 150.2\"></path><path d=\"M 196.2 137.5 L 178.0 137.5\"></path><path d=\"M 196.2 124.8 L 184.1 124.8\"></path><path d=\"M 196.2 112.0 L 184.3 112.0\"></path><path d=\"M 196.2 99.3 L 182.4 99.3\"></path><path d=\"M 196.2 86.5 L 180.9 86.5\"></path><path d=\"M 196.2 73.8 L 140.5 73.8\"></path><path d=\"M 196.2 61.0 L 141.0 61.0\"></path></g><g class=\"toytree-TipLabels\" style=\"fill:rgb(14.9%,14.9%,14.9%);fill-opacity:1.0;font-family:helvetica;font-size:11px;font-weight:normal;stroke:none;white-space:pre\"><g transform=\"translate(196.23,213.99)rotate(0)\"><text style=\"\" x=\"15.00\" y=\"2.81\">38362_rex</text></g><g transform=\"translate(196.23,201.24)rotate(0)\"><text style=\"\" x=\"15.00\" y=\"2.81\">39618_rex</text></g><g transform=\"translate(196.23,188.49)rotate(0)\"><text style=\"\" x=\"15.00\" y=\"2.81\">35236_rex</text></g><g transform=\"translate(196.23,175.74)rotate(0)\"><text style=\"\" x=\"15.00\" y=\"2.81\">35855_rex</text></g><g transform=\"translate(196.23,163.00)rotate(0)\"><text style=\"\" x=\"15.00\" y=\"2.81\">40578_rex</text></g><g transform=\"translate(196.23,150.25)rotate(0)\"><text style=\"\" x=\"15.00\" y=\"2.81\">30556_thamno</text></g><g transform=\"translate(196.23,137.50)rotate(0)\"><text style=\"\" x=\"15.00\" y=\"2.81\">33413_thamno</text></g><g transform=\"translate(196.23,124.75)rotate(0)\"><text style=\"\" x=\"15.00\" y=\"2.81\">41478_cyathophylloides</text></g><g transform=\"translate(196.23,112.00)rotate(0)\"><text style=\"\" x=\"15.00\" y=\"2.81\">41954_cyathophylloides</text></g><g transform=\"translate(196.23,99.26)rotate(0)\"><text style=\"\" x=\"15.00\" y=\"2.81\">30686_cyathophylla</text></g><g transform=\"translate(196.23,86.51)rotate(0)\"><text style=\"\" x=\"15.00\" y=\"2.81\">29154_superba</text></g><g transform=\"translate(196.23,73.76)rotate(0)\"><text style=\"\" x=\"15.00\" y=\"2.81\">33588_przewalskii</text></g><g transform=\"translate(196.23,61.01)rotate(0)\"><text style=\"\" x=\"15.00\" y=\"2.81\">32082_przewalskii</text></g></g></g></g></g></svg><div class=\"toyplot-behavior\"><script>(function()\n",
       "{\n",
       "var modules={};\n",
       "})();</script></div></div>"
      ]
     },
     "metadata": {},
     "output_type": "display_data"
    }
   ],
   "source": [
    "# root and draw the tree (more details on this coming up...)\n",
    "rtre = tre.root(wildcard=\"prz\")\n",
    "rtre.draw(tip_labels_align=True);"
   ]
  },
  {
   "cell_type": "markdown",
   "metadata": {},
   "source": [
    "### Parsing Newick/Nexus data"
   ]
  },
  {
   "cell_type": "markdown",
   "metadata": {},
   "source": [
    "ToyTrees can be flexibly loaded from a range of text formats. Below are two newick strings in different `tree_formats`. The first has edge lengths and support values, the second has edge-lengths and node-labels. These are two different ways of writing tree data in a serialized format. Format 0 expects the internal node values to be integers or floats to represent support values, format 1 expects internal node values to be strings as node labels. "
   ]
  },
  {
   "cell_type": "code",
   "execution_count": 5,
   "metadata": {},
   "outputs": [],
   "source": [
    "# newick with edge-lengths & support values\n",
    "newick = \"((a:1,b:1)90:3,(c:3,(d:1, e:1)100:2)100:1)100;\"\n",
    "tre0 = toytree.tree(newick, tree_format=0)\n",
    "\n",
    "# newick with edge-lengths & string node-labels\n",
    "newick = \"((a:1,b:1)A:3,(c:3,(d:1, e:1)B:2)C:1)root;\"\n",
    "tre1 = toytree.tree(newick, tree_format=1)"
   ]
  },
  {
   "cell_type": "markdown",
   "metadata": {},
   "source": [
    "To parse either format you can tell toytree the format of the newick string following the [tree parsing formats in ete](http://etetoolkit.org/docs/latest/tutorial/tutorial_trees.html#reading-and-writing-newick-trees). The default option, and most common format is 0. If you don't enter a `tree_format` argument the default format will usually parse it just fine. Toytree can also parse extended newick format (nhx) files, which store additional metadata, as well as mrbayes formatted files (`tree_format=10`) which are a variant of NHX. Any of these formats can be parsed from a NEXUS file automatically. "
   ]
  },
  {
   "cell_type": "code",
   "execution_count": 6,
   "metadata": {},
   "outputs": [],
   "source": [
    "# parse an NHX format string with node supports and names\n",
    "nhx = \"((a:3[&&NHX:name=a:support=100],b:2[&&NHX:name=b:support=100]):4[&&NHX:name=ab:support=60],c:5[&&NHX:name=c:support=100]);\"\n",
    "ntre = toytree.tree(nhx)\n",
    "\n",
    "# parse a mrbayes format file with NHX-like node and edge info\n",
    "mb = \"((a[&prob=100]:0.1[&length=0.1],b[&prob=100]:0.2[&length=0.2])[&prob=90]:0.4[&length=0.4],c[&prob=100]:0.6[&length=0.6]);\"\n",
    "mtre = toytree.tree(mb, tree_format=10)\n",
    "\n",
    "# parse a NEXUS formatted file containing a tree of any supported format\n",
    "nex = \"\"\"\n",
    "#NEXUS \n",
    "begin trees;\n",
    "    translate;\n",
    "           1       apple,\n",
    "           2       blueberry,\n",
    "           3       cantaloupe,\n",
    "           4       durian,\n",
    "           ;\n",
    "    tree tree0 = [&U] ((1,2),(3,4));\n",
    "end;\n",
    "\"\"\"\n",
    "xtre = toytree.tree(nex)"
   ]
  },
  {
   "cell_type": "markdown",
   "metadata": {},
   "source": [
    "### Accessing tree data"
   ]
  },
  {
   "cell_type": "markdown",
   "metadata": {},
   "source": [
    "You can use tab-completion by typing the name of the tree variable (e.g., `rtre` below) followed by a dot and then pressing `<tab>` to see the many attributes of ToyTrees. Below I print a few of them as examples. "
   ]
  },
  {
   "cell_type": "code",
   "execution_count": 7,
   "metadata": {},
   "outputs": [
    {
     "data": {
      "text/plain": [
       "13"
      ]
     },
     "execution_count": 7,
     "metadata": {},
     "output_type": "execute_result"
    }
   ],
   "source": [
    "rtre.ntips"
   ]
  },
  {
   "cell_type": "code",
   "execution_count": 8,
   "metadata": {},
   "outputs": [
    {
     "data": {
      "text/plain": [
       "25"
      ]
     },
     "execution_count": 8,
     "metadata": {},
     "output_type": "execute_result"
    }
   ],
   "source": [
    "rtre.nnodes"
   ]
  },
  {
   "cell_type": "code",
   "execution_count": 9,
   "metadata": {},
   "outputs": [
    {
     "data": {
      "text/plain": [
       "(False, True)"
      ]
     },
     "execution_count": 9,
     "metadata": {},
     "output_type": "execute_result"
    }
   ],
   "source": [
    "tre.is_rooted(), rtre.is_rooted()"
   ]
  },
  {
   "cell_type": "code",
   "execution_count": 10,
   "metadata": {},
   "outputs": [
    {
     "data": {
      "text/plain": [
       "['38362_rex',\n",
       " '39618_rex',\n",
       " '35236_rex',\n",
       " '35855_rex',\n",
       " '40578_rex',\n",
       " '30556_thamno',\n",
       " '33413_thamno',\n",
       " '41478_cyathophylloides',\n",
       " '41954_cyathophylloides',\n",
       " '30686_cyathophylla',\n",
       " '29154_superba',\n",
       " '33588_przewalskii',\n",
       " '32082_przewalskii']"
      ]
     },
     "execution_count": 10,
     "metadata": {},
     "output_type": "execute_result"
    }
   ],
   "source": [
    "rtre.get_tip_labels()"
   ]
  },
  {
   "cell_type": "code",
   "execution_count": 11,
   "metadata": {},
   "outputs": [
    {
     "data": {
      "text/plain": [
       "array([[13,  0],\n",
       "       [13,  1],\n",
       "       [14,  2],\n",
       "       [15,  3],\n",
       "       [15,  4],\n",
       "       [17,  5],\n",
       "       [20,  6],\n",
       "       [18,  7],\n",
       "       [18,  8],\n",
       "       [19,  9],\n",
       "       [19, 10],\n",
       "       [23, 11],\n",
       "       [23, 12],\n",
       "       [14, 13],\n",
       "       [16, 14],\n",
       "       [16, 15],\n",
       "       [17, 16],\n",
       "       [20, 17],\n",
       "       [21, 18],\n",
       "       [21, 19],\n",
       "       [22, 20],\n",
       "       [22, 21],\n",
       "       [24, 22],\n",
       "       [24, 23]])"
      ]
     },
     "execution_count": 11,
     "metadata": {},
     "output_type": "execute_result"
    }
   ],
   "source": [
    "rtre.get_edges()"
   ]
  },
  {
   "cell_type": "markdown",
   "metadata": {},
   "source": [
    "### Tree Classes\n",
    "\n",
    "The main Class objects in toytree exist as a nested hierarchy. The core of any tree is the `TreeNode` object, which stores the tree structure in memory and allows fast traversal over nodes of the tree to describe its structure. This object is wrapped inside of `ToyTree` objects, which provide convenient access to TreeNodes while also providing plotting and tree modification functions. And multiple ToyTrees can be grouped together into `MultiTree` objects, which are useful for iterating over multiple trees, or for generating plots that overlay and compare trees. \n",
    "\n",
    "The underlying TreeNode object of Toytrees will be familiar to users of the [ete3](http://etetoolkit.org/docs/latest/tutorial/tutorial_trees.html) Python library, since it is pretty much a stripped-down forked version of their TreeNode class object. This is useful since ete has great documentation. You can access the TreeNode of any ToyTree using its `.treenode` attribute, like below. Beginner toytree users are unlikely to need to access TreeNode objects directly, and instead will mostly access the tree structure through ToyTree objects."
   ]
  },
  {
   "cell_type": "code",
   "execution_count": 12,
   "metadata": {},
   "outputs": [
    {
     "data": {
      "text/plain": [
       "<toytree.TreeNode.TreeNode at 0x7fa1903b5fd0>"
      ]
     },
     "execution_count": 12,
     "metadata": {},
     "output_type": "execute_result"
    }
   ],
   "source": [
    "# a TreeNode object is contained within every ToyTree at .tree\n",
    "tre.treenode"
   ]
  },
  {
   "cell_type": "code",
   "execution_count": 13,
   "metadata": {},
   "outputs": [
    {
     "data": {
      "text/plain": [
       "<toytree.Toytree.ToyTree at 0x7fa162387160>"
      ]
     },
     "execution_count": 13,
     "metadata": {},
     "output_type": "execute_result"
    }
   ],
   "source": [
    "# a ToyTree object\n",
    "toytree.tree(\"((a, b), c);\")"
   ]
  },
  {
   "cell_type": "code",
   "execution_count": 14,
   "metadata": {},
   "outputs": [
    {
     "data": {
      "text/plain": [
       "<toytree.Multitree.MultiTree at 0x7fa162387b38>"
      ]
     },
     "execution_count": 14,
     "metadata": {},
     "output_type": "execute_result"
    }
   ],
   "source": [
    "# a MultiTree object\n",
    "toytree.mtree([tre, tre, tre])"
   ]
  },
  {
   "cell_type": "markdown",
   "metadata": {},
   "source": [
    "### Drawing trees: basics\n",
    "\n",
    "When you call `.draw()` on a tree it returns **three** objects, a `Canvas`, a `Cartesian` axes object, and a `Mark`. This follows the design principle of the `toyplot` plotting library on which toytree is based. The Canvas describes the plot space, and the Cartesian coordinates define how to project points onto that space. One canvas can have multiple cartesian coordinates, and each cartesian object can have multiple Marks. This will be demonstrated more later.\n",
    "\n",
    "As you will see below, I end many toytree drawing commands with a semicolon (;), this simply hides the printed return statement showing that the Canvas and Cartesian objects were returned. The Canvas will automatically render in the cell below the plot even if you do not save the return Canvas as a variable. Below I do not use a semicolon and so the three returned objects are shown as text (e.g., <toyplot.canvas.Canvas...>), and the plot is displayed. "
   ]
  },
  {
   "cell_type": "code",
   "execution_count": 15,
   "metadata": {},
   "outputs": [
    {
     "data": {
      "text/plain": [
       "(<toyplot.canvas.Canvas at 0x7fa16238eda0>,\n",
       " <toyplot.coordinates.Cartesian at 0x7fa16239d4a8>,\n",
       " <toytree.Render.ToytreeMark at 0x7fa16239dba8>)"
      ]
     },
     "execution_count": 15,
     "metadata": {},
     "output_type": "execute_result"
    },
    {
     "data": {
      "text/html": [
       "<div class=\"toyplot\" id=\"t5fa3cdd79def4d3aa90ed5744fd2f896\" style=\"text-align:center\"><svg class=\"toyplot-canvas-Canvas\" height=\"275.0px\" id=\"t2ca2a18ad16c4a6d868599f1696c387b\" preserveAspectRatio=\"xMidYMid meet\" style=\"background-color:transparent;border-color:#292724;border-style:none;border-width:1.0;fill:rgb(16.1%,15.3%,14.1%);fill-opacity:1.0;font-family:Helvetica;font-size:12px;opacity:1.0;stroke:rgb(16.1%,15.3%,14.1%);stroke-opacity:1.0;stroke-width:1.0\" viewBox=\"0 0 360.0 275.0\" width=\"360.0px\" xmlns=\"http://www.w3.org/2000/svg\" xmlns:toyplot=\"http://www.sandia.gov/toyplot\" xmlns:xlink=\"http://www.w3.org/1999/xlink\"><g class=\"toyplot-coordinates-Cartesian\" id=\"tf08883ccd3a146849602466c27ecbd78\"><clipPath id=\"tdd43b56a7c834859a42d883c1cdc9946\"><rect height=\"215.0\" width=\"300.0\" x=\"30.0\" y=\"30.0\"></rect></clipPath><g clip-path=\"url(#tdd43b56a7c834859a42d883c1cdc9946)\"><g class=\"toytree-mark-Toytree\" id=\"tebc0cf2002f0433582e5d031b28b6a68\"><g class=\"toytree-Edges\" style=\"fill:none;stroke:rgb(14.9%,14.9%,14.9%);stroke-linecap:round;stroke-opacity:1;stroke-width:2\"><path d=\"M 51.1 98.2 L 51.1 67.4 L 129.6 67.4\" id=\"24,23\"></path><path d=\"M 51.1 98.2 L 51.1 128.9 L 129.6 128.9\" id=\"24,22\"></path><path d=\"M 129.6 128.9 L 129.6 105.6 L 142.7 105.6\" id=\"22,21\"></path><path d=\"M 129.6 128.9 L 129.6 152.2 L 153.2 152.2\" id=\"22,20\"></path><path d=\"M 142.7 105.6 L 142.7 92.9 L 153.1 92.9\" id=\"21,19\"></path><path d=\"M 142.7 105.6 L 142.7 118.4 L 183.9 118.4\" id=\"21,18\"></path><path d=\"M 153.2 152.2 L 153.2 167.0 L 157.8 167.0\" id=\"20,17\"></path><path d=\"M 157.8 167.0 L 157.8 183.7 L 161.2 183.7\" id=\"17,16\"></path><path d=\"M 161.2 183.7 L 161.2 169.4 L 170.9 169.4\" id=\"16,15\"></path><path d=\"M 161.2 183.7 L 161.2 198.1 L 164.4 198.1\" id=\"16,14\"></path><path d=\"M 164.4 198.1 L 164.4 207.6 L 191.5 207.6\" id=\"14,13\"></path><path d=\"M 129.6 67.4 L 129.6 61.0 L 141.0 61.0\" id=\"23,12\"></path><path d=\"M 129.6 67.4 L 129.6 73.8 L 140.5 73.8\" id=\"23,11\"></path><path d=\"M 153.1 92.9 L 153.1 86.5 L 180.9 86.5\" id=\"19,10\"></path><path d=\"M 153.1 92.9 L 153.1 99.3 L 182.4 99.3\" id=\"19,9\"></path><path d=\"M 183.9 118.4 L 183.9 112.0 L 184.3 112.0\" id=\"18,8\"></path><path d=\"M 183.9 118.4 L 183.9 124.8 L 184.1 124.8\" id=\"18,7\"></path><path d=\"M 153.2 152.2 L 153.2 137.5 L 178.0 137.5\" id=\"20,6\"></path><path d=\"M 157.8 167.0 L 157.8 150.2 L 186.3 150.2\" id=\"17,5\"></path><path d=\"M 170.9 169.4 L 170.9 163.0 L 185.6 163.0\" id=\"15,4\"></path><path d=\"M 170.9 169.4 L 170.9 175.7 L 185.8 175.7\" id=\"15,3\"></path><path d=\"M 164.4 198.1 L 164.4 188.5 L 189.8 188.5\" id=\"14,2\"></path><path d=\"M 191.5 207.6 L 191.5 201.2 L 195.7 201.2\" id=\"13,1\"></path><path d=\"M 191.5 207.6 L 191.5 214.0 L 196.2 214.0\" id=\"13,0\"></path></g><g class=\"toytree-TipLabels\" style=\"fill:rgb(14.9%,14.9%,14.9%);fill-opacity:1.0;font-family:helvetica;font-size:11px;font-weight:normal;stroke:none;white-space:pre\"><g transform=\"translate(196.23,213.99)rotate(0)\"><text style=\"\" x=\"15.00\" y=\"2.81\">38362_rex</text></g><g transform=\"translate(195.66,201.24)rotate(0)\"><text style=\"\" x=\"15.00\" y=\"2.81\">39618_rex</text></g><g transform=\"translate(189.83,188.49)rotate(0)\"><text style=\"\" x=\"15.00\" y=\"2.81\">35236_rex</text></g><g transform=\"translate(185.83,175.74)rotate(0)\"><text style=\"\" x=\"15.00\" y=\"2.81\">35855_rex</text></g><g transform=\"translate(185.63,163.00)rotate(0)\"><text style=\"\" x=\"15.00\" y=\"2.81\">40578_rex</text></g><g transform=\"translate(186.35,150.25)rotate(0)\"><text style=\"\" x=\"15.00\" y=\"2.81\">30556_thamno</text></g><g transform=\"translate(177.98,137.50)rotate(0)\"><text style=\"\" x=\"15.00\" y=\"2.81\">33413_thamno</text></g><g transform=\"translate(184.10,124.75)rotate(0)\"><text style=\"\" x=\"15.00\" y=\"2.81\">41478_cyathophylloides</text></g><g transform=\"translate(184.26,112.00)rotate(0)\"><text style=\"\" x=\"15.00\" y=\"2.81\">41954_cyathophylloides</text></g><g transform=\"translate(182.42,99.26)rotate(0)\"><text style=\"\" x=\"15.00\" y=\"2.81\">30686_cyathophylla</text></g><g transform=\"translate(180.86,86.51)rotate(0)\"><text style=\"\" x=\"15.00\" y=\"2.81\">29154_superba</text></g><g transform=\"translate(140.46,73.76)rotate(0)\"><text style=\"\" x=\"15.00\" y=\"2.81\">33588_przewalskii</text></g><g transform=\"translate(141.00,61.01)rotate(0)\"><text style=\"\" x=\"15.00\" y=\"2.81\">32082_przewalskii</text></g></g></g></g></g></svg><div class=\"toyplot-behavior\"><script>(function()\n",
       "{\n",
       "var modules={};\n",
       "})();</script></div></div>"
      ]
     },
     "metadata": {},
     "output_type": "display_data"
    }
   ],
   "source": [
    "rtre.draw()"
   ]
  },
  {
   "cell_type": "code",
   "execution_count": 16,
   "metadata": {},
   "outputs": [
    {
     "data": {
      "text/html": [
       "<div class=\"toyplot\" id=\"tb2d1699647014778b9139e518b41d074\" style=\"text-align:center\"><svg class=\"toyplot-canvas-Canvas\" height=\"275.0px\" id=\"tdc0017a38bd442228cb8e2a9884aa769\" preserveAspectRatio=\"xMidYMid meet\" style=\"background-color:transparent;border-color:#292724;border-style:none;border-width:1.0;fill:rgb(16.1%,15.3%,14.1%);fill-opacity:1.0;font-family:Helvetica;font-size:12px;opacity:1.0;stroke:rgb(16.1%,15.3%,14.1%);stroke-opacity:1.0;stroke-width:1.0\" viewBox=\"0 0 360.0 275.0\" width=\"360.0px\" xmlns=\"http://www.w3.org/2000/svg\" xmlns:toyplot=\"http://www.sandia.gov/toyplot\" xmlns:xlink=\"http://www.w3.org/1999/xlink\"><g class=\"toyplot-coordinates-Cartesian\" id=\"t3236a6188a2f442297eb51fac0dc1516\"><clipPath id=\"t1256e91f273b43ae82126405eacbda9f\"><rect height=\"215.0\" width=\"300.0\" x=\"30.0\" y=\"30.0\"></rect></clipPath><g clip-path=\"url(#t1256e91f273b43ae82126405eacbda9f)\"><g class=\"toytree-mark-Toytree\" id=\"tb8ea1a2643a94759ae1e577846dd2732\"><g class=\"toytree-Edges\" style=\"fill:none;stroke:rgb(14.9%,14.9%,14.9%);stroke-linecap:round;stroke-opacity:1;stroke-width:2\"><path d=\"M 51.1 98.2 L 51.1 67.4 L 129.6 67.4\" id=\"24,23\"></path><path d=\"M 51.1 98.2 L 51.1 128.9 L 129.6 128.9\" id=\"24,22\"></path><path d=\"M 129.6 128.9 L 129.6 105.6 L 142.7 105.6\" id=\"22,21\"></path><path d=\"M 129.6 128.9 L 129.6 152.2 L 153.2 152.2\" id=\"22,20\"></path><path d=\"M 142.7 105.6 L 142.7 92.9 L 153.1 92.9\" id=\"21,19\"></path><path d=\"M 142.7 105.6 L 142.7 118.4 L 183.9 118.4\" id=\"21,18\"></path><path d=\"M 153.2 152.2 L 153.2 167.0 L 157.8 167.0\" id=\"20,17\"></path><path d=\"M 157.8 167.0 L 157.8 183.7 L 161.2 183.7\" id=\"17,16\"></path><path d=\"M 161.2 183.7 L 161.2 169.4 L 170.9 169.4\" id=\"16,15\"></path><path d=\"M 161.2 183.7 L 161.2 198.1 L 164.4 198.1\" id=\"16,14\"></path><path d=\"M 164.4 198.1 L 164.4 207.6 L 191.5 207.6\" id=\"14,13\"></path><path d=\"M 129.6 67.4 L 129.6 61.0 L 141.0 61.0\" id=\"23,12\"></path><path d=\"M 129.6 67.4 L 129.6 73.8 L 140.5 73.8\" id=\"23,11\"></path><path d=\"M 153.1 92.9 L 153.1 86.5 L 180.9 86.5\" id=\"19,10\"></path><path d=\"M 153.1 92.9 L 153.1 99.3 L 182.4 99.3\" id=\"19,9\"></path><path d=\"M 183.9 118.4 L 183.9 112.0 L 184.3 112.0\" id=\"18,8\"></path><path d=\"M 183.9 118.4 L 183.9 124.8 L 184.1 124.8\" id=\"18,7\"></path><path d=\"M 153.2 152.2 L 153.2 137.5 L 178.0 137.5\" id=\"20,6\"></path><path d=\"M 157.8 167.0 L 157.8 150.2 L 186.3 150.2\" id=\"17,5\"></path><path d=\"M 170.9 169.4 L 170.9 163.0 L 185.6 163.0\" id=\"15,4\"></path><path d=\"M 170.9 169.4 L 170.9 175.7 L 185.8 175.7\" id=\"15,3\"></path><path d=\"M 164.4 198.1 L 164.4 188.5 L 189.8 188.5\" id=\"14,2\"></path><path d=\"M 191.5 207.6 L 191.5 201.2 L 195.7 201.2\" id=\"13,1\"></path><path d=\"M 191.5 207.6 L 191.5 214.0 L 196.2 214.0\" id=\"13,0\"></path></g><g class=\"toytree-TipLabels\" style=\"fill:rgb(14.9%,14.9%,14.9%);fill-opacity:1.0;font-family:helvetica;font-size:11px;font-weight:normal;stroke:none;white-space:pre\"><g transform=\"translate(196.23,213.99)rotate(0)\"><text style=\"\" x=\"15.00\" y=\"2.81\">38362_rex</text></g><g transform=\"translate(195.66,201.24)rotate(0)\"><text style=\"\" x=\"15.00\" y=\"2.81\">39618_rex</text></g><g transform=\"translate(189.83,188.49)rotate(0)\"><text style=\"\" x=\"15.00\" y=\"2.81\">35236_rex</text></g><g transform=\"translate(185.83,175.74)rotate(0)\"><text style=\"\" x=\"15.00\" y=\"2.81\">35855_rex</text></g><g transform=\"translate(185.63,163.00)rotate(0)\"><text style=\"\" x=\"15.00\" y=\"2.81\">40578_rex</text></g><g transform=\"translate(186.35,150.25)rotate(0)\"><text style=\"\" x=\"15.00\" y=\"2.81\">30556_thamno</text></g><g transform=\"translate(177.98,137.50)rotate(0)\"><text style=\"\" x=\"15.00\" y=\"2.81\">33413_thamno</text></g><g transform=\"translate(184.10,124.75)rotate(0)\"><text style=\"\" x=\"15.00\" y=\"2.81\">41478_cyathophylloides</text></g><g transform=\"translate(184.26,112.00)rotate(0)\"><text style=\"\" x=\"15.00\" y=\"2.81\">41954_cyathophylloides</text></g><g transform=\"translate(182.42,99.26)rotate(0)\"><text style=\"\" x=\"15.00\" y=\"2.81\">30686_cyathophylla</text></g><g transform=\"translate(180.86,86.51)rotate(0)\"><text style=\"\" x=\"15.00\" y=\"2.81\">29154_superba</text></g><g transform=\"translate(140.46,73.76)rotate(0)\"><text style=\"\" x=\"15.00\" y=\"2.81\">33588_przewalskii</text></g><g transform=\"translate(141.00,61.01)rotate(0)\"><text style=\"\" x=\"15.00\" y=\"2.81\">32082_przewalskii</text></g></g></g></g></g></svg><div class=\"toyplot-behavior\"><script>(function()\n",
       "{\n",
       "var modules={};\n",
       "})();</script></div></div>"
      ]
     },
     "metadata": {},
     "output_type": "display_data"
    }
   ],
   "source": [
    "# the semicolon hides the returned text of the Canvas and Cartesian objects\n",
    "rtre.draw();"
   ]
  },
  {
   "cell_type": "code",
   "execution_count": 17,
   "metadata": {},
   "outputs": [
    {
     "data": {
      "text/html": [
       "<div class=\"toyplot\" id=\"tf64de02c27644a64b40040a971e0cdc1\" style=\"text-align:center\"><svg class=\"toyplot-canvas-Canvas\" height=\"275.0px\" id=\"t9be9c3800a9942998f7bae91b5cd4b00\" preserveAspectRatio=\"xMidYMid meet\" style=\"background-color:transparent;border-color:#292724;border-style:none;border-width:1.0;fill:rgb(16.1%,15.3%,14.1%);fill-opacity:1.0;font-family:Helvetica;font-size:12px;opacity:1.0;stroke:rgb(16.1%,15.3%,14.1%);stroke-opacity:1.0;stroke-width:1.0\" viewBox=\"0 0 360.0 275.0\" width=\"360.0px\" xmlns=\"http://www.w3.org/2000/svg\" xmlns:toyplot=\"http://www.sandia.gov/toyplot\" xmlns:xlink=\"http://www.w3.org/1999/xlink\"><g class=\"toyplot-coordinates-Cartesian\" id=\"t431d92478d53471aadfd879f9b416d34\"><clipPath id=\"td9a7d06eaa5345c5a13480a084463019\"><rect height=\"215.0\" width=\"300.0\" x=\"30.0\" y=\"30.0\"></rect></clipPath><g clip-path=\"url(#td9a7d06eaa5345c5a13480a084463019)\"><g class=\"toytree-mark-Toytree\" id=\"t9d1feb2df97047b9ad5d9f8c5968df45\"><g class=\"toytree-Edges\" style=\"fill:none;stroke:rgb(14.9%,14.9%,14.9%);stroke-linecap:round;stroke-opacity:1;stroke-width:2\"><path d=\"M 51.1 98.2 L 51.1 67.4 L 129.6 67.4\" id=\"24,23\"></path><path d=\"M 51.1 98.2 L 51.1 128.9 L 129.6 128.9\" id=\"24,22\"></path><path d=\"M 129.6 128.9 L 129.6 105.6 L 142.7 105.6\" id=\"22,21\"></path><path d=\"M 129.6 128.9 L 129.6 152.2 L 153.2 152.2\" id=\"22,20\"></path><path d=\"M 142.7 105.6 L 142.7 92.9 L 153.1 92.9\" id=\"21,19\"></path><path d=\"M 142.7 105.6 L 142.7 118.4 L 183.9 118.4\" id=\"21,18\"></path><path d=\"M 153.2 152.2 L 153.2 167.0 L 157.8 167.0\" id=\"20,17\"></path><path d=\"M 157.8 167.0 L 157.8 183.7 L 161.2 183.7\" id=\"17,16\"></path><path d=\"M 161.2 183.7 L 161.2 169.4 L 170.9 169.4\" id=\"16,15\"></path><path d=\"M 161.2 183.7 L 161.2 198.1 L 164.4 198.1\" id=\"16,14\"></path><path d=\"M 164.4 198.1 L 164.4 207.6 L 191.5 207.6\" id=\"14,13\"></path><path d=\"M 129.6 67.4 L 129.6 61.0 L 141.0 61.0\" id=\"23,12\"></path><path d=\"M 129.6 67.4 L 129.6 73.8 L 140.5 73.8\" id=\"23,11\"></path><path d=\"M 153.1 92.9 L 153.1 86.5 L 180.9 86.5\" id=\"19,10\"></path><path d=\"M 153.1 92.9 L 153.1 99.3 L 182.4 99.3\" id=\"19,9\"></path><path d=\"M 183.9 118.4 L 183.9 112.0 L 184.3 112.0\" id=\"18,8\"></path><path d=\"M 183.9 118.4 L 183.9 124.8 L 184.1 124.8\" id=\"18,7\"></path><path d=\"M 153.2 152.2 L 153.2 137.5 L 178.0 137.5\" id=\"20,6\"></path><path d=\"M 157.8 167.0 L 157.8 150.2 L 186.3 150.2\" id=\"17,5\"></path><path d=\"M 170.9 169.4 L 170.9 163.0 L 185.6 163.0\" id=\"15,4\"></path><path d=\"M 170.9 169.4 L 170.9 175.7 L 185.8 175.7\" id=\"15,3\"></path><path d=\"M 164.4 198.1 L 164.4 188.5 L 189.8 188.5\" id=\"14,2\"></path><path d=\"M 191.5 207.6 L 191.5 201.2 L 195.7 201.2\" id=\"13,1\"></path><path d=\"M 191.5 207.6 L 191.5 214.0 L 196.2 214.0\" id=\"13,0\"></path></g><g class=\"toytree-TipLabels\" style=\"fill:rgb(14.9%,14.9%,14.9%);fill-opacity:1.0;font-family:helvetica;font-size:11px;font-weight:normal;stroke:none;white-space:pre\"><g transform=\"translate(196.23,213.99)rotate(0)\"><text style=\"\" x=\"15.00\" y=\"2.81\">38362_rex</text></g><g transform=\"translate(195.66,201.24)rotate(0)\"><text style=\"\" x=\"15.00\" y=\"2.81\">39618_rex</text></g><g transform=\"translate(189.83,188.49)rotate(0)\"><text style=\"\" x=\"15.00\" y=\"2.81\">35236_rex</text></g><g transform=\"translate(185.83,175.74)rotate(0)\"><text style=\"\" x=\"15.00\" y=\"2.81\">35855_rex</text></g><g transform=\"translate(185.63,163.00)rotate(0)\"><text style=\"\" x=\"15.00\" y=\"2.81\">40578_rex</text></g><g transform=\"translate(186.35,150.25)rotate(0)\"><text style=\"\" x=\"15.00\" y=\"2.81\">30556_thamno</text></g><g transform=\"translate(177.98,137.50)rotate(0)\"><text style=\"\" x=\"15.00\" y=\"2.81\">33413_thamno</text></g><g transform=\"translate(184.10,124.75)rotate(0)\"><text style=\"\" x=\"15.00\" y=\"2.81\">41478_cyathophylloides</text></g><g transform=\"translate(184.26,112.00)rotate(0)\"><text style=\"\" x=\"15.00\" y=\"2.81\">41954_cyathophylloides</text></g><g transform=\"translate(182.42,99.26)rotate(0)\"><text style=\"\" x=\"15.00\" y=\"2.81\">30686_cyathophylla</text></g><g transform=\"translate(180.86,86.51)rotate(0)\"><text style=\"\" x=\"15.00\" y=\"2.81\">29154_superba</text></g><g transform=\"translate(140.46,73.76)rotate(0)\"><text style=\"\" x=\"15.00\" y=\"2.81\">33588_przewalskii</text></g><g transform=\"translate(141.00,61.01)rotate(0)\"><text style=\"\" x=\"15.00\" y=\"2.81\">32082_przewalskii</text></g></g></g></g></g></svg><div class=\"toyplot-behavior\"><script>(function()\n",
       "{\n",
       "var modules={};\n",
       "})();</script></div></div>"
      ]
     },
     "metadata": {},
     "output_type": "display_data"
    }
   ],
   "source": [
    "# or, we can store them as variables (this allows more editing on them later)\n",
    "canvas, axes, mark = rtre.draw()"
   ]
  },
  {
   "cell_type": "markdown",
   "metadata": {},
   "source": [
    "### Drawing trees: styles\n",
    "There are innumerous ways in which to style ToyTree drawings. We provide a number of pre-built `tree_styles` (normal, dark, coalescent, multitree), but users can also create their own style dictionaries that can be easily reused. Below are some examples. You can use tab-completion within the draw function to see the docstring for more details on available arguments to toggle, or you can see which styles are available on ToyTrees by accessing their `.style` dictionary. See the [Styling](https://toytree.readthedocs.io/Styling.html) chapter for more details."
   ]
  },
  {
   "cell_type": "code",
   "execution_count": 18,
   "metadata": {},
   "outputs": [
    {
     "data": {
      "text/html": [
       "<div class=\"toyplot\" id=\"tb58cf96f2a80413aad5b5ae2ba7e5e31\" style=\"text-align:center\"><svg class=\"toyplot-canvas-Canvas\" height=\"275.0px\" id=\"t4c5c9e50c0b7455b80077cade7811153\" preserveAspectRatio=\"xMidYMid meet\" style=\"background-color:transparent;border-color:#292724;border-style:none;border-width:1.0;fill:rgb(16.1%,15.3%,14.1%);fill-opacity:1.0;font-family:Helvetica;font-size:12px;opacity:1.0;stroke:rgb(16.1%,15.3%,14.1%);stroke-opacity:1.0;stroke-width:1.0\" viewBox=\"0 0 360.0 275.0\" width=\"360.0px\" xmlns=\"http://www.w3.org/2000/svg\" xmlns:toyplot=\"http://www.sandia.gov/toyplot\" xmlns:xlink=\"http://www.w3.org/1999/xlink\"><g class=\"toyplot-coordinates-Cartesian\" id=\"t38da96f0ae154a13acb8f639e9c31c9f\"><clipPath id=\"t8d9bd753f36140fabfd1b44844268802\"><rect height=\"215.0\" width=\"300.0\" x=\"30.0\" y=\"30.0\"></rect></clipPath><g clip-path=\"url(#t8d9bd753f36140fabfd1b44844268802)\"><g class=\"toytree-mark-Toytree\" id=\"t9ca04979b9694cff9dbf0fae1ea913a9\"><g class=\"toytree-Edges\" style=\"fill:none;stroke:rgb(14.9%,14.9%,14.9%);stroke-linecap:round;stroke-opacity:1;stroke-width:2\"><path d=\"M 51.1 98.2 L 51.1 67.4 L 129.6 67.4\" id=\"24,23\"></path><path d=\"M 51.1 98.2 L 51.1 128.9 L 129.6 128.9\" id=\"24,22\"></path><path d=\"M 129.6 128.9 L 129.6 105.6 L 142.7 105.6\" id=\"22,21\"></path><path d=\"M 129.6 128.9 L 129.6 152.2 L 153.2 152.2\" id=\"22,20\"></path><path d=\"M 142.7 105.6 L 142.7 92.9 L 153.1 92.9\" id=\"21,19\"></path><path d=\"M 142.7 105.6 L 142.7 118.4 L 183.9 118.4\" id=\"21,18\"></path><path d=\"M 153.2 152.2 L 153.2 167.0 L 157.8 167.0\" id=\"20,17\"></path><path d=\"M 157.8 167.0 L 157.8 183.7 L 161.2 183.7\" id=\"17,16\"></path><path d=\"M 161.2 183.7 L 161.2 169.4 L 170.9 169.4\" id=\"16,15\"></path><path d=\"M 161.2 183.7 L 161.2 198.1 L 164.4 198.1\" id=\"16,14\"></path><path d=\"M 164.4 198.1 L 164.4 207.6 L 191.5 207.6\" id=\"14,13\"></path><path d=\"M 129.6 67.4 L 129.6 61.0 L 141.0 61.0\" id=\"23,12\"></path><path d=\"M 129.6 67.4 L 129.6 73.8 L 140.5 73.8\" id=\"23,11\"></path><path d=\"M 153.1 92.9 L 153.1 86.5 L 180.9 86.5\" id=\"19,10\"></path><path d=\"M 153.1 92.9 L 153.1 99.3 L 182.4 99.3\" id=\"19,9\"></path><path d=\"M 183.9 118.4 L 183.9 112.0 L 184.3 112.0\" id=\"18,8\"></path><path d=\"M 183.9 118.4 L 183.9 124.8 L 184.1 124.8\" id=\"18,7\"></path><path d=\"M 153.2 152.2 L 153.2 137.5 L 178.0 137.5\" id=\"20,6\"></path><path d=\"M 157.8 167.0 L 157.8 150.2 L 186.3 150.2\" id=\"17,5\"></path><path d=\"M 170.9 169.4 L 170.9 163.0 L 185.6 163.0\" id=\"15,4\"></path><path d=\"M 170.9 169.4 L 170.9 175.7 L 185.8 175.7\" id=\"15,3\"></path><path d=\"M 164.4 198.1 L 164.4 188.5 L 189.8 188.5\" id=\"14,2\"></path><path d=\"M 191.5 207.6 L 191.5 201.2 L 195.7 201.2\" id=\"13,1\"></path><path d=\"M 191.5 207.6 L 191.5 214.0 L 196.2 214.0\" id=\"13,0\"></path></g><g class=\"toytree-TipLabels\" style=\"fill:rgb(14.9%,14.9%,14.9%);fill-opacity:1.0;font-family:helvetica;font-size:11px;font-weight:normal;stroke:none;white-space:pre\"><g transform=\"translate(196.23,213.99)rotate(0)\"><text style=\"\" x=\"15.00\" y=\"2.81\">38362_rex</text></g><g transform=\"translate(195.66,201.24)rotate(0)\"><text style=\"\" x=\"15.00\" y=\"2.81\">39618_rex</text></g><g transform=\"translate(189.83,188.49)rotate(0)\"><text style=\"\" x=\"15.00\" y=\"2.81\">35236_rex</text></g><g transform=\"translate(185.83,175.74)rotate(0)\"><text style=\"\" x=\"15.00\" y=\"2.81\">35855_rex</text></g><g transform=\"translate(185.63,163.00)rotate(0)\"><text style=\"\" x=\"15.00\" y=\"2.81\">40578_rex</text></g><g transform=\"translate(186.35,150.25)rotate(0)\"><text style=\"\" x=\"15.00\" y=\"2.81\">30556_thamno</text></g><g transform=\"translate(177.98,137.50)rotate(0)\"><text style=\"\" x=\"15.00\" y=\"2.81\">33413_thamno</text></g><g transform=\"translate(184.10,124.75)rotate(0)\"><text style=\"\" x=\"15.00\" y=\"2.81\">41478_cyathophylloides</text></g><g transform=\"translate(184.26,112.00)rotate(0)\"><text style=\"\" x=\"15.00\" y=\"2.81\">41954_cyathophylloides</text></g><g transform=\"translate(182.42,99.26)rotate(0)\"><text style=\"\" x=\"15.00\" y=\"2.81\">30686_cyathophylla</text></g><g transform=\"translate(180.86,86.51)rotate(0)\"><text style=\"\" x=\"15.00\" y=\"2.81\">29154_superba</text></g><g transform=\"translate(140.46,73.76)rotate(0)\"><text style=\"\" x=\"15.00\" y=\"2.81\">33588_przewalskii</text></g><g transform=\"translate(141.00,61.01)rotate(0)\"><text style=\"\" x=\"15.00\" y=\"2.81\">32082_przewalskii</text></g></g></g></g></g></svg><div class=\"toyplot-behavior\"><script>(function()\n",
       "{\n",
       "var modules={};\n",
       "})();</script></div></div>"
      ]
     },
     "metadata": {},
     "output_type": "display_data"
    },
    {
     "data": {
      "text/html": [
       "<div class=\"toyplot\" id=\"tb793a031012d4bf3ba647194eed66a86\" style=\"text-align:center\"><svg class=\"toyplot-canvas-Canvas\" height=\"275.0px\" id=\"td69ecfbbf2fb4214aaabf970a3107bc2\" preserveAspectRatio=\"xMidYMid meet\" style=\"background-color:transparent;border-color:#292724;border-style:none;border-width:1.0;fill:rgb(16.1%,15.3%,14.1%);fill-opacity:1.0;font-family:Helvetica;font-size:12px;opacity:1.0;stroke:rgb(16.1%,15.3%,14.1%);stroke-opacity:1.0;stroke-width:1.0\" viewBox=\"0 0 360.0 275.0\" width=\"360.0px\" xmlns=\"http://www.w3.org/2000/svg\" xmlns:toyplot=\"http://www.sandia.gov/toyplot\" xmlns:xlink=\"http://www.w3.org/1999/xlink\"><g class=\"toyplot-coordinates-Cartesian\" id=\"t6abf2e34109b483c9fae8afd466fdbc1\"><clipPath id=\"t3ee99f27866a4809bdd67b3824e1a6d9\"><rect height=\"215.0\" width=\"300.0\" x=\"30.0\" y=\"30.0\"></rect></clipPath><g clip-path=\"url(#t3ee99f27866a4809bdd67b3824e1a6d9)\"><g class=\"toytree-mark-Toytree\" id=\"t6b02c685338147bda42ea89b69623ade\"><g class=\"toytree-Edges\" style=\"fill:none;stroke:rgb(40%,76.1%,64.7%);stroke-linecap:round;stroke-opacity:1;stroke-width:2\"><path d=\"M 51.1 98.2 L 51.1 67.4 L 129.6 67.4\" id=\"24,23\"></path><path d=\"M 51.1 98.2 L 51.1 128.9 L 129.6 128.9\" id=\"24,22\"></path><path d=\"M 129.6 128.9 L 129.6 105.6 L 142.7 105.6\" id=\"22,21\"></path><path d=\"M 129.6 128.9 L 129.6 152.2 L 153.2 152.2\" id=\"22,20\"></path><path d=\"M 142.7 105.6 L 142.7 92.9 L 153.1 92.9\" id=\"21,19\"></path><path d=\"M 142.7 105.6 L 142.7 118.4 L 183.9 118.4\" id=\"21,18\"></path><path d=\"M 153.2 152.2 L 153.2 167.0 L 157.8 167.0\" id=\"20,17\"></path><path d=\"M 157.8 167.0 L 157.8 183.7 L 161.2 183.7\" id=\"17,16\"></path><path d=\"M 161.2 183.7 L 161.2 169.4 L 170.9 169.4\" id=\"16,15\"></path><path d=\"M 161.2 183.7 L 161.2 198.1 L 164.4 198.1\" id=\"16,14\"></path><path d=\"M 164.4 198.1 L 164.4 207.6 L 191.5 207.6\" id=\"14,13\"></path><path d=\"M 129.6 67.4 L 129.6 61.0 L 141.0 61.0\" id=\"23,12\"></path><path d=\"M 129.6 67.4 L 129.6 73.8 L 140.5 73.8\" id=\"23,11\"></path><path d=\"M 153.1 92.9 L 153.1 86.5 L 180.9 86.5\" id=\"19,10\"></path><path d=\"M 153.1 92.9 L 153.1 99.3 L 182.4 99.3\" id=\"19,9\"></path><path d=\"M 183.9 118.4 L 183.9 112.0 L 184.3 112.0\" id=\"18,8\"></path><path d=\"M 183.9 118.4 L 183.9 124.8 L 184.1 124.8\" id=\"18,7\"></path><path d=\"M 153.2 152.2 L 153.2 137.5 L 178.0 137.5\" id=\"20,6\"></path><path d=\"M 157.8 167.0 L 157.8 150.2 L 186.3 150.2\" id=\"17,5\"></path><path d=\"M 170.9 169.4 L 170.9 163.0 L 185.6 163.0\" id=\"15,4\"></path><path d=\"M 170.9 169.4 L 170.9 175.7 L 185.8 175.7\" id=\"15,3\"></path><path d=\"M 164.4 198.1 L 164.4 188.5 L 189.8 188.5\" id=\"14,2\"></path><path d=\"M 191.5 207.6 L 191.5 201.2 L 195.7 201.2\" id=\"13,1\"></path><path d=\"M 191.5 207.6 L 191.5 214.0 L 196.2 214.0\" id=\"13,0\"></path></g><g class=\"toytree-AlignEdges\" style=\"stroke:rgb(66.3%,66.3%,66.3%);stroke-dasharray:2, 4;stroke-linecap:round;stroke-opacity:1.0;stroke-width:2\"><path d=\"M 196.2 214.0 L 196.2 214.0\"></path><path d=\"M 196.2 201.2 L 195.7 201.2\"></path><path d=\"M 196.2 188.5 L 189.8 188.5\"></path><path d=\"M 196.2 175.7 L 185.8 175.7\"></path><path d=\"M 196.2 163.0 L 185.6 163.0\"></path><path d=\"M 196.2 150.2 L 186.3 150.2\"></path><path d=\"M 196.2 137.5 L 178.0 137.5\"></path><path d=\"M 196.2 124.8 L 184.1 124.8\"></path><path d=\"M 196.2 112.0 L 184.3 112.0\"></path><path d=\"M 196.2 99.3 L 182.4 99.3\"></path><path d=\"M 196.2 86.5 L 180.9 86.5\"></path><path d=\"M 196.2 73.8 L 140.5 73.8\"></path><path d=\"M 196.2 61.0 L 141.0 61.0\"></path></g><g class=\"toytree-TipLabels\" style=\"fill:rgb(90.6%,54.1%,76.5%);fill-opacity:1.0;font-family:helvetica;font-size:11px;font-weight:normal;stroke:none;white-space:pre\"><g transform=\"translate(196.23,213.99)rotate(0)\"><text style=\"\" x=\"15.00\" y=\"2.81\">38362_rex</text></g><g transform=\"translate(196.23,201.24)rotate(0)\"><text style=\"\" x=\"15.00\" y=\"2.81\">39618_rex</text></g><g transform=\"translate(196.23,188.49)rotate(0)\"><text style=\"\" x=\"15.00\" y=\"2.81\">35236_rex</text></g><g transform=\"translate(196.23,175.74)rotate(0)\"><text style=\"\" x=\"15.00\" y=\"2.81\">35855_rex</text></g><g transform=\"translate(196.23,163.00)rotate(0)\"><text style=\"\" x=\"15.00\" y=\"2.81\">40578_rex</text></g><g transform=\"translate(196.23,150.25)rotate(0)\"><text style=\"\" x=\"15.00\" y=\"2.81\">30556_thamno</text></g><g transform=\"translate(196.23,137.50)rotate(0)\"><text style=\"\" x=\"15.00\" y=\"2.81\">33413_thamno</text></g><g transform=\"translate(196.23,124.75)rotate(0)\"><text style=\"\" x=\"15.00\" y=\"2.81\">41478_cyathophylloides</text></g><g transform=\"translate(196.23,112.00)rotate(0)\"><text style=\"\" x=\"15.00\" y=\"2.81\">41954_cyathophylloides</text></g><g transform=\"translate(196.23,99.26)rotate(0)\"><text style=\"\" x=\"15.00\" y=\"2.81\">30686_cyathophylla</text></g><g transform=\"translate(196.23,86.51)rotate(0)\"><text style=\"\" x=\"15.00\" y=\"2.81\">29154_superba</text></g><g transform=\"translate(196.23,73.76)rotate(0)\"><text style=\"\" x=\"15.00\" y=\"2.81\">33588_przewalskii</text></g><g transform=\"translate(196.23,61.01)rotate(0)\"><text style=\"\" x=\"15.00\" y=\"2.81\">32082_przewalskii</text></g></g></g></g></g></svg><div class=\"toyplot-behavior\"><script>(function()\n",
       "{\n",
       "var modules={};\n",
       "})();</script></div></div>"
      ]
     },
     "metadata": {},
     "output_type": "display_data"
    },
    {
     "data": {
      "text/html": [
       "<div class=\"toyplot\" id=\"t132cab20dc704976abdc18c8d2977011\" style=\"text-align:center\"><svg class=\"toyplot-canvas-Canvas\" height=\"275.0px\" id=\"tfe7ccf38cb2445da82b3385b2536bcd6\" preserveAspectRatio=\"xMidYMid meet\" style=\"background-color:transparent;border-color:#292724;border-style:none;border-width:1.0;fill:rgb(16.1%,15.3%,14.1%);fill-opacity:1.0;font-family:Helvetica;font-size:12px;opacity:1.0;stroke:rgb(16.1%,15.3%,14.1%);stroke-opacity:1.0;stroke-width:1.0\" viewBox=\"0 0 360.0 275.0\" width=\"360.0px\" xmlns=\"http://www.w3.org/2000/svg\" xmlns:toyplot=\"http://www.sandia.gov/toyplot\" xmlns:xlink=\"http://www.w3.org/1999/xlink\"><g class=\"toyplot-coordinates-Cartesian\" id=\"tae994246674a47999138953d5a6d2ae2\"><clipPath id=\"t2b1c4c44d4e94584bcca9f39f5e29f2a\"><rect height=\"215.0\" width=\"300.0\" x=\"30.0\" y=\"30.0\"></rect></clipPath><g clip-path=\"url(#t2b1c4c44d4e94584bcca9f39f5e29f2a)\"><g class=\"toytree-mark-Toytree\" id=\"t7b33046b1fd1463e8457eccc5c4b8dd0\"><g class=\"toytree-Edges\" style=\"fill:none;stroke:rgb(14.9%,14.9%,14.9%);stroke-linecap:round;stroke-opacity:1;stroke-width:2\"><path d=\"M 54.4 98.2 L 131.9 67.4\" id=\"24,23\"></path><path d=\"M 54.4 98.2 L 131.9 128.9\" id=\"24,22\"></path><path d=\"M 131.9 128.9 L 144.8 105.6\" id=\"22,21\"></path><path d=\"M 131.9 128.9 L 155.2 152.2\" id=\"22,20\"></path><path d=\"M 144.8 105.6 L 155.1 92.9\" id=\"21,19\"></path><path d=\"M 144.8 105.6 L 185.5 118.4\" id=\"21,18\"></path><path d=\"M 155.2 152.2 L 159.7 167.0\" id=\"20,17\"></path><path d=\"M 159.7 167.0 L 163.1 183.7\" id=\"17,16\"></path><path d=\"M 163.1 183.7 L 172.7 169.4\" id=\"16,15\"></path><path d=\"M 163.1 183.7 L 166.3 198.1\" id=\"16,14\"></path><path d=\"M 166.3 198.1 L 193.0 207.6\" id=\"14,13\"></path><path d=\"M 131.9 67.4 L 143.1 61.0\" id=\"23,12\"></path><path d=\"M 131.9 67.4 L 142.6 73.8\" id=\"23,11\"></path><path d=\"M 155.1 92.9 L 182.5 86.5\" id=\"19,10\"></path><path d=\"M 155.1 92.9 L 184.0 99.3\" id=\"19,9\"></path><path d=\"M 185.5 118.4 L 185.9 112.0\" id=\"18,8\"></path><path d=\"M 185.5 118.4 L 185.7 124.8\" id=\"18,7\"></path><path d=\"M 155.2 152.2 L 179.7 137.5\" id=\"20,6\"></path><path d=\"M 159.7 167.0 L 187.9 150.2\" id=\"17,5\"></path><path d=\"M 172.7 169.4 L 187.2 163.0\" id=\"15,4\"></path><path d=\"M 172.7 169.4 L 187.4 175.7\" id=\"15,3\"></path><path d=\"M 166.3 198.1 L 191.4 188.5\" id=\"14,2\"></path><path d=\"M 193.0 207.6 L 197.1 201.2\" id=\"13,1\"></path><path d=\"M 193.0 207.6 L 197.7 214.0\" id=\"13,0\"></path></g><g class=\"toytree-AlignEdges\" style=\"stroke:rgb(66.3%,66.3%,66.3%);stroke-dasharray:2, 4;stroke-linecap:round;stroke-opacity:1.0;stroke-width:2\"><path d=\"M 197.7 214.0 L 197.7 214.0\"></path><path d=\"M 197.7 201.2 L 197.1 201.2\"></path><path d=\"M 197.7 188.5 L 191.4 188.5\"></path><path d=\"M 197.7 175.7 L 187.4 175.7\"></path><path d=\"M 197.7 163.0 L 187.2 163.0\"></path><path d=\"M 197.7 150.2 L 187.9 150.2\"></path><path d=\"M 197.7 137.5 L 179.7 137.5\"></path><path d=\"M 197.7 124.8 L 185.7 124.8\"></path><path d=\"M 197.7 112.0 L 185.9 112.0\"></path><path d=\"M 197.7 99.3 L 184.0 99.3\"></path><path d=\"M 197.7 86.5 L 182.5 86.5\"></path><path d=\"M 197.7 73.8 L 142.6 73.8\"></path><path d=\"M 197.7 61.0 L 143.1 61.0\"></path></g><g class=\"toytree-Nodes\" style=\"fill:rgb(10.6%,62%,46.7%);fill-opacity:1.0;stroke:rgb(100%,100%,100%);stroke-opacity:1.0;stroke-width:1.5\"><g id=\"node-0\" transform=\"translate(197.680,213.986)\"><circle r=\"4.0\"></circle></g><g id=\"node-1\" transform=\"translate(197.117,201.238)\"><circle r=\"4.0\"></circle></g><g id=\"node-2\" transform=\"translate(191.360,188.491)\"><circle r=\"4.0\"></circle></g><g id=\"node-3\" transform=\"translate(187.407,175.743)\"><circle r=\"4.0\"></circle></g><g id=\"node-4\" transform=\"translate(187.210,162.995)\"><circle r=\"4.0\"></circle></g><g id=\"node-5\" transform=\"translate(187.922,150.248)\"><circle r=\"4.0\"></circle></g><g id=\"node-6\" transform=\"translate(179.656,137.500)\"><circle r=\"4.0\"></circle></g><g id=\"node-7\" transform=\"translate(185.701,124.752)\"><circle r=\"4.0\"></circle></g><g id=\"node-8\" transform=\"translate(185.857,112.005)\"><circle r=\"4.0\"></circle></g><g id=\"node-9\" transform=\"translate(184.043,99.257)\"><circle r=\"4.0\"></circle></g><g id=\"node-10\" transform=\"translate(182.499,86.509)\"><circle r=\"4.0\"></circle></g><g id=\"node-11\" transform=\"translate(142.617,73.762)\"><circle r=\"4.0\"></circle></g><g id=\"node-12\" transform=\"translate(143.144,61.014)\"><circle r=\"4.0\"></circle></g><g id=\"node-13\" transform=\"translate(192.959,207.612)\"><circle r=\"4.0\"></circle></g><g id=\"node-14\" transform=\"translate(166.268,198.051)\"><circle r=\"4.0\"></circle></g><g id=\"node-15\" transform=\"translate(172.713,169.369)\"><circle r=\"4.0\"></circle></g><g id=\"node-16\" transform=\"translate(163.075,183.710)\"><circle r=\"4.0\"></circle></g><g id=\"node-17\" transform=\"translate(159.689,166.979)\"><circle r=\"4.0\"></circle></g><g id=\"node-18\" transform=\"translate(185.472,118.378)\"><circle r=\"4.0\"></circle></g><g id=\"node-19\" transform=\"translate(155.086,92.883)\"><circle r=\"4.0\"></circle></g><g id=\"node-20\" transform=\"translate(155.220,152.239)\"><circle r=\"4.0\"></circle></g><g id=\"node-21\" transform=\"translate(144.800,105.631)\"><circle r=\"4.0\"></circle></g><g id=\"node-22\" transform=\"translate(131.936,128.935)\"><circle r=\"4.0\"></circle></g><g id=\"node-23\" transform=\"translate(131.936,67.388)\"><circle r=\"4.0\"></circle></g><g id=\"node-24\" transform=\"translate(54.408,98.161)\"><circle r=\"4.0\"></circle></g></g><g class=\"toytree-TipLabels\" style=\"fill:rgb(14.9%,14.9%,14.9%);fill-opacity:1.0;font-family:helvetica;font-size:11px;font-weight:normal;stroke:none;white-space:pre\"><g transform=\"translate(197.68,213.99)rotate(0)\"><text style=\"\" x=\"15.00\" y=\"2.81\">38362_rex</text></g><g transform=\"translate(197.68,201.24)rotate(0)\"><text style=\"\" x=\"15.00\" y=\"2.81\">39618_rex</text></g><g transform=\"translate(197.68,188.49)rotate(0)\"><text style=\"\" x=\"15.00\" y=\"2.81\">35236_rex</text></g><g transform=\"translate(197.68,175.74)rotate(0)\"><text style=\"\" x=\"15.00\" y=\"2.81\">35855_rex</text></g><g transform=\"translate(197.68,163.00)rotate(0)\"><text style=\"\" x=\"15.00\" y=\"2.81\">40578_rex</text></g><g transform=\"translate(197.68,150.25)rotate(0)\"><text style=\"\" x=\"15.00\" y=\"2.81\">30556_thamno</text></g><g transform=\"translate(197.68,137.50)rotate(0)\"><text style=\"\" x=\"15.00\" y=\"2.81\">33413_thamno</text></g><g transform=\"translate(197.68,124.75)rotate(0)\"><text style=\"\" x=\"15.00\" y=\"2.81\">41478_cyathophylloides</text></g><g transform=\"translate(197.68,112.00)rotate(0)\"><text style=\"\" x=\"15.00\" y=\"2.81\">41954_cyathophylloides</text></g><g transform=\"translate(197.68,99.26)rotate(0)\"><text style=\"\" x=\"15.00\" y=\"2.81\">30686_cyathophylla</text></g><g transform=\"translate(197.68,86.51)rotate(0)\"><text style=\"\" x=\"15.00\" y=\"2.81\">29154_superba</text></g><g transform=\"translate(197.68,73.76)rotate(0)\"><text style=\"\" x=\"15.00\" y=\"2.81\">33588_przewalskii</text></g><g transform=\"translate(197.68,61.01)rotate(0)\"><text style=\"\" x=\"15.00\" y=\"2.81\">32082_przewalskii</text></g></g></g></g></g></svg><div class=\"toyplot-behavior\"><script>(function()\n",
       "{\n",
       "var modules={};\n",
       "})();</script></div></div>"
      ]
     },
     "metadata": {},
     "output_type": "display_data"
    }
   ],
   "source": [
    "# drawing with pre-built tree_styles\n",
    "rtre.draw(tree_style='n');  # normal-style\n",
    "rtre.draw(tree_style='d');  # dark-style\n",
    "\n",
    "# 'ts' is also a shortcut for tree_style\n",
    "rtre.draw(ts='o');          # umlaut-style"
   ]
  },
  {
   "cell_type": "code",
   "execution_count": 19,
   "metadata": {},
   "outputs": [],
   "source": [
    "# define a style dictionary\n",
    "mystyle = {\n",
    "    \"layout\": 'd',\n",
    "    \"edge_type\": 'p',\n",
    "    \"edge_style\": {\n",
    "        \"stroke\": toytree.colors[2],\n",
    "        \"stroke-width\": 2.5,\n",
    "    },\n",
    "    \"tip_labels_align\": True, \n",
    "    \"tip_labels_colors\": toytree.colors[0],\n",
    "    \"tip_labels_style\": {\n",
    "        \"font-size\": \"10px\"\n",
    "    },\n",
    "    \"node_labels\": False,\n",
    "    \"node_sizes\": 8,\n",
    "    \"node_colors\": toytree.colors[2],\n",
    "}"
   ]
  },
  {
   "cell_type": "code",
   "execution_count": 20,
   "metadata": {
    "scrolled": false
   },
   "outputs": [
    {
     "data": {
      "text/html": [
       "<div class=\"toyplot\" id=\"tcc74c981c490443c88ae670a85fd0b67\" style=\"text-align:center\"><svg class=\"toyplot-canvas-Canvas\" height=\"400.0px\" id=\"ta5f72d8638f543299c13979dc84afb9d\" preserveAspectRatio=\"xMidYMid meet\" style=\"background-color:transparent;border-color:#292724;border-style:none;border-width:1.0;fill:rgb(16.1%,15.3%,14.1%);fill-opacity:1.0;font-family:Helvetica;font-size:12px;opacity:1.0;stroke:rgb(16.1%,15.3%,14.1%);stroke-opacity:1.0;stroke-width:1.0\" viewBox=\"0 0 350.0 400.0\" width=\"350.0px\" xmlns=\"http://www.w3.org/2000/svg\" xmlns:toyplot=\"http://www.sandia.gov/toyplot\" xmlns:xlink=\"http://www.w3.org/1999/xlink\"><g class=\"toyplot-coordinates-Cartesian\" id=\"t542ce4a494d247039572857e0b9d0a27\"><clipPath id=\"tbf6648c585564d92947705d3f03d19db\"><rect height=\"340.0\" width=\"290.0\" x=\"30.0\" y=\"30.0\"></rect></clipPath><g clip-path=\"url(#tbf6648c585564d92947705d3f03d19db)\"><g class=\"toytree-mark-Toytree\" id=\"t085530c3474c43d9866d90bf71bc0623\"><g class=\"toytree-Edges\" style=\"fill:none;stroke:rgb(55.3%,62.7%,79.6%);stroke-linecap:round;stroke-opacity:1;stroke-width:2.5\"><path d=\"M 233.7 54.7 L 279.5 54.7 L 279.5 149.7\" id=\"24,23\"></path><path d=\"M 233.7 54.7 L 187.8 54.7 L 187.8 149.7\" id=\"24,22\"></path><path d=\"M 187.8 149.7 L 222.5 149.7 L 222.5 165.4\" id=\"22,21\"></path><path d=\"M 187.8 149.7 L 153.0 149.7 L 153.0 178.2\" id=\"22,20\"></path><path d=\"M 222.5 165.4 L 241.5 165.4 L 241.5 178.0\" id=\"21,19\"></path><path d=\"M 222.5 165.4 L 203.5 165.4 L 203.5 215.2\" id=\"21,18\"></path><path d=\"M 153.0 178.2 L 131.0 178.2 L 131.0 183.6\" id=\"20,17\"></path><path d=\"M 131.0 183.6 L 106.1 183.6 L 106.1 187.8\" id=\"17,16\"></path><path d=\"M 106.1 187.8 L 127.5 187.8 L 127.5 199.6\" id=\"16,15\"></path><path d=\"M 106.1 187.8 L 84.7 187.8 L 84.7 191.7\" id=\"16,14\"></path><path d=\"M 84.7 191.7 L 70.5 191.7 L 70.5 224.4\" id=\"14,13\"></path><path d=\"M 279.5 149.7 L 289.1 149.7 L 289.1 163.4\" id=\"23,12\"></path><path d=\"M 279.5 149.7 L 270.0 149.7 L 270.0 162.7\" id=\"23,11\"></path><path d=\"M 241.5 178.0 L 251.0 178.0 L 251.0 211.6\" id=\"19,10\"></path><path d=\"M 241.5 178.0 L 232.0 178.0 L 232.0 213.5\" id=\"19,9\"></path><path d=\"M 203.5 215.2 L 213.0 215.2 L 213.0 215.7\" id=\"18,8\"></path><path d=\"M 203.5 215.2 L 194.0 215.2 L 194.0 215.5\" id=\"18,7\"></path><path d=\"M 153.0 178.2 L 175.0 178.2 L 175.0 208.1\" id=\"20,6\"></path><path d=\"M 131.0 183.6 L 156.0 183.6 L 156.0 218.2\" id=\"17,5\"></path><path d=\"M 127.5 199.6 L 137.0 199.6 L 137.0 217.4\" id=\"15,4\"></path><path d=\"M 127.5 199.6 L 118.0 199.6 L 118.0 217.6\" id=\"15,3\"></path><path d=\"M 84.7 191.7 L 99.0 191.7 L 99.0 222.4\" id=\"14,2\"></path><path d=\"M 70.5 224.4 L 80.0 224.4 L 80.0 229.5\" id=\"13,1\"></path><path d=\"M 70.5 224.4 L 60.9 224.4 L 60.9 230.2\" id=\"13,0\"></path></g><g class=\"toytree-AlignEdges\" style=\"stroke:rgb(66.3%,66.3%,66.3%);stroke-dasharray:2, 4;stroke-linecap:round;stroke-opacity:1.0;stroke-width:2\"><path d=\"M 60.9 230.2 L 60.9 230.2\"></path><path d=\"M 80.0 230.2 L 80.0 229.5\"></path><path d=\"M 99.0 230.2 L 99.0 222.4\"></path><path d=\"M 118.0 230.2 L 118.0 217.6\"></path><path d=\"M 137.0 230.2 L 137.0 217.4\"></path><path d=\"M 156.0 230.2 L 156.0 218.2\"></path><path d=\"M 175.0 230.2 L 175.0 208.1\"></path><path d=\"M 194.0 230.2 L 194.0 215.5\"></path><path d=\"M 213.0 230.2 L 213.0 215.7\"></path><path d=\"M 232.0 230.2 L 232.0 213.5\"></path><path d=\"M 251.0 230.2 L 251.0 211.6\"></path><path d=\"M 270.0 230.2 L 270.0 162.7\"></path><path d=\"M 289.1 230.2 L 289.1 163.4\"></path></g><g class=\"toytree-Nodes\" style=\"fill:rgb(55.3%,62.7%,79.6%);fill-opacity:1.0;stroke:None;stroke-width:1\"><g id=\"node-0\" transform=\"translate(60.949,230.186)\"><circle r=\"4.0\"></circle></g><g id=\"node-1\" transform=\"translate(79.957,229.497)\"><circle r=\"4.0\"></circle></g><g id=\"node-2\" transform=\"translate(98.966,222.444)\"><circle r=\"4.0\"></circle></g><g id=\"node-3\" transform=\"translate(117.974,217.602)\"><circle r=\"4.0\"></circle></g><g id=\"node-4\" transform=\"translate(136.983,217.361)\"><circle r=\"4.0\"></circle></g><g id=\"node-5\" transform=\"translate(155.991,218.233)\"><circle r=\"4.0\"></circle></g><g id=\"node-6\" transform=\"translate(175.000,208.108)\"><circle r=\"4.0\"></circle></g><g id=\"node-7\" transform=\"translate(194.009,215.512)\"><circle r=\"4.0\"></circle></g><g id=\"node-8\" transform=\"translate(213.017,215.703)\"><circle r=\"4.0\"></circle></g><g id=\"node-9\" transform=\"translate(232.026,213.481)\"><circle r=\"4.0\"></circle></g><g id=\"node-10\" transform=\"translate(251.034,211.590)\"><circle r=\"4.0\"></circle></g><g id=\"node-11\" transform=\"translate(270.043,162.735)\"><circle r=\"4.0\"></circle></g><g id=\"node-12\" transform=\"translate(289.051,163.381)\"><circle r=\"4.0\"></circle></g><g id=\"node-13\" transform=\"translate(70.453,224.403)\"><circle r=\"4.0\"></circle></g><g id=\"node-14\" transform=\"translate(84.710,191.707)\"><circle r=\"4.0\"></circle></g><g id=\"node-15\" transform=\"translate(127.479,199.602)\"><circle r=\"4.0\"></circle></g><g id=\"node-16\" transform=\"translate(106.094,187.795)\"><circle r=\"4.0\"></circle></g><g id=\"node-17\" transform=\"translate(131.043,183.648)\"><circle r=\"4.0\"></circle></g><g id=\"node-18\" transform=\"translate(203.513,215.232)\"><circle r=\"4.0\"></circle></g><g id=\"node-19\" transform=\"translate(241.530,178.010)\"><circle r=\"4.0\"></circle></g><g id=\"node-20\" transform=\"translate(153.021,178.174)\"><circle r=\"4.0\"></circle></g><g id=\"node-21\" transform=\"translate(222.521,165.409)\"><circle r=\"4.0\"></circle></g><g id=\"node-22\" transform=\"translate(187.771,149.651)\"><circle r=\"4.0\"></circle></g><g id=\"node-23\" transform=\"translate(279.547,149.651)\"><circle r=\"4.0\"></circle></g><g id=\"node-24\" transform=\"translate(233.659,54.680)\"><circle r=\"4.0\"></circle></g></g><g class=\"toytree-TipLabels\" style=\"fill:rgb(40%,76.1%,64.7%);fill-opacity:1.0;font-family:helvetica;font-size:10px;font-weight:normal;stroke:none;white-space:pre\"><g transform=\"translate(60.95,230.19)rotate(-90)\"><text style=\"\" x=\"-62.25\" y=\"2.55\">38362_rex</text></g><g transform=\"translate(79.96,230.19)rotate(-90)\"><text style=\"\" x=\"-62.25\" y=\"2.55\">39618_rex</text></g><g transform=\"translate(98.97,230.19)rotate(-90)\"><text style=\"\" x=\"-62.25\" y=\"2.55\">35236_rex</text></g><g transform=\"translate(117.97,230.19)rotate(-90)\"><text style=\"\" x=\"-62.25\" y=\"2.55\">35855_rex</text></g><g transform=\"translate(136.98,230.19)rotate(-90)\"><text style=\"\" x=\"-62.25\" y=\"2.55\">40578_rex</text></g><g transform=\"translate(155.99,230.19)rotate(-90)\"><text style=\"\" x=\"-81.71\" y=\"2.55\">30556_thamno</text></g><g transform=\"translate(175.00,230.19)rotate(-90)\"><text style=\"\" x=\"-81.71\" y=\"2.55\">33413_thamno</text></g><g transform=\"translate(194.01,230.19)rotate(-90)\"><text style=\"\" x=\"-122.28\" y=\"2.55\">41478_cyathophylloides</text></g><g transform=\"translate(213.02,230.19)rotate(-90)\"><text style=\"\" x=\"-122.28\" y=\"2.55\">41954_cyathophylloides</text></g><g transform=\"translate(232.03,230.19)rotate(-90)\"><text style=\"\" x=\"-103.94\" y=\"2.55\">30686_cyathophylla</text></g><g transform=\"translate(251.03,230.19)rotate(-90)\"><text style=\"\" x=\"-84.49\" y=\"2.55\">29154_superba</text></g><g transform=\"translate(270.04,230.19)rotate(-90)\"><text style=\"\" x=\"-97.25\" y=\"2.55\">33588_przewalskii</text></g><g transform=\"translate(289.05,230.19)rotate(-90)\"><text style=\"\" x=\"-97.25\" y=\"2.55\">32082_przewalskii</text></g></g></g></g></g></svg><div class=\"toyplot-behavior\"><script>(function()\n",
       "{\n",
       "var modules={};\n",
       "})();</script></div></div>"
      ]
     },
     "metadata": {},
     "output_type": "display_data"
    }
   ],
   "source": [
    "# use your custom style dictionary in one or more tree drawings\n",
    "rtre.draw(height=400, **mystyle);"
   ]
  },
  {
   "cell_type": "markdown",
   "metadata": {},
   "source": [
    "### Drawing trees: nodes\n",
    "\n",
    "Plotting node values on a tree is a useful way of representing additional information about trees. Toytree tries to make this process fool-proof, in the sense that the data you plot on nodes will always be the correct data associated with that node. This is done through simple shortcut methods for plotting node features, as well as a convenience function called `.get_node_values()` that draws the values explicitly from the same tree structure that is being plotted (this avoids making a list of values from a tree and then plotting them on that tree only to find that a the order of tips or nodes in the tree has changed.) Finally, toytree also provides interactive features that allow you to explore many features of your data by simply hovering over nodes with your cursor. This is made possible by the HTML+JS framework in which toytrees are displayed in jupyter notebooks, or in web-pages.  "
   ]
  },
  {
   "cell_type": "code",
   "execution_count": 21,
   "metadata": {},
   "outputs": [
    {
     "data": {
      "text/html": [
       "<div class=\"toyplot\" id=\"t53099de9980e4e4fa1446ed1c8dd9764\" style=\"text-align:center\"><svg class=\"toyplot-canvas-Canvas\" height=\"350.0px\" id=\"t1a457e85b85b4b81848607d6c255a321\" preserveAspectRatio=\"xMidYMid meet\" style=\"background-color:transparent;border-color:#292724;border-style:none;border-width:1.0;fill:rgb(16.1%,15.3%,14.1%);fill-opacity:1.0;font-family:Helvetica;font-size:12px;opacity:1.0;stroke:rgb(16.1%,15.3%,14.1%);stroke-opacity:1.0;stroke-width:1.0\" viewBox=\"0 0 360.0 350.0\" width=\"360.0px\" xmlns=\"http://www.w3.org/2000/svg\" xmlns:toyplot=\"http://www.sandia.gov/toyplot\" xmlns:xlink=\"http://www.w3.org/1999/xlink\"><g class=\"toyplot-coordinates-Cartesian\" id=\"tc79afc21917a48eda6d3e7fc2ab300f3\"><clipPath id=\"t6733383ec3c2463f8871c547845f8208\"><rect height=\"290.0\" width=\"300.0\" x=\"30.0\" y=\"30.0\"></rect></clipPath><g clip-path=\"url(#t6733383ec3c2463f8871c547845f8208)\"><g class=\"toytree-mark-Toytree\" id=\"td49e9ea348384b1cb57320ea6da8308a\"><g class=\"toytree-Edges\" style=\"fill:none;stroke:rgb(14.9%,14.9%,14.9%);stroke-linecap:round;stroke-opacity:1;stroke-width:2\"><path d=\"M 55.5 116.6 L 55.5 70.9 L 132.7 70.9\" id=\"24,23\"></path><path d=\"M 55.5 116.6 L 55.5 162.3 L 132.7 162.3\" id=\"24,22\"></path><path d=\"M 132.7 162.3 L 132.7 127.7 L 145.5 127.7\" id=\"22,21\"></path><path d=\"M 132.7 162.3 L 132.7 196.9 L 155.9 196.9\" id=\"22,20\"></path><path d=\"M 145.5 127.7 L 145.5 108.8 L 155.7 108.8\" id=\"21,19\"></path><path d=\"M 145.5 127.7 L 145.5 146.6 L 186.0 146.6\" id=\"21,18\"></path><path d=\"M 155.9 196.9 L 155.9 218.8 L 160.3 218.8\" id=\"20,17\"></path><path d=\"M 160.3 218.8 L 160.3 243.6 L 163.7 243.6\" id=\"17,16\"></path><path d=\"M 163.7 243.6 L 163.7 222.3 L 173.3 222.3\" id=\"16,15\"></path><path d=\"M 163.7 243.6 L 163.7 264.9 L 166.9 264.9\" id=\"16,14\"></path><path d=\"M 166.9 264.9 L 166.9 279.1 L 193.5 279.1\" id=\"14,13\"></path><path d=\"M 132.7 70.9 L 132.7 61.4 L 143.8 61.4\" id=\"23,12\"></path><path d=\"M 132.7 70.9 L 132.7 80.4 L 143.3 80.4\" id=\"23,11\"></path><path d=\"M 155.7 108.8 L 155.7 99.3 L 183.0 99.3\" id=\"19,10\"></path><path d=\"M 155.7 108.8 L 155.7 118.2 L 184.6 118.2\" id=\"19,9\"></path><path d=\"M 186.0 146.6 L 186.0 137.1 L 186.4 137.1\" id=\"18,8\"></path><path d=\"M 186.0 146.6 L 186.0 156.1 L 186.2 156.1\" id=\"18,7\"></path><path d=\"M 155.9 196.9 L 155.9 175.0 L 180.2 175.0\" id=\"20,6\"></path><path d=\"M 160.3 218.8 L 160.3 193.9 L 188.4 193.9\" id=\"17,5\"></path><path d=\"M 173.3 222.3 L 173.3 212.9 L 187.7 212.9\" id=\"15,4\"></path><path d=\"M 173.3 222.3 L 173.3 231.8 L 187.9 231.8\" id=\"15,3\"></path><path d=\"M 166.9 264.9 L 166.9 250.7 L 191.9 250.7\" id=\"14,2\"></path><path d=\"M 193.5 279.1 L 193.5 269.6 L 197.6 269.6\" id=\"13,1\"></path><path d=\"M 193.5 279.1 L 193.5 288.6 L 198.2 288.6\" id=\"13,0\"></path></g><g class=\"toytree-AlignEdges\" style=\"stroke:rgb(66.3%,66.3%,66.3%);stroke-dasharray:2, 4;stroke-linecap:round;stroke-opacity:1.0;stroke-width:2\"><path d=\"M 198.2 288.6 L 198.2 288.6\"></path><path d=\"M 198.2 269.6 L 197.6 269.6\"></path><path d=\"M 198.2 250.7 L 191.9 250.7\"></path><path d=\"M 198.2 231.8 L 187.9 231.8\"></path><path d=\"M 198.2 212.9 L 187.7 212.9\"></path><path d=\"M 198.2 193.9 L 188.4 193.9\"></path><path d=\"M 198.2 175.0 L 180.2 175.0\"></path><path d=\"M 198.2 156.1 L 186.2 156.1\"></path><path d=\"M 198.2 137.1 L 186.4 137.1\"></path><path d=\"M 198.2 118.2 L 184.6 118.2\"></path><path d=\"M 198.2 99.3 L 183.0 99.3\"></path><path d=\"M 198.2 80.4 L 143.3 80.4\"></path><path d=\"M 198.2 61.4 L 143.8 61.4\"></path></g><g class=\"toytree-Nodes\" style=\"fill:rgb(40%,76.1%,64.7%);fill-opacity:1.0;stroke:None;stroke-width:1\"><g id=\"node-0\" transform=\"translate(198.154,288.554)\"><title>idx: 0\n",
       "dist: 0.0011\n",
       "support: 0.0000\n",
       "height: 0.0000\n",
       "name: 38362_rex</title><circle r=\"5.0\"></circle></g><g id=\"node-1\" transform=\"translate(197.594,269.628)\"><title>idx: 1\n",
       "dist: 0.0010\n",
       "support: 0.0000\n",
       "height: 0.0001\n",
       "name: 39618_rex</title><circle r=\"5.0\"></circle></g><g id=\"node-2\" transform=\"translate(191.860,250.703)\"><title>idx: 2\n",
       "dist: 0.0058\n",
       "support: 0.0000\n",
       "height: 0.0015\n",
       "name: 35236_rex</title><circle r=\"5.0\"></circle></g><g id=\"node-3\" transform=\"translate(187.924,231.777)\"><title>idx: 3\n",
       "dist: 0.0034\n",
       "support: 0.0000\n",
       "height: 0.0024\n",
       "name: 35855_rex</title><circle r=\"5.0\"></circle></g><g id=\"node-4\" transform=\"translate(187.728,212.851)\"><title>idx: 4\n",
       "dist: 0.0034\n",
       "support: 0.0000\n",
       "height: 0.0024\n",
       "name: 40578_rex</title><circle r=\"5.0\"></circle></g><g id=\"node-5\" transform=\"translate(188.437,193.926)\"><title>idx: 5\n",
       "dist: 0.0065\n",
       "support: 0.0000\n",
       "height: 0.0023\n",
       "name: 30556_thamno</title><circle r=\"5.0\"></circle></g><g id=\"node-6\" transform=\"translate(180.206,175.000)\"><title>idx: 6\n",
       "dist: 0.0057\n",
       "support: 0.0000\n",
       "height: 0.0042\n",
       "name: 33413_thamno</title><circle r=\"5.0\"></circle></g><g id=\"node-7\" transform=\"translate(186.225,156.074)\"><title>idx: 7\n",
       "dist: 0.0001\n",
       "support: 0.0000\n",
       "height: 0.0028\n",
       "name: 41478_cyathophylloides</title><circle r=\"5.0\"></circle></g><g id=\"node-8\" transform=\"translate(186.381,137.149)\"><title>idx: 8\n",
       "dist: 0.0001\n",
       "support: 0.0000\n",
       "height: 0.0027\n",
       "name: 41954_cyathophylloides</title><circle r=\"5.0\"></circle></g><g id=\"node-9\" transform=\"translate(184.574,118.223)\"><title>idx: 9\n",
       "dist: 0.0067\n",
       "support: 0.0000\n",
       "height: 0.0032\n",
       "name: 30686_cyathophylla</title><circle r=\"5.0\"></circle></g><g id=\"node-10\" transform=\"translate(183.037,99.297)\"><title>idx: 10\n",
       "dist: 0.0063\n",
       "support: 0.0000\n",
       "height: 0.0035\n",
       "name: 29154_superba</title><circle r=\"5.0\"></circle></g><g id=\"node-11\" transform=\"translate(143.324,80.372)\"><title>idx: 11\n",
       "dist: 0.0025\n",
       "support: 0.0000\n",
       "height: 0.0127\n",
       "name: 33588_przewalskii</title><circle r=\"5.0\"></circle></g><g id=\"node-12\" transform=\"translate(143.849,61.446)\"><title>idx: 12\n",
       "dist: 0.0026\n",
       "support: 0.0000\n",
       "height: 0.0126\n",
       "name: 32082_przewalskii</title><circle r=\"5.0\"></circle></g><g id=\"node-13\" transform=\"translate(193.453,279.091)\"><title>idx: 13\n",
       "dist: 0.0062\n",
       "support: 100.0000\n",
       "height: 0.0011\n",
       "name: 13</title><circle r=\"5.0\"></circle></g><g id=\"node-14\" transform=\"translate(166.875,264.897)\"><title>idx: 14\n",
       "dist: 0.0007\n",
       "support: 96.0000\n",
       "height: 0.0073\n",
       "name: 14</title><circle r=\"5.0\"></circle></g><g id=\"node-15\" transform=\"translate(173.293,222.314)\"><title>idx: 15\n",
       "dist: 0.0022\n",
       "support: 100.0000\n",
       "height: 0.0058\n",
       "name: 15</title><circle r=\"5.0\"></circle></g><g id=\"node-16\" transform=\"translate(163.695,243.605)\"><title>idx: 16\n",
       "dist: 0.0008\n",
       "support: 99.0000\n",
       "height: 0.0080\n",
       "name: 16</title><circle r=\"5.0\"></circle></g><g id=\"node-17\" transform=\"translate(160.323,218.766)\"><title>idx: 17\n",
       "dist: 0.0010\n",
       "support: 100.0000\n",
       "height: 0.0088\n",
       "name: 17</title><circle r=\"5.0\"></circle></g><g id=\"node-18\" transform=\"translate(185.998,146.612)\"><title>idx: 18\n",
       "dist: 0.0094\n",
       "support: 100.0000\n",
       "height: 0.0028\n",
       "name: 23</title><circle r=\"5.0\"></circle></g><g id=\"node-19\" transform=\"translate(155.740,108.760)\"><title>idx: 19\n",
       "dist: 0.0024\n",
       "support: 100.0000\n",
       "height: 0.0099\n",
       "name: 21</title><circle r=\"5.0\"></circle></g><g id=\"node-20\" transform=\"translate(155.874,196.883)\"><title>idx: 20\n",
       "dist: 0.0054\n",
       "support: 100.0000\n",
       "height: 0.0098\n",
       "name: 18</title><circle r=\"5.0\"></circle></g><g id=\"node-21\" transform=\"translate(145.497,127.686)\"><title>idx: 21\n",
       "dist: 0.0030\n",
       "support: 100.0000\n",
       "height: 0.0122\n",
       "name: 22</title><circle r=\"5.0\"></circle></g><g id=\"node-22\" transform=\"translate(132.687,162.284)\"><title>idx: 22\n",
       "dist: 0.0179\n",
       "support: 100.0000\n",
       "height: 0.0152\n",
       "name: 20</title><circle r=\"5.0\"></circle></g><g id=\"node-23\" transform=\"translate(132.687,70.909)\"><title>idx: 23\n",
       "dist: 0.0179\n",
       "support: 100.0000\n",
       "height: 0.0152\n",
       "name: 19</title><circle r=\"5.0\"></circle></g><g id=\"node-24\" transform=\"translate(55.487,116.597)\"><title>idx: 24\n",
       "dist: 1.0000\n",
       "support: 100.0000\n",
       "height: 0.0331\n",
       "name: root</title><circle r=\"5.0\"></circle></g></g><g class=\"toytree-TipLabels\" style=\"fill:rgb(14.9%,14.9%,14.9%);fill-opacity:1.0;font-family:helvetica;font-size:11px;font-weight:normal;stroke:none;white-space:pre\"><g transform=\"translate(198.15,288.55)rotate(0)\"><text style=\"\" x=\"15.00\" y=\"2.81\">38362_rex</text></g><g transform=\"translate(198.15,269.63)rotate(0)\"><text style=\"\" x=\"15.00\" y=\"2.81\">39618_rex</text></g><g transform=\"translate(198.15,250.70)rotate(0)\"><text style=\"\" x=\"15.00\" y=\"2.81\">35236_rex</text></g><g transform=\"translate(198.15,231.78)rotate(0)\"><text style=\"\" x=\"15.00\" y=\"2.81\">35855_rex</text></g><g transform=\"translate(198.15,212.85)rotate(0)\"><text style=\"\" x=\"15.00\" y=\"2.81\">40578_rex</text></g><g transform=\"translate(198.15,193.93)rotate(0)\"><text style=\"\" x=\"15.00\" y=\"2.81\">30556_thamno</text></g><g transform=\"translate(198.15,175.00)rotate(0)\"><text style=\"\" x=\"15.00\" y=\"2.81\">33413_thamno</text></g><g transform=\"translate(198.15,156.07)rotate(0)\"><text style=\"\" x=\"15.00\" y=\"2.81\">41478_cyathophylloides</text></g><g transform=\"translate(198.15,137.15)rotate(0)\"><text style=\"\" x=\"15.00\" y=\"2.81\">41954_cyathophylloides</text></g><g transform=\"translate(198.15,118.22)rotate(0)\"><text style=\"\" x=\"15.00\" y=\"2.81\">30686_cyathophylla</text></g><g transform=\"translate(198.15,99.30)rotate(0)\"><text style=\"\" x=\"15.00\" y=\"2.81\">29154_superba</text></g><g transform=\"translate(198.15,80.37)rotate(0)\"><text style=\"\" x=\"15.00\" y=\"2.81\">33588_przewalskii</text></g><g transform=\"translate(198.15,61.45)rotate(0)\"><text style=\"\" x=\"15.00\" y=\"2.81\">32082_przewalskii</text></g></g></g></g></g></svg><div class=\"toyplot-behavior\"><script>(function()\n",
       "{\n",
       "var modules={};\n",
       "})();</script></div></div>"
      ]
     },
     "metadata": {},
     "output_type": "display_data"
    }
   ],
   "source": [
    "# hover over nodes to see pop-up elements\n",
    "rtre.draw(height=350, node_hover=True, node_sizes=10, tip_labels_align=True);"
   ]
  },
  {
   "cell_type": "markdown",
   "metadata": {},
   "source": [
    "In the example above the labels on each node indicate their \"idx\" value, which is simply a unique identifier given to every node. We could alternatively select one of the features that you could see listed on the node when you hovered over it and toytree will display that value on the node instead. In the example below we plot the node support values. You'll notice that in this context no values were shown for the tip nodes, but instead only for internal nodes. More on this below."
   ]
  },
  {
   "cell_type": "code",
   "execution_count": 22,
   "metadata": {},
   "outputs": [
    {
     "data": {
      "text/html": [
       "<div class=\"toyplot\" id=\"t65173de3dd1e41c7a64f47758dee2f58\" style=\"text-align:center\"><svg class=\"toyplot-canvas-Canvas\" height=\"275.0px\" id=\"t5399fe3199ef4cd3a578efe398c36562\" preserveAspectRatio=\"xMidYMid meet\" style=\"background-color:transparent;border-color:#292724;border-style:none;border-width:1.0;fill:rgb(16.1%,15.3%,14.1%);fill-opacity:1.0;font-family:Helvetica;font-size:12px;opacity:1.0;stroke:rgb(16.1%,15.3%,14.1%);stroke-opacity:1.0;stroke-width:1.0\" viewBox=\"0 0 360.0 275.0\" width=\"360.0px\" xmlns=\"http://www.w3.org/2000/svg\" xmlns:toyplot=\"http://www.sandia.gov/toyplot\" xmlns:xlink=\"http://www.w3.org/1999/xlink\"><g class=\"toyplot-coordinates-Cartesian\" id=\"t4913fe959c654d60b7e8ebf215530182\"><clipPath id=\"ted9b161cff074f8e8f7a7387a24e1dc2\"><rect height=\"215.0\" width=\"300.0\" x=\"30.0\" y=\"30.0\"></rect></clipPath><g clip-path=\"url(#ted9b161cff074f8e8f7a7387a24e1dc2)\"><g class=\"toytree-mark-Toytree\" id=\"t0c2ee5282d874eaca8381a0c3c3105d9\"><g class=\"toytree-Edges\" style=\"fill:none;stroke:rgb(14.9%,14.9%,14.9%);stroke-linecap:round;stroke-opacity:1;stroke-width:2\"><path d=\"M 50.0 98.2 L 50.0 67.4 L 128.9 67.4\" id=\"24,23\"></path><path d=\"M 50.0 98.2 L 50.0 128.9 L 128.9 128.9\" id=\"24,22\"></path><path d=\"M 128.9 128.9 L 128.9 105.6 L 142.0 105.6\" id=\"22,21\"></path><path d=\"M 128.9 128.9 L 128.9 152.2 L 152.6 152.2\" id=\"22,20\"></path><path d=\"M 142.0 105.6 L 142.0 92.9 L 152.4 92.9\" id=\"21,19\"></path><path d=\"M 142.0 105.6 L 142.0 118.4 L 183.3 118.4\" id=\"21,18\"></path><path d=\"M 152.6 152.2 L 152.6 167.0 L 157.1 167.0\" id=\"20,17\"></path><path d=\"M 157.1 167.0 L 157.1 183.7 L 160.5 183.7\" id=\"17,16\"></path><path d=\"M 160.5 183.7 L 160.5 169.4 L 170.3 169.4\" id=\"16,15\"></path><path d=\"M 160.5 183.7 L 160.5 198.1 L 163.8 198.1\" id=\"16,14\"></path><path d=\"M 163.8 198.1 L 163.8 207.6 L 190.9 207.6\" id=\"14,13\"></path><path d=\"M 128.9 67.4 L 128.9 61.0 L 140.3 61.0\" id=\"23,12\"></path><path d=\"M 128.9 67.4 L 128.9 73.8 L 139.7 73.8\" id=\"23,11\"></path><path d=\"M 152.4 92.9 L 152.4 86.5 L 180.3 86.5\" id=\"19,10\"></path><path d=\"M 152.4 92.9 L 152.4 99.3 L 181.9 99.3\" id=\"19,9\"></path><path d=\"M 183.3 118.4 L 183.3 112.0 L 183.7 112.0\" id=\"18,8\"></path><path d=\"M 183.3 118.4 L 183.3 124.8 L 183.6 124.8\" id=\"18,7\"></path><path d=\"M 152.6 152.2 L 152.6 137.5 L 177.4 137.5\" id=\"20,6\"></path><path d=\"M 157.1 167.0 L 157.1 150.2 L 185.8 150.2\" id=\"17,5\"></path><path d=\"M 170.3 169.4 L 170.3 163.0 L 185.1 163.0\" id=\"15,4\"></path><path d=\"M 170.3 169.4 L 170.3 175.7 L 185.3 175.7\" id=\"15,3\"></path><path d=\"M 163.8 198.1 L 163.8 188.5 L 189.3 188.5\" id=\"14,2\"></path><path d=\"M 190.9 207.6 L 190.9 201.2 L 195.2 201.2\" id=\"13,1\"></path><path d=\"M 190.9 207.6 L 190.9 214.0 L 195.7 214.0\" id=\"13,0\"></path></g><g class=\"toytree-Nodes\" style=\"fill:rgb(40%,76.1%,64.7%);fill-opacity:1.0;stroke:None;stroke-width:1\"><g id=\"node-0\" transform=\"translate(195.742,213.986)\"><circle r=\"0.0\"></circle></g><g id=\"node-1\" transform=\"translate(195.170,201.238)\"><circle r=\"0.0\"></circle></g><g id=\"node-2\" transform=\"translate(189.313,188.491)\"><circle r=\"0.0\"></circle></g><g id=\"node-3\" transform=\"translate(185.292,175.743)\"><circle r=\"0.0\"></circle></g><g id=\"node-4\" transform=\"translate(185.092,162.995)\"><circle r=\"0.0\"></circle></g><g id=\"node-5\" transform=\"translate(185.816,150.248)\"><circle r=\"0.0\"></circle></g><g id=\"node-6\" transform=\"translate(177.408,137.500)\"><circle r=\"0.0\"></circle></g><g id=\"node-7\" transform=\"translate(183.557,124.752)\"><circle r=\"0.0\"></circle></g><g id=\"node-8\" transform=\"translate(183.715,112.005)\"><circle r=\"0.0\"></circle></g><g id=\"node-9\" transform=\"translate(181.870,99.257)\"><circle r=\"0.0\"></circle></g><g id=\"node-10\" transform=\"translate(180.300,86.509)\"><circle r=\"0.0\"></circle></g><g id=\"node-11\" transform=\"translate(139.730,73.762)\"><circle r=\"0.0\"></circle></g><g id=\"node-12\" transform=\"translate(140.267,61.014)\"><circle r=\"0.0\"></circle></g><g id=\"node-13\" transform=\"translate(190.940,207.612)\"><circle r=\"7.5\"></circle></g><g id=\"node-14\" transform=\"translate(163.789,198.051)\"><circle r=\"7.5\"></circle></g><g id=\"node-15\" transform=\"translate(170.345,169.369)\"><circle r=\"7.5\"></circle></g><g id=\"node-16\" transform=\"translate(160.540,183.710)\"><circle r=\"7.5\"></circle></g><g id=\"node-17\" transform=\"translate(157.096,166.979)\"><circle r=\"7.5\"></circle></g><g id=\"node-18\" transform=\"translate(183.325,118.378)\"><circle r=\"7.5\"></circle></g><g id=\"node-19\" transform=\"translate(152.414,92.883)\"><circle r=\"7.5\"></circle></g><g id=\"node-20\" transform=\"translate(152.551,152.239)\"><circle r=\"7.5\"></circle></g><g id=\"node-21\" transform=\"translate(141.950,105.631)\"><circle r=\"7.5\"></circle></g><g id=\"node-22\" transform=\"translate(128.865,128.935)\"><circle r=\"7.5\"></circle></g><g id=\"node-23\" transform=\"translate(128.865,67.388)\"><circle r=\"7.5\"></circle></g><g id=\"node-24\" transform=\"translate(50.000,98.161)\"><circle r=\"0.0\"></circle></g></g><g class=\"toytree-NodeLabels\" style=\"fill:rgb(14.9%,14.9%,14.9%);fill-opacity:1.0;font-size:9px;stroke:none\"><g transform=\"translate(183.43,209.91)\"><text>100</text></g><g transform=\"translate(158.79,200.35)\"><text>96</text></g><g transform=\"translate(162.84,171.67)\"><text>100</text></g><g transform=\"translate(155.54,186.01)\"><text>99</text></g><g transform=\"translate(149.59,169.28)\"><text>100</text></g><g transform=\"translate(175.82,120.68)\"><text>100</text></g><g transform=\"translate(144.91,95.18)\"><text>100</text></g><g transform=\"translate(145.04,154.54)\"><text>100</text></g><g transform=\"translate(134.44,107.93)\"><text>100</text></g><g transform=\"translate(121.36,131.23)\"><text>100</text></g><g transform=\"translate(121.36,69.69)\"><text>100</text></g></g><g class=\"toytree-TipLabels\" style=\"fill:rgb(14.9%,14.9%,14.9%);fill-opacity:1.0;font-family:helvetica;font-size:11px;font-weight:normal;stroke:none;white-space:pre\"><g transform=\"translate(195.74,213.99)rotate(0)\"><text style=\"\" x=\"15.00\" y=\"2.81\">38362_rex</text></g><g transform=\"translate(195.17,201.24)rotate(0)\"><text style=\"\" x=\"15.00\" y=\"2.81\">39618_rex</text></g><g transform=\"translate(189.31,188.49)rotate(0)\"><text style=\"\" x=\"15.00\" y=\"2.81\">35236_rex</text></g><g transform=\"translate(185.29,175.74)rotate(0)\"><text style=\"\" x=\"15.00\" y=\"2.81\">35855_rex</text></g><g transform=\"translate(185.09,163.00)rotate(0)\"><text style=\"\" x=\"15.00\" y=\"2.81\">40578_rex</text></g><g transform=\"translate(185.82,150.25)rotate(0)\"><text style=\"\" x=\"15.00\" y=\"2.81\">30556_thamno</text></g><g transform=\"translate(177.41,137.50)rotate(0)\"><text style=\"\" x=\"15.00\" y=\"2.81\">33413_thamno</text></g><g transform=\"translate(183.56,124.75)rotate(0)\"><text style=\"\" x=\"15.00\" y=\"2.81\">41478_cyathophylloides</text></g><g transform=\"translate(183.72,112.00)rotate(0)\"><text style=\"\" x=\"15.00\" y=\"2.81\">41954_cyathophylloides</text></g><g transform=\"translate(181.87,99.26)rotate(0)\"><text style=\"\" x=\"15.00\" y=\"2.81\">30686_cyathophylla</text></g><g transform=\"translate(180.30,86.51)rotate(0)\"><text style=\"\" x=\"15.00\" y=\"2.81\">29154_superba</text></g><g transform=\"translate(139.73,73.76)rotate(0)\"><text style=\"\" x=\"15.00\" y=\"2.81\">33588_przewalskii</text></g><g transform=\"translate(140.27,61.01)rotate(0)\"><text style=\"\" x=\"15.00\" y=\"2.81\">32082_przewalskii</text></g></g></g></g></g></svg><div class=\"toyplot-behavior\"><script>(function()\n",
       "{\n",
       "var modules={};\n",
       "})();</script></div></div>"
      ]
     },
     "metadata": {},
     "output_type": "display_data"
    }
   ],
   "source": [
    "rtre.draw(node_labels='support', node_sizes=15);"
   ]
  },
  {
   "cell_type": "markdown",
   "metadata": {},
   "source": [
    "You can also create plots with the nodes shown, but without node labels. This is often most useful when combined with mapping different colors to nodes to represent different classes of data. In the example below we pass a single color and size for all nodes. "
   ]
  },
  {
   "cell_type": "code",
   "execution_count": 23,
   "metadata": {},
   "outputs": [
    {
     "data": {
      "text/html": [
       "<div class=\"toyplot\" id=\"t4ae8d2b67aa544e4837e97332443314e\" style=\"text-align:center\"><svg class=\"toyplot-canvas-Canvas\" height=\"275.0px\" id=\"tf86ab01a19d3427fbccd28bfb464e359\" preserveAspectRatio=\"xMidYMid meet\" style=\"background-color:transparent;border-color:#292724;border-style:none;border-width:1.0;fill:rgb(16.1%,15.3%,14.1%);fill-opacity:1.0;font-family:Helvetica;font-size:12px;opacity:1.0;stroke:rgb(16.1%,15.3%,14.1%);stroke-opacity:1.0;stroke-width:1.0\" viewBox=\"0 0 360.0 275.0\" width=\"360.0px\" xmlns=\"http://www.w3.org/2000/svg\" xmlns:toyplot=\"http://www.sandia.gov/toyplot\" xmlns:xlink=\"http://www.w3.org/1999/xlink\"><g class=\"toyplot-coordinates-Cartesian\" id=\"t4d9953b694e640ebbf7bbf9d35b683c2\"><clipPath id=\"t642b63d687f743eca8440ff5af0939c8\"><rect height=\"215.0\" width=\"300.0\" x=\"30.0\" y=\"30.0\"></rect></clipPath><g clip-path=\"url(#t642b63d687f743eca8440ff5af0939c8)\"><g class=\"toytree-mark-Toytree\" id=\"taacf80e615c8432190cd72f4a4e2d650\"><g class=\"toytree-Edges\" style=\"fill:none;stroke:rgb(14.9%,14.9%,14.9%);stroke-linecap:round;stroke-opacity:1;stroke-width:2\"><path d=\"M 55.5 98.2 L 55.5 67.4 L 132.7 67.4\" id=\"24,23\"></path><path d=\"M 55.5 98.2 L 55.5 128.9 L 132.7 128.9\" id=\"24,22\"></path><path d=\"M 132.7 128.9 L 132.7 105.6 L 145.5 105.6\" id=\"22,21\"></path><path d=\"M 132.7 128.9 L 132.7 152.2 L 155.9 152.2\" id=\"22,20\"></path><path d=\"M 145.5 105.6 L 145.5 92.9 L 155.7 92.9\" id=\"21,19\"></path><path d=\"M 145.5 105.6 L 145.5 118.4 L 186.0 118.4\" id=\"21,18\"></path><path d=\"M 155.9 152.2 L 155.9 167.0 L 160.3 167.0\" id=\"20,17\"></path><path d=\"M 160.3 167.0 L 160.3 183.7 L 163.7 183.7\" id=\"17,16\"></path><path d=\"M 163.7 183.7 L 163.7 169.4 L 173.3 169.4\" id=\"16,15\"></path><path d=\"M 163.7 183.7 L 163.7 198.1 L 166.9 198.1\" id=\"16,14\"></path><path d=\"M 166.9 198.1 L 166.9 207.6 L 193.5 207.6\" id=\"14,13\"></path><path d=\"M 132.7 67.4 L 132.7 61.0 L 143.8 61.0\" id=\"23,12\"></path><path d=\"M 132.7 67.4 L 132.7 73.8 L 143.3 73.8\" id=\"23,11\"></path><path d=\"M 155.7 92.9 L 155.7 86.5 L 183.0 86.5\" id=\"19,10\"></path><path d=\"M 155.7 92.9 L 155.7 99.3 L 184.6 99.3\" id=\"19,9\"></path><path d=\"M 186.0 118.4 L 186.0 112.0 L 186.4 112.0\" id=\"18,8\"></path><path d=\"M 186.0 118.4 L 186.0 124.8 L 186.2 124.8\" id=\"18,7\"></path><path d=\"M 155.9 152.2 L 155.9 137.5 L 180.2 137.5\" id=\"20,6\"></path><path d=\"M 160.3 167.0 L 160.3 150.2 L 188.4 150.2\" id=\"17,5\"></path><path d=\"M 173.3 169.4 L 173.3 163.0 L 187.7 163.0\" id=\"15,4\"></path><path d=\"M 173.3 169.4 L 173.3 175.7 L 187.9 175.7\" id=\"15,3\"></path><path d=\"M 166.9 198.1 L 166.9 188.5 L 191.9 188.5\" id=\"14,2\"></path><path d=\"M 193.5 207.6 L 193.5 201.2 L 197.6 201.2\" id=\"13,1\"></path><path d=\"M 193.5 207.6 L 193.5 214.0 L 198.2 214.0\" id=\"13,0\"></path></g><g class=\"toytree-Nodes\" style=\"fill:rgb(50.2%,50.2%,50.2%);fill-opacity:1.0;stroke:None;stroke-width:1\"><g id=\"node-0\" transform=\"translate(198.154,213.986)\"><circle r=\"5.0\"></circle></g><g id=\"node-1\" transform=\"translate(197.594,201.238)\"><circle r=\"5.0\"></circle></g><g id=\"node-2\" transform=\"translate(191.860,188.491)\"><circle r=\"5.0\"></circle></g><g id=\"node-3\" transform=\"translate(187.924,175.743)\"><circle r=\"5.0\"></circle></g><g id=\"node-4\" transform=\"translate(187.728,162.995)\"><circle r=\"5.0\"></circle></g><g id=\"node-5\" transform=\"translate(188.437,150.248)\"><circle r=\"5.0\"></circle></g><g id=\"node-6\" transform=\"translate(180.206,137.500)\"><circle r=\"5.0\"></circle></g><g id=\"node-7\" transform=\"translate(186.225,124.752)\"><circle r=\"5.0\"></circle></g><g id=\"node-8\" transform=\"translate(186.381,112.005)\"><circle r=\"5.0\"></circle></g><g id=\"node-9\" transform=\"translate(184.574,99.257)\"><circle r=\"5.0\"></circle></g><g id=\"node-10\" transform=\"translate(183.037,86.509)\"><circle r=\"5.0\"></circle></g><g id=\"node-11\" transform=\"translate(143.324,73.762)\"><circle r=\"5.0\"></circle></g><g id=\"node-12\" transform=\"translate(143.849,61.014)\"><circle r=\"5.0\"></circle></g><g id=\"node-13\" transform=\"translate(193.453,207.612)\"><circle r=\"5.0\"></circle></g><g id=\"node-14\" transform=\"translate(166.875,198.051)\"><circle r=\"5.0\"></circle></g><g id=\"node-15\" transform=\"translate(173.293,169.369)\"><circle r=\"5.0\"></circle></g><g id=\"node-16\" transform=\"translate(163.695,183.710)\"><circle r=\"5.0\"></circle></g><g id=\"node-17\" transform=\"translate(160.323,166.979)\"><circle r=\"5.0\"></circle></g><g id=\"node-18\" transform=\"translate(185.998,118.378)\"><circle r=\"5.0\"></circle></g><g id=\"node-19\" transform=\"translate(155.740,92.883)\"><circle r=\"5.0\"></circle></g><g id=\"node-20\" transform=\"translate(155.874,152.239)\"><circle r=\"5.0\"></circle></g><g id=\"node-21\" transform=\"translate(145.497,105.631)\"><circle r=\"5.0\"></circle></g><g id=\"node-22\" transform=\"translate(132.687,128.935)\"><circle r=\"5.0\"></circle></g><g id=\"node-23\" transform=\"translate(132.687,67.388)\"><circle r=\"5.0\"></circle></g><g id=\"node-24\" transform=\"translate(55.487,98.161)\"><circle r=\"5.0\"></circle></g></g><g class=\"toytree-TipLabels\" style=\"fill:rgb(14.9%,14.9%,14.9%);fill-opacity:1.0;font-family:helvetica;font-size:11px;font-weight:normal;stroke:none;white-space:pre\"><g transform=\"translate(198.15,213.99)rotate(0)\"><text style=\"\" x=\"15.00\" y=\"2.81\">38362_rex</text></g><g transform=\"translate(197.59,201.24)rotate(0)\"><text style=\"\" x=\"15.00\" y=\"2.81\">39618_rex</text></g><g transform=\"translate(191.86,188.49)rotate(0)\"><text style=\"\" x=\"15.00\" y=\"2.81\">35236_rex</text></g><g transform=\"translate(187.92,175.74)rotate(0)\"><text style=\"\" x=\"15.00\" y=\"2.81\">35855_rex</text></g><g transform=\"translate(187.73,163.00)rotate(0)\"><text style=\"\" x=\"15.00\" y=\"2.81\">40578_rex</text></g><g transform=\"translate(188.44,150.25)rotate(0)\"><text style=\"\" x=\"15.00\" y=\"2.81\">30556_thamno</text></g><g transform=\"translate(180.21,137.50)rotate(0)\"><text style=\"\" x=\"15.00\" y=\"2.81\">33413_thamno</text></g><g transform=\"translate(186.23,124.75)rotate(0)\"><text style=\"\" x=\"15.00\" y=\"2.81\">41478_cyathophylloides</text></g><g transform=\"translate(186.38,112.00)rotate(0)\"><text style=\"\" x=\"15.00\" y=\"2.81\">41954_cyathophylloides</text></g><g transform=\"translate(184.57,99.26)rotate(0)\"><text style=\"\" x=\"15.00\" y=\"2.81\">30686_cyathophylla</text></g><g transform=\"translate(183.04,86.51)rotate(0)\"><text style=\"\" x=\"15.00\" y=\"2.81\">29154_superba</text></g><g transform=\"translate(143.32,73.76)rotate(0)\"><text style=\"\" x=\"15.00\" y=\"2.81\">33588_przewalskii</text></g><g transform=\"translate(143.85,61.01)rotate(0)\"><text style=\"\" x=\"15.00\" y=\"2.81\">32082_przewalskii</text></g></g></g></g></g></svg><div class=\"toyplot-behavior\"><script>(function()\n",
       "{\n",
       "var modules={};\n",
       "})();</script></div></div>"
      ]
     },
     "metadata": {},
     "output_type": "display_data"
    }
   ],
   "source": [
    "# You can do the same without printing the 'idx' label on nodes.\n",
    "rtre.draw(\n",
    "    node_labels=None,\n",
    "    node_sizes=10,\n",
    "    node_colors='grey'\n",
    ");"
   ]
  },
  {
   "cell_type": "markdown",
   "metadata": {},
   "source": [
    "You can draw values on all the nodes, or only on non-tip nodes, or only on internal nodes (not tips or root). Use the `.get_node_values` function of ToyTrees to build a list of values for plotting on the tree. Because the data are extracted from the same tree they will be plotted on the values will always be ordered properly. "
   ]
  },
  {
   "cell_type": "code",
   "execution_count": 24,
   "metadata": {},
   "outputs": [
    {
     "data": {
      "text/plain": [
       "array([100,  90, 100, 100,   0,   0,   0,   0,   0])"
      ]
     },
     "execution_count": 24,
     "metadata": {},
     "output_type": "execute_result"
    }
   ],
   "source": [
    "tre0.get_node_values(\"support\", show_root=1, show_tips=1)"
   ]
  },
  {
   "cell_type": "code",
   "execution_count": 25,
   "metadata": {},
   "outputs": [
    {
     "data": {
      "text/plain": [
       "array(['100', '90', '100', '100', '', '', '', '', ''], dtype='<U21')"
      ]
     },
     "execution_count": 25,
     "metadata": {},
     "output_type": "execute_result"
    }
   ],
   "source": [
    "tre0.get_node_values(\"support\", show_root=1, show_tips=0)"
   ]
  },
  {
   "cell_type": "code",
   "execution_count": 26,
   "metadata": {
    "scrolled": true
   },
   "outputs": [
    {
     "data": {
      "text/plain": [
       "array(['', '90', '100', '100', '', '', '', '', ''], dtype='<U3')"
      ]
     },
     "execution_count": 26,
     "metadata": {},
     "output_type": "execute_result"
    }
   ],
   "source": [
    "tre0.get_node_values(\"support\", show_root=0, show_tips=0)"
   ]
  },
  {
   "cell_type": "code",
   "execution_count": 27,
   "metadata": {},
   "outputs": [
    {
     "data": {
      "text/html": [
       "<div class=\"toyplot\" id=\"tf0209970b6c8425484e8c164fc4bb6cc\" style=\"text-align:center\"><svg class=\"toyplot-canvas-Canvas\" height=\"275.0px\" id=\"t6e966aad52564d1cbdbfed37bdacec2c\" preserveAspectRatio=\"xMidYMid meet\" style=\"background-color:transparent;border-color:#292724;border-style:none;border-width:1.0;fill:rgb(16.1%,15.3%,14.1%);fill-opacity:1.0;font-family:Helvetica;font-size:12px;opacity:1.0;stroke:rgb(16.1%,15.3%,14.1%);stroke-opacity:1.0;stroke-width:1.0\" viewBox=\"0 0 255.0 275.0\" width=\"255.0px\" xmlns=\"http://www.w3.org/2000/svg\" xmlns:toyplot=\"http://www.sandia.gov/toyplot\" xmlns:xlink=\"http://www.w3.org/1999/xlink\"><g class=\"toyplot-coordinates-Cartesian\" id=\"t6200ddd9396142c88afbcbcc89815b97\"><clipPath id=\"t18f2e4371bca49b58da62c502675360a\"><rect height=\"215.0\" width=\"195.0\" x=\"30.0\" y=\"30.0\"></rect></clipPath><g clip-path=\"url(#t18f2e4371bca49b58da62c502675360a)\"><g class=\"toytree-mark-Toytree\" id=\"t6bf204886a09430ea09cebfb46823855\"><g class=\"toytree-Edges\" style=\"fill:none;stroke:rgb(14.9%,14.9%,14.9%);stroke-linecap:round;stroke-opacity:1;stroke-width:2\"><path d=\"M 50.0 123.2 L 50.0 80.1 L 158.1 80.1\" id=\"8,7\"></path><path d=\"M 50.0 123.2 L 50.0 166.2 L 86.0 166.2\" id=\"8,6\"></path><path d=\"M 86.0 166.2 L 86.0 194.9 L 158.1 194.9\" id=\"6,5\"></path><path d=\"M 158.1 80.1 L 158.1 61.0 L 194.1 61.0\" id=\"7,4\"></path><path d=\"M 158.1 80.1 L 158.1 99.3 L 194.1 99.3\" id=\"7,3\"></path><path d=\"M 86.0 166.2 L 86.0 137.5 L 194.1 137.5\" id=\"6,2\"></path><path d=\"M 158.1 194.9 L 158.1 175.7 L 194.1 175.7\" id=\"5,1\"></path><path d=\"M 158.1 194.9 L 158.1 214.0 L 194.1 214.0\" id=\"5,0\"></path></g><g class=\"toytree-Nodes\" style=\"fill:rgb(40%,76.1%,64.7%);fill-opacity:1.0;stroke:None;stroke-width:1\"><g id=\"node-0\" transform=\"translate(194.142,213.986)\"><circle r=\"0.0\"></circle></g><g id=\"node-1\" transform=\"translate(194.142,175.743)\"><circle r=\"0.0\"></circle></g><g id=\"node-2\" transform=\"translate(194.142,137.500)\"><circle r=\"0.0\"></circle></g><g id=\"node-3\" transform=\"translate(194.142,99.257)\"><circle r=\"0.0\"></circle></g><g id=\"node-4\" transform=\"translate(194.142,61.014)\"><circle r=\"0.0\"></circle></g><g id=\"node-5\" transform=\"translate(158.106,194.865)\"><circle r=\"10.0\"></circle></g><g id=\"node-6\" transform=\"translate(86.035,166.182)\"><circle r=\"10.0\"></circle></g><g id=\"node-7\" transform=\"translate(158.106,80.135)\"><circle r=\"10.0\"></circle></g><g id=\"node-8\" transform=\"translate(50.000,123.159)\"><circle r=\"0.0\"></circle></g></g><g class=\"toytree-NodeLabels\" style=\"fill:rgb(14.9%,14.9%,14.9%);fill-opacity:1.0;font-size:9px;stroke:none\"><g transform=\"translate(150.60,197.16)\"><text>100</text></g><g transform=\"translate(78.53,168.48)\"><text>100</text></g><g transform=\"translate(153.10,82.43)\"><text>90</text></g></g><g class=\"toytree-TipLabels\" style=\"fill:rgb(14.9%,14.9%,14.9%);fill-opacity:1.0;font-family:helvetica;font-size:11px;font-weight:normal;stroke:none;white-space:pre\"><g transform=\"translate(194.14,213.99)rotate(0)\"><text style=\"\" x=\"15.00\" y=\"2.81\">e</text></g><g transform=\"translate(194.14,175.74)rotate(0)\"><text style=\"\" x=\"15.00\" y=\"2.81\">d</text></g><g transform=\"translate(194.14,137.50)rotate(0)\"><text style=\"\" x=\"15.00\" y=\"2.81\">c</text></g><g transform=\"translate(194.14,99.26)rotate(0)\"><text style=\"\" x=\"15.00\" y=\"2.81\">b</text></g><g transform=\"translate(194.14,61.01)rotate(0)\"><text style=\"\" x=\"15.00\" y=\"2.81\">a</text></g></g></g></g></g></svg><div class=\"toyplot-behavior\"><script>(function()\n",
       "{\n",
       "var modules={};\n",
       "})();</script></div></div>"
      ]
     },
     "metadata": {},
     "output_type": "display_data"
    }
   ],
   "source": [
    "# show support values \n",
    "tre0.draw(\n",
    "    node_labels=tre0.get_node_values(\"support\", 0, 0),\n",
    "    node_sizes=20,\n",
    "    );"
   ]
  },
  {
   "cell_type": "code",
   "execution_count": 28,
   "metadata": {},
   "outputs": [
    {
     "data": {
      "text/html": [
       "<div class=\"toyplot\" id=\"tf61de842b95e4489b464660e819ebfe0\" style=\"text-align:center\"><svg class=\"toyplot-canvas-Canvas\" height=\"275.0px\" id=\"t5ce8770ac30e45f6a0ebd4ec783a5b60\" preserveAspectRatio=\"xMidYMid meet\" style=\"background-color:transparent;border-color:#292724;border-style:none;border-width:1.0;fill:rgb(16.1%,15.3%,14.1%);fill-opacity:1.0;font-family:Helvetica;font-size:12px;opacity:1.0;stroke:rgb(16.1%,15.3%,14.1%);stroke-opacity:1.0;stroke-width:1.0\" viewBox=\"0 0 255.0 275.0\" width=\"255.0px\" xmlns=\"http://www.w3.org/2000/svg\" xmlns:toyplot=\"http://www.sandia.gov/toyplot\" xmlns:xlink=\"http://www.w3.org/1999/xlink\"><g class=\"toyplot-coordinates-Cartesian\" id=\"t6d6df6deb1b84793a574644ebfe16b5d\"><clipPath id=\"tce9eefaf3a33421591544d1917dc5387\"><rect height=\"215.0\" width=\"195.0\" x=\"30.0\" y=\"30.0\"></rect></clipPath><g clip-path=\"url(#tce9eefaf3a33421591544d1917dc5387)\"><g class=\"toytree-mark-Toytree\" id=\"tcf2c9fcdeb394bb0baec613e0b085413\"><g class=\"toytree-Edges\" style=\"fill:none;stroke:rgb(14.9%,14.9%,14.9%);stroke-linecap:round;stroke-opacity:1;stroke-width:2\"><path d=\"M 65.9 124.1 L 65.9 84.1 L 158.3 84.1\" id=\"8,7\"></path><path d=\"M 65.9 124.1 L 65.9 164.2 L 96.7 164.2\" id=\"8,6\"></path><path d=\"M 96.7 164.2 L 96.7 190.9 L 158.3 190.9\" id=\"6,5\"></path><path d=\"M 158.3 84.1 L 158.3 66.3 L 189.1 66.3\" id=\"7,4\"></path><path d=\"M 158.3 84.1 L 158.3 101.9 L 189.1 101.9\" id=\"7,3\"></path><path d=\"M 96.7 164.2 L 96.7 137.5 L 189.1 137.5\" id=\"6,2\"></path><path d=\"M 158.3 190.9 L 158.3 173.1 L 189.1 173.1\" id=\"5,1\"></path><path d=\"M 158.3 190.9 L 158.3 208.7 L 189.1 208.7\" id=\"5,0\"></path></g><g class=\"toytree-Nodes\" style=\"fill:rgb(40%,76.1%,64.7%);fill-opacity:1.0;stroke:None;stroke-width:1\"><g id=\"node-0\" transform=\"translate(189.103,208.721)\"><circle r=\"10.0\"></circle></g><g id=\"node-1\" transform=\"translate(189.103,173.110)\"><circle r=\"10.0\"></circle></g><g id=\"node-2\" transform=\"translate(189.103,137.500)\"><circle r=\"10.0\"></circle></g><g id=\"node-3\" transform=\"translate(189.103,101.890)\"><circle r=\"10.0\"></circle></g><g id=\"node-4\" transform=\"translate(189.103,66.279)\"><circle r=\"10.0\"></circle></g><g id=\"node-5\" transform=\"translate(158.301,190.916)\"><circle r=\"10.0\"></circle></g><g id=\"node-6\" transform=\"translate(96.699,164.208)\"><circle r=\"10.0\"></circle></g><g id=\"node-7\" transform=\"translate(158.301,84.084)\"><circle r=\"10.0\"></circle></g><g id=\"node-8\" transform=\"translate(65.897,124.146)\"><circle r=\"10.0\"></circle></g></g><g class=\"toytree-NodeLabels\" style=\"fill:rgb(14.9%,14.9%,14.9%);fill-opacity:1.0;font-size:9px;stroke:none\"><g transform=\"translate(186.60,211.02)\"><text>0</text></g><g transform=\"translate(186.60,175.41)\"><text>0</text></g><g transform=\"translate(186.60,139.80)\"><text>0</text></g><g transform=\"translate(186.60,104.19)\"><text>0</text></g><g transform=\"translate(186.60,68.58)\"><text>0</text></g><g transform=\"translate(150.80,193.22)\"><text>100</text></g><g transform=\"translate(89.19,166.51)\"><text>100</text></g><g transform=\"translate(153.30,86.38)\"><text>90</text></g><g transform=\"translate(58.39,126.45)\"><text>100</text></g></g><g class=\"toytree-TipLabels\" style=\"fill:rgb(14.9%,14.9%,14.9%);fill-opacity:1.0;font-family:helvetica;font-size:11px;font-weight:normal;stroke:none;white-space:pre\"><g transform=\"translate(189.10,208.72)rotate(0)\"><text style=\"\" x=\"15.00\" y=\"2.81\">e</text></g><g transform=\"translate(189.10,173.11)rotate(0)\"><text style=\"\" x=\"15.00\" y=\"2.81\">d</text></g><g transform=\"translate(189.10,137.50)rotate(0)\"><text style=\"\" x=\"15.00\" y=\"2.81\">c</text></g><g transform=\"translate(189.10,101.89)rotate(0)\"><text style=\"\" x=\"15.00\" y=\"2.81\">b</text></g><g transform=\"translate(189.10,66.28)rotate(0)\"><text style=\"\" x=\"15.00\" y=\"2.81\">a</text></g></g></g></g></g></svg><div class=\"toyplot-behavior\"><script>(function()\n",
       "{\n",
       "var modules={};\n",
       "})();</script></div></div>"
      ]
     },
     "metadata": {},
     "output_type": "display_data"
    }
   ],
   "source": [
    "# show support values \n",
    "tre0.draw(\n",
    "    node_labels=tre0.get_node_values(\"support\", 1, 1),\n",
    "    node_sizes=20,\n",
    "    );"
   ]
  },
  {
   "cell_type": "markdown",
   "metadata": {},
   "source": [
    "Because `.get_node_values()` returns values in node plot order, it is especially useful for building lists of values for color mapping on nodes. Here we map different colors to nodes depending on whether the support value is 100 or not. "
   ]
  },
  {
   "cell_type": "code",
   "execution_count": 29,
   "metadata": {},
   "outputs": [
    {
     "data": {
      "text/html": [
       "<div class=\"toyplot\" id=\"te659c10e12f64c61b29a4f4f10dff124\" style=\"text-align:center\"><svg class=\"toyplot-canvas-Canvas\" height=\"275.0px\" id=\"t41110b7eec0a4313bd5e4ae69917423e\" preserveAspectRatio=\"xMidYMid meet\" style=\"background-color:transparent;border-color:#292724;border-style:none;border-width:1.0;fill:rgb(16.1%,15.3%,14.1%);fill-opacity:1.0;font-family:Helvetica;font-size:12px;opacity:1.0;stroke:rgb(16.1%,15.3%,14.1%);stroke-opacity:1.0;stroke-width:1.0\" viewBox=\"0 0 360.0 275.0\" width=\"360.0px\" xmlns=\"http://www.w3.org/2000/svg\" xmlns:toyplot=\"http://www.sandia.gov/toyplot\" xmlns:xlink=\"http://www.w3.org/1999/xlink\"><g class=\"toyplot-coordinates-Cartesian\" id=\"te73eaf8f0e984f8eb588b84125487ba3\"><clipPath id=\"te4ece0e3f4634f51ac1ee2f836ae1126\"><rect height=\"215.0\" width=\"300.0\" x=\"30.0\" y=\"30.0\"></rect></clipPath><g clip-path=\"url(#te4ece0e3f4634f51ac1ee2f836ae1126)\"><g class=\"toytree-mark-Toytree\" id=\"t56852faed2054663b3d716d8dbace627\"><g class=\"toytree-Edges\" style=\"fill:none;stroke:rgb(14.9%,14.9%,14.9%);stroke-linecap:round;stroke-opacity:1;stroke-width:2\"><path d=\"M 55.5 98.2 L 55.5 67.4 L 132.7 67.4\" id=\"24,23\"></path><path d=\"M 55.5 98.2 L 55.5 128.9 L 132.7 128.9\" id=\"24,22\"></path><path d=\"M 132.7 128.9 L 132.7 105.6 L 145.5 105.6\" id=\"22,21\"></path><path d=\"M 132.7 128.9 L 132.7 152.2 L 155.9 152.2\" id=\"22,20\"></path><path d=\"M 145.5 105.6 L 145.5 92.9 L 155.7 92.9\" id=\"21,19\"></path><path d=\"M 145.5 105.6 L 145.5 118.4 L 186.0 118.4\" id=\"21,18\"></path><path d=\"M 155.9 152.2 L 155.9 167.0 L 160.3 167.0\" id=\"20,17\"></path><path d=\"M 160.3 167.0 L 160.3 183.7 L 163.7 183.7\" id=\"17,16\"></path><path d=\"M 163.7 183.7 L 163.7 169.4 L 173.3 169.4\" id=\"16,15\"></path><path d=\"M 163.7 183.7 L 163.7 198.1 L 166.9 198.1\" id=\"16,14\"></path><path d=\"M 166.9 198.1 L 166.9 207.6 L 193.5 207.6\" id=\"14,13\"></path><path d=\"M 132.7 67.4 L 132.7 61.0 L 143.8 61.0\" id=\"23,12\"></path><path d=\"M 132.7 67.4 L 132.7 73.8 L 143.3 73.8\" id=\"23,11\"></path><path d=\"M 155.7 92.9 L 155.7 86.5 L 183.0 86.5\" id=\"19,10\"></path><path d=\"M 155.7 92.9 L 155.7 99.3 L 184.6 99.3\" id=\"19,9\"></path><path d=\"M 186.0 118.4 L 186.0 112.0 L 186.4 112.0\" id=\"18,8\"></path><path d=\"M 186.0 118.4 L 186.0 124.8 L 186.2 124.8\" id=\"18,7\"></path><path d=\"M 155.9 152.2 L 155.9 137.5 L 180.2 137.5\" id=\"20,6\"></path><path d=\"M 160.3 167.0 L 160.3 150.2 L 188.4 150.2\" id=\"17,5\"></path><path d=\"M 173.3 169.4 L 173.3 163.0 L 187.7 163.0\" id=\"15,4\"></path><path d=\"M 173.3 169.4 L 173.3 175.7 L 187.9 175.7\" id=\"15,3\"></path><path d=\"M 166.9 198.1 L 166.9 188.5 L 191.9 188.5\" id=\"14,2\"></path><path d=\"M 193.5 207.6 L 193.5 201.2 L 197.6 201.2\" id=\"13,1\"></path><path d=\"M 193.5 207.6 L 193.5 214.0 L 198.2 214.0\" id=\"13,0\"></path></g><g class=\"toytree-Nodes\" style=\"fill:rgb(40%,76.1%,64.7%);fill-opacity:1.0;stroke:None;stroke-width:1\"><g fill=\"rgb(98.8%,55.3%,38.4%)\" fill-opacity=\"1.0\" id=\"node-0\" transform=\"translate(198.154,213.986)\"><circle r=\"5.0\"></circle></g><g fill=\"rgb(98.8%,55.3%,38.4%)\" fill-opacity=\"1.0\" id=\"node-1\" transform=\"translate(197.594,201.238)\"><circle r=\"5.0\"></circle></g><g fill=\"rgb(98.8%,55.3%,38.4%)\" fill-opacity=\"1.0\" id=\"node-2\" transform=\"translate(191.860,188.491)\"><circle r=\"5.0\"></circle></g><g fill=\"rgb(98.8%,55.3%,38.4%)\" fill-opacity=\"1.0\" id=\"node-3\" transform=\"translate(187.924,175.743)\"><circle r=\"5.0\"></circle></g><g fill=\"rgb(98.8%,55.3%,38.4%)\" fill-opacity=\"1.0\" id=\"node-4\" transform=\"translate(187.728,162.995)\"><circle r=\"5.0\"></circle></g><g fill=\"rgb(98.8%,55.3%,38.4%)\" fill-opacity=\"1.0\" id=\"node-5\" transform=\"translate(188.437,150.248)\"><circle r=\"5.0\"></circle></g><g fill=\"rgb(98.8%,55.3%,38.4%)\" fill-opacity=\"1.0\" id=\"node-6\" transform=\"translate(180.206,137.500)\"><circle r=\"5.0\"></circle></g><g fill=\"rgb(98.8%,55.3%,38.4%)\" fill-opacity=\"1.0\" id=\"node-7\" transform=\"translate(186.225,124.752)\"><circle r=\"5.0\"></circle></g><g fill=\"rgb(98.8%,55.3%,38.4%)\" fill-opacity=\"1.0\" id=\"node-8\" transform=\"translate(186.381,112.005)\"><circle r=\"5.0\"></circle></g><g fill=\"rgb(98.8%,55.3%,38.4%)\" fill-opacity=\"1.0\" id=\"node-9\" transform=\"translate(184.574,99.257)\"><circle r=\"5.0\"></circle></g><g fill=\"rgb(98.8%,55.3%,38.4%)\" fill-opacity=\"1.0\" id=\"node-10\" transform=\"translate(183.037,86.509)\"><circle r=\"5.0\"></circle></g><g fill=\"rgb(98.8%,55.3%,38.4%)\" fill-opacity=\"1.0\" id=\"node-11\" transform=\"translate(143.324,73.762)\"><circle r=\"5.0\"></circle></g><g fill=\"rgb(98.8%,55.3%,38.4%)\" fill-opacity=\"1.0\" id=\"node-12\" transform=\"translate(143.849,61.014)\"><circle r=\"5.0\"></circle></g><g fill=\"rgb(40%,76.1%,64.7%)\" fill-opacity=\"1.0\" id=\"node-13\" transform=\"translate(193.453,207.612)\"><circle r=\"5.0\"></circle></g><g fill=\"rgb(98.8%,55.3%,38.4%)\" fill-opacity=\"1.0\" id=\"node-14\" transform=\"translate(166.875,198.051)\"><circle r=\"5.0\"></circle></g><g fill=\"rgb(40%,76.1%,64.7%)\" fill-opacity=\"1.0\" id=\"node-15\" transform=\"translate(173.293,169.369)\"><circle r=\"5.0\"></circle></g><g fill=\"rgb(98.8%,55.3%,38.4%)\" fill-opacity=\"1.0\" id=\"node-16\" transform=\"translate(163.695,183.710)\"><circle r=\"5.0\"></circle></g><g fill=\"rgb(40%,76.1%,64.7%)\" fill-opacity=\"1.0\" id=\"node-17\" transform=\"translate(160.323,166.979)\"><circle r=\"5.0\"></circle></g><g fill=\"rgb(40%,76.1%,64.7%)\" fill-opacity=\"1.0\" id=\"node-18\" transform=\"translate(185.998,118.378)\"><circle r=\"5.0\"></circle></g><g fill=\"rgb(40%,76.1%,64.7%)\" fill-opacity=\"1.0\" id=\"node-19\" transform=\"translate(155.740,92.883)\"><circle r=\"5.0\"></circle></g><g fill=\"rgb(40%,76.1%,64.7%)\" fill-opacity=\"1.0\" id=\"node-20\" transform=\"translate(155.874,152.239)\"><circle r=\"5.0\"></circle></g><g fill=\"rgb(40%,76.1%,64.7%)\" fill-opacity=\"1.0\" id=\"node-21\" transform=\"translate(145.497,105.631)\"><circle r=\"5.0\"></circle></g><g fill=\"rgb(40%,76.1%,64.7%)\" fill-opacity=\"1.0\" id=\"node-22\" transform=\"translate(132.687,128.935)\"><circle r=\"5.0\"></circle></g><g fill=\"rgb(40%,76.1%,64.7%)\" fill-opacity=\"1.0\" id=\"node-23\" transform=\"translate(132.687,67.388)\"><circle r=\"5.0\"></circle></g><g fill=\"rgb(40%,76.1%,64.7%)\" fill-opacity=\"1.0\" id=\"node-24\" transform=\"translate(55.487,98.161)\"><circle r=\"5.0\"></circle></g></g><g class=\"toytree-TipLabels\" style=\"fill:rgb(14.9%,14.9%,14.9%);fill-opacity:1.0;font-family:helvetica;font-size:11px;font-weight:normal;stroke:none;white-space:pre\"><g transform=\"translate(198.15,213.99)rotate(0)\"><text style=\"\" x=\"15.00\" y=\"2.81\">38362_rex</text></g><g transform=\"translate(197.59,201.24)rotate(0)\"><text style=\"\" x=\"15.00\" y=\"2.81\">39618_rex</text></g><g transform=\"translate(191.86,188.49)rotate(0)\"><text style=\"\" x=\"15.00\" y=\"2.81\">35236_rex</text></g><g transform=\"translate(187.92,175.74)rotate(0)\"><text style=\"\" x=\"15.00\" y=\"2.81\">35855_rex</text></g><g transform=\"translate(187.73,163.00)rotate(0)\"><text style=\"\" x=\"15.00\" y=\"2.81\">40578_rex</text></g><g transform=\"translate(188.44,150.25)rotate(0)\"><text style=\"\" x=\"15.00\" y=\"2.81\">30556_thamno</text></g><g transform=\"translate(180.21,137.50)rotate(0)\"><text style=\"\" x=\"15.00\" y=\"2.81\">33413_thamno</text></g><g transform=\"translate(186.23,124.75)rotate(0)\"><text style=\"\" x=\"15.00\" y=\"2.81\">41478_cyathophylloides</text></g><g transform=\"translate(186.38,112.00)rotate(0)\"><text style=\"\" x=\"15.00\" y=\"2.81\">41954_cyathophylloides</text></g><g transform=\"translate(184.57,99.26)rotate(0)\"><text style=\"\" x=\"15.00\" y=\"2.81\">30686_cyathophylla</text></g><g transform=\"translate(183.04,86.51)rotate(0)\"><text style=\"\" x=\"15.00\" y=\"2.81\">29154_superba</text></g><g transform=\"translate(143.32,73.76)rotate(0)\"><text style=\"\" x=\"15.00\" y=\"2.81\">33588_przewalskii</text></g><g transform=\"translate(143.85,61.01)rotate(0)\"><text style=\"\" x=\"15.00\" y=\"2.81\">32082_przewalskii</text></g></g></g></g></g></svg><div class=\"toyplot-behavior\"><script>(function()\n",
       "{\n",
       "var modules={};\n",
       "})();</script></div></div>"
      ]
     },
     "metadata": {},
     "output_type": "display_data"
    }
   ],
   "source": [
    "# build a color list in node plot order with different values based on support\n",
    "colors = [\n",
    "    toytree.colors[0] if i==100 else toytree.colors[1] \n",
    "    for i in rtre.get_node_values('support', 1, 1)\n",
    "]\n",
    "\n",
    "# You can do the same without printing the 'idx' label on nodes.\n",
    "rtre.draw(\n",
    "    node_sizes=10,\n",
    "    node_colors=colors\n",
    ");"
   ]
  },
  {
   "cell_type": "markdown",
   "metadata": {},
   "source": [
    "### Drawing: saving figures\n",
    "Toytree drawings can be saved to disk using the `render` functions of toyplot. This is where it is useful to store the Canvas object as a variable when it is returned during a toytree drawing. You can save toyplot figures in a variety of formats, including HTML (which is actually an SVG figures wrapped in HTML with addition javascript to provide interactivity); or SVG, PDF, and PNG. "
   ]
  },
  {
   "cell_type": "code",
   "execution_count": 30,
   "metadata": {},
   "outputs": [
    {
     "data": {
      "text/html": [
       "<div class=\"toyplot\" id=\"t691d1fe03f6540e5938771b7286136d2\" style=\"text-align:center\"><svg class=\"toyplot-canvas-Canvas\" height=\"300.0px\" id=\"t99e00a40e93f4f0aaeb76c33f9a60434\" preserveAspectRatio=\"xMidYMid meet\" style=\"background-color:transparent;border-color:#292724;border-style:none;border-width:1.0;fill:rgb(16.1%,15.3%,14.1%);fill-opacity:1.0;font-family:Helvetica;font-size:12px;opacity:1.0;stroke:rgb(16.1%,15.3%,14.1%);stroke-opacity:1.0;stroke-width:1.0\" viewBox=\"0 0 400.0 300.0\" width=\"400.0px\" xmlns=\"http://www.w3.org/2000/svg\" xmlns:toyplot=\"http://www.sandia.gov/toyplot\" xmlns:xlink=\"http://www.w3.org/1999/xlink\"><g class=\"toyplot-coordinates-Cartesian\" id=\"ta8714bff855044bdb58e354a1a39933c\"><clipPath id=\"t2548e73d73df4f64b34e38184cb664c0\"><rect height=\"240.0\" width=\"340.0\" x=\"30.0\" y=\"30.0\"></rect></clipPath><g clip-path=\"url(#t2548e73d73df4f64b34e38184cb664c0)\"><g class=\"toytree-mark-Toytree\" id=\"t9a54e58671714f3b9ef3a7030001dbcc\"><g class=\"toytree-Edges\" style=\"fill:none;stroke:rgb(14.9%,14.9%,14.9%);stroke-linecap:round;stroke-opacity:1;stroke-width:2\"><path d=\"M 51.2 104.3 L 51.2 68.6 L 148.1 68.6\" id=\"24,23\"></path><path d=\"M 51.2 104.3 L 51.2 140.1 L 148.1 140.1\" id=\"24,22\"></path><path d=\"M 148.1 140.1 L 148.1 113.0 L 164.2 113.0\" id=\"22,21\"></path><path d=\"M 148.1 140.1 L 148.1 167.1 L 177.2 167.1\" id=\"22,20\"></path><path d=\"M 164.2 113.0 L 164.2 98.2 L 177.0 98.2\" id=\"21,19\"></path><path d=\"M 164.2 113.0 L 164.2 127.8 L 215.0 127.8\" id=\"21,18\"></path><path d=\"M 177.2 167.1 L 177.2 184.2 L 182.8 184.2\" id=\"20,17\"></path><path d=\"M 182.8 184.2 L 182.8 203.7 L 187.0 203.7\" id=\"17,16\"></path><path d=\"M 187.0 203.7 L 187.0 187.0 L 199.1 187.0\" id=\"16,15\"></path><path d=\"M 187.0 203.7 L 187.0 220.3 L 191.0 220.3\" id=\"16,14\"></path><path d=\"M 191.0 220.3 L 191.0 231.4 L 224.4 231.4\" id=\"14,13\"></path><path d=\"M 148.1 68.6 L 148.1 61.2 L 162.1 61.2\" id=\"23,12\"></path><path d=\"M 148.1 68.6 L 148.1 76.0 L 161.5 76.0\" id=\"23,11\"></path><path d=\"M 177.0 98.2 L 177.0 90.8 L 211.3 90.8\" id=\"19,10\"></path><path d=\"M 177.0 98.2 L 177.0 105.6 L 213.2 105.6\" id=\"19,9\"></path><path d=\"M 215.0 127.8 L 215.0 120.4 L 215.5 120.4\" id=\"18,8\"></path><path d=\"M 215.0 127.8 L 215.0 135.2 L 215.3 135.2\" id=\"18,7\"></path><path d=\"M 177.2 167.1 L 177.2 150.0 L 207.8 150.0\" id=\"20,6\"></path><path d=\"M 182.8 184.2 L 182.8 164.8 L 218.1 164.8\" id=\"17,5\"></path><path d=\"M 199.1 187.0 L 199.1 179.6 L 217.2 179.6\" id=\"15,4\"></path><path d=\"M 199.1 187.0 L 199.1 194.4 L 217.4 194.4\" id=\"15,3\"></path><path d=\"M 191.0 220.3 L 191.0 209.2 L 222.4 209.2\" id=\"14,2\"></path><path d=\"M 224.4 231.4 L 224.4 224.0 L 229.6 224.0\" id=\"13,1\"></path><path d=\"M 224.4 231.4 L 224.4 238.8 L 230.3 238.8\" id=\"13,0\"></path></g><g class=\"toytree-TipLabels\" style=\"fill:rgb(14.9%,14.9%,14.9%);fill-opacity:1.0;font-family:helvetica;font-size:11px;font-weight:normal;stroke:none;white-space:pre\"><g transform=\"translate(230.29,238.81)rotate(0)\"><text style=\"\" x=\"15.00\" y=\"2.81\">38362_rex</text></g><g transform=\"translate(229.58,224.01)rotate(0)\"><text style=\"\" x=\"15.00\" y=\"2.81\">39618_rex</text></g><g transform=\"translate(222.39,209.21)rotate(0)\"><text style=\"\" x=\"15.00\" y=\"2.81\">35236_rex</text></g><g transform=\"translate(217.45,194.40)rotate(0)\"><text style=\"\" x=\"15.00\" y=\"2.81\">35855_rex</text></g><g transform=\"translate(217.20,179.60)rotate(0)\"><text style=\"\" x=\"15.00\" y=\"2.81\">40578_rex</text></g><g transform=\"translate(218.09,164.80)rotate(0)\"><text style=\"\" x=\"15.00\" y=\"2.81\">30556_thamno</text></g><g transform=\"translate(207.76,150.00)rotate(0)\"><text style=\"\" x=\"15.00\" y=\"2.81\">33413_thamno</text></g><g transform=\"translate(215.31,135.20)rotate(0)\"><text style=\"\" x=\"15.00\" y=\"2.81\">41478_cyathophylloides</text></g><g transform=\"translate(215.51,120.40)rotate(0)\"><text style=\"\" x=\"15.00\" y=\"2.81\">41954_cyathophylloides</text></g><g transform=\"translate(213.24,105.60)rotate(0)\"><text style=\"\" x=\"15.00\" y=\"2.81\">30686_cyathophylla</text></g><g transform=\"translate(211.31,90.79)rotate(0)\"><text style=\"\" x=\"15.00\" y=\"2.81\">29154_superba</text></g><g transform=\"translate(161.46,75.99)rotate(0)\"><text style=\"\" x=\"15.00\" y=\"2.81\">33588_przewalskii</text></g><g transform=\"translate(162.12,61.19)rotate(0)\"><text style=\"\" x=\"15.00\" y=\"2.81\">32082_przewalskii</text></g></g></g></g></g></svg><div class=\"toyplot-behavior\"><script>(function()\n",
       "{\n",
       "var modules={};\n",
       "})();</script></div></div>"
      ]
     },
     "metadata": {},
     "output_type": "display_data"
    }
   ],
   "source": [
    "# draw a plot and store the Canvas object to a variable\n",
    "canvas, axes, mark = rtre.draw(width=400, height=300);"
   ]
  },
  {
   "cell_type": "markdown",
   "metadata": {},
   "source": [
    "HTML rendering is the default format. This will save the figure as a vector graphic (SVG) wrapped in HTML with additional optional javascript wrapping for interactive features. You can share the file with others and anyone can open it in a browser. You can embed it on your website, or even display it in emails!"
   ]
  },
  {
   "cell_type": "code",
   "execution_count": 31,
   "metadata": {},
   "outputs": [],
   "source": [
    "# for sharing through web-links (or even email!) html is great!\n",
    "toyplot.html.render(canvas, \"/tmp/tree-plot.html\")"
   ]
  },
  {
   "cell_type": "markdown",
   "metadata": {},
   "source": [
    "Optional formats: If you want to do additional styling of your figures in Illustrator or InkScape (recommended) then SVG is likely your best option. You can save figures in SVG by simply importing this as an additional option from toyplot. "
   ]
  },
  {
   "cell_type": "code",
   "execution_count": 32,
   "metadata": {},
   "outputs": [],
   "source": [
    "# for creating scientific figures SVG is often the most useful format\n",
    "import toyplot.svg\n",
    "toyplot.svg.render(canvas, \"/tmp/tree-plot.svg\")"
   ]
  },
  {
   "cell_type": "markdown",
   "metadata": {},
   "source": [
    "Despite the advantages of working with the SVG or HTML formats (e.g., vector graphics and interactive pop-ups), if you're like me you still sometimes love to have an old-fashioned PDF. Again, you can import this from toyplot. "
   ]
  },
  {
   "cell_type": "code",
   "execution_count": 33,
   "metadata": {},
   "outputs": [],
   "source": [
    "import toyplot.pdf\n",
    "toyplot.pdf.render(canvas, \"/tmp/tree-plot.pdf\")"
   ]
  },
  {
   "cell_type": "markdown",
   "metadata": {},
   "source": [
    "### Drawing: The Canvas, Axes, and coordinates  \n",
    "\n",
    "When you call the `toytree.draw()` function it returns two Toyplot objects which are used to display the figure. The first is the Canvas, which is the HTML element that holds the figure, and the second is a Cartesian axes object, which represent the coordinates for the plot. You can store these objects when they are returned by the `draw()` function to further manipulate the plot. Storing the Canvas is necessary in order to save the plot. "
   ]
  },
  {
   "cell_type": "markdown",
   "metadata": {},
   "source": [
    "#### The Canvas and Axes\n",
    "If you wish to combine multiple toytree figures into a single figure then it is easiest to first create instances of the toyplot Canvas and Axes objects and then to add the toytree drawing to this plot by using the `.draw(axes=axes)` argument. In the example below we first define the Canvas size, then define two coordinate axes inside of this Canvas, and then we pass these coordinate axes objects to two separate toytree drawings. \n"
   ]
  },
  {
   "cell_type": "code",
   "execution_count": 34,
   "metadata": {},
   "outputs": [
    {
     "data": {
      "text/html": [
       "<div class=\"toyplot\" id=\"ta45b3a7e542e4ce1a058e0b3d367def1\" style=\"text-align:center\"><svg class=\"toyplot-canvas-Canvas\" height=\"250.0px\" id=\"t0ca41d6cb96b4f3aba9f8fd8f2e7b547\" preserveAspectRatio=\"xMidYMid meet\" style=\"background-color:transparent;border-color:#292724;border-style:none;border-width:1.0;fill:rgb(16.1%,15.3%,14.1%);fill-opacity:1.0;font-family:Helvetica;font-size:12px;opacity:1.0;stroke:rgb(16.1%,15.3%,14.1%);stroke-opacity:1.0;stroke-width:1.0\" viewBox=\"0 0 700.0 250.0\" width=\"700.0px\" xmlns=\"http://www.w3.org/2000/svg\" xmlns:toyplot=\"http://www.sandia.gov/toyplot\" xmlns:xlink=\"http://www.w3.org/1999/xlink\"><g class=\"toyplot-coordinates-Cartesian\" id=\"tbb89675a7437449b806882ab52350cf0\"><clipPath id=\"tc89b7770a74444bf84d7d7f76f2b796e\"><rect height=\"240.0\" width=\"285.0\" x=\"50.0\" y=\"5.0\"></rect></clipPath><g clip-path=\"url(#tc89b7770a74444bf84d7d7f76f2b796e)\"><g class=\"toytree-mark-Toytree\" id=\"tacf9313d08c64852a8ee841a72304514\"><g class=\"toytree-Edges\" style=\"fill:none;stroke:rgb(14.9%,14.9%,14.9%);stroke-linecap:round;stroke-opacity:1;stroke-width:2\"><path d=\"M 71.1 78.8 L 71.1 42.7 L 146.6 42.7\" id=\"24,23\"></path><path d=\"M 71.1 78.8 L 71.1 114.9 L 146.6 114.9\" id=\"24,22\"></path><path d=\"M 146.6 114.9 L 146.6 87.6 L 159.1 87.6\" id=\"22,21\"></path><path d=\"M 146.6 114.9 L 146.6 142.3 L 169.2 142.3\" id=\"22,20\"></path><path d=\"M 159.1 87.6 L 159.1 72.6 L 169.1 72.6\" id=\"21,19\"></path><path d=\"M 159.1 87.6 L 159.1 102.6 L 198.7 102.6\" id=\"21,18\"></path><path d=\"M 169.2 142.3 L 169.2 159.6 L 173.6 159.6\" id=\"20,17\"></path><path d=\"M 173.6 159.6 L 173.6 179.2 L 176.9 179.2\" id=\"17,16\"></path><path d=\"M 176.9 179.2 L 176.9 162.4 L 186.2 162.4\" id=\"16,15\"></path><path d=\"M 176.9 179.2 L 176.9 196.1 L 180.0 196.1\" id=\"16,14\"></path><path d=\"M 180.0 196.1 L 180.0 207.3 L 205.9 207.3\" id=\"14,13\"></path><path d=\"M 146.6 42.7 L 146.6 35.2 L 157.5 35.2\" id=\"23,12\"></path><path d=\"M 146.6 42.7 L 146.6 50.2 L 157.0 50.2\" id=\"23,11\"></path><path d=\"M 169.1 72.6 L 169.1 65.2 L 195.8 65.2\" id=\"19,10\"></path><path d=\"M 169.1 72.6 L 169.1 80.1 L 197.3 80.1\" id=\"19,9\"></path><path d=\"M 198.7 102.6 L 198.7 95.1 L 199.0 95.1\" id=\"18,8\"></path><path d=\"M 198.7 102.6 L 198.7 110.0 L 198.9 110.0\" id=\"18,7\"></path><path d=\"M 169.2 142.3 L 169.2 125.0 L 193.0 125.0\" id=\"20,6\"></path><path d=\"M 173.6 159.6 L 173.6 140.0 L 201.0 140.0\" id=\"17,5\"></path><path d=\"M 186.2 162.4 L 186.2 154.9 L 200.3 154.9\" id=\"15,4\"></path><path d=\"M 186.2 162.4 L 186.2 169.9 L 200.5 169.9\" id=\"15,3\"></path><path d=\"M 180.0 196.1 L 180.0 184.8 L 204.4 184.8\" id=\"14,2\"></path><path d=\"M 205.9 207.3 L 205.9 199.8 L 210.0 199.8\" id=\"13,1\"></path><path d=\"M 205.9 207.3 L 205.9 214.8 L 210.5 214.8\" id=\"13,0\"></path></g><g class=\"toytree-AlignEdges\" style=\"stroke:rgb(66.3%,66.3%,66.3%);stroke-dasharray:2, 4;stroke-linecap:round;stroke-opacity:1.0;stroke-width:2\"><path d=\"M 210.5 214.8 L 210.5 214.8\"></path><path d=\"M 210.5 199.8 L 210.0 199.8\"></path><path d=\"M 210.5 184.8 L 204.4 184.8\"></path><path d=\"M 210.5 169.9 L 200.5 169.9\"></path><path d=\"M 210.5 154.9 L 200.3 154.9\"></path><path d=\"M 210.5 140.0 L 201.0 140.0\"></path><path d=\"M 210.5 125.0 L 193.0 125.0\"></path><path d=\"M 210.5 110.0 L 198.9 110.0\"></path><path d=\"M 210.5 95.1 L 199.0 95.1\"></path><path d=\"M 210.5 80.1 L 197.3 80.1\"></path><path d=\"M 210.5 65.2 L 195.8 65.2\"></path><path d=\"M 210.5 50.2 L 157.0 50.2\"></path><path d=\"M 210.5 35.2 L 157.5 35.2\"></path></g><g class=\"toytree-TipLabels\" style=\"fill:rgb(14.9%,14.9%,14.9%);fill-opacity:1.0;font-family:helvetica;font-size:9px;font-weight:normal;stroke:none;white-space:pre\"><g transform=\"translate(210.53,214.77)rotate(0)\"><text style=\"\" x=\"15.00\" y=\"2.30\">38362_rex</text></g><g transform=\"translate(210.53,199.81)rotate(0)\"><text style=\"\" x=\"15.00\" y=\"2.30\">39618_rex</text></g><g transform=\"translate(210.53,184.84)rotate(0)\"><text style=\"\" x=\"15.00\" y=\"2.30\">35236_rex</text></g><g transform=\"translate(210.53,169.88)rotate(0)\"><text style=\"\" x=\"15.00\" y=\"2.30\">35855_rex</text></g><g transform=\"translate(210.53,154.92)rotate(0)\"><text style=\"\" x=\"15.00\" y=\"2.30\">40578_rex</text></g><g transform=\"translate(210.53,139.96)rotate(0)\"><text style=\"\" x=\"15.00\" y=\"2.30\">30556_thamno</text></g><g transform=\"translate(210.53,125.00)rotate(0)\"><text style=\"\" x=\"15.00\" y=\"2.30\">33413_thamno</text></g><g transform=\"translate(210.53,110.04)rotate(0)\"><text style=\"\" x=\"15.00\" y=\"2.30\">41478_cyathophylloides</text></g><g transform=\"translate(210.53,95.08)rotate(0)\"><text style=\"\" x=\"15.00\" y=\"2.30\">41954_cyathophylloides</text></g><g transform=\"translate(210.53,80.12)rotate(0)\"><text style=\"\" x=\"15.00\" y=\"2.30\">30686_cyathophylla</text></g><g transform=\"translate(210.53,65.16)rotate(0)\"><text style=\"\" x=\"15.00\" y=\"2.30\">29154_superba</text></g><g transform=\"translate(210.53,50.19)rotate(0)\"><text style=\"\" x=\"15.00\" y=\"2.30\">33588_przewalskii</text></g><g transform=\"translate(210.53,35.23)rotate(0)\"><text style=\"\" x=\"15.00\" y=\"2.30\">32082_przewalskii</text></g></g></g></g></g><g class=\"toyplot-coordinates-Cartesian\" id=\"tcefd4d8591ca4d8d8d0acd802705f119\"><clipPath id=\"te5bfc2f1a6284cf8a5c2d24cba2c470e\"><rect height=\"240.0\" width=\"284.99999999999994\" x=\"365.00000000000006\" y=\"5.0\"></rect></clipPath><g clip-path=\"url(#te5bfc2f1a6284cf8a5c2d24cba2c470e)\"><g class=\"toytree-mark-Toytree\" id=\"ta9c76dc89ec94114904d684ec03bac0e\"><g class=\"toytree-Edges\" style=\"fill:none;stroke:rgb(14.9%,14.9%,14.9%);stroke-linecap:round;stroke-opacity:1;stroke-width:2\"><path d=\"M 386.1 78.8 L 386.1 42.7 L 461.6 42.7\" id=\"24,23\"></path><path d=\"M 386.1 78.8 L 386.1 114.9 L 461.6 114.9\" id=\"24,22\"></path><path d=\"M 461.6 114.9 L 461.6 87.6 L 474.1 87.6\" id=\"22,21\"></path><path d=\"M 461.6 114.9 L 461.6 142.3 L 484.2 142.3\" id=\"22,20\"></path><path d=\"M 474.1 87.6 L 474.1 72.6 L 484.1 72.6\" id=\"21,19\"></path><path d=\"M 474.1 87.6 L 474.1 102.6 L 513.7 102.6\" id=\"21,18\"></path><path d=\"M 484.2 142.3 L 484.2 159.6 L 488.6 159.6\" id=\"20,17\"></path><path d=\"M 488.6 159.6 L 488.6 179.2 L 491.9 179.2\" id=\"17,16\"></path><path d=\"M 491.9 179.2 L 491.9 162.4 L 501.2 162.4\" id=\"16,15\"></path><path d=\"M 491.9 179.2 L 491.9 196.1 L 495.0 196.1\" id=\"16,14\"></path><path d=\"M 495.0 196.1 L 495.0 207.3 L 520.9 207.3\" id=\"14,13\"></path><path d=\"M 461.6 42.7 L 461.6 35.2 L 472.5 35.2\" id=\"23,12\"></path><path d=\"M 461.6 42.7 L 461.6 50.2 L 472.0 50.2\" id=\"23,11\"></path><path d=\"M 484.1 72.6 L 484.1 65.2 L 510.8 65.2\" id=\"19,10\"></path><path d=\"M 484.1 72.6 L 484.1 80.1 L 512.3 80.1\" id=\"19,9\"></path><path d=\"M 513.7 102.6 L 513.7 95.1 L 514.0 95.1\" id=\"18,8\"></path><path d=\"M 513.7 102.6 L 513.7 110.0 L 513.9 110.0\" id=\"18,7\"></path><path d=\"M 484.2 142.3 L 484.2 125.0 L 508.0 125.0\" id=\"20,6\"></path><path d=\"M 488.6 159.6 L 488.6 140.0 L 516.0 140.0\" id=\"17,5\"></path><path d=\"M 501.2 162.4 L 501.2 154.9 L 515.3 154.9\" id=\"15,4\"></path><path d=\"M 501.2 162.4 L 501.2 169.9 L 515.5 169.9\" id=\"15,3\"></path><path d=\"M 495.0 196.1 L 495.0 184.8 L 519.4 184.8\" id=\"14,2\"></path><path d=\"M 520.9 207.3 L 520.9 199.8 L 525.0 199.8\" id=\"13,1\"></path><path d=\"M 520.9 207.3 L 520.9 214.8 L 525.5 214.8\" id=\"13,0\"></path></g><g class=\"toytree-AlignEdges\" style=\"stroke:rgb(66.3%,66.3%,66.3%);stroke-dasharray:2, 4;stroke-linecap:round;stroke-opacity:1.0;stroke-width:2\"><path d=\"M 525.5 214.8 L 525.5 214.8\"></path><path d=\"M 525.5 199.8 L 525.0 199.8\"></path><path d=\"M 525.5 184.8 L 519.4 184.8\"></path><path d=\"M 525.5 169.9 L 515.5 169.9\"></path><path d=\"M 525.5 154.9 L 515.3 154.9\"></path><path d=\"M 525.5 140.0 L 516.0 140.0\"></path><path d=\"M 525.5 125.0 L 508.0 125.0\"></path><path d=\"M 525.5 110.0 L 513.9 110.0\"></path><path d=\"M 525.5 95.1 L 514.0 95.1\"></path><path d=\"M 525.5 80.1 L 512.3 80.1\"></path><path d=\"M 525.5 65.2 L 510.8 65.2\"></path><path d=\"M 525.5 50.2 L 472.0 50.2\"></path><path d=\"M 525.5 35.2 L 472.5 35.2\"></path></g><g class=\"toytree-TipLabels\" style=\"fill:rgb(29.4%,0%,51%);fill-opacity:1.0;font-family:helvetica;font-size:9px;font-weight:normal;stroke:none;white-space:pre\"><g transform=\"translate(525.53,214.77)rotate(0)\"><text style=\"\" x=\"15.00\" y=\"2.30\">38362_rex</text></g><g transform=\"translate(525.53,199.81)rotate(0)\"><text style=\"\" x=\"15.00\" y=\"2.30\">39618_rex</text></g><g transform=\"translate(525.53,184.84)rotate(0)\"><text style=\"\" x=\"15.00\" y=\"2.30\">35236_rex</text></g><g transform=\"translate(525.53,169.88)rotate(0)\"><text style=\"\" x=\"15.00\" y=\"2.30\">35855_rex</text></g><g transform=\"translate(525.53,154.92)rotate(0)\"><text style=\"\" x=\"15.00\" y=\"2.30\">40578_rex</text></g><g transform=\"translate(525.53,139.96)rotate(0)\"><text style=\"\" x=\"15.00\" y=\"2.30\">30556_thamno</text></g><g transform=\"translate(525.53,125.00)rotate(0)\"><text style=\"\" x=\"15.00\" y=\"2.30\">33413_thamno</text></g><g transform=\"translate(525.53,110.04)rotate(0)\"><text style=\"\" x=\"15.00\" y=\"2.30\">41478_cyathophylloides</text></g><g transform=\"translate(525.53,95.08)rotate(0)\"><text style=\"\" x=\"15.00\" y=\"2.30\">41954_cyathophylloides</text></g><g transform=\"translate(525.53,80.12)rotate(0)\"><text style=\"\" x=\"15.00\" y=\"2.30\">30686_cyathophylla</text></g><g transform=\"translate(525.53,65.16)rotate(0)\"><text style=\"\" x=\"15.00\" y=\"2.30\">29154_superba</text></g><g transform=\"translate(525.53,50.19)rotate(0)\"><text style=\"\" x=\"15.00\" y=\"2.30\">33588_przewalskii</text></g><g transform=\"translate(525.53,35.23)rotate(0)\"><text style=\"\" x=\"15.00\" y=\"2.30\">32082_przewalskii</text></g></g></g></g></g></svg><div class=\"toyplot-behavior\"><script>(function()\n",
       "{\n",
       "var modules={};\n",
       "})();</script></div></div>"
      ]
     },
     "metadata": {},
     "output_type": "display_data"
    }
   ],
   "source": [
    "# set dimensions of the canvas\n",
    "canvas = toyplot.Canvas(width=700, height=250)\n",
    "\n",
    "# dissect canvas into multiple cartesian areas (x1, x2, y1, y2)\n",
    "ax0 = canvas.cartesian(bounds=('10%', '45%', '10%', '90%'))\n",
    "ax1 = canvas.cartesian(bounds=('55%', '90%', '10%', '90%'))\n",
    "\n",
    "# call draw with the 'axes' argument to pass it to a specific cartesian area\n",
    "style = {\n",
    "    \"tip_labels_align\": True,\n",
    "    \"tip_labels_style\": {\n",
    "        \"font-size\": \"9px\"\n",
    "    },\n",
    "}\n",
    "rtre.draw(axes=ax0, **style);\n",
    "rtre.draw(axes=ax1, tip_labels_colors='indigo', **style);\n",
    "\n",
    "# hide the axes (e.g, ticks and splines)\n",
    "ax0.show=False\n",
    "ax1.show=False"
   ]
  },
  {
   "cell_type": "markdown",
   "metadata": {},
   "source": [
    "#### The Coordinates\n",
    "Toytrees drawings are designed to use a set coordinate space within the axes to make it easy to situate additional plots to align with tree drawings. Regardless of whether the tree drawing is oriented 'right' or 'down' the farthest tip of the tree (not tip label but tip) will align at the zero-axis. For right-facing trees this means at x=0, for down-facing trees this means y=0. On the other axis, tree tips will be spaced from zero to ntips with a unit of 1 between each tip. For tips on aligning additional plotting methods (barplots, scatterplots, etc.) with toytree drawings see the Cookbook gallery. Below I add a grid to overlay tree plots in both orientations to highlight the coordinate space. "
   ]
  },
  {
   "cell_type": "code",
   "execution_count": 35,
   "metadata": {
    "scrolled": false
   },
   "outputs": [
    {
     "data": {
      "text/html": [
       "<div class=\"toyplot\" id=\"t15f50a8d0dde444d8a32d913e380af04\" style=\"text-align:center\"><svg class=\"toyplot-canvas-Canvas\" height=\"300.0px\" id=\"te80a1ec135844ca4b6d8d384693e8431\" preserveAspectRatio=\"xMidYMid meet\" style=\"background-color:transparent;border-color:#292724;border-style:none;border-width:1.0;fill:rgb(16.1%,15.3%,14.1%);fill-opacity:1.0;font-family:Helvetica;font-size:12px;opacity:1.0;stroke:rgb(16.1%,15.3%,14.1%);stroke-opacity:1.0;stroke-width:1.0\" viewBox=\"0 0 300.0 300.0\" width=\"300.0px\" xmlns=\"http://www.w3.org/2000/svg\" xmlns:toyplot=\"http://www.sandia.gov/toyplot\" xmlns:xlink=\"http://www.w3.org/1999/xlink\"><g class=\"toyplot-coordinates-Cartesian\" id=\"tc6d1968646a44797bb0659035232c170\"><clipPath id=\"tca1ed421913a4944bd1b16852aecc030\"><rect height=\"240.0\" width=\"240.0\" x=\"30.0\" y=\"30.0\"></rect></clipPath><g clip-path=\"url(#tca1ed421913a4944bd1b16852aecc030)\"><g class=\"toytree-mark-Toytree\" id=\"te3369c814bf74189aee5f96eddadccda\"><g class=\"toytree-Edges\" style=\"fill:none;stroke:rgb(14.9%,14.9%,14.9%);stroke-linecap:round;stroke-opacity:1;stroke-width:2\"><path d=\"M 52.0 99.6 L 52.0 60.1 L 158.1 60.1\" id=\"24,23\"></path><path d=\"M 52.0 99.6 L 52.0 139.0 L 158.1 139.0\" id=\"24,22\"></path><path d=\"M 158.1 139.0 L 158.1 109.2 L 175.7 109.2\" id=\"22,21\"></path><path d=\"M 158.1 139.0 L 158.1 168.9 L 189.9 168.9\" id=\"22,20\"></path><path d=\"M 175.7 109.2 L 175.7 92.8 L 189.7 92.8\" id=\"21,19\"></path><path d=\"M 175.7 109.2 L 175.7 125.5 L 231.3 125.5\" id=\"21,18\"></path><path d=\"M 189.9 168.9 L 189.9 187.8 L 196.0 187.8\" id=\"20,17\"></path><path d=\"M 196.0 187.8 L 196.0 209.2 L 200.7 209.2\" id=\"17,16\"></path><path d=\"M 200.7 209.2 L 200.7 190.8 L 213.9 190.8\" id=\"16,15\"></path><path d=\"M 200.7 209.2 L 200.7 227.6 L 205.1 227.6\" id=\"16,14\"></path><path d=\"M 205.1 227.6 L 205.1 239.9 L 241.6 239.9\" id=\"14,13\"></path><path d=\"M 158.1 60.1 L 158.1 52.0 L 173.4 52.0\" id=\"23,12\"></path><path d=\"M 158.1 60.1 L 158.1 68.3 L 172.7 68.3\" id=\"23,11\"></path><path d=\"M 189.7 92.8 L 189.7 84.6 L 227.3 84.6\" id=\"19,10\"></path><path d=\"M 189.7 92.8 L 189.7 101.0 L 229.4 101.0\" id=\"19,9\"></path><path d=\"M 231.3 125.5 L 231.3 117.3 L 231.9 117.3\" id=\"18,8\"></path><path d=\"M 231.3 125.5 L 231.3 133.7 L 231.6 133.7\" id=\"18,7\"></path><path d=\"M 189.9 168.9 L 189.9 150.0 L 223.4 150.0\" id=\"20,6\"></path><path d=\"M 196.0 187.8 L 196.0 166.3 L 234.7 166.3\" id=\"17,5\"></path><path d=\"M 213.9 190.8 L 213.9 182.7 L 233.7 182.7\" id=\"15,4\"></path><path d=\"M 213.9 190.8 L 213.9 199.0 L 234.0 199.0\" id=\"15,3\"></path><path d=\"M 205.1 227.6 L 205.1 215.4 L 239.4 215.4\" id=\"14,2\"></path><path d=\"M 241.6 239.9 L 241.6 231.7 L 247.3 231.7\" id=\"13,1\"></path><path d=\"M 241.6 239.9 L 241.6 248.0 L 248.0 248.0\" id=\"13,0\"></path></g><g class=\"toytree-AlignEdges\" style=\"stroke:rgb(66.3%,66.3%,66.3%);stroke-dasharray:2, 4;stroke-linecap:round;stroke-opacity:1.0;stroke-width:2\"><path d=\"M 248.0 248.0 L 248.0 248.0\"></path><path d=\"M 248.0 231.7 L 247.3 231.7\"></path><path d=\"M 248.0 215.4 L 239.4 215.4\"></path><path d=\"M 248.0 199.0 L 234.0 199.0\"></path><path d=\"M 248.0 182.7 L 233.7 182.7\"></path><path d=\"M 248.0 166.3 L 234.7 166.3\"></path><path d=\"M 248.0 150.0 L 223.4 150.0\"></path><path d=\"M 248.0 133.7 L 231.6 133.7\"></path><path d=\"M 248.0 117.3 L 231.9 117.3\"></path><path d=\"M 248.0 101.0 L 229.4 101.0\"></path><path d=\"M 248.0 84.6 L 227.3 84.6\"></path><path d=\"M 248.0 68.3 L 172.7 68.3\"></path><path d=\"M 248.0 52.0 L 173.4 52.0\"></path></g></g><g class=\"toyplot-mark-AxisLines\" id=\"tfa53117d546242559f1d665bfb7a83eb\" style=\"stroke:rgb(100%,0%,0%);stroke-dasharray:2,4;stroke-opacity:1.0\"><g class=\"toyplot-Series\"><line class=\"toyplot-Datum\" style=\"opacity:1.0;stroke:rgb(100%,0%,0%);stroke-dasharray:2,4;stroke-opacity:1.0\" x1=\"50.0\" x2=\"250.0\" y1=\"248.03921568627453\" y2=\"248.03921568627453\"></line><line class=\"toyplot-Datum\" style=\"opacity:1.0;stroke:rgb(100%,0%,0%);stroke-dasharray:2,4;stroke-opacity:1.0\" x1=\"50.0\" x2=\"250.0\" y1=\"215.35947712418297\" y2=\"215.35947712418297\"></line><line class=\"toyplot-Datum\" style=\"opacity:1.0;stroke:rgb(100%,0%,0%);stroke-dasharray:2,4;stroke-opacity:1.0\" x1=\"50.0\" x2=\"250.0\" y1=\"182.6797385620915\" y2=\"182.6797385620915\"></line><line class=\"toyplot-Datum\" style=\"opacity:1.0;stroke:rgb(100%,0%,0%);stroke-dasharray:2,4;stroke-opacity:1.0\" x1=\"50.0\" x2=\"250.0\" y1=\"150.0\" y2=\"150.0\"></line><line class=\"toyplot-Datum\" style=\"opacity:1.0;stroke:rgb(100%,0%,0%);stroke-dasharray:2,4;stroke-opacity:1.0\" x1=\"50.0\" x2=\"250.0\" y1=\"117.3202614379085\" y2=\"117.3202614379085\"></line><line class=\"toyplot-Datum\" style=\"opacity:1.0;stroke:rgb(100%,0%,0%);stroke-dasharray:2,4;stroke-opacity:1.0\" x1=\"50.0\" x2=\"250.0\" y1=\"84.640522875817\" y2=\"84.640522875817\"></line><line class=\"toyplot-Datum\" style=\"opacity:1.0;stroke:rgb(100%,0%,0%);stroke-dasharray:2,4;stroke-opacity:1.0\" x1=\"50.0\" x2=\"250.0\" y1=\"51.960784313725505\" y2=\"51.960784313725505\"></line></g></g><g class=\"toyplot-mark-AxisLines\" id=\"t6192398bbd0844a99590761117161a6f\" style=\"stroke:rgb(0%,0%,100%);stroke-dasharray:2,4;stroke-opacity:1.0\"><g class=\"toyplot-Series\"><line class=\"toyplot-Datum\" style=\"opacity:1.0;stroke:rgb(0%,0%,100%);stroke-dasharray:2,4;stroke-opacity:1.0\" x1=\"248.03921568627453\" x2=\"248.03921568627453\" y1=\"50.0\" y2=\"250.0\"></line></g></g></g><g class=\"toyplot-coordinates-Axis\" id=\"t1f050a3a2b684f8baf44c37b74ef2c84\" transform=\"translate(50.0,250.0)translate(0,20.0)\"><line style=\"\" x1=\"1.960784313725484\" x2=\"198.03921568627453\" y1=\"0\" y2=\"0\"></line><g><line style=\"\" x1=\"20.58123959182058\" x2=\"20.58123959182058\" y1=\"0\" y2=\"-5\"></line><line style=\"\" x1=\"79.7338982899719\" x2=\"79.7338982899719\" y1=\"0\" y2=\"-5\"></line><line style=\"\" x1=\"138.88655698812323\" x2=\"138.88655698812323\" y1=\"0\" y2=\"-5\"></line><line style=\"\" x1=\"198.03921568627453\" x2=\"198.03921568627453\" y1=\"0\" y2=\"-5\"></line></g><g><g transform=\"translate(20.58123959182058,6)\"><text style=\"fill:rgb(16.1%,15.3%,14.1%);fill-opacity:1.0;font-family:helvetica;font-size:10.0px;font-weight:normal;stroke:none;vertical-align:baseline;white-space:pre\" x=\"-11.395000000000001\" y=\"8.555\">-0.03</text></g><g transform=\"translate(79.7338982899719,6)\"><text style=\"fill:rgb(16.1%,15.3%,14.1%);fill-opacity:1.0;font-family:helvetica;font-size:10.0px;font-weight:normal;stroke:none;vertical-align:baseline;white-space:pre\" x=\"-11.395000000000001\" y=\"8.555\">-0.02</text></g><g transform=\"translate(138.88655698812323,6)\"><text style=\"fill:rgb(16.1%,15.3%,14.1%);fill-opacity:1.0;font-family:helvetica;font-size:10.0px;font-weight:normal;stroke:none;vertical-align:baseline;white-space:pre\" x=\"-11.395000000000001\" y=\"8.555\">-0.01</text></g><g transform=\"translate(198.03921568627453,6)\"><text style=\"fill:rgb(16.1%,15.3%,14.1%);fill-opacity:1.0;font-family:helvetica;font-size:10.0px;font-weight:normal;stroke:none;vertical-align:baseline;white-space:pre\" x=\"-9.729999999999999\" y=\"8.555\">0.00</text></g></g><g class=\"toyplot-coordinates-Axis-coordinates\" style=\"visibility:hidden\" transform=\"\"><line style=\"stroke:rgb(43.9%,50.2%,56.5%);stroke-opacity:1.0;stroke-width:1.0\" x1=\"0\" x2=\"0\" y1=\"-3.0\" y2=\"4.5\"></line><text style=\"alignment-baseline:alphabetic;fill:rgb(43.9%,50.2%,56.5%);fill-opacity:1.0;font-size:10px;font-weight:normal;stroke:none;text-anchor:middle\" x=\"0\" y=\"-6\"></text></g></g><g class=\"toyplot-coordinates-Axis\" id=\"t6b75e5902841469ca648a6d892152e8a\" transform=\"translate(50.0,250.0)rotate(-90.0)translate(0,-20.0)\"><line style=\"\" x1=\"1.9607843137254901\" x2=\"198.0392156862745\" y1=\"0\" y2=\"0\"></line><g><line style=\"\" x1=\"1.9607843137254901\" x2=\"1.9607843137254901\" y1=\"0\" y2=\"5\"></line><line style=\"\" x1=\"67.3202614379085\" x2=\"67.3202614379085\" y1=\"0\" y2=\"5\"></line><line style=\"\" x1=\"132.6797385620915\" x2=\"132.6797385620915\" y1=\"0\" y2=\"5\"></line><line style=\"\" x1=\"198.0392156862745\" x2=\"198.0392156862745\" y1=\"0\" y2=\"5\"></line></g><g><g transform=\"translate(1.9607843137254901,-6)\"><text style=\"fill:rgb(16.1%,15.3%,14.1%);fill-opacity:1.0;font-family:helvetica;font-size:10.0px;font-weight:normal;stroke:none;vertical-align:baseline;white-space:pre\" x=\"-2.78\" y=\"-4.440892098500626e-16\">0</text></g><g transform=\"translate(67.3202614379085,-6)\"><text style=\"fill:rgb(16.1%,15.3%,14.1%);fill-opacity:1.0;font-family:helvetica;font-size:10.0px;font-weight:normal;stroke:none;vertical-align:baseline;white-space:pre\" x=\"-2.78\" y=\"-4.440892098500626e-16\">4</text></g><g transform=\"translate(132.6797385620915,-6)\"><text style=\"fill:rgb(16.1%,15.3%,14.1%);fill-opacity:1.0;font-family:helvetica;font-size:10.0px;font-weight:normal;stroke:none;vertical-align:baseline;white-space:pre\" x=\"-2.78\" y=\"-4.440892098500626e-16\">8</text></g><g transform=\"translate(198.0392156862745,-6)\"><text style=\"fill:rgb(16.1%,15.3%,14.1%);fill-opacity:1.0;font-family:helvetica;font-size:10.0px;font-weight:normal;stroke:none;vertical-align:baseline;white-space:pre\" x=\"-5.56\" y=\"-4.440892098500626e-16\">12</text></g></g><g class=\"toyplot-coordinates-Axis-coordinates\" style=\"visibility:hidden\" transform=\"\"><line style=\"stroke:rgb(43.9%,50.2%,56.5%);stroke-opacity:1.0;stroke-width:1.0\" x1=\"0\" x2=\"0\" y1=\"3.0\" y2=\"-4.5\"></line><text style=\"alignment-baseline:hanging;fill:rgb(43.9%,50.2%,56.5%);fill-opacity:1.0;font-size:10px;font-weight:normal;stroke:none;text-anchor:middle\" x=\"0\" y=\"6\"></text></g></g></g></svg><div class=\"toyplot-behavior\"><script>(function()\n",
       "{\n",
       "var modules={};\n",
       "modules[\"toyplot/canvas/id\"] = \"te80a1ec135844ca4b6d8d384693e8431\";\n",
       "modules[\"toyplot/canvas\"] = (function(canvas_id)\n",
       "    {\n",
       "        return document.querySelector(\"#\" + canvas_id);\n",
       "    })(modules[\"toyplot/canvas/id\"]);\n",
       "modules[\"toyplot.coordinates.Axis\"] = (\n",
       "        function(canvas)\n",
       "        {\n",
       "            function sign(x)\n",
       "            {\n",
       "                return x < 0 ? -1 : x > 0 ? 1 : 0;\n",
       "            }\n",
       "\n",
       "            function mix(a, b, amount)\n",
       "            {\n",
       "                return ((1.0 - amount) * a) + (amount * b);\n",
       "            }\n",
       "\n",
       "            function log(x, base)\n",
       "            {\n",
       "                return Math.log(Math.abs(x)) / Math.log(base);\n",
       "            }\n",
       "\n",
       "            function in_range(a, x, b)\n",
       "            {\n",
       "                var left = Math.min(a, b);\n",
       "                var right = Math.max(a, b);\n",
       "                return left <= x && x <= right;\n",
       "            }\n",
       "\n",
       "            function inside(range, projection)\n",
       "            {\n",
       "                for(var i = 0; i != projection.length; ++i)\n",
       "                {\n",
       "                    var segment = projection[i];\n",
       "                    if(in_range(segment.range.min, range, segment.range.max))\n",
       "                        return true;\n",
       "                }\n",
       "                return false;\n",
       "            }\n",
       "\n",
       "            function to_domain(range, projection)\n",
       "            {\n",
       "                for(var i = 0; i != projection.length; ++i)\n",
       "                {\n",
       "                    var segment = projection[i];\n",
       "                    if(in_range(segment.range.bounds.min, range, segment.range.bounds.max))\n",
       "                    {\n",
       "                        if(segment.scale == \"linear\")\n",
       "                        {\n",
       "                            var amount = (range - segment.range.min) / (segment.range.max - segment.range.min);\n",
       "                            return mix(segment.domain.min, segment.domain.max, amount)\n",
       "                        }\n",
       "                        else if(segment.scale[0] == \"log\")\n",
       "                        {\n",
       "                            var amount = (range - segment.range.min) / (segment.range.max - segment.range.min);\n",
       "                            var base = segment.scale[1];\n",
       "                            return sign(segment.domain.min) * Math.pow(base, mix(log(segment.domain.min, base), log(segment.domain.max, base), amount));\n",
       "                        }\n",
       "                    }\n",
       "                }\n",
       "            }\n",
       "\n",
       "            var axes = {};\n",
       "\n",
       "            function display_coordinates(e)\n",
       "            {\n",
       "                var current = canvas.createSVGPoint();\n",
       "                current.x = e.clientX;\n",
       "                current.y = e.clientY;\n",
       "\n",
       "                for(var axis_id in axes)\n",
       "                {\n",
       "                    var axis = document.querySelector(\"#\" + axis_id);\n",
       "                    var coordinates = axis.querySelector(\".toyplot-coordinates-Axis-coordinates\");\n",
       "                    if(coordinates)\n",
       "                    {\n",
       "                        var projection = axes[axis_id];\n",
       "                        var local = current.matrixTransform(axis.getScreenCTM().inverse());\n",
       "                        if(inside(local.x, projection))\n",
       "                        {\n",
       "                            var domain = to_domain(local.x, projection);\n",
       "                            coordinates.style.visibility = \"visible\";\n",
       "                            coordinates.setAttribute(\"transform\", \"translate(\" + local.x + \")\");\n",
       "                            var text = coordinates.querySelector(\"text\");\n",
       "                            text.textContent = domain.toFixed(2);\n",
       "                        }\n",
       "                        else\n",
       "                        {\n",
       "                            coordinates.style.visibility= \"hidden\";\n",
       "                        }\n",
       "                    }\n",
       "                }\n",
       "            }\n",
       "\n",
       "            canvas.addEventListener(\"click\", display_coordinates);\n",
       "\n",
       "            var module = {};\n",
       "            module.show_coordinates = function(axis_id, projection)\n",
       "            {\n",
       "                axes[axis_id] = projection;\n",
       "            }\n",
       "\n",
       "            return module;\n",
       "        })(modules[\"toyplot/canvas\"]);\n",
       "(function(axis, axis_id, projection)\n",
       "        {\n",
       "            axis.show_coordinates(axis_id, projection);\n",
       "        })(modules[\"toyplot.coordinates.Axis\"],\"t1f050a3a2b684f8baf44c37b74ef2c84\",[{\"domain\": {\"bounds\": {\"max\": Infinity, \"min\": -Infinity}, \"max\": 0.00033147864472688057, \"min\": -0.033479343117414906}, \"range\": {\"bounds\": {\"max\": Infinity, \"min\": -Infinity}, \"max\": 200.0, \"min\": 0.0}, \"scale\": \"linear\"}]);\n",
       "(function(axis, axis_id, projection)\n",
       "        {\n",
       "            axis.show_coordinates(axis_id, projection);\n",
       "        })(modules[\"toyplot.coordinates.Axis\"],\"t6b75e5902841469ca648a6d892152e8a\",[{\"domain\": {\"bounds\": {\"max\": Infinity, \"min\": -Infinity}, \"max\": 12.120000000000001, \"min\": -0.12}, \"range\": {\"bounds\": {\"max\": Infinity, \"min\": -Infinity}, \"max\": 200.0, \"min\": 0.0}, \"scale\": \"linear\"}]);\n",
       "})();</script></div></div>"
      ]
     },
     "metadata": {},
     "output_type": "display_data"
    }
   ],
   "source": [
    "# store the returned Canvas and Axes objects\n",
    "canvas, axes, makr = rtre.draw(\n",
    "    width=300, \n",
    "    height=300, \n",
    "    tip_labels_align=True,\n",
    "    tip_labels=False,\n",
    ")\n",
    "\n",
    "# show the axes coordinates\n",
    "axes.show = True\n",
    "axes.x.ticks.show = True\n",
    "axes.y.ticks.show = True\n",
    "\n",
    "# overlay a grid \n",
    "axes.hlines(np.arange(0, 13, 2), style={\"stroke\": \"red\", \"stroke-dasharray\": \"2,4\"})\n",
    "axes.vlines(0, style={\"stroke\": \"blue\", \"stroke-dasharray\": \"2,4\"});"
   ]
  },
  {
   "cell_type": "code",
   "execution_count": 36,
   "metadata": {},
   "outputs": [
    {
     "data": {
      "text/html": [
       "<div class=\"toyplot\" id=\"tcdd5f5b1b7ec4651bdd6763a4e7506e9\" style=\"text-align:center\"><svg class=\"toyplot-canvas-Canvas\" height=\"300.0px\" id=\"t3c28e2dc4e234a6da4bb8a59a54d9358\" preserveAspectRatio=\"xMidYMid meet\" style=\"background-color:transparent;border-color:#292724;border-style:none;border-width:1.0;fill:rgb(16.1%,15.3%,14.1%);fill-opacity:1.0;font-family:Helvetica;font-size:12px;opacity:1.0;stroke:rgb(16.1%,15.3%,14.1%);stroke-opacity:1.0;stroke-width:1.0\" viewBox=\"0 0 300.0 300.0\" width=\"300.0px\" xmlns=\"http://www.w3.org/2000/svg\" xmlns:toyplot=\"http://www.sandia.gov/toyplot\" xmlns:xlink=\"http://www.w3.org/1999/xlink\"><g class=\"toyplot-coordinates-Cartesian\" id=\"tdfa2ee682fb8413796d89e0b5f717a89\"><clipPath id=\"tfbd169574e7f4768ad490d6f15e14f6a\"><rect height=\"240.0\" width=\"240.0\" x=\"30.0\" y=\"30.0\"></rect></clipPath><g clip-path=\"url(#tfbd169574e7f4768ad490d6f15e14f6a)\"><g class=\"toytree-mark-Toytree\" id=\"t348a802e30004eaaa886ae8390339cd7\"><g class=\"toytree-Edges\" style=\"fill:none;stroke:rgb(14.9%,14.9%,14.9%);stroke-linecap:round;stroke-opacity:1;stroke-width:2\"><path d=\"M 200.4 52.0 L 239.9 52.0 L 239.9 158.1\" id=\"24,23\"></path><path d=\"M 200.4 52.0 L 161.0 52.0 L 161.0 158.1\" id=\"24,22\"></path><path d=\"M 161.0 158.1 L 190.8 158.1 L 190.8 175.7\" id=\"22,21\"></path><path d=\"M 161.0 158.1 L 131.1 158.1 L 131.1 189.9\" id=\"22,20\"></path><path d=\"M 190.8 175.7 L 207.2 175.7 L 207.2 189.7\" id=\"21,19\"></path><path d=\"M 190.8 175.7 L 174.5 175.7 L 174.5 231.3\" id=\"21,18\"></path><path d=\"M 131.1 189.9 L 112.2 189.9 L 112.2 196.0\" id=\"20,17\"></path><path d=\"M 112.2 196.0 L 90.8 196.0 L 90.8 200.7\" id=\"17,16\"></path><path d=\"M 90.8 200.7 L 109.2 200.7 L 109.2 213.9\" id=\"16,15\"></path><path d=\"M 90.8 200.7 L 72.4 200.7 L 72.4 205.1\" id=\"16,14\"></path><path d=\"M 72.4 205.1 L 60.1 205.1 L 60.1 241.6\" id=\"14,13\"></path><path d=\"M 239.9 158.1 L 248.0 158.1 L 248.0 173.4\" id=\"23,12\"></path><path d=\"M 239.9 158.1 L 231.7 158.1 L 231.7 172.7\" id=\"23,11\"></path><path d=\"M 207.2 189.7 L 215.4 189.7 L 215.4 227.3\" id=\"19,10\"></path><path d=\"M 207.2 189.7 L 199.0 189.7 L 199.0 229.4\" id=\"19,9\"></path><path d=\"M 174.5 231.3 L 182.7 231.3 L 182.7 231.9\" id=\"18,8\"></path><path d=\"M 174.5 231.3 L 166.3 231.3 L 166.3 231.6\" id=\"18,7\"></path><path d=\"M 131.1 189.9 L 150.0 189.9 L 150.0 223.4\" id=\"20,6\"></path><path d=\"M 112.2 196.0 L 133.7 196.0 L 133.7 234.7\" id=\"17,5\"></path><path d=\"M 109.2 213.9 L 117.3 213.9 L 117.3 233.7\" id=\"15,4\"></path><path d=\"M 109.2 213.9 L 101.0 213.9 L 101.0 234.0\" id=\"15,3\"></path><path d=\"M 72.4 205.1 L 84.6 205.1 L 84.6 239.4\" id=\"14,2\"></path><path d=\"M 60.1 241.6 L 68.3 241.6 L 68.3 247.3\" id=\"13,1\"></path><path d=\"M 60.1 241.6 L 52.0 241.6 L 52.0 248.0\" id=\"13,0\"></path></g><g class=\"toytree-AlignEdges\" style=\"stroke:rgb(66.3%,66.3%,66.3%);stroke-dasharray:2, 4;stroke-linecap:round;stroke-opacity:1.0;stroke-width:2\"><path d=\"M 52.0 248.0 L 52.0 248.0\"></path><path d=\"M 68.3 248.0 L 68.3 247.3\"></path><path d=\"M 84.6 248.0 L 84.6 239.4\"></path><path d=\"M 101.0 248.0 L 101.0 234.0\"></path><path d=\"M 117.3 248.0 L 117.3 233.7\"></path><path d=\"M 133.7 248.0 L 133.7 234.7\"></path><path d=\"M 150.0 248.0 L 150.0 223.4\"></path><path d=\"M 166.3 248.0 L 166.3 231.6\"></path><path d=\"M 182.7 248.0 L 182.7 231.9\"></path><path d=\"M 199.0 248.0 L 199.0 229.4\"></path><path d=\"M 215.4 248.0 L 215.4 227.3\"></path><path d=\"M 231.7 248.0 L 231.7 172.7\"></path><path d=\"M 248.0 248.0 L 248.0 173.4\"></path></g></g><g class=\"toyplot-mark-AxisLines\" id=\"te6e9ff1d9d464b28b6c232c51d20fc1f\" style=\"stroke:rgb(100%,0%,0%);stroke-dasharray:2,4;stroke-opacity:1.0\"><g class=\"toyplot-Series\"><line class=\"toyplot-Datum\" style=\"opacity:1.0;stroke:rgb(100%,0%,0%);stroke-dasharray:2,4;stroke-opacity:1.0\" x1=\"51.9607843137255\" x2=\"51.9607843137255\" y1=\"50.0\" y2=\"250.0\"></line><line class=\"toyplot-Datum\" style=\"opacity:1.0;stroke:rgb(100%,0%,0%);stroke-dasharray:2,4;stroke-opacity:1.0\" x1=\"84.640522875817\" x2=\"84.640522875817\" y1=\"50.0\" y2=\"250.0\"></line><line class=\"toyplot-Datum\" style=\"opacity:1.0;stroke:rgb(100%,0%,0%);stroke-dasharray:2,4;stroke-opacity:1.0\" x1=\"117.3202614379085\" x2=\"117.3202614379085\" y1=\"50.0\" y2=\"250.0\"></line><line class=\"toyplot-Datum\" style=\"opacity:1.0;stroke:rgb(100%,0%,0%);stroke-dasharray:2,4;stroke-opacity:1.0\" x1=\"150.0\" x2=\"150.0\" y1=\"50.0\" y2=\"250.0\"></line><line class=\"toyplot-Datum\" style=\"opacity:1.0;stroke:rgb(100%,0%,0%);stroke-dasharray:2,4;stroke-opacity:1.0\" x1=\"182.6797385620915\" x2=\"182.6797385620915\" y1=\"50.0\" y2=\"250.0\"></line><line class=\"toyplot-Datum\" style=\"opacity:1.0;stroke:rgb(100%,0%,0%);stroke-dasharray:2,4;stroke-opacity:1.0\" x1=\"215.359477124183\" x2=\"215.359477124183\" y1=\"50.0\" y2=\"250.0\"></line><line class=\"toyplot-Datum\" style=\"opacity:1.0;stroke:rgb(100%,0%,0%);stroke-dasharray:2,4;stroke-opacity:1.0\" x1=\"248.0392156862745\" x2=\"248.0392156862745\" y1=\"50.0\" y2=\"250.0\"></line></g></g><g class=\"toyplot-mark-AxisLines\" id=\"t6f94346000974e02a0c826fb5229ac93\" style=\"stroke:rgb(0%,0%,100%);stroke-dasharray:2,4;stroke-opacity:1.0\"><g class=\"toyplot-Series\"><line class=\"toyplot-Datum\" style=\"opacity:1.0;stroke:rgb(0%,0%,100%);stroke-dasharray:2,4;stroke-opacity:1.0\" x1=\"50.0\" x2=\"250.0\" y1=\"248.03921568627453\" y2=\"248.03921568627453\"></line></g></g></g><g class=\"toyplot-coordinates-Axis\" id=\"t1901c1c0a57b4e5287d8011203c77f1d\" transform=\"translate(50.0,250.0)translate(0,20.0)\"><line style=\"\" x1=\"1.9607843137254901\" x2=\"198.0392156862745\" y1=\"0\" y2=\"0\"></line><g><line style=\"\" x1=\"1.9607843137254901\" x2=\"1.9607843137254901\" y1=\"0\" y2=\"-5\"></line><line style=\"\" x1=\"67.3202614379085\" x2=\"67.3202614379085\" y1=\"0\" y2=\"-5\"></line><line style=\"\" x1=\"132.6797385620915\" x2=\"132.6797385620915\" y1=\"0\" y2=\"-5\"></line><line style=\"\" x1=\"198.0392156862745\" x2=\"198.0392156862745\" y1=\"0\" y2=\"-5\"></line></g><g><g transform=\"translate(1.9607843137254901,6)\"><text style=\"fill:rgb(16.1%,15.3%,14.1%);fill-opacity:1.0;font-family:helvetica;font-size:10.0px;font-weight:normal;stroke:none;vertical-align:baseline;white-space:pre\" x=\"-2.78\" y=\"8.555\">0</text></g><g transform=\"translate(67.3202614379085,6)\"><text style=\"fill:rgb(16.1%,15.3%,14.1%);fill-opacity:1.0;font-family:helvetica;font-size:10.0px;font-weight:normal;stroke:none;vertical-align:baseline;white-space:pre\" x=\"-2.78\" y=\"8.555\">4</text></g><g transform=\"translate(132.6797385620915,6)\"><text style=\"fill:rgb(16.1%,15.3%,14.1%);fill-opacity:1.0;font-family:helvetica;font-size:10.0px;font-weight:normal;stroke:none;vertical-align:baseline;white-space:pre\" x=\"-2.78\" y=\"8.555\">8</text></g><g transform=\"translate(198.0392156862745,6)\"><text style=\"fill:rgb(16.1%,15.3%,14.1%);fill-opacity:1.0;font-family:helvetica;font-size:10.0px;font-weight:normal;stroke:none;vertical-align:baseline;white-space:pre\" x=\"-5.56\" y=\"8.555\">12</text></g></g><g class=\"toyplot-coordinates-Axis-coordinates\" style=\"visibility:hidden\" transform=\"\"><line style=\"stroke:rgb(43.9%,50.2%,56.5%);stroke-opacity:1.0;stroke-width:1.0\" x1=\"0\" x2=\"0\" y1=\"-3.0\" y2=\"4.5\"></line><text style=\"alignment-baseline:alphabetic;fill:rgb(43.9%,50.2%,56.5%);fill-opacity:1.0;font-size:10px;font-weight:normal;stroke:none;text-anchor:middle\" x=\"0\" y=\"-6\"></text></g></g><g class=\"toyplot-coordinates-Axis\" id=\"t7dcbd233cf8d446eb8c50beff3fa9acf\" transform=\"translate(50.0,250.0)rotate(-90.0)translate(0,-20.0)\"><line style=\"\" x1=\"1.9607843137254906\" x2=\"198.03921568627453\" y1=\"0\" y2=\"0\"></line><g><line style=\"\" x1=\"1.9607843137254906\" x2=\"1.9607843137254906\" y1=\"0\" y2=\"5\"></line><line style=\"\" x1=\"61.11344301187681\" x2=\"61.11344301187681\" y1=\"0\" y2=\"5\"></line><line style=\"\" x1=\"120.26610171002812\" x2=\"120.26610171002812\" y1=\"0\" y2=\"5\"></line><line style=\"\" x1=\"179.41876040817942\" x2=\"179.41876040817942\" y1=\"0\" y2=\"5\"></line></g><g><g transform=\"translate(1.9607843137254906,-6)\"><text style=\"fill:rgb(16.1%,15.3%,14.1%);fill-opacity:1.0;font-family:helvetica;font-size:10.0px;font-weight:normal;stroke:none;vertical-align:baseline;white-space:pre\" x=\"-9.729999999999999\" y=\"-4.440892098500626e-16\">0.00</text></g><g transform=\"translate(61.11344301187681,-6)\"><text style=\"fill:rgb(16.1%,15.3%,14.1%);fill-opacity:1.0;font-family:helvetica;font-size:10.0px;font-weight:normal;stroke:none;vertical-align:baseline;white-space:pre\" x=\"-9.729999999999999\" y=\"-4.440892098500626e-16\">0.01</text></g><g transform=\"translate(120.26610171002812,-6)\"><text style=\"fill:rgb(16.1%,15.3%,14.1%);fill-opacity:1.0;font-family:helvetica;font-size:10.0px;font-weight:normal;stroke:none;vertical-align:baseline;white-space:pre\" x=\"-9.729999999999999\" y=\"-4.440892098500626e-16\">0.02</text></g><g transform=\"translate(179.41876040817942,-6)\"><text style=\"fill:rgb(16.1%,15.3%,14.1%);fill-opacity:1.0;font-family:helvetica;font-size:10.0px;font-weight:normal;stroke:none;vertical-align:baseline;white-space:pre\" x=\"-9.729999999999999\" y=\"-4.440892098500626e-16\">0.03</text></g></g><g class=\"toyplot-coordinates-Axis-coordinates\" style=\"visibility:hidden\" transform=\"\"><line style=\"stroke:rgb(43.9%,50.2%,56.5%);stroke-opacity:1.0;stroke-width:1.0\" x1=\"0\" x2=\"0\" y1=\"3.0\" y2=\"-4.5\"></line><text style=\"alignment-baseline:hanging;fill:rgb(43.9%,50.2%,56.5%);fill-opacity:1.0;font-size:10px;font-weight:normal;stroke:none;text-anchor:middle\" x=\"0\" y=\"6\"></text></g></g></g></svg><div class=\"toyplot-behavior\"><script>(function()\n",
       "{\n",
       "var modules={};\n",
       "modules[\"toyplot/canvas/id\"] = \"t3c28e2dc4e234a6da4bb8a59a54d9358\";\n",
       "modules[\"toyplot/canvas\"] = (function(canvas_id)\n",
       "    {\n",
       "        return document.querySelector(\"#\" + canvas_id);\n",
       "    })(modules[\"toyplot/canvas/id\"]);\n",
       "modules[\"toyplot.coordinates.Axis\"] = (\n",
       "        function(canvas)\n",
       "        {\n",
       "            function sign(x)\n",
       "            {\n",
       "                return x < 0 ? -1 : x > 0 ? 1 : 0;\n",
       "            }\n",
       "\n",
       "            function mix(a, b, amount)\n",
       "            {\n",
       "                return ((1.0 - amount) * a) + (amount * b);\n",
       "            }\n",
       "\n",
       "            function log(x, base)\n",
       "            {\n",
       "                return Math.log(Math.abs(x)) / Math.log(base);\n",
       "            }\n",
       "\n",
       "            function in_range(a, x, b)\n",
       "            {\n",
       "                var left = Math.min(a, b);\n",
       "                var right = Math.max(a, b);\n",
       "                return left <= x && x <= right;\n",
       "            }\n",
       "\n",
       "            function inside(range, projection)\n",
       "            {\n",
       "                for(var i = 0; i != projection.length; ++i)\n",
       "                {\n",
       "                    var segment = projection[i];\n",
       "                    if(in_range(segment.range.min, range, segment.range.max))\n",
       "                        return true;\n",
       "                }\n",
       "                return false;\n",
       "            }\n",
       "\n",
       "            function to_domain(range, projection)\n",
       "            {\n",
       "                for(var i = 0; i != projection.length; ++i)\n",
       "                {\n",
       "                    var segment = projection[i];\n",
       "                    if(in_range(segment.range.bounds.min, range, segment.range.bounds.max))\n",
       "                    {\n",
       "                        if(segment.scale == \"linear\")\n",
       "                        {\n",
       "                            var amount = (range - segment.range.min) / (segment.range.max - segment.range.min);\n",
       "                            return mix(segment.domain.min, segment.domain.max, amount)\n",
       "                        }\n",
       "                        else if(segment.scale[0] == \"log\")\n",
       "                        {\n",
       "                            var amount = (range - segment.range.min) / (segment.range.max - segment.range.min);\n",
       "                            var base = segment.scale[1];\n",
       "                            return sign(segment.domain.min) * Math.pow(base, mix(log(segment.domain.min, base), log(segment.domain.max, base), amount));\n",
       "                        }\n",
       "                    }\n",
       "                }\n",
       "            }\n",
       "\n",
       "            var axes = {};\n",
       "\n",
       "            function display_coordinates(e)\n",
       "            {\n",
       "                var current = canvas.createSVGPoint();\n",
       "                current.x = e.clientX;\n",
       "                current.y = e.clientY;\n",
       "\n",
       "                for(var axis_id in axes)\n",
       "                {\n",
       "                    var axis = document.querySelector(\"#\" + axis_id);\n",
       "                    var coordinates = axis.querySelector(\".toyplot-coordinates-Axis-coordinates\");\n",
       "                    if(coordinates)\n",
       "                    {\n",
       "                        var projection = axes[axis_id];\n",
       "                        var local = current.matrixTransform(axis.getScreenCTM().inverse());\n",
       "                        if(inside(local.x, projection))\n",
       "                        {\n",
       "                            var domain = to_domain(local.x, projection);\n",
       "                            coordinates.style.visibility = \"visible\";\n",
       "                            coordinates.setAttribute(\"transform\", \"translate(\" + local.x + \")\");\n",
       "                            var text = coordinates.querySelector(\"text\");\n",
       "                            text.textContent = domain.toFixed(2);\n",
       "                        }\n",
       "                        else\n",
       "                        {\n",
       "                            coordinates.style.visibility= \"hidden\";\n",
       "                        }\n",
       "                    }\n",
       "                }\n",
       "            }\n",
       "\n",
       "            canvas.addEventListener(\"click\", display_coordinates);\n",
       "\n",
       "            var module = {};\n",
       "            module.show_coordinates = function(axis_id, projection)\n",
       "            {\n",
       "                axes[axis_id] = projection;\n",
       "            }\n",
       "\n",
       "            return module;\n",
       "        })(modules[\"toyplot/canvas\"]);\n",
       "(function(axis, axis_id, projection)\n",
       "        {\n",
       "            axis.show_coordinates(axis_id, projection);\n",
       "        })(modules[\"toyplot.coordinates.Axis\"],\"t1901c1c0a57b4e5287d8011203c77f1d\",[{\"domain\": {\"bounds\": {\"max\": Infinity, \"min\": -Infinity}, \"max\": 12.120000000000001, \"min\": -0.12}, \"range\": {\"bounds\": {\"max\": Infinity, \"min\": -Infinity}, \"max\": 200.0, \"min\": 0.0}, \"scale\": \"linear\"}]);\n",
       "(function(axis, axis_id, projection)\n",
       "        {\n",
       "            axis.show_coordinates(axis_id, projection);\n",
       "        })(modules[\"toyplot.coordinates.Axis\"],\"t7dcbd233cf8d446eb8c50beff3fa9acf\",[{\"domain\": {\"bounds\": {\"max\": Infinity, \"min\": -Infinity}, \"max\": 0.033479343117414906, \"min\": -0.0003314786447268803}, \"range\": {\"bounds\": {\"max\": Infinity, \"min\": -Infinity}, \"max\": 200.0, \"min\": 0.0}, \"scale\": \"linear\"}]);\n",
       "})();</script></div></div>"
      ]
     },
     "metadata": {},
     "output_type": "display_data"
    }
   ],
   "source": [
    "# store the returned Canvas and Axes objects\n",
    "canvas, axes, mark = rtre.draw(\n",
    "    width=300, \n",
    "    height=300, \n",
    "    tip_labels=False, \n",
    "    tip_labels_align=True,\n",
    "    layout='d',\n",
    ")\n",
    "\n",
    "# show the axes coordinates\n",
    "axes.show = True\n",
    "axes.x.ticks.show = True\n",
    "axes.y.ticks.show = True\n",
    "\n",
    "# overlay a grid \n",
    "axes.vlines(np.arange(0, 13, 2), style={\"stroke\": \"red\", \"stroke-dasharray\": \"2,4\"})\n",
    "axes.hlines(0, style={\"stroke\": \"blue\", \"stroke-dasharray\": \"2,4\"});"
   ]
  }
 ],
 "metadata": {
  "kernelspec": {
   "display_name": "Python 3",
   "language": "python",
   "name": "python3"
  },
  "language_info": {
   "codemirror_mode": {
    "name": "ipython",
    "version": 3
   },
   "file_extension": ".py",
   "mimetype": "text/x-python",
   "name": "python",
   "nbconvert_exporter": "python",
   "pygments_lexer": "ipython3",
   "version": "3.6.7"
  }
 },
 "nbformat": 4,
 "nbformat_minor": 2
}
