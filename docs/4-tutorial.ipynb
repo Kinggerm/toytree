{
 "cells": [
  {
   "cell_type": "markdown",
   "metadata": {},
   "source": [
    "# Quick Guide\n",
    "\n",
    "**Toytree** is a Python library for plotting, manipulating, and calculating statistcs on phylogenetic trees. It designed for use inside jupyter notebook (this entire tutorial was created using notebooks) but can also be integrated into any Python library. To begin, we will import `toytree`, and the plotting library it is built on, `toyplot`, as well as `numpy` for generating some numerical data. "
   ]
  },
  {
   "cell_type": "code",
   "execution_count": 194,
   "metadata": {
    "scrolled": true
   },
   "outputs": [],
   "source": [
    "import toytree       # a tree plotting library\n",
    "import toyplot       # a general plotting library\n",
    "import numpy as np   # numerical library"
   ]
  },
  {
   "cell_type": "code",
   "execution_count": 195,
   "metadata": {},
   "outputs": [
    {
     "name": "stdout",
     "output_type": "stream",
     "text": [
      "2.1.0-dev\n",
      "0.19.0\n",
      "1.18.1\n"
     ]
    }
   ],
   "source": [
    "print(toytree.__version__)\n",
    "print(toyplot.__version__)\n",
    "print(np.__version__)"
   ]
  },
  {
   "cell_type": "markdown",
   "metadata": {},
   "source": [
    "### Load and draw your first tree\n",
    "The main Class object in toytree is a `ToyTree`, which provides plotting functionality and access to many useful functions and attributes for returning info and statistics about trees. As we'll see below, you can generate a ToyTree object in many ways, but generally it is done by reading a newick formatted file or string of text.\n",
    "\n",
    "The example below uses the generic tree parsing function `toytree.tree()` to read a newick file from a public URL. This function can load trees from files, strings, URLs, and accepts options for parsing trees in a variety of formats (see [tree parsing]()). It returns a ToyTree instance which is then rooted and plotted below."
   ]
  },
  {
   "cell_type": "code",
   "execution_count": 196,
   "metadata": {},
   "outputs": [],
   "source": [
    "# load a toytree from a newick string at a URL\n",
    "tre = toytree.tree(\"https://eaton-lab.org/data/Cyathophora.tre\")"
   ]
  },
  {
   "cell_type": "code",
   "execution_count": 197,
   "metadata": {},
   "outputs": [
    {
     "data": {
      "text/html": [
       "<div class=\"toyplot\" id=\"t8ee24a57fb774e5087ce68db6c9f61bf\" style=\"text-align:center\"><svg class=\"toyplot-canvas-Canvas\" xmlns:toyplot=\"http://www.sandia.gov/toyplot\" xmlns:xlink=\"http://www.w3.org/1999/xlink\" xmlns=\"http://www.w3.org/2000/svg\" width=\"360.0px\" height=\"275.0px\" viewBox=\"0 0 360.0 275.0\" preserveAspectRatio=\"xMidYMid meet\" style=\"background-color:transparent;border-color:#292724;border-style:none;border-width:1.0;fill:rgb(16.1%,15.3%,14.1%);fill-opacity:1.0;font-family:Helvetica;font-size:12px;opacity:1.0;stroke:rgb(16.1%,15.3%,14.1%);stroke-opacity:1.0;stroke-width:1.0\" id=\"t603044fb96e846f896bff71806099c71\"><g class=\"toyplot-coordinates-Cartesian\" id=\"t13bc33f3ef014edc9f54fd47e907e4c6\"><clipPath id=\"t71b3a58295ea433c9557160230ccfd84\"><rect x=\"35.0\" y=\"35.0\" width=\"290.0\" height=\"205.0\"></rect></clipPath><g clip-path=\"url(#t71b3a58295ea433c9557160230ccfd84)\"><g class=\"toytree-mark-Toytree\" id=\"tdac89f1981ba46708e01c60e451d46bc\"><g class=\"toytree-Edges\" style=\"fill:none;stroke:rgba(16.1%,15.3%,14.1%,1.000);stroke-linecap:round;stroke-width:2.0\"><path d=\"M 174.3 212.1 L 174.3 218.9 L 178.5 218.9\" id=\"13,0\" style=\"stroke-width:nan\"></path><path d=\"M 174.3 212.1 L 174.3 205.3 L 178.0 205.3\" id=\"13,1\" style=\"stroke-width:nan\"></path><path d=\"M 150.3 201.9 L 150.3 191.7 L 172.8 191.7\" id=\"14,2\" style=\"stroke-width:nan\"></path><path d=\"M 156.1 171.4 L 156.1 178.2 L 169.3 178.2\" id=\"15,3\" style=\"stroke-width:nan\"></path><path d=\"M 156.1 171.4 L 156.1 164.6 L 169.1 164.6\" id=\"15,4\" style=\"stroke-width:nan\"></path><path d=\"M 144.4 168.9 L 144.4 151.1 L 169.8 151.1\" id=\"17,5\" style=\"stroke-width:nan\"></path><path d=\"M 140.4 153.2 L 140.4 137.5 L 162.3 137.5\" id=\"20,6\" style=\"stroke-width:nan\"></path><path d=\"M 167.6 117.2 L 167.6 123.9 L 167.8 123.9\" id=\"18,7\" style=\"stroke-width:nan\"></path><path d=\"M 167.6 117.2 L 167.6 110.4 L 167.9 110.4\" id=\"18,8\" style=\"stroke-width:nan\"></path><path d=\"M 140.3 90.0 L 140.3 96.8 L 166.3 96.8\" id=\"19,9\" style=\"stroke-width:nan\"></path><path d=\"M 140.3 90.0 L 140.3 83.3 L 164.9 83.3\" id=\"19,10\" style=\"stroke-width:nan\"></path><path d=\"M 119.5 62.9 L 119.5 69.7 L 129.1 69.7\" id=\"23,11\" style=\"stroke-width:nan\"></path><path d=\"M 119.5 62.9 L 119.5 56.1 L 129.6 56.1\" id=\"23,12\" style=\"stroke-width:nan\"></path><path d=\"M 150.3 201.9 L 150.3 212.1 L 174.3 212.1\" id=\"14,13\" style=\"stroke-width:nan\"></path><path d=\"M 147.5 186.7 L 147.5 201.9 L 150.3 201.9\" id=\"16,14\" style=\"stroke-width:nan\"></path><path d=\"M 147.5 186.7 L 147.5 171.4 L 156.1 171.4\" id=\"16,15\" style=\"stroke-width:nan\"></path><path d=\"M 144.4 168.9 L 144.4 186.7 L 147.5 186.7\" id=\"17,16\" style=\"stroke-width:nan\"></path><path d=\"M 140.4 153.2 L 140.4 168.9 L 144.4 168.9\" id=\"20,17\" style=\"stroke-width:nan\"></path><path d=\"M 131.1 103.6 L 131.1 117.2 L 167.6 117.2\" id=\"21,18\" style=\"stroke-width:nan\"></path><path d=\"M 131.1 103.6 L 131.1 90.0 L 140.3 90.0\" id=\"21,19\" style=\"stroke-width:nan\"></path><path d=\"M 119.5 128.4 L 119.5 153.2 L 140.4 153.2\" id=\"22,20\" style=\"stroke-width:nan\"></path><path d=\"M 119.5 128.4 L 119.5 103.6 L 131.1 103.6\" id=\"22,21\" style=\"stroke-width:nan\"></path><path d=\"M 50.0 95.7 L 50.0 128.4 L 119.5 128.4\" id=\"24,22\" style=\"stroke-width:nan\"></path><path d=\"M 50.0 95.7 L 50.0 62.9 L 119.5 62.9\" id=\"24,23\" style=\"stroke-width:nan\"></path></g><g class=\"toytree-AlignEdges\" style=\"stroke:rgba(66.3%,66.3%,66.3%,1.000);stroke-dasharray:2,4;stroke-linecap:round;stroke-opacity:0.75;stroke-width:2\"><path d=\"M 178.5 218.9 L 178.5 218.9\"></path><path d=\"M 178.5 205.3 L 178.0 205.3\"></path><path d=\"M 178.5 191.7 L 172.8 191.7\"></path><path d=\"M 178.5 178.2 L 169.3 178.2\"></path><path d=\"M 178.5 164.6 L 169.1 164.6\"></path><path d=\"M 178.5 151.1 L 169.8 151.1\"></path><path d=\"M 178.5 137.5 L 162.3 137.5\"></path><path d=\"M 178.5 123.9 L 167.8 123.9\"></path><path d=\"M 178.5 110.4 L 167.9 110.4\"></path><path d=\"M 178.5 96.8 L 166.3 96.8\"></path><path d=\"M 178.5 83.3 L 164.9 83.3\"></path><path d=\"M 178.5 69.7 L 129.1 69.7\"></path><path d=\"M 178.5 56.1 L 129.6 56.1\"></path></g><g class=\"toytree-TipLabels\" style=\"fill:rgb(16.1%,15.3%,14.1%);fill-opacity:1.0;font-family:Helvetica;font-size:11.0px;font-weight:300;stroke:none;vertical-align:baseline;white-space:pre\"><g class=\"toytree-TipLabel\" transform=\"translate(178.51320111935757,218.86291179596174)\"><text x=\"15.0\" y=\"2.8104999999999993\" style=\"\">38362_rex</text></g><g class=\"toytree-TipLabel\" transform=\"translate(178.51320111935757,205.30242649663478)\"><text x=\"15.0\" y=\"2.8104999999999993\" style=\"\">39618_rex</text></g><g class=\"toytree-TipLabel\" transform=\"translate(178.51320111935757,191.74194119730782)\"><text x=\"15.0\" y=\"2.8104999999999993\" style=\"\">35236_rex</text></g><g class=\"toytree-TipLabel\" transform=\"translate(178.51320111935757,178.18145589798087)\"><text x=\"15.0\" y=\"2.8104999999999993\" style=\"\">35855_rex</text></g><g class=\"toytree-TipLabel\" transform=\"translate(178.51320111935757,164.6209705986539)\"><text x=\"15.0\" y=\"2.8104999999999993\" style=\"\">40578_rex</text></g><g class=\"toytree-TipLabel\" transform=\"translate(178.51320111935757,151.06048529932696)\"><text x=\"15.0\" y=\"2.8104999999999993\" style=\"\">30556_thamno</text></g><g class=\"toytree-TipLabel\" transform=\"translate(178.51320111935757,137.5)\"><text x=\"15.0\" y=\"2.8104999999999993\" style=\"\">33413_thamno</text></g><g class=\"toytree-TipLabel\" transform=\"translate(178.51320111935757,123.93951470067304)\"><text x=\"15.0\" y=\"2.8104999999999993\" style=\"\">41478_cyathophylloides</text></g><g class=\"toytree-TipLabel\" transform=\"translate(178.51320111935757,110.37902940134609)\"><text x=\"15.0\" y=\"2.8104999999999993\" style=\"\">41954_cyathophylloides</text></g><g class=\"toytree-TipLabel\" transform=\"translate(178.51320111935757,96.81854410201913)\"><text x=\"15.0\" y=\"2.8104999999999993\" style=\"\">30686_cyathophylla</text></g><g class=\"toytree-TipLabel\" transform=\"translate(178.51320111935757,83.25805880269218)\"><text x=\"15.0\" y=\"2.8104999999999993\" style=\"\">29154_superba</text></g><g class=\"toytree-TipLabel\" transform=\"translate(178.51320111935757,69.6975735033652)\"><text x=\"15.0\" y=\"2.8104999999999993\" style=\"\">33588_przewalskii</text></g><g class=\"toytree-TipLabel\" transform=\"translate(178.51320111935757,56.13708820403825)\"><text x=\"15.0\" y=\"2.8104999999999993\" style=\"\">32082_przewalskii</text></g></g></g></g></g></svg><div class=\"toyplot-behavior\"><script>(function()\n",
       "{\n",
       "var modules={};\n",
       "})();</script></div></div>"
      ]
     },
     "metadata": {},
     "output_type": "display_data"
    }
   ],
   "source": [
    "# root and draw the tree (more details on this coming up...)\n",
    "rtre = tre.root(wildcard=\"prz\")\n",
    "rtre.draw(tip_labels_align=True);"
   ]
  },
  {
   "cell_type": "markdown",
   "metadata": {},
   "source": [
    "### Accessing tree data\n",
    "You can use tab-completion by typing the name of the tree variable (e.g., `rtre` below) followed by a dot and then pressing `<tab>` to see the many attributes of ToyTrees. Below I show just a few examples. Later we will see how to modify or set data on nodes of a tree."
   ]
  },
  {
   "cell_type": "code",
   "execution_count": 5,
   "metadata": {},
   "outputs": [
    {
     "data": {
      "text/plain": [
       "13"
      ]
     },
     "execution_count": 5,
     "metadata": {},
     "output_type": "execute_result"
    }
   ],
   "source": [
    "rtre.ntips"
   ]
  },
  {
   "cell_type": "code",
   "execution_count": 6,
   "metadata": {},
   "outputs": [
    {
     "data": {
      "text/plain": [
       "25"
      ]
     },
     "execution_count": 6,
     "metadata": {},
     "output_type": "execute_result"
    }
   ],
   "source": [
    "rtre.nnodes"
   ]
  },
  {
   "cell_type": "code",
   "execution_count": null,
   "metadata": {},
   "outputs": [],
   "source": [
    "rtre.draw(\n",
    "    node_labels=rtre.get_node_labels('idx'),\n",
    ")"
   ]
  },
  {
   "cell_type": "code",
   "execution_count": 219,
   "metadata": {},
   "outputs": [
    {
     "data": {
      "text/html": [
       "<div class=\"toyplot\" id=\"t60ad0d87262a4c80bca754c07e55bc80\" style=\"text-align:center\"><svg class=\"toyplot-canvas-Canvas\" xmlns:toyplot=\"http://www.sandia.gov/toyplot\" xmlns:xlink=\"http://www.w3.org/1999/xlink\" xmlns=\"http://www.w3.org/2000/svg\" width=\"260.0px\" height=\"275.0px\" viewBox=\"0 0 260.0 275.0\" preserveAspectRatio=\"xMidYMid meet\" style=\"background-color:transparent;border-color:#292724;border-style:none;border-width:1.0;fill:rgb(16.1%,15.3%,14.1%);fill-opacity:1.0;font-family:Helvetica;font-size:12px;opacity:1.0;stroke:rgb(16.1%,15.3%,14.1%);stroke-opacity:1.0;stroke-width:1.0\" id=\"t4d8060ee70504e25998365aa59ba29ca\"><g class=\"toyplot-coordinates-Cartesian\" id=\"t9b981bb07477492b80fc80d6493a48c4\"><clipPath id=\"te2a84c8014be4f9eb4cbd5476f650f04\"><rect x=\"35.0\" y=\"35.0\" width=\"190.0\" height=\"205.0\"></rect></clipPath><g clip-path=\"url(#te2a84c8014be4f9eb4cbd5476f650f04)\"><g class=\"toytree-mark-Toytree\" id=\"t3b798514d0e94593aace5f28f31b5002\"><g class=\"toytree-Edges\" style=\"fill:none;stroke:rgba(16.1%,15.3%,14.1%,1.000);stroke-linecap:round;stroke-width:2.0\"><path d=\"M 85.9 197.0 L 85.9 216.8 L 173.7 216.8\" id=\"16,0\" style=\"stroke-width:nan\"></path><path d=\"M 144.4 190.4 L 144.4 199.2 L 173.7 199.2\" id=\"10,1\" style=\"stroke-width:nan\"></path><path d=\"M 144.4 190.4 L 144.4 181.6 L 173.7 181.6\" id=\"10,2\" style=\"stroke-width:nan\"></path><path d=\"M 115.2 177.2 L 115.2 163.9 L 173.7 163.9\" id=\"13,3\" style=\"stroke-width:nan\"></path><path d=\"M 144.4 137.5 L 144.4 146.3 L 173.7 146.3\" id=\"11,4\" style=\"stroke-width:nan\"></path><path d=\"M 144.4 137.5 L 144.4 128.7 L 173.7 128.7\" id=\"11,5\" style=\"stroke-width:nan\"></path><path d=\"M 144.4 102.2 L 144.4 111.1 L 173.7 111.1\" id=\"12,6\" style=\"stroke-width:nan\"></path><path d=\"M 144.4 102.2 L 144.4 93.4 L 173.7 93.4\" id=\"12,7\" style=\"stroke-width:nan\"></path><path d=\"M 144.4 67.0 L 144.4 75.8 L 173.7 75.8\" id=\"15,8\" style=\"stroke-width:nan\"></path><path d=\"M 144.4 67.0 L 144.4 58.2 L 173.7 58.2\" id=\"15,9\" style=\"stroke-width:nan\"></path><path d=\"M 115.2 177.2 L 115.2 190.4 L 144.4 190.4\" id=\"13,10\" style=\"stroke-width:nan\"></path><path d=\"M 115.2 119.9 L 115.2 137.5 L 144.4 137.5\" id=\"14,11\" style=\"stroke-width:nan\"></path><path d=\"M 115.2 119.9 L 115.2 102.2 L 144.4 102.2\" id=\"14,12\" style=\"stroke-width:nan\"></path><path d=\"M 85.9 197.0 L 85.9 177.2 L 115.2 177.2\" id=\"16,13\" style=\"stroke-width:nan\"></path><path d=\"M 85.9 93.4 L 85.9 119.9 L 115.2 119.9\" id=\"17,14\" style=\"stroke-width:nan\"></path><path d=\"M 85.9 93.4 L 85.9 67.0 L 144.4 67.0\" id=\"17,15\" style=\"stroke-width:nan\"></path><path d=\"M 56.6 145.2 L 56.6 197.0 L 85.9 197.0\" id=\"18,16\" style=\"stroke-width:nan\"></path><path d=\"M 56.6 145.2 L 56.6 93.4 L 85.9 93.4\" id=\"18,17\" style=\"stroke-width:nan\"></path></g><g class=\"toytree-Nodes\" style=\"fill:rgba(82.7%,82.7%,82.7%,1.000);stroke:#262626;stroke-width:1.5\"><g id=\"node-0\" transform=\"translate(173.720,216.839)\"><circle r=\"9.0\"></circle></g><g id=\"node-1\" transform=\"translate(173.720,199.208)\"><circle r=\"9.0\"></circle></g><g id=\"node-2\" transform=\"translate(173.720,181.577)\"><circle r=\"9.0\"></circle></g><g id=\"node-3\" transform=\"translate(173.720,163.946)\"><circle r=\"9.0\"></circle></g><g id=\"node-4\" transform=\"translate(173.720,146.315)\"><circle r=\"9.0\"></circle></g><g id=\"node-5\" transform=\"translate(173.720,128.685)\"><circle r=\"9.0\"></circle></g><g id=\"node-6\" transform=\"translate(173.720,111.054)\"><circle r=\"9.0\"></circle></g><g id=\"node-7\" transform=\"translate(173.720,93.423)\"><circle r=\"9.0\"></circle></g><g id=\"node-8\" transform=\"translate(173.720,75.792)\"><circle r=\"9.0\"></circle></g><g id=\"node-9\" transform=\"translate(173.720,58.161)\"><circle r=\"9.0\"></circle></g><g id=\"node-10\" transform=\"translate(144.437,190.393)\"><circle r=\"9.0\"></circle></g><g id=\"node-11\" transform=\"translate(144.437,137.500)\"><circle r=\"9.0\"></circle></g><g id=\"node-12\" transform=\"translate(144.437,102.238)\"><circle r=\"9.0\"></circle></g><g id=\"node-13\" transform=\"translate(115.154,177.170)\"><circle r=\"9.0\"></circle></g><g id=\"node-14\" transform=\"translate(115.154,119.869)\"><circle r=\"9.0\"></circle></g><g id=\"node-15\" transform=\"translate(144.437,66.976)\"><circle r=\"9.0\"></circle></g><g id=\"node-16\" transform=\"translate(85.871,197.005)\"><circle r=\"9.0\"></circle></g><g id=\"node-17\" transform=\"translate(85.871,93.423)\"><circle r=\"9.0\"></circle></g><g id=\"node-18\" transform=\"translate(56.589,145.214)\"><circle r=\"9.0\"></circle></g></g><g class=\"toytree-NodeLabels\" style=\"font-family:Helvetica;font-size:9.0px;font-weight:300;stroke:none;vertical-align:baseline;white-space:pre\"><g class=\"toytree-NodeLabel\" transform=\"translate(173.7200193998847,216.839378238342)\"><text x=\"-2.5020000000000002\" y=\"2.2995\" style=\"fill:rgb(16.1%,15.3%,14.1%);fill-opacity:1.0\">0</text></g><g class=\"toytree-NodeLabel\" transform=\"translate(173.7200193998847,199.2084052964882)\"><text x=\"-2.5020000000000002\" y=\"2.2995\" style=\"fill:rgb(16.1%,15.3%,14.1%);fill-opacity:1.0\">1</text></g><g class=\"toytree-NodeLabel\" transform=\"translate(173.7200193998847,181.57743235463442)\"><text x=\"-2.5020000000000002\" y=\"2.2995\" style=\"fill:rgb(16.1%,15.3%,14.1%);fill-opacity:1.0\">2</text></g><g class=\"toytree-NodeLabel\" transform=\"translate(173.7200193998847,163.94645941278065)\"><text x=\"-2.5020000000000002\" y=\"2.2995\" style=\"fill:rgb(16.1%,15.3%,14.1%);fill-opacity:1.0\">3</text></g><g class=\"toytree-NodeLabel\" transform=\"translate(173.7200193998847,146.31548647092688)\"><text x=\"-2.5020000000000002\" y=\"2.2995\" style=\"fill:rgb(16.1%,15.3%,14.1%);fill-opacity:1.0\">4</text></g><g class=\"toytree-NodeLabel\" transform=\"translate(173.7200193998847,128.68451352907312)\"><text x=\"-2.5020000000000002\" y=\"2.2995\" style=\"fill:rgb(16.1%,15.3%,14.1%);fill-opacity:1.0\">5</text></g><g class=\"toytree-NodeLabel\" transform=\"translate(173.7200193998847,111.05354058721935)\"><text x=\"-2.5020000000000002\" y=\"2.2995\" style=\"fill:rgb(16.1%,15.3%,14.1%);fill-opacity:1.0\">6</text></g><g class=\"toytree-NodeLabel\" transform=\"translate(173.7200193998847,93.42256764536558)\"><text x=\"-2.5020000000000002\" y=\"2.2995\" style=\"fill:rgb(16.1%,15.3%,14.1%);fill-opacity:1.0\">7</text></g><g class=\"toytree-NodeLabel\" transform=\"translate(173.7200193998847,75.79159470351179)\"><text x=\"-2.5020000000000002\" y=\"2.2995\" style=\"fill:rgb(16.1%,15.3%,14.1%);fill-opacity:1.0\">8</text></g><g class=\"toytree-NodeLabel\" transform=\"translate(173.7200193998847,58.16062176165802)\"><text x=\"-2.5020000000000002\" y=\"2.2995\" style=\"fill:rgb(16.1%,15.3%,14.1%);fill-opacity:1.0\">9</text></g><g class=\"toytree-NodeLabel\" transform=\"translate(144.43717457150962,190.3929188255613)\"><text x=\"-5.0040000000000004\" y=\"2.2995\" style=\"fill:rgb(16.1%,15.3%,14.1%);fill-opacity:1.0\">10</text></g><g class=\"toytree-NodeLabel\" transform=\"translate(144.43717457150962,137.5)\"><text x=\"-5.0040000000000004\" y=\"2.2995\" style=\"fill:rgb(16.1%,15.3%,14.1%);fill-opacity:1.0\">11</text></g><g class=\"toytree-NodeLabel\" transform=\"translate(144.43717457150962,102.23805411629245)\"><text x=\"-5.0040000000000004\" y=\"2.2995\" style=\"fill:rgb(16.1%,15.3%,14.1%);fill-opacity:1.0\">12</text></g><g class=\"toytree-NodeLabel\" transform=\"translate(115.15432974313454,177.16968911917098)\"><text x=\"-5.0040000000000004\" y=\"2.2995\" style=\"fill:rgb(16.1%,15.3%,14.1%);fill-opacity:1.0\">13</text></g><g class=\"toytree-NodeLabel\" transform=\"translate(115.15432974313454,119.86902705814623)\"><text x=\"-5.0040000000000004\" y=\"2.2995\" style=\"fill:rgb(16.1%,15.3%,14.1%);fill-opacity:1.0\">14</text></g><g class=\"toytree-NodeLabel\" transform=\"translate(144.43717457150962,66.9761082325849)\"><text x=\"-5.0040000000000004\" y=\"2.2995\" style=\"fill:rgb(16.1%,15.3%,14.1%);fill-opacity:1.0\">15</text></g><g class=\"toytree-NodeLabel\" transform=\"translate(85.87148491475946,197.00453367875647)\"><text x=\"-5.0040000000000004\" y=\"2.2995\" style=\"fill:rgb(16.1%,15.3%,14.1%);fill-opacity:1.0\">16</text></g><g class=\"toytree-NodeLabel\" transform=\"translate(85.87148491475946,93.42256764536558)\"><text x=\"-5.0040000000000004\" y=\"2.2995\" style=\"fill:rgb(16.1%,15.3%,14.1%);fill-opacity:1.0\">17</text></g><g class=\"toytree-NodeLabel\" transform=\"translate(56.58864008638438,145.21355066206104)\"><text x=\"-5.0040000000000004\" y=\"2.2995\" style=\"fill:rgb(16.1%,15.3%,14.1%);fill-opacity:1.0\">18</text></g></g><g class=\"toytree-TipLabels\" style=\"fill:rgb(16.1%,15.3%,14.1%);fill-opacity:1.0;font-family:Helvetica;font-size:11.0px;font-weight:300;stroke:none;vertical-align:baseline;white-space:pre\"><g class=\"toytree-TipLabel\" transform=\"translate(173.7200193998847,216.839378238342)\"><text x=\"15.0\" y=\"2.8104999999999993\" style=\"\">r0</text></g><g class=\"toytree-TipLabel\" transform=\"translate(173.7200193998847,199.2084052964882)\"><text x=\"15.0\" y=\"2.8104999999999993\" style=\"\">r1</text></g><g class=\"toytree-TipLabel\" transform=\"translate(173.7200193998847,181.57743235463442)\"><text x=\"15.0\" y=\"2.8104999999999993\" style=\"\">r2</text></g><g class=\"toytree-TipLabel\" transform=\"translate(173.7200193998847,163.94645941278065)\"><text x=\"15.0\" y=\"2.8104999999999993\" style=\"\">r3</text></g><g class=\"toytree-TipLabel\" transform=\"translate(173.7200193998847,146.31548647092688)\"><text x=\"15.0\" y=\"2.8104999999999993\" style=\"\">r4</text></g><g class=\"toytree-TipLabel\" transform=\"translate(173.7200193998847,128.68451352907312)\"><text x=\"15.0\" y=\"2.8104999999999993\" style=\"\">r5</text></g><g class=\"toytree-TipLabel\" transform=\"translate(173.7200193998847,111.05354058721935)\"><text x=\"15.0\" y=\"2.8104999999999993\" style=\"\">r6</text></g><g class=\"toytree-TipLabel\" transform=\"translate(173.7200193998847,93.42256764536558)\"><text x=\"15.0\" y=\"2.8104999999999993\" style=\"\">r7</text></g><g class=\"toytree-TipLabel\" transform=\"translate(173.7200193998847,75.79159470351179)\"><text x=\"15.0\" y=\"2.8104999999999993\" style=\"\">r8</text></g><g class=\"toytree-TipLabel\" transform=\"translate(173.7200193998847,58.16062176165802)\"><text x=\"15.0\" y=\"2.8104999999999993\" style=\"\">r9</text></g></g></g></g></g></svg><div class=\"toyplot-behavior\"><script>(function()\n",
       "{\n",
       "var modules={};\n",
       "})();</script></div></div>"
      ]
     },
     "metadata": {},
     "output_type": "display_data"
    }
   ],
   "source": [
    "rtre.draw(ts='s');"
   ]
  },
  {
   "cell_type": "code",
   "execution_count": 8,
   "metadata": {},
   "outputs": [],
   "source": [
    "from toytree.core.drawing import container"
   ]
  },
  {
   "cell_type": "code",
   "execution_count": 10,
   "metadata": {},
   "outputs": [
    {
     "data": {
      "text/plain": [
       "0    (r0:665.39184062256766,(...\n",
       "1    ((r2:157.42575379641818,...\n",
       "2    ((r3:317.75545879030892,...\n",
       "3    (r1:1935.83824445214850,...\n",
       "4    ((r1:363.55100009648788,...\n",
       "5    ((r0:880.07090870674733,...\n",
       "6    (r2:9074.48977932393245,...\n",
       "7    (r4:5686.64013157671434,...\n",
       "8    ((r0:225.31326936594232,...\n",
       "9    ((r3:387.57750801177548,...\n",
       "Name: genealogy, dtype: object"
      ]
     },
     "execution_count": 10,
     "metadata": {},
     "output_type": "execute_result"
    }
   ],
   "source": [
    "mod = ipcoal.Model(tre)\n",
    "mod.sim_trees(10)\n",
    "mod.df.genealogy"
   ]
  },
  {
   "cell_type": "code",
   "execution_count": 12,
   "metadata": {},
   "outputs": [],
   "source": [
    "import numpy as np"
   ]
  },
  {
   "cell_type": "code",
   "execution_count": 19,
   "metadata": {
    "scrolled": true
   },
   "outputs": [
    {
     "data": {
      "text/plain": [
       "999.9999999999999"
      ]
     },
     "execution_count": 19,
     "metadata": {},
     "output_type": "execute_result"
    }
   ],
   "source": []
  },
  {
   "cell_type": "code",
   "execution_count": 6,
   "metadata": {
    "scrolled": false
   },
   "outputs": [
    {
     "ename": "AttributeError",
     "evalue": "'NoneType' object has no attribute 'genealogy'",
     "output_type": "error",
     "traceback": [
      "\u001b[0;31m---------------------------------------------------------------------------\u001b[0m",
      "\u001b[0;31mAttributeError\u001b[0m                            Traceback (most recent call last)",
      "\u001b[0;32m<ipython-input-6-0eee62be9ebe>\u001b[0m in \u001b[0;36m<module>\u001b[0;34m\u001b[0m\n\u001b[1;32m      2\u001b[0m \u001b[0;32mimport\u001b[0m \u001b[0mipcoal\u001b[0m\u001b[0;34m\u001b[0m\u001b[0;34m\u001b[0m\u001b[0m\n\u001b[1;32m      3\u001b[0m \u001b[0mtre\u001b[0m \u001b[0;34m=\u001b[0m \u001b[0mtoytree\u001b[0m\u001b[0;34m.\u001b[0m\u001b[0mrtree\u001b[0m\u001b[0;34m.\u001b[0m\u001b[0munittree\u001b[0m\u001b[0;34m(\u001b[0m\u001b[0;36m5\u001b[0m\u001b[0;34m)\u001b[0m\u001b[0;34m.\u001b[0m\u001b[0mset_node_data\u001b[0m\u001b[0;34m(\u001b[0m\u001b[0;34m\"Ne\"\u001b[0m\u001b[0;34m,\u001b[0m \u001b[0mdefault\u001b[0m\u001b[0;34m=\u001b[0m\u001b[0;36m1000\u001b[0m\u001b[0;34m)\u001b[0m\u001b[0;34m\u001b[0m\u001b[0;34m\u001b[0m\u001b[0m\n\u001b[0;32m----> 4\u001b[0;31m \u001b[0mcontainer\u001b[0m\u001b[0;34m.\u001b[0m\u001b[0mContainer\u001b[0m\u001b[0;34m(\u001b[0m\u001b[0mipcoal\u001b[0m\u001b[0;34m.\u001b[0m\u001b[0mModel\u001b[0m\u001b[0;34m(\u001b[0m\u001b[0mtree\u001b[0m\u001b[0;34m=\u001b[0m\u001b[0mtre\u001b[0m\u001b[0;34m,\u001b[0m \u001b[0mNe\u001b[0m\u001b[0;34m=\u001b[0m\u001b[0;36m1000\u001b[0m\u001b[0;34m)\u001b[0m\u001b[0;34m)\u001b[0m\u001b[0;34m;\u001b[0m\u001b[0;34m\u001b[0m\u001b[0;34m\u001b[0m\u001b[0m\n\u001b[0m",
      "\u001b[0;32m~/Documents/toytree/toytree/core/drawing/container.py\u001b[0m in \u001b[0;36m__init__\u001b[0;34m(self, model, idx, width, height, spacer, axes)\u001b[0m\n\u001b[1;32m     39\u001b[0m             \u001b[0mself\u001b[0m\u001b[0;34m.\u001b[0m\u001b[0mmodel\u001b[0m \u001b[0;34m=\u001b[0m \u001b[0mmodel\u001b[0m\u001b[0;34m\u001b[0m\u001b[0;34m\u001b[0m\u001b[0m\n\u001b[1;32m     40\u001b[0m             \u001b[0mself\u001b[0m\u001b[0;34m.\u001b[0m\u001b[0mtree\u001b[0m \u001b[0;34m=\u001b[0m \u001b[0mself\u001b[0m\u001b[0;34m.\u001b[0m\u001b[0mmodel\u001b[0m\u001b[0;34m.\u001b[0m\u001b[0mtree\u001b[0m\u001b[0;34m.\u001b[0m\u001b[0mcopy\u001b[0m\u001b[0;34m(\u001b[0m\u001b[0;34m)\u001b[0m\u001b[0;34m\u001b[0m\u001b[0;34m\u001b[0m\u001b[0m\n\u001b[0;32m---> 41\u001b[0;31m             \u001b[0mself\u001b[0m\u001b[0;34m.\u001b[0m\u001b[0mgtree\u001b[0m \u001b[0;34m=\u001b[0m \u001b[0mtoytree\u001b[0m\u001b[0;34m.\u001b[0m\u001b[0mtree\u001b[0m\u001b[0;34m(\u001b[0m\u001b[0mself\u001b[0m\u001b[0;34m.\u001b[0m\u001b[0mmodel\u001b[0m\u001b[0;34m.\u001b[0m\u001b[0mdf\u001b[0m\u001b[0;34m.\u001b[0m\u001b[0mgenealogy\u001b[0m\u001b[0;34m[\u001b[0m\u001b[0midx\u001b[0m\u001b[0;34m]\u001b[0m\u001b[0;34m)\u001b[0m\u001b[0;34m\u001b[0m\u001b[0;34m\u001b[0m\u001b[0m\n\u001b[0m\u001b[1;32m     42\u001b[0m             \u001b[0mself\u001b[0m\u001b[0;34m.\u001b[0m\u001b[0mgtree\u001b[0m \u001b[0;34m=\u001b[0m \u001b[0mself\u001b[0m\u001b[0;34m.\u001b[0m\u001b[0mgtree\u001b[0m\u001b[0;34m.\u001b[0m\u001b[0mmod\u001b[0m\u001b[0;34m.\u001b[0m\u001b[0mmake_ultrametric\u001b[0m\u001b[0;34m(\u001b[0m\u001b[0;34m)\u001b[0m\u001b[0;34m\u001b[0m\u001b[0;34m\u001b[0m\u001b[0m\n\u001b[1;32m     43\u001b[0m \u001b[0;34m\u001b[0m\u001b[0m\n",
      "\u001b[0;31mAttributeError\u001b[0m: 'NoneType' object has no attribute 'genealogy'"
     ]
    },
    {
     "data": {
      "text/html": [
       "<div class=\"toyplot\" id=\"t7cc6d23aa6894e9ca606ad739dbbccfb\" style=\"text-align:center\"><svg class=\"toyplot-canvas-Canvas\" xmlns:toyplot=\"http://www.sandia.gov/toyplot\" xmlns:xlink=\"http://www.w3.org/1999/xlink\" xmlns=\"http://www.w3.org/2000/svg\" width=\"400.0px\" height=\"400.0px\" viewBox=\"0 0 400.0 400.0\" preserveAspectRatio=\"xMidYMid meet\" style=\"background-color:transparent;border-color:#292724;border-style:none;border-width:1.0;fill:rgb(16.1%,15.3%,14.1%);fill-opacity:1.0;font-family:Helvetica;font-size:12px;opacity:1.0;stroke:rgb(16.1%,15.3%,14.1%);stroke-opacity:1.0;stroke-width:1.0\" id=\"tbdf5fb2e154c44978ff5dac1775771b4\"><g class=\"toyplot-coordinates-Cartesian\" id=\"tb95e0ad713b543bb9c2324aaa36740ca\"><clipPath id=\"tc5e34316555f4cac9eef87e7a9026008\"><rect x=\"40.0\" y=\"40.0\" width=\"320.0\" height=\"320.0\"></rect></clipPath><g clip-path=\"url(#tc5e34316555f4cac9eef87e7a9026008)\"></g><g class=\"toyplot-coordinates-Axis\" id=\"ta0933889980d40a69af1174b0f2f2fe2\" transform=\"translate(50.0,350.0)translate(0,10.0)\"><line x1=\"0\" y1=\"0\" x2=\"300.0\" y2=\"0\" style=\"\"></line><g><g transform=\"translate(0.0,6)\"><text x=\"-8.615\" y=\"8.555\" style=\"fill:rgb(16.1%,15.3%,14.1%);fill-opacity:1.0;font-family:helvetica;font-size:10.0px;font-weight:normal;stroke:none;vertical-align:baseline;white-space:pre\">-0.5</text></g><g transform=\"translate(150.0,6)\"><text x=\"-6.95\" y=\"8.555\" style=\"fill:rgb(16.1%,15.3%,14.1%);fill-opacity:1.0;font-family:helvetica;font-size:10.0px;font-weight:normal;stroke:none;vertical-align:baseline;white-space:pre\">0.0</text></g><g transform=\"translate(300.0,6)\"><text x=\"-6.95\" y=\"8.555\" style=\"fill:rgb(16.1%,15.3%,14.1%);fill-opacity:1.0;font-family:helvetica;font-size:10.0px;font-weight:normal;stroke:none;vertical-align:baseline;white-space:pre\">0.5</text></g></g><g class=\"toyplot-coordinates-Axis-coordinates\" style=\"visibility:hidden\" transform=\"\"><line x1=\"0\" x2=\"0\" y1=\"-3.0\" y2=\"4.5\" style=\"stroke:rgb(43.9%,50.2%,56.5%);stroke-opacity:1.0;stroke-width:1.0\"></line><text x=\"0\" y=\"-6\" style=\"alignment-baseline:alphabetic;fill:rgb(43.9%,50.2%,56.5%);fill-opacity:1.0;font-size:10px;font-weight:normal;stroke:none;text-anchor:middle\"></text></g></g><g class=\"toyplot-coordinates-Axis\" id=\"t4811e26571a84fdcac66b4e9147fd3bf\" transform=\"translate(50.0,350.0)rotate(-90.0)translate(0,-10.0)\"><line x1=\"0\" y1=\"0\" x2=\"300.0\" y2=\"0\" style=\"\"></line><g><g transform=\"translate(0.0,-6)\"><text x=\"-8.615\" y=\"-4.440892098500626e-16\" style=\"fill:rgb(16.1%,15.3%,14.1%);fill-opacity:1.0;font-family:helvetica;font-size:10.0px;font-weight:normal;stroke:none;vertical-align:baseline;white-space:pre\">-0.5</text></g><g transform=\"translate(150.0,-6)\"><text x=\"-6.95\" y=\"-4.440892098500626e-16\" style=\"fill:rgb(16.1%,15.3%,14.1%);fill-opacity:1.0;font-family:helvetica;font-size:10.0px;font-weight:normal;stroke:none;vertical-align:baseline;white-space:pre\">0.0</text></g><g transform=\"translate(300.0,-6)\"><text x=\"-6.95\" y=\"-4.440892098500626e-16\" style=\"fill:rgb(16.1%,15.3%,14.1%);fill-opacity:1.0;font-family:helvetica;font-size:10.0px;font-weight:normal;stroke:none;vertical-align:baseline;white-space:pre\">0.5</text></g></g><g class=\"toyplot-coordinates-Axis-coordinates\" style=\"visibility:hidden\" transform=\"\"><line x1=\"0\" x2=\"0\" y1=\"3.0\" y2=\"-4.5\" style=\"stroke:rgb(43.9%,50.2%,56.5%);stroke-opacity:1.0;stroke-width:1.0\"></line><text x=\"0\" y=\"6\" style=\"alignment-baseline:hanging;fill:rgb(43.9%,50.2%,56.5%);fill-opacity:1.0;font-size:10px;font-weight:normal;stroke:none;text-anchor:middle\"></text></g></g></g></svg><div class=\"toyplot-behavior\"><script>(function()\n",
       "{\n",
       "var modules={};\n",
       "modules[\"toyplot/canvas/id\"] = \"tbdf5fb2e154c44978ff5dac1775771b4\";\n",
       "modules[\"toyplot/canvas\"] = (function(canvas_id)\n",
       "    {\n",
       "        return document.querySelector(\"#\" + canvas_id);\n",
       "    })(modules[\"toyplot/canvas/id\"]);\n",
       "modules[\"toyplot.coordinates.Axis\"] = (\n",
       "        function(canvas)\n",
       "        {\n",
       "            function sign(x)\n",
       "            {\n",
       "                return x < 0 ? -1 : x > 0 ? 1 : 0;\n",
       "            }\n",
       "\n",
       "            function mix(a, b, amount)\n",
       "            {\n",
       "                return ((1.0 - amount) * a) + (amount * b);\n",
       "            }\n",
       "\n",
       "            function log(x, base)\n",
       "            {\n",
       "                return Math.log(Math.abs(x)) / Math.log(base);\n",
       "            }\n",
       "\n",
       "            function in_range(a, x, b)\n",
       "            {\n",
       "                var left = Math.min(a, b);\n",
       "                var right = Math.max(a, b);\n",
       "                return left <= x && x <= right;\n",
       "            }\n",
       "\n",
       "            function inside(range, projection)\n",
       "            {\n",
       "                for(var i = 0; i != projection.length; ++i)\n",
       "                {\n",
       "                    var segment = projection[i];\n",
       "                    if(in_range(segment.range.min, range, segment.range.max))\n",
       "                        return true;\n",
       "                }\n",
       "                return false;\n",
       "            }\n",
       "\n",
       "            function to_domain(range, projection)\n",
       "            {\n",
       "                for(var i = 0; i != projection.length; ++i)\n",
       "                {\n",
       "                    var segment = projection[i];\n",
       "                    if(in_range(segment.range.bounds.min, range, segment.range.bounds.max))\n",
       "                    {\n",
       "                        if(segment.scale == \"linear\")\n",
       "                        {\n",
       "                            var amount = (range - segment.range.min) / (segment.range.max - segment.range.min);\n",
       "                            return mix(segment.domain.min, segment.domain.max, amount)\n",
       "                        }\n",
       "                        else if(segment.scale[0] == \"log\")\n",
       "                        {\n",
       "                            var amount = (range - segment.range.min) / (segment.range.max - segment.range.min);\n",
       "                            var base = segment.scale[1];\n",
       "                            return sign(segment.domain.min) * Math.pow(base, mix(log(segment.domain.min, base), log(segment.domain.max, base), amount));\n",
       "                        }\n",
       "                    }\n",
       "                }\n",
       "            }\n",
       "\n",
       "            var axes = {};\n",
       "\n",
       "            function display_coordinates(e)\n",
       "            {\n",
       "                var current = canvas.createSVGPoint();\n",
       "                current.x = e.clientX;\n",
       "                current.y = e.clientY;\n",
       "\n",
       "                for(var axis_id in axes)\n",
       "                {\n",
       "                    var axis = document.querySelector(\"#\" + axis_id);\n",
       "                    var coordinates = axis.querySelector(\".toyplot-coordinates-Axis-coordinates\");\n",
       "                    if(coordinates)\n",
       "                    {\n",
       "                        var projection = axes[axis_id];\n",
       "                        var local = current.matrixTransform(axis.getScreenCTM().inverse());\n",
       "                        if(inside(local.x, projection))\n",
       "                        {\n",
       "                            var domain = to_domain(local.x, projection);\n",
       "                            coordinates.style.visibility = \"visible\";\n",
       "                            coordinates.setAttribute(\"transform\", \"translate(\" + local.x + \")\");\n",
       "                            var text = coordinates.querySelector(\"text\");\n",
       "                            text.textContent = domain.toFixed(2);\n",
       "                        }\n",
       "                        else\n",
       "                        {\n",
       "                            coordinates.style.visibility= \"hidden\";\n",
       "                        }\n",
       "                    }\n",
       "                }\n",
       "            }\n",
       "\n",
       "            canvas.addEventListener(\"click\", display_coordinates);\n",
       "\n",
       "            var module = {};\n",
       "            module.show_coordinates = function(axis_id, projection)\n",
       "            {\n",
       "                axes[axis_id] = projection;\n",
       "            }\n",
       "\n",
       "            return module;\n",
       "        })(modules[\"toyplot/canvas\"]);\n",
       "(function(axis, axis_id, projection)\n",
       "        {\n",
       "            axis.show_coordinates(axis_id, projection);\n",
       "        })(modules[\"toyplot.coordinates.Axis\"],\"ta0933889980d40a69af1174b0f2f2fe2\",[{\"domain\": {\"bounds\": {\"max\": Infinity, \"min\": -Infinity}, \"max\": 0.5, \"min\": -0.5}, \"range\": {\"bounds\": {\"max\": Infinity, \"min\": -Infinity}, \"max\": 300.0, \"min\": 0.0}, \"scale\": \"linear\"}]);\n",
       "(function(axis, axis_id, projection)\n",
       "        {\n",
       "            axis.show_coordinates(axis_id, projection);\n",
       "        })(modules[\"toyplot.coordinates.Axis\"],\"t4811e26571a84fdcac66b4e9147fd3bf\",[{\"domain\": {\"bounds\": {\"max\": Infinity, \"min\": -Infinity}, \"max\": 0.5, \"min\": -0.5}, \"range\": {\"bounds\": {\"max\": Infinity, \"min\": -Infinity}, \"max\": 300.0, \"min\": 0.0}, \"scale\": \"linear\"}]);\n",
       "})();</script></div></div>"
      ]
     },
     "metadata": {},
     "output_type": "display_data"
    }
   ],
   "source": [
    "import toytree\n",
    "import ipcoal\n",
    "tre = toytree.rtree.unittree(5).set_node_data(\"Ne\", default=1000)\n",
    "container.Container(ipcoal.Model(tree=tre, Ne=1000));"
   ]
  },
  {
   "cell_type": "code",
   "execution_count": 202,
   "metadata": {},
   "outputs": [],
   "source": [
    "# rtre.get_node_values()\n",
    "# [0, 1, 2, 3, 4]"
   ]
  },
  {
   "cell_type": "code",
   "execution_count": 207,
   "metadata": {},
   "outputs": [
    {
     "data": {
      "text/plain": [
       "0     1000\n",
       "1         \n",
       "2         \n",
       "3         \n",
       "4         \n",
       "5         \n",
       "6         \n",
       "7         \n",
       "8         \n",
       "9         \n",
       "10        \n",
       "11        \n",
       "12        \n",
       "13        \n",
       "14        \n",
       "15        \n",
       "16        \n",
       "17        \n",
       "18        \n",
       "Name: Ne, dtype: object"
      ]
     },
     "execution_count": 207,
     "metadata": {},
     "output_type": "execute_result"
    }
   ],
   "source": [
    "rtre = toytree.rtree.unittree(10)\n",
    "rtre = rtre.set_node_data(\"Ne\", {0: 1000})\n",
    "rtre.get_node_data(\"Ne\")"
   ]
  },
  {
   "cell_type": "code",
   "execution_count": 200,
   "metadata": {},
   "outputs": [
    {
     "data": {
      "text/plain": [
       "0       0.0\n",
       "1       0.0\n",
       "2       0.0\n",
       "3       0.0\n",
       "4       0.0\n",
       "5       0.0\n",
       "6       0.0\n",
       "7       0.0\n",
       "8       0.0\n",
       "9       0.0\n",
       "10      0.0\n",
       "11      0.0\n",
       "12      0.0\n",
       "13    100.0\n",
       "14     96.0\n",
       "15    100.0\n",
       "16     99.0\n",
       "17    100.0\n",
       "18    100.0\n",
       "19    100.0\n",
       "20    100.0\n",
       "21    100.0\n",
       "22    100.0\n",
       "23    100.0\n",
       "24    100.0\n",
       "Name: support, dtype: float64"
      ]
     },
     "execution_count": 200,
     "metadata": {},
     "output_type": "execute_result"
    }
   ],
   "source": [
    "rtre.get_node_data(\"support\")"
   ]
  },
  {
   "cell_type": "code",
   "execution_count": 8,
   "metadata": {},
   "outputs": [
    {
     "data": {
      "text/plain": [
       "(False, True)"
      ]
     },
     "execution_count": 8,
     "metadata": {},
     "output_type": "execute_result"
    }
   ],
   "source": [
    "tre.is_rooted(), rtre.is_rooted()"
   ]
  },
  {
   "cell_type": "code",
   "execution_count": 9,
   "metadata": {},
   "outputs": [
    {
     "data": {
      "text/plain": [
       "['38362_rex',\n",
       " '39618_rex',\n",
       " '35236_rex',\n",
       " '35855_rex',\n",
       " '40578_rex',\n",
       " '30556_thamno',\n",
       " '33413_thamno',\n",
       " '41478_cyathophylloides',\n",
       " '41954_cyathophylloides',\n",
       " '30686_cyathophylla',\n",
       " '29154_superba',\n",
       " '33588_przewalskii',\n",
       " '32082_przewalskii']"
      ]
     },
     "execution_count": 9,
     "metadata": {},
     "output_type": "execute_result"
    }
   ],
   "source": [
    "rtre.get_tip_labels()"
   ]
  },
  {
   "cell_type": "code",
   "execution_count": 10,
   "metadata": {
    "scrolled": false
   },
   "outputs": [
    {
     "data": {
      "text/plain": [
       "array([[13,  0],\n",
       "       [13,  1],\n",
       "       [14,  2],\n",
       "       [15,  3],\n",
       "       [15,  4],\n",
       "       [17,  5],\n",
       "       [20,  6],\n",
       "       [18,  7],\n",
       "       [18,  8],\n",
       "       [19,  9],\n",
       "       [19, 10],\n",
       "       [23, 11],\n",
       "       [23, 12],\n",
       "       [14, 13],\n",
       "       [16, 14],\n",
       "       [16, 15],\n",
       "       [17, 16],\n",
       "       [20, 17],\n",
       "       [21, 18],\n",
       "       [21, 19],\n",
       "       [22, 20],\n",
       "       [22, 21],\n",
       "       [24, 22],\n",
       "       [24, 23]])"
      ]
     },
     "execution_count": 10,
     "metadata": {},
     "output_type": "execute_result"
    }
   ],
   "source": [
    "rtre.get_edges()"
   ]
  },
  {
   "cell_type": "markdown",
   "metadata": {},
   "source": [
    "### Tree Classes\n",
    "\n",
    "The main Class objects in toytree exist as a nested hierarchy. The core of any tree is the `TreeNode` object, which stores the tree structure in memory and allows fast traversal over nodes of the tree to describe its structure. This object is wrapped inside of `ToyTree` objects, which provide convenient access to TreeNodes while also providing plotting and tree modification functions. Multiple ToyTrees can be grouped together into `MultiTree` objects, which are useful for iterating over multiple trees, or for generating plots that overlay and compare trees. \n",
    "\n",
    "The underlying TreeNode object of Toytrees will be familiar to users of the [ete3](http://etetoolkit.org/docs/latest/tutorial/tutorial_trees.html) Python library, since it is pretty much a stripped-down forked version of their TreeNode class object. This is useful since ete has great documentation. You can access the TreeNode of any ToyTree using its `.treenode` attribute, like below. Beginner toytree users are unlikely to need to access TreeNode objects directly, and instead will mostly access the tree structure through ToyTree objects."
   ]
  },
  {
   "cell_type": "code",
   "execution_count": 11,
   "metadata": {},
   "outputs": [
    {
     "data": {
      "text/plain": [
       "<TreeNode idx=23; dist=1.00e+00; is_root=True is_leaf=False/>"
      ]
     },
     "execution_count": 11,
     "metadata": {},
     "output_type": "execute_result"
    }
   ],
   "source": [
    "# a TreeNode object is contained within every ToyTree at .treenode\n",
    "tre.treenode"
   ]
  },
  {
   "cell_type": "code",
   "execution_count": 12,
   "metadata": {},
   "outputs": [
    {
     "data": {
      "text/plain": [
       "<ToyTree rooted=True, ntips=3, features=['dist', 'height', 'idx', 'name', 'support']>"
      ]
     },
     "execution_count": 12,
     "metadata": {},
     "output_type": "execute_result"
    }
   ],
   "source": [
    "# a ToyTree object\n",
    "toytree.tree(\"((a, b), c);\")"
   ]
  },
  {
   "cell_type": "code",
   "execution_count": 13,
   "metadata": {},
   "outputs": [
    {
     "data": {
      "text/plain": [
       "<toytree.MultiTree ntrees=3>"
      ]
     },
     "execution_count": 13,
     "metadata": {},
     "output_type": "execute_result"
    }
   ],
   "source": [
    "# a MultiTree object (more on this later)\n",
    "toytree.mtree([tre, tre, tre])"
   ]
  },
  {
   "cell_type": "markdown",
   "metadata": {},
   "source": [
    "### Drawing trees: basics\n",
    "\n",
    "When you call `.draw()` on a ToyTree it returns **three** objects, a `Canvas`, a `Cartesian` axes object, and a `Mark`. This follows the design principle of the `toyplot` plotting library on which toytree is based. The Canvas describes the plot space, and the Cartesian coordinates define how to project points onto that space. One canvas can have multiple cartesian coordinates, and each cartesian object can have multiple Marks. This will be demonstrated more later.\n",
    "\n",
    "As you will see below, I end many toytree drawing commands with a semicolon (;), this simply hides the printed return statement showing that the Canvas and Cartesian objects were returned. The Canvas will automatically render in the cell below the plot even if you do not save the return Canvas as a variable. Below I do not use a semicolon and so the three returned objects are shown as text (e.g., <toyplot.canvas.Canvas...>), and the plot is displayed. "
   ]
  },
  {
   "cell_type": "code",
   "execution_count": 14,
   "metadata": {},
   "outputs": [
    {
     "data": {
      "text/plain": [
       "(<toyplot.canvas.Canvas at 0x7f60edd5d340>,\n",
       " <toyplot.coordinates.Cartesian at 0x7f60edd5d400>,\n",
       " <toytree.core.drawing.toytree_mark.ToytreeMark at 0x7f61487472b0>)"
      ]
     },
     "execution_count": 14,
     "metadata": {},
     "output_type": "execute_result"
    },
    {
     "data": {
      "text/html": [
       "<div class=\"toyplot\" id=\"t0dd1d7a9455649278aa46885f945eff1\" style=\"text-align:center\"><svg class=\"toyplot-canvas-Canvas\" xmlns:toyplot=\"http://www.sandia.gov/toyplot\" xmlns:xlink=\"http://www.w3.org/1999/xlink\" xmlns=\"http://www.w3.org/2000/svg\" width=\"360.0px\" height=\"275.0px\" viewBox=\"0 0 360.0 275.0\" preserveAspectRatio=\"xMidYMid meet\" style=\"background-color:transparent;border-color:#292724;border-style:none;border-width:1.0;fill:rgb(16.1%,15.3%,14.1%);fill-opacity:1.0;font-family:Helvetica;font-size:12px;opacity:1.0;stroke:rgb(16.1%,15.3%,14.1%);stroke-opacity:1.0;stroke-width:1.0\" id=\"t12a223e4bcf04a39b6296d71063013fe\"><g class=\"toyplot-coordinates-Cartesian\" id=\"ta477a910aaf04b8ab5ca5a0774668465\"><clipPath id=\"tc1578ba53b6a4b89ba28c7f5da9ed9fe\"><rect x=\"35.0\" y=\"35.0\" width=\"290.0\" height=\"205.0\"></rect></clipPath><g clip-path=\"url(#tc1578ba53b6a4b89ba28c7f5da9ed9fe)\"><g class=\"toytree-mark-Toytree\" id=\"t16689eda89964700bb095b8f2e326e86\"><g class=\"toytree-Edges\" style=\"fill:none;stroke:rgba(16.1%,15.3%,14.1%,1.000);stroke-linecap:round;stroke-width:2.0\"><path d=\"M 179.6 212.1 L 179.6 218.9 L 184.0 218.9\" id=\"13,0\" style=\"stroke-width:nan\"></path><path d=\"M 179.6 212.1 L 179.6 205.3 L 183.5 205.3\" id=\"13,1\" style=\"stroke-width:nan\"></path><path d=\"M 154.6 201.9 L 154.6 191.7 L 178.1 191.7\" id=\"14,2\" style=\"stroke-width:nan\"></path><path d=\"M 160.6 171.4 L 160.6 178.2 L 174.4 178.2\" id=\"15,3\" style=\"stroke-width:nan\"></path><path d=\"M 160.6 171.4 L 160.6 164.6 L 174.2 164.6\" id=\"15,4\" style=\"stroke-width:nan\"></path><path d=\"M 148.5 168.9 L 148.5 151.1 L 174.9 151.1\" id=\"17,5\" style=\"stroke-width:nan\"></path><path d=\"M 144.3 153.2 L 144.3 137.5 L 167.1 137.5\" id=\"20,6\" style=\"stroke-width:nan\"></path><path d=\"M 172.6 117.2 L 172.6 123.9 L 172.8 123.9\" id=\"18,7\" style=\"stroke-width:nan\"></path><path d=\"M 172.6 117.2 L 172.6 110.4 L 172.9 110.4\" id=\"18,8\" style=\"stroke-width:nan\"></path><path d=\"M 144.1 90.0 L 144.1 96.8 L 171.2 96.8\" id=\"19,9\" style=\"stroke-width:nan\"></path><path d=\"M 144.1 90.0 L 144.1 83.3 L 169.8 83.3\" id=\"19,10\" style=\"stroke-width:nan\"></path><path d=\"M 122.5 62.9 L 122.5 69.7 L 132.5 69.7\" id=\"23,11\" style=\"stroke-width:nan\"></path><path d=\"M 122.5 62.9 L 122.5 56.1 L 133.0 56.1\" id=\"23,12\" style=\"stroke-width:nan\"></path><path d=\"M 154.6 201.9 L 154.6 212.1 L 179.6 212.1\" id=\"14,13\" style=\"stroke-width:nan\"></path><path d=\"M 151.6 186.7 L 151.6 201.9 L 154.6 201.9\" id=\"16,14\" style=\"stroke-width:nan\"></path><path d=\"M 151.6 186.7 L 151.6 171.4 L 160.6 171.4\" id=\"16,15\" style=\"stroke-width:nan\"></path><path d=\"M 148.5 168.9 L 148.5 186.7 L 151.6 186.7\" id=\"17,16\" style=\"stroke-width:nan\"></path><path d=\"M 144.3 153.2 L 144.3 168.9 L 148.5 168.9\" id=\"20,17\" style=\"stroke-width:nan\"></path><path d=\"M 134.5 103.6 L 134.5 117.2 L 172.6 117.2\" id=\"21,18\" style=\"stroke-width:nan\"></path><path d=\"M 134.5 103.6 L 134.5 90.0 L 144.1 90.0\" id=\"21,19\" style=\"stroke-width:nan\"></path><path d=\"M 122.5 128.4 L 122.5 153.2 L 144.3 153.2\" id=\"22,20\" style=\"stroke-width:nan\"></path><path d=\"M 122.5 128.4 L 122.5 103.6 L 134.5 103.6\" id=\"22,21\" style=\"stroke-width:nan\"></path><path d=\"M 50.0 95.7 L 50.0 128.4 L 122.5 128.4\" id=\"24,22\" style=\"stroke-width:nan\"></path><path d=\"M 50.0 95.7 L 50.0 62.9 L 122.5 62.9\" id=\"24,23\" style=\"stroke-width:nan\"></path></g><g class=\"toytree-TipLabels\" style=\"fill:rgb(16.1%,15.3%,14.1%);fill-opacity:1.0;font-family:Helvetica;font-size:11.0px;font-weight:300;stroke:none;vertical-align:baseline;white-space:pre\"><g class=\"toytree-TipLabel\" transform=\"translate(183.97798848197203,218.86291179596174)\"><text x=\"15.0\" y=\"2.8104999999999993\" style=\"\">38362_rex</text></g><g class=\"toytree-TipLabel\" transform=\"translate(183.45213378355513,205.30242649663478)\"><text x=\"15.0\" y=\"2.8104999999999993\" style=\"\">39618_rex</text></g><g class=\"toytree-TipLabel\" transform=\"translate(178.06798252197876,191.74194119730782)\"><text x=\"15.0\" y=\"2.8104999999999993\" style=\"\">35236_rex</text></g><g class=\"toytree-TipLabel\" transform=\"translate(174.37165832150754,178.18145589798087)\"><text x=\"15.0\" y=\"2.8104999999999993\" style=\"\">35855_rex</text></g><g class=\"toytree-TipLabel\" transform=\"translate(174.18746540982704,164.6209705986539)\"><text x=\"15.0\" y=\"2.8104999999999993\" style=\"\">40578_rex</text></g><g class=\"toytree-TipLabel\" transform=\"translate(174.85339382734423,151.06048529932696)\"><text x=\"15.0\" y=\"2.8104999999999993\" style=\"\">30556_thamno</text></g><g class=\"toytree-TipLabel\" transform=\"translate(167.12381474747545,137.5)\"><text x=\"15.0\" y=\"2.8104999999999993\" style=\"\">33413_thamno</text></g><g class=\"toytree-TipLabel\" transform=\"translate(172.77622483402453,123.93951470067304)\"><text x=\"15.0\" y=\"2.8104999999999993\" style=\"\">41478_cyathophylloides</text></g><g class=\"toytree-TipLabel\" transform=\"translate(172.9219669845375,110.37902940134609)\"><text x=\"15.0\" y=\"2.8104999999999993\" style=\"\">41954_cyathophylloides</text></g><g class=\"toytree-TipLabel\" transform=\"translate(171.22564525983904,96.81854410201913)\"><text x=\"15.0\" y=\"2.8104999999999993\" style=\"\">30686_cyathophylla</text></g><g class=\"toytree-TipLabel\" transform=\"translate(169.78238251667938,83.25805880269218)\"><text x=\"15.0\" y=\"2.8104999999999993\" style=\"\">29154_superba</text></g><g class=\"toytree-TipLabel\" transform=\"translate(132.48746912091843,69.6975735033652)\"><text x=\"15.0\" y=\"2.8104999999999993\" style=\"\">33588_przewalskii</text></g><g class=\"toytree-TipLabel\" transform=\"translate(132.98026425968115,56.13708820403825)\"><text x=\"15.0\" y=\"2.8104999999999993\" style=\"\">32082_przewalskii</text></g></g></g></g></g></svg><div class=\"toyplot-behavior\"><script>(function()\n",
       "{\n",
       "var modules={};\n",
       "})();</script></div></div>"
      ]
     },
     "metadata": {},
     "output_type": "display_data"
    }
   ],
   "source": [
    "rtre.draw()"
   ]
  },
  {
   "cell_type": "code",
   "execution_count": 16,
   "metadata": {},
   "outputs": [
    {
     "data": {
      "text/html": [
       "<div class=\"toyplot\" id=\"t2b7069e75bf44310a6a7e90c5a3e81fb\" style=\"text-align:center\"><svg class=\"toyplot-canvas-Canvas\" xmlns:toyplot=\"http://www.sandia.gov/toyplot\" xmlns:xlink=\"http://www.w3.org/1999/xlink\" xmlns=\"http://www.w3.org/2000/svg\" width=\"360.0px\" height=\"275.0px\" viewBox=\"0 0 360.0 275.0\" preserveAspectRatio=\"xMidYMid meet\" style=\"background-color:transparent;border-color:#292724;border-style:none;border-width:1.0;fill:rgb(16.1%,15.3%,14.1%);fill-opacity:1.0;font-family:Helvetica;font-size:12px;opacity:1.0;stroke:rgb(16.1%,15.3%,14.1%);stroke-opacity:1.0;stroke-width:1.0\" id=\"tebd4eb2b44054d88925a2fdf8207b5ef\"><g class=\"toyplot-coordinates-Cartesian\" id=\"tab597bbe8d0645cdac9a414169262756\"><clipPath id=\"t377c845747cd43059d549ea42b7be0f5\"><rect x=\"35.0\" y=\"35.0\" width=\"290.0\" height=\"205.0\"></rect></clipPath><g clip-path=\"url(#t377c845747cd43059d549ea42b7be0f5)\"><g class=\"toytree-mark-Toytree\" id=\"t5649f0ba091946788c0515a137524d0e\"><g class=\"toytree-Edges\" style=\"fill:none;stroke:rgba(16.1%,15.3%,14.1%,1.000);stroke-linecap:round;stroke-width:2.0\"><path d=\"M 179.6 212.1 L 179.6 218.9 L 184.0 218.9\" id=\"13,0\" style=\"stroke-width:nan\"></path><path d=\"M 179.6 212.1 L 179.6 205.3 L 183.5 205.3\" id=\"13,1\" style=\"stroke-width:nan\"></path><path d=\"M 154.6 201.9 L 154.6 191.7 L 178.1 191.7\" id=\"14,2\" style=\"stroke-width:nan\"></path><path d=\"M 160.6 171.4 L 160.6 178.2 L 174.4 178.2\" id=\"15,3\" style=\"stroke-width:nan\"></path><path d=\"M 160.6 171.4 L 160.6 164.6 L 174.2 164.6\" id=\"15,4\" style=\"stroke-width:nan\"></path><path d=\"M 148.5 168.9 L 148.5 151.1 L 174.9 151.1\" id=\"17,5\" style=\"stroke-width:nan\"></path><path d=\"M 144.3 153.2 L 144.3 137.5 L 167.1 137.5\" id=\"20,6\" style=\"stroke-width:nan\"></path><path d=\"M 172.6 117.2 L 172.6 123.9 L 172.8 123.9\" id=\"18,7\" style=\"stroke-width:nan\"></path><path d=\"M 172.6 117.2 L 172.6 110.4 L 172.9 110.4\" id=\"18,8\" style=\"stroke-width:nan\"></path><path d=\"M 144.1 90.0 L 144.1 96.8 L 171.2 96.8\" id=\"19,9\" style=\"stroke-width:nan\"></path><path d=\"M 144.1 90.0 L 144.1 83.3 L 169.8 83.3\" id=\"19,10\" style=\"stroke-width:nan\"></path><path d=\"M 122.5 62.9 L 122.5 69.7 L 132.5 69.7\" id=\"23,11\" style=\"stroke-width:nan\"></path><path d=\"M 122.5 62.9 L 122.5 56.1 L 133.0 56.1\" id=\"23,12\" style=\"stroke-width:nan\"></path><path d=\"M 154.6 201.9 L 154.6 212.1 L 179.6 212.1\" id=\"14,13\" style=\"stroke-width:nan\"></path><path d=\"M 151.6 186.7 L 151.6 201.9 L 154.6 201.9\" id=\"16,14\" style=\"stroke-width:nan\"></path><path d=\"M 151.6 186.7 L 151.6 171.4 L 160.6 171.4\" id=\"16,15\" style=\"stroke-width:nan\"></path><path d=\"M 148.5 168.9 L 148.5 186.7 L 151.6 186.7\" id=\"17,16\" style=\"stroke-width:nan\"></path><path d=\"M 144.3 153.2 L 144.3 168.9 L 148.5 168.9\" id=\"20,17\" style=\"stroke-width:nan\"></path><path d=\"M 134.5 103.6 L 134.5 117.2 L 172.6 117.2\" id=\"21,18\" style=\"stroke-width:nan\"></path><path d=\"M 134.5 103.6 L 134.5 90.0 L 144.1 90.0\" id=\"21,19\" style=\"stroke-width:nan\"></path><path d=\"M 122.5 128.4 L 122.5 153.2 L 144.3 153.2\" id=\"22,20\" style=\"stroke-width:nan\"></path><path d=\"M 122.5 128.4 L 122.5 103.6 L 134.5 103.6\" id=\"22,21\" style=\"stroke-width:nan\"></path><path d=\"M 50.0 95.7 L 50.0 128.4 L 122.5 128.4\" id=\"24,22\" style=\"stroke-width:nan\"></path><path d=\"M 50.0 95.7 L 50.0 62.9 L 122.5 62.9\" id=\"24,23\" style=\"stroke-width:nan\"></path></g><g class=\"toytree-TipLabels\" style=\"fill:rgb(16.1%,15.3%,14.1%);fill-opacity:1.0;font-family:Helvetica;font-size:11.0px;font-weight:300;stroke:none;vertical-align:baseline;white-space:pre\"><g class=\"toytree-TipLabel\" transform=\"translate(183.97798848197203,218.86291179596174)\"><text x=\"15.0\" y=\"2.8104999999999993\" style=\"\">38362_rex</text></g><g class=\"toytree-TipLabel\" transform=\"translate(183.45213378355513,205.30242649663478)\"><text x=\"15.0\" y=\"2.8104999999999993\" style=\"\">39618_rex</text></g><g class=\"toytree-TipLabel\" transform=\"translate(178.06798252197876,191.74194119730782)\"><text x=\"15.0\" y=\"2.8104999999999993\" style=\"\">35236_rex</text></g><g class=\"toytree-TipLabel\" transform=\"translate(174.37165832150754,178.18145589798087)\"><text x=\"15.0\" y=\"2.8104999999999993\" style=\"\">35855_rex</text></g><g class=\"toytree-TipLabel\" transform=\"translate(174.18746540982704,164.6209705986539)\"><text x=\"15.0\" y=\"2.8104999999999993\" style=\"\">40578_rex</text></g><g class=\"toytree-TipLabel\" transform=\"translate(174.85339382734423,151.06048529932696)\"><text x=\"15.0\" y=\"2.8104999999999993\" style=\"\">30556_thamno</text></g><g class=\"toytree-TipLabel\" transform=\"translate(167.12381474747545,137.5)\"><text x=\"15.0\" y=\"2.8104999999999993\" style=\"\">33413_thamno</text></g><g class=\"toytree-TipLabel\" transform=\"translate(172.77622483402453,123.93951470067304)\"><text x=\"15.0\" y=\"2.8104999999999993\" style=\"\">41478_cyathophylloides</text></g><g class=\"toytree-TipLabel\" transform=\"translate(172.9219669845375,110.37902940134609)\"><text x=\"15.0\" y=\"2.8104999999999993\" style=\"\">41954_cyathophylloides</text></g><g class=\"toytree-TipLabel\" transform=\"translate(171.22564525983904,96.81854410201913)\"><text x=\"15.0\" y=\"2.8104999999999993\" style=\"\">30686_cyathophylla</text></g><g class=\"toytree-TipLabel\" transform=\"translate(169.78238251667938,83.25805880269218)\"><text x=\"15.0\" y=\"2.8104999999999993\" style=\"\">29154_superba</text></g><g class=\"toytree-TipLabel\" transform=\"translate(132.48746912091843,69.6975735033652)\"><text x=\"15.0\" y=\"2.8104999999999993\" style=\"\">33588_przewalskii</text></g><g class=\"toytree-TipLabel\" transform=\"translate(132.98026425968115,56.13708820403825)\"><text x=\"15.0\" y=\"2.8104999999999993\" style=\"\">32082_przewalskii</text></g></g></g></g></g></svg><div class=\"toyplot-behavior\"><script>(function()\n",
       "{\n",
       "var modules={};\n",
       "})();</script></div></div>"
      ]
     },
     "metadata": {},
     "output_type": "display_data"
    }
   ],
   "source": [
    "# the semicolon hides the returned text of the Canvas and Cartesian objects\n",
    "rtre.draw();"
   ]
  },
  {
   "cell_type": "code",
   "execution_count": 17,
   "metadata": {},
   "outputs": [
    {
     "data": {
      "text/html": [
       "<div class=\"toyplot\" id=\"t27752c890d234144bad85b78dc0ae5d1\" style=\"text-align:center\"><svg class=\"toyplot-canvas-Canvas\" xmlns:toyplot=\"http://www.sandia.gov/toyplot\" xmlns:xlink=\"http://www.w3.org/1999/xlink\" xmlns=\"http://www.w3.org/2000/svg\" width=\"360.0px\" height=\"275.0px\" viewBox=\"0 0 360.0 275.0\" preserveAspectRatio=\"xMidYMid meet\" style=\"background-color:transparent;border-color:#292724;border-style:none;border-width:1.0;fill:rgb(16.1%,15.3%,14.1%);fill-opacity:1.0;font-family:Helvetica;font-size:12px;opacity:1.0;stroke:rgb(16.1%,15.3%,14.1%);stroke-opacity:1.0;stroke-width:1.0\" id=\"te7bb18adb19c42caaa73553b26dd1dab\"><g class=\"toyplot-coordinates-Cartesian\" id=\"ta0c2f0139735494a9869499852d8a73c\"><clipPath id=\"t77b828b6f27e42cda1504c02e8481e84\"><rect x=\"35.0\" y=\"35.0\" width=\"290.0\" height=\"205.0\"></rect></clipPath><g clip-path=\"url(#t77b828b6f27e42cda1504c02e8481e84)\"><g class=\"toytree-mark-Toytree\" id=\"t28ca8683eb8e4fa1911dc43134825e09\"><g class=\"toytree-Edges\" style=\"fill:none;stroke:rgba(16.1%,15.3%,14.1%,1.000);stroke-linecap:round;stroke-width:2.0\"><path d=\"M 179.6 212.1 L 179.6 218.9 L 184.0 218.9\" id=\"13,0\" style=\"stroke-width:nan\"></path><path d=\"M 179.6 212.1 L 179.6 205.3 L 183.5 205.3\" id=\"13,1\" style=\"stroke-width:nan\"></path><path d=\"M 154.6 201.9 L 154.6 191.7 L 178.1 191.7\" id=\"14,2\" style=\"stroke-width:nan\"></path><path d=\"M 160.6 171.4 L 160.6 178.2 L 174.4 178.2\" id=\"15,3\" style=\"stroke-width:nan\"></path><path d=\"M 160.6 171.4 L 160.6 164.6 L 174.2 164.6\" id=\"15,4\" style=\"stroke-width:nan\"></path><path d=\"M 148.5 168.9 L 148.5 151.1 L 174.9 151.1\" id=\"17,5\" style=\"stroke-width:nan\"></path><path d=\"M 144.3 153.2 L 144.3 137.5 L 167.1 137.5\" id=\"20,6\" style=\"stroke-width:nan\"></path><path d=\"M 172.6 117.2 L 172.6 123.9 L 172.8 123.9\" id=\"18,7\" style=\"stroke-width:nan\"></path><path d=\"M 172.6 117.2 L 172.6 110.4 L 172.9 110.4\" id=\"18,8\" style=\"stroke-width:nan\"></path><path d=\"M 144.1 90.0 L 144.1 96.8 L 171.2 96.8\" id=\"19,9\" style=\"stroke-width:nan\"></path><path d=\"M 144.1 90.0 L 144.1 83.3 L 169.8 83.3\" id=\"19,10\" style=\"stroke-width:nan\"></path><path d=\"M 122.5 62.9 L 122.5 69.7 L 132.5 69.7\" id=\"23,11\" style=\"stroke-width:nan\"></path><path d=\"M 122.5 62.9 L 122.5 56.1 L 133.0 56.1\" id=\"23,12\" style=\"stroke-width:nan\"></path><path d=\"M 154.6 201.9 L 154.6 212.1 L 179.6 212.1\" id=\"14,13\" style=\"stroke-width:nan\"></path><path d=\"M 151.6 186.7 L 151.6 201.9 L 154.6 201.9\" id=\"16,14\" style=\"stroke-width:nan\"></path><path d=\"M 151.6 186.7 L 151.6 171.4 L 160.6 171.4\" id=\"16,15\" style=\"stroke-width:nan\"></path><path d=\"M 148.5 168.9 L 148.5 186.7 L 151.6 186.7\" id=\"17,16\" style=\"stroke-width:nan\"></path><path d=\"M 144.3 153.2 L 144.3 168.9 L 148.5 168.9\" id=\"20,17\" style=\"stroke-width:nan\"></path><path d=\"M 134.5 103.6 L 134.5 117.2 L 172.6 117.2\" id=\"21,18\" style=\"stroke-width:nan\"></path><path d=\"M 134.5 103.6 L 134.5 90.0 L 144.1 90.0\" id=\"21,19\" style=\"stroke-width:nan\"></path><path d=\"M 122.5 128.4 L 122.5 153.2 L 144.3 153.2\" id=\"22,20\" style=\"stroke-width:nan\"></path><path d=\"M 122.5 128.4 L 122.5 103.6 L 134.5 103.6\" id=\"22,21\" style=\"stroke-width:nan\"></path><path d=\"M 50.0 95.7 L 50.0 128.4 L 122.5 128.4\" id=\"24,22\" style=\"stroke-width:nan\"></path><path d=\"M 50.0 95.7 L 50.0 62.9 L 122.5 62.9\" id=\"24,23\" style=\"stroke-width:nan\"></path></g><g class=\"toytree-TipLabels\" style=\"fill:rgb(16.1%,15.3%,14.1%);fill-opacity:1.0;font-family:Helvetica;font-size:11.0px;font-weight:300;stroke:none;vertical-align:baseline;white-space:pre\"><g class=\"toytree-TipLabel\" transform=\"translate(183.97798848197203,218.86291179596174)\"><text x=\"15.0\" y=\"2.8104999999999993\" style=\"\">38362_rex</text></g><g class=\"toytree-TipLabel\" transform=\"translate(183.45213378355513,205.30242649663478)\"><text x=\"15.0\" y=\"2.8104999999999993\" style=\"\">39618_rex</text></g><g class=\"toytree-TipLabel\" transform=\"translate(178.06798252197876,191.74194119730782)\"><text x=\"15.0\" y=\"2.8104999999999993\" style=\"\">35236_rex</text></g><g class=\"toytree-TipLabel\" transform=\"translate(174.37165832150754,178.18145589798087)\"><text x=\"15.0\" y=\"2.8104999999999993\" style=\"\">35855_rex</text></g><g class=\"toytree-TipLabel\" transform=\"translate(174.18746540982704,164.6209705986539)\"><text x=\"15.0\" y=\"2.8104999999999993\" style=\"\">40578_rex</text></g><g class=\"toytree-TipLabel\" transform=\"translate(174.85339382734423,151.06048529932696)\"><text x=\"15.0\" y=\"2.8104999999999993\" style=\"\">30556_thamno</text></g><g class=\"toytree-TipLabel\" transform=\"translate(167.12381474747545,137.5)\"><text x=\"15.0\" y=\"2.8104999999999993\" style=\"\">33413_thamno</text></g><g class=\"toytree-TipLabel\" transform=\"translate(172.77622483402453,123.93951470067304)\"><text x=\"15.0\" y=\"2.8104999999999993\" style=\"\">41478_cyathophylloides</text></g><g class=\"toytree-TipLabel\" transform=\"translate(172.9219669845375,110.37902940134609)\"><text x=\"15.0\" y=\"2.8104999999999993\" style=\"\">41954_cyathophylloides</text></g><g class=\"toytree-TipLabel\" transform=\"translate(171.22564525983904,96.81854410201913)\"><text x=\"15.0\" y=\"2.8104999999999993\" style=\"\">30686_cyathophylla</text></g><g class=\"toytree-TipLabel\" transform=\"translate(169.78238251667938,83.25805880269218)\"><text x=\"15.0\" y=\"2.8104999999999993\" style=\"\">29154_superba</text></g><g class=\"toytree-TipLabel\" transform=\"translate(132.48746912091843,69.6975735033652)\"><text x=\"15.0\" y=\"2.8104999999999993\" style=\"\">33588_przewalskii</text></g><g class=\"toytree-TipLabel\" transform=\"translate(132.98026425968115,56.13708820403825)\"><text x=\"15.0\" y=\"2.8104999999999993\" style=\"\">32082_przewalskii</text></g></g></g></g></g></svg><div class=\"toyplot-behavior\"><script>(function()\n",
       "{\n",
       "var modules={};\n",
       "})();</script></div></div>"
      ]
     },
     "metadata": {},
     "output_type": "display_data"
    }
   ],
   "source": [
    "# or, we can store them as variables (this allows more editing on them later)\n",
    "canvas, axes, mark = rtre.draw()"
   ]
  },
  {
   "cell_type": "markdown",
   "metadata": {},
   "source": [
    "### Drawing trees: styles\n",
    "There are innumerous ways in which to style ToyTree drawings. We provide a number of pre-built `tree_styles` (normal, dark, coalescent, multitree), but users can also create their own style dictionaries that can be easily reused. Below are some examples. You can use tab-completion within the draw function to see the docstring for more details on available arguments to toggle, or you can see which styles are available on ToyTrees by accessing their `.style` dictionary. See the [Styling](https://toytree.readthedocs.io/Styling.html) chapter for more details."
   ]
  },
  {
   "cell_type": "code",
   "execution_count": 25,
   "metadata": {},
   "outputs": [],
   "source": [
    "import toytree\n",
    "tre = toytree.rtree.unittree(10)"
   ]
  },
  {
   "cell_type": "code",
   "execution_count": 2,
   "metadata": {},
   "outputs": [
    {
     "data": {
      "text/html": [
       "<div class=\"toyplot\" id=\"tfc175df5266d4a6a8768efdec7f326c0\" style=\"text-align:center\"><svg class=\"toyplot-canvas-Canvas\" xmlns:toyplot=\"http://www.sandia.gov/toyplot\" xmlns:xlink=\"http://www.w3.org/1999/xlink\" xmlns=\"http://www.w3.org/2000/svg\" width=\"350.0px\" height=\"260.0px\" viewBox=\"0 0 350.0 260.0\" preserveAspectRatio=\"xMidYMid meet\" style=\"background-color:transparent;border-color:#292724;border-style:none;border-width:1.0;fill:rgb(16.1%,15.3%,14.1%);fill-opacity:1.0;font-family:Helvetica;font-size:12px;opacity:1.0;stroke:rgb(16.1%,15.3%,14.1%);stroke-opacity:1.0;stroke-width:1.0\" id=\"t3f2a8ded092e4e7e96880919002a3099\"><g class=\"toyplot-coordinates-Cartesian\" id=\"t5239624c621f41e989a17558eb366bd8\"><clipPath id=\"t5f14be693481481a80ed7bbdd2c96264\"><rect x=\"35.0\" y=\"35.0\" width=\"280.0\" height=\"190.0\"></rect></clipPath><g clip-path=\"url(#t5f14be693481481a80ed7bbdd2c96264)\"><g class=\"toytree-mark-Toytree\" id=\"t89f1bc217f8b410488c170602d0a0ff4\"><g class=\"toytree-Edges\" style=\"fill:none;stroke:#262626;stroke-linecap:round;stroke-width:2\"><path d=\"M 273.9 126.9 L 293.7 176.3\" id=\"12,0\" style=\"stroke-width:nan\"></path><path d=\"M 254.2 151.6 L 267.3 176.3\" id=\"10,1\" style=\"stroke-width:nan\"></path><path d=\"M 254.2 151.6 L 241.0 176.3\" id=\"10,2\" style=\"stroke-width:nan\"></path><path d=\"M 244.3 102.2 L 214.6 176.3\" id=\"15,3\" style=\"stroke-width:nan\"></path><path d=\"M 175.0 151.6 L 188.2 176.3\" id=\"11,4\" style=\"stroke-width:nan\"></path><path d=\"M 175.0 151.6 L 161.8 176.3\" id=\"11,5\" style=\"stroke-width:nan\"></path><path d=\"M 155.2 126.9 L 135.4 176.3\" id=\"13,6\" style=\"stroke-width:nan\"></path><path d=\"M 95.8 126.9 L 109.0 176.3\" id=\"14,7\" style=\"stroke-width:nan\"></path><path d=\"M 95.8 126.9 L 82.7 176.3\" id=\"14,8\" style=\"stroke-width:nan\"></path><path d=\"M 120.6 52.7 L 56.3 176.3\" id=\"18,9\" style=\"stroke-width:nan\"></path><path d=\"M 273.9 126.9 L 254.2 151.6\" id=\"12,10\" style=\"stroke-width:nan\"></path><path d=\"M 155.2 126.9 L 175.0 151.6\" id=\"13,11\" style=\"stroke-width:nan\"></path><path d=\"M 244.3 102.2 L 273.9 126.9\" id=\"15,12\" style=\"stroke-width:nan\"></path><path d=\"M 125.5 102.2 L 155.2 126.9\" id=\"16,13\" style=\"stroke-width:nan\"></path><path d=\"M 125.5 102.2 L 95.8 126.9\" id=\"16,14\" style=\"stroke-width:nan\"></path><path d=\"M 184.9 77.4 L 244.3 102.2\" id=\"17,15\" style=\"stroke-width:nan\"></path><path d=\"M 184.9 77.4 L 125.5 102.2\" id=\"17,16\" style=\"stroke-width:nan\"></path><path d=\"M 120.6 52.7 L 184.9 77.4\" id=\"18,17\" style=\"stroke-width:nan\"></path></g><g class=\"toytree-Nodes\" style=\"fill:rgba(40.0%,76.1%,64.7%,1.000);stroke:#262626;stroke-width:1.5\"><g id=\"node-0\" transform=\"translate(293.731,176.341)\"><circle r=\"3.5\"></circle></g><g id=\"node-1\" transform=\"translate(267.346,176.341)\"><circle r=\"3.5\"></circle></g><g id=\"node-2\" transform=\"translate(240.962,176.341)\"><circle r=\"3.5\"></circle></g><g id=\"node-3\" transform=\"translate(214.577,176.341)\"><circle r=\"3.5\"></circle></g><g id=\"node-4\" transform=\"translate(188.192,176.341)\"><circle r=\"3.5\"></circle></g><g id=\"node-5\" transform=\"translate(161.808,176.341)\"><circle r=\"3.5\"></circle></g><g id=\"node-6\" transform=\"translate(135.423,176.341)\"><circle r=\"3.5\"></circle></g><g id=\"node-7\" transform=\"translate(109.038,176.341)\"><circle r=\"3.5\"></circle></g><g id=\"node-8\" transform=\"translate(82.654,176.341)\"><circle r=\"3.5\"></circle></g><g id=\"node-9\" transform=\"translate(56.269,176.341)\"><circle r=\"3.5\"></circle></g><g id=\"node-10\" transform=\"translate(254.154,151.614)\"><circle r=\"3.5\"></circle></g><g id=\"node-11\" transform=\"translate(175.000,151.614)\"><circle r=\"3.5\"></circle></g><g id=\"node-12\" transform=\"translate(273.943,126.887)\"><circle r=\"3.5\"></circle></g><g id=\"node-13\" transform=\"translate(155.211,126.887)\"><circle r=\"3.5\"></circle></g><g id=\"node-14\" transform=\"translate(95.846,126.887)\"><circle r=\"3.5\"></circle></g><g id=\"node-15\" transform=\"translate(244.260,102.159)\"><circle r=\"3.5\"></circle></g><g id=\"node-16\" transform=\"translate(125.529,102.159)\"><circle r=\"3.5\"></circle></g><g id=\"node-17\" transform=\"translate(184.894,77.432)\"><circle r=\"3.5\"></circle></g><g id=\"node-18\" transform=\"translate(120.582,52.705)\"><circle r=\"3.5\"></circle></g></g><g class=\"toytree-TipLabels\" style=\"fill:rgb(16.1%,15.3%,14.1%);fill-opacity:1.0;font-family:Helvetica;font-size:11.0px;font-weight:300;stroke:none;vertical-align:baseline;white-space:pre\"><g class=\"toytree-TipLabel\" transform=\"translate(293.7310030395136,176.34141158515973)rotate(90.0)\"><text x=\"12.0\" y=\"2.8104999999999993\" style=\"\">r0</text></g><g class=\"toytree-TipLabel\" transform=\"translate(267.34633569739947,176.34141158515973)rotate(90.0)\"><text x=\"12.0\" y=\"2.8104999999999993\" style=\"\">r1</text></g><g class=\"toytree-TipLabel\" transform=\"translate(240.96166835528533,176.34141158515973)rotate(90.0)\"><text x=\"12.0\" y=\"2.8104999999999993\" style=\"\">r2</text></g><g class=\"toytree-TipLabel\" transform=\"translate(214.57700101317118,176.34141158515973)rotate(90.0)\"><text x=\"12.0\" y=\"2.8104999999999993\" style=\"\">r3</text></g><g class=\"toytree-TipLabel\" transform=\"translate(188.19233367105704,176.34141158515973)rotate(90.0)\"><text x=\"12.0\" y=\"2.8104999999999993\" style=\"\">r4</text></g><g class=\"toytree-TipLabel\" transform=\"translate(161.8076663289429,176.34141158515973)rotate(90.0)\"><text x=\"12.0\" y=\"2.8104999999999993\" style=\"\">r5</text></g><g class=\"toytree-TipLabel\" transform=\"translate(135.42299898682876,176.34141158515973)rotate(90.0)\"><text x=\"12.0\" y=\"2.8104999999999993\" style=\"\">r6</text></g><g class=\"toytree-TipLabel\" transform=\"translate(109.03833164471462,176.34141158515973)rotate(90.0)\"><text x=\"12.0\" y=\"2.8104999999999993\" style=\"\">r7</text></g><g class=\"toytree-TipLabel\" transform=\"translate(82.65366430260048,176.34141158515973)rotate(90.0)\"><text x=\"12.0\" y=\"2.8104999999999993\" style=\"\">r8</text></g><g class=\"toytree-TipLabel\" transform=\"translate(56.268996960486334,176.34141158515973)rotate(90.0)\"><text x=\"12.0\" y=\"2.8104999999999993\" style=\"\">r9</text></g></g></g></g><g class=\"toyplot-coordinates-Axis\" id=\"t1854bd3a56ad42ea875021ebcbb846c4\" transform=\"translate(50.0,210.0)rotate(-90.0)translate(0,-15.0)\"><line x1=\"33.65858841484028\" y1=\"0\" x2=\"157.29544378869687\" y2=\"0\" style=\"\"></line><g><line x1=\"33.65858841484028\" y1=\"0\" x2=\"33.65858841484028\" y2=\"5\" style=\"\"></line><line x1=\"95.47701610176858\" y1=\"0\" x2=\"95.47701610176858\" y2=\"5\" style=\"\"></line><line x1=\"157.29544378869687\" y1=\"0\" x2=\"157.29544378869687\" y2=\"5\" style=\"\"></line></g><g><g transform=\"translate(33.65858841484028,-6)\"><text x=\"-6.95\" y=\"-4.440892098500626e-16\" style=\"fill:rgb(16.1%,15.3%,14.1%);fill-opacity:1.0;font-family:helvetica;font-size:10.0px;font-weight:normal;stroke:none;vertical-align:baseline;white-space:pre\">0.0</text></g><g transform=\"translate(95.47701610176858,-6)\"><text x=\"-6.95\" y=\"-4.440892098500626e-16\" style=\"fill:rgb(16.1%,15.3%,14.1%);fill-opacity:1.0;font-family:helvetica;font-size:10.0px;font-weight:normal;stroke:none;vertical-align:baseline;white-space:pre\">0.5</text></g><g transform=\"translate(157.29544378869687,-6)\"><text x=\"-6.95\" y=\"-4.440892098500626e-16\" style=\"fill:rgb(16.1%,15.3%,14.1%);fill-opacity:1.0;font-family:helvetica;font-size:10.0px;font-weight:normal;stroke:none;vertical-align:baseline;white-space:pre\">1.0</text></g></g><g class=\"toyplot-coordinates-Axis-coordinates\" style=\"visibility:hidden\" transform=\"\"><line x1=\"0\" x2=\"0\" y1=\"3.0\" y2=\"-4.5\" style=\"stroke:rgb(43.9%,50.2%,56.5%);stroke-opacity:1.0;stroke-width:1.0\"></line><text x=\"0\" y=\"6\" style=\"alignment-baseline:hanging;fill:rgb(43.9%,50.2%,56.5%);fill-opacity:1.0;font-size:10px;font-weight:normal;stroke:none;text-anchor:middle\"></text></g></g></g></svg><div class=\"toyplot-behavior\"><script>(function()\n",
       "{\n",
       "var modules={};\n",
       "modules[\"toyplot/canvas/id\"] = \"t3f2a8ded092e4e7e96880919002a3099\";\n",
       "modules[\"toyplot/canvas\"] = (function(canvas_id)\n",
       "    {\n",
       "        return document.querySelector(\"#\" + canvas_id);\n",
       "    })(modules[\"toyplot/canvas/id\"]);\n",
       "modules[\"toyplot.coordinates.Axis\"] = (\n",
       "        function(canvas)\n",
       "        {\n",
       "            function sign(x)\n",
       "            {\n",
       "                return x < 0 ? -1 : x > 0 ? 1 : 0;\n",
       "            }\n",
       "\n",
       "            function mix(a, b, amount)\n",
       "            {\n",
       "                return ((1.0 - amount) * a) + (amount * b);\n",
       "            }\n",
       "\n",
       "            function log(x, base)\n",
       "            {\n",
       "                return Math.log(Math.abs(x)) / Math.log(base);\n",
       "            }\n",
       "\n",
       "            function in_range(a, x, b)\n",
       "            {\n",
       "                var left = Math.min(a, b);\n",
       "                var right = Math.max(a, b);\n",
       "                return left <= x && x <= right;\n",
       "            }\n",
       "\n",
       "            function inside(range, projection)\n",
       "            {\n",
       "                for(var i = 0; i != projection.length; ++i)\n",
       "                {\n",
       "                    var segment = projection[i];\n",
       "                    if(in_range(segment.range.min, range, segment.range.max))\n",
       "                        return true;\n",
       "                }\n",
       "                return false;\n",
       "            }\n",
       "\n",
       "            function to_domain(range, projection)\n",
       "            {\n",
       "                for(var i = 0; i != projection.length; ++i)\n",
       "                {\n",
       "                    var segment = projection[i];\n",
       "                    if(in_range(segment.range.bounds.min, range, segment.range.bounds.max))\n",
       "                    {\n",
       "                        if(segment.scale == \"linear\")\n",
       "                        {\n",
       "                            var amount = (range - segment.range.min) / (segment.range.max - segment.range.min);\n",
       "                            return mix(segment.domain.min, segment.domain.max, amount)\n",
       "                        }\n",
       "                        else if(segment.scale[0] == \"log\")\n",
       "                        {\n",
       "                            var amount = (range - segment.range.min) / (segment.range.max - segment.range.min);\n",
       "                            var base = segment.scale[1];\n",
       "                            return sign(segment.domain.min) * Math.pow(base, mix(log(segment.domain.min, base), log(segment.domain.max, base), amount));\n",
       "                        }\n",
       "                    }\n",
       "                }\n",
       "            }\n",
       "\n",
       "            var axes = {};\n",
       "\n",
       "            function display_coordinates(e)\n",
       "            {\n",
       "                var current = canvas.createSVGPoint();\n",
       "                current.x = e.clientX;\n",
       "                current.y = e.clientY;\n",
       "\n",
       "                for(var axis_id in axes)\n",
       "                {\n",
       "                    var axis = document.querySelector(\"#\" + axis_id);\n",
       "                    var coordinates = axis.querySelector(\".toyplot-coordinates-Axis-coordinates\");\n",
       "                    if(coordinates)\n",
       "                    {\n",
       "                        var projection = axes[axis_id];\n",
       "                        var local = current.matrixTransform(axis.getScreenCTM().inverse());\n",
       "                        if(inside(local.x, projection))\n",
       "                        {\n",
       "                            var domain = to_domain(local.x, projection);\n",
       "                            coordinates.style.visibility = \"visible\";\n",
       "                            coordinates.setAttribute(\"transform\", \"translate(\" + local.x + \")\");\n",
       "                            var text = coordinates.querySelector(\"text\");\n",
       "                            text.textContent = domain.toFixed(2);\n",
       "                        }\n",
       "                        else\n",
       "                        {\n",
       "                            coordinates.style.visibility= \"hidden\";\n",
       "                        }\n",
       "                    }\n",
       "                }\n",
       "            }\n",
       "\n",
       "            canvas.addEventListener(\"click\", display_coordinates);\n",
       "\n",
       "            var module = {};\n",
       "            module.show_coordinates = function(axis_id, projection)\n",
       "            {\n",
       "                axes[axis_id] = projection;\n",
       "            }\n",
       "\n",
       "            return module;\n",
       "        })(modules[\"toyplot/canvas\"]);\n",
       "(function(axis, axis_id, projection)\n",
       "        {\n",
       "            axis.show_coordinates(axis_id, projection);\n",
       "        })(modules[\"toyplot.coordinates.Axis\"],\"t1854bd3a56ad42ea875021ebcbb846c4\",[{\"domain\": {\"bounds\": {\"max\": Infinity, \"min\": -Infinity}, \"max\": 1.021875, \"min\": -0.27223749999999997}, \"range\": {\"bounds\": {\"max\": Infinity, \"min\": -Infinity}, \"max\": 160.0, \"min\": 0.0}, \"scale\": \"linear\"}]);\n",
       "})();</script></div></div>"
      ]
     },
     "metadata": {},
     "output_type": "display_data"
    }
   ],
   "source": [
    "# use a built-in tree_style (suite of style arguments)\n",
    "tre.draw(tree_style='c');"
   ]
  },
  {
   "cell_type": "code",
   "execution_count": 3,
   "metadata": {},
   "outputs": [
    {
     "data": {
      "text/html": [
       "<div class=\"toyplot\" id=\"te5699da4bb9549b0b87410168960bfda\" style=\"text-align:center\"><svg class=\"toyplot-canvas-Canvas\" xmlns:toyplot=\"http://www.sandia.gov/toyplot\" xmlns:xlink=\"http://www.w3.org/1999/xlink\" xmlns=\"http://www.w3.org/2000/svg\" width=\"400.0px\" height=\"275.0px\" viewBox=\"0 0 400.0 275.0\" preserveAspectRatio=\"xMidYMid meet\" style=\"background-color:transparent;border-color:#292724;border-style:none;border-width:1.0;fill:rgb(16.1%,15.3%,14.1%);fill-opacity:1.0;font-family:Helvetica;font-size:12px;opacity:1.0;stroke:rgb(16.1%,15.3%,14.1%);stroke-opacity:1.0;stroke-width:1.0\" id=\"taee082045f8f4874b6392a9faa528720\"><g class=\"toyplot-coordinates-Cartesian\" id=\"tca8ebb32430a4ceea9f9a74ee968fc41\"><clipPath id=\"tfc0da3465edb48639fd92a0d893a93ae\"><rect x=\"35.0\" y=\"35.0\" width=\"330.0\" height=\"205.0\"></rect></clipPath><g clip-path=\"url(#tfc0da3465edb48639fd92a0d893a93ae)\"><g class=\"toytree-mark-Toytree\" id=\"t4c2063779c864950b9f2e6dd61578165\"><g class=\"toytree-Edges\" style=\"fill:none;stroke:rgba(100.0%,54.9%,0.0%,1.000);stroke-linecap:round;stroke-width:2.0\"><path d=\"M 204.6 204.0 L 204.6 217.3 L 304.4 217.3\" id=\"12,0\" style=\"stroke-width:4.0\"></path><path d=\"M 254.5 190.7 L 254.5 199.6 L 304.4 199.6\" id=\"10,1\" style=\"stroke-width:4.0\"></path><path d=\"M 254.5 190.7 L 254.5 181.9 L 304.4 181.9\" id=\"10,2\" style=\"stroke-width:4.0\"></path><path d=\"M 154.7 184.1 L 154.7 164.1 L 304.4 164.1\" id=\"15,3\" style=\"stroke-width:4.0\"></path><path d=\"M 254.5 137.5 L 254.5 146.4 L 304.4 146.4\" id=\"11,4\" style=\"stroke-width:4.0\"></path><path d=\"M 254.5 137.5 L 254.5 128.6 L 304.4 128.6\" id=\"11,5\" style=\"stroke-width:4.0\"></path><path d=\"M 204.6 124.2 L 204.6 110.9 L 304.4 110.9\" id=\"13,6\" style=\"stroke-width:4.0\"></path><path d=\"M 204.6 84.3 L 204.6 93.1 L 304.4 93.1\" id=\"14,7\" style=\"stroke-width:4.0\"></path><path d=\"M 204.6 84.3 L 204.6 75.4 L 304.4 75.4\" id=\"14,8\" style=\"stroke-width:4.0\"></path><path d=\"M 55.0 100.9 L 55.0 57.7 L 304.4 57.7\" id=\"18,9\" style=\"stroke-width:4.0\"></path><path d=\"M 204.6 204.0 L 204.6 190.7 L 254.5 190.7\" id=\"12,10\" style=\"stroke-width:4.0\"></path><path d=\"M 204.6 124.2 L 204.6 137.5 L 254.5 137.5\" id=\"13,11\" style=\"stroke-width:4.0\"></path><path d=\"M 154.7 184.1 L 154.7 204.0 L 204.6 204.0\" id=\"15,12\" style=\"stroke-width:4.0\"></path><path d=\"M 154.7 104.2 L 154.7 124.2 L 204.6 124.2\" id=\"16,13\" style=\"stroke-width:4.0\"></path><path d=\"M 154.7 104.2 L 154.7 84.3 L 204.6 84.3\" id=\"16,14\" style=\"stroke-width:4.0\"></path><path d=\"M 104.9 144.2 L 104.9 184.1 L 154.7 184.1\" id=\"17,15\" style=\"stroke-width:4.0\"></path><path d=\"M 104.9 144.2 L 104.9 104.2 L 154.7 104.2\" id=\"17,16\" style=\"stroke-width:4.0\"></path><path d=\"M 55.0 100.9 L 55.0 144.2 L 104.9 144.2\" id=\"18,17\" style=\"stroke-width:4.0\"></path></g><g class=\"toytree-Nodes\" style=\"fill:rgba(100.0%,0.0%,100.0%,1.000);stroke:blue;stroke-width:3\"><g id=\"node-10\" transform=\"translate(254.493,190.724)\"><circle r=\"6.0\"></circle></g><g id=\"node-11\" transform=\"translate(254.493,137.500)\"><circle r=\"6.0\"></circle></g><g id=\"node-12\" transform=\"translate(204.617,204.030)\"><circle r=\"6.0\"></circle></g><g id=\"node-13\" transform=\"translate(204.617,124.194)\"><circle r=\"6.0\"></circle></g><g id=\"node-14\" transform=\"translate(204.617,84.276)\"><circle r=\"6.0\"></circle></g><g id=\"node-15\" transform=\"translate(154.740,184.071)\"><circle r=\"6.0\"></circle></g><g id=\"node-16\" transform=\"translate(154.740,104.235)\"><circle r=\"6.0\"></circle></g><g id=\"node-17\" transform=\"translate(104.864,144.153)\"><circle r=\"6.0\"></circle></g><g id=\"node-18\" transform=\"translate(54.988,100.909)\"><circle r=\"6.0\"></circle></g></g><g class=\"toytree-TipLabels\" style=\"fill:rgb(0%,50.2%,50.2%);fill-opacity:1.0;font-family:Helvetica;font-size:14.0px;font-weight:300;stroke:none;vertical-align:baseline;white-space:pre\"><g class=\"toytree-TipLabel\" transform=\"translate(304.36972833978035,217.33576642335765)\"><text x=\"15.0\" y=\"3.577\" style=\"\">r0</text></g><g class=\"toytree-TipLabel\" transform=\"translate(304.36972833978035,199.59448499594484)\"><text x=\"15.0\" y=\"3.577\" style=\"\">r1</text></g><g class=\"toytree-TipLabel\" transform=\"translate(304.36972833978035,181.85320356853202)\"><text x=\"15.0\" y=\"3.577\" style=\"\">r2</text></g><g class=\"toytree-TipLabel\" transform=\"translate(304.36972833978035,164.11192214111924)\"><text x=\"15.0\" y=\"3.577\" style=\"\">r3</text></g><g class=\"toytree-TipLabel\" transform=\"translate(304.36972833978035,146.37064071370642)\"><text x=\"15.0\" y=\"3.577\" style=\"\">r4</text></g><g class=\"toytree-TipLabel\" transform=\"translate(304.36972833978035,128.62935928629358)\"><text x=\"15.0\" y=\"3.577\" style=\"\">r5</text></g><g class=\"toytree-TipLabel\" transform=\"translate(304.36972833978035,110.88807785888078)\"><text x=\"15.0\" y=\"3.577\" style=\"\">r6</text></g><g class=\"toytree-TipLabel\" transform=\"translate(304.36972833978035,93.14679643146798)\"><text x=\"15.0\" y=\"3.577\" style=\"\">r7</text></g><g class=\"toytree-TipLabel\" transform=\"translate(304.36972833978035,75.40551500405516)\"><text x=\"15.0\" y=\"3.577\" style=\"\">r8</text></g><g class=\"toytree-TipLabel\" transform=\"translate(304.36972833978035,57.664233576642346)\"><text x=\"15.0\" y=\"3.577\" style=\"\">r9</text></g></g></g></g></g></svg><div class=\"toyplot-behavior\"><script>(function()\n",
       "{\n",
       "var modules={};\n",
       "})();</script></div></div>"
      ]
     },
     "metadata": {},
     "output_type": "display_data"
    }
   ],
   "source": [
    "# or, apply many individual style args\n",
    "tre.draw(\n",
    "    node_colors='magenta',\n",
    "    node_sizes=12,\n",
    "    node_style={\"stroke\": \"blue\", \"stroke-width\": 3},\n",
    "    tip_labels_colors='teal',\n",
    "    tip_labels_style={\"font-size\": \"14px\"},\n",
    "    edge_colors='darkorange',\n",
    "    edge_widths=4,\n",
    "    width=400,\n",
    ");"
   ]
  },
  {
   "cell_type": "code",
   "execution_count": 4,
   "metadata": {},
   "outputs": [
    {
     "data": {
      "text/html": [
       "<div class=\"toyplot\" id=\"tf878e6bb0f4149c2ab079b906d51f382\" style=\"text-align:center\"><svg class=\"toyplot-canvas-Canvas\" xmlns:toyplot=\"http://www.sandia.gov/toyplot\" xmlns:xlink=\"http://www.w3.org/1999/xlink\" xmlns=\"http://www.w3.org/2000/svg\" width=\"350.0px\" height=\"260.0px\" viewBox=\"0 0 350.0 260.0\" preserveAspectRatio=\"xMidYMid meet\" style=\"background-color:transparent;border-color:#292724;border-style:none;border-width:1.0;fill:rgb(16.1%,15.3%,14.1%);fill-opacity:1.0;font-family:Helvetica;font-size:12px;opacity:1.0;stroke:rgb(16.1%,15.3%,14.1%);stroke-opacity:1.0;stroke-width:1.0\" id=\"t3e5aac5fa472475ca7b0b54c75aa5442\"><g class=\"toyplot-coordinates-Cartesian\" id=\"tdbc0553aabec419294152974eefb4d9b\"><clipPath id=\"t871bcaa4e08a460da930b2e81437f7ad\"><rect x=\"35.0\" y=\"35.0\" width=\"280.0\" height=\"190.0\"></rect></clipPath><g clip-path=\"url(#t871bcaa4e08a460da930b2e81437f7ad)\"><g class=\"toytree-mark-Toytree\" id=\"t72593fba5c01410fbde50ac04e90805d\"><g class=\"toytree-Edges\" style=\"fill:none;stroke:#262626;stroke-linecap:round;stroke-width:2\"><path d=\"M 273.9 126.9 L 293.7 176.3\" id=\"12,0\" style=\"stroke-width:nan\"></path><path d=\"M 254.2 151.6 L 267.3 176.3\" id=\"10,1\" style=\"stroke-width:nan\"></path><path d=\"M 254.2 151.6 L 241.0 176.3\" id=\"10,2\" style=\"stroke-width:nan\"></path><path d=\"M 244.3 102.2 L 214.6 176.3\" id=\"15,3\" style=\"stroke-width:nan\"></path><path d=\"M 175.0 151.6 L 188.2 176.3\" id=\"11,4\" style=\"stroke-width:nan\"></path><path d=\"M 175.0 151.6 L 161.8 176.3\" id=\"11,5\" style=\"stroke-width:nan\"></path><path d=\"M 155.2 126.9 L 135.4 176.3\" id=\"13,6\" style=\"stroke-width:nan\"></path><path d=\"M 95.8 126.9 L 109.0 176.3\" id=\"14,7\" style=\"stroke-width:nan\"></path><path d=\"M 95.8 126.9 L 82.7 176.3\" id=\"14,8\" style=\"stroke-width:nan\"></path><path d=\"M 120.6 52.7 L 56.3 176.3\" id=\"18,9\" style=\"stroke-width:nan\"></path><path d=\"M 273.9 126.9 L 254.2 151.6\" id=\"12,10\" style=\"stroke-width:nan\"></path><path d=\"M 155.2 126.9 L 175.0 151.6\" id=\"13,11\" style=\"stroke-width:nan\"></path><path d=\"M 244.3 102.2 L 273.9 126.9\" id=\"15,12\" style=\"stroke-width:nan\"></path><path d=\"M 125.5 102.2 L 155.2 126.9\" id=\"16,13\" style=\"stroke-width:nan\"></path><path d=\"M 125.5 102.2 L 95.8 126.9\" id=\"16,14\" style=\"stroke-width:nan\"></path><path d=\"M 184.9 77.4 L 244.3 102.2\" id=\"17,15\" style=\"stroke-width:nan\"></path><path d=\"M 184.9 77.4 L 125.5 102.2\" id=\"17,16\" style=\"stroke-width:nan\"></path><path d=\"M 120.6 52.7 L 184.9 77.4\" id=\"18,17\" style=\"stroke-width:nan\"></path></g><g class=\"toytree-Nodes\" style=\"fill:rgba(100.0%,64.7%,0.0%,1.000);stroke:#262626;stroke-width:1.5\"><g id=\"node-0\" transform=\"translate(293.731,176.341)\"><circle r=\"3.5\"></circle></g><g id=\"node-1\" transform=\"translate(267.346,176.341)\"><circle r=\"3.5\"></circle></g><g id=\"node-2\" transform=\"translate(240.962,176.341)\"><circle r=\"3.5\"></circle></g><g id=\"node-3\" transform=\"translate(214.577,176.341)\"><circle r=\"3.5\"></circle></g><g id=\"node-4\" transform=\"translate(188.192,176.341)\"><circle r=\"3.5\"></circle></g><g id=\"node-5\" transform=\"translate(161.808,176.341)\"><circle r=\"3.5\"></circle></g><g id=\"node-6\" transform=\"translate(135.423,176.341)\"><circle r=\"3.5\"></circle></g><g id=\"node-7\" transform=\"translate(109.038,176.341)\"><circle r=\"3.5\"></circle></g><g id=\"node-8\" transform=\"translate(82.654,176.341)\"><circle r=\"3.5\"></circle></g><g id=\"node-9\" transform=\"translate(56.269,176.341)\"><circle r=\"3.5\"></circle></g><g id=\"node-10\" transform=\"translate(254.154,151.614)\"><circle r=\"3.5\"></circle></g><g id=\"node-11\" transform=\"translate(175.000,151.614)\"><circle r=\"3.5\"></circle></g><g id=\"node-12\" transform=\"translate(273.943,126.887)\"><circle r=\"3.5\"></circle></g><g id=\"node-13\" transform=\"translate(155.211,126.887)\"><circle r=\"3.5\"></circle></g><g id=\"node-14\" transform=\"translate(95.846,126.887)\"><circle r=\"3.5\"></circle></g><g id=\"node-15\" transform=\"translate(244.260,102.159)\"><circle r=\"3.5\"></circle></g><g id=\"node-16\" transform=\"translate(125.529,102.159)\"><circle r=\"3.5\"></circle></g><g id=\"node-17\" transform=\"translate(184.894,77.432)\"><circle r=\"3.5\"></circle></g><g id=\"node-18\" transform=\"translate(120.582,52.705)\"><circle r=\"3.5\"></circle></g></g><g class=\"toytree-TipLabels\" style=\"fill:rgb(16.1%,15.3%,14.1%);fill-opacity:1.0;font-family:Helvetica;font-size:11.0px;font-weight:300;stroke:none;vertical-align:baseline;white-space:pre\"><g class=\"toytree-TipLabel\" transform=\"translate(293.7310030395136,176.34141158515973)rotate(90.0)\"><text x=\"12.0\" y=\"2.8104999999999993\" style=\"\">r0</text></g><g class=\"toytree-TipLabel\" transform=\"translate(267.34633569739947,176.34141158515973)rotate(90.0)\"><text x=\"12.0\" y=\"2.8104999999999993\" style=\"\">r1</text></g><g class=\"toytree-TipLabel\" transform=\"translate(240.96166835528533,176.34141158515973)rotate(90.0)\"><text x=\"12.0\" y=\"2.8104999999999993\" style=\"\">r2</text></g><g class=\"toytree-TipLabel\" transform=\"translate(214.57700101317118,176.34141158515973)rotate(90.0)\"><text x=\"12.0\" y=\"2.8104999999999993\" style=\"\">r3</text></g><g class=\"toytree-TipLabel\" transform=\"translate(188.19233367105704,176.34141158515973)rotate(90.0)\"><text x=\"12.0\" y=\"2.8104999999999993\" style=\"\">r4</text></g><g class=\"toytree-TipLabel\" transform=\"translate(161.8076663289429,176.34141158515973)rotate(90.0)\"><text x=\"12.0\" y=\"2.8104999999999993\" style=\"\">r5</text></g><g class=\"toytree-TipLabel\" transform=\"translate(135.42299898682876,176.34141158515973)rotate(90.0)\"><text x=\"12.0\" y=\"2.8104999999999993\" style=\"\">r6</text></g><g class=\"toytree-TipLabel\" transform=\"translate(109.03833164471462,176.34141158515973)rotate(90.0)\"><text x=\"12.0\" y=\"2.8104999999999993\" style=\"\">r7</text></g><g class=\"toytree-TipLabel\" transform=\"translate(82.65366430260048,176.34141158515973)rotate(90.0)\"><text x=\"12.0\" y=\"2.8104999999999993\" style=\"\">r8</text></g><g class=\"toytree-TipLabel\" transform=\"translate(56.268996960486334,176.34141158515973)rotate(90.0)\"><text x=\"12.0\" y=\"2.8104999999999993\" style=\"\">r9</text></g></g></g></g><g class=\"toyplot-coordinates-Axis\" id=\"t4dd6d197318841588c86a47f9544c0ab\" transform=\"translate(50.0,210.0)rotate(-90.0)translate(0,-15.0)\"><line x1=\"33.65858841484028\" y1=\"0\" x2=\"157.29544378869687\" y2=\"0\" style=\"\"></line><g><line x1=\"33.65858841484028\" y1=\"0\" x2=\"33.65858841484028\" y2=\"5\" style=\"\"></line><line x1=\"95.47701610176858\" y1=\"0\" x2=\"95.47701610176858\" y2=\"5\" style=\"\"></line><line x1=\"157.29544378869687\" y1=\"0\" x2=\"157.29544378869687\" y2=\"5\" style=\"\"></line></g><g><g transform=\"translate(33.65858841484028,-6)\"><text x=\"-6.95\" y=\"-4.440892098500626e-16\" style=\"fill:rgb(16.1%,15.3%,14.1%);fill-opacity:1.0;font-family:helvetica;font-size:10.0px;font-weight:normal;stroke:none;vertical-align:baseline;white-space:pre\">0.0</text></g><g transform=\"translate(95.47701610176858,-6)\"><text x=\"-6.95\" y=\"-4.440892098500626e-16\" style=\"fill:rgb(16.1%,15.3%,14.1%);fill-opacity:1.0;font-family:helvetica;font-size:10.0px;font-weight:normal;stroke:none;vertical-align:baseline;white-space:pre\">0.5</text></g><g transform=\"translate(157.29544378869687,-6)\"><text x=\"-6.95\" y=\"-4.440892098500626e-16\" style=\"fill:rgb(16.1%,15.3%,14.1%);fill-opacity:1.0;font-family:helvetica;font-size:10.0px;font-weight:normal;stroke:none;vertical-align:baseline;white-space:pre\">1.0</text></g></g><g class=\"toyplot-coordinates-Axis-coordinates\" style=\"visibility:hidden\" transform=\"\"><line x1=\"0\" x2=\"0\" y1=\"3.0\" y2=\"-4.5\" style=\"stroke:rgb(43.9%,50.2%,56.5%);stroke-opacity:1.0;stroke-width:1.0\"></line><text x=\"0\" y=\"6\" style=\"alignment-baseline:hanging;fill:rgb(43.9%,50.2%,56.5%);fill-opacity:1.0;font-size:10px;font-weight:normal;stroke:none;text-anchor:middle\"></text></g></g></g></svg><div class=\"toyplot-behavior\"><script>(function()\n",
       "{\n",
       "var modules={};\n",
       "modules[\"toyplot/canvas/id\"] = \"t3e5aac5fa472475ca7b0b54c75aa5442\";\n",
       "modules[\"toyplot/canvas\"] = (function(canvas_id)\n",
       "    {\n",
       "        return document.querySelector(\"#\" + canvas_id);\n",
       "    })(modules[\"toyplot/canvas/id\"]);\n",
       "modules[\"toyplot.coordinates.Axis\"] = (\n",
       "        function(canvas)\n",
       "        {\n",
       "            function sign(x)\n",
       "            {\n",
       "                return x < 0 ? -1 : x > 0 ? 1 : 0;\n",
       "            }\n",
       "\n",
       "            function mix(a, b, amount)\n",
       "            {\n",
       "                return ((1.0 - amount) * a) + (amount * b);\n",
       "            }\n",
       "\n",
       "            function log(x, base)\n",
       "            {\n",
       "                return Math.log(Math.abs(x)) / Math.log(base);\n",
       "            }\n",
       "\n",
       "            function in_range(a, x, b)\n",
       "            {\n",
       "                var left = Math.min(a, b);\n",
       "                var right = Math.max(a, b);\n",
       "                return left <= x && x <= right;\n",
       "            }\n",
       "\n",
       "            function inside(range, projection)\n",
       "            {\n",
       "                for(var i = 0; i != projection.length; ++i)\n",
       "                {\n",
       "                    var segment = projection[i];\n",
       "                    if(in_range(segment.range.min, range, segment.range.max))\n",
       "                        return true;\n",
       "                }\n",
       "                return false;\n",
       "            }\n",
       "\n",
       "            function to_domain(range, projection)\n",
       "            {\n",
       "                for(var i = 0; i != projection.length; ++i)\n",
       "                {\n",
       "                    var segment = projection[i];\n",
       "                    if(in_range(segment.range.bounds.min, range, segment.range.bounds.max))\n",
       "                    {\n",
       "                        if(segment.scale == \"linear\")\n",
       "                        {\n",
       "                            var amount = (range - segment.range.min) / (segment.range.max - segment.range.min);\n",
       "                            return mix(segment.domain.min, segment.domain.max, amount)\n",
       "                        }\n",
       "                        else if(segment.scale[0] == \"log\")\n",
       "                        {\n",
       "                            var amount = (range - segment.range.min) / (segment.range.max - segment.range.min);\n",
       "                            var base = segment.scale[1];\n",
       "                            return sign(segment.domain.min) * Math.pow(base, mix(log(segment.domain.min, base), log(segment.domain.max, base), amount));\n",
       "                        }\n",
       "                    }\n",
       "                }\n",
       "            }\n",
       "\n",
       "            var axes = {};\n",
       "\n",
       "            function display_coordinates(e)\n",
       "            {\n",
       "                var current = canvas.createSVGPoint();\n",
       "                current.x = e.clientX;\n",
       "                current.y = e.clientY;\n",
       "\n",
       "                for(var axis_id in axes)\n",
       "                {\n",
       "                    var axis = document.querySelector(\"#\" + axis_id);\n",
       "                    var coordinates = axis.querySelector(\".toyplot-coordinates-Axis-coordinates\");\n",
       "                    if(coordinates)\n",
       "                    {\n",
       "                        var projection = axes[axis_id];\n",
       "                        var local = current.matrixTransform(axis.getScreenCTM().inverse());\n",
       "                        if(inside(local.x, projection))\n",
       "                        {\n",
       "                            var domain = to_domain(local.x, projection);\n",
       "                            coordinates.style.visibility = \"visible\";\n",
       "                            coordinates.setAttribute(\"transform\", \"translate(\" + local.x + \")\");\n",
       "                            var text = coordinates.querySelector(\"text\");\n",
       "                            text.textContent = domain.toFixed(2);\n",
       "                        }\n",
       "                        else\n",
       "                        {\n",
       "                            coordinates.style.visibility= \"hidden\";\n",
       "                        }\n",
       "                    }\n",
       "                }\n",
       "            }\n",
       "\n",
       "            canvas.addEventListener(\"click\", display_coordinates);\n",
       "\n",
       "            var module = {};\n",
       "            module.show_coordinates = function(axis_id, projection)\n",
       "            {\n",
       "                axes[axis_id] = projection;\n",
       "            }\n",
       "\n",
       "            return module;\n",
       "        })(modules[\"toyplot/canvas\"]);\n",
       "(function(axis, axis_id, projection)\n",
       "        {\n",
       "            axis.show_coordinates(axis_id, projection);\n",
       "        })(modules[\"toyplot.coordinates.Axis\"],\"t4dd6d197318841588c86a47f9544c0ab\",[{\"domain\": {\"bounds\": {\"max\": Infinity, \"min\": -Infinity}, \"max\": 1.021875, \"min\": -0.27223749999999997}, \"range\": {\"bounds\": {\"max\": Infinity, \"min\": -Infinity}, \"max\": 160.0, \"min\": 0.0}, \"scale\": \"linear\"}]);\n",
       "})();</script></div></div>"
      ]
     },
     "metadata": {},
     "output_type": "display_data"
    }
   ],
   "source": [
    "# or, select a built-in style and apply styles on top of it\n",
    "tre.draw(tree_style='c', node_colors='orange');"
   ]
  },
  {
   "cell_type": "code",
   "execution_count": 5,
   "metadata": {},
   "outputs": [
    {
     "data": {
      "text/html": [
       "<div class=\"toyplot\" id=\"t5026320837ce4e97807545889ac25482\" style=\"text-align:center\"><svg class=\"toyplot-canvas-Canvas\" xmlns:toyplot=\"http://www.sandia.gov/toyplot\" xmlns:xlink=\"http://www.w3.org/1999/xlink\" xmlns=\"http://www.w3.org/2000/svg\" width=\"500.0px\" height=\"275.0px\" viewBox=\"0 0 500.0 275.0\" preserveAspectRatio=\"xMidYMid meet\" style=\"background-color:transparent;border-color:#292724;border-style:none;border-width:1.0;fill:rgb(16.1%,15.3%,14.1%);fill-opacity:1.0;font-family:Helvetica;font-size:12px;opacity:1.0;stroke:rgb(16.1%,15.3%,14.1%);stroke-opacity:1.0;stroke-width:1.0\" id=\"t1f416afeabf4480d937145119aaa2cb7\"><g class=\"toyplot-coordinates-Cartesian\" id=\"ta864f0ed455b49d8bb577f8fff3943a6\"><clipPath id=\"t29f21fcb26724db695ab5689ab5fb282\"><rect x=\"35.0\" y=\"35.0\" width=\"430.0\" height=\"205.0\"></rect></clipPath><g clip-path=\"url(#t29f21fcb26724db695ab5689ab5fb282)\"><g class=\"toytree-mark-Toytree\" id=\"tf8e742a5024f427087e392dc55d950bf\"><g class=\"toytree-Edges\" style=\"fill:none;stroke:rgba(100.0%,0.0%,0.0%,1.000);stroke-linecap:round;stroke-width:2.0\"><path d=\"M 263.5 205.3 L 263.5 218.9 L 405.9 218.9\" id=\"12,0\" style=\"stroke-width:nan\"></path><path d=\"M 334.7 191.7 L 334.7 200.8 L 405.9 200.8\" id=\"10,1\" style=\"stroke-width:nan\"></path><path d=\"M 334.7 191.7 L 334.7 182.7 L 405.9 182.7\" id=\"10,2\" style=\"stroke-width:nan\"></path><path d=\"M 192.4 185.0 L 192.4 164.6 L 405.9 164.6\" id=\"15,3\" style=\"stroke-width:nan\"></path><path d=\"M 334.7 137.5 L 334.7 146.5 L 405.9 146.5\" id=\"11,4\" style=\"stroke-width:nan\"></path><path d=\"M 334.7 137.5 L 334.7 128.5 L 405.9 128.5\" id=\"11,5\" style=\"stroke-width:nan\"></path><path d=\"M 263.5 123.9 L 263.5 110.4 L 405.9 110.4\" id=\"13,6\" style=\"stroke-width:nan\"></path><path d=\"M 263.5 83.3 L 263.5 92.3 L 405.9 92.3\" id=\"14,7\" style=\"stroke-width:nan\"></path><path d=\"M 263.5 83.3 L 263.5 74.2 L 405.9 74.2\" id=\"14,8\" style=\"stroke-width:nan\"></path><path d=\"M 50.0 100.2 L 50.0 56.1 L 405.9 56.1\" id=\"18,9\" style=\"stroke-width:nan\"></path><path d=\"M 263.5 205.3 L 263.5 191.7 L 334.7 191.7\" id=\"12,10\" style=\"stroke-width:nan\"></path><path d=\"M 263.5 123.9 L 263.5 137.5 L 334.7 137.5\" id=\"13,11\" style=\"stroke-width:nan\"></path><path d=\"M 192.4 185.0 L 192.4 205.3 L 263.5 205.3\" id=\"15,12\" style=\"stroke-width:nan\"></path><path d=\"M 192.4 103.6 L 192.4 123.9 L 263.5 123.9\" id=\"16,13\" style=\"stroke-width:nan\"></path><path d=\"M 192.4 103.6 L 192.4 83.3 L 263.5 83.3\" id=\"16,14\" style=\"stroke-width:nan\"></path><path d=\"M 121.2 144.3 L 121.2 185.0 L 192.4 185.0\" id=\"17,15\" style=\"stroke-width:nan\"></path><path d=\"M 121.2 144.3 L 121.2 103.6 L 192.4 103.6\" id=\"17,16\" style=\"stroke-width:nan\"></path><path d=\"M 50.0 100.2 L 50.0 144.3 L 121.2 144.3\" id=\"18,17\" style=\"stroke-width:nan\"></path></g><g class=\"toytree-TipLabels\" style=\"fill:rgb(16.1%,15.3%,14.1%);fill-opacity:1.0;font-family:Helvetica;font-size:11.0px;font-weight:300;stroke:none;vertical-align:baseline;white-space:pre\"><g class=\"toytree-TipLabel\" transform=\"translate(405.9051334866691,218.86291179596174)\"><text x=\"15.0\" y=\"2.8104999999999993\" style=\"\">r0</text></g><g class=\"toytree-TipLabel\" transform=\"translate(405.9051334866691,200.78226473019248)\"><text x=\"15.0\" y=\"2.8104999999999993\" style=\"\">r1</text></g><g class=\"toytree-TipLabel\" transform=\"translate(405.9051334866691,182.70161766442322)\"><text x=\"15.0\" y=\"2.8104999999999993\" style=\"\">r2</text></g><g class=\"toytree-TipLabel\" transform=\"translate(405.9051334866691,164.6209705986539)\"><text x=\"15.0\" y=\"2.8104999999999993\" style=\"\">r3</text></g><g class=\"toytree-TipLabel\" transform=\"translate(405.9051334866691,146.54032353288463)\"><text x=\"15.0\" y=\"2.8104999999999993\" style=\"\">r4</text></g><g class=\"toytree-TipLabel\" transform=\"translate(405.9051334866691,128.45967646711534)\"><text x=\"15.0\" y=\"2.8104999999999993\" style=\"\">r5</text></g><g class=\"toytree-TipLabel\" transform=\"translate(405.9051334866691,110.37902940134609)\"><text x=\"15.0\" y=\"2.8104999999999993\" style=\"\">r6</text></g><g class=\"toytree-TipLabel\" transform=\"translate(405.9051334866691,92.2983823355768)\"><text x=\"15.0\" y=\"2.8104999999999993\" style=\"\">r7</text></g><g class=\"toytree-TipLabel\" transform=\"translate(405.9051334866691,74.2177352698075)\"><text x=\"15.0\" y=\"2.8104999999999993\" style=\"\">r8</text></g><g class=\"toytree-TipLabel\" transform=\"translate(405.9051334866691,56.137088204038236)\"><text x=\"15.0\" y=\"2.8104999999999993\" style=\"\">r9</text></g></g></g></g></g></svg><div class=\"toyplot-behavior\"><script>(function()\n",
       "{\n",
       "var modules={};\n",
       "})();</script></div></div>"
      ]
     },
     "metadata": {},
     "output_type": "display_data"
    }
   ],
   "source": [
    "# or, apply styles to tree instances directly\n",
    "new_tre = tre.copy()\n",
    "new_tre.style.edge_colors = 'red'\n",
    "new_tre.style.width = 500\n",
    "new_tre.draw();"
   ]
  },
  {
   "cell_type": "code",
   "execution_count": 22,
   "metadata": {},
   "outputs": [],
   "source": [
    "# or, create a style dictionary and apply it to many tree drawings\n",
    "my_tree_style = {\n",
    "    \"layout\": 'd',\n",
    "    \"edge_type\": 'c',\n",
    "    \"edge_style\": {\n",
    "        \"stroke\": toytree.COLORS1[2],\n",
    "        \"stroke-width\": 2.5,\n",
    "    },\n",
    "    \"tip_labels_align\": True, \n",
    "    \"tip_labels_colors\": toytree.COLORS2[0],\n",
    "    \"tip_labels_style\": {\n",
    "        \"font-size\": \"14px\"\n",
    "    },\n",
    "    \"node_mask\": False,\n",
    "    \"node_labels\": False,\n",
    "    \"node_sizes\": 8,\n",
    "    \"node_colors\": toytree.COLORS1[2],\n",
    "}"
   ]
  },
  {
   "cell_type": "code",
   "execution_count": 23,
   "metadata": {
    "scrolled": false
   },
   "outputs": [
    {
     "data": {
      "text/html": [
       "<div class=\"toyplot\" id=\"te4f0be12cc9c41aa9e9f9a39d3dde59f\" style=\"text-align:center\"><svg class=\"toyplot-canvas-Canvas\" xmlns:toyplot=\"http://www.sandia.gov/toyplot\" xmlns:xlink=\"http://www.w3.org/1999/xlink\" xmlns=\"http://www.w3.org/2000/svg\" width=\"350.0px\" height=\"300.0px\" viewBox=\"0 0 350.0 300.0\" preserveAspectRatio=\"xMidYMid meet\" style=\"background-color:transparent;border-color:#292724;border-style:none;border-width:1.0;fill:rgb(16.1%,15.3%,14.1%);fill-opacity:1.0;font-family:Helvetica;font-size:12px;opacity:1.0;stroke:rgb(16.1%,15.3%,14.1%);stroke-opacity:1.0;stroke-width:1.0\" id=\"t300c36032039472fab8dd6ef99958f26\"><g class=\"toyplot-coordinates-Cartesian\" id=\"t9576744a9d744503bf4a45719bb63def\"><clipPath id=\"t570e93045311499eb27ce30a197447cd\"><rect x=\"35.0\" y=\"35.0\" width=\"280.0\" height=\"230.0\"></rect></clipPath><g clip-path=\"url(#t570e93045311499eb27ce30a197447cd)\"><g class=\"toytree-mark-Toytree\" id=\"t59f8bce3b76d4609bfb3016d2abef11c\"><g class=\"toytree-Edges\" style=\"fill:none;stroke:(0.55294118, 0.62745098, 0.79607843, 1.);stroke-linecap:round;stroke-width:2.5\"><path d=\"M 271.7 145.8 L 291.9 207.6\" id=\"12,0\" style=\"stroke-width:nan\"></path><path d=\"M 251.6 176.7 L 265.0 207.6\" id=\"10,1\" style=\"stroke-width:nan\"></path><path d=\"M 251.6 176.7 L 238.1 207.6\" id=\"10,2\" style=\"stroke-width:nan\"></path><path d=\"M 241.5 114.9 L 211.2 207.6\" id=\"15,3\" style=\"stroke-width:nan\"></path><path d=\"M 170.9 176.7 L 184.4 207.6\" id=\"11,4\" style=\"stroke-width:nan\"></path><path d=\"M 170.9 176.7 L 157.5 207.6\" id=\"11,5\" style=\"stroke-width:nan\"></path><path d=\"M 150.8 145.8 L 130.6 207.6\" id=\"13,6\" style=\"stroke-width:nan\"></path><path d=\"M 90.3 145.8 L 103.7 207.6\" id=\"14,7\" style=\"stroke-width:nan\"></path><path d=\"M 90.3 145.8 L 76.9 207.6\" id=\"14,8\" style=\"stroke-width:nan\"></path><path d=\"M 115.5 53.1 L 50.0 207.6\" id=\"18,9\" style=\"stroke-width:nan\"></path><path d=\"M 271.7 145.8 L 251.6 176.7\" id=\"12,10\" style=\"stroke-width:nan\"></path><path d=\"M 150.8 145.8 L 170.9 176.7\" id=\"13,11\" style=\"stroke-width:nan\"></path><path d=\"M 241.5 114.9 L 271.7 145.8\" id=\"15,12\" style=\"stroke-width:nan\"></path><path d=\"M 120.5 114.9 L 150.8 145.8\" id=\"16,13\" style=\"stroke-width:nan\"></path><path d=\"M 120.5 114.9 L 90.3 145.8\" id=\"16,14\" style=\"stroke-width:nan\"></path><path d=\"M 181.0 84.0 L 241.5 114.9\" id=\"17,15\" style=\"stroke-width:nan\"></path><path d=\"M 181.0 84.0 L 120.5 114.9\" id=\"17,16\" style=\"stroke-width:nan\"></path><path d=\"M 115.5 53.1 L 181.0 84.0\" id=\"18,17\" style=\"stroke-width:nan\"></path></g><g class=\"toytree-AlignEdges\" style=\"stroke:rgba(66.3%,66.3%,66.3%,1.000);stroke-dasharray:2,4;stroke-linecap:round;stroke-opacity:0.75;stroke-width:2\"><path d=\"M 291.9 207.6 L 291.9 207.6\"></path><path d=\"M 265.0 207.6 L 265.0 207.6\"></path><path d=\"M 238.1 207.6 L 238.1 207.6\"></path><path d=\"M 211.2 207.6 L 211.2 207.6\"></path><path d=\"M 184.4 207.6 L 184.4 207.6\"></path><path d=\"M 157.5 207.6 L 157.5 207.6\"></path><path d=\"M 130.6 207.6 L 130.6 207.6\"></path><path d=\"M 103.7 207.6 L 103.7 207.6\"></path><path d=\"M 76.9 207.6 L 76.9 207.6\"></path><path d=\"M 50.0 207.6 L 50.0 207.6\"></path></g><g class=\"toytree-Nodes\" style=\"fill:rgba(55.3%,62.7%,79.6%,1.000);stroke:#262626;stroke-width:1.0\"><g id=\"node-0\" transform=\"translate(291.873,207.595)\"><circle r=\"4.0\"></circle></g><g id=\"node-1\" transform=\"translate(264.998,207.595)\"><circle r=\"4.0\"></circle></g><g id=\"node-2\" transform=\"translate(238.123,207.595)\"><circle r=\"4.0\"></circle></g><g id=\"node-3\" transform=\"translate(211.249,207.595)\"><circle r=\"4.0\"></circle></g><g id=\"node-4\" transform=\"translate(184.374,207.595)\"><circle r=\"4.0\"></circle></g><g id=\"node-5\" transform=\"translate(157.499,207.595)\"><circle r=\"4.0\"></circle></g><g id=\"node-6\" transform=\"translate(130.624,207.595)\"><circle r=\"4.0\"></circle></g><g id=\"node-7\" transform=\"translate(103.750,207.595)\"><circle r=\"4.0\"></circle></g><g id=\"node-8\" transform=\"translate(76.875,207.595)\"><circle r=\"4.0\"></circle></g><g id=\"node-9\" transform=\"translate(50.000,207.595)\"><circle r=\"4.0\"></circle></g><g id=\"node-10\" transform=\"translate(251.561,176.694)\"><circle r=\"4.0\"></circle></g><g id=\"node-11\" transform=\"translate(170.937,176.694)\"><circle r=\"4.0\"></circle></g><g id=\"node-12\" transform=\"translate(271.717,145.793)\"><circle r=\"4.0\"></circle></g><g id=\"node-13\" transform=\"translate(150.780,145.793)\"><circle r=\"4.0\"></circle></g><g id=\"node-14\" transform=\"translate(90.312,145.793)\"><circle r=\"4.0\"></circle></g><g id=\"node-15\" transform=\"translate(241.483,114.892)\"><circle r=\"4.0\"></circle></g><g id=\"node-16\" transform=\"translate(120.546,114.892)\"><circle r=\"4.0\"></circle></g><g id=\"node-17\" transform=\"translate(181.015,83.991)\"><circle r=\"4.0\"></circle></g><g id=\"node-18\" transform=\"translate(115.507,53.090)\"><circle r=\"4.0\"></circle></g></g><g class=\"toytree-TipLabels\" style=\"fill:rgb(10.6%,62%,46.7%);fill-opacity:1.0;font-family:Helvetica;font-size:14.0px;font-weight:300;stroke:none;vertical-align:baseline;white-space:pre\"><g class=\"toytree-TipLabel\" transform=\"translate(291.87306501547994,207.594672682045)rotate(90.0)\"><text x=\"15.0\" y=\"3.577\" style=\"\">r0</text></g><g class=\"toytree-TipLabel\" transform=\"translate(264.99828001375994,207.594672682045)rotate(90.0)\"><text x=\"15.0\" y=\"3.577\" style=\"\">r1</text></g><g class=\"toytree-TipLabel\" transform=\"translate(238.1234950120399,207.594672682045)rotate(90.0)\"><text x=\"15.0\" y=\"3.577\" style=\"\">r2</text></g><g class=\"toytree-TipLabel\" transform=\"translate(211.24871001031994,207.594672682045)rotate(90.0)\"><text x=\"15.0\" y=\"3.577\" style=\"\">r3</text></g><g class=\"toytree-TipLabel\" transform=\"translate(184.37392500859994,207.594672682045)rotate(90.0)\"><text x=\"15.0\" y=\"3.577\" style=\"\">r4</text></g><g class=\"toytree-TipLabel\" transform=\"translate(157.49914000687997,207.594672682045)rotate(90.0)\"><text x=\"15.0\" y=\"3.577\" style=\"\">r5</text></g><g class=\"toytree-TipLabel\" transform=\"translate(130.62435500515997,207.594672682045)rotate(90.0)\"><text x=\"15.0\" y=\"3.577\" style=\"\">r6</text></g><g class=\"toytree-TipLabel\" transform=\"translate(103.74957000343997,207.594672682045)rotate(90.0)\"><text x=\"15.0\" y=\"3.577\" style=\"\">r7</text></g><g class=\"toytree-TipLabel\" transform=\"translate(76.87478500172,207.594672682045)rotate(90.0)\"><text x=\"15.0\" y=\"3.577\" style=\"\">r8</text></g><g class=\"toytree-TipLabel\" transform=\"translate(50.0,207.594672682045)rotate(90.0)\"><text x=\"15.0\" y=\"3.577\" style=\"\">r9</text></g></g></g></g></g></svg><div class=\"toyplot-behavior\"><script>(function()\n",
       "{\n",
       "var modules={};\n",
       "})();</script></div></div>"
      ]
     },
     "metadata": {},
     "output_type": "display_data"
    }
   ],
   "source": [
    "# use your custom style dictionary in one or more tree drawings\n",
    "tre.draw(height=300, **my_tree_style);"
   ]
  },
  {
   "cell_type": "markdown",
   "metadata": {},
   "source": [
    "### Drawing trees: nodes\n",
    "Plotting node values on a tree is a useful way of representing additional information about trees. Toytree tries to make this process fool-proof, in the sense that the data you plot on nodes will always be the correct data associated with that node. This is done through simple shortcut methods for plotting node features, as well as a convenience function called `.get_node_data()` that draws the values explicitly from the same tree structure that is being plotted (this avoids making a list of values from a tree and then plotting them on that tree only to find that a the order of tips or nodes in the tree is different.) \n",
    "\n",
    "Finally, toytree also provides interactive features that allow you to explore many features of your data by simply hovering over nodes with your cursor. This is made possible by the HTML+JS framework in which toytrees are displayed in jupyter notebooks, or in web-pages.  "
   ]
  },
  {
   "cell_type": "code",
   "execution_count": 53,
   "metadata": {},
   "outputs": [],
   "source": [
    "rtre = toytree.rtree.unittree(10)"
   ]
  },
  {
   "cell_type": "code",
   "execution_count": 60,
   "metadata": {},
   "outputs": [
    {
     "data": {
      "text/html": [
       "<div class=\"toyplot\" id=\"t2087a647a23d421f8cd9292b2c2fa55d\" style=\"text-align:center\"><svg class=\"toyplot-canvas-Canvas\" xmlns:toyplot=\"http://www.sandia.gov/toyplot\" xmlns:xlink=\"http://www.w3.org/1999/xlink\" xmlns=\"http://www.w3.org/2000/svg\" width=\"260.0px\" height=\"300.0px\" viewBox=\"0 0 260.0 300.0\" preserveAspectRatio=\"xMidYMid meet\" style=\"background-color:transparent;border-color:#292724;border-style:none;border-width:1.0;fill:rgb(16.1%,15.3%,14.1%);fill-opacity:1.0;font-family:Helvetica;font-size:12px;opacity:1.0;stroke:rgb(16.1%,15.3%,14.1%);stroke-opacity:1.0;stroke-width:1.0\" id=\"t8089511f0e584e85b6c4153a02b12163\"><g class=\"toyplot-coordinates-Cartesian\" id=\"tfbd1429eea5f48b5be1cae5b80ddfb3a\"><clipPath id=\"tcf25f9cb7aa448298b9f2d3ef399e185\"><rect x=\"35.0\" y=\"35.0\" width=\"190.0\" height=\"230.0\"></rect></clipPath><g clip-path=\"url(#tcf25f9cb7aa448298b9f2d3ef399e185)\"><g class=\"toytree-mark-Toytree\" id=\"tf2b3beff92d542689ed93441241ca5f7\"><g class=\"toytree-Edges\" style=\"fill:none;stroke:rgba(16.1%,15.3%,14.1%,1.000);stroke-linecap:round;stroke-width:2.0\"><path d=\"M 101.5 225.6 L 101.5 243.8 L 173.0 243.8\" id=\"12,0\" style=\"stroke-width:nan\"></path><path d=\"M 125.3 207.3 L 125.3 223.0 L 173.0 223.0\" id=\"11,1\" style=\"stroke-width:nan\"></path><path d=\"M 149.2 191.7 L 149.2 202.1 L 173.0 202.1\" id=\"10,2\" style=\"stroke-width:nan\"></path><path d=\"M 149.2 191.7 L 149.2 181.3 L 173.0 181.3\" id=\"10,3\" style=\"stroke-width:nan\"></path><path d=\"M 101.5 150.0 L 101.5 160.4 L 173.0 160.4\" id=\"13,4\" style=\"stroke-width:nan\"></path><path d=\"M 101.5 150.0 L 101.5 139.6 L 173.0 139.6\" id=\"13,5\" style=\"stroke-width:nan\"></path><path d=\"M 101.5 108.3 L 101.5 118.7 L 173.0 118.7\" id=\"14,6\" style=\"stroke-width:nan\"></path><path d=\"M 101.5 108.3 L 101.5 97.9 L 173.0 97.9\" id=\"14,7\" style=\"stroke-width:nan\"></path><path d=\"M 101.5 66.6 L 101.5 77.0 L 173.0 77.0\" id=\"15,8\" style=\"stroke-width:nan\"></path><path d=\"M 101.5 66.6 L 101.5 56.2 L 173.0 56.2\" id=\"15,9\" style=\"stroke-width:nan\"></path><path d=\"M 125.3 207.3 L 125.3 191.7 L 149.2 191.7\" id=\"11,10\" style=\"stroke-width:nan\"></path><path d=\"M 101.5 225.6 L 101.5 207.3 L 125.3 207.3\" id=\"12,11\" style=\"stroke-width:nan\"></path><path d=\"M 77.6 187.8 L 77.6 225.6 L 101.5 225.6\" id=\"16,12\" style=\"stroke-width:nan\"></path><path d=\"M 77.6 187.8 L 77.6 150.0 L 101.5 150.0\" id=\"16,13\" style=\"stroke-width:nan\"></path><path d=\"M 77.6 87.5 L 77.6 108.3 L 101.5 108.3\" id=\"17,14\" style=\"stroke-width:nan\"></path><path d=\"M 77.6 87.5 L 77.6 66.6 L 101.5 66.6\" id=\"17,15\" style=\"stroke-width:nan\"></path><path d=\"M 53.7 137.6 L 53.7 187.8 L 77.6 187.8\" id=\"18,16\" style=\"stroke-width:nan\"></path><path d=\"M 53.7 137.6 L 53.7 87.5 L 77.6 87.5\" id=\"18,17\" style=\"stroke-width:nan\"></path></g><g class=\"toytree-Nodes\" style=\"fill:rgba(40.0%,76.1%,64.7%,1.000);stroke:#262626;stroke-width:1.0\"><g id=\"node-10\" transform=\"translate(149.181,191.693)\"><title>10</title><circle r=\"5.0\"></circle></g><g id=\"node-11\" transform=\"translate(125.318,207.327)\"><title>11</title><circle r=\"5.0\"></circle></g><g id=\"node-12\" transform=\"translate(101.455,225.568)\"><title>12</title><circle r=\"5.0\"></circle></g><g id=\"node-13\" transform=\"translate(101.455,150.000)\"><title>13</title><circle r=\"5.0\"></circle></g><g id=\"node-14\" transform=\"translate(101.455,108.307)\"><title>14</title><circle r=\"5.0\"></circle></g><g id=\"node-15\" transform=\"translate(101.455,66.615)\"><title>15</title><circle r=\"5.0\"></circle></g><g id=\"node-16\" transform=\"translate(77.592,187.784)\"><title>16</title><circle r=\"5.0\"></circle></g><g id=\"node-17\" transform=\"translate(77.592,87.461)\"><title>17</title><circle r=\"5.0\"></circle></g><g id=\"node-18\" transform=\"translate(53.729,137.622)\"><title>18</title><circle r=\"5.0\"></circle></g></g><g class=\"toytree-TipLabels\" style=\"fill:rgb(16.1%,15.3%,14.1%);fill-opacity:1.0;font-family:Helvetica;font-size:11.0px;font-weight:300;stroke:none;vertical-align:baseline;white-space:pre\"><g class=\"toytree-TipLabel\" transform=\"translate(173.04365253218242,243.80863039399622)\"><text x=\"15.0\" y=\"2.8104999999999993\" style=\"\">r0</text></g><g class=\"toytree-TipLabel\" transform=\"translate(173.04365253218242,222.9622680842193)\"><text x=\"15.0\" y=\"2.8104999999999993\" style=\"\">r1</text></g><g class=\"toytree-TipLabel\" transform=\"translate(173.04365253218242,202.11590577444233)\"><text x=\"15.0\" y=\"2.8104999999999993\" style=\"\">r2</text></g><g class=\"toytree-TipLabel\" transform=\"translate(173.04365253218242,181.2695434646654)\"><text x=\"15.0\" y=\"2.8104999999999993\" style=\"\">r3</text></g><g class=\"toytree-TipLabel\" transform=\"translate(173.04365253218242,160.42318115488845)\"><text x=\"15.0\" y=\"2.8104999999999993\" style=\"\">r4</text></g><g class=\"toytree-TipLabel\" transform=\"translate(173.04365253218242,139.57681884511152)\"><text x=\"15.0\" y=\"2.8104999999999993\" style=\"\">r5</text></g><g class=\"toytree-TipLabel\" transform=\"translate(173.04365253218242,118.73045653533457)\"><text x=\"15.0\" y=\"2.8104999999999993\" style=\"\">r6</text></g><g class=\"toytree-TipLabel\" transform=\"translate(173.04365253218242,97.88409422555762)\"><text x=\"15.0\" y=\"2.8104999999999993\" style=\"\">r7</text></g><g class=\"toytree-TipLabel\" transform=\"translate(173.04365253218242,77.03773191578067)\"><text x=\"15.0\" y=\"2.8104999999999993\" style=\"\">r8</text></g><g class=\"toytree-TipLabel\" transform=\"translate(173.04365253218242,56.19136960600373)\"><text x=\"15.0\" y=\"2.8104999999999993\" style=\"\">r9</text></g></g></g></g></g></svg><div class=\"toyplot-behavior\"><script>(function()\n",
       "{\n",
       "var modules={};\n",
       "})();</script></div></div>"
      ]
     },
     "metadata": {},
     "output_type": "display_data"
    }
   ],
   "source": [
    "# hover over nodes to see pop-up elements showing the node index (idx)\n",
    "rtre.draw(height=300, node_hover=True, node_sizes=10);"
   ]
  },
  {
   "cell_type": "markdown",
   "metadata": {},
   "source": [
    "You can also create plots with all or some of the nodes shown, without or without node labels. The `node_mask` argument is a boolean mask to hide or show labels. All arguments that can optionally take a value for every node (e.g., node_colors, node_sizes, etc) accept arguments in node idx order (nodes idx labels range from 0-nnodes). The default `node_mask` hides node markers for tips. Below I show plots for setting `node_mask` to None (default), True, False, and a custom (random) boolean mask. "
   ]
  },
  {
   "cell_type": "code",
   "execution_count": 62,
   "metadata": {},
   "outputs": [
    {
     "data": {
      "text/html": [
       "<div class=\"toyplot\" id=\"t49499a02c0a6445283ddcae3bcb08c69\" style=\"text-align:center\"><svg class=\"toyplot-canvas-Canvas\" xmlns:toyplot=\"http://www.sandia.gov/toyplot\" xmlns:xlink=\"http://www.w3.org/1999/xlink\" xmlns=\"http://www.w3.org/2000/svg\" width=\"750.0px\" height=\"200.0px\" viewBox=\"0 0 750.0 200.0\" preserveAspectRatio=\"xMidYMid meet\" style=\"background-color:transparent;border-color:#292724;border-style:none;border-width:1.0;fill:rgb(16.1%,15.3%,14.1%);fill-opacity:1.0;font-family:Helvetica;font-size:12px;opacity:1.0;stroke:rgb(16.1%,15.3%,14.1%);stroke-opacity:1.0;stroke-width:1.0\" id=\"t351a4ff29e7a459aab157dcdbb088ea5\"><g class=\"toyplot-coordinates-Cartesian\" id=\"td3031aca59f94066a3db399c8187313e\"><clipPath id=\"t6a5cab1917244d90aef6c39c6cc3ef94\"><rect x=\"40.0\" y=\"40.0\" width=\"132.5\" height=\"145.0\"></rect></clipPath><g clip-path=\"url(#t6a5cab1917244d90aef6c39c6cc3ef94)\"><g class=\"toytree-mark-Toytree\" id=\"t2b274821524741c780c10321ceb88c56\"><g class=\"toytree-Edges\" style=\"fill:none;stroke:rgba(16.1%,15.3%,14.1%,1.000);stroke-linecap:round;stroke-width:2.0\"><path d=\"M 76.7 163.6 L 76.7 170.0 L 135.9 170.0\" id=\"14,0\" style=\"stroke-width:nan\"></path><path d=\"M 76.7 163.6 L 76.7 157.2 L 135.9 157.2\" id=\"14,1\" style=\"stroke-width:nan\"></path><path d=\"M 76.7 128.1 L 76.7 144.5 L 135.9 144.5\" id=\"15,2\" style=\"stroke-width:nan\"></path><path d=\"M 88.5 111.7 L 88.5 131.7 L 135.9 131.7\" id=\"13,3\" style=\"stroke-width:nan\"></path><path d=\"M 124.1 112.5 L 124.1 118.9 L 135.9 118.9\" id=\"10,4\" style=\"stroke-width:nan\"></path><path d=\"M 124.1 112.5 L 124.1 106.1 L 135.9 106.1\" id=\"10,5\" style=\"stroke-width:nan\"></path><path d=\"M 112.2 102.9 L 112.2 93.3 L 135.9 93.3\" id=\"11,6\" style=\"stroke-width:nan\"></path><path d=\"M 100.4 91.7 L 100.4 80.5 L 135.9 80.5\" id=\"12,7\" style=\"stroke-width:nan\"></path><path d=\"M 64.8 61.4 L 64.8 67.8 L 135.9 67.8\" id=\"17,8\" style=\"stroke-width:nan\"></path><path d=\"M 64.8 61.4 L 64.8 55.0 L 135.9 55.0\" id=\"17,9\" style=\"stroke-width:nan\"></path><path d=\"M 112.2 102.9 L 112.2 112.5 L 124.1 112.5\" id=\"11,10\" style=\"stroke-width:nan\"></path><path d=\"M 100.4 91.7 L 100.4 102.9 L 112.2 102.9\" id=\"12,11\" style=\"stroke-width:nan\"></path><path d=\"M 88.5 111.7 L 88.5 91.7 L 100.4 91.7\" id=\"13,12\" style=\"stroke-width:nan\"></path><path d=\"M 76.7 128.1 L 76.7 111.7 L 88.5 111.7\" id=\"15,13\" style=\"stroke-width:nan\"></path><path d=\"M 64.8 145.9 L 64.8 163.6 L 76.7 163.6\" id=\"16,14\" style=\"stroke-width:nan\"></path><path d=\"M 64.8 145.9 L 64.8 128.1 L 76.7 128.1\" id=\"16,15\" style=\"stroke-width:nan\"></path><path d=\"M 53.0 103.6 L 53.0 145.9 L 64.8 145.9\" id=\"18,16\" style=\"stroke-width:nan\"></path><path d=\"M 53.0 103.6 L 53.0 61.4 L 64.8 61.4\" id=\"18,17\" style=\"stroke-width:nan\"></path></g><g class=\"toytree-Nodes\" style=\"fill:rgba(40.0%,76.1%,64.7%,1.000);stroke:#262626;stroke-width:1.0\"><g id=\"node-10\" transform=\"translate(124.086,112.500)\"><circle r=\"4.0\"></circle></g><g id=\"node-11\" transform=\"translate(112.230,102.912)\"><circle r=\"4.0\"></circle></g><g id=\"node-12\" transform=\"translate(100.374,91.725)\"><circle r=\"4.0\"></circle></g><g id=\"node-13\" transform=\"translate(88.518,111.701)\"><circle r=\"4.0\"></circle></g><g id=\"node-14\" transform=\"translate(76.662,163.637)\"><circle r=\"4.0\"></circle></g><g id=\"node-15\" transform=\"translate(76.662,128.081)\"><circle r=\"4.0\"></circle></g><g id=\"node-16\" transform=\"translate(64.807,145.859)\"><circle r=\"4.0\"></circle></g><g id=\"node-17\" transform=\"translate(64.807,61.363)\"><circle r=\"4.0\"></circle></g><g id=\"node-18\" transform=\"translate(52.951,103.611)\"><circle r=\"4.0\"></circle></g></g><g class=\"toytree-TipLabels\" style=\"fill:rgb(16.1%,15.3%,14.1%);fill-opacity:1.0;font-family:Helvetica;font-size:9.0px;font-weight:300;stroke:none;vertical-align:baseline;white-space:pre\"><g class=\"toytree-TipLabel\" transform=\"translate(135.94149584923477,170.02945508100146)\"><text x=\"10.0\" y=\"2.2995\" style=\"\">r0</text></g><g class=\"toytree-TipLabel\" transform=\"translate(135.94149584923477,157.24513172966783)\"><text x=\"10.0\" y=\"2.2995\" style=\"\">r1</text></g><g class=\"toytree-TipLabel\" transform=\"translate(135.94149584923477,144.46080837833415)\"><text x=\"10.0\" y=\"2.2995\" style=\"\">r2</text></g><g class=\"toytree-TipLabel\" transform=\"translate(135.94149584923477,131.6764850270005)\"><text x=\"10.0\" y=\"2.2995\" style=\"\">r3</text></g><g class=\"toytree-TipLabel\" transform=\"translate(135.94149584923474,118.89216167566684)\"><text x=\"10.0\" y=\"2.2995\" style=\"\">r4</text></g><g class=\"toytree-TipLabel\" transform=\"translate(135.94149584923474,106.10783832433316)\"><text x=\"10.0\" y=\"2.2995\" style=\"\">r5</text></g><g class=\"toytree-TipLabel\" transform=\"translate(135.94149584923474,93.3235149729995)\"><text x=\"10.0\" y=\"2.2995\" style=\"\">r6</text></g><g class=\"toytree-TipLabel\" transform=\"translate(135.94149584923477,80.53919162166585)\"><text x=\"10.0\" y=\"2.2995\" style=\"\">r7</text></g><g class=\"toytree-TipLabel\" transform=\"translate(135.94149584923477,67.75486827033221)\"><text x=\"10.0\" y=\"2.2995\" style=\"\">r8</text></g><g class=\"toytree-TipLabel\" transform=\"translate(135.94149584923477,54.970544918998556)\"><text x=\"10.0\" y=\"2.2995\" style=\"\">r9</text></g></g></g></g></g><g class=\"toyplot-coordinates-Cartesian\" id=\"t38cfb803f1274d99b2d93000a61fb916\"><clipPath id=\"ta060ac9dda114d1aba6326cd9c6ca868\"><rect x=\"220.0\" y=\"40.0\" width=\"132.5\" height=\"145.0\"></rect></clipPath><g clip-path=\"url(#ta060ac9dda114d1aba6326cd9c6ca868)\"><g class=\"toytree-mark-Toytree\" id=\"tecc9f45751a94db0a0e2bcf1c0d24b88\"><g class=\"toytree-Edges\" style=\"fill:none;stroke:rgba(16.1%,15.3%,14.1%,1.000);stroke-linecap:round;stroke-width:2.0\"><path d=\"M 256.7 163.6 L 256.7 170.0 L 315.9 170.0\" id=\"14,0\" style=\"stroke-width:nan\"></path><path d=\"M 256.7 163.6 L 256.7 157.2 L 315.9 157.2\" id=\"14,1\" style=\"stroke-width:nan\"></path><path d=\"M 256.7 128.1 L 256.7 144.5 L 315.9 144.5\" id=\"15,2\" style=\"stroke-width:nan\"></path><path d=\"M 268.5 111.7 L 268.5 131.7 L 315.9 131.7\" id=\"13,3\" style=\"stroke-width:nan\"></path><path d=\"M 304.1 112.5 L 304.1 118.9 L 315.9 118.9\" id=\"10,4\" style=\"stroke-width:nan\"></path><path d=\"M 304.1 112.5 L 304.1 106.1 L 315.9 106.1\" id=\"10,5\" style=\"stroke-width:nan\"></path><path d=\"M 292.2 102.9 L 292.2 93.3 L 315.9 93.3\" id=\"11,6\" style=\"stroke-width:nan\"></path><path d=\"M 280.4 91.7 L 280.4 80.5 L 315.9 80.5\" id=\"12,7\" style=\"stroke-width:nan\"></path><path d=\"M 244.8 61.4 L 244.8 67.8 L 315.9 67.8\" id=\"17,8\" style=\"stroke-width:nan\"></path><path d=\"M 244.8 61.4 L 244.8 55.0 L 315.9 55.0\" id=\"17,9\" style=\"stroke-width:nan\"></path><path d=\"M 292.2 102.9 L 292.2 112.5 L 304.1 112.5\" id=\"11,10\" style=\"stroke-width:nan\"></path><path d=\"M 280.4 91.7 L 280.4 102.9 L 292.2 102.9\" id=\"12,11\" style=\"stroke-width:nan\"></path><path d=\"M 268.5 111.7 L 268.5 91.7 L 280.4 91.7\" id=\"13,12\" style=\"stroke-width:nan\"></path><path d=\"M 256.7 128.1 L 256.7 111.7 L 268.5 111.7\" id=\"15,13\" style=\"stroke-width:nan\"></path><path d=\"M 244.8 145.9 L 244.8 163.6 L 256.7 163.6\" id=\"16,14\" style=\"stroke-width:nan\"></path><path d=\"M 244.8 145.9 L 244.8 128.1 L 256.7 128.1\" id=\"16,15\" style=\"stroke-width:nan\"></path><path d=\"M 233.0 103.6 L 233.0 145.9 L 244.8 145.9\" id=\"18,16\" style=\"stroke-width:nan\"></path><path d=\"M 233.0 103.6 L 233.0 61.4 L 244.8 61.4\" id=\"18,17\" style=\"stroke-width:nan\"></path></g><g class=\"toytree-TipLabels\" style=\"fill:rgb(16.1%,15.3%,14.1%);fill-opacity:1.0;font-family:Helvetica;font-size:9.0px;font-weight:300;stroke:none;vertical-align:baseline;white-space:pre\"><g class=\"toytree-TipLabel\" transform=\"translate(315.94149584923474,170.02945508100146)\"><text x=\"10.0\" y=\"2.2995\" style=\"\">r0</text></g><g class=\"toytree-TipLabel\" transform=\"translate(315.94149584923474,157.24513172966783)\"><text x=\"10.0\" y=\"2.2995\" style=\"\">r1</text></g><g class=\"toytree-TipLabel\" transform=\"translate(315.94149584923474,144.46080837833415)\"><text x=\"10.0\" y=\"2.2995\" style=\"\">r2</text></g><g class=\"toytree-TipLabel\" transform=\"translate(315.94149584923474,131.6764850270005)\"><text x=\"10.0\" y=\"2.2995\" style=\"\">r3</text></g><g class=\"toytree-TipLabel\" transform=\"translate(315.94149584923474,118.89216167566684)\"><text x=\"10.0\" y=\"2.2995\" style=\"\">r4</text></g><g class=\"toytree-TipLabel\" transform=\"translate(315.94149584923474,106.10783832433316)\"><text x=\"10.0\" y=\"2.2995\" style=\"\">r5</text></g><g class=\"toytree-TipLabel\" transform=\"translate(315.94149584923474,93.3235149729995)\"><text x=\"10.0\" y=\"2.2995\" style=\"\">r6</text></g><g class=\"toytree-TipLabel\" transform=\"translate(315.94149584923474,80.53919162166585)\"><text x=\"10.0\" y=\"2.2995\" style=\"\">r7</text></g><g class=\"toytree-TipLabel\" transform=\"translate(315.94149584923474,67.75486827033221)\"><text x=\"10.0\" y=\"2.2995\" style=\"\">r8</text></g><g class=\"toytree-TipLabel\" transform=\"translate(315.94149584923474,54.970544918998556)\"><text x=\"10.0\" y=\"2.2995\" style=\"\">r9</text></g></g></g></g></g><g class=\"toyplot-coordinates-Cartesian\" id=\"t92517ed646a2424fb65ecc994655910c\"><clipPath id=\"tbe666723cbbc42238a54b9feb7ac80bf\"><rect x=\"397.5\" y=\"40.0\" width=\"132.5\" height=\"145.0\"></rect></clipPath><g clip-path=\"url(#tbe666723cbbc42238a54b9feb7ac80bf)\"><g class=\"toytree-mark-Toytree\" id=\"t0cf5126b88714485a406daf3630f73c8\"><g class=\"toytree-Edges\" style=\"fill:none;stroke:rgba(16.1%,15.3%,14.1%,1.000);stroke-linecap:round;stroke-width:2.0\"><path d=\"M 434.2 163.6 L 434.2 170.0 L 493.4 170.0\" id=\"14,0\" style=\"stroke-width:nan\"></path><path d=\"M 434.2 163.6 L 434.2 157.2 L 493.4 157.2\" id=\"14,1\" style=\"stroke-width:nan\"></path><path d=\"M 434.2 128.1 L 434.2 144.5 L 493.4 144.5\" id=\"15,2\" style=\"stroke-width:nan\"></path><path d=\"M 446.0 111.7 L 446.0 131.7 L 493.4 131.7\" id=\"13,3\" style=\"stroke-width:nan\"></path><path d=\"M 481.6 112.5 L 481.6 118.9 L 493.4 118.9\" id=\"10,4\" style=\"stroke-width:nan\"></path><path d=\"M 481.6 112.5 L 481.6 106.1 L 493.4 106.1\" id=\"10,5\" style=\"stroke-width:nan\"></path><path d=\"M 469.7 102.9 L 469.7 93.3 L 493.4 93.3\" id=\"11,6\" style=\"stroke-width:nan\"></path><path d=\"M 457.9 91.7 L 457.9 80.5 L 493.4 80.5\" id=\"12,7\" style=\"stroke-width:nan\"></path><path d=\"M 422.3 61.4 L 422.3 67.8 L 493.4 67.8\" id=\"17,8\" style=\"stroke-width:nan\"></path><path d=\"M 422.3 61.4 L 422.3 55.0 L 493.4 55.0\" id=\"17,9\" style=\"stroke-width:nan\"></path><path d=\"M 469.7 102.9 L 469.7 112.5 L 481.6 112.5\" id=\"11,10\" style=\"stroke-width:nan\"></path><path d=\"M 457.9 91.7 L 457.9 102.9 L 469.7 102.9\" id=\"12,11\" style=\"stroke-width:nan\"></path><path d=\"M 446.0 111.7 L 446.0 91.7 L 457.9 91.7\" id=\"13,12\" style=\"stroke-width:nan\"></path><path d=\"M 434.2 128.1 L 434.2 111.7 L 446.0 111.7\" id=\"15,13\" style=\"stroke-width:nan\"></path><path d=\"M 422.3 145.9 L 422.3 163.6 L 434.2 163.6\" id=\"16,14\" style=\"stroke-width:nan\"></path><path d=\"M 422.3 145.9 L 422.3 128.1 L 434.2 128.1\" id=\"16,15\" style=\"stroke-width:nan\"></path><path d=\"M 410.5 103.6 L 410.5 145.9 L 422.3 145.9\" id=\"18,16\" style=\"stroke-width:nan\"></path><path d=\"M 410.5 103.6 L 410.5 61.4 L 422.3 61.4\" id=\"18,17\" style=\"stroke-width:nan\"></path></g><g class=\"toytree-Nodes\" style=\"fill:rgba(40.0%,76.1%,64.7%,1.000);stroke:#262626;stroke-width:1.0\"><g id=\"node-0\" transform=\"translate(493.441,170.029)\"><circle r=\"4.0\"></circle></g><g id=\"node-1\" transform=\"translate(493.441,157.245)\"><circle r=\"4.0\"></circle></g><g id=\"node-2\" transform=\"translate(493.441,144.461)\"><circle r=\"4.0\"></circle></g><g id=\"node-3\" transform=\"translate(493.441,131.676)\"><circle r=\"4.0\"></circle></g><g id=\"node-4\" transform=\"translate(493.441,118.892)\"><circle r=\"4.0\"></circle></g><g id=\"node-5\" transform=\"translate(493.441,106.108)\"><circle r=\"4.0\"></circle></g><g id=\"node-6\" transform=\"translate(493.441,93.324)\"><circle r=\"4.0\"></circle></g><g id=\"node-7\" transform=\"translate(493.441,80.539)\"><circle r=\"4.0\"></circle></g><g id=\"node-8\" transform=\"translate(493.441,67.755)\"><circle r=\"4.0\"></circle></g><g id=\"node-9\" transform=\"translate(493.441,54.971)\"><circle r=\"4.0\"></circle></g><g id=\"node-10\" transform=\"translate(481.586,112.500)\"><circle r=\"4.0\"></circle></g><g id=\"node-11\" transform=\"translate(469.730,102.912)\"><circle r=\"4.0\"></circle></g><g id=\"node-12\" transform=\"translate(457.874,91.725)\"><circle r=\"4.0\"></circle></g><g id=\"node-13\" transform=\"translate(446.018,111.701)\"><circle r=\"4.0\"></circle></g><g id=\"node-14\" transform=\"translate(434.162,163.637)\"><circle r=\"4.0\"></circle></g><g id=\"node-15\" transform=\"translate(434.162,128.081)\"><circle r=\"4.0\"></circle></g><g id=\"node-16\" transform=\"translate(422.307,145.859)\"><circle r=\"4.0\"></circle></g><g id=\"node-17\" transform=\"translate(422.307,61.363)\"><circle r=\"4.0\"></circle></g><g id=\"node-18\" transform=\"translate(410.451,103.611)\"><circle r=\"4.0\"></circle></g></g><g class=\"toytree-TipLabels\" style=\"fill:rgb(16.1%,15.3%,14.1%);fill-opacity:1.0;font-family:Helvetica;font-size:9.0px;font-weight:300;stroke:none;vertical-align:baseline;white-space:pre\"><g class=\"toytree-TipLabel\" transform=\"translate(493.4414958492348,170.02945508100146)\"><text x=\"10.0\" y=\"2.2995\" style=\"\">r0</text></g><g class=\"toytree-TipLabel\" transform=\"translate(493.4414958492348,157.24513172966783)\"><text x=\"10.0\" y=\"2.2995\" style=\"\">r1</text></g><g class=\"toytree-TipLabel\" transform=\"translate(493.4414958492348,144.46080837833415)\"><text x=\"10.0\" y=\"2.2995\" style=\"\">r2</text></g><g class=\"toytree-TipLabel\" transform=\"translate(493.4414958492348,131.6764850270005)\"><text x=\"10.0\" y=\"2.2995\" style=\"\">r3</text></g><g class=\"toytree-TipLabel\" transform=\"translate(493.4414958492348,118.89216167566684)\"><text x=\"10.0\" y=\"2.2995\" style=\"\">r4</text></g><g class=\"toytree-TipLabel\" transform=\"translate(493.4414958492348,106.10783832433316)\"><text x=\"10.0\" y=\"2.2995\" style=\"\">r5</text></g><g class=\"toytree-TipLabel\" transform=\"translate(493.4414958492348,93.3235149729995)\"><text x=\"10.0\" y=\"2.2995\" style=\"\">r6</text></g><g class=\"toytree-TipLabel\" transform=\"translate(493.4414958492348,80.53919162166585)\"><text x=\"10.0\" y=\"2.2995\" style=\"\">r7</text></g><g class=\"toytree-TipLabel\" transform=\"translate(493.4414958492348,67.75486827033221)\"><text x=\"10.0\" y=\"2.2995\" style=\"\">r8</text></g><g class=\"toytree-TipLabel\" transform=\"translate(493.4414958492348,54.970544918998556)\"><text x=\"10.0\" y=\"2.2995\" style=\"\">r9</text></g></g></g></g></g><g class=\"toyplot-coordinates-Cartesian\" id=\"tc855f8ed16ac48be92ceea452e16d1dd\"><clipPath id=\"t4751d9dfaea640c099d4d67a6e3ac429\"><rect x=\"577.5\" y=\"40.0\" width=\"132.5\" height=\"145.0\"></rect></clipPath><g clip-path=\"url(#t4751d9dfaea640c099d4d67a6e3ac429)\"><g class=\"toytree-mark-Toytree\" id=\"tc19617000f414d86a6b261e4909456d3\"><g class=\"toytree-Edges\" style=\"fill:none;stroke:rgba(16.1%,15.3%,14.1%,1.000);stroke-linecap:round;stroke-width:2.0\"><path d=\"M 614.2 163.6 L 614.2 170.0 L 673.4 170.0\" id=\"14,0\" style=\"stroke-width:nan\"></path><path d=\"M 614.2 163.6 L 614.2 157.2 L 673.4 157.2\" id=\"14,1\" style=\"stroke-width:nan\"></path><path d=\"M 614.2 128.1 L 614.2 144.5 L 673.4 144.5\" id=\"15,2\" style=\"stroke-width:nan\"></path><path d=\"M 626.0 111.7 L 626.0 131.7 L 673.4 131.7\" id=\"13,3\" style=\"stroke-width:nan\"></path><path d=\"M 661.6 112.5 L 661.6 118.9 L 673.4 118.9\" id=\"10,4\" style=\"stroke-width:nan\"></path><path d=\"M 661.6 112.5 L 661.6 106.1 L 673.4 106.1\" id=\"10,5\" style=\"stroke-width:nan\"></path><path d=\"M 649.7 102.9 L 649.7 93.3 L 673.4 93.3\" id=\"11,6\" style=\"stroke-width:nan\"></path><path d=\"M 637.9 91.7 L 637.9 80.5 L 673.4 80.5\" id=\"12,7\" style=\"stroke-width:nan\"></path><path d=\"M 602.3 61.4 L 602.3 67.8 L 673.4 67.8\" id=\"17,8\" style=\"stroke-width:nan\"></path><path d=\"M 602.3 61.4 L 602.3 55.0 L 673.4 55.0\" id=\"17,9\" style=\"stroke-width:nan\"></path><path d=\"M 649.7 102.9 L 649.7 112.5 L 661.6 112.5\" id=\"11,10\" style=\"stroke-width:nan\"></path><path d=\"M 637.9 91.7 L 637.9 102.9 L 649.7 102.9\" id=\"12,11\" style=\"stroke-width:nan\"></path><path d=\"M 626.0 111.7 L 626.0 91.7 L 637.9 91.7\" id=\"13,12\" style=\"stroke-width:nan\"></path><path d=\"M 614.2 128.1 L 614.2 111.7 L 626.0 111.7\" id=\"15,13\" style=\"stroke-width:nan\"></path><path d=\"M 602.3 145.9 L 602.3 163.6 L 614.2 163.6\" id=\"16,14\" style=\"stroke-width:nan\"></path><path d=\"M 602.3 145.9 L 602.3 128.1 L 614.2 128.1\" id=\"16,15\" style=\"stroke-width:nan\"></path><path d=\"M 590.5 103.6 L 590.5 145.9 L 602.3 145.9\" id=\"18,16\" style=\"stroke-width:nan\"></path><path d=\"M 590.5 103.6 L 590.5 61.4 L 602.3 61.4\" id=\"18,17\" style=\"stroke-width:nan\"></path></g><g class=\"toytree-Nodes\" style=\"fill:rgba(40.0%,76.1%,64.7%,1.000);stroke:#262626;stroke-width:1.0\"><g id=\"node-4\" transform=\"translate(673.441,118.892)\"><circle r=\"4.0\"></circle></g><g id=\"node-5\" transform=\"translate(673.441,106.108)\"><circle r=\"4.0\"></circle></g><g id=\"node-6\" transform=\"translate(673.441,93.324)\"><circle r=\"4.0\"></circle></g><g id=\"node-9\" transform=\"translate(673.441,54.971)\"><circle r=\"4.0\"></circle></g><g id=\"node-10\" transform=\"translate(661.586,112.500)\"><circle r=\"4.0\"></circle></g><g id=\"node-14\" transform=\"translate(614.162,163.637)\"><circle r=\"4.0\"></circle></g><g id=\"node-15\" transform=\"translate(614.162,128.081)\"><circle r=\"4.0\"></circle></g><g id=\"node-16\" transform=\"translate(602.307,145.859)\"><circle r=\"4.0\"></circle></g><g id=\"node-17\" transform=\"translate(602.307,61.363)\"><circle r=\"4.0\"></circle></g><g id=\"node-18\" transform=\"translate(590.451,103.611)\"><circle r=\"4.0\"></circle></g></g><g class=\"toytree-TipLabels\" style=\"fill:rgb(16.1%,15.3%,14.1%);fill-opacity:1.0;font-family:Helvetica;font-size:9.0px;font-weight:300;stroke:none;vertical-align:baseline;white-space:pre\"><g class=\"toytree-TipLabel\" transform=\"translate(673.4414958492348,170.02945508100146)\"><text x=\"10.0\" y=\"2.2995\" style=\"\">r0</text></g><g class=\"toytree-TipLabel\" transform=\"translate(673.4414958492348,157.24513172966783)\"><text x=\"10.0\" y=\"2.2995\" style=\"\">r1</text></g><g class=\"toytree-TipLabel\" transform=\"translate(673.4414958492348,144.46080837833415)\"><text x=\"10.0\" y=\"2.2995\" style=\"\">r2</text></g><g class=\"toytree-TipLabel\" transform=\"translate(673.4414958492348,131.6764850270005)\"><text x=\"10.0\" y=\"2.2995\" style=\"\">r3</text></g><g class=\"toytree-TipLabel\" transform=\"translate(673.4414958492348,118.89216167566684)\"><text x=\"10.0\" y=\"2.2995\" style=\"\">r4</text></g><g class=\"toytree-TipLabel\" transform=\"translate(673.4414958492348,106.10783832433316)\"><text x=\"10.0\" y=\"2.2995\" style=\"\">r5</text></g><g class=\"toytree-TipLabel\" transform=\"translate(673.4414958492348,93.3235149729995)\"><text x=\"10.0\" y=\"2.2995\" style=\"\">r6</text></g><g class=\"toytree-TipLabel\" transform=\"translate(673.4414958492348,80.53919162166585)\"><text x=\"10.0\" y=\"2.2995\" style=\"\">r7</text></g><g class=\"toytree-TipLabel\" transform=\"translate(673.4414958492348,67.75486827033221)\"><text x=\"10.0\" y=\"2.2995\" style=\"\">r8</text></g><g class=\"toytree-TipLabel\" transform=\"translate(673.4414958492348,54.970544918998556)\"><text x=\"10.0\" y=\"2.2995\" style=\"\">r9</text></g></g></g></g></g></svg><div class=\"toyplot-behavior\"><script>(function()\n",
       "{\n",
       "var modules={};\n",
       "})();</script></div></div>"
      ]
     },
     "metadata": {},
     "output_type": "display_data"
    }
   ],
   "source": [
    "# You can do the same without printing the 'idx' label on nodes.\n",
    "tre = toytree.rtree.unittree(10, seed=1235)\n",
    "tre.style.node_sizes = 8\n",
    "\n",
    "# make several copies of the tree\n",
    "trees = [tre.copy() for i in range(4)]\n",
    "\n",
    "# set a different node mask to each tree\n",
    "trees[0].style.node_mask = None\n",
    "trees[1].style.node_mask = True\n",
    "trees[2].style.node_mask = False\n",
    "trees[3].style.node_mask = np.random.choice([True, False], size=tre.nnodes)\n",
    "\n",
    "# multitree to show the four trees\n",
    "toytree.mtree(trees).draw();"
   ]
  },
  {
   "cell_type": "markdown",
   "metadata": {},
   "source": [
    "### Node mapping\n",
    "\n",
    "In the example above the labels on each node indicate their \"idx\" value, which is simply a unique identifier given to every node. We could alternatively select one of the features that you could see listed on the node when you hovered over it and toytree will display that value on the node instead. In the example below we plot the node support values. You'll notice that in this context no values were shown for the tip nodes, but instead only for internal nodes. More on this below."
   ]
  },
  {
   "cell_type": "code",
   "execution_count": 64,
   "metadata": {
    "scrolled": true
   },
   "outputs": [
    {
     "data": {
      "text/html": [
       "<div class=\"toyplot\" id=\"te4bb36541d55473db6976ee6204a09e0\" style=\"text-align:center\"><svg class=\"toyplot-canvas-Canvas\" xmlns:toyplot=\"http://www.sandia.gov/toyplot\" xmlns:xlink=\"http://www.w3.org/1999/xlink\" xmlns=\"http://www.w3.org/2000/svg\" width=\"260.0px\" height=\"275.0px\" viewBox=\"0 0 260.0 275.0\" preserveAspectRatio=\"xMidYMid meet\" style=\"background-color:transparent;border-color:#292724;border-style:none;border-width:1.0;fill:rgb(16.1%,15.3%,14.1%);fill-opacity:1.0;font-family:Helvetica;font-size:12px;opacity:1.0;stroke:rgb(16.1%,15.3%,14.1%);stroke-opacity:1.0;stroke-width:1.0\" id=\"t9dbc51d481684842be737f872397c4b6\"><g class=\"toyplot-coordinates-Cartesian\" id=\"tb73b9696f5a54dc6b04187816c787f1b\"><clipPath id=\"t9207b697c56746c3a448179e13f73a8d\"><rect x=\"35.0\" y=\"35.0\" width=\"190.0\" height=\"205.0\"></rect></clipPath><g clip-path=\"url(#t9207b697c56746c3a448179e13f73a8d)\"><g class=\"toytree-mark-Toytree\" id=\"tb93b563d73074dbc98dec01f6467ec38\"><g class=\"toytree-Edges\" style=\"fill:none;stroke:rgba(16.1%,15.3%,14.1%,1.000);stroke-linecap:round;stroke-width:2.0\"><path d=\"M 89.2 209.1 L 89.2 218.1 L 173.5 218.1\" id=\"14,0\" style=\"stroke-width:nan\"></path><path d=\"M 89.2 209.1 L 89.2 200.2 L 173.5 200.2\" id=\"14,1\" style=\"stroke-width:nan\"></path><path d=\"M 89.2 159.3 L 89.2 182.3 L 173.5 182.3\" id=\"15,2\" style=\"stroke-width:nan\"></path><path d=\"M 106.1 136.4 L 106.1 164.4 L 173.5 164.4\" id=\"13,3\" style=\"stroke-width:nan\"></path><path d=\"M 156.6 137.5 L 156.6 146.5 L 173.5 146.5\" id=\"10,4\" style=\"stroke-width:nan\"></path><path d=\"M 156.6 137.5 L 156.6 128.5 L 173.5 128.5\" id=\"10,5\" style=\"stroke-width:nan\"></path><path d=\"M 139.8 124.1 L 139.8 110.6 L 173.5 110.6\" id=\"11,6\" style=\"stroke-width:nan\"></path><path d=\"M 122.9 108.4 L 122.9 92.7 L 173.5 92.7\" id=\"12,7\" style=\"stroke-width:nan\"></path><path d=\"M 72.4 65.9 L 72.4 74.8 L 173.5 74.8\" id=\"17,8\" style=\"stroke-width:nan\"></path><path d=\"M 72.4 65.9 L 72.4 56.9 L 173.5 56.9\" id=\"17,9\" style=\"stroke-width:nan\"></path><path d=\"M 139.8 124.1 L 139.8 137.5 L 156.6 137.5\" id=\"11,10\" style=\"stroke-width:nan\"></path><path d=\"M 122.9 108.4 L 122.9 124.1 L 139.8 124.1\" id=\"12,11\" style=\"stroke-width:nan\"></path><path d=\"M 106.1 136.4 L 106.1 108.4 L 122.9 108.4\" id=\"13,12\" style=\"stroke-width:nan\"></path><path d=\"M 89.2 159.3 L 89.2 136.4 L 106.1 136.4\" id=\"15,13\" style=\"stroke-width:nan\"></path><path d=\"M 72.4 184.2 L 72.4 209.1 L 89.2 209.1\" id=\"16,14\" style=\"stroke-width:nan\"></path><path d=\"M 72.4 184.2 L 72.4 159.3 L 89.2 159.3\" id=\"16,15\" style=\"stroke-width:nan\"></path><path d=\"M 55.5 125.0 L 55.5 184.2 L 72.4 184.2\" id=\"18,16\" style=\"stroke-width:nan\"></path><path d=\"M 55.5 125.0 L 55.5 65.9 L 72.4 65.9\" id=\"18,17\" style=\"stroke-width:nan\"></path></g><g class=\"toytree-Nodes\" style=\"fill:rgba(40.0%,76.1%,64.7%,1.000);stroke:#262626;stroke-width:1.0\"><g id=\"node-10\" transform=\"translate(156.621,137.500)\"><circle r=\"7.5\"></circle></g><g id=\"node-11\" transform=\"translate(139.772,124.068)\"><circle r=\"7.5\"></circle></g><g id=\"node-12\" transform=\"translate(122.923,108.397)\"><circle r=\"7.5\"></circle></g><g id=\"node-13\" transform=\"translate(106.075,136.381)\"><circle r=\"7.5\"></circle></g><g id=\"node-14\" transform=\"translate(89.226,209.137)\"><circle r=\"7.5\"></circle></g><g id=\"node-15\" transform=\"translate(89.226,159.327)\"><circle r=\"7.5\"></circle></g><g id=\"node-16\" transform=\"translate(72.377,184.232)\"><circle r=\"7.5\"></circle></g><g id=\"node-17\" transform=\"translate(72.377,65.863)\"><circle r=\"7.5\"></circle></g><g id=\"node-18\" transform=\"translate(55.528,125.047)\"><circle r=\"7.5\"></circle></g></g><g class=\"toytree-NodeLabels\" style=\"font-family:Helvetica;font-size:9.0px;font-weight:300;stroke:none;vertical-align:baseline;white-space:pre\"><g class=\"toytree-NodeLabel\" transform=\"translate(156.6206135818866,137.5)\"><text x=\"-5.0040000000000004\" y=\"2.2995\" style=\"fill:rgb(16.1%,15.3%,14.1%);fill-opacity:1.0\">10</text></g><g class=\"toytree-NodeLabel\" transform=\"translate(139.77192402820575,124.06798245614036)\"><text x=\"-5.0040000000000004\" y=\"2.2995\" style=\"fill:rgb(16.1%,15.3%,14.1%);fill-opacity:1.0\">11</text></g><g class=\"toytree-NodeLabel\" transform=\"translate(122.9232344745249,108.39729532163744)\"><text x=\"-5.0040000000000004\" y=\"2.2995\" style=\"fill:rgb(16.1%,15.3%,14.1%);fill-opacity:1.0\">12</text></g><g class=\"toytree-NodeLabel\" transform=\"translate(106.07454492084406,136.38066520467837)\"><text x=\"-5.0040000000000004\" y=\"2.2995\" style=\"fill:rgb(16.1%,15.3%,14.1%);fill-opacity:1.0\">13</text></g><g class=\"toytree-NodeLabel\" transform=\"translate(89.22585536716322,209.13742690058479)\"><text x=\"-5.0040000000000004\" y=\"2.2995\" style=\"fill:rgb(16.1%,15.3%,14.1%);fill-opacity:1.0\">14</text></g><g class=\"toytree-NodeLabel\" transform=\"translate(89.22585536716323,159.32702850877192)\"><text x=\"-5.0040000000000004\" y=\"2.2995\" style=\"fill:rgb(16.1%,15.3%,14.1%);fill-opacity:1.0\">15</text></g><g class=\"toytree-NodeLabel\" transform=\"translate(72.37716581348238,184.23222770467837)\"><text x=\"-5.0040000000000004\" y=\"2.2995\" style=\"fill:rgb(16.1%,15.3%,14.1%);fill-opacity:1.0\">16</text></g><g class=\"toytree-NodeLabel\" transform=\"translate(72.37716581348238,65.86257309941521)\"><text x=\"-5.0040000000000004\" y=\"2.2995\" style=\"fill:rgb(16.1%,15.3%,14.1%);fill-opacity:1.0\">17</text></g><g class=\"toytree-NodeLabel\" transform=\"translate(55.52847625980153,125.04740040204678)\"><text x=\"-5.0040000000000004\" y=\"2.2995\" style=\"fill:rgb(16.1%,15.3%,14.1%);fill-opacity:1.0\">18</text></g></g><g class=\"toytree-TipLabels\" style=\"fill:rgb(16.1%,15.3%,14.1%);fill-opacity:1.0;font-family:Helvetica;font-size:11.0px;font-weight:300;stroke:none;vertical-align:baseline;white-space:pre\"><g class=\"toytree-TipLabel\" transform=\"translate(173.46930313556743,218.09210526315792)\"><text x=\"15.0\" y=\"2.8104999999999993\" style=\"\">r0</text></g><g class=\"toytree-TipLabel\" transform=\"translate(173.46930313556743,200.18274853801168)\"><text x=\"15.0\" y=\"2.8104999999999993\" style=\"\">r1</text></g><g class=\"toytree-TipLabel\" transform=\"translate(173.46930313556743,182.2733918128655)\"><text x=\"15.0\" y=\"2.8104999999999993\" style=\"\">r2</text></g><g class=\"toytree-TipLabel\" transform=\"translate(173.46930313556743,164.3640350877193)\"><text x=\"15.0\" y=\"2.8104999999999993\" style=\"\">r3</text></g><g class=\"toytree-TipLabel\" transform=\"translate(173.46930313556743,146.4546783625731)\"><text x=\"15.0\" y=\"2.8104999999999993\" style=\"\">r4</text></g><g class=\"toytree-TipLabel\" transform=\"translate(173.46930313556743,128.5453216374269)\"><text x=\"15.0\" y=\"2.8104999999999993\" style=\"\">r5</text></g><g class=\"toytree-TipLabel\" transform=\"translate(173.46930313556743,110.6359649122807)\"><text x=\"15.0\" y=\"2.8104999999999993\" style=\"\">r6</text></g><g class=\"toytree-TipLabel\" transform=\"translate(173.46930313556743,92.7266081871345)\"><text x=\"15.0\" y=\"2.8104999999999993\" style=\"\">r7</text></g><g class=\"toytree-TipLabel\" transform=\"translate(173.46930313556743,74.8172514619883)\"><text x=\"15.0\" y=\"2.8104999999999993\" style=\"\">r8</text></g><g class=\"toytree-TipLabel\" transform=\"translate(173.46930313556743,56.90789473684211)\"><text x=\"15.0\" y=\"2.8104999999999993\" style=\"\">r9</text></g></g></g></g></g></svg><div class=\"toyplot-behavior\"><script>(function()\n",
       "{\n",
       "var modules={};\n",
       "})();</script></div></div>"
      ]
     },
     "metadata": {},
     "output_type": "display_data"
    }
   ],
   "source": [
    "tre.draw(node_labels='idx', node_sizes=15);"
   ]
  },
  {
   "cell_type": "code",
   "execution_count": 74,
   "metadata": {},
   "outputs": [],
   "source": [
    "# set new feature values (data) on nodes\n",
    "stre = tre.set_node_data(\n",
    "    feature=\"support\",\n",
    "    mapping={idx: np.random.randint(50, 100) for idx in range(tre.nnodes)}\n",
    ")"
   ]
  },
  {
   "cell_type": "code",
   "execution_count": 75,
   "metadata": {},
   "outputs": [
    {
     "data": {
      "text/plain": [
       "0     67.0\n",
       "1     91.0\n",
       "2     83.0\n",
       "3     75.0\n",
       "4     80.0\n",
       "5     77.0\n",
       "6     63.0\n",
       "7     83.0\n",
       "8     78.0\n",
       "9     53.0\n",
       "10    93.0\n",
       "11    89.0\n",
       "12    94.0\n",
       "13    89.0\n",
       "14    58.0\n",
       "15    66.0\n",
       "16    78.0\n",
       "17    64.0\n",
       "18    58.0\n",
       "Name: support, dtype: float64"
      ]
     },
     "execution_count": 75,
     "metadata": {},
     "output_type": "execute_result"
    }
   ],
   "source": [
    "# access the data set on nodes\n",
    "stre.get_node_data(\"support\")"
   ]
  },
  {
   "cell_type": "code",
   "execution_count": 84,
   "metadata": {},
   "outputs": [
    {
     "data": {
      "text/html": [
       "<div class=\"toyplot\" id=\"t903b403c6ba1499d8c749e7b2c4ab57d\" style=\"text-align:center\"><svg class=\"toyplot-canvas-Canvas\" xmlns:toyplot=\"http://www.sandia.gov/toyplot\" xmlns:xlink=\"http://www.w3.org/1999/xlink\" xmlns=\"http://www.w3.org/2000/svg\" width=\"260.0px\" height=\"275.0px\" viewBox=\"0 0 260.0 275.0\" preserveAspectRatio=\"xMidYMid meet\" style=\"background-color:transparent;border-color:#292724;border-style:none;border-width:1.0;fill:rgb(16.1%,15.3%,14.1%);fill-opacity:1.0;font-family:Helvetica;font-size:12px;opacity:1.0;stroke:rgb(16.1%,15.3%,14.1%);stroke-opacity:1.0;stroke-width:1.0\" id=\"t9427279aa94f478a95dff4689449603f\"><g class=\"toyplot-coordinates-Cartesian\" id=\"t9e17e1b6059843f5b20f16d3de6c9964\"><clipPath id=\"tb2a655333e614bc388fa5f2077feea34\"><rect x=\"35.0\" y=\"35.0\" width=\"190.0\" height=\"205.0\"></rect></clipPath><g clip-path=\"url(#tb2a655333e614bc388fa5f2077feea34)\"><g class=\"toytree-mark-Toytree\" id=\"t8948ad1898174022b2f0ba872dfb87e3\"><g class=\"toytree-Edges\" style=\"fill:none;stroke:rgba(16.1%,15.3%,14.1%,1.000);stroke-linecap:round;stroke-width:2.0\"><path d=\"M 90.1 208.0 L 90.1 216.8 L 173.7 216.8\" id=\"14,0\" style=\"stroke-width:nan\"></path><path d=\"M 90.1 208.0 L 90.1 199.2 L 173.7 199.2\" id=\"14,1\" style=\"stroke-width:nan\"></path><path d=\"M 90.1 159.0 L 90.1 181.6 L 173.7 181.6\" id=\"15,2\" style=\"stroke-width:nan\"></path><path d=\"M 106.8 136.4 L 106.8 163.9 L 173.7 163.9\" id=\"13,3\" style=\"stroke-width:nan\"></path><path d=\"M 157.0 137.5 L 157.0 146.3 L 173.7 146.3\" id=\"10,4\" style=\"stroke-width:nan\"></path><path d=\"M 157.0 137.5 L 157.0 128.7 L 173.7 128.7\" id=\"10,5\" style=\"stroke-width:nan\"></path><path d=\"M 140.3 124.3 L 140.3 111.1 L 173.7 111.1\" id=\"11,6\" style=\"stroke-width:nan\"></path><path d=\"M 123.5 108.8 L 123.5 93.4 L 173.7 93.4\" id=\"12,7\" style=\"stroke-width:nan\"></path><path d=\"M 73.3 67.0 L 73.3 75.8 L 173.7 75.8\" id=\"17,8\" style=\"stroke-width:nan\"></path><path d=\"M 73.3 67.0 L 73.3 58.2 L 173.7 58.2\" id=\"17,9\" style=\"stroke-width:nan\"></path><path d=\"M 140.3 124.3 L 140.3 137.5 L 157.0 137.5\" id=\"11,10\" style=\"stroke-width:nan\"></path><path d=\"M 123.5 108.8 L 123.5 124.3 L 140.3 124.3\" id=\"12,11\" style=\"stroke-width:nan\"></path><path d=\"M 106.8 136.4 L 106.8 108.8 L 123.5 108.8\" id=\"13,12\" style=\"stroke-width:nan\"></path><path d=\"M 90.1 159.0 L 90.1 136.4 L 106.8 136.4\" id=\"15,13\" style=\"stroke-width:nan\"></path><path d=\"M 73.3 183.5 L 73.3 208.0 L 90.1 208.0\" id=\"16,14\" style=\"stroke-width:nan\"></path><path d=\"M 73.3 183.5 L 73.3 159.0 L 90.1 159.0\" id=\"16,15\" style=\"stroke-width:nan\"></path><path d=\"M 56.6 125.2 L 56.6 183.5 L 73.3 183.5\" id=\"18,16\" style=\"stroke-width:nan\"></path><path d=\"M 56.6 125.2 L 56.6 67.0 L 73.3 67.0\" id=\"18,17\" style=\"stroke-width:nan\"></path></g><g class=\"toytree-Nodes\" style=\"fill:rgba(40.0%,76.1%,64.7%,1.000);stroke:#262626;stroke-width:1.0\"><g id=\"node-10\" transform=\"translate(156.987,137.500)\"><circle r=\"9.0\"></circle></g><g id=\"node-11\" transform=\"translate(140.254,124.277)\"><circle r=\"9.0\"></circle></g><g id=\"node-12\" transform=\"translate(123.521,108.850)\"><circle r=\"9.0\"></circle></g><g id=\"node-13\" transform=\"translate(106.788,136.398)\"><circle r=\"9.0\"></circle></g><g id=\"node-14\" transform=\"translate(90.055,208.024)\"><circle r=\"9.0\"></circle></g><g id=\"node-15\" transform=\"translate(90.055,158.988)\"><circle r=\"9.0\"></circle></g><g id=\"node-16\" transform=\"translate(73.322,183.506)\"><circle r=\"9.0\"></circle></g><g id=\"node-17\" transform=\"translate(73.322,66.976)\"><circle r=\"9.0\"></circle></g><g id=\"node-18\" transform=\"translate(56.589,125.241)\"><circle r=\"9.0\"></circle></g></g><g class=\"toytree-NodeLabels\" style=\"font-family:Helvetica;font-size:9.0px;font-weight:300;stroke:none;vertical-align:baseline;white-space:pre\"><g class=\"toytree-NodeLabel\" transform=\"translate(156.98696521224178,137.5)\"><text x=\"-5.0040000000000004\" y=\"2.2995\" style=\"fill:rgb(16.1%,15.3%,14.1%);fill-opacity:1.0\">93</text></g><g class=\"toytree-NodeLabel\" transform=\"translate(140.2539110245989,124.27677029360967)\"><text x=\"-5.0040000000000004\" y=\"2.2995\" style=\"fill:rgb(16.1%,15.3%,14.1%);fill-opacity:1.0\">89</text></g><g class=\"toytree-NodeLabel\" transform=\"translate(123.52085683695599,108.84966896948762)\"><text x=\"-5.0040000000000004\" y=\"2.2995\" style=\"fill:rgb(16.1%,15.3%,14.1%);fill-opacity:1.0\">94</text></g><g class=\"toytree-NodeLabel\" transform=\"translate(106.78780264931311,136.39806419113415)\"><text x=\"-5.0040000000000004\" y=\"2.2995\" style=\"fill:rgb(16.1%,15.3%,14.1%);fill-opacity:1.0\">89</text></g><g class=\"toytree-NodeLabel\" transform=\"translate(90.05474846167019,208.0238917674151)\"><text x=\"-5.0040000000000004\" y=\"2.2995\" style=\"fill:rgb(16.1%,15.3%,14.1%);fill-opacity:1.0\">58</text></g><g class=\"toytree-NodeLabel\" transform=\"translate(90.05474846167019,158.9877482728843)\"><text x=\"-5.0040000000000004\" y=\"2.2995\" style=\"fill:rgb(16.1%,15.3%,14.1%);fill-opacity:1.0\">66</text></g><g class=\"toytree-NodeLabel\" transform=\"translate(73.32169427402731,183.5058200201497)\"><text x=\"-5.0040000000000004\" y=\"2.2995\" style=\"fill:rgb(16.1%,15.3%,14.1%);fill-opacity:1.0\">78</text></g><g class=\"toytree-NodeLabel\" transform=\"translate(73.3216942740273,66.9761082325849)\"><text x=\"-5.0040000000000004\" y=\"2.2995\" style=\"fill:rgb(16.1%,15.3%,14.1%);fill-opacity:1.0\">64</text></g><g class=\"toytree-NodeLabel\" transform=\"translate(56.58864008638438,125.2409641263673)\"><text x=\"-5.0040000000000004\" y=\"2.2995\" style=\"fill:rgb(16.1%,15.3%,14.1%);fill-opacity:1.0\">58</text></g></g><g class=\"toytree-TipLabels\" style=\"fill:rgb(16.1%,15.3%,14.1%);fill-opacity:1.0;font-family:Helvetica;font-size:11.0px;font-weight:300;stroke:none;vertical-align:baseline;white-space:pre\"><g class=\"toytree-TipLabel\" transform=\"translate(173.7200193998847,216.839378238342)\"><text x=\"15.0\" y=\"2.8104999999999993\" style=\"\">r0</text></g><g class=\"toytree-TipLabel\" transform=\"translate(173.7200193998847,199.2084052964882)\"><text x=\"15.0\" y=\"2.8104999999999993\" style=\"\">r1</text></g><g class=\"toytree-TipLabel\" transform=\"translate(173.7200193998847,181.57743235463442)\"><text x=\"15.0\" y=\"2.8104999999999993\" style=\"\">r2</text></g><g class=\"toytree-TipLabel\" transform=\"translate(173.7200193998847,163.94645941278065)\"><text x=\"15.0\" y=\"2.8104999999999993\" style=\"\">r3</text></g><g class=\"toytree-TipLabel\" transform=\"translate(173.72001939988468,146.31548647092688)\"><text x=\"15.0\" y=\"2.8104999999999993\" style=\"\">r4</text></g><g class=\"toytree-TipLabel\" transform=\"translate(173.72001939988468,128.68451352907312)\"><text x=\"15.0\" y=\"2.8104999999999993\" style=\"\">r5</text></g><g class=\"toytree-TipLabel\" transform=\"translate(173.7200193998847,111.05354058721935)\"><text x=\"15.0\" y=\"2.8104999999999993\" style=\"\">r6</text></g><g class=\"toytree-TipLabel\" transform=\"translate(173.7200193998847,93.42256764536558)\"><text x=\"15.0\" y=\"2.8104999999999993\" style=\"\">r7</text></g><g class=\"toytree-TipLabel\" transform=\"translate(173.7200193998847,75.79159470351179)\"><text x=\"15.0\" y=\"2.8104999999999993\" style=\"\">r8</text></g><g class=\"toytree-TipLabel\" transform=\"translate(173.7200193998847,58.16062176165802)\"><text x=\"15.0\" y=\"2.8104999999999993\" style=\"\">r9</text></g></g></g></g></g></svg><div class=\"toyplot-behavior\"><script>(function()\n",
       "{\n",
       "var modules={};\n",
       "})();</script></div></div>"
      ]
     },
     "metadata": {},
     "output_type": "display_data"
    }
   ],
   "source": [
    "# access data from the tree by feature name (is auto-formatted)\n",
    "stre.draw(node_labels='support', node_sizes=18);"
   ]
  },
  {
   "cell_type": "code",
   "execution_count": 134,
   "metadata": {},
   "outputs": [
    {
     "data": {
      "text/html": [
       "<div class=\"toyplot\" id=\"tcd870b92beda4c6cb1f670fce710f2d2\" style=\"text-align:center\"><svg class=\"toyplot-canvas-Canvas\" xmlns:toyplot=\"http://www.sandia.gov/toyplot\" xmlns:xlink=\"http://www.w3.org/1999/xlink\" xmlns=\"http://www.w3.org/2000/svg\" width=\"260.0px\" height=\"275.0px\" viewBox=\"0 0 260.0 275.0\" preserveAspectRatio=\"xMidYMid meet\" style=\"background-color:transparent;border-color:#292724;border-style:none;border-width:1.0;fill:rgb(16.1%,15.3%,14.1%);fill-opacity:1.0;font-family:Helvetica;font-size:12px;opacity:1.0;stroke:rgb(16.1%,15.3%,14.1%);stroke-opacity:1.0;stroke-width:1.0\" id=\"tc02ce356a11146adb2468e62fae93db6\"><g class=\"toyplot-coordinates-Cartesian\" id=\"t153c304b39334b2499056938dcd1a0f1\"><clipPath id=\"t80646c8c7a154cb7af6a958046189a93\"><rect x=\"35.0\" y=\"35.0\" width=\"190.0\" height=\"205.0\"></rect></clipPath><g clip-path=\"url(#t80646c8c7a154cb7af6a958046189a93)\"><g class=\"toytree-mark-Toytree\" id=\"ta867e9b1ccb74c65a99517cd2d19b28d\"><g class=\"toytree-Edges\" style=\"fill:none;stroke:rgba(16.1%,15.3%,14.1%,1.000);stroke-linecap:round;stroke-width:2.0\"><path d=\"M 90.1 208.0 L 90.1 216.8 L 173.7 216.8\" id=\"14,0\" style=\"stroke-width:nan\"></path><path d=\"M 90.1 208.0 L 90.1 199.2 L 173.7 199.2\" id=\"14,1\" style=\"stroke-width:nan\"></path><path d=\"M 90.1 159.0 L 90.1 181.6 L 173.7 181.6\" id=\"15,2\" style=\"stroke-width:nan\"></path><path d=\"M 106.8 136.4 L 106.8 163.9 L 173.7 163.9\" id=\"13,3\" style=\"stroke-width:nan\"></path><path d=\"M 157.0 137.5 L 157.0 146.3 L 173.7 146.3\" id=\"10,4\" style=\"stroke-width:nan\"></path><path d=\"M 157.0 137.5 L 157.0 128.7 L 173.7 128.7\" id=\"10,5\" style=\"stroke-width:nan\"></path><path d=\"M 140.3 124.3 L 140.3 111.1 L 173.7 111.1\" id=\"11,6\" style=\"stroke-width:nan\"></path><path d=\"M 123.5 108.8 L 123.5 93.4 L 173.7 93.4\" id=\"12,7\" style=\"stroke-width:nan\"></path><path d=\"M 73.3 67.0 L 73.3 75.8 L 173.7 75.8\" id=\"17,8\" style=\"stroke-width:nan\"></path><path d=\"M 73.3 67.0 L 73.3 58.2 L 173.7 58.2\" id=\"17,9\" style=\"stroke-width:nan\"></path><path d=\"M 140.3 124.3 L 140.3 137.5 L 157.0 137.5\" id=\"11,10\" style=\"stroke-width:nan\"></path><path d=\"M 123.5 108.8 L 123.5 124.3 L 140.3 124.3\" id=\"12,11\" style=\"stroke-width:nan\"></path><path d=\"M 106.8 136.4 L 106.8 108.8 L 123.5 108.8\" id=\"13,12\" style=\"stroke-width:nan\"></path><path d=\"M 90.1 159.0 L 90.1 136.4 L 106.8 136.4\" id=\"15,13\" style=\"stroke-width:nan\"></path><path d=\"M 73.3 183.5 L 73.3 208.0 L 90.1 208.0\" id=\"16,14\" style=\"stroke-width:nan\"></path><path d=\"M 73.3 183.5 L 73.3 159.0 L 90.1 159.0\" id=\"16,15\" style=\"stroke-width:nan\"></path><path d=\"M 56.6 125.2 L 56.6 183.5 L 73.3 183.5\" id=\"18,16\" style=\"stroke-width:nan\"></path><path d=\"M 56.6 125.2 L 56.6 67.0 L 73.3 67.0\" id=\"18,17\" style=\"stroke-width:nan\"></path></g><g class=\"toytree-Nodes\" style=\"fill:rgba(40.0%,76.1%,64.7%,1.000);stroke:#262626;stroke-width:1.0\"><g id=\"node-10\" transform=\"translate(156.987,137.500)\"><circle r=\"9.0\"></circle></g><g id=\"node-11\" transform=\"translate(140.254,124.277)\"><circle r=\"9.0\"></circle></g><g id=\"node-12\" transform=\"translate(123.521,108.850)\"><circle r=\"9.0\"></circle></g><g id=\"node-13\" transform=\"translate(106.788,136.398)\"><circle r=\"9.0\"></circle></g><g id=\"node-14\" transform=\"translate(90.055,208.024)\"><circle r=\"9.0\"></circle></g><g id=\"node-15\" transform=\"translate(90.055,158.988)\"><circle r=\"9.0\"></circle></g><g id=\"node-16\" transform=\"translate(73.322,183.506)\"><circle r=\"9.0\"></circle></g><g id=\"node-17\" transform=\"translate(73.322,66.976)\"><circle r=\"9.0\"></circle></g><g id=\"node-18\" transform=\"translate(56.589,125.241)\"><circle r=\"9.0\"></circle></g></g><g class=\"toytree-NodeLabels\" style=\"font-family:Helvetica;font-size:9.0px;font-weight:300;stroke:none;vertical-align:baseline;white-space:pre\"><g class=\"toytree-NodeLabel\" transform=\"translate(156.98696521224178,137.5)\"><text x=\"-5.0040000000000004\" y=\"2.2995\" style=\"fill:rgb(16.1%,15.3%,14.1%);fill-opacity:1.0\">93</text></g><g class=\"toytree-NodeLabel\" transform=\"translate(140.2539110245989,124.27677029360967)\"><text x=\"-5.0040000000000004\" y=\"2.2995\" style=\"fill:rgb(16.1%,15.3%,14.1%);fill-opacity:1.0\">89</text></g><g class=\"toytree-NodeLabel\" transform=\"translate(123.52085683695599,108.84966896948762)\"><text x=\"-5.0040000000000004\" y=\"2.2995\" style=\"fill:rgb(16.1%,15.3%,14.1%);fill-opacity:1.0\">94</text></g><g class=\"toytree-NodeLabel\" transform=\"translate(106.78780264931311,136.39806419113415)\"><text x=\"-5.0040000000000004\" y=\"2.2995\" style=\"fill:rgb(16.1%,15.3%,14.1%);fill-opacity:1.0\">89</text></g><g class=\"toytree-NodeLabel\" transform=\"translate(90.05474846167019,208.0238917674151)\"><text x=\"-5.0040000000000004\" y=\"2.2995\" style=\"fill:rgb(16.1%,15.3%,14.1%);fill-opacity:1.0\">58</text></g><g class=\"toytree-NodeLabel\" transform=\"translate(90.05474846167019,158.9877482728843)\"><text x=\"-5.0040000000000004\" y=\"2.2995\" style=\"fill:rgb(16.1%,15.3%,14.1%);fill-opacity:1.0\">66</text></g><g class=\"toytree-NodeLabel\" transform=\"translate(73.32169427402731,183.5058200201497)\"><text x=\"-5.0040000000000004\" y=\"2.2995\" style=\"fill:rgb(16.1%,15.3%,14.1%);fill-opacity:1.0\">78</text></g><g class=\"toytree-NodeLabel\" transform=\"translate(73.3216942740273,66.9761082325849)\"><text x=\"-5.0040000000000004\" y=\"2.2995\" style=\"fill:rgb(16.1%,15.3%,14.1%);fill-opacity:1.0\">64</text></g><g class=\"toytree-NodeLabel\" transform=\"translate(56.58864008638438,125.2409641263673)\"><text x=\"-5.0040000000000004\" y=\"2.2995\" style=\"fill:rgb(16.1%,15.3%,14.1%);fill-opacity:1.0\">58</text></g></g><g class=\"toytree-TipLabels\" style=\"fill:rgb(16.1%,15.3%,14.1%);fill-opacity:1.0;font-family:Helvetica;font-size:11.0px;font-weight:300;stroke:none;vertical-align:baseline;white-space:pre\"><g class=\"toytree-TipLabel\" transform=\"translate(173.7200193998847,216.839378238342)\"><text x=\"15.0\" y=\"2.8104999999999993\" style=\"\">r0</text></g><g class=\"toytree-TipLabel\" transform=\"translate(173.7200193998847,199.2084052964882)\"><text x=\"15.0\" y=\"2.8104999999999993\" style=\"\">r1</text></g><g class=\"toytree-TipLabel\" transform=\"translate(173.7200193998847,181.57743235463442)\"><text x=\"15.0\" y=\"2.8104999999999993\" style=\"\">r2</text></g><g class=\"toytree-TipLabel\" transform=\"translate(173.7200193998847,163.94645941278065)\"><text x=\"15.0\" y=\"2.8104999999999993\" style=\"\">r3</text></g><g class=\"toytree-TipLabel\" transform=\"translate(173.72001939988468,146.31548647092688)\"><text x=\"15.0\" y=\"2.8104999999999993\" style=\"\">r4</text></g><g class=\"toytree-TipLabel\" transform=\"translate(173.72001939988468,128.68451352907312)\"><text x=\"15.0\" y=\"2.8104999999999993\" style=\"\">r5</text></g><g class=\"toytree-TipLabel\" transform=\"translate(173.7200193998847,111.05354058721935)\"><text x=\"15.0\" y=\"2.8104999999999993\" style=\"\">r6</text></g><g class=\"toytree-TipLabel\" transform=\"translate(173.7200193998847,93.42256764536558)\"><text x=\"15.0\" y=\"2.8104999999999993\" style=\"\">r7</text></g><g class=\"toytree-TipLabel\" transform=\"translate(173.7200193998847,75.79159470351179)\"><text x=\"15.0\" y=\"2.8104999999999993\" style=\"\">r8</text></g><g class=\"toytree-TipLabel\" transform=\"translate(173.7200193998847,58.16062176165802)\"><text x=\"15.0\" y=\"2.8104999999999993\" style=\"\">r9</text></g></g></g></g></g></svg><div class=\"toyplot-behavior\"><script>(function()\n",
       "{\n",
       "var modules={};\n",
       "})();</script></div></div>"
      ]
     },
     "metadata": {},
     "output_type": "display_data"
    }
   ],
   "source": [
    "# or, pass the data as an argument to node_labels (formatted manually here)\n",
    "nlabels = stre.get_node_data('support').apply(lambda x: f\"{x:.0f}\")\n",
    "stre.draw(node_labels=nlabels, node_sizes=18);"
   ]
  },
  {
   "cell_type": "markdown",
   "metadata": {},
   "source": [
    "### Node color mapping\n",
    "See the toyplot documentation for the great color instructions on using toyplot colors."
   ]
  },
  {
   "cell_type": "code",
   "execution_count": 132,
   "metadata": {},
   "outputs": [],
   "source": [
    "# get a standard toyplot colormap\n",
    "colormap = toyplot.color.DivergingMap()"
   ]
  },
  {
   "cell_type": "code",
   "execution_count": 133,
   "metadata": {},
   "outputs": [
    {
     "data": {
      "text/html": [
       "<div class=\"toyplot\" id=\"t2fdf04e6c6a0454f9d676a64e3d92b4e\" style=\"text-align:center\"><svg class=\"toyplot-canvas-Canvas\" xmlns:toyplot=\"http://www.sandia.gov/toyplot\" xmlns:xlink=\"http://www.w3.org/1999/xlink\" xmlns=\"http://www.w3.org/2000/svg\" width=\"300.0px\" height=\"275.0px\" viewBox=\"0 0 300.0 275.0\" preserveAspectRatio=\"xMidYMid meet\" style=\"background-color:transparent;border-color:#292724;border-style:none;border-width:1.0;fill:rgb(16.1%,15.3%,14.1%);fill-opacity:1.0;font-family:Helvetica;font-size:12px;opacity:1.0;stroke:rgb(16.1%,15.3%,14.1%);stroke-opacity:1.0;stroke-width:1.0\" id=\"t7925c324b9304a3ea31660d6edd28eaf\"><g class=\"toyplot-coordinates-Cartesian\" id=\"tf6edad78708947d8916e9b7b54b9f351\"><clipPath id=\"tf786181d9f774511858a8fa80ff116cb\"><rect x=\"35.0\" y=\"35.0\" width=\"230.0\" height=\"205.0\"></rect></clipPath><g clip-path=\"url(#tf786181d9f774511858a8fa80ff116cb)\"><g class=\"toytree-mark-Toytree\" id=\"t1af14f931a3741b0a26d22041f93a681\"><g class=\"toytree-Edges\" style=\"fill:none;stroke:rgba(16.1%,15.3%,14.1%,1.000);stroke-linecap:round;stroke-width:2.0\"><path d=\"M 104.5 209.8 L 104.5 218.9 L 212.5 218.9\" id=\"14,0\" style=\"stroke-width:nan\"></path><path d=\"M 104.5 209.8 L 104.5 200.8 L 212.5 200.8\" id=\"14,1\" style=\"stroke-width:nan\"></path><path d=\"M 104.5 159.5 L 104.5 182.7 L 212.5 182.7\" id=\"15,2\" style=\"stroke-width:nan\"></path><path d=\"M 126.1 136.4 L 126.1 164.6 L 212.5 164.6\" id=\"13,3\" style=\"stroke-width:nan\"></path><path d=\"M 190.9 137.5 L 190.9 146.5 L 212.5 146.5\" id=\"10,4\" style=\"stroke-width:nan\"></path><path d=\"M 190.9 137.5 L 190.9 128.5 L 212.5 128.5\" id=\"10,5\" style=\"stroke-width:nan\"></path><path d=\"M 169.3 123.9 L 169.3 110.4 L 212.5 110.4\" id=\"11,6\" style=\"stroke-width:nan\"></path><path d=\"M 147.7 108.1 L 147.7 92.3 L 212.5 92.3\" id=\"12,7\" style=\"stroke-width:nan\"></path><path d=\"M 82.9 65.2 L 82.9 74.2 L 212.5 74.2\" id=\"17,8\" style=\"stroke-width:nan\"></path><path d=\"M 82.9 65.2 L 82.9 56.1 L 212.5 56.1\" id=\"17,9\" style=\"stroke-width:nan\"></path><path d=\"M 169.3 123.9 L 169.3 137.5 L 190.9 137.5\" id=\"11,10\" style=\"stroke-width:nan\"></path><path d=\"M 147.7 108.1 L 147.7 123.9 L 169.3 123.9\" id=\"12,11\" style=\"stroke-width:nan\"></path><path d=\"M 126.1 136.4 L 126.1 108.1 L 147.7 108.1\" id=\"13,12\" style=\"stroke-width:nan\"></path><path d=\"M 104.5 159.5 L 104.5 136.4 L 126.1 136.4\" id=\"15,13\" style=\"stroke-width:nan\"></path><path d=\"M 82.9 184.7 L 82.9 209.8 L 104.5 209.8\" id=\"16,14\" style=\"stroke-width:nan\"></path><path d=\"M 82.9 184.7 L 82.9 159.5 L 104.5 159.5\" id=\"16,15\" style=\"stroke-width:nan\"></path><path d=\"M 61.3 124.9 L 61.3 184.7 L 82.9 184.7\" id=\"18,16\" style=\"stroke-width:nan\"></path><path d=\"M 61.3 124.9 L 61.3 65.2 L 82.9 65.2\" id=\"18,17\" style=\"stroke-width:nan\"></path></g><g class=\"toytree-Nodes\" style=\"stroke:#262626;stroke-width:1.0\"><g id=\"node-10\" style=\"fill:rgb(74.3%,13.6%,17.6%);fill-opacity:1.0\" transform=\"translate(190.937,137.500)\"><circle r=\"6.0\"></circle></g><g id=\"node-11\" style=\"fill:rgb(86.6%,37.2%,29.6%);fill-opacity:1.0\" transform=\"translate(169.338,123.940)\"><circle r=\"6.0\"></circle></g><g id=\"node-12\" style=\"fill:rgb(70.6%,1.6%,15%);fill-opacity:1.0\" transform=\"translate(147.739,108.119)\"><circle r=\"6.0\"></circle></g><g id=\"node-13\" style=\"fill:rgb(86.6%,37.2%,29.6%);fill-opacity:1.0\" transform=\"translate(126.140,136.370)\"><circle r=\"6.0\"></circle></g><g id=\"node-14\" style=\"fill:rgb(37.9%,50.5%,91.5%);fill-opacity:1.0\" transform=\"translate(104.541,209.823)\"><circle r=\"6.0\"></circle></g><g id=\"node-15\" style=\"fill:rgb(64.6%,76.4%,99.7%);fill-opacity:1.0\" transform=\"translate(104.541,159.536)\"><circle r=\"6.0\"></circle></g><g id=\"node-16\" style=\"fill:rgb(95.3%,78.6%,70.2%);fill-opacity:1.0\" transform=\"translate(82.942,184.679)\"><circle r=\"6.0\"></circle></g><g id=\"node-17\" style=\"fill:rgb(57.9%,71.1%,99.9%);fill-opacity:1.0\" transform=\"translate(82.942,65.177)\"><circle r=\"6.0\"></circle></g><g id=\"node-18\" style=\"fill:rgb(37.9%,50.5%,91.5%);fill-opacity:1.0\" transform=\"translate(61.343,124.928)\"><circle r=\"6.0\"></circle></g></g><g class=\"toytree-NodeLabels\" style=\"font-family:Helvetica;font-size:9.0px;font-weight:300;stroke:none;vertical-align:baseline;white-space:pre\"><g class=\"toytree-NodeLabel\" transform=\"translate(190.93677204479206,137.5)\"><text x=\"-15.004000000000001\" y=\"12.2995\" style=\"fill:rgb(16.1%,15.3%,14.1%);fill-opacity:1.0\">93</text></g><g class=\"toytree-NodeLabel\" transform=\"translate(169.3377301782893,123.93951470067304)\"><text x=\"-15.004000000000001\" y=\"12.2995\" style=\"fill:rgb(16.1%,15.3%,14.1%);fill-opacity:1.0\">89</text></g><g class=\"toytree-NodeLabel\" transform=\"translate(147.7386883117865,108.11894851812491)\"><text x=\"-15.004000000000001\" y=\"12.2995\" style=\"fill:rgb(16.1%,15.3%,14.1%);fill-opacity:1.0\">94</text></g><g class=\"toytree-NodeLabel\" transform=\"translate(126.1396464452837,136.3699595583894)\"><text x=\"-15.004000000000001\" y=\"12.2995\" style=\"fill:rgb(16.1%,15.3%,14.1%);fill-opacity:1.0\">89</text></g><g class=\"toytree-NodeLabel\" transform=\"translate(104.54060457878089,209.8225882630771)\"><text x=\"-15.004000000000001\" y=\"12.2995\" style=\"fill:rgb(16.1%,15.3%,14.1%);fill-opacity:1.0\">58</text></g><g class=\"toytree-NodeLabel\" transform=\"translate(104.54060457878091,159.53578861140633)\"><text x=\"-15.004000000000001\" y=\"12.2995\" style=\"fill:rgb(16.1%,15.3%,14.1%);fill-opacity:1.0\">66</text></g><g class=\"toytree-NodeLabel\" transform=\"translate(82.94156271227811,184.67918843724172)\"><text x=\"-15.004000000000001\" y=\"12.2995\" style=\"fill:rgb(16.1%,15.3%,14.1%);fill-opacity:1.0\">78</text></g><g class=\"toytree-NodeLabel\" transform=\"translate(82.94156271227811,65.17741173692288)\"><text x=\"-15.004000000000001\" y=\"12.2995\" style=\"fill:rgb(16.1%,15.3%,14.1%);fill-opacity:1.0\">64</text></g><g class=\"toytree-NodeLabel\" transform=\"translate(61.3425208457753,124.9283000870823)\"><text x=\"-15.004000000000001\" y=\"12.2995\" style=\"fill:rgb(16.1%,15.3%,14.1%);fill-opacity:1.0\">58</text></g></g><g class=\"toytree-TipLabels\" style=\"fill:rgb(16.1%,15.3%,14.1%);fill-opacity:1.0;font-family:Helvetica;font-size:11.0px;font-weight:300;stroke:none;vertical-align:baseline;white-space:pre\"><g class=\"toytree-TipLabel\" transform=\"translate(212.5358139112949,218.86291179596174)\"><text x=\"15.0\" y=\"2.8104999999999993\" style=\"\">r0</text></g><g class=\"toytree-TipLabel\" transform=\"translate(212.5358139112949,200.78226473019248)\"><text x=\"15.0\" y=\"2.8104999999999993\" style=\"\">r1</text></g><g class=\"toytree-TipLabel\" transform=\"translate(212.5358139112949,182.70161766442322)\"><text x=\"15.0\" y=\"2.8104999999999993\" style=\"\">r2</text></g><g class=\"toytree-TipLabel\" transform=\"translate(212.5358139112949,164.6209705986539)\"><text x=\"15.0\" y=\"2.8104999999999993\" style=\"\">r3</text></g><g class=\"toytree-TipLabel\" transform=\"translate(212.53581391129487,146.54032353288463)\"><text x=\"15.0\" y=\"2.8104999999999993\" style=\"\">r4</text></g><g class=\"toytree-TipLabel\" transform=\"translate(212.53581391129487,128.45967646711534)\"><text x=\"15.0\" y=\"2.8104999999999993\" style=\"\">r5</text></g><g class=\"toytree-TipLabel\" transform=\"translate(212.53581391129487,110.37902940134609)\"><text x=\"15.0\" y=\"2.8104999999999993\" style=\"\">r6</text></g><g class=\"toytree-TipLabel\" transform=\"translate(212.5358139112949,92.2983823355768)\"><text x=\"15.0\" y=\"2.8104999999999993\" style=\"\">r7</text></g><g class=\"toytree-TipLabel\" transform=\"translate(212.5358139112949,74.2177352698075)\"><text x=\"15.0\" y=\"2.8104999999999993\" style=\"\">r8</text></g><g class=\"toytree-TipLabel\" transform=\"translate(212.5358139112949,56.137088204038236)\"><text x=\"15.0\" y=\"2.8104999999999993\" style=\"\">r9</text></g></g></g></g></g></svg><div class=\"toyplot-behavior\"><script>(function()\n",
       "{\n",
       "var modules={};\n",
       "})();</script></div></div>"
      ]
     },
     "metadata": {},
     "output_type": "display_data"
    }
   ],
   "source": [
    "# map colors to nodes by support value\n",
    "stre.draw(\n",
    "    node_sizes=12,\n",
    "    node_colors=colormap.colors(stre.get_node_data(\"support\")),\n",
    "    node_labels=\"support\",\n",
    "    node_labels_style={\"baseline-shift\": -10, \"-toyplot-anchor-shift\": -10},\n",
    "    width=300,\n",
    ");"
   ]
  },
  {
   "cell_type": "markdown",
   "metadata": {},
   "source": [
    "### Drawing: saving figures\n",
    "Toytree drawings can be saved to disk using the `render` functions of toyplot. This is where it is useful to store the Canvas object as a variable when it is returned during a toytree drawing. You can save toyplot figures in a variety of formats, including HTML (which is actually an SVG figures wrapped in HTML with addition javascript to provide interactivity); or SVG, PDF, and PNG. "
   ]
  },
  {
   "cell_type": "code",
   "execution_count": 135,
   "metadata": {},
   "outputs": [
    {
     "data": {
      "text/html": [
       "<div class=\"toyplot\" id=\"t06046fb525e94939b3d5517040a8c6a1\" style=\"text-align:center\"><svg class=\"toyplot-canvas-Canvas\" xmlns:toyplot=\"http://www.sandia.gov/toyplot\" xmlns:xlink=\"http://www.w3.org/1999/xlink\" xmlns=\"http://www.w3.org/2000/svg\" width=\"400.0px\" height=\"300.0px\" viewBox=\"0 0 400.0 300.0\" preserveAspectRatio=\"xMidYMid meet\" style=\"background-color:transparent;border-color:#292724;border-style:none;border-width:1.0;fill:rgb(16.1%,15.3%,14.1%);fill-opacity:1.0;font-family:Helvetica;font-size:12px;opacity:1.0;stroke:rgb(16.1%,15.3%,14.1%);stroke-opacity:1.0;stroke-width:1.0\" id=\"tee8ddfe2f1144996898ef4f2aef8b3bd\"><g class=\"toyplot-coordinates-Cartesian\" id=\"t70aff72f1e1148f0a655c5f6ebd433f9\"><clipPath id=\"t3eefd4c6935440f99a4c9e508163f126\"><rect x=\"35.0\" y=\"35.0\" width=\"330.0\" height=\"230.0\"></rect></clipPath><g clip-path=\"url(#t3eefd4c6935440f99a4c9e508163f126)\"><g class=\"toytree-mark-Toytree\" id=\"t7bc2208ac21c4c28b50fee0dcd1a526d\"><g class=\"toytree-Edges\" style=\"fill:none;stroke:rgba(16.1%,15.3%,14.1%,1.000);stroke-linecap:round;stroke-width:2.0\"><path d=\"M 153.0 225.6 L 153.0 243.8 L 307.5 243.8\" id=\"12,0\" style=\"stroke-width:nan\"></path><path d=\"M 204.5 207.3 L 204.5 223.0 L 307.5 223.0\" id=\"11,1\" style=\"stroke-width:nan\"></path><path d=\"M 256.0 191.7 L 256.0 202.1 L 307.5 202.1\" id=\"10,2\" style=\"stroke-width:nan\"></path><path d=\"M 256.0 191.7 L 256.0 181.3 L 307.5 181.3\" id=\"10,3\" style=\"stroke-width:nan\"></path><path d=\"M 153.0 150.0 L 153.0 160.4 L 307.5 160.4\" id=\"13,4\" style=\"stroke-width:nan\"></path><path d=\"M 153.0 150.0 L 153.0 139.6 L 307.5 139.6\" id=\"13,5\" style=\"stroke-width:nan\"></path><path d=\"M 153.0 108.3 L 153.0 118.7 L 307.5 118.7\" id=\"14,6\" style=\"stroke-width:nan\"></path><path d=\"M 153.0 108.3 L 153.0 97.9 L 307.5 97.9\" id=\"14,7\" style=\"stroke-width:nan\"></path><path d=\"M 153.0 66.6 L 153.0 77.0 L 307.5 77.0\" id=\"15,8\" style=\"stroke-width:nan\"></path><path d=\"M 153.0 66.6 L 153.0 56.2 L 307.5 56.2\" id=\"15,9\" style=\"stroke-width:nan\"></path><path d=\"M 204.5 207.3 L 204.5 191.7 L 256.0 191.7\" id=\"11,10\" style=\"stroke-width:nan\"></path><path d=\"M 153.0 225.6 L 153.0 207.3 L 204.5 207.3\" id=\"12,11\" style=\"stroke-width:nan\"></path><path d=\"M 101.5 187.8 L 101.5 225.6 L 153.0 225.6\" id=\"16,12\" style=\"stroke-width:nan\"></path><path d=\"M 101.5 187.8 L 101.5 150.0 L 153.0 150.0\" id=\"16,13\" style=\"stroke-width:nan\"></path><path d=\"M 101.5 87.5 L 101.5 108.3 L 153.0 108.3\" id=\"17,14\" style=\"stroke-width:nan\"></path><path d=\"M 101.5 87.5 L 101.5 66.6 L 153.0 66.6\" id=\"17,15\" style=\"stroke-width:nan\"></path><path d=\"M 50.0 137.6 L 50.0 187.8 L 101.5 187.8\" id=\"18,16\" style=\"stroke-width:nan\"></path><path d=\"M 50.0 137.6 L 50.0 87.5 L 101.5 87.5\" id=\"18,17\" style=\"stroke-width:nan\"></path></g><g class=\"toytree-TipLabels\" style=\"fill:rgb(16.1%,15.3%,14.1%);fill-opacity:1.0;font-family:Helvetica;font-size:11.0px;font-weight:300;stroke:none;vertical-align:baseline;white-space:pre\"><g class=\"toytree-TipLabel\" transform=\"translate(307.4680024488068,243.80863039399622)\"><text x=\"15.0\" y=\"2.8104999999999993\" style=\"\">r0</text></g><g class=\"toytree-TipLabel\" transform=\"translate(307.4680024488068,222.9622680842193)\"><text x=\"15.0\" y=\"2.8104999999999993\" style=\"\">r1</text></g><g class=\"toytree-TipLabel\" transform=\"translate(307.4680024488068,202.11590577444233)\"><text x=\"15.0\" y=\"2.8104999999999993\" style=\"\">r2</text></g><g class=\"toytree-TipLabel\" transform=\"translate(307.4680024488068,181.2695434646654)\"><text x=\"15.0\" y=\"2.8104999999999993\" style=\"\">r3</text></g><g class=\"toytree-TipLabel\" transform=\"translate(307.4680024488068,160.42318115488845)\"><text x=\"15.0\" y=\"2.8104999999999993\" style=\"\">r4</text></g><g class=\"toytree-TipLabel\" transform=\"translate(307.4680024488068,139.57681884511152)\"><text x=\"15.0\" y=\"2.8104999999999993\" style=\"\">r5</text></g><g class=\"toytree-TipLabel\" transform=\"translate(307.4680024488068,118.73045653533457)\"><text x=\"15.0\" y=\"2.8104999999999993\" style=\"\">r6</text></g><g class=\"toytree-TipLabel\" transform=\"translate(307.4680024488068,97.88409422555762)\"><text x=\"15.0\" y=\"2.8104999999999993\" style=\"\">r7</text></g><g class=\"toytree-TipLabel\" transform=\"translate(307.4680024488068,77.03773191578067)\"><text x=\"15.0\" y=\"2.8104999999999993\" style=\"\">r8</text></g><g class=\"toytree-TipLabel\" transform=\"translate(307.4680024488068,56.19136960600373)\"><text x=\"15.0\" y=\"2.8104999999999993\" style=\"\">r9</text></g></g></g></g></g></svg><div class=\"toyplot-behavior\"><script>(function()\n",
       "{\n",
       "var modules={};\n",
       "})();</script></div></div>"
      ]
     },
     "metadata": {},
     "output_type": "display_data"
    }
   ],
   "source": [
    "# draw a plot and store the Canvas object to a variable\n",
    "canvas, axes, mark = rtre.draw(width=400, height=300);"
   ]
  },
  {
   "cell_type": "markdown",
   "metadata": {},
   "source": [
    "HTML rendering is the default format. This will save the figure as a vector graphic (SVG) wrapped in HTML with additional optional javascript wrapping for interactive features. You can share the file with others and anyone can open it in a browser. You can embed it on your website, or even display it in emails!"
   ]
  },
  {
   "cell_type": "code",
   "execution_count": 136,
   "metadata": {},
   "outputs": [],
   "source": [
    "# for sharing through web-links (or even email!) html is great!\n",
    "toyplot.html.render(canvas, \"/tmp/tree-plot.html\")"
   ]
  },
  {
   "cell_type": "markdown",
   "metadata": {},
   "source": [
    "Optional formats: If you want to do additional styling of your figures in Illustrator or InkScape (recommended) then SVG is likely your best option. You can save figures in SVG by simply importing this as an additional option from toyplot. "
   ]
  },
  {
   "cell_type": "code",
   "execution_count": 137,
   "metadata": {},
   "outputs": [],
   "source": [
    "# for creating scientific figures SVG is often the most useful format\n",
    "import toyplot.svg\n",
    "toyplot.svg.render(canvas, \"/tmp/tree-plot.svg\")"
   ]
  },
  {
   "cell_type": "markdown",
   "metadata": {},
   "source": [
    "Despite the advantages of working with the SVG or HTML formats (e.g., vector graphics and interactive pop-ups), if you're like me you still sometimes love to have an old-fashioned PDF. Again, you can import this from toyplot. "
   ]
  },
  {
   "cell_type": "code",
   "execution_count": 138,
   "metadata": {},
   "outputs": [],
   "source": [
    "import toyplot.pdf\n",
    "toyplot.pdf.render(canvas, \"/tmp/tree-plot.pdf\")"
   ]
  },
  {
   "cell_type": "markdown",
   "metadata": {},
   "source": [
    "### Drawing: The Canvas, Axes, and coordinates  \n",
    "\n",
    "When you call the `toytree.draw()` function it returns two Toyplot objects which are used to display the figure. The first is the Canvas, which is the HTML element that holds the figure, and the second is a Cartesian axes object, which represent the coordinates for the plot. You can store these objects when they are returned by the `draw()` function to further manipulate the plot. Storing the Canvas is necessary in order to save the plot. "
   ]
  },
  {
   "cell_type": "markdown",
   "metadata": {},
   "source": [
    "#### The Canvas and Axes\n",
    "If you wish to combine multiple toytree figures into a single figure then it is easiest to first create instances of the toyplot Canvas and Axes objects and then to add the toytree drawing to this plot by using the `.draw(axes=axes)` argument. In the example below we first define the Canvas size, then define two coordinate axes inside of this Canvas, and then we pass these coordinate axes objects to two separate toytree drawings. \n"
   ]
  },
  {
   "cell_type": "code",
   "execution_count": 139,
   "metadata": {},
   "outputs": [
    {
     "data": {
      "text/html": [
       "<div class=\"toyplot\" id=\"taabb2f7144f04c6e9f5ddac7bc5eddfe\" style=\"text-align:center\"><svg class=\"toyplot-canvas-Canvas\" xmlns:toyplot=\"http://www.sandia.gov/toyplot\" xmlns:xlink=\"http://www.w3.org/1999/xlink\" xmlns=\"http://www.w3.org/2000/svg\" width=\"700.0px\" height=\"250.0px\" viewBox=\"0 0 700.0 250.0\" preserveAspectRatio=\"xMidYMid meet\" style=\"background-color:transparent;border-color:#292724;border-style:none;border-width:1.0;fill:rgb(16.1%,15.3%,14.1%);fill-opacity:1.0;font-family:Helvetica;font-size:12px;opacity:1.0;stroke:rgb(16.1%,15.3%,14.1%);stroke-opacity:1.0;stroke-width:1.0\" id=\"t7d1c990092254c7294943ed3561e90d7\"><g class=\"toyplot-coordinates-Cartesian\" id=\"t136395ac11a546eba2c6d0f0547264ef\"><clipPath id=\"te385de015f714deb8605313fceff4f75\"><rect x=\"55.0\" y=\"10.0\" width=\"275.0\" height=\"230.0\"></rect></clipPath><g clip-path=\"url(#te385de015f714deb8605313fceff4f75)\"><g class=\"toytree-mark-Toytree\" id=\"tcc52e6d62c2e4f5caaf63cbc7f11994d\"><g class=\"toytree-Edges\" style=\"fill:none;stroke:rgba(16.1%,15.3%,14.1%,1.000);stroke-linecap:round;stroke-width:2.0\"><path d=\"M 152.5 201.4 L 152.5 219.9 L 276.3 219.9\" id=\"12,0\" style=\"stroke-width:nan\"></path><path d=\"M 193.8 183.0 L 193.8 198.8 L 276.3 198.8\" id=\"11,1\" style=\"stroke-width:nan\"></path><path d=\"M 235.0 167.2 L 235.0 177.7 L 276.3 177.7\" id=\"10,2\" style=\"stroke-width:nan\"></path><path d=\"M 235.0 167.2 L 235.0 156.6 L 276.3 156.6\" id=\"10,3\" style=\"stroke-width:nan\"></path><path d=\"M 152.5 125.0 L 152.5 135.5 L 276.3 135.5\" id=\"13,4\" style=\"stroke-width:nan\"></path><path d=\"M 152.5 125.0 L 152.5 114.5 L 276.3 114.5\" id=\"13,5\" style=\"stroke-width:nan\"></path><path d=\"M 152.5 82.8 L 152.5 93.4 L 276.3 93.4\" id=\"14,6\" style=\"stroke-width:nan\"></path><path d=\"M 152.5 82.8 L 152.5 72.3 L 276.3 72.3\" id=\"14,7\" style=\"stroke-width:nan\"></path><path d=\"M 152.5 40.7 L 152.5 51.2 L 276.3 51.2\" id=\"15,8\" style=\"stroke-width:nan\"></path><path d=\"M 152.5 40.7 L 152.5 30.1 L 276.3 30.1\" id=\"15,9\" style=\"stroke-width:nan\"></path><path d=\"M 193.8 183.0 L 193.8 167.2 L 235.0 167.2\" id=\"11,10\" style=\"stroke-width:nan\"></path><path d=\"M 152.5 201.4 L 152.5 183.0 L 193.8 183.0\" id=\"12,11\" style=\"stroke-width:nan\"></path><path d=\"M 111.3 163.2 L 111.3 201.4 L 152.5 201.4\" id=\"16,12\" style=\"stroke-width:nan\"></path><path d=\"M 111.3 163.2 L 111.3 125.0 L 152.5 125.0\" id=\"16,13\" style=\"stroke-width:nan\"></path><path d=\"M 111.3 61.7 L 111.3 82.8 L 152.5 82.8\" id=\"17,14\" style=\"stroke-width:nan\"></path><path d=\"M 111.3 61.7 L 111.3 40.7 L 152.5 40.7\" id=\"17,15\" style=\"stroke-width:nan\"></path><path d=\"M 70.0 112.5 L 70.0 163.2 L 111.3 163.2\" id=\"18,16\" style=\"stroke-width:nan\"></path><path d=\"M 70.0 112.5 L 70.0 61.7 L 111.3 61.7\" id=\"18,17\" style=\"stroke-width:nan\"></path></g><g class=\"toytree-AlignEdges\" style=\"stroke:rgba(66.3%,66.3%,66.3%,1.000);stroke-dasharray:2,4;stroke-linecap:round;stroke-opacity:0.75;stroke-width:2\"><path d=\"M 276.3 219.9 L 276.3 219.9\"></path><path d=\"M 276.3 198.8 L 276.3 198.8\"></path><path d=\"M 276.3 177.7 L 276.3 177.7\"></path><path d=\"M 276.3 156.6 L 276.3 156.6\"></path><path d=\"M 276.3 135.5 L 276.3 135.5\"></path><path d=\"M 276.3 114.5 L 276.3 114.5\"></path><path d=\"M 276.3 93.4 L 276.3 93.4\"></path><path d=\"M 276.3 72.3 L 276.3 72.3\"></path><path d=\"M 276.3 51.2 L 276.3 51.2\"></path><path d=\"M 276.3 30.1 L 276.3 30.1\"></path></g><g class=\"toytree-TipLabels\" style=\"fill:rgb(16.1%,15.3%,14.1%);fill-opacity:1.0;font-family:Helvetica;font-size:9.0px;font-weight:300;stroke:none;vertical-align:baseline;white-space:pre\"><g class=\"toytree-TipLabel\" transform=\"translate(276.2700599995876,219.87666034155598)\"><text x=\"15.0\" y=\"2.2995\" style=\"\">r0</text></g><g class=\"toytree-TipLabel\" transform=\"translate(276.2700599995876,198.7929580434324)\"><text x=\"15.0\" y=\"2.2995\" style=\"\">r1</text></g><g class=\"toytree-TipLabel\" transform=\"translate(276.2700599995876,177.70925574530887)\"><text x=\"15.0\" y=\"2.2995\" style=\"\">r2</text></g><g class=\"toytree-TipLabel\" transform=\"translate(276.2700599995876,156.62555344718533)\"><text x=\"15.0\" y=\"2.2995\" style=\"\">r3</text></g><g class=\"toytree-TipLabel\" transform=\"translate(276.2700599995876,135.54185114906178)\"><text x=\"15.0\" y=\"2.2995\" style=\"\">r4</text></g><g class=\"toytree-TipLabel\" transform=\"translate(276.2700599995876,114.45814885093826)\"><text x=\"15.0\" y=\"2.2995\" style=\"\">r5</text></g><g class=\"toytree-TipLabel\" transform=\"translate(276.2700599995876,93.3744465528147)\"><text x=\"15.0\" y=\"2.2995\" style=\"\">r6</text></g><g class=\"toytree-TipLabel\" transform=\"translate(276.2700599995876,72.29074425469115)\"><text x=\"15.0\" y=\"2.2995\" style=\"\">r7</text></g><g class=\"toytree-TipLabel\" transform=\"translate(276.2700599995876,51.2070419565676)\"><text x=\"15.0\" y=\"2.2995\" style=\"\">r8</text></g><g class=\"toytree-TipLabel\" transform=\"translate(276.2700599995876,30.123339658444067)\"><text x=\"15.0\" y=\"2.2995\" style=\"\">r9</text></g></g></g></g></g><g class=\"toyplot-coordinates-Cartesian\" id=\"t81bdad6daa9e441181db30a94195a941\"><clipPath id=\"tdd024e490473430d838e163348ff032f\"><rect x=\"370.00000000000006\" y=\"10.0\" width=\"274.99999999999994\" height=\"230.0\"></rect></clipPath><g clip-path=\"url(#tdd024e490473430d838e163348ff032f)\"><g class=\"toytree-mark-Toytree\" id=\"t3ddd74427e3442b6b739861998062783\"><g class=\"toytree-Edges\" style=\"fill:none;stroke:rgba(16.1%,15.3%,14.1%,1.000);stroke-linecap:round;stroke-width:2.0\"><path d=\"M 467.5 201.4 L 467.5 219.9 L 591.3 219.9\" id=\"12,0\" style=\"stroke-width:nan\"></path><path d=\"M 508.8 183.0 L 508.8 198.8 L 591.3 198.8\" id=\"11,1\" style=\"stroke-width:nan\"></path><path d=\"M 550.0 167.2 L 550.0 177.7 L 591.3 177.7\" id=\"10,2\" style=\"stroke-width:nan\"></path><path d=\"M 550.0 167.2 L 550.0 156.6 L 591.3 156.6\" id=\"10,3\" style=\"stroke-width:nan\"></path><path d=\"M 467.5 125.0 L 467.5 135.5 L 591.3 135.5\" id=\"13,4\" style=\"stroke-width:nan\"></path><path d=\"M 467.5 125.0 L 467.5 114.5 L 591.3 114.5\" id=\"13,5\" style=\"stroke-width:nan\"></path><path d=\"M 467.5 82.8 L 467.5 93.4 L 591.3 93.4\" id=\"14,6\" style=\"stroke-width:nan\"></path><path d=\"M 467.5 82.8 L 467.5 72.3 L 591.3 72.3\" id=\"14,7\" style=\"stroke-width:nan\"></path><path d=\"M 467.5 40.7 L 467.5 51.2 L 591.3 51.2\" id=\"15,8\" style=\"stroke-width:nan\"></path><path d=\"M 467.5 40.7 L 467.5 30.1 L 591.3 30.1\" id=\"15,9\" style=\"stroke-width:nan\"></path><path d=\"M 508.8 183.0 L 508.8 167.2 L 550.0 167.2\" id=\"11,10\" style=\"stroke-width:nan\"></path><path d=\"M 467.5 201.4 L 467.5 183.0 L 508.8 183.0\" id=\"12,11\" style=\"stroke-width:nan\"></path><path d=\"M 426.3 163.2 L 426.3 201.4 L 467.5 201.4\" id=\"16,12\" style=\"stroke-width:nan\"></path><path d=\"M 426.3 163.2 L 426.3 125.0 L 467.5 125.0\" id=\"16,13\" style=\"stroke-width:nan\"></path><path d=\"M 426.3 61.7 L 426.3 82.8 L 467.5 82.8\" id=\"17,14\" style=\"stroke-width:nan\"></path><path d=\"M 426.3 61.7 L 426.3 40.7 L 467.5 40.7\" id=\"17,15\" style=\"stroke-width:nan\"></path><path d=\"M 385.0 112.5 L 385.0 163.2 L 426.3 163.2\" id=\"18,16\" style=\"stroke-width:nan\"></path><path d=\"M 385.0 112.5 L 385.0 61.7 L 426.3 61.7\" id=\"18,17\" style=\"stroke-width:nan\"></path></g><g class=\"toytree-AlignEdges\" style=\"stroke:rgba(66.3%,66.3%,66.3%,1.000);stroke-dasharray:2,4;stroke-linecap:round;stroke-opacity:0.75;stroke-width:2\"><path d=\"M 591.3 219.9 L 591.3 219.9\"></path><path d=\"M 591.3 198.8 L 591.3 198.8\"></path><path d=\"M 591.3 177.7 L 591.3 177.7\"></path><path d=\"M 591.3 156.6 L 591.3 156.6\"></path><path d=\"M 591.3 135.5 L 591.3 135.5\"></path><path d=\"M 591.3 114.5 L 591.3 114.5\"></path><path d=\"M 591.3 93.4 L 591.3 93.4\"></path><path d=\"M 591.3 72.3 L 591.3 72.3\"></path><path d=\"M 591.3 51.2 L 591.3 51.2\"></path><path d=\"M 591.3 30.1 L 591.3 30.1\"></path></g><g class=\"toytree-TipLabels\" style=\"fill:rgb(29.4%,0%,51%);fill-opacity:1.0;font-family:Helvetica;font-size:9.0px;font-weight:300;stroke:none;vertical-align:baseline;white-space:pre\"><g class=\"toytree-TipLabel\" transform=\"translate(591.2700599995876,219.87666034155598)\"><text x=\"15.0\" y=\"2.2995\" style=\"\">r0</text></g><g class=\"toytree-TipLabel\" transform=\"translate(591.2700599995876,198.7929580434324)\"><text x=\"15.0\" y=\"2.2995\" style=\"\">r1</text></g><g class=\"toytree-TipLabel\" transform=\"translate(591.2700599995876,177.70925574530887)\"><text x=\"15.0\" y=\"2.2995\" style=\"\">r2</text></g><g class=\"toytree-TipLabel\" transform=\"translate(591.2700599995876,156.62555344718533)\"><text x=\"15.0\" y=\"2.2995\" style=\"\">r3</text></g><g class=\"toytree-TipLabel\" transform=\"translate(591.2700599995876,135.54185114906178)\"><text x=\"15.0\" y=\"2.2995\" style=\"\">r4</text></g><g class=\"toytree-TipLabel\" transform=\"translate(591.2700599995876,114.45814885093826)\"><text x=\"15.0\" y=\"2.2995\" style=\"\">r5</text></g><g class=\"toytree-TipLabel\" transform=\"translate(591.2700599995876,93.3744465528147)\"><text x=\"15.0\" y=\"2.2995\" style=\"\">r6</text></g><g class=\"toytree-TipLabel\" transform=\"translate(591.2700599995876,72.29074425469115)\"><text x=\"15.0\" y=\"2.2995\" style=\"\">r7</text></g><g class=\"toytree-TipLabel\" transform=\"translate(591.2700599995876,51.2070419565676)\"><text x=\"15.0\" y=\"2.2995\" style=\"\">r8</text></g><g class=\"toytree-TipLabel\" transform=\"translate(591.2700599995876,30.123339658444067)\"><text x=\"15.0\" y=\"2.2995\" style=\"\">r9</text></g></g></g></g></g></svg><div class=\"toyplot-behavior\"><script>(function()\n",
       "{\n",
       "var modules={};\n",
       "})();</script></div></div>"
      ]
     },
     "metadata": {},
     "output_type": "display_data"
    }
   ],
   "source": [
    "# set dimensions of the canvas\n",
    "canvas = toyplot.Canvas(width=700, height=250)\n",
    "\n",
    "# dissect canvas into multiple cartesian areas (x1, x2, y1, y2)\n",
    "ax0 = canvas.cartesian(bounds=('10%', '45%', '10%', '90%'))\n",
    "ax1 = canvas.cartesian(bounds=('55%', '90%', '10%', '90%'))\n",
    "\n",
    "# call draw with the 'axes' argument to pass it to a specific cartesian area\n",
    "style = {\n",
    "    \"tip_labels_align\": True,\n",
    "    \"tip_labels_style\": {\n",
    "        \"font-size\": \"9px\"\n",
    "    },\n",
    "}\n",
    "rtre.draw(axes=ax0, **style);\n",
    "rtre.draw(axes=ax1, tip_labels_colors='indigo', **style);\n",
    "\n",
    "# hide the axes (e.g, ticks and splines)\n",
    "ax0.show=False\n",
    "ax1.show=False"
   ]
  },
  {
   "cell_type": "markdown",
   "metadata": {},
   "source": [
    "#### The Coordinates\n",
    "Toytrees drawings are designed to use a set coordinate space within the axes to make it easy to situate additional plots to align with tree drawings. Regardless of whether the tree drawing is oriented 'right' or 'down' the farthest tip of the tree (not tip label but tip) will align at the zero-axis. For right-facing trees this means at x=0, for down-facing trees this means y=0. On the other axis, tree tips will be spaced from zero to ntips with a unit of 1 between each tip. For tips on aligning additional plotting methods (barplots, scatterplots, etc.) with toytree drawings see the Cookbook gallery. Below I add a grid to overlay tree plots in both orientations to highlight the coordinate space. "
   ]
  },
  {
   "cell_type": "code",
   "execution_count": 174,
   "metadata": {},
   "outputs": [],
   "source": [
    "tre = toytree.rtree.unittree(12, seed=123)"
   ]
  },
  {
   "cell_type": "code",
   "execution_count": 175,
   "metadata": {
    "scrolled": false
   },
   "outputs": [
    {
     "data": {
      "text/html": [
       "<div class=\"toyplot\" id=\"ta7700cebc7f0440380109e4cf08a29a3\" style=\"text-align:center\"><svg class=\"toyplot-canvas-Canvas\" xmlns:toyplot=\"http://www.sandia.gov/toyplot\" xmlns:xlink=\"http://www.w3.org/1999/xlink\" xmlns=\"http://www.w3.org/2000/svg\" width=\"300.0px\" height=\"300.0px\" viewBox=\"0 0 300.0 300.0\" preserveAspectRatio=\"xMidYMid meet\" style=\"background-color:transparent;border-color:#292724;border-style:none;border-width:1.0;fill:rgb(16.1%,15.3%,14.1%);fill-opacity:1.0;font-family:Helvetica;font-size:12px;opacity:1.0;stroke:rgb(16.1%,15.3%,14.1%);stroke-opacity:1.0;stroke-width:1.0\" id=\"t3d1079f2ca594e638351421ee1cfb713\"><g class=\"toyplot-coordinates-Cartesian\" id=\"t76c25d8094e042c5a459608afe78deb5\"><clipPath id=\"t6af90bf9211d4c62a226c3eefbdd4e6c\"><rect x=\"35.0\" y=\"35.0\" width=\"230.0\" height=\"230.0\"></rect></clipPath><g clip-path=\"url(#t6af90bf9211d4c62a226c3eefbdd4e6c)\"><g class=\"toytree-mark-Toytree\" id=\"t152b63da77004edeb39cac62925f6dff\"><g class=\"toytree-Edges\" style=\"fill:none;stroke:rgba(16.1%,15.3%,14.1%,1.000);stroke-linecap:round;stroke-opacity:0.5;stroke-width:2.0\"><path d=\"M 95.5 229.3 L 95.5 241.2 L 240.9 241.2\" id=\"20,0\" style=\"stroke-width:nan\"></path><path d=\"M 131.8 217.3 L 131.8 225.3 L 240.9 225.3\" id=\"17,1\" style=\"stroke-width:nan\"></path><path d=\"M 131.8 217.3 L 131.8 209.4 L 240.9 209.4\" id=\"17,2\" style=\"stroke-width:nan\"></path><path d=\"M 168.2 185.5 L 168.2 193.4 L 240.9 193.4\" id=\"14,3\" style=\"stroke-width:nan\"></path><path d=\"M 168.2 185.5 L 168.2 177.5 L 240.9 177.5\" id=\"14,4\" style=\"stroke-width:nan\"></path><path d=\"M 168.2 153.6 L 168.2 161.6 L 240.9 161.6\" id=\"15,5\" style=\"stroke-width:nan\"></path><path d=\"M 168.2 153.6 L 168.2 145.6 L 240.9 145.6\" id=\"15,6\" style=\"stroke-width:nan\"></path><path d=\"M 131.8 109.8 L 131.8 129.7 L 240.9 129.7\" id=\"19,7\" style=\"stroke-width:nan\"></path><path d=\"M 204.5 105.8 L 204.5 113.7 L 240.9 113.7\" id=\"12,8\" style=\"stroke-width:nan\"></path><path d=\"M 204.5 105.8 L 204.5 97.8 L 240.9 97.8\" id=\"12,9\" style=\"stroke-width:nan\"></path><path d=\"M 204.5 73.9 L 204.5 81.9 L 240.9 81.9\" id=\"13,10\" style=\"stroke-width:nan\"></path><path d=\"M 204.5 73.9 L 204.5 65.9 L 240.9 65.9\" id=\"13,11\" style=\"stroke-width:nan\"></path><path d=\"M 168.2 89.8 L 168.2 105.8 L 204.5 105.8\" id=\"16,12\" style=\"stroke-width:nan\"></path><path d=\"M 168.2 89.8 L 168.2 73.9 L 204.5 73.9\" id=\"16,13\" style=\"stroke-width:nan\"></path><path d=\"M 131.8 169.5 L 131.8 185.5 L 168.2 185.5\" id=\"18,14\" style=\"stroke-width:nan\"></path><path d=\"M 131.8 169.5 L 131.8 153.6 L 168.2 153.6\" id=\"18,15\" style=\"stroke-width:nan\"></path><path d=\"M 131.8 109.8 L 131.8 89.8 L 168.2 89.8\" id=\"19,16\" style=\"stroke-width:nan\"></path><path d=\"M 95.5 229.3 L 95.5 217.3 L 131.8 217.3\" id=\"20,17\" style=\"stroke-width:nan\"></path><path d=\"M 95.5 139.6 L 95.5 169.5 L 131.8 169.5\" id=\"21,18\" style=\"stroke-width:nan\"></path><path d=\"M 95.5 139.6 L 95.5 109.8 L 131.8 109.8\" id=\"21,19\" style=\"stroke-width:nan\"></path><path d=\"M 59.1 184.5 L 59.1 229.3 L 95.5 229.3\" id=\"22,20\" style=\"stroke-width:nan\"></path><path d=\"M 59.1 184.5 L 59.1 139.6 L 95.5 139.6\" id=\"22,21\" style=\"stroke-width:nan\"></path></g><g class=\"toytree-Nodes\" style=\"fill:rgba(40.0%,76.1%,64.7%,1.000);stroke:#262626;stroke-width:1.0\"><g id=\"node-0\" transform=\"translate(240.909,241.235)\"><circle r=\"10.0\"></circle></g></g><g class=\"toytree-NodeLabels\" style=\"font-family:Helvetica;font-size:9.0px;font-weight:300;stroke:none;vertical-align:baseline;white-space:pre\"><g class=\"toytree-NodeLabel\" transform=\"translate(240.9090909090909,241.2350597609562)\"><text x=\"-2.5020000000000002\" y=\"2.2995\" style=\"fill:rgb(16.1%,15.3%,14.1%);fill-opacity:1.0\">0</text></g></g></g><g class=\"toyplot-mark-AxisLines\" style=\"stroke:rgb(100%,0%,0%);stroke-dasharray:2,4;stroke-opacity:1.0\" id=\"t7962a2e7aa8b403895ec0cbbe545ded8\"><g class=\"toyplot-Series\"><line class=\"toyplot-Datum\" y1=\"241.2350597609562\" y2=\"241.2350597609562\" x1=\"50.0\" x2=\"250.0\" style=\"opacity:1.0;stroke:rgb(100%,0%,0%);stroke-dasharray:2,4;stroke-opacity:1.0\"></line><line class=\"toyplot-Datum\" y1=\"225.2988047808765\" y2=\"225.2988047808765\" x1=\"50.0\" x2=\"250.0\" style=\"opacity:1.0;stroke:rgb(100%,0%,0%);stroke-dasharray:2,4;stroke-opacity:1.0\"></line><line class=\"toyplot-Datum\" y1=\"209.36254980079678\" y2=\"209.36254980079678\" x1=\"50.0\" x2=\"250.0\" style=\"opacity:1.0;stroke:rgb(100%,0%,0%);stroke-dasharray:2,4;stroke-opacity:1.0\"></line><line class=\"toyplot-Datum\" y1=\"193.42629482071715\" y2=\"193.42629482071715\" x1=\"50.0\" x2=\"250.0\" style=\"opacity:1.0;stroke:rgb(100%,0%,0%);stroke-dasharray:2,4;stroke-opacity:1.0\"></line><line class=\"toyplot-Datum\" y1=\"177.49003984063748\" y2=\"177.49003984063748\" x1=\"50.0\" x2=\"250.0\" style=\"opacity:1.0;stroke:rgb(100%,0%,0%);stroke-dasharray:2,4;stroke-opacity:1.0\"></line><line class=\"toyplot-Datum\" y1=\"161.55378486055778\" y2=\"161.55378486055778\" x1=\"50.0\" x2=\"250.0\" style=\"opacity:1.0;stroke:rgb(100%,0%,0%);stroke-dasharray:2,4;stroke-opacity:1.0\"></line><line class=\"toyplot-Datum\" y1=\"145.6175298804781\" y2=\"145.6175298804781\" x1=\"50.0\" x2=\"250.0\" style=\"opacity:1.0;stroke:rgb(100%,0%,0%);stroke-dasharray:2,4;stroke-opacity:1.0\"></line><line class=\"toyplot-Datum\" y1=\"129.68127490039842\" y2=\"129.68127490039842\" x1=\"50.0\" x2=\"250.0\" style=\"opacity:1.0;stroke:rgb(100%,0%,0%);stroke-dasharray:2,4;stroke-opacity:1.0\"></line><line class=\"toyplot-Datum\" y1=\"113.74501992031871\" y2=\"113.74501992031871\" x1=\"50.0\" x2=\"250.0\" style=\"opacity:1.0;stroke:rgb(100%,0%,0%);stroke-dasharray:2,4;stroke-opacity:1.0\"></line><line class=\"toyplot-Datum\" y1=\"97.80876494023904\" y2=\"97.80876494023904\" x1=\"50.0\" x2=\"250.0\" style=\"opacity:1.0;stroke:rgb(100%,0%,0%);stroke-dasharray:2,4;stroke-opacity:1.0\"></line><line class=\"toyplot-Datum\" y1=\"81.87250996015936\" y2=\"81.87250996015936\" x1=\"50.0\" x2=\"250.0\" style=\"opacity:1.0;stroke:rgb(100%,0%,0%);stroke-dasharray:2,4;stroke-opacity:1.0\"></line><line class=\"toyplot-Datum\" y1=\"65.9362549800797\" y2=\"65.9362549800797\" x1=\"50.0\" x2=\"250.0\" style=\"opacity:1.0;stroke:rgb(100%,0%,0%);stroke-dasharray:2,4;stroke-opacity:1.0\"></line></g></g><g class=\"toyplot-mark-AxisLines\" style=\"stroke:rgb(0%,0%,100%);stroke-dasharray:2,4;stroke-opacity:1.0\" id=\"t12a86d960758455ca5453c5966550892\"><g class=\"toyplot-Series\"><line class=\"toyplot-Datum\" x1=\"240.9090909090909\" x2=\"240.9090909090909\" y1=\"50.0\" y2=\"250.0\" style=\"opacity:1.0;stroke:rgb(0%,0%,100%);stroke-dasharray:2,4;stroke-opacity:1.0\"></line></g></g></g><g class=\"toyplot-coordinates-Axis\" id=\"t0656fa14c3694d4080ae71e7eb9a8aca\" transform=\"translate(50.0,250.0)translate(0,15.0)\"><line x1=\"9.090909090909099\" y1=\"0\" x2=\"190.9090909090909\" y2=\"0\" style=\"\"></line><g><line x1=\"9.090909090909099\" y1=\"0\" x2=\"9.090909090909099\" y2=\"-5\" style=\"\"></line><line x1=\"100.0\" y1=\"0\" x2=\"100.0\" y2=\"-5\" style=\"\"></line><line x1=\"190.9090909090909\" y1=\"0\" x2=\"190.9090909090909\" y2=\"-5\" style=\"\"></line></g><g><g transform=\"translate(9.090909090909099,6)\"><text x=\"-8.615\" y=\"8.555\" style=\"fill:rgb(16.1%,15.3%,14.1%);fill-opacity:1.0;font-family:helvetica;font-size:10.0px;font-weight:normal;stroke:none;vertical-align:baseline;white-space:pre\">-1.0</text></g><g transform=\"translate(100.0,6)\"><text x=\"-8.615\" y=\"8.555\" style=\"fill:rgb(16.1%,15.3%,14.1%);fill-opacity:1.0;font-family:helvetica;font-size:10.0px;font-weight:normal;stroke:none;vertical-align:baseline;white-space:pre\">-0.5</text></g><g transform=\"translate(190.9090909090909,6)\"><text x=\"-6.95\" y=\"8.555\" style=\"fill:rgb(16.1%,15.3%,14.1%);fill-opacity:1.0;font-family:helvetica;font-size:10.0px;font-weight:normal;stroke:none;vertical-align:baseline;white-space:pre\">0.0</text></g></g><g class=\"toyplot-coordinates-Axis-coordinates\" style=\"visibility:hidden\" transform=\"\"><line x1=\"0\" x2=\"0\" y1=\"-3.0\" y2=\"4.5\" style=\"stroke:rgb(43.9%,50.2%,56.5%);stroke-opacity:1.0;stroke-width:1.0\"></line><text x=\"0\" y=\"-6\" style=\"alignment-baseline:alphabetic;fill:rgb(43.9%,50.2%,56.5%);fill-opacity:1.0;font-size:10px;font-weight:normal;stroke:none;text-anchor:middle\"></text></g></g><g class=\"toyplot-coordinates-Axis\" id=\"ta6375d71e29a46ccb5fa424d293889f3\" transform=\"translate(50.0,250.0)rotate(-90.0)translate(0,-15.0)\"><line x1=\"8.764940239043826\" y1=\"0\" x2=\"184.0637450199203\" y2=\"0\" style=\"\"></line><g><line x1=\"8.764940239043826\" y1=\"0\" x2=\"8.764940239043826\" y2=\"5\" style=\"\"></line><line x1=\"72.50996015936254\" y1=\"0\" x2=\"72.50996015936254\" y2=\"5\" style=\"\"></line><line x1=\"136.25498007968127\" y1=\"0\" x2=\"136.25498007968127\" y2=\"5\" style=\"\"></line><line x1=\"200.0\" y1=\"0\" x2=\"200.0\" y2=\"5\" style=\"\"></line></g><g><g transform=\"translate(8.764940239043826,-6)\"><text x=\"-2.78\" y=\"-4.440892098500626e-16\" style=\"fill:rgb(16.1%,15.3%,14.1%);fill-opacity:1.0;font-family:helvetica;font-size:10.0px;font-weight:normal;stroke:none;vertical-align:baseline;white-space:pre\">0</text></g><g transform=\"translate(72.50996015936254,-6)\"><text x=\"-2.78\" y=\"-4.440892098500626e-16\" style=\"fill:rgb(16.1%,15.3%,14.1%);fill-opacity:1.0;font-family:helvetica;font-size:10.0px;font-weight:normal;stroke:none;vertical-align:baseline;white-space:pre\">4</text></g><g transform=\"translate(136.25498007968127,-6)\"><text x=\"-2.78\" y=\"-4.440892098500626e-16\" style=\"fill:rgb(16.1%,15.3%,14.1%);fill-opacity:1.0;font-family:helvetica;font-size:10.0px;font-weight:normal;stroke:none;vertical-align:baseline;white-space:pre\">8</text></g><g transform=\"translate(200.0,-6)\"><text x=\"-5.56\" y=\"-4.440892098500626e-16\" style=\"fill:rgb(16.1%,15.3%,14.1%);fill-opacity:1.0;font-family:helvetica;font-size:10.0px;font-weight:normal;stroke:none;vertical-align:baseline;white-space:pre\">12</text></g></g><g class=\"toyplot-coordinates-Axis-coordinates\" style=\"visibility:hidden\" transform=\"\"><line x1=\"0\" x2=\"0\" y1=\"3.0\" y2=\"-4.5\" style=\"stroke:rgb(43.9%,50.2%,56.5%);stroke-opacity:1.0;stroke-width:1.0\"></line><text x=\"0\" y=\"6\" style=\"alignment-baseline:hanging;fill:rgb(43.9%,50.2%,56.5%);fill-opacity:1.0;font-size:10px;font-weight:normal;stroke:none;text-anchor:middle\"></text></g></g></g></svg><div class=\"toyplot-behavior\"><script>(function()\n",
       "{\n",
       "var modules={};\n",
       "modules[\"toyplot/canvas/id\"] = \"t3d1079f2ca594e638351421ee1cfb713\";\n",
       "modules[\"toyplot/canvas\"] = (function(canvas_id)\n",
       "    {\n",
       "        return document.querySelector(\"#\" + canvas_id);\n",
       "    })(modules[\"toyplot/canvas/id\"]);\n",
       "modules[\"toyplot.coordinates.Axis\"] = (\n",
       "        function(canvas)\n",
       "        {\n",
       "            function sign(x)\n",
       "            {\n",
       "                return x < 0 ? -1 : x > 0 ? 1 : 0;\n",
       "            }\n",
       "\n",
       "            function mix(a, b, amount)\n",
       "            {\n",
       "                return ((1.0 - amount) * a) + (amount * b);\n",
       "            }\n",
       "\n",
       "            function log(x, base)\n",
       "            {\n",
       "                return Math.log(Math.abs(x)) / Math.log(base);\n",
       "            }\n",
       "\n",
       "            function in_range(a, x, b)\n",
       "            {\n",
       "                var left = Math.min(a, b);\n",
       "                var right = Math.max(a, b);\n",
       "                return left <= x && x <= right;\n",
       "            }\n",
       "\n",
       "            function inside(range, projection)\n",
       "            {\n",
       "                for(var i = 0; i != projection.length; ++i)\n",
       "                {\n",
       "                    var segment = projection[i];\n",
       "                    if(in_range(segment.range.min, range, segment.range.max))\n",
       "                        return true;\n",
       "                }\n",
       "                return false;\n",
       "            }\n",
       "\n",
       "            function to_domain(range, projection)\n",
       "            {\n",
       "                for(var i = 0; i != projection.length; ++i)\n",
       "                {\n",
       "                    var segment = projection[i];\n",
       "                    if(in_range(segment.range.bounds.min, range, segment.range.bounds.max))\n",
       "                    {\n",
       "                        if(segment.scale == \"linear\")\n",
       "                        {\n",
       "                            var amount = (range - segment.range.min) / (segment.range.max - segment.range.min);\n",
       "                            return mix(segment.domain.min, segment.domain.max, amount)\n",
       "                        }\n",
       "                        else if(segment.scale[0] == \"log\")\n",
       "                        {\n",
       "                            var amount = (range - segment.range.min) / (segment.range.max - segment.range.min);\n",
       "                            var base = segment.scale[1];\n",
       "                            return sign(segment.domain.min) * Math.pow(base, mix(log(segment.domain.min, base), log(segment.domain.max, base), amount));\n",
       "                        }\n",
       "                    }\n",
       "                }\n",
       "            }\n",
       "\n",
       "            var axes = {};\n",
       "\n",
       "            function display_coordinates(e)\n",
       "            {\n",
       "                var current = canvas.createSVGPoint();\n",
       "                current.x = e.clientX;\n",
       "                current.y = e.clientY;\n",
       "\n",
       "                for(var axis_id in axes)\n",
       "                {\n",
       "                    var axis = document.querySelector(\"#\" + axis_id);\n",
       "                    var coordinates = axis.querySelector(\".toyplot-coordinates-Axis-coordinates\");\n",
       "                    if(coordinates)\n",
       "                    {\n",
       "                        var projection = axes[axis_id];\n",
       "                        var local = current.matrixTransform(axis.getScreenCTM().inverse());\n",
       "                        if(inside(local.x, projection))\n",
       "                        {\n",
       "                            var domain = to_domain(local.x, projection);\n",
       "                            coordinates.style.visibility = \"visible\";\n",
       "                            coordinates.setAttribute(\"transform\", \"translate(\" + local.x + \")\");\n",
       "                            var text = coordinates.querySelector(\"text\");\n",
       "                            text.textContent = domain.toFixed(2);\n",
       "                        }\n",
       "                        else\n",
       "                        {\n",
       "                            coordinates.style.visibility= \"hidden\";\n",
       "                        }\n",
       "                    }\n",
       "                }\n",
       "            }\n",
       "\n",
       "            canvas.addEventListener(\"click\", display_coordinates);\n",
       "\n",
       "            var module = {};\n",
       "            module.show_coordinates = function(axis_id, projection)\n",
       "            {\n",
       "                axes[axis_id] = projection;\n",
       "            }\n",
       "\n",
       "            return module;\n",
       "        })(modules[\"toyplot/canvas\"]);\n",
       "(function(axis, axis_id, projection)\n",
       "        {\n",
       "            axis.show_coordinates(axis_id, projection);\n",
       "        })(modules[\"toyplot.coordinates.Axis\"],\"t0656fa14c3694d4080ae71e7eb9a8aca\",[{\"domain\": {\"bounds\": {\"max\": Infinity, \"min\": -Infinity}, \"max\": 0.050000000000000044, \"min\": -1.05}, \"range\": {\"bounds\": {\"max\": Infinity, \"min\": -Infinity}, \"max\": 200.0, \"min\": 0.0}, \"scale\": \"linear\"}]);\n",
       "(function(axis, axis_id, projection)\n",
       "        {\n",
       "            axis.show_coordinates(axis_id, projection);\n",
       "        })(modules[\"toyplot.coordinates.Axis\"],\"ta6375d71e29a46ccb5fa424d293889f3\",[{\"domain\": {\"bounds\": {\"max\": Infinity, \"min\": -Infinity}, \"max\": 12.0, \"min\": -0.55}, \"range\": {\"bounds\": {\"max\": Infinity, \"min\": -Infinity}, \"max\": 200.0, \"min\": 0.0}, \"scale\": \"linear\"}]);\n",
       "})();</script></div></div>"
      ]
     },
     "metadata": {},
     "output_type": "display_data"
    }
   ],
   "source": [
    "# store the returned Canvas and Axes objects\n",
    "canvas, axes, mark = tre.draw(\n",
    "    width=300, \n",
    "    height=300, \n",
    "    edge_style={\"stroke-opacity\": 0.5},\n",
    "    tip_labels=False,\n",
    "    node_mask=[False] + [True] * (tre.nnodes - 1),\n",
    "    node_sizes=20,\n",
    "    node_labels=\"idx\",\n",
    ")\n",
    "\n",
    "# show the axes coordinates\n",
    "axes.show = True\n",
    "axes.x.ticks.show = True\n",
    "axes.y.ticks.show = True\n",
    "\n",
    "# overlay a grid \n",
    "axes.hlines(np.arange(0, tre.ntips), style={\"stroke\": \"red\", \"stroke-dasharray\": \"2,4\"})\n",
    "axes.vlines(0, style={\"stroke\": \"blue\", \"stroke-dasharray\": \"2,4\"});"
   ]
  },
  {
   "cell_type": "code",
   "execution_count": 176,
   "metadata": {},
   "outputs": [
    {
     "data": {
      "text/html": [
       "<div class=\"toyplot\" id=\"tbb6f294bdbaa4d758747b37081c23758\" style=\"text-align:center\"><svg class=\"toyplot-canvas-Canvas\" xmlns:toyplot=\"http://www.sandia.gov/toyplot\" xmlns:xlink=\"http://www.w3.org/1999/xlink\" xmlns=\"http://www.w3.org/2000/svg\" width=\"300.0px\" height=\"300.0px\" viewBox=\"0 0 300.0 300.0\" preserveAspectRatio=\"xMidYMid meet\" style=\"background-color:transparent;border-color:#292724;border-style:none;border-width:1.0;fill:rgb(16.1%,15.3%,14.1%);fill-opacity:1.0;font-family:Helvetica;font-size:12px;opacity:1.0;stroke:rgb(16.1%,15.3%,14.1%);stroke-opacity:1.0;stroke-width:1.0\" id=\"tbe9a23bd4cb04de79e79f551e1e0e36d\"><g class=\"toyplot-coordinates-Cartesian\" id=\"t7aec69c7f8e44dc0b7a8e897815200a2\"><clipPath id=\"t2754d08442364c5692484e6ca481c66a\"><rect x=\"35.0\" y=\"35.0\" width=\"230.0\" height=\"230.0\"></rect></clipPath><g clip-path=\"url(#t2754d08442364c5692484e6ca481c66a)\"><g class=\"toytree-mark-Toytree\" id=\"t900d00b271b04ade9fff7b5e21e10e9d\"><g class=\"toytree-Edges\" style=\"fill:none;stroke:rgba(16.1%,15.3%,14.1%,1.000);stroke-linecap:round;stroke-opacity:0.5;stroke-width:2.0\"><path d=\"M 229.3 95.5 L 241.2 95.5 L 241.2 240.9\" id=\"20,0\" style=\"stroke-width:nan\"></path><path d=\"M 217.3 131.8 L 225.3 131.8 L 225.3 240.9\" id=\"17,1\" style=\"stroke-width:nan\"></path><path d=\"M 217.3 131.8 L 209.4 131.8 L 209.4 240.9\" id=\"17,2\" style=\"stroke-width:nan\"></path><path d=\"M 185.5 168.2 L 193.4 168.2 L 193.4 240.9\" id=\"14,3\" style=\"stroke-width:nan\"></path><path d=\"M 185.5 168.2 L 177.5 168.2 L 177.5 240.9\" id=\"14,4\" style=\"stroke-width:nan\"></path><path d=\"M 153.6 168.2 L 161.6 168.2 L 161.6 240.9\" id=\"15,5\" style=\"stroke-width:nan\"></path><path d=\"M 153.6 168.2 L 145.6 168.2 L 145.6 240.9\" id=\"15,6\" style=\"stroke-width:nan\"></path><path d=\"M 109.8 131.8 L 129.7 131.8 L 129.7 240.9\" id=\"19,7\" style=\"stroke-width:nan\"></path><path d=\"M 105.8 204.5 L 113.7 204.5 L 113.7 240.9\" id=\"12,8\" style=\"stroke-width:nan\"></path><path d=\"M 105.8 204.5 L 97.8 204.5 L 97.8 240.9\" id=\"12,9\" style=\"stroke-width:nan\"></path><path d=\"M 73.9 204.5 L 81.9 204.5 L 81.9 240.9\" id=\"13,10\" style=\"stroke-width:nan\"></path><path d=\"M 73.9 204.5 L 65.9 204.5 L 65.9 240.9\" id=\"13,11\" style=\"stroke-width:nan\"></path><path d=\"M 89.8 168.2 L 105.8 168.2 L 105.8 204.5\" id=\"16,12\" style=\"stroke-width:nan\"></path><path d=\"M 89.8 168.2 L 73.9 168.2 L 73.9 204.5\" id=\"16,13\" style=\"stroke-width:nan\"></path><path d=\"M 169.5 131.8 L 185.5 131.8 L 185.5 168.2\" id=\"18,14\" style=\"stroke-width:nan\"></path><path d=\"M 169.5 131.8 L 153.6 131.8 L 153.6 168.2\" id=\"18,15\" style=\"stroke-width:nan\"></path><path d=\"M 109.8 131.8 L 89.8 131.8 L 89.8 168.2\" id=\"19,16\" style=\"stroke-width:nan\"></path><path d=\"M 229.3 95.5 L 217.3 95.5 L 217.3 131.8\" id=\"20,17\" style=\"stroke-width:nan\"></path><path d=\"M 139.6 95.5 L 169.5 95.5 L 169.5 131.8\" id=\"21,18\" style=\"stroke-width:nan\"></path><path d=\"M 139.6 95.5 L 109.8 95.5 L 109.8 131.8\" id=\"21,19\" style=\"stroke-width:nan\"></path><path d=\"M 184.5 59.1 L 229.3 59.1 L 229.3 95.5\" id=\"22,20\" style=\"stroke-width:nan\"></path><path d=\"M 184.5 59.1 L 139.6 59.1 L 139.6 95.5\" id=\"22,21\" style=\"stroke-width:nan\"></path></g><g class=\"toytree-Nodes\" style=\"fill:rgba(40.0%,76.1%,64.7%,1.000);stroke:#262626;stroke-width:1.0\"><g id=\"node-0\" transform=\"translate(241.235,240.909)\"><circle r=\"10.0\"></circle></g></g><g class=\"toytree-NodeLabels\" style=\"font-family:Helvetica;font-size:9.0px;font-weight:300;stroke:none;vertical-align:baseline;white-space:pre\"><g class=\"toytree-NodeLabel\" transform=\"translate(241.23505976095618,240.90909090909093)\"><text x=\"-2.5020000000000002\" y=\"2.2995\" style=\"fill:rgb(16.1%,15.3%,14.1%);fill-opacity:1.0\">0</text></g></g></g><g class=\"toyplot-mark-AxisLines\" style=\"stroke:rgb(100%,0%,0%);stroke-dasharray:2,4;stroke-opacity:1.0\" id=\"t5868e54a4fa54d90a72e0bb126580475\"><g class=\"toyplot-Series\"><line class=\"toyplot-Datum\" x1=\"241.23505976095618\" x2=\"241.23505976095618\" y1=\"50.0\" y2=\"250.0\" style=\"opacity:1.0;stroke:rgb(100%,0%,0%);stroke-dasharray:2,4;stroke-opacity:1.0\"></line><line class=\"toyplot-Datum\" x1=\"225.2988047808765\" x2=\"225.2988047808765\" y1=\"50.0\" y2=\"250.0\" style=\"opacity:1.0;stroke:rgb(100%,0%,0%);stroke-dasharray:2,4;stroke-opacity:1.0\"></line><line class=\"toyplot-Datum\" x1=\"209.36254980079678\" x2=\"209.36254980079678\" y1=\"50.0\" y2=\"250.0\" style=\"opacity:1.0;stroke:rgb(100%,0%,0%);stroke-dasharray:2,4;stroke-opacity:1.0\"></line><line class=\"toyplot-Datum\" x1=\"193.42629482071712\" x2=\"193.42629482071712\" y1=\"50.0\" y2=\"250.0\" style=\"opacity:1.0;stroke:rgb(100%,0%,0%);stroke-dasharray:2,4;stroke-opacity:1.0\"></line><line class=\"toyplot-Datum\" x1=\"177.49003984063745\" x2=\"177.49003984063745\" y1=\"50.0\" y2=\"250.0\" style=\"opacity:1.0;stroke:rgb(100%,0%,0%);stroke-dasharray:2,4;stroke-opacity:1.0\"></line><line class=\"toyplot-Datum\" x1=\"161.55378486055776\" x2=\"161.55378486055776\" y1=\"50.0\" y2=\"250.0\" style=\"opacity:1.0;stroke:rgb(100%,0%,0%);stroke-dasharray:2,4;stroke-opacity:1.0\"></line><line class=\"toyplot-Datum\" x1=\"145.6175298804781\" x2=\"145.6175298804781\" y1=\"50.0\" y2=\"250.0\" style=\"opacity:1.0;stroke:rgb(100%,0%,0%);stroke-dasharray:2,4;stroke-opacity:1.0\"></line><line class=\"toyplot-Datum\" x1=\"129.6812749003984\" x2=\"129.6812749003984\" y1=\"50.0\" y2=\"250.0\" style=\"opacity:1.0;stroke:rgb(100%,0%,0%);stroke-dasharray:2,4;stroke-opacity:1.0\"></line><line class=\"toyplot-Datum\" x1=\"113.74501992031873\" x2=\"113.74501992031873\" y1=\"50.0\" y2=\"250.0\" style=\"opacity:1.0;stroke:rgb(100%,0%,0%);stroke-dasharray:2,4;stroke-opacity:1.0\"></line><line class=\"toyplot-Datum\" x1=\"97.80876494023903\" x2=\"97.80876494023903\" y1=\"50.0\" y2=\"250.0\" style=\"opacity:1.0;stroke:rgb(100%,0%,0%);stroke-dasharray:2,4;stroke-opacity:1.0\"></line><line class=\"toyplot-Datum\" x1=\"81.87250996015936\" x2=\"81.87250996015936\" y1=\"50.0\" y2=\"250.0\" style=\"opacity:1.0;stroke:rgb(100%,0%,0%);stroke-dasharray:2,4;stroke-opacity:1.0\"></line><line class=\"toyplot-Datum\" x1=\"65.93625498007968\" x2=\"65.93625498007968\" y1=\"50.0\" y2=\"250.0\" style=\"opacity:1.0;stroke:rgb(100%,0%,0%);stroke-dasharray:2,4;stroke-opacity:1.0\"></line></g></g><g class=\"toyplot-mark-AxisLines\" style=\"stroke:rgb(0%,0%,100%);stroke-dasharray:2,4;stroke-opacity:1.0\" id=\"tb406337713304065b9cab85585d1adb4\"><g class=\"toyplot-Series\"><line class=\"toyplot-Datum\" y1=\"240.90909090909093\" y2=\"240.90909090909093\" x1=\"50.0\" x2=\"250.0\" style=\"opacity:1.0;stroke:rgb(0%,0%,100%);stroke-dasharray:2,4;stroke-opacity:1.0\"></line></g></g></g><g class=\"toyplot-coordinates-Axis\" id=\"t0a33fd723fff46f99ed9f872d4f949ca\" transform=\"translate(50.0,250.0)translate(0,15.0)\"><line x1=\"15.936254980079681\" y1=\"0\" x2=\"191.23505976095615\" y2=\"0\" style=\"\"></line><g><line x1=\"0.0\" y1=\"0\" x2=\"0.0\" y2=\"-5\" style=\"\"></line><line x1=\"63.745019920318725\" y1=\"0\" x2=\"63.745019920318725\" y2=\"-5\" style=\"\"></line><line x1=\"127.49003984063745\" y1=\"0\" x2=\"127.49003984063745\" y2=\"-5\" style=\"\"></line><line x1=\"191.23505976095615\" y1=\"0\" x2=\"191.23505976095615\" y2=\"-5\" style=\"\"></line></g><g><g transform=\"translate(0.0,6)\"><text x=\"-7.2250000000000005\" y=\"8.555\" style=\"fill:rgb(16.1%,15.3%,14.1%);fill-opacity:1.0;font-family:helvetica;font-size:10.0px;font-weight:normal;stroke:none;vertical-align:baseline;white-space:pre\">-12</text></g><g transform=\"translate(63.745019920318725,6)\"><text x=\"-4.445\" y=\"8.555\" style=\"fill:rgb(16.1%,15.3%,14.1%);fill-opacity:1.0;font-family:helvetica;font-size:10.0px;font-weight:normal;stroke:none;vertical-align:baseline;white-space:pre\">-8</text></g><g transform=\"translate(127.49003984063745,6)\"><text x=\"-4.445\" y=\"8.555\" style=\"fill:rgb(16.1%,15.3%,14.1%);fill-opacity:1.0;font-family:helvetica;font-size:10.0px;font-weight:normal;stroke:none;vertical-align:baseline;white-space:pre\">-4</text></g><g transform=\"translate(191.23505976095615,6)\"><text x=\"-2.78\" y=\"8.555\" style=\"fill:rgb(16.1%,15.3%,14.1%);fill-opacity:1.0;font-family:helvetica;font-size:10.0px;font-weight:normal;stroke:none;vertical-align:baseline;white-space:pre\">0</text></g></g><g class=\"toyplot-coordinates-Axis-coordinates\" style=\"visibility:hidden\" transform=\"\"><line x1=\"0\" x2=\"0\" y1=\"-3.0\" y2=\"4.5\" style=\"stroke:rgb(43.9%,50.2%,56.5%);stroke-opacity:1.0;stroke-width:1.0\"></line><text x=\"0\" y=\"-6\" style=\"alignment-baseline:alphabetic;fill:rgb(43.9%,50.2%,56.5%);fill-opacity:1.0;font-size:10px;font-weight:normal;stroke:none;text-anchor:middle\"></text></g></g><g class=\"toyplot-coordinates-Axis\" id=\"t675bf90edc004d149fe84e4f75b01591\" transform=\"translate(50.0,250.0)rotate(-90.0)translate(0,-15.0)\"><line x1=\"9.090909090909092\" y1=\"0\" x2=\"190.9090909090909\" y2=\"0\" style=\"\"></line><g><line x1=\"9.090909090909092\" y1=\"0\" x2=\"9.090909090909092\" y2=\"5\" style=\"\"></line><line x1=\"100.0\" y1=\"0\" x2=\"100.0\" y2=\"5\" style=\"\"></line><line x1=\"190.9090909090909\" y1=\"0\" x2=\"190.9090909090909\" y2=\"5\" style=\"\"></line></g><g><g transform=\"translate(9.090909090909092,-6)\"><text x=\"-6.95\" y=\"-4.440892098500626e-16\" style=\"fill:rgb(16.1%,15.3%,14.1%);fill-opacity:1.0;font-family:helvetica;font-size:10.0px;font-weight:normal;stroke:none;vertical-align:baseline;white-space:pre\">0.0</text></g><g transform=\"translate(100.0,-6)\"><text x=\"-6.95\" y=\"-4.440892098500626e-16\" style=\"fill:rgb(16.1%,15.3%,14.1%);fill-opacity:1.0;font-family:helvetica;font-size:10.0px;font-weight:normal;stroke:none;vertical-align:baseline;white-space:pre\">0.5</text></g><g transform=\"translate(190.9090909090909,-6)\"><text x=\"-6.95\" y=\"-4.440892098500626e-16\" style=\"fill:rgb(16.1%,15.3%,14.1%);fill-opacity:1.0;font-family:helvetica;font-size:10.0px;font-weight:normal;stroke:none;vertical-align:baseline;white-space:pre\">1.0</text></g></g><g class=\"toyplot-coordinates-Axis-coordinates\" style=\"visibility:hidden\" transform=\"\"><line x1=\"0\" x2=\"0\" y1=\"3.0\" y2=\"-4.5\" style=\"stroke:rgb(43.9%,50.2%,56.5%);stroke-opacity:1.0;stroke-width:1.0\"></line><text x=\"0\" y=\"6\" style=\"alignment-baseline:hanging;fill:rgb(43.9%,50.2%,56.5%);fill-opacity:1.0;font-size:10px;font-weight:normal;stroke:none;text-anchor:middle\"></text></g></g></g></svg><div class=\"toyplot-behavior\"><script>(function()\n",
       "{\n",
       "var modules={};\n",
       "modules[\"toyplot/canvas/id\"] = \"tbe9a23bd4cb04de79e79f551e1e0e36d\";\n",
       "modules[\"toyplot/canvas\"] = (function(canvas_id)\n",
       "    {\n",
       "        return document.querySelector(\"#\" + canvas_id);\n",
       "    })(modules[\"toyplot/canvas/id\"]);\n",
       "modules[\"toyplot.coordinates.Axis\"] = (\n",
       "        function(canvas)\n",
       "        {\n",
       "            function sign(x)\n",
       "            {\n",
       "                return x < 0 ? -1 : x > 0 ? 1 : 0;\n",
       "            }\n",
       "\n",
       "            function mix(a, b, amount)\n",
       "            {\n",
       "                return ((1.0 - amount) * a) + (amount * b);\n",
       "            }\n",
       "\n",
       "            function log(x, base)\n",
       "            {\n",
       "                return Math.log(Math.abs(x)) / Math.log(base);\n",
       "            }\n",
       "\n",
       "            function in_range(a, x, b)\n",
       "            {\n",
       "                var left = Math.min(a, b);\n",
       "                var right = Math.max(a, b);\n",
       "                return left <= x && x <= right;\n",
       "            }\n",
       "\n",
       "            function inside(range, projection)\n",
       "            {\n",
       "                for(var i = 0; i != projection.length; ++i)\n",
       "                {\n",
       "                    var segment = projection[i];\n",
       "                    if(in_range(segment.range.min, range, segment.range.max))\n",
       "                        return true;\n",
       "                }\n",
       "                return false;\n",
       "            }\n",
       "\n",
       "            function to_domain(range, projection)\n",
       "            {\n",
       "                for(var i = 0; i != projection.length; ++i)\n",
       "                {\n",
       "                    var segment = projection[i];\n",
       "                    if(in_range(segment.range.bounds.min, range, segment.range.bounds.max))\n",
       "                    {\n",
       "                        if(segment.scale == \"linear\")\n",
       "                        {\n",
       "                            var amount = (range - segment.range.min) / (segment.range.max - segment.range.min);\n",
       "                            return mix(segment.domain.min, segment.domain.max, amount)\n",
       "                        }\n",
       "                        else if(segment.scale[0] == \"log\")\n",
       "                        {\n",
       "                            var amount = (range - segment.range.min) / (segment.range.max - segment.range.min);\n",
       "                            var base = segment.scale[1];\n",
       "                            return sign(segment.domain.min) * Math.pow(base, mix(log(segment.domain.min, base), log(segment.domain.max, base), amount));\n",
       "                        }\n",
       "                    }\n",
       "                }\n",
       "            }\n",
       "\n",
       "            var axes = {};\n",
       "\n",
       "            function display_coordinates(e)\n",
       "            {\n",
       "                var current = canvas.createSVGPoint();\n",
       "                current.x = e.clientX;\n",
       "                current.y = e.clientY;\n",
       "\n",
       "                for(var axis_id in axes)\n",
       "                {\n",
       "                    var axis = document.querySelector(\"#\" + axis_id);\n",
       "                    var coordinates = axis.querySelector(\".toyplot-coordinates-Axis-coordinates\");\n",
       "                    if(coordinates)\n",
       "                    {\n",
       "                        var projection = axes[axis_id];\n",
       "                        var local = current.matrixTransform(axis.getScreenCTM().inverse());\n",
       "                        if(inside(local.x, projection))\n",
       "                        {\n",
       "                            var domain = to_domain(local.x, projection);\n",
       "                            coordinates.style.visibility = \"visible\";\n",
       "                            coordinates.setAttribute(\"transform\", \"translate(\" + local.x + \")\");\n",
       "                            var text = coordinates.querySelector(\"text\");\n",
       "                            text.textContent = domain.toFixed(2);\n",
       "                        }\n",
       "                        else\n",
       "                        {\n",
       "                            coordinates.style.visibility= \"hidden\";\n",
       "                        }\n",
       "                    }\n",
       "                }\n",
       "            }\n",
       "\n",
       "            canvas.addEventListener(\"click\", display_coordinates);\n",
       "\n",
       "            var module = {};\n",
       "            module.show_coordinates = function(axis_id, projection)\n",
       "            {\n",
       "                axes[axis_id] = projection;\n",
       "            }\n",
       "\n",
       "            return module;\n",
       "        })(modules[\"toyplot/canvas\"]);\n",
       "(function(axis, axis_id, projection)\n",
       "        {\n",
       "            axis.show_coordinates(axis_id, projection);\n",
       "        })(modules[\"toyplot.coordinates.Axis\"],\"t0a33fd723fff46f99ed9f872d4f949ca\",[{\"domain\": {\"bounds\": {\"max\": Infinity, \"min\": -Infinity}, \"max\": 0.5500000000000005, \"min\": -12.0}, \"range\": {\"bounds\": {\"max\": Infinity, \"min\": -Infinity}, \"max\": 200.0, \"min\": 0.0}, \"scale\": \"linear\"}]);\n",
       "(function(axis, axis_id, projection)\n",
       "        {\n",
       "            axis.show_coordinates(axis_id, projection);\n",
       "        })(modules[\"toyplot.coordinates.Axis\"],\"t675bf90edc004d149fe84e4f75b01591\",[{\"domain\": {\"bounds\": {\"max\": Infinity, \"min\": -Infinity}, \"max\": 1.05, \"min\": -0.05}, \"range\": {\"bounds\": {\"max\": Infinity, \"min\": -Infinity}, \"max\": 200.0, \"min\": 0.0}, \"scale\": \"linear\"}]);\n",
       "})();</script></div></div>"
      ]
     },
     "metadata": {},
     "output_type": "display_data"
    }
   ],
   "source": [
    "# store the returned Canvas and Axes objects\n",
    "canvas, axes, mark = tre.draw(\n",
    "    width=300, \n",
    "    height=300, \n",
    "    tip_labels=False,\n",
    "    edge_style={\"stroke-opacity\": 0.5},\n",
    "    node_mask=[False] + [True] * (tre.nnodes - 1),\n",
    "    node_sizes=20,\n",
    "    node_labels=\"idx\",\n",
    "    layout='d',\n",
    ")\n",
    "\n",
    "# style to show the axes coordinates\n",
    "axes.show = True\n",
    "axes.x.ticks.show = True\n",
    "axes.y.ticks.show = True\n",
    "\n",
    "# overlay a grid on the axes \n",
    "axes.vlines(-np.arange(0, tre.ntips), style={\"stroke\": \"red\", \"stroke-dasharray\": \"2,4\"})\n",
    "axes.hlines(0, style={\"stroke\": \"blue\", \"stroke-dasharray\": \"2,4\"});"
   ]
  },
  {
   "cell_type": "markdown",
   "metadata": {},
   "source": [
    "#### Scale bar\n",
    "The argument `scale_bar` applies an automatic styling to the time axis of the tree plot. You can still additionaly style the axes object after it is returned by the draw function."
   ]
  },
  {
   "cell_type": "code",
   "execution_count": 177,
   "metadata": {},
   "outputs": [
    {
     "data": {
      "text/html": [
       "<div class=\"toyplot\" id=\"t10e0c62531f84481ba620f3aeca76303\" style=\"text-align:center\"><svg class=\"toyplot-canvas-Canvas\" xmlns:toyplot=\"http://www.sandia.gov/toyplot\" xmlns:xlink=\"http://www.w3.org/1999/xlink\" xmlns=\"http://www.w3.org/2000/svg\" width=\"265.0px\" height=\"275.0px\" viewBox=\"0 0 265.0 275.0\" preserveAspectRatio=\"xMidYMid meet\" style=\"background-color:transparent;border-color:#292724;border-style:none;border-width:1.0;fill:rgb(16.1%,15.3%,14.1%);fill-opacity:1.0;font-family:Helvetica;font-size:12px;opacity:1.0;stroke:rgb(16.1%,15.3%,14.1%);stroke-opacity:1.0;stroke-width:1.0\" id=\"t7354243761da4795a09b4c1c63a1b08d\"><g class=\"toyplot-coordinates-Cartesian\" id=\"ta948f0c8dfbb4e8ebd085ae558f0e2cd\"><clipPath id=\"t14e47ad051194b6faf6633fe17d86184\"><rect x=\"35.0\" y=\"35.0\" width=\"195.0\" height=\"205.0\"></rect></clipPath><g clip-path=\"url(#t14e47ad051194b6faf6633fe17d86184)\"><g class=\"toytree-mark-Toytree\" id=\"tdc6c606a122b45efabba0d004d539217\"><g class=\"toytree-Edges\" style=\"fill:none;stroke:rgba(16.1%,15.3%,14.1%,1.000);stroke-linecap:round;stroke-width:2.0\"><path d=\"M 74.0 207.8 L 74.0 218.9 L 170.0 218.9\" id=\"20,0\" style=\"stroke-width:nan\"></path><path d=\"M 98.0 196.7 L 98.0 204.1 L 170.0 204.1\" id=\"17,1\" style=\"stroke-width:nan\"></path><path d=\"M 98.0 196.7 L 98.0 189.3 L 170.0 189.3\" id=\"17,2\" style=\"stroke-width:nan\"></path><path d=\"M 122.0 167.1 L 122.0 174.5 L 170.0 174.5\" id=\"14,3\" style=\"stroke-width:nan\"></path><path d=\"M 122.0 167.1 L 122.0 159.7 L 170.0 159.7\" id=\"14,4\" style=\"stroke-width:nan\"></path><path d=\"M 122.0 137.5 L 122.0 144.9 L 170.0 144.9\" id=\"15,5\" style=\"stroke-width:nan\"></path><path d=\"M 122.0 137.5 L 122.0 130.1 L 170.0 130.1\" id=\"15,6\" style=\"stroke-width:nan\"></path><path d=\"M 98.0 96.8 L 98.0 115.3 L 170.0 115.3\" id=\"19,7\" style=\"stroke-width:nan\"></path><path d=\"M 146.0 93.1 L 146.0 100.5 L 170.0 100.5\" id=\"12,8\" style=\"stroke-width:nan\"></path><path d=\"M 146.0 93.1 L 146.0 85.7 L 170.0 85.7\" id=\"12,9\" style=\"stroke-width:nan\"></path><path d=\"M 146.0 63.5 L 146.0 70.9 L 170.0 70.9\" id=\"13,10\" style=\"stroke-width:nan\"></path><path d=\"M 146.0 63.5 L 146.0 56.1 L 170.0 56.1\" id=\"13,11\" style=\"stroke-width:nan\"></path><path d=\"M 122.0 78.3 L 122.0 93.1 L 146.0 93.1\" id=\"16,12\" style=\"stroke-width:nan\"></path><path d=\"M 122.0 78.3 L 122.0 63.5 L 146.0 63.5\" id=\"16,13\" style=\"stroke-width:nan\"></path><path d=\"M 98.0 152.3 L 98.0 167.1 L 122.0 167.1\" id=\"18,14\" style=\"stroke-width:nan\"></path><path d=\"M 98.0 152.3 L 98.0 137.5 L 122.0 137.5\" id=\"18,15\" style=\"stroke-width:nan\"></path><path d=\"M 98.0 96.8 L 98.0 78.3 L 122.0 78.3\" id=\"19,16\" style=\"stroke-width:nan\"></path><path d=\"M 74.0 207.8 L 74.0 196.7 L 98.0 196.7\" id=\"20,17\" style=\"stroke-width:nan\"></path><path d=\"M 74.0 124.6 L 74.0 152.3 L 98.0 152.3\" id=\"21,18\" style=\"stroke-width:nan\"></path><path d=\"M 74.0 124.6 L 74.0 96.8 L 98.0 96.8\" id=\"21,19\" style=\"stroke-width:nan\"></path><path d=\"M 50.0 166.2 L 50.0 207.8 L 74.0 207.8\" id=\"22,20\" style=\"stroke-width:nan\"></path><path d=\"M 50.0 166.2 L 50.0 124.6 L 74.0 124.6\" id=\"22,21\" style=\"stroke-width:nan\"></path></g><g class=\"toytree-TipLabels\" style=\"fill:rgb(16.1%,15.3%,14.1%);fill-opacity:1.0;font-family:Helvetica;font-size:11.0px;font-weight:300;stroke:none;vertical-align:baseline;white-space:pre\"><g class=\"toytree-TipLabel\" transform=\"translate(170.04497552802152,218.86291179596174)\"><text x=\"15.0\" y=\"2.8104999999999993\" style=\"\">r0</text></g><g class=\"toytree-TipLabel\" transform=\"translate(170.04497552802152,204.06965510578686)\"><text x=\"15.0\" y=\"2.8104999999999993\" style=\"\">r1</text></g><g class=\"toytree-TipLabel\" transform=\"translate(170.04497552802152,189.276398415612)\"><text x=\"15.0\" y=\"2.8104999999999993\" style=\"\">r2</text></g><g class=\"toytree-TipLabel\" transform=\"translate(170.04497552802152,174.48314172543715)\"><text x=\"15.0\" y=\"2.8104999999999993\" style=\"\">r3</text></g><g class=\"toytree-TipLabel\" transform=\"translate(170.04497552802152,159.68988503526228)\"><text x=\"15.0\" y=\"2.8104999999999993\" style=\"\">r4</text></g><g class=\"toytree-TipLabel\" transform=\"translate(170.04497552802152,144.8966283450874)\"><text x=\"15.0\" y=\"2.8104999999999993\" style=\"\">r5</text></g><g class=\"toytree-TipLabel\" transform=\"translate(170.04497552802152,130.10337165491254)\"><text x=\"15.0\" y=\"2.8104999999999993\" style=\"\">r6</text></g><g class=\"toytree-TipLabel\" transform=\"translate(170.04497552802152,115.31011496473768)\"><text x=\"15.0\" y=\"2.8104999999999993\" style=\"\">r7</text></g><g class=\"toytree-TipLabel\" transform=\"translate(170.04497552802152,100.51685827456282)\"><text x=\"15.0\" y=\"2.8104999999999993\" style=\"\">r8</text></g><g class=\"toytree-TipLabel\" transform=\"translate(170.04497552802152,85.72360158438796)\"><text x=\"15.0\" y=\"2.8104999999999993\" style=\"\">r9</text></g><g class=\"toytree-TipLabel\" transform=\"translate(170.04497552802152,70.9303448942131)\"><text x=\"15.0\" y=\"2.8104999999999993\" style=\"\">r10</text></g><g class=\"toytree-TipLabel\" transform=\"translate(170.04497552802152,56.137088204038236)\"><text x=\"15.0\" y=\"2.8104999999999993\" style=\"\">r11</text></g></g></g></g><g class=\"toyplot-coordinates-Axis\" id=\"tbc69ceba8715415db8469335c9d58ad0\" transform=\"translate(50.0,225.0)translate(0,15.0)\"><line x1=\"0\" y1=\"0\" x2=\"120.0449755280215\" y2=\"0\" style=\"\"></line><g><line x1=\"0.0\" y1=\"0\" x2=\"0.0\" y2=\"-5\" style=\"\"></line><line x1=\"60.02248776401075\" y1=\"0\" x2=\"60.02248776401075\" y2=\"-5\" style=\"\"></line><line x1=\"120.0449755280215\" y1=\"0\" x2=\"120.0449755280215\" y2=\"-5\" style=\"\"></line></g><g><g transform=\"translate(0.0,6)\"><text x=\"-6.95\" y=\"8.555\" style=\"fill:rgb(16.1%,15.3%,14.1%);fill-opacity:1.0;font-family:helvetica;font-size:10.0px;font-weight:normal;stroke:none;vertical-align:baseline;white-space:pre\">1.0</text></g><g transform=\"translate(60.02248776401075,6)\"><text x=\"-6.95\" y=\"8.555\" style=\"fill:rgb(16.1%,15.3%,14.1%);fill-opacity:1.0;font-family:helvetica;font-size:10.0px;font-weight:normal;stroke:none;vertical-align:baseline;white-space:pre\">0.5</text></g><g transform=\"translate(120.0449755280215,6)\"><text x=\"-6.95\" y=\"8.555\" style=\"fill:rgb(16.1%,15.3%,14.1%);fill-opacity:1.0;font-family:helvetica;font-size:10.0px;font-weight:normal;stroke:none;vertical-align:baseline;white-space:pre\">0.0</text></g></g><g class=\"toyplot-coordinates-Axis-coordinates\" style=\"visibility:hidden\" transform=\"\"><line x1=\"0\" x2=\"0\" y1=\"-3.0\" y2=\"4.5\" style=\"stroke:rgb(43.9%,50.2%,56.5%);stroke-opacity:1.0;stroke-width:1.0\"></line><text x=\"0\" y=\"-6\" style=\"alignment-baseline:alphabetic;fill:rgb(43.9%,50.2%,56.5%);fill-opacity:1.0;font-size:10px;font-weight:normal;stroke:none;text-anchor:middle\"></text></g></g></g></svg><div class=\"toyplot-behavior\"><script>(function()\n",
       "{\n",
       "var modules={};\n",
       "modules[\"toyplot/canvas/id\"] = \"t7354243761da4795a09b4c1c63a1b08d\";\n",
       "modules[\"toyplot/canvas\"] = (function(canvas_id)\n",
       "    {\n",
       "        return document.querySelector(\"#\" + canvas_id);\n",
       "    })(modules[\"toyplot/canvas/id\"]);\n",
       "modules[\"toyplot.coordinates.Axis\"] = (\n",
       "        function(canvas)\n",
       "        {\n",
       "            function sign(x)\n",
       "            {\n",
       "                return x < 0 ? -1 : x > 0 ? 1 : 0;\n",
       "            }\n",
       "\n",
       "            function mix(a, b, amount)\n",
       "            {\n",
       "                return ((1.0 - amount) * a) + (amount * b);\n",
       "            }\n",
       "\n",
       "            function log(x, base)\n",
       "            {\n",
       "                return Math.log(Math.abs(x)) / Math.log(base);\n",
       "            }\n",
       "\n",
       "            function in_range(a, x, b)\n",
       "            {\n",
       "                var left = Math.min(a, b);\n",
       "                var right = Math.max(a, b);\n",
       "                return left <= x && x <= right;\n",
       "            }\n",
       "\n",
       "            function inside(range, projection)\n",
       "            {\n",
       "                for(var i = 0; i != projection.length; ++i)\n",
       "                {\n",
       "                    var segment = projection[i];\n",
       "                    if(in_range(segment.range.min, range, segment.range.max))\n",
       "                        return true;\n",
       "                }\n",
       "                return false;\n",
       "            }\n",
       "\n",
       "            function to_domain(range, projection)\n",
       "            {\n",
       "                for(var i = 0; i != projection.length; ++i)\n",
       "                {\n",
       "                    var segment = projection[i];\n",
       "                    if(in_range(segment.range.bounds.min, range, segment.range.bounds.max))\n",
       "                    {\n",
       "                        if(segment.scale == \"linear\")\n",
       "                        {\n",
       "                            var amount = (range - segment.range.min) / (segment.range.max - segment.range.min);\n",
       "                            return mix(segment.domain.min, segment.domain.max, amount)\n",
       "                        }\n",
       "                        else if(segment.scale[0] == \"log\")\n",
       "                        {\n",
       "                            var amount = (range - segment.range.min) / (segment.range.max - segment.range.min);\n",
       "                            var base = segment.scale[1];\n",
       "                            return sign(segment.domain.min) * Math.pow(base, mix(log(segment.domain.min, base), log(segment.domain.max, base), amount));\n",
       "                        }\n",
       "                    }\n",
       "                }\n",
       "            }\n",
       "\n",
       "            var axes = {};\n",
       "\n",
       "            function display_coordinates(e)\n",
       "            {\n",
       "                var current = canvas.createSVGPoint();\n",
       "                current.x = e.clientX;\n",
       "                current.y = e.clientY;\n",
       "\n",
       "                for(var axis_id in axes)\n",
       "                {\n",
       "                    var axis = document.querySelector(\"#\" + axis_id);\n",
       "                    var coordinates = axis.querySelector(\".toyplot-coordinates-Axis-coordinates\");\n",
       "                    if(coordinates)\n",
       "                    {\n",
       "                        var projection = axes[axis_id];\n",
       "                        var local = current.matrixTransform(axis.getScreenCTM().inverse());\n",
       "                        if(inside(local.x, projection))\n",
       "                        {\n",
       "                            var domain = to_domain(local.x, projection);\n",
       "                            coordinates.style.visibility = \"visible\";\n",
       "                            coordinates.setAttribute(\"transform\", \"translate(\" + local.x + \")\");\n",
       "                            var text = coordinates.querySelector(\"text\");\n",
       "                            text.textContent = domain.toFixed(2);\n",
       "                        }\n",
       "                        else\n",
       "                        {\n",
       "                            coordinates.style.visibility= \"hidden\";\n",
       "                        }\n",
       "                    }\n",
       "                }\n",
       "            }\n",
       "\n",
       "            canvas.addEventListener(\"click\", display_coordinates);\n",
       "\n",
       "            var module = {};\n",
       "            module.show_coordinates = function(axis_id, projection)\n",
       "            {\n",
       "                axes[axis_id] = projection;\n",
       "            }\n",
       "\n",
       "            return module;\n",
       "        })(modules[\"toyplot/canvas\"]);\n",
       "(function(axis, axis_id, projection)\n",
       "        {\n",
       "            axis.show_coordinates(axis_id, projection);\n",
       "        })(modules[\"toyplot.coordinates.Axis\"],\"tbc69ceba8715415db8469335c9d58ad0\",[{\"domain\": {\"bounds\": {\"max\": Infinity, \"min\": -Infinity}, \"max\": 0.37448484848484864, \"min\": -1.0}, \"range\": {\"bounds\": {\"max\": Infinity, \"min\": -Infinity}, \"max\": 165.0, \"min\": 0.0}, \"scale\": \"linear\"}]);\n",
       "})();</script></div></div>"
      ]
     },
     "metadata": {},
     "output_type": "display_data"
    }
   ],
   "source": [
    "tre.draw(scale_bar=True);"
   ]
  },
  {
   "cell_type": "markdown",
   "metadata": {},
   "source": [
    "### Combining trees with other plots\n",
    "The plots above demonstrate plotting multiple marks on the same axes. Above I used the `hlines` and `vlines` functions of the toyplot Cartesian axes object. See the toyplot documentation for the many ways to add additional markers, such as bar plots, scatterplots, etc. Some examples are below. "
   ]
  },
  {
   "cell_type": "code",
   "execution_count": 193,
   "metadata": {},
   "outputs": [
    {
     "data": {
      "text/html": [
       "<div class=\"toyplot\" id=\"t0107d370866c4fe5b842f41fb1887391\" style=\"text-align:center\"><svg class=\"toyplot-canvas-Canvas\" xmlns:toyplot=\"http://www.sandia.gov/toyplot\" xmlns:xlink=\"http://www.w3.org/1999/xlink\" xmlns=\"http://www.w3.org/2000/svg\" width=\"265.0px\" height=\"275.0px\" viewBox=\"0 0 265.0 275.0\" preserveAspectRatio=\"xMidYMid meet\" style=\"background-color:transparent;border-color:#292724;border-style:none;border-width:1.0;fill:rgb(16.1%,15.3%,14.1%);fill-opacity:1.0;font-family:Helvetica;font-size:12px;opacity:1.0;stroke:rgb(16.1%,15.3%,14.1%);stroke-opacity:1.0;stroke-width:1.0\" id=\"t11009a5b21984964be02245f5fa83f4c\"><g class=\"toyplot-coordinates-Cartesian\" id=\"t1ee2ac6d502a42fdade7679bffc29269\"><clipPath id=\"t62957adb548f46a2842e0717a0ccbb26\"><rect x=\"35.0\" y=\"35.0\" width=\"195.0\" height=\"205.0\"></rect></clipPath><g clip-path=\"url(#t62957adb548f46a2842e0717a0ccbb26)\"><g class=\"toytree-mark-Toytree\" id=\"t6a2dec0523b7486eb85b9c4ab551bdda\"><g class=\"toytree-Edges\" style=\"fill:none;stroke:rgba(16.1%,15.3%,14.1%,1.000);stroke-linecap:round;stroke-width:2.0\"><path d=\"M 71.1 208.6 L 71.1 219.2 L 155.7 219.2\" id=\"20,0\" style=\"stroke-width:nan\"></path><path d=\"M 92.3 198.0 L 92.3 205.1 L 155.7 205.1\" id=\"17,1\" style=\"stroke-width:nan\"></path><path d=\"M 92.3 198.0 L 92.3 191.0 L 155.7 191.0\" id=\"17,2\" style=\"stroke-width:nan\"></path><path d=\"M 113.4 169.8 L 113.4 176.9 L 155.7 176.9\" id=\"14,3\" style=\"stroke-width:nan\"></path><path d=\"M 113.4 169.8 L 113.4 162.8 L 155.7 162.8\" id=\"14,4\" style=\"stroke-width:nan\"></path><path d=\"M 113.4 141.6 L 113.4 148.7 L 155.7 148.7\" id=\"15,5\" style=\"stroke-width:nan\"></path><path d=\"M 113.4 141.6 L 113.4 134.6 L 155.7 134.6\" id=\"15,6\" style=\"stroke-width:nan\"></path><path d=\"M 92.3 102.9 L 92.3 120.5 L 155.7 120.5\" id=\"19,7\" style=\"stroke-width:nan\"></path><path d=\"M 134.5 99.3 L 134.5 106.4 L 155.7 106.4\" id=\"12,8\" style=\"stroke-width:nan\"></path><path d=\"M 134.5 99.3 L 134.5 92.3 L 155.7 92.3\" id=\"12,9\" style=\"stroke-width:nan\"></path><path d=\"M 134.5 71.1 L 134.5 78.2 L 155.7 78.2\" id=\"13,10\" style=\"stroke-width:nan\"></path><path d=\"M 134.5 71.1 L 134.5 64.1 L 155.7 64.1\" id=\"13,11\" style=\"stroke-width:nan\"></path><path d=\"M 113.4 85.2 L 113.4 99.3 L 134.5 99.3\" id=\"16,12\" style=\"stroke-width:nan\"></path><path d=\"M 113.4 85.2 L 113.4 71.1 L 134.5 71.1\" id=\"16,13\" style=\"stroke-width:nan\"></path><path d=\"M 92.3 155.7 L 92.3 169.8 L 113.4 169.8\" id=\"18,14\" style=\"stroke-width:nan\"></path><path d=\"M 92.3 155.7 L 92.3 141.6 L 113.4 141.6\" id=\"18,15\" style=\"stroke-width:nan\"></path><path d=\"M 92.3 102.9 L 92.3 85.2 L 113.4 85.2\" id=\"19,16\" style=\"stroke-width:nan\"></path><path d=\"M 71.1 208.6 L 71.1 198.0 L 92.3 198.0\" id=\"20,17\" style=\"stroke-width:nan\"></path><path d=\"M 71.1 129.3 L 71.1 155.7 L 92.3 155.7\" id=\"21,18\" style=\"stroke-width:nan\"></path><path d=\"M 71.1 129.3 L 71.1 102.9 L 92.3 102.9\" id=\"21,19\" style=\"stroke-width:nan\"></path><path d=\"M 50.0 168.9 L 50.0 208.6 L 71.1 208.6\" id=\"22,20\" style=\"stroke-width:nan\"></path><path d=\"M 50.0 168.9 L 50.0 129.3 L 71.1 129.3\" id=\"22,21\" style=\"stroke-width:nan\"></path></g><g class=\"toytree-TipLabels\" style=\"fill:rgb(16.1%,15.3%,14.1%);fill-opacity:1.0;font-family:Helvetica;font-size:11.0px;font-weight:300;stroke:none;vertical-align:baseline;white-space:pre\"><g class=\"toytree-TipLabel\" transform=\"translate(155.65224983992084,219.15216790941727)\"><text x=\"15.0\" y=\"2.8104999999999993\" style=\"\">r0</text></g><g class=\"toytree-TipLabel\" transform=\"translate(155.65224983992084,205.05615391696585)\"><text x=\"15.0\" y=\"2.8104999999999993\" style=\"\">r1</text></g><g class=\"toytree-TipLabel\" transform=\"translate(155.65224983992084,190.9601399245144)\"><text x=\"15.0\" y=\"2.8104999999999993\" style=\"\">r2</text></g><g class=\"toytree-TipLabel\" transform=\"translate(155.65224983992084,176.864125932063)\"><text x=\"15.0\" y=\"2.8104999999999993\" style=\"\">r3</text></g><g class=\"toytree-TipLabel\" transform=\"translate(155.65224983992084,162.76811193961152)\"><text x=\"15.0\" y=\"2.8104999999999993\" style=\"\">r4</text></g><g class=\"toytree-TipLabel\" transform=\"translate(155.65224983992084,148.67209794716007)\"><text x=\"15.0\" y=\"2.8104999999999993\" style=\"\">r5</text></g><g class=\"toytree-TipLabel\" transform=\"translate(155.65224983992084,134.57608395470862)\"><text x=\"15.0\" y=\"2.8104999999999993\" style=\"\">r6</text></g><g class=\"toytree-TipLabel\" transform=\"translate(155.65224983992084,120.4800699622572)\"><text x=\"15.0\" y=\"2.8104999999999993\" style=\"\">r7</text></g><g class=\"toytree-TipLabel\" transform=\"translate(155.65224983992084,106.38405596980576)\"><text x=\"15.0\" y=\"2.8104999999999993\" style=\"\">r8</text></g><g class=\"toytree-TipLabel\" transform=\"translate(155.65224983992084,92.28804197735431)\"><text x=\"15.0\" y=\"2.8104999999999993\" style=\"\">r9</text></g><g class=\"toytree-TipLabel\" transform=\"translate(155.65224983992084,78.1920279849029)\"><text x=\"15.0\" y=\"2.8104999999999993\" style=\"\">r10</text></g><g class=\"toytree-TipLabel\" transform=\"translate(155.65224983992084,64.09601399245143)\"><text x=\"15.0\" y=\"2.8104999999999993\" style=\"\">r11</text></g></g></g><g class=\"toyplot-mark-Point\" id=\"t2ca69f9778bf41beb2f913f996faf79c\"><g class=\"toyplot-Series\"><g style=\"fill:rgb(100%,64.7%,0%);fill-opacity:1.0;opacity:1.0;stroke:none\" class=\"toyplot-Datum\" transform=\"translate(208.47837475988126, 219.15216790941727)\"><circle r=\"5.0\"></circle></g><g style=\"fill:rgb(100%,64.7%,0%);fill-opacity:1.0;opacity:1.0;stroke:none\" class=\"toyplot-Datum\" transform=\"translate(208.47837475988126, 205.05615391696585)\"><circle r=\"5.0\"></circle></g><g style=\"fill:rgb(100%,64.7%,0%);fill-opacity:1.0;opacity:1.0;stroke:none\" class=\"toyplot-Datum\" transform=\"translate(208.47837475988126, 190.9601399245144)\"><circle r=\"5.0\"></circle></g><g style=\"fill:rgb(100%,64.7%,0%);fill-opacity:1.0;opacity:1.0;stroke:none\" class=\"toyplot-Datum\" transform=\"translate(208.47837475988126, 176.864125932063)\"><circle r=\"5.0\"></circle></g><g style=\"fill:rgb(100%,64.7%,0%);fill-opacity:1.0;opacity:1.0;stroke:none\" class=\"toyplot-Datum\" transform=\"translate(208.47837475988126, 162.76811193961152)\"><circle r=\"5.0\"></circle></g><g style=\"fill:rgb(100%,64.7%,0%);fill-opacity:1.0;opacity:1.0;stroke:none\" class=\"toyplot-Datum\" transform=\"translate(208.47837475988126, 148.67209794716007)\"><circle r=\"5.0\"></circle></g><g style=\"fill:rgb(100%,64.7%,0%);fill-opacity:1.0;opacity:1.0;stroke:none\" class=\"toyplot-Datum\" transform=\"translate(208.47837475988126, 134.57608395470862)\"><circle r=\"5.0\"></circle></g><g style=\"fill:rgb(100%,64.7%,0%);fill-opacity:1.0;opacity:1.0;stroke:none\" class=\"toyplot-Datum\" transform=\"translate(208.47837475988126, 120.4800699622572)\"><circle r=\"5.0\"></circle></g><g style=\"fill:rgb(100%,64.7%,0%);fill-opacity:1.0;opacity:1.0;stroke:none\" class=\"toyplot-Datum\" transform=\"translate(208.47837475988126, 106.38405596980576)\"><circle r=\"5.0\"></circle></g><g style=\"fill:rgb(100%,64.7%,0%);fill-opacity:1.0;opacity:1.0;stroke:none\" class=\"toyplot-Datum\" transform=\"translate(208.47837475988126, 92.28804197735431)\"><circle r=\"5.0\"></circle></g><g style=\"fill:rgb(100%,64.7%,0%);fill-opacity:1.0;opacity:1.0;stroke:none\" class=\"toyplot-Datum\" transform=\"translate(208.47837475988126, 78.1920279849029)\"><circle r=\"5.0\"></circle></g><g style=\"fill:rgb(100%,64.7%,0%);fill-opacity:1.0;opacity:1.0;stroke:none\" class=\"toyplot-Datum\" transform=\"translate(208.47837475988126, 64.09601399245143)\"><circle r=\"5.0\"></circle></g></g></g></g><g class=\"toyplot-coordinates-Axis\" id=\"tc0069e46103240f0a197c339b42b6764\" transform=\"translate(50.0,225.0)translate(0,15.0)\"><line x1=\"0\" y1=\"0\" x2=\"158.4783747598813\" y2=\"0\" style=\"\"></line><g><g transform=\"translate(0.0,6)\"><text x=\"-8.615\" y=\"8.555\" style=\"fill:rgb(16.1%,15.3%,14.1%);fill-opacity:1.0;font-family:helvetica;font-size:10.0px;font-weight:normal;stroke:none;vertical-align:baseline;white-space:pre\">-1.0</text></g><g transform=\"translate(52.82612491996043,6)\"><text x=\"-8.615\" y=\"8.555\" style=\"fill:rgb(16.1%,15.3%,14.1%);fill-opacity:1.0;font-family:helvetica;font-size:10.0px;font-weight:normal;stroke:none;vertical-align:baseline;white-space:pre\">-0.5</text></g><g transform=\"translate(105.65224983992086,6)\"><text x=\"-6.95\" y=\"8.555\" style=\"fill:rgb(16.1%,15.3%,14.1%);fill-opacity:1.0;font-family:helvetica;font-size:10.0px;font-weight:normal;stroke:none;vertical-align:baseline;white-space:pre\">0.0</text></g><g transform=\"translate(158.4783747598813,6)\"><text x=\"-6.95\" y=\"8.555\" style=\"fill:rgb(16.1%,15.3%,14.1%);fill-opacity:1.0;font-family:helvetica;font-size:10.0px;font-weight:normal;stroke:none;vertical-align:baseline;white-space:pre\">0.5</text></g></g><g class=\"toyplot-coordinates-Axis-coordinates\" style=\"visibility:hidden\" transform=\"\"><line x1=\"0\" x2=\"0\" y1=\"-3.0\" y2=\"4.5\" style=\"stroke:rgb(43.9%,50.2%,56.5%);stroke-opacity:1.0;stroke-width:1.0\"></line><text x=\"0\" y=\"-6\" style=\"alignment-baseline:alphabetic;fill:rgb(43.9%,50.2%,56.5%);fill-opacity:1.0;font-size:10px;font-weight:normal;stroke:none;text-anchor:middle\"></text></g></g><g class=\"toyplot-coordinates-Axis\" id=\"t871169c4b2be479d9a783954768c78e5\" transform=\"translate(50.0,225.0)rotate(-90.0)translate(0,-15.0)\"><line x1=\"5.847832090582707\" y1=\"0\" x2=\"160.90398600754855\" y2=\"0\" style=\"\"></line><g><g transform=\"translate(5.847832090582707,-6)\"><text x=\"-2.78\" y=\"-4.440892098500626e-16\" style=\"fill:rgb(16.1%,15.3%,14.1%);fill-opacity:1.0;font-family:helvetica;font-size:10.0px;font-weight:normal;stroke:none;vertical-align:baseline;white-space:pre\">0</text></g><g transform=\"translate(62.23188806038847,-6)\"><text x=\"-2.78\" y=\"-4.440892098500626e-16\" style=\"fill:rgb(16.1%,15.3%,14.1%);fill-opacity:1.0;font-family:helvetica;font-size:10.0px;font-weight:normal;stroke:none;vertical-align:baseline;white-space:pre\">4</text></g><g transform=\"translate(118.61594403019424,-6)\"><text x=\"-2.78\" y=\"-4.440892098500626e-16\" style=\"fill:rgb(16.1%,15.3%,14.1%);fill-opacity:1.0;font-family:helvetica;font-size:10.0px;font-weight:normal;stroke:none;vertical-align:baseline;white-space:pre\">8</text></g><g transform=\"translate(175.0,-6)\"><text x=\"-5.56\" y=\"-4.440892098500626e-16\" style=\"fill:rgb(16.1%,15.3%,14.1%);fill-opacity:1.0;font-family:helvetica;font-size:10.0px;font-weight:normal;stroke:none;vertical-align:baseline;white-space:pre\">12</text></g></g><g class=\"toyplot-coordinates-Axis-coordinates\" style=\"visibility:hidden\" transform=\"\"><line x1=\"0\" x2=\"0\" y1=\"3.0\" y2=\"-4.5\" style=\"stroke:rgb(43.9%,50.2%,56.5%);stroke-opacity:1.0;stroke-width:1.0\"></line><text x=\"0\" y=\"6\" style=\"alignment-baseline:hanging;fill:rgb(43.9%,50.2%,56.5%);fill-opacity:1.0;font-size:10px;font-weight:normal;stroke:none;text-anchor:middle\"></text></g></g></g></svg><div class=\"toyplot-behavior\"><script>(function()\n",
       "{\n",
       "var modules={};\n",
       "modules[\"toyplot/tables\"] = (function()\n",
       "    {\n",
       "        var tables = [];\n",
       "\n",
       "        var module = {};\n",
       "\n",
       "        module.set = function(owner, key, names, columns)\n",
       "        {\n",
       "            tables.push({owner: owner, key: key, names: names, columns: columns});\n",
       "        }\n",
       "\n",
       "        module.get = function(owner, key)\n",
       "        {\n",
       "            for(var i = 0; i != tables.length; ++i)\n",
       "            {\n",
       "                var table = tables[i];\n",
       "                if(table.owner != owner)\n",
       "                    continue;\n",
       "                if(table.key != key)\n",
       "                    continue;\n",
       "                return {names: table.names, columns: table.columns};\n",
       "            }\n",
       "        }\n",
       "\n",
       "        module.get_csv = function(owner, key)\n",
       "        {\n",
       "            var table = module.get(owner, key);\n",
       "            if(table != undefined)\n",
       "            {\n",
       "                var csv = \"\";\n",
       "                csv += table.names.join(\",\") + \"\\n\";\n",
       "                for(var i = 0; i != table.columns[0].length; ++i)\n",
       "                {\n",
       "                  for(var j = 0; j != table.columns.length; ++j)\n",
       "                  {\n",
       "                    if(j)\n",
       "                      csv += \",\";\n",
       "                    csv += table.columns[j][i];\n",
       "                  }\n",
       "                  csv += \"\\n\";\n",
       "                }\n",
       "                return csv;\n",
       "            }\n",
       "        }\n",
       "\n",
       "        return module;\n",
       "    })();\n",
       "modules[\"toyplot/root/id\"] = \"t0107d370866c4fe5b842f41fb1887391\";\n",
       "modules[\"toyplot/root\"] = (function(root_id)\n",
       "    {\n",
       "        return document.querySelector(\"#\" + root_id);\n",
       "    })(modules[\"toyplot/root/id\"]);\n",
       "modules[\"toyplot/canvas/id\"] = \"t11009a5b21984964be02245f5fa83f4c\";\n",
       "modules[\"toyplot/canvas\"] = (function(canvas_id)\n",
       "    {\n",
       "        return document.querySelector(\"#\" + canvas_id);\n",
       "    })(modules[\"toyplot/canvas/id\"]);\n",
       "modules[\"toyplot/menus/context\"] = (function(root, canvas)\n",
       "    {\n",
       "        var wrapper = document.createElement(\"div\");\n",
       "        wrapper.innerHTML = \"<ul class='toyplot-context-menu' style='background:#eee; border:1px solid #b8b8b8; border-radius:5px; box-shadow: 0px 0px 8px rgba(0%,0%,0%,0.25); margin:0; padding:3px 0; position:fixed; visibility:hidden;'></ul>\"\n",
       "        var menu = wrapper.firstChild;\n",
       "\n",
       "        root.appendChild(menu);\n",
       "\n",
       "        var items = [];\n",
       "\n",
       "        var ignore_mouseup = null;\n",
       "        function open_menu(e)\n",
       "        {\n",
       "            var show_menu = false;\n",
       "            for(var index=0; index != items.length; ++index)\n",
       "            {\n",
       "                var item = items[index];\n",
       "                if(item.show(e))\n",
       "                {\n",
       "                    item.item.style.display = \"block\";\n",
       "                    show_menu = true;\n",
       "                }\n",
       "                else\n",
       "                {\n",
       "                    item.item.style.display = \"none\";\n",
       "                }\n",
       "            }\n",
       "\n",
       "            if(show_menu)\n",
       "            {\n",
       "                ignore_mouseup = true;\n",
       "                menu.style.left = (e.clientX + 1) + \"px\";\n",
       "                menu.style.top = (e.clientY - 5) + \"px\";\n",
       "                menu.style.visibility = \"visible\";\n",
       "                e.stopPropagation();\n",
       "                e.preventDefault();\n",
       "            }\n",
       "        }\n",
       "\n",
       "        function close_menu()\n",
       "        {\n",
       "            menu.style.visibility = \"hidden\";\n",
       "        }\n",
       "\n",
       "        function contextmenu(e)\n",
       "        {\n",
       "            open_menu(e);\n",
       "        }\n",
       "\n",
       "        function mousemove(e)\n",
       "        {\n",
       "            ignore_mouseup = false;\n",
       "        }\n",
       "\n",
       "        function mouseup(e)\n",
       "        {\n",
       "            if(ignore_mouseup)\n",
       "            {\n",
       "                ignore_mouseup = false;\n",
       "                return;\n",
       "            }\n",
       "            close_menu();\n",
       "        }\n",
       "\n",
       "        function keydown(e)\n",
       "        {\n",
       "            if(e.key == \"Escape\" || e.key == \"Esc\" || e.keyCode == 27)\n",
       "            {\n",
       "                close_menu();\n",
       "            }\n",
       "        }\n",
       "\n",
       "        canvas.addEventListener(\"contextmenu\", contextmenu);\n",
       "        canvas.addEventListener(\"mousemove\", mousemove);\n",
       "        document.addEventListener(\"mouseup\", mouseup);\n",
       "        document.addEventListener(\"keydown\", keydown);\n",
       "\n",
       "        var module = {};\n",
       "        module.add_item = function(label, show, activate)\n",
       "        {\n",
       "            var wrapper = document.createElement(\"div\");\n",
       "            wrapper.innerHTML = \"<li class='toyplot-context-menu-item' style='background:#eee; color:#333; padding:2px 20px; list-style:none; margin:0; text-align:left;'>\" + label + \"</li>\"\n",
       "            var item = wrapper.firstChild;\n",
       "\n",
       "            items.push({item: item, show: show});\n",
       "\n",
       "            function mouseover()\n",
       "            {\n",
       "                this.style.background = \"steelblue\";\n",
       "                this.style.color = \"white\";\n",
       "            }\n",
       "\n",
       "            function mouseout()\n",
       "            {\n",
       "                this.style.background = \"#eee\";\n",
       "                this.style.color = \"#333\";\n",
       "            }\n",
       "\n",
       "            function choose_item(e)\n",
       "            {\n",
       "                close_menu();\n",
       "                activate();\n",
       "\n",
       "                e.stopPropagation();\n",
       "                e.preventDefault();\n",
       "            }\n",
       "\n",
       "            item.addEventListener(\"mouseover\", mouseover);\n",
       "            item.addEventListener(\"mouseout\", mouseout);\n",
       "            item.addEventListener(\"mouseup\", choose_item);\n",
       "            item.addEventListener(\"contextmenu\", choose_item);\n",
       "\n",
       "            menu.appendChild(item);\n",
       "        };\n",
       "        return module;\n",
       "    })(modules[\"toyplot/root\"],modules[\"toyplot/canvas\"]);\n",
       "modules[\"toyplot/io\"] = (function()\n",
       "    {\n",
       "        var module = {};\n",
       "        module.save_file = function(mime_type, charset, data, filename)\n",
       "        {\n",
       "            var uri = \"data:\" + mime_type + \";charset=\" + charset + \",\" + data;\n",
       "            uri = encodeURI(uri);\n",
       "\n",
       "            var link = document.createElement(\"a\");\n",
       "            if(typeof link.download != \"undefined\")\n",
       "            {\n",
       "              link.href = uri;\n",
       "              link.style = \"visibility:hidden\";\n",
       "              link.download = filename;\n",
       "\n",
       "              document.body.appendChild(link);\n",
       "              link.click();\n",
       "              document.body.removeChild(link);\n",
       "            }\n",
       "            else\n",
       "            {\n",
       "              window.open(uri);\n",
       "            }\n",
       "        };\n",
       "        return module;\n",
       "    })();\n",
       "modules[\"toyplot.coordinates.Axis\"] = (\n",
       "        function(canvas)\n",
       "        {\n",
       "            function sign(x)\n",
       "            {\n",
       "                return x < 0 ? -1 : x > 0 ? 1 : 0;\n",
       "            }\n",
       "\n",
       "            function mix(a, b, amount)\n",
       "            {\n",
       "                return ((1.0 - amount) * a) + (amount * b);\n",
       "            }\n",
       "\n",
       "            function log(x, base)\n",
       "            {\n",
       "                return Math.log(Math.abs(x)) / Math.log(base);\n",
       "            }\n",
       "\n",
       "            function in_range(a, x, b)\n",
       "            {\n",
       "                var left = Math.min(a, b);\n",
       "                var right = Math.max(a, b);\n",
       "                return left <= x && x <= right;\n",
       "            }\n",
       "\n",
       "            function inside(range, projection)\n",
       "            {\n",
       "                for(var i = 0; i != projection.length; ++i)\n",
       "                {\n",
       "                    var segment = projection[i];\n",
       "                    if(in_range(segment.range.min, range, segment.range.max))\n",
       "                        return true;\n",
       "                }\n",
       "                return false;\n",
       "            }\n",
       "\n",
       "            function to_domain(range, projection)\n",
       "            {\n",
       "                for(var i = 0; i != projection.length; ++i)\n",
       "                {\n",
       "                    var segment = projection[i];\n",
       "                    if(in_range(segment.range.bounds.min, range, segment.range.bounds.max))\n",
       "                    {\n",
       "                        if(segment.scale == \"linear\")\n",
       "                        {\n",
       "                            var amount = (range - segment.range.min) / (segment.range.max - segment.range.min);\n",
       "                            return mix(segment.domain.min, segment.domain.max, amount)\n",
       "                        }\n",
       "                        else if(segment.scale[0] == \"log\")\n",
       "                        {\n",
       "                            var amount = (range - segment.range.min) / (segment.range.max - segment.range.min);\n",
       "                            var base = segment.scale[1];\n",
       "                            return sign(segment.domain.min) * Math.pow(base, mix(log(segment.domain.min, base), log(segment.domain.max, base), amount));\n",
       "                        }\n",
       "                    }\n",
       "                }\n",
       "            }\n",
       "\n",
       "            var axes = {};\n",
       "\n",
       "            function display_coordinates(e)\n",
       "            {\n",
       "                var current = canvas.createSVGPoint();\n",
       "                current.x = e.clientX;\n",
       "                current.y = e.clientY;\n",
       "\n",
       "                for(var axis_id in axes)\n",
       "                {\n",
       "                    var axis = document.querySelector(\"#\" + axis_id);\n",
       "                    var coordinates = axis.querySelector(\".toyplot-coordinates-Axis-coordinates\");\n",
       "                    if(coordinates)\n",
       "                    {\n",
       "                        var projection = axes[axis_id];\n",
       "                        var local = current.matrixTransform(axis.getScreenCTM().inverse());\n",
       "                        if(inside(local.x, projection))\n",
       "                        {\n",
       "                            var domain = to_domain(local.x, projection);\n",
       "                            coordinates.style.visibility = \"visible\";\n",
       "                            coordinates.setAttribute(\"transform\", \"translate(\" + local.x + \")\");\n",
       "                            var text = coordinates.querySelector(\"text\");\n",
       "                            text.textContent = domain.toFixed(2);\n",
       "                        }\n",
       "                        else\n",
       "                        {\n",
       "                            coordinates.style.visibility= \"hidden\";\n",
       "                        }\n",
       "                    }\n",
       "                }\n",
       "            }\n",
       "\n",
       "            canvas.addEventListener(\"click\", display_coordinates);\n",
       "\n",
       "            var module = {};\n",
       "            module.show_coordinates = function(axis_id, projection)\n",
       "            {\n",
       "                axes[axis_id] = projection;\n",
       "            }\n",
       "\n",
       "            return module;\n",
       "        })(modules[\"toyplot/canvas\"]);\n",
       "(function(tables, context_menu, io, owner_id, key, label, names, columns, filename)\n",
       "        {\n",
       "            tables.set(owner_id, key, names, columns);\n",
       "\n",
       "            var owner = document.querySelector(\"#\" + owner_id);\n",
       "            function show_item(e)\n",
       "            {\n",
       "                return owner.contains(e.target);\n",
       "            }\n",
       "\n",
       "            function choose_item()\n",
       "            {\n",
       "                io.save_file(\"text/csv\", \"utf-8\", tables.get_csv(owner_id, key), filename + \".csv\");\n",
       "            }\n",
       "\n",
       "            context_menu.add_item(\"Save \" + label + \" as CSV\", show_item, choose_item);\n",
       "        })(modules[\"toyplot/tables\"],modules[\"toyplot/menus/context\"],modules[\"toyplot/io\"],\"t2ca69f9778bf41beb2f913f996faf79c\",\"data\",\"point\",[\"x\", \"y0\"],[[0.5, 0.5, 0.5, 0.5, 0.5, 0.5, 0.5, 0.5, 0.5, 0.5, 0.5, 0.5], [0.0, 1.0, 2.0, 3.0, 4.0, 5.0, 6.0, 7.0, 8.0, 9.0, 10.0, 11.0]],\"toyplot\");\n",
       "(function(axis, axis_id, projection)\n",
       "        {\n",
       "            axis.show_coordinates(axis_id, projection);\n",
       "        })(modules[\"toyplot.coordinates.Axis\"],\"tc0069e46103240f0a197c339b42b6764\",[{\"domain\": {\"bounds\": {\"max\": Infinity, \"min\": -Infinity}, \"max\": 0.5617272727272724, \"min\": -1.0}, \"range\": {\"bounds\": {\"max\": Infinity, \"min\": -Infinity}, \"max\": 165.0, \"min\": 0.0}, \"scale\": \"linear\"}]);\n",
       "(function(axis, axis_id, projection)\n",
       "        {\n",
       "            axis.show_coordinates(axis_id, projection);\n",
       "        })(modules[\"toyplot.coordinates.Axis\"],\"t871169c4b2be479d9a783954768c78e5\",[{\"domain\": {\"bounds\": {\"max\": Infinity, \"min\": -Infinity}, \"max\": 12.0, \"min\": -0.4148571428571425}, \"range\": {\"bounds\": {\"max\": Infinity, \"min\": -Infinity}, \"max\": 175.0, \"min\": 0.0}, \"scale\": \"linear\"}]);\n",
       "})();</script></div></div>"
      ]
     },
     "metadata": {},
     "output_type": "display_data"
    }
   ],
   "source": [
    "# store the returned Canvas and Axes objects\n",
    "canvas, axes, mark = tre.draw()\n",
    "axes.scatterplot(\n",
    "    np.repeat(0.5, tre.ntips),\n",
    "    np.arange(tre.ntips),\n",
    "    size=10,\n",
    "    mstyle={\"fill\": \"orange\", \"stroke\": \"none\"},\n",
    ");\n",
    "axes.show = True"
   ]
  }
 ],
 "metadata": {
  "kernelspec": {
   "display_name": "Python 3",
   "language": "python",
   "name": "python3"
  },
  "language_info": {
   "codemirror_mode": {
    "name": "ipython",
    "version": 3
   },
   "file_extension": ".py",
   "mimetype": "text/x-python",
   "name": "python",
   "nbconvert_exporter": "python",
   "pygments_lexer": "ipython3",
   "version": "3.8.8"
  }
 },
 "nbformat": 4,
 "nbformat_minor": 2
}
