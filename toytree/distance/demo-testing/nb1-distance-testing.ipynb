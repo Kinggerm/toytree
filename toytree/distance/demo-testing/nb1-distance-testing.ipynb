{
 "cells": [
  {
   "cell_type": "markdown",
   "id": "aboriginal-concentrate",
   "metadata": {},
   "source": [
    "## nb1 Distance module testing\n",
    "\n",
    "Toytree distance module in development"
   ]
  },
  {
   "cell_type": "code",
   "execution_count": 13,
   "id": "spread-gardening",
   "metadata": {},
   "outputs": [],
   "source": [
    "import toytree\n",
    "import ipcoal\n",
    "import pandas as pd\n",
    "import numpy as np"
   ]
  },
  {
   "cell_type": "markdown",
   "id": "talented-sight",
   "metadata": {},
   "source": [
    "### Workflow\n",
    "\n",
    "1. Input: toytrees\n",
    "2. User options:\n",
    "    - Type of distance metric: RF vs. quartets\n",
    "    - `sampmethod` = Consensus vs. pairwise vs. random \n",
    "    - `consensustree` = set as None by default (generate consensus tree for user) OR user provides consensus tree \n",
    "4. Output: pandas dataframe with tree #s compared and respective distance metric calculation"
   ]
  },
  {
   "cell_type": "code",
   "execution_count": 38,
   "id": "invalid-partner",
   "metadata": {},
   "outputs": [
    {
     "data": {
      "text/html": [
       "<div class=\"toyplot\" id=\"taa7c32740a404c1592220ddc74114db2\" style=\"text-align:center\"><svg class=\"toyplot-canvas-Canvas\" xmlns:toyplot=\"http://www.sandia.gov/toyplot\" xmlns:xlink=\"http://www.w3.org/1999/xlink\" xmlns=\"http://www.w3.org/2000/svg\" width=\"450.0px\" height=\"250.0px\" viewBox=\"0 0 450.0 250.0\" preserveAspectRatio=\"xMidYMid meet\" style=\"background-color:transparent;border-color:#292724;border-style:none;border-width:1.0;fill:rgb(16.1%,15.3%,14.1%);fill-opacity:1.0;font-family:Helvetica;font-size:12px;opacity:1.0;stroke:rgb(16.1%,15.3%,14.1%);stroke-opacity:1.0;stroke-width:1.0\" id=\"t898a950fc00e494d82164d580b759f39\"><g class=\"toyplot-coordinates-Cartesian\" id=\"t37f8a7f3054c40d8b8838aa9cffa2cf1\"><clipPath id=\"t77caa1f3cd6440ebb63dad213eee3f66\"><rect x=\"20.0\" y=\"40.0\" width=\"205.0\" height=\"170.0\"></rect></clipPath><g clip-path=\"url(#t77caa1f3cd6440ebb63dad213eee3f66)\"><g class=\"toytree-mark-Toytree\" id=\"td3d8ad9cc3b44b70bbb5515dd3131297\"><g class=\"toytree-Edges\" style=\"fill:none;stroke:rgba(16.1%,15.3%,14.1%,1.000);stroke-linecap:round;stroke-width:2.0\"><path d=\"M 51.2 78.8 L 36.9 171.0\" id=\"16,0\" style=\"stroke-width:2.0\"></path><path d=\"M 65.5 101.8 L 56.0 171.0\" id=\"13,1\" style=\"stroke-width:2.0\"></path><path d=\"M 65.5 101.8 L 75.0 171.0\" id=\"13,2\" style=\"stroke-width:2.0\"></path><path d=\"M 103.5 124.9 L 94.0 171.0\" id=\"11,3\" style=\"stroke-width:2.0\"></path><path d=\"M 103.5 124.9 L 113.0 171.0\" id=\"11,4\" style=\"stroke-width:2.0\"></path><path d=\"M 117.7 101.8 L 132.0 171.0\" id=\"14,5\" style=\"stroke-width:2.0\"></path><path d=\"M 172.4 101.8 L 151.0 171.0\" id=\"15,6\" style=\"stroke-width:2.0\"></path><path d=\"M 179.5 147.9 L 170.0 171.0\" id=\"10,7\" style=\"stroke-width:2.0\"></path><path d=\"M 179.5 147.9 L 189.0 171.0\" id=\"10,8\" style=\"stroke-width:2.0\"></path><path d=\"M 193.8 124.9 L 208.1 171.0\" id=\"12,9\" style=\"stroke-width:2.0\"></path><path d=\"M 193.8 124.9 L 179.5 147.9\" id=\"12,10\" style=\"stroke-width:2.0\"></path><path d=\"M 117.7 101.8 L 103.5 124.9\" id=\"14,11\" style=\"stroke-width:2.0\"></path><path d=\"M 172.4 101.8 L 193.8 124.9\" id=\"15,12\" style=\"stroke-width:2.0\"></path><path d=\"M 51.2 78.8 L 65.5 101.8\" id=\"16,13\" style=\"stroke-width:2.0\"></path><path d=\"M 145.1 78.8 L 117.7 101.8\" id=\"17,14\" style=\"stroke-width:2.0\"></path><path d=\"M 145.1 78.8 L 172.4 101.8\" id=\"17,15\" style=\"stroke-width:2.0\"></path><path d=\"M 98.1 55.8 L 51.2 78.8\" id=\"18,16\" style=\"stroke-width:2.0\"></path><path d=\"M 98.1 55.8 L 145.1 78.8\" id=\"18,17\" style=\"stroke-width:2.0\"></path></g><g class=\"toytree-Nodes\" style=\"fill:rgba(40.0%,76.1%,64.7%,1.000);stroke:#262626;stroke-width:1.0\"><g id=\"node-0\" transform=\"translate(36.938,170.980)\"><circle r=\"7.5\"></circle></g><g id=\"node-1\" transform=\"translate(55.951,170.980)\"><circle r=\"7.5\"></circle></g><g id=\"node-2\" transform=\"translate(74.965,170.980)\"><circle r=\"7.5\"></circle></g><g id=\"node-3\" transform=\"translate(93.979,170.980)\"><circle r=\"7.5\"></circle></g><g id=\"node-4\" transform=\"translate(112.993,170.980)\"><circle r=\"7.5\"></circle></g><g id=\"node-5\" transform=\"translate(132.007,170.980)\"><circle r=\"7.5\"></circle></g><g id=\"node-6\" transform=\"translate(151.021,170.980)\"><circle r=\"7.5\"></circle></g><g id=\"node-7\" transform=\"translate(170.035,170.980)\"><circle r=\"7.5\"></circle></g><g id=\"node-8\" transform=\"translate(189.049,170.980)\"><circle r=\"7.5\"></circle></g><g id=\"node-9\" transform=\"translate(208.062,170.980)\"><circle r=\"7.5\"></circle></g><g id=\"node-10\" transform=\"translate(179.542,147.936)\"><circle r=\"7.5\"></circle></g><g id=\"node-11\" transform=\"translate(103.486,124.892)\"><circle r=\"7.5\"></circle></g><g id=\"node-12\" transform=\"translate(193.802,124.892)\"><circle r=\"7.5\"></circle></g><g id=\"node-13\" transform=\"translate(65.458,101.849)\"><circle r=\"7.5\"></circle></g><g id=\"node-14\" transform=\"translate(117.747,101.849)\"><circle r=\"7.5\"></circle></g><g id=\"node-15\" transform=\"translate(172.411,101.849)\"><circle r=\"7.5\"></circle></g><g id=\"node-16\" transform=\"translate(51.198,78.805)\"><circle r=\"7.5\"></circle></g><g id=\"node-17\" transform=\"translate(145.079,78.805)\"><circle r=\"7.5\"></circle></g><g id=\"node-18\" transform=\"translate(98.138,55.761)\"><circle r=\"7.5\"></circle></g></g><g class=\"toytree-NodeLabels\" style=\"font-family:Helvetica;font-size:9.0px;font-weight:300;stroke:none;vertical-align:baseline;white-space:pre\"><g class=\"toytree-NodeLabel\" transform=\"translate(36.9375,170.98013109381398)\"><text x=\"-2.5020000000000002\" y=\"2.2995\" style=\"fill:rgb(16.1%,15.3%,14.1%);fill-opacity:1.0\">0</text></g><g class=\"toytree-NodeLabel\" transform=\"translate(55.951388888888886,170.98013109381398)\"><text x=\"-2.5020000000000002\" y=\"2.2995\" style=\"fill:rgb(16.1%,15.3%,14.1%);fill-opacity:1.0\">1</text></g><g class=\"toytree-NodeLabel\" transform=\"translate(74.96527777777777,170.98013109381398)\"><text x=\"-2.5020000000000002\" y=\"2.2995\" style=\"fill:rgb(16.1%,15.3%,14.1%);fill-opacity:1.0\">2</text></g><g class=\"toytree-NodeLabel\" transform=\"translate(93.97916666666667,170.98013109381398)\"><text x=\"-2.5020000000000002\" y=\"2.2995\" style=\"fill:rgb(16.1%,15.3%,14.1%);fill-opacity:1.0\">3</text></g><g class=\"toytree-NodeLabel\" transform=\"translate(112.99305555555556,170.98013109381398)\"><text x=\"-2.5020000000000002\" y=\"2.2995\" style=\"fill:rgb(16.1%,15.3%,14.1%);fill-opacity:1.0\">4</text></g><g class=\"toytree-NodeLabel\" transform=\"translate(132.00694444444446,170.98013109381398)\"><text x=\"-2.5020000000000002\" y=\"2.2995\" style=\"fill:rgb(16.1%,15.3%,14.1%);fill-opacity:1.0\">5</text></g><g class=\"toytree-NodeLabel\" transform=\"translate(151.02083333333334,170.98013109381398)\"><text x=\"-2.5020000000000002\" y=\"2.2995\" style=\"fill:rgb(16.1%,15.3%,14.1%);fill-opacity:1.0\">6</text></g><g class=\"toytree-NodeLabel\" transform=\"translate(170.0347222222222,170.98013109381398)\"><text x=\"-2.5020000000000002\" y=\"2.2995\" style=\"fill:rgb(16.1%,15.3%,14.1%);fill-opacity:1.0\">7</text></g><g class=\"toytree-NodeLabel\" transform=\"translate(189.04861111111111,170.98013109381398)\"><text x=\"-2.5020000000000002\" y=\"2.2995\" style=\"fill:rgb(16.1%,15.3%,14.1%);fill-opacity:1.0\">8</text></g><g class=\"toytree-NodeLabel\" transform=\"translate(208.0625,170.98013109381398)\"><text x=\"-2.5020000000000002\" y=\"2.2995\" style=\"fill:rgb(16.1%,15.3%,14.1%);fill-opacity:1.0\">9</text></g><g class=\"toytree-NodeLabel\" transform=\"translate(179.54166666666666,147.9362965997542)\"><text x=\"-5.0040000000000004\" y=\"2.2995\" style=\"fill:rgb(16.1%,15.3%,14.1%);fill-opacity:1.0\">10</text></g><g class=\"toytree-NodeLabel\" transform=\"translate(103.48611111111111,124.89246210569439)\"><text x=\"-5.0040000000000004\" y=\"2.2995\" style=\"fill:rgb(16.1%,15.3%,14.1%);fill-opacity:1.0\">11</text></g><g class=\"toytree-NodeLabel\" transform=\"translate(193.80208333333331,124.89246210569439)\"><text x=\"-5.0040000000000004\" y=\"2.2995\" style=\"fill:rgb(16.1%,15.3%,14.1%);fill-opacity:1.0\">12</text></g><g class=\"toytree-NodeLabel\" transform=\"translate(65.45833333333334,101.84862761163458)\"><text x=\"-5.0040000000000004\" y=\"2.2995\" style=\"fill:rgb(16.1%,15.3%,14.1%);fill-opacity:1.0\">13</text></g><g class=\"toytree-NodeLabel\" transform=\"translate(117.74652777777777,101.84862761163458)\"><text x=\"-5.0040000000000004\" y=\"2.2995\" style=\"fill:rgb(16.1%,15.3%,14.1%);fill-opacity:1.0\">14</text></g><g class=\"toytree-NodeLabel\" transform=\"translate(172.41145833333334,101.84862761163457)\"><text x=\"-5.0040000000000004\" y=\"2.2995\" style=\"fill:rgb(16.1%,15.3%,14.1%);fill-opacity:1.0\">15</text></g><g class=\"toytree-NodeLabel\" transform=\"translate(51.19791666666667,78.80479311757477)\"><text x=\"-5.0040000000000004\" y=\"2.2995\" style=\"fill:rgb(16.1%,15.3%,14.1%);fill-opacity:1.0\">16</text></g><g class=\"toytree-NodeLabel\" transform=\"translate(145.07899305555554,78.80479311757477)\"><text x=\"-5.0040000000000004\" y=\"2.2995\" style=\"fill:rgb(16.1%,15.3%,14.1%);fill-opacity:1.0\">17</text></g><g class=\"toytree-NodeLabel\" transform=\"translate(98.13845486111111,55.76095862351495)\"><text x=\"-5.0040000000000004\" y=\"2.2995\" style=\"fill:rgb(16.1%,15.3%,14.1%);fill-opacity:1.0\">18</text></g></g><g class=\"toytree-TipLabels\" style=\"fill:rgb(16.1%,15.3%,14.1%);fill-opacity:1.0;font-family:Helvetica;font-size:10.0px;font-weight:300;stroke:none;vertical-align:baseline;white-space:pre\"><g class=\"toytree-TipLabel\" transform=\"translate(36.9375,170.98013109381398)rotate(90.0)\"><text x=\"10.0\" y=\"2.5549999999999997\" style=\"\">r0</text></g><g class=\"toytree-TipLabel\" transform=\"translate(55.951388888888886,170.98013109381398)rotate(90.0)\"><text x=\"10.0\" y=\"2.5549999999999997\" style=\"\">r1</text></g><g class=\"toytree-TipLabel\" transform=\"translate(74.96527777777777,170.98013109381398)rotate(90.0)\"><text x=\"10.0\" y=\"2.5549999999999997\" style=\"\">r2</text></g><g class=\"toytree-TipLabel\" transform=\"translate(93.97916666666667,170.98013109381398)rotate(90.0)\"><text x=\"10.0\" y=\"2.5549999999999997\" style=\"\">r3</text></g><g class=\"toytree-TipLabel\" transform=\"translate(112.99305555555556,170.98013109381398)rotate(90.0)\"><text x=\"10.0\" y=\"2.5549999999999997\" style=\"\">r4</text></g><g class=\"toytree-TipLabel\" transform=\"translate(132.00694444444446,170.98013109381398)rotate(90.0)\"><text x=\"10.0\" y=\"2.5549999999999997\" style=\"\">r5</text></g><g class=\"toytree-TipLabel\" transform=\"translate(151.02083333333334,170.98013109381398)rotate(90.0)\"><text x=\"10.0\" y=\"2.5549999999999997\" style=\"\">r6</text></g><g class=\"toytree-TipLabel\" transform=\"translate(170.0347222222222,170.98013109381398)rotate(90.0)\"><text x=\"10.0\" y=\"2.5549999999999997\" style=\"\">r7</text></g><g class=\"toytree-TipLabel\" transform=\"translate(189.04861111111111,170.98013109381398)rotate(90.0)\"><text x=\"10.0\" y=\"2.5549999999999997\" style=\"\">r8</text></g><g class=\"toytree-TipLabel\" transform=\"translate(208.0625,170.98013109381398)rotate(90.0)\"><text x=\"10.0\" y=\"2.5549999999999997\" style=\"\">r9</text></g></g></g></g></g><g class=\"toyplot-coordinates-Cartesian\" id=\"t8c7fcfacc80d4dd392a75a9c167d12c7\"><clipPath id=\"ta020a90e9cdf44808879f822a59c93f1\"><rect x=\"245.0\" y=\"40.0\" width=\"205.0\" height=\"170.0\"></rect></clipPath><g clip-path=\"url(#ta020a90e9cdf44808879f822a59c93f1)\"><g class=\"toytree-mark-Toytree\" id=\"tb58c8c20d01147cd832a6ddec4d8c40f\"><g class=\"toytree-Edges\" style=\"fill:none;stroke:rgba(16.1%,15.3%,14.1%,1.000);stroke-linecap:round;stroke-width:2.0\"><path d=\"M 285.7 113.4 L 261.9 171.0\" id=\"13,0\" style=\"stroke-width:2.0\"></path><path d=\"M 290.5 151.8 L 281.0 171.0\" id=\"10,1\" style=\"stroke-width:2.0\"></path><path d=\"M 290.5 151.8 L 300.0 171.0\" id=\"10,2\" style=\"stroke-width:2.0\"></path><path d=\"M 328.5 151.8 L 319.0 171.0\" id=\"11,3\" style=\"stroke-width:2.0\"></path><path d=\"M 328.5 151.8 L 338.0 171.0\" id=\"11,4\" style=\"stroke-width:2.0\"></path><path d=\"M 321.4 94.2 L 357.0 171.0\" id=\"15,5\" style=\"stroke-width:2.0\"></path><path d=\"M 385.5 113.4 L 376.0 171.0\" id=\"14,6\" style=\"stroke-width:2.0\"></path><path d=\"M 385.5 113.4 L 395.0 171.0\" id=\"14,7\" style=\"stroke-width:2.0\"></path><path d=\"M 399.8 94.2 L 414.0 171.0\" id=\"16,8\" style=\"stroke-width:2.0\"></path><path d=\"M 396.8 55.8 L 433.1 171.0\" id=\"18,9\" style=\"stroke-width:2.0\"></path><path d=\"M 309.5 132.6 L 290.5 151.8\" id=\"12,10\" style=\"stroke-width:2.0\"></path><path d=\"M 309.5 132.6 L 328.5 151.8\" id=\"12,11\" style=\"stroke-width:2.0\"></path><path d=\"M 285.7 113.4 L 309.5 132.6\" id=\"13,12\" style=\"stroke-width:2.0\"></path><path d=\"M 321.4 94.2 L 285.7 113.4\" id=\"15,13\" style=\"stroke-width:2.0\"></path><path d=\"M 399.8 94.2 L 385.5 113.4\" id=\"16,14\" style=\"stroke-width:2.0\"></path><path d=\"M 360.6 75.0 L 321.4 94.2\" id=\"17,15\" style=\"stroke-width:2.0\"></path><path d=\"M 360.6 75.0 L 399.8 94.2\" id=\"17,16\" style=\"stroke-width:2.0\"></path><path d=\"M 396.8 55.8 L 360.6 75.0\" id=\"18,17\" style=\"stroke-width:2.0\"></path></g><g class=\"toytree-Nodes\" style=\"fill:rgba(40.0%,76.1%,64.7%,1.000);stroke:#262626;stroke-width:1.0\"><g id=\"node-0\" transform=\"translate(261.938,170.980)\"><circle r=\"7.5\"></circle></g><g id=\"node-1\" transform=\"translate(280.951,170.980)\"><circle r=\"7.5\"></circle></g><g id=\"node-2\" transform=\"translate(299.965,170.980)\"><circle r=\"7.5\"></circle></g><g id=\"node-3\" transform=\"translate(318.979,170.980)\"><circle r=\"7.5\"></circle></g><g id=\"node-4\" transform=\"translate(337.993,170.980)\"><circle r=\"7.5\"></circle></g><g id=\"node-5\" transform=\"translate(357.007,170.980)\"><circle r=\"7.5\"></circle></g><g id=\"node-6\" transform=\"translate(376.021,170.980)\"><circle r=\"7.5\"></circle></g><g id=\"node-7\" transform=\"translate(395.035,170.980)\"><circle r=\"7.5\"></circle></g><g id=\"node-8\" transform=\"translate(414.049,170.980)\"><circle r=\"7.5\"></circle></g><g id=\"node-9\" transform=\"translate(433.062,170.980)\"><circle r=\"7.5\"></circle></g><g id=\"node-10\" transform=\"translate(290.458,151.777)\"><circle r=\"7.5\"></circle></g><g id=\"node-11\" transform=\"translate(328.486,151.777)\"><circle r=\"7.5\"></circle></g><g id=\"node-12\" transform=\"translate(309.472,132.574)\"><circle r=\"7.5\"></circle></g><g id=\"node-13\" transform=\"translate(285.705,113.371)\"><circle r=\"7.5\"></circle></g><g id=\"node-14\" transform=\"translate(385.528,113.371)\"><circle r=\"7.5\"></circle></g><g id=\"node-15\" transform=\"translate(321.356,94.167)\"><circle r=\"7.5\"></circle></g><g id=\"node-16\" transform=\"translate(399.788,94.167)\"><circle r=\"7.5\"></circle></g><g id=\"node-17\" transform=\"translate(360.572,74.964)\"><circle r=\"7.5\"></circle></g><g id=\"node-18\" transform=\"translate(396.817,55.761)\"><circle r=\"7.5\"></circle></g></g><g class=\"toytree-NodeLabels\" style=\"font-family:Helvetica;font-size:9.0px;font-weight:300;stroke:none;vertical-align:baseline;white-space:pre\"><g class=\"toytree-NodeLabel\" transform=\"translate(261.9375,170.98013109381398)\"><text x=\"-2.5020000000000002\" y=\"2.2995\" style=\"fill:rgb(16.1%,15.3%,14.1%);fill-opacity:1.0\">0</text></g><g class=\"toytree-NodeLabel\" transform=\"translate(280.9513888888889,170.98013109381398)\"><text x=\"-2.5020000000000002\" y=\"2.2995\" style=\"fill:rgb(16.1%,15.3%,14.1%);fill-opacity:1.0\">1</text></g><g class=\"toytree-NodeLabel\" transform=\"translate(299.96527777777777,170.98013109381398)\"><text x=\"-2.5020000000000002\" y=\"2.2995\" style=\"fill:rgb(16.1%,15.3%,14.1%);fill-opacity:1.0\">2</text></g><g class=\"toytree-NodeLabel\" transform=\"translate(318.97916666666663,170.98013109381398)\"><text x=\"-2.5020000000000002\" y=\"2.2995\" style=\"fill:rgb(16.1%,15.3%,14.1%);fill-opacity:1.0\">3</text></g><g class=\"toytree-NodeLabel\" transform=\"translate(337.99305555555554,170.98013109381398)\"><text x=\"-2.5020000000000002\" y=\"2.2995\" style=\"fill:rgb(16.1%,15.3%,14.1%);fill-opacity:1.0\">4</text></g><g class=\"toytree-NodeLabel\" transform=\"translate(357.00694444444446,170.98013109381398)\"><text x=\"-2.5020000000000002\" y=\"2.2995\" style=\"fill:rgb(16.1%,15.3%,14.1%);fill-opacity:1.0\">5</text></g><g class=\"toytree-NodeLabel\" transform=\"translate(376.0208333333333,170.98013109381398)\"><text x=\"-2.5020000000000002\" y=\"2.2995\" style=\"fill:rgb(16.1%,15.3%,14.1%);fill-opacity:1.0\">6</text></g><g class=\"toytree-NodeLabel\" transform=\"translate(395.03472222222223,170.98013109381398)\"><text x=\"-2.5020000000000002\" y=\"2.2995\" style=\"fill:rgb(16.1%,15.3%,14.1%);fill-opacity:1.0\">7</text></g><g class=\"toytree-NodeLabel\" transform=\"translate(414.04861111111114,170.98013109381398)\"><text x=\"-2.5020000000000002\" y=\"2.2995\" style=\"fill:rgb(16.1%,15.3%,14.1%);fill-opacity:1.0\">8</text></g><g class=\"toytree-NodeLabel\" transform=\"translate(433.0625,170.98013109381398)\"><text x=\"-2.5020000000000002\" y=\"2.2995\" style=\"fill:rgb(16.1%,15.3%,14.1%);fill-opacity:1.0\">9</text></g><g class=\"toytree-NodeLabel\" transform=\"translate(290.45833333333337,151.7769356820975)\"><text x=\"-5.0040000000000004\" y=\"2.2995\" style=\"fill:rgb(16.1%,15.3%,14.1%);fill-opacity:1.0\">10</text></g><g class=\"toytree-NodeLabel\" transform=\"translate(328.4861111111111,151.7769356820975)\"><text x=\"-5.0040000000000004\" y=\"2.2995\" style=\"fill:rgb(16.1%,15.3%,14.1%);fill-opacity:1.0\">11</text></g><g class=\"toytree-NodeLabel\" transform=\"translate(309.47222222222223,132.57374027038097)\"><text x=\"-5.0040000000000004\" y=\"2.2995\" style=\"fill:rgb(16.1%,15.3%,14.1%);fill-opacity:1.0\">12</text></g><g class=\"toytree-NodeLabel\" transform=\"translate(285.7048611111111,113.37054485866447)\"><text x=\"-5.0040000000000004\" y=\"2.2995\" style=\"fill:rgb(16.1%,15.3%,14.1%);fill-opacity:1.0\">13</text></g><g class=\"toytree-NodeLabel\" transform=\"translate(385.52777777777777,113.37054485866449)\"><text x=\"-5.0040000000000004\" y=\"2.2995\" style=\"fill:rgb(16.1%,15.3%,14.1%);fill-opacity:1.0\">14</text></g><g class=\"toytree-NodeLabel\" transform=\"translate(321.3559027777778,94.16734944694798)\"><text x=\"-5.0040000000000004\" y=\"2.2995\" style=\"fill:rgb(16.1%,15.3%,14.1%);fill-opacity:1.0\">15</text></g><g class=\"toytree-NodeLabel\" transform=\"translate(399.7881944444444,94.16734944694798)\"><text x=\"-5.0040000000000004\" y=\"2.2995\" style=\"fill:rgb(16.1%,15.3%,14.1%);fill-opacity:1.0\">16</text></g><g class=\"toytree-NodeLabel\" transform=\"translate(360.5720486111111,74.96415403523147)\"><text x=\"-5.0040000000000004\" y=\"2.2995\" style=\"fill:rgb(16.1%,15.3%,14.1%);fill-opacity:1.0\">17</text></g><g class=\"toytree-NodeLabel\" transform=\"translate(396.81727430555554,55.76095862351495)\"><text x=\"-5.0040000000000004\" y=\"2.2995\" style=\"fill:rgb(16.1%,15.3%,14.1%);fill-opacity:1.0\">18</text></g></g><g class=\"toytree-TipLabels\" style=\"fill:rgb(16.1%,15.3%,14.1%);fill-opacity:1.0;font-family:Helvetica;font-size:10.0px;font-weight:300;stroke:none;vertical-align:baseline;white-space:pre\"><g class=\"toytree-TipLabel\" transform=\"translate(261.9375,170.98013109381398)rotate(90.0)\"><text x=\"10.0\" y=\"2.5549999999999997\" style=\"\">r0</text></g><g class=\"toytree-TipLabel\" transform=\"translate(280.9513888888889,170.98013109381398)rotate(90.0)\"><text x=\"10.0\" y=\"2.5549999999999997\" style=\"\">r1</text></g><g class=\"toytree-TipLabel\" transform=\"translate(299.96527777777777,170.98013109381398)rotate(90.0)\"><text x=\"10.0\" y=\"2.5549999999999997\" style=\"\">r2</text></g><g class=\"toytree-TipLabel\" transform=\"translate(318.97916666666663,170.98013109381398)rotate(90.0)\"><text x=\"10.0\" y=\"2.5549999999999997\" style=\"\">r3</text></g><g class=\"toytree-TipLabel\" transform=\"translate(337.99305555555554,170.98013109381398)rotate(90.0)\"><text x=\"10.0\" y=\"2.5549999999999997\" style=\"\">r4</text></g><g class=\"toytree-TipLabel\" transform=\"translate(357.00694444444446,170.98013109381398)rotate(90.0)\"><text x=\"10.0\" y=\"2.5549999999999997\" style=\"\">r5</text></g><g class=\"toytree-TipLabel\" transform=\"translate(376.0208333333333,170.98013109381398)rotate(90.0)\"><text x=\"10.0\" y=\"2.5549999999999997\" style=\"\">r6</text></g><g class=\"toytree-TipLabel\" transform=\"translate(395.03472222222223,170.98013109381398)rotate(90.0)\"><text x=\"10.0\" y=\"2.5549999999999997\" style=\"\">r7</text></g><g class=\"toytree-TipLabel\" transform=\"translate(414.04861111111114,170.98013109381398)rotate(90.0)\"><text x=\"10.0\" y=\"2.5549999999999997\" style=\"\">r8</text></g><g class=\"toytree-TipLabel\" transform=\"translate(433.0625,170.98013109381398)rotate(90.0)\"><text x=\"10.0\" y=\"2.5549999999999997\" style=\"\">r9</text></g></g></g></g></g></svg><div class=\"toyplot-behavior\"><script>(function()\n",
       "{\n",
       "var modules={};\n",
       "})();</script></div></div>"
      ]
     },
     "metadata": {},
     "output_type": "display_data"
    }
   ],
   "source": [
    "# two trees\n",
    "tree1 = toytree.core.rtree.unittree(10, seed=123)\n",
    "tree2 = toytree.core.rtree.unittree(10, seed=321)\n",
    "\n",
    "\n",
    "# place trees in a list\n",
    "trees_list = [tree1, tree2]\n",
    "\n",
    "# display trees with multitree\n",
    "TREES = toytree.core.multitree.MultiTree(trees_list)\n",
    "TREES.draw(ts='p');"
   ]
  },
  {
   "cell_type": "markdown",
   "id": "binary-harassment",
   "metadata": {},
   "source": [
    "### Quartets\n",
    "Located as `quartets` class object within `treedist.py`"
   ]
  },
  {
   "cell_type": "code",
   "execution_count": 39,
   "id": "informed-photographer",
   "metadata": {},
   "outputs": [
    {
     "data": {
      "text/html": [
       "<div>\n",
       "<style scoped>\n",
       "    .dataframe tbody tr th:only-of-type {\n",
       "        vertical-align: middle;\n",
       "    }\n",
       "\n",
       "    .dataframe tbody tr th {\n",
       "        vertical-align: top;\n",
       "    }\n",
       "\n",
       "    .dataframe thead th {\n",
       "        text-align: right;\n",
       "    }\n",
       "</style>\n",
       "<table border=\"1\" class=\"dataframe\">\n",
       "  <thead>\n",
       "    <tr style=\"text-align: right;\">\n",
       "      <th></th>\n",
       "      <th>trees</th>\n",
       "      <th>Quartet_intersection</th>\n",
       "    </tr>\n",
       "  </thead>\n",
       "  <tbody>\n",
       "    <tr>\n",
       "      <th>0</th>\n",
       "      <td>0, 1</td>\n",
       "      <td>0.7</td>\n",
       "    </tr>\n",
       "  </tbody>\n",
       "</table>\n",
       "</div>"
      ],
      "text/plain": [
       "  trees  Quartet_intersection\n",
       "0  0, 1                   0.7"
      ]
     },
     "execution_count": 39,
     "metadata": {},
     "output_type": "execute_result"
    }
   ],
   "source": [
    "quart = toytree.distance.treedist.quartets(trees_list, \"pairwise\")\n",
    "quart.run()\n",
    "quart.data"
   ]
  },
  {
   "cell_type": "code",
   "execution_count": 40,
   "id": "extreme-habitat",
   "metadata": {},
   "outputs": [
    {
     "data": {
      "text/html": [
       "<div>\n",
       "<style scoped>\n",
       "    .dataframe tbody tr th:only-of-type {\n",
       "        vertical-align: middle;\n",
       "    }\n",
       "\n",
       "    .dataframe tbody tr th {\n",
       "        vertical-align: top;\n",
       "    }\n",
       "\n",
       "    .dataframe thead th {\n",
       "        text-align: right;\n",
       "    }\n",
       "</style>\n",
       "<table border=\"1\" class=\"dataframe\">\n",
       "  <thead>\n",
       "    <tr style=\"text-align: right;\">\n",
       "      <th></th>\n",
       "      <th>trees</th>\n",
       "      <th>Quartet_intersection</th>\n",
       "    </tr>\n",
       "  </thead>\n",
       "  <tbody>\n",
       "    <tr>\n",
       "      <th>0</th>\n",
       "      <td>0, 1</td>\n",
       "      <td>0.7</td>\n",
       "    </tr>\n",
       "  </tbody>\n",
       "</table>\n",
       "</div>"
      ],
      "text/plain": [
       "  trees  Quartet_intersection\n",
       "0  0, 1                   0.7"
      ]
     },
     "execution_count": 40,
     "metadata": {},
     "output_type": "execute_result"
    }
   ],
   "source": [
    "quart = toytree.distance.treedist.quartets(trees_list, \"random\")\n",
    "quart.run()\n",
    "quart.data"
   ]
  },
  {
   "cell_type": "code",
   "execution_count": 41,
   "id": "endless-following",
   "metadata": {},
   "outputs": [
    {
     "data": {
      "text/html": [
       "<div>\n",
       "<style scoped>\n",
       "    .dataframe tbody tr th:only-of-type {\n",
       "        vertical-align: middle;\n",
       "    }\n",
       "\n",
       "    .dataframe tbody tr th {\n",
       "        vertical-align: top;\n",
       "    }\n",
       "\n",
       "    .dataframe thead th {\n",
       "        text-align: right;\n",
       "    }\n",
       "</style>\n",
       "<table border=\"1\" class=\"dataframe\">\n",
       "  <thead>\n",
       "    <tr style=\"text-align: right;\">\n",
       "      <th></th>\n",
       "      <th>trees</th>\n",
       "      <th>Quartet_intersection</th>\n",
       "    </tr>\n",
       "  </thead>\n",
       "  <tbody>\n",
       "    <tr>\n",
       "      <th>0</th>\n",
       "      <td>0, consensus</td>\n",
       "      <td>1.0</td>\n",
       "    </tr>\n",
       "    <tr>\n",
       "      <th>1</th>\n",
       "      <td>1, consensus</td>\n",
       "      <td>0.7</td>\n",
       "    </tr>\n",
       "  </tbody>\n",
       "</table>\n",
       "</div>"
      ],
      "text/plain": [
       "          trees  Quartet_intersection\n",
       "0  0, consensus                   1.0\n",
       "1  1, consensus                   0.7"
      ]
     },
     "execution_count": 41,
     "metadata": {},
     "output_type": "execute_result"
    }
   ],
   "source": [
    "quart = toytree.distance.treedist.quartets(trees_list, \"consensus\")\n",
    "quart.run()\n",
    "quart.data"
   ]
  },
  {
   "cell_type": "markdown",
   "id": "fabulous-attention",
   "metadata": {},
   "source": [
    "### RF\n",
    "Located as `robinson_foulds` class object within `treedist.py`\n",
    "1. New RF function\n",
    "2. OldRobinsonFoulds"
   ]
  },
  {
   "cell_type": "code",
   "execution_count": 7,
   "id": "capital-pound",
   "metadata": {},
   "outputs": [
    {
     "ename": "AttributeError",
     "evalue": "'TreeNode' object has no attribute 'robinson_foulds'",
     "output_type": "error",
     "traceback": [
      "\u001b[0;31m---------------------------------------------------------------------------\u001b[0m",
      "\u001b[0;31mAttributeError\u001b[0m                            Traceback (most recent call last)",
      "\u001b[0;32m<ipython-input-7-d6caa9106609>\u001b[0m in \u001b[0;36m<module>\u001b[0;34m\u001b[0m\n\u001b[1;32m      1\u001b[0m \u001b[0mrf\u001b[0m \u001b[0;34m=\u001b[0m \u001b[0mtoytree\u001b[0m\u001b[0;34m.\u001b[0m\u001b[0mdistance\u001b[0m\u001b[0;34m.\u001b[0m\u001b[0mtreedist\u001b[0m\u001b[0;34m.\u001b[0m\u001b[0mrobinson_foulds\u001b[0m\u001b[0;34m(\u001b[0m\u001b[0mtrees_list\u001b[0m\u001b[0;34m,\u001b[0m \u001b[0;34m\"random\"\u001b[0m\u001b[0;34m)\u001b[0m\u001b[0;34m\u001b[0m\u001b[0;34m\u001b[0m\u001b[0m\n\u001b[0;32m----> 2\u001b[0;31m \u001b[0mrf\u001b[0m\u001b[0;34m.\u001b[0m\u001b[0mrun\u001b[0m\u001b[0;34m(\u001b[0m\u001b[0;34m)\u001b[0m\u001b[0;34m\u001b[0m\u001b[0;34m\u001b[0m\u001b[0m\n\u001b[0m\u001b[1;32m      3\u001b[0m \u001b[0mrf\u001b[0m\u001b[0;34m.\u001b[0m\u001b[0mdata\u001b[0m\u001b[0;34m\u001b[0m\u001b[0;34m\u001b[0m\u001b[0m\n",
      "\u001b[0;32m~/hacks/toytree/toytree/distance/treedist.py\u001b[0m in \u001b[0;36mrun\u001b[0;34m(self)\u001b[0m\n\u001b[1;32m    114\u001b[0m         \u001b[0mDefine\u001b[0m \u001b[0mrun\u001b[0m \u001b[0mfunction\u001b[0m\u001b[0;34m\u001b[0m\u001b[0;34m\u001b[0m\u001b[0m\n\u001b[1;32m    115\u001b[0m         \"\"\"\n\u001b[0;32m--> 116\u001b[0;31m         \u001b[0mself\u001b[0m\u001b[0;34m.\u001b[0m\u001b[0mget_rf\u001b[0m\u001b[0;34m(\u001b[0m\u001b[0;34m)\u001b[0m\u001b[0;34m\u001b[0m\u001b[0;34m\u001b[0m\u001b[0m\n\u001b[0m\u001b[1;32m    117\u001b[0m         \u001b[0mself\u001b[0m\u001b[0;34m.\u001b[0m\u001b[0mcompare_rf\u001b[0m\u001b[0;34m(\u001b[0m\u001b[0;34m)\u001b[0m\u001b[0;34m\u001b[0m\u001b[0;34m\u001b[0m\u001b[0m\n\u001b[1;32m    118\u001b[0m \u001b[0;34m\u001b[0m\u001b[0m\n",
      "\u001b[0;32m~/hacks/toytree/toytree/distance/treedist.py\u001b[0m in \u001b[0;36mget_rf\u001b[0;34m(self)\u001b[0m\n\u001b[1;32m     82\u001b[0m                 \u001b[0mttre2\u001b[0m \u001b[0;34m=\u001b[0m \u001b[0mself\u001b[0m\u001b[0;34m.\u001b[0m\u001b[0mtreelist\u001b[0m\u001b[0;34m[\u001b[0m\u001b[0;34m(\u001b[0m\u001b[0mself\u001b[0m\u001b[0;34m.\u001b[0m\u001b[0msamporder\u001b[0m\u001b[0;34m[\u001b[0m\u001b[0midx\u001b[0m\u001b[0;34m+\u001b[0m\u001b[0;36m1\u001b[0m\u001b[0;34m]\u001b[0m\u001b[0;34m)\u001b[0m\u001b[0;34m]\u001b[0m\u001b[0;34m\u001b[0m\u001b[0;34m\u001b[0m\u001b[0m\n\u001b[1;32m     83\u001b[0m \u001b[0;34m\u001b[0m\u001b[0m\n\u001b[0;32m---> 84\u001b[0;31m                 \u001b[0mrf\u001b[0m \u001b[0;34m=\u001b[0m \u001b[0mttre1\u001b[0m\u001b[0;34m.\u001b[0m\u001b[0mtreenode\u001b[0m\u001b[0;34m.\u001b[0m\u001b[0mrobinson_foulds\u001b[0m\u001b[0;34m(\u001b[0m\u001b[0mttre2\u001b[0m\u001b[0;34m.\u001b[0m\u001b[0mtreenode\u001b[0m\u001b[0;34m)\u001b[0m\u001b[0;34m[\u001b[0m\u001b[0;36m0\u001b[0m\u001b[0;34m]\u001b[0m\u001b[0;34m\u001b[0m\u001b[0;34m\u001b[0m\u001b[0m\n\u001b[0m\u001b[1;32m     85\u001b[0m                 \u001b[0mmax_rf\u001b[0m \u001b[0;34m=\u001b[0m \u001b[0mttre1\u001b[0m\u001b[0;34m.\u001b[0m\u001b[0mtreenode\u001b[0m\u001b[0;34m.\u001b[0m\u001b[0mrobinson_foulds\u001b[0m\u001b[0;34m(\u001b[0m\u001b[0mttre2\u001b[0m\u001b[0;34m.\u001b[0m\u001b[0mtreenode\u001b[0m\u001b[0;34m)\u001b[0m\u001b[0;34m[\u001b[0m\u001b[0;36m1\u001b[0m\u001b[0;34m]\u001b[0m\u001b[0;34m\u001b[0m\u001b[0;34m\u001b[0m\u001b[0m\n\u001b[1;32m     86\u001b[0m                 \u001b[0mfinal_rf\u001b[0m \u001b[0;34m=\u001b[0m \u001b[0mrf\u001b[0m\u001b[0;34m/\u001b[0m\u001b[0mmax_rf\u001b[0m\u001b[0;34m\u001b[0m\u001b[0;34m\u001b[0m\u001b[0m\n",
      "\u001b[0;31mAttributeError\u001b[0m: 'TreeNode' object has no attribute 'robinson_foulds'"
     ]
    }
   ],
   "source": [
    "rf = toytree.distance.treedist.robinson_foulds(trees_list, \"random\")\n",
    "rf.run()\n",
    "rf.data"
   ]
  },
  {
   "cell_type": "markdown",
   "id": "deadly-principal",
   "metadata": {},
   "source": [
    "## ---"
   ]
  },
  {
   "cell_type": "markdown",
   "id": "million-onion",
   "metadata": {},
   "source": [
    "### TO DO:\n",
    "1. Quartets function transfer - DONE\n",
    "2. Rewrite RF function & access to backup OldRobinsonFoulds option\n",
    "3. Suggested tweaks: \n",
    "  - Raise error when only one tree given\n",
    "  - Use `args` instead of sampmethod, consensustree etc.\n",
    "4. Python class inheritance (decorator @ with class object)"
   ]
  },
  {
   "cell_type": "code",
   "execution_count": null,
   "id": "restricted-ordinary",
   "metadata": {},
   "outputs": [],
   "source": [
    "# goal\n",
    "\n",
    "# workflow goal\n",
    "#def robinson_foulds(tree1, tree2, *args):\n",
    "   \n",
    "#    tool = RobinsonFoulds(tree1, tree2, *args)\n",
    "#    tool.run()\n",
    "#    return tool.data"
   ]
  }
 ],
 "metadata": {
  "kernelspec": {
   "display_name": "Python 3",
   "language": "python",
   "name": "python3"
  },
  "language_info": {
   "codemirror_mode": {
    "name": "ipython",
    "version": 3
   },
   "file_extension": ".py",
   "mimetype": "text/x-python",
   "name": "python",
   "nbconvert_exporter": "python",
   "pygments_lexer": "ipython3",
   "version": "3.8.5"
  }
 },
 "nbformat": 4,
 "nbformat_minor": 5
}
