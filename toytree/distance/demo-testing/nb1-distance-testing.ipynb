{
 "cells": [
  {
   "cell_type": "markdown",
   "id": "aboriginal-concentrate",
   "metadata": {},
   "source": [
    "## nb1 Distance module testing\n",
    "\n",
    "Toytree distance module in development"
   ]
  },
  {
   "cell_type": "code",
   "execution_count": 2,
   "id": "spread-gardening",
   "metadata": {},
   "outputs": [],
   "source": [
    "import toytree\n",
    "import ipcoal\n",
    "import pandas as pd\n",
    "import numpy as np"
   ]
  },
  {
   "cell_type": "markdown",
   "id": "talented-sight",
   "metadata": {},
   "source": [
    "### Workflow\n",
    "\n",
    "1. Input: toytrees\n",
    "2. User options:\n",
    "    - Type of distance metric: RF vs. quartets\n",
    "    - `sampmethod` = Consensus vs. pairwise vs. random \n",
    "    - `consensustree` = set as None by default (generate consensus tree for user) OR user provides consensus tree \n",
    "4. Output: pandas dataframe with tree #s compared and respective distance metric calculation"
   ]
  },
  {
   "cell_type": "code",
   "execution_count": null,
   "id": "unlike-pressure",
   "metadata": {},
   "outputs": [],
   "source": [
    "# goal\n",
    "\n",
    "# workflow goal\n",
    "#def robinson_foulds(tree1, tree2, *args):\n",
    "   \n",
    "#    tool = RobinsonFoulds(tree1, tree2, *args)\n",
    "#    tool.run()\n",
    "#    return tool.data"
   ]
  },
  {
   "cell_type": "code",
   "execution_count": 14,
   "id": "invalid-partner",
   "metadata": {},
   "outputs": [
    {
     "data": {
      "text/html": [
       "<div class=\"toyplot\" id=\"t035b64217c5e4841b56f9a9b8618b1c2\" style=\"text-align:center\"><svg class=\"toyplot-canvas-Canvas\" xmlns:toyplot=\"http://www.sandia.gov/toyplot\" xmlns:xlink=\"http://www.w3.org/1999/xlink\" xmlns=\"http://www.w3.org/2000/svg\" width=\"450.0px\" height=\"250.0px\" viewBox=\"0 0 450.0 250.0\" preserveAspectRatio=\"xMidYMid meet\" style=\"background-color:transparent;border-color:#292724;border-style:none;border-width:1.0;fill:rgb(16.1%,15.3%,14.1%);fill-opacity:1.0;font-family:Helvetica;font-size:12px;opacity:1.0;stroke:rgb(16.1%,15.3%,14.1%);stroke-opacity:1.0;stroke-width:1.0\" id=\"t94e8426fe1a04e799f53d3ea44e4735b\"><g class=\"toyplot-coordinates-Cartesian\" id=\"t3c0ed33068f540c7962e27cf490bedc6\"><clipPath id=\"t4a44418a124b409989777778add46298\"><rect x=\"20.0\" y=\"40.0\" width=\"205.0\" height=\"170.0\"></rect></clipPath><g clip-path=\"url(#t4a44418a124b409989777778add46298)\"><g class=\"toytree-mark-Toytree\" id=\"t852b2c37e3204c10b2864ce78577c930\"><g class=\"toytree-Edges\" style=\"fill:none;stroke:rgba(16.1%,15.3%,14.1%,1.000);stroke-linecap:round;stroke-width:2.0\"><path d=\"M 58.3 94.2 L 36.9 171.0\" id=\"6,0\" style=\"stroke-width:2.0\"></path><path d=\"M 58.3 94.2 L 79.7 171.0\" id=\"6,1\" style=\"stroke-width:2.0\"></path><path d=\"M 143.9 132.6 L 122.5 171.0\" id=\"5,2\" style=\"stroke-width:2.0\"></path><path d=\"M 143.9 132.6 L 165.3 171.0\" id=\"5,3\" style=\"stroke-width:2.0\"></path><path d=\"M 176.0 94.2 L 208.1 171.0\" id=\"7,4\" style=\"stroke-width:2.0\"></path><path d=\"M 176.0 94.2 L 143.9 132.6\" id=\"7,5\" style=\"stroke-width:2.0\"></path><path d=\"M 117.2 55.8 L 58.3 94.2\" id=\"8,6\" style=\"stroke-width:2.0\"></path><path d=\"M 117.2 55.8 L 176.0 94.2\" id=\"8,7\" style=\"stroke-width:2.0\"></path></g><g class=\"toytree-Nodes\" style=\"fill:rgba(40.0%,76.1%,64.7%,1.000);stroke:#262626;stroke-width:1.0\"><g id=\"node-0\" transform=\"translate(36.938,170.980)\"><circle r=\"7.5\"></circle></g><g id=\"node-1\" transform=\"translate(79.719,170.980)\"><circle r=\"7.5\"></circle></g><g id=\"node-2\" transform=\"translate(122.500,170.980)\"><circle r=\"7.5\"></circle></g><g id=\"node-3\" transform=\"translate(165.281,170.980)\"><circle r=\"7.5\"></circle></g><g id=\"node-4\" transform=\"translate(208.062,170.980)\"><circle r=\"7.5\"></circle></g><g id=\"node-5\" transform=\"translate(143.891,132.574)\"><circle r=\"7.5\"></circle></g><g id=\"node-6\" transform=\"translate(58.328,94.167)\"><circle r=\"7.5\"></circle></g><g id=\"node-7\" transform=\"translate(175.977,94.167)\"><circle r=\"7.5\"></circle></g><g id=\"node-8\" transform=\"translate(117.152,55.761)\"><circle r=\"7.5\"></circle></g></g><g class=\"toytree-NodeLabels\" style=\"font-family:Helvetica;font-size:9.0px;font-weight:300;stroke:none;vertical-align:baseline;white-space:pre\"><g class=\"toytree-NodeLabel\" transform=\"translate(36.9375,170.98013109381398)\"><text x=\"-2.5020000000000002\" y=\"2.2995\" style=\"fill:rgb(16.1%,15.3%,14.1%);fill-opacity:1.0\">0</text></g><g class=\"toytree-NodeLabel\" transform=\"translate(79.71875,170.98013109381398)\"><text x=\"-2.5020000000000002\" y=\"2.2995\" style=\"fill:rgb(16.1%,15.3%,14.1%);fill-opacity:1.0\">1</text></g><g class=\"toytree-NodeLabel\" transform=\"translate(122.5,170.98013109381398)\"><text x=\"-2.5020000000000002\" y=\"2.2995\" style=\"fill:rgb(16.1%,15.3%,14.1%);fill-opacity:1.0\">2</text></g><g class=\"toytree-NodeLabel\" transform=\"translate(165.28125,170.98013109381398)\"><text x=\"-2.5020000000000002\" y=\"2.2995\" style=\"fill:rgb(16.1%,15.3%,14.1%);fill-opacity:1.0\">3</text></g><g class=\"toytree-NodeLabel\" transform=\"translate(208.0625,170.98013109381398)\"><text x=\"-2.5020000000000002\" y=\"2.2995\" style=\"fill:rgb(16.1%,15.3%,14.1%);fill-opacity:1.0\">4</text></g><g class=\"toytree-NodeLabel\" transform=\"translate(143.890625,132.573740270381)\"><text x=\"-2.5020000000000002\" y=\"2.2995\" style=\"fill:rgb(16.1%,15.3%,14.1%);fill-opacity:1.0\">5</text></g><g class=\"toytree-NodeLabel\" transform=\"translate(58.32812499999999,94.16734944694798)\"><text x=\"-2.5020000000000002\" y=\"2.2995\" style=\"fill:rgb(16.1%,15.3%,14.1%);fill-opacity:1.0\">6</text></g><g class=\"toytree-NodeLabel\" transform=\"translate(175.9765625,94.16734944694798)\"><text x=\"-2.5020000000000002\" y=\"2.2995\" style=\"fill:rgb(16.1%,15.3%,14.1%);fill-opacity:1.0\">7</text></g><g class=\"toytree-NodeLabel\" transform=\"translate(117.15234375,55.76095862351495)\"><text x=\"-2.5020000000000002\" y=\"2.2995\" style=\"fill:rgb(16.1%,15.3%,14.1%);fill-opacity:1.0\">8</text></g></g><g class=\"toytree-TipLabels\" style=\"fill:rgb(16.1%,15.3%,14.1%);fill-opacity:1.0;font-family:Helvetica;font-size:10.0px;font-weight:300;stroke:none;vertical-align:baseline;white-space:pre\"><g class=\"toytree-TipLabel\" transform=\"translate(36.9375,170.98013109381398)rotate(90.0)\"><text x=\"10.0\" y=\"2.5549999999999997\" style=\"\">r0</text></g><g class=\"toytree-TipLabel\" transform=\"translate(79.71875,170.98013109381398)rotate(90.0)\"><text x=\"10.0\" y=\"2.5549999999999997\" style=\"\">r1</text></g><g class=\"toytree-TipLabel\" transform=\"translate(122.5,170.98013109381398)rotate(90.0)\"><text x=\"10.0\" y=\"2.5549999999999997\" style=\"\">r2</text></g><g class=\"toytree-TipLabel\" transform=\"translate(165.28125,170.98013109381398)rotate(90.0)\"><text x=\"10.0\" y=\"2.5549999999999997\" style=\"\">r3</text></g><g class=\"toytree-TipLabel\" transform=\"translate(208.0625,170.98013109381398)rotate(90.0)\"><text x=\"10.0\" y=\"2.5549999999999997\" style=\"\">r4</text></g></g></g></g></g><g class=\"toyplot-coordinates-Cartesian\" id=\"t51d660e027284ae686f558ea606bcce4\"><clipPath id=\"t2706466ad7634f53bcc2127ca3d3f791\"><rect x=\"245.0\" y=\"40.0\" width=\"205.0\" height=\"170.0\"></rect></clipPath><g clip-path=\"url(#t2706466ad7634f53bcc2127ca3d3f791)\"><g class=\"toytree-mark-Toytree\" id=\"t69b93893690b4c71a2e1c847a57ff2d9\"><g class=\"toytree-Edges\" style=\"fill:none;stroke:rgba(16.1%,15.3%,14.1%,1.000);stroke-linecap:round;stroke-width:2.0\"><path d=\"M 283.3 132.6 L 261.9 171.0\" id=\"5,0\" style=\"stroke-width:2.0\"></path><path d=\"M 283.3 132.6 L 304.7 171.0\" id=\"5,1\" style=\"stroke-width:2.0\"></path><path d=\"M 315.4 94.2 L 347.5 171.0\" id=\"6,2\" style=\"stroke-width:2.0\"></path><path d=\"M 411.7 94.2 L 390.3 171.0\" id=\"7,3\" style=\"stroke-width:2.0\"></path><path d=\"M 411.7 94.2 L 433.1 171.0\" id=\"7,4\" style=\"stroke-width:2.0\"></path><path d=\"M 315.4 94.2 L 283.3 132.6\" id=\"6,5\" style=\"stroke-width:2.0\"></path><path d=\"M 363.5 55.8 L 315.4 94.2\" id=\"8,6\" style=\"stroke-width:2.0\"></path><path d=\"M 363.5 55.8 L 411.7 94.2\" id=\"8,7\" style=\"stroke-width:2.0\"></path></g><g class=\"toytree-Nodes\" style=\"fill:rgba(40.0%,76.1%,64.7%,1.000);stroke:#262626;stroke-width:1.0\"><g id=\"node-0\" transform=\"translate(261.938,170.980)\"><circle r=\"7.5\"></circle></g><g id=\"node-1\" transform=\"translate(304.719,170.980)\"><circle r=\"7.5\"></circle></g><g id=\"node-2\" transform=\"translate(347.500,170.980)\"><circle r=\"7.5\"></circle></g><g id=\"node-3\" transform=\"translate(390.281,170.980)\"><circle r=\"7.5\"></circle></g><g id=\"node-4\" transform=\"translate(433.062,170.980)\"><circle r=\"7.5\"></circle></g><g id=\"node-5\" transform=\"translate(283.328,132.574)\"><circle r=\"7.5\"></circle></g><g id=\"node-6\" transform=\"translate(315.414,94.167)\"><circle r=\"7.5\"></circle></g><g id=\"node-7\" transform=\"translate(411.672,94.167)\"><circle r=\"7.5\"></circle></g><g id=\"node-8\" transform=\"translate(363.543,55.761)\"><circle r=\"7.5\"></circle></g></g><g class=\"toytree-NodeLabels\" style=\"font-family:Helvetica;font-size:9.0px;font-weight:300;stroke:none;vertical-align:baseline;white-space:pre\"><g class=\"toytree-NodeLabel\" transform=\"translate(261.9375,170.98013109381398)\"><text x=\"-2.5020000000000002\" y=\"2.2995\" style=\"fill:rgb(16.1%,15.3%,14.1%);fill-opacity:1.0\">0</text></g><g class=\"toytree-NodeLabel\" transform=\"translate(304.71875,170.98013109381398)\"><text x=\"-2.5020000000000002\" y=\"2.2995\" style=\"fill:rgb(16.1%,15.3%,14.1%);fill-opacity:1.0\">1</text></g><g class=\"toytree-NodeLabel\" transform=\"translate(347.5,170.98013109381398)\"><text x=\"-2.5020000000000002\" y=\"2.2995\" style=\"fill:rgb(16.1%,15.3%,14.1%);fill-opacity:1.0\">2</text></g><g class=\"toytree-NodeLabel\" transform=\"translate(390.28125,170.98013109381398)\"><text x=\"-2.5020000000000002\" y=\"2.2995\" style=\"fill:rgb(16.1%,15.3%,14.1%);fill-opacity:1.0\">3</text></g><g class=\"toytree-NodeLabel\" transform=\"translate(433.0625,170.98013109381398)\"><text x=\"-2.5020000000000002\" y=\"2.2995\" style=\"fill:rgb(16.1%,15.3%,14.1%);fill-opacity:1.0\">4</text></g><g class=\"toytree-NodeLabel\" transform=\"translate(283.328125,132.573740270381)\"><text x=\"-2.5020000000000002\" y=\"2.2995\" style=\"fill:rgb(16.1%,15.3%,14.1%);fill-opacity:1.0\">5</text></g><g class=\"toytree-NodeLabel\" transform=\"translate(315.4140625,94.16734944694798)\"><text x=\"-2.5020000000000002\" y=\"2.2995\" style=\"fill:rgb(16.1%,15.3%,14.1%);fill-opacity:1.0\">6</text></g><g class=\"toytree-NodeLabel\" transform=\"translate(411.67187499999994,94.16734944694798)\"><text x=\"-2.5020000000000002\" y=\"2.2995\" style=\"fill:rgb(16.1%,15.3%,14.1%);fill-opacity:1.0\">7</text></g><g class=\"toytree-NodeLabel\" transform=\"translate(363.54296875,55.76095862351495)\"><text x=\"-2.5020000000000002\" y=\"2.2995\" style=\"fill:rgb(16.1%,15.3%,14.1%);fill-opacity:1.0\">8</text></g></g><g class=\"toytree-TipLabels\" style=\"fill:rgb(16.1%,15.3%,14.1%);fill-opacity:1.0;font-family:Helvetica;font-size:10.0px;font-weight:300;stroke:none;vertical-align:baseline;white-space:pre\"><g class=\"toytree-TipLabel\" transform=\"translate(261.9375,170.98013109381398)rotate(90.0)\"><text x=\"10.0\" y=\"2.5549999999999997\" style=\"\">r0</text></g><g class=\"toytree-TipLabel\" transform=\"translate(304.71875,170.98013109381398)rotate(90.0)\"><text x=\"10.0\" y=\"2.5549999999999997\" style=\"\">r1</text></g><g class=\"toytree-TipLabel\" transform=\"translate(347.5,170.98013109381398)rotate(90.0)\"><text x=\"10.0\" y=\"2.5549999999999997\" style=\"\">r2</text></g><g class=\"toytree-TipLabel\" transform=\"translate(390.28125,170.98013109381398)rotate(90.0)\"><text x=\"10.0\" y=\"2.5549999999999997\" style=\"\">r3</text></g><g class=\"toytree-TipLabel\" transform=\"translate(433.0625,170.98013109381398)rotate(90.0)\"><text x=\"10.0\" y=\"2.5549999999999997\" style=\"\">r4</text></g></g></g></g></g></svg><div class=\"toyplot-behavior\"><script>(function()\n",
       "{\n",
       "var modules={};\n",
       "})();</script></div></div>"
      ]
     },
     "metadata": {},
     "output_type": "display_data"
    }
   ],
   "source": [
    "# two trees\n",
    "tree1 = toytree.core.rtree.unittree(5, seed=123)\n",
    "tree2 = toytree.core.rtree.unittree(5, seed=323)\n",
    "\n",
    "\n",
    "# place trees in a list\n",
    "trees_list = [tree1, tree2]\n",
    "\n",
    "# display trees with multitree\n",
    "TREES = toytree.core.multitree.MultiTree(trees_list)\n",
    "TREES.draw(ts='p');"
   ]
  },
  {
   "cell_type": "code",
   "execution_count": 4,
   "id": "gothic-causing",
   "metadata": {},
   "outputs": [
    {
     "data": {
      "text/plain": [
       "'((r4:0.666667,(r3:0.333333,r2:0.333333)0:0.333333)0:0.333333,(r1:0.666667,r0:0.666667)0:0.333333);'"
      ]
     },
     "execution_count": 4,
     "metadata": {},
     "output_type": "execute_result"
    }
   ],
   "source": [
    "tree1.newick"
   ]
  },
  {
   "cell_type": "code",
   "execution_count": 5,
   "id": "affecting-entry",
   "metadata": {},
   "outputs": [
    {
     "data": {
      "text/plain": [
       "'((r4:0.666667,r3:0.666667)0:0.333333,(r2:0.666667,(r1:0.333333,r0:0.333333)0:0.333333)0:0.333333);'"
      ]
     },
     "execution_count": 5,
     "metadata": {},
     "output_type": "execute_result"
    }
   ],
   "source": [
    "tree2.newick"
   ]
  },
  {
   "cell_type": "markdown",
   "id": "binary-harassment",
   "metadata": {},
   "source": [
    "### Quartets\n",
    "Located as `quartets` class object within `treedist.py`"
   ]
  },
  {
   "cell_type": "code",
   "execution_count": 3,
   "id": "informed-photographer",
   "metadata": {},
   "outputs": [
    {
     "data": {
      "text/html": [
       "<div>\n",
       "<style scoped>\n",
       "    .dataframe tbody tr th:only-of-type {\n",
       "        vertical-align: middle;\n",
       "    }\n",
       "\n",
       "    .dataframe tbody tr th {\n",
       "        vertical-align: top;\n",
       "    }\n",
       "\n",
       "    .dataframe thead th {\n",
       "        text-align: right;\n",
       "    }\n",
       "</style>\n",
       "<table border=\"1\" class=\"dataframe\">\n",
       "  <thead>\n",
       "    <tr style=\"text-align: right;\">\n",
       "      <th></th>\n",
       "      <th>trees</th>\n",
       "      <th>Quartet_intersection</th>\n",
       "    </tr>\n",
       "  </thead>\n",
       "  <tbody>\n",
       "    <tr>\n",
       "      <th>0</th>\n",
       "      <td>0, 1</td>\n",
       "      <td>0.6</td>\n",
       "    </tr>\n",
       "  </tbody>\n",
       "</table>\n",
       "</div>"
      ],
      "text/plain": [
       "  trees  Quartet_intersection\n",
       "0  0, 1                   0.6"
      ]
     },
     "execution_count": 3,
     "metadata": {},
     "output_type": "execute_result"
    }
   ],
   "source": [
    "quart = toytree.distance.treedist.quartets(trees_list, \"pairwise\")\n",
    "quart.run()\n",
    "quart.data"
   ]
  },
  {
   "cell_type": "code",
   "execution_count": 4,
   "id": "extreme-habitat",
   "metadata": {},
   "outputs": [
    {
     "data": {
      "text/html": [
       "<div>\n",
       "<style scoped>\n",
       "    .dataframe tbody tr th:only-of-type {\n",
       "        vertical-align: middle;\n",
       "    }\n",
       "\n",
       "    .dataframe tbody tr th {\n",
       "        vertical-align: top;\n",
       "    }\n",
       "\n",
       "    .dataframe thead th {\n",
       "        text-align: right;\n",
       "    }\n",
       "</style>\n",
       "<table border=\"1\" class=\"dataframe\">\n",
       "  <thead>\n",
       "    <tr style=\"text-align: right;\">\n",
       "      <th></th>\n",
       "      <th>trees</th>\n",
       "      <th>Quartet_intersection</th>\n",
       "    </tr>\n",
       "  </thead>\n",
       "  <tbody>\n",
       "    <tr>\n",
       "      <th>0</th>\n",
       "      <td>1, 0</td>\n",
       "      <td>0.6</td>\n",
       "    </tr>\n",
       "  </tbody>\n",
       "</table>\n",
       "</div>"
      ],
      "text/plain": [
       "  trees  Quartet_intersection\n",
       "0  1, 0                   0.6"
      ]
     },
     "execution_count": 4,
     "metadata": {},
     "output_type": "execute_result"
    }
   ],
   "source": [
    "quart = toytree.distance.treedist.quartets(trees_list, \"random\")\n",
    "quart.run()\n",
    "quart.data"
   ]
  },
  {
   "cell_type": "code",
   "execution_count": 5,
   "id": "endless-following",
   "metadata": {},
   "outputs": [
    {
     "data": {
      "text/html": [
       "<div>\n",
       "<style scoped>\n",
       "    .dataframe tbody tr th:only-of-type {\n",
       "        vertical-align: middle;\n",
       "    }\n",
       "\n",
       "    .dataframe tbody tr th {\n",
       "        vertical-align: top;\n",
       "    }\n",
       "\n",
       "    .dataframe thead th {\n",
       "        text-align: right;\n",
       "    }\n",
       "</style>\n",
       "<table border=\"1\" class=\"dataframe\">\n",
       "  <thead>\n",
       "    <tr style=\"text-align: right;\">\n",
       "      <th></th>\n",
       "      <th>trees</th>\n",
       "      <th>Quartet_intersection</th>\n",
       "    </tr>\n",
       "  </thead>\n",
       "  <tbody>\n",
       "    <tr>\n",
       "      <th>0</th>\n",
       "      <td>0, consensus</td>\n",
       "      <td>1.0</td>\n",
       "    </tr>\n",
       "    <tr>\n",
       "      <th>1</th>\n",
       "      <td>1, consensus</td>\n",
       "      <td>0.6</td>\n",
       "    </tr>\n",
       "  </tbody>\n",
       "</table>\n",
       "</div>"
      ],
      "text/plain": [
       "          trees  Quartet_intersection\n",
       "0  0, consensus                   1.0\n",
       "1  1, consensus                   0.6"
      ]
     },
     "execution_count": 5,
     "metadata": {},
     "output_type": "execute_result"
    }
   ],
   "source": [
    "quart = toytree.distance.treedist.quartets(trees_list, \"consensus\")\n",
    "quart.run()\n",
    "quart.data"
   ]
  },
  {
   "cell_type": "markdown",
   "id": "fabulous-attention",
   "metadata": {},
   "source": [
    "### RF\n",
    "Located as `robinson_foulds` class object within `treedist.py`"
   ]
  },
  {
   "cell_type": "code",
   "execution_count": 15,
   "id": "mechanical-hormone",
   "metadata": {},
   "outputs": [
    {
     "data": {
      "text/html": [
       "<div>\n",
       "<style scoped>\n",
       "    .dataframe tbody tr th:only-of-type {\n",
       "        vertical-align: middle;\n",
       "    }\n",
       "\n",
       "    .dataframe tbody tr th {\n",
       "        vertical-align: top;\n",
       "    }\n",
       "\n",
       "    .dataframe thead th {\n",
       "        text-align: right;\n",
       "    }\n",
       "</style>\n",
       "<table border=\"1\" class=\"dataframe\">\n",
       "  <thead>\n",
       "    <tr style=\"text-align: right;\">\n",
       "      <th></th>\n",
       "      <th>trees</th>\n",
       "      <th>RF</th>\n",
       "      <th>max_RF</th>\n",
       "      <th>normalized_rf</th>\n",
       "    </tr>\n",
       "  </thead>\n",
       "  <tbody>\n",
       "    <tr>\n",
       "      <th>0</th>\n",
       "      <td>0, 1</td>\n",
       "      <td>4</td>\n",
       "      <td>6.0</td>\n",
       "      <td>0.666667</td>\n",
       "    </tr>\n",
       "  </tbody>\n",
       "</table>\n",
       "</div>"
      ],
      "text/plain": [
       "  trees RF  max_RF  normalized_rf\n",
       "0  0, 1  4     6.0       0.666667"
      ]
     },
     "execution_count": 15,
     "metadata": {},
     "output_type": "execute_result"
    }
   ],
   "source": [
    "rf = toytree.distance.treedist.robinson_foulds(trees_list, \"pairwise\")\n",
    "rf.run()\n",
    "rf.data"
   ]
  },
  {
   "cell_type": "code",
   "execution_count": 16,
   "id": "capital-pound",
   "metadata": {},
   "outputs": [
    {
     "data": {
      "text/html": [
       "<div>\n",
       "<style scoped>\n",
       "    .dataframe tbody tr th:only-of-type {\n",
       "        vertical-align: middle;\n",
       "    }\n",
       "\n",
       "    .dataframe tbody tr th {\n",
       "        vertical-align: top;\n",
       "    }\n",
       "\n",
       "    .dataframe thead th {\n",
       "        text-align: right;\n",
       "    }\n",
       "</style>\n",
       "<table border=\"1\" class=\"dataframe\">\n",
       "  <thead>\n",
       "    <tr style=\"text-align: right;\">\n",
       "      <th></th>\n",
       "      <th>trees</th>\n",
       "      <th>RF</th>\n",
       "      <th>max_RF</th>\n",
       "      <th>normalized_rf</th>\n",
       "    </tr>\n",
       "  </thead>\n",
       "  <tbody>\n",
       "    <tr>\n",
       "      <th>0</th>\n",
       "      <td>1, 0</td>\n",
       "      <td>4</td>\n",
       "      <td>6.0</td>\n",
       "      <td>0.666667</td>\n",
       "    </tr>\n",
       "  </tbody>\n",
       "</table>\n",
       "</div>"
      ],
      "text/plain": [
       "  trees RF  max_RF  normalized_rf\n",
       "0  1, 0  4     6.0       0.666667"
      ]
     },
     "execution_count": 16,
     "metadata": {},
     "output_type": "execute_result"
    }
   ],
   "source": [
    "rf = toytree.distance.treedist.robinson_foulds(trees_list, \"random\")\n",
    "rf.run()\n",
    "rf.data"
   ]
  },
  {
   "cell_type": "code",
   "execution_count": 17,
   "id": "communist-extension",
   "metadata": {},
   "outputs": [
    {
     "data": {
      "text/html": [
       "<div>\n",
       "<style scoped>\n",
       "    .dataframe tbody tr th:only-of-type {\n",
       "        vertical-align: middle;\n",
       "    }\n",
       "\n",
       "    .dataframe tbody tr th {\n",
       "        vertical-align: top;\n",
       "    }\n",
       "\n",
       "    .dataframe thead th {\n",
       "        text-align: right;\n",
       "    }\n",
       "</style>\n",
       "<table border=\"1\" class=\"dataframe\">\n",
       "  <thead>\n",
       "    <tr style=\"text-align: right;\">\n",
       "      <th></th>\n",
       "      <th>trees</th>\n",
       "      <th>RF</th>\n",
       "      <th>max_RF</th>\n",
       "      <th>normalized_rf</th>\n",
       "    </tr>\n",
       "  </thead>\n",
       "  <tbody>\n",
       "    <tr>\n",
       "      <th>0</th>\n",
       "      <td>0, consensus</td>\n",
       "      <td>5</td>\n",
       "      <td>5.0</td>\n",
       "      <td>1.0</td>\n",
       "    </tr>\n",
       "    <tr>\n",
       "      <th>1</th>\n",
       "      <td>1, consensus</td>\n",
       "      <td>3</td>\n",
       "      <td>5.0</td>\n",
       "      <td>0.6</td>\n",
       "    </tr>\n",
       "  </tbody>\n",
       "</table>\n",
       "</div>"
      ],
      "text/plain": [
       "          trees RF  max_RF  normalized_rf\n",
       "0  0, consensus  5     5.0            1.0\n",
       "1  1, consensus  3     5.0            0.6"
      ]
     },
     "execution_count": 17,
     "metadata": {},
     "output_type": "execute_result"
    }
   ],
   "source": [
    "rf = toytree.distance.treedist.robinson_foulds(trees_list, \"consensus\")\n",
    "rf.run()\n",
    "rf.data"
   ]
  },
  {
   "cell_type": "markdown",
   "id": "deadly-principal",
   "metadata": {},
   "source": [
    "## ---"
   ]
  },
  {
   "cell_type": "markdown",
   "id": "million-onion",
   "metadata": {},
   "source": [
    "### TO DO:\n",
    "1. Quartets function - DONE\n",
    "2. Rewrite RF function - DONE\n",
    "3. Suggested tweaks: \n",
    "  - Raise error when only one tree given\n",
    "  - Use `args` instead of sampmethod, consensustree etc.\n",
    "  - access to backup OldRobinsonFoulds option (?)\n",
    "4. Python class inheritance (decorator @ with class object)"
   ]
  }
 ],
 "metadata": {
  "kernelspec": {
   "display_name": "Python 3",
   "language": "python",
   "name": "python3"
  },
  "language_info": {
   "codemirror_mode": {
    "name": "ipython",
    "version": 3
   },
   "file_extension": ".py",
   "mimetype": "text/x-python",
   "name": "python",
   "nbconvert_exporter": "python",
   "pygments_lexer": "ipython3",
   "version": "3.8.5"
  }
 },
 "nbformat": 4,
 "nbformat_minor": 5
}
