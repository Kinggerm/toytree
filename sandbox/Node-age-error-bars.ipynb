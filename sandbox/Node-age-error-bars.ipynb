{
 "cells": [
  {
   "cell_type": "code",
   "execution_count": 4,
   "metadata": {},
   "outputs": [],
   "source": [
    "import toytree\n",
    "import numpy as np\n",
    "import pandas as pd"
   ]
  },
  {
   "cell_type": "code",
   "execution_count": 5,
   "metadata": {},
   "outputs": [],
   "source": [
    "tre = toytree.rtree.unittree(10, seed=123)"
   ]
  },
  {
   "cell_type": "code",
   "execution_count": 126,
   "metadata": {},
   "outputs": [
    {
     "data": {
      "text/html": [
       "<div class=\"toyplot\" id=\"t9be2f648b8df400fa7e493891a76f071\" style=\"text-align:center\"><svg class=\"toyplot-canvas-Canvas\" height=\"275.0px\" id=\"t902a89af238a4d469193c7486f53f14d\" preserveAspectRatio=\"xMidYMid meet\" style=\"background-color:transparent;border-color:#292724;border-style:none;border-width:1.0;fill:rgb(16.1%,15.3%,14.1%);fill-opacity:1.0;font-family:Helvetica;font-size:12px;opacity:1.0;stroke:rgb(16.1%,15.3%,14.1%);stroke-opacity:1.0;stroke-width:1.0\" viewBox=\"0 0 260.0 275.0\" width=\"260.0px\" xmlns=\"http://www.w3.org/2000/svg\" xmlns:toyplot=\"http://www.sandia.gov/toyplot\" xmlns:xlink=\"http://www.w3.org/1999/xlink\"><g class=\"toyplot-coordinates-Cartesian\" id=\"tdfa0aae7f9764154ae606881dd90a98e\"><clipPath id=\"t5b696ef25ab5431d95186376808fdce6\"><rect height=\"215.0\" width=\"200.0\" x=\"30.0\" y=\"30.0\"></rect></clipPath><g clip-path=\"url(#t5b696ef25ab5431d95186376808fdce6)\"><g class=\"toytree-mark-Toytree\" id=\"t49d05a0979ae47928446a457ae614a71\"><g class=\"toytree-Edges\" style=\"fill:none;stroke:rgb(14.9%,14.9%,14.9%);stroke-linecap:round;stroke-opacity:1;stroke-width:2\"><path d=\"M 58.5 116.8 L 58.5 75.9 L 85.6 75.9\" id=\"18,17\"></path><path d=\"M 58.5 116.8 L 58.5 157.7 L 85.6 157.7\" id=\"18,16\"></path><path d=\"M 85.6 75.9 L 85.6 90.8 L 112.8 90.8\" id=\"17,15\"></path><path d=\"M 85.6 157.7 L 85.6 137.5 L 112.8 137.5\" id=\"16,14\"></path><path d=\"M 85.6 157.7 L 85.6 177.9 L 112.8 177.9\" id=\"16,13\"></path><path d=\"M 112.8 90.8 L 112.8 103.5 L 139.9 103.5\" id=\"15,12\"></path><path d=\"M 112.8 177.9 L 112.8 192.7 L 139.9 192.7\" id=\"13,11\"></path><path d=\"M 139.9 192.7 L 139.9 205.5 L 167.0 205.5\" id=\"11,10\"></path><path d=\"M 85.6 75.9 L 85.6 61.0 L 194.2 61.0\" id=\"17,9\"></path><path d=\"M 112.8 90.8 L 112.8 78.0 L 194.2 78.0\" id=\"15,8\"></path><path d=\"M 139.9 103.5 L 139.9 95.0 L 194.2 95.0\" id=\"12,7\"></path><path d=\"M 139.9 103.5 L 139.9 112.0 L 194.2 112.0\" id=\"12,6\"></path><path d=\"M 112.8 137.5 L 112.8 129.0 L 194.2 129.0\" id=\"14,5\"></path><path d=\"M 112.8 137.5 L 112.8 146.0 L 194.2 146.0\" id=\"14,4\"></path><path d=\"M 112.8 177.9 L 112.8 163.0 L 194.2 163.0\" id=\"13,3\"></path><path d=\"M 139.9 192.7 L 139.9 180.0 L 194.2 180.0\" id=\"11,2\"></path><path d=\"M 167.0 205.5 L 167.0 197.0 L 194.2 197.0\" id=\"10,1\"></path><path d=\"M 167.0 205.5 L 167.0 214.0 L 194.2 214.0\" id=\"10,0\"></path></g><g class=\"toytree-Nodes\" style=\"fill:rgb(40%,76.1%,64.7%);fill-opacity:0.5;stroke:None;stroke-width:1\"><g id=\"node-0\" transform=\"translate(194.168,213.986)\"><rect height=\"0.0\" width=\"0.0\" x=\"0.0\" y=\"0.0\"></rect></g><g id=\"node-1\" transform=\"translate(194.168,196.989)\"><rect height=\"0.0\" width=\"0.0\" x=\"0.0\" y=\"0.0\"></rect></g><g id=\"node-2\" transform=\"translate(194.168,179.992)\"><rect height=\"0.0\" width=\"0.0\" x=\"0.0\" y=\"0.0\"></rect></g><g id=\"node-3\" transform=\"translate(194.168,162.995)\"><rect height=\"0.0\" width=\"0.0\" x=\"0.0\" y=\"0.0\"></rect></g><g id=\"node-4\" transform=\"translate(194.168,145.998)\"><rect height=\"0.0\" width=\"0.0\" x=\"0.0\" y=\"0.0\"></rect></g><g id=\"node-5\" transform=\"translate(194.168,129.002)\"><rect height=\"0.0\" width=\"0.0\" x=\"0.0\" y=\"0.0\"></rect></g><g id=\"node-6\" transform=\"translate(194.168,112.005)\"><rect height=\"0.0\" width=\"0.0\" x=\"0.0\" y=\"0.0\"></rect></g><g id=\"node-7\" transform=\"translate(194.168,95.008)\"><rect height=\"0.0\" width=\"0.0\" x=\"0.0\" y=\"0.0\"></rect></g><g id=\"node-8\" transform=\"translate(194.168,78.011)\"><rect height=\"0.0\" width=\"0.0\" x=\"0.0\" y=\"0.0\"></rect></g><g id=\"node-9\" transform=\"translate(194.168,61.014)\"><rect height=\"0.0\" width=\"0.0\" x=\"0.0\" y=\"0.0\"></rect></g><g id=\"node-10\" transform=\"translate(167.030,205.488)\"><rect height=\"5.0\" width=\"70.0\" x=\"-35.0\" y=\"-2.5\"></rect></g><g id=\"node-11\" transform=\"translate(139.893,192.740)\"><rect height=\"5.0\" width=\"90.0\" x=\"-45.0\" y=\"-2.5\"></rect></g><g id=\"node-12\" transform=\"translate(139.893,103.506)\"><rect height=\"5.0\" width=\"50.0\" x=\"-25.0\" y=\"-2.5\"></rect></g><g id=\"node-13\" transform=\"translate(112.755,177.868)\"><rect height=\"5.0\" width=\"60.0\" x=\"-30.0\" y=\"-2.5\"></rect></g><g id=\"node-14\" transform=\"translate(112.755,137.500)\"><rect height=\"5.0\" width=\"80.0\" x=\"-40.0\" y=\"-2.5\"></rect></g><g id=\"node-15\" transform=\"translate(112.755,90.759)\"><rect height=\"5.0\" width=\"90.0\" x=\"-45.0\" y=\"-2.5\"></rect></g><g id=\"node-16\" transform=\"translate(85.618,157.684)\"><rect height=\"5.0\" width=\"70.0\" x=\"-35.0\" y=\"-2.5\"></rect></g><g id=\"node-17\" transform=\"translate(85.618,75.886)\"><rect height=\"5.0\" width=\"50.0\" x=\"-25.0\" y=\"-2.5\"></rect></g><g id=\"node-18\" transform=\"translate(58.480,116.785)\"><rect height=\"5.0\" width=\"50.0\" x=\"-25.0\" y=\"-2.5\"></rect></g></g><g class=\"toytree-TipLabels\" style=\"fill:rgb(14.9%,14.9%,14.9%);fill-opacity:1.0;font-family:helvetica;font-size:11px;font-weight:normal;stroke:none;white-space:pre\"><g transform=\"translate(194.17,213.99)rotate(0)\"><text style=\"\" x=\"15.00\" y=\"2.81\">r0</text></g><g transform=\"translate(194.17,196.99)rotate(0)\"><text style=\"\" x=\"15.00\" y=\"2.81\">r1</text></g><g transform=\"translate(194.17,179.99)rotate(0)\"><text style=\"\" x=\"15.00\" y=\"2.81\">r2</text></g><g transform=\"translate(194.17,163.00)rotate(0)\"><text style=\"\" x=\"15.00\" y=\"2.81\">r3</text></g><g transform=\"translate(194.17,146.00)rotate(0)\"><text style=\"\" x=\"15.00\" y=\"2.81\">r4</text></g><g transform=\"translate(194.17,129.00)rotate(0)\"><text style=\"\" x=\"15.00\" y=\"2.81\">r5</text></g><g transform=\"translate(194.17,112.00)rotate(0)\"><text style=\"\" x=\"15.00\" y=\"2.81\">r6</text></g><g transform=\"translate(194.17,95.01)rotate(0)\"><text style=\"\" x=\"15.00\" y=\"2.81\">r7</text></g><g transform=\"translate(194.17,78.01)rotate(0)\"><text style=\"\" x=\"15.00\" y=\"2.81\">r8</text></g><g transform=\"translate(194.17,61.01)rotate(0)\"><text style=\"\" x=\"15.00\" y=\"2.81\">r9</text></g></g></g></g></g></svg><div class=\"toyplot-behavior\"><script>(function()\n",
       "{\n",
       "var modules={};\n",
       "})();</script></div></div>"
      ]
     },
     "metadata": {},
     "output_type": "display_data"
    }
   ],
   "source": [
    "tre.draw(\n",
    "    node_markers=[\"r{}x0.5\".format(i) for i in np.random.randint(5, 10, tre.nnodes)],\n",
    "    node_sizes=[10 if i else 0 for i in tre.get_node_values(None, 1)],\n",
    "    node_style={\"fill-opacity\": 0.5},\n",
    ");"
   ]
  },
  {
   "cell_type": "markdown",
   "metadata": {},
   "source": [
    "### Explanation\n",
    "\n",
    "+ `node_markers` sets each mark as a rectangle of height 0.5 and a set width. For real data you would want to use the standard deviation of the node age estimate here. The center of the bars will be placed on the nodes automatically since they are node markers.  \n",
    "\n",
    "\n",
    "+ `node_sizes` this is used here to hide bars for the tip nodes and to show bars for all internal nodes including the root.  \n",
    "\n",
    " \n",
    "+ `node_style` set opacity to 0.5."
   ]
  }
 ],
 "metadata": {
  "kernelspec": {
   "display_name": "Python 3",
   "language": "python",
   "name": "python3"
  },
  "language_info": {
   "codemirror_mode": {
    "name": "ipython",
    "version": 3
   },
   "file_extension": ".py",
   "mimetype": "text/x-python",
   "name": "python",
   "nbconvert_exporter": "python",
   "pygments_lexer": "ipython3",
   "version": "3.6.7"
  }
 },
 "nbformat": 4,
 "nbformat_minor": 4
}
