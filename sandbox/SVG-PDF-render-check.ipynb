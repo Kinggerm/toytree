{
 "cells": [
  {
   "cell_type": "code",
   "execution_count": 1,
   "metadata": {},
   "outputs": [],
   "source": [
    "import toytree"
   ]
  },
  {
   "cell_type": "code",
   "execution_count": null,
   "metadata": {},
   "outputs": [],
   "source": []
  },
  {
   "cell_type": "code",
   "execution_count": 2,
   "metadata": {},
   "outputs": [],
   "source": [
    "tre = toytree.rtree.unittree(10)"
   ]
  },
  {
   "cell_type": "code",
   "execution_count": 7,
   "metadata": {},
   "outputs": [
    {
     "data": {
      "text/html": [
       "<div class=\"toyplot\" id=\"t157bacb141814047bd7ccb3a05991acb\" style=\"text-align:center\"><svg class=\"toyplot-canvas-Canvas\" height=\"260.0px\" id=\"t079ed40a18a34532b3bb1c465cbe9512\" preserveAspectRatio=\"xMidYMid meet\" style=\"background-color:transparent;border-color:#292724;border-style:none;border-width:1.0;fill:rgb(16.1%,15.3%,14.1%);fill-opacity:1.0;font-family:Helvetica;font-size:12px;opacity:1.0;stroke:rgb(16.1%,15.3%,14.1%);stroke-opacity:1.0;stroke-width:1.0\" viewBox=\"0 0 350.0 260.0\" width=\"350.0px\" xmlns=\"http://www.w3.org/2000/svg\" xmlns:toyplot=\"http://www.sandia.gov/toyplot\" xmlns:xlink=\"http://www.w3.org/1999/xlink\"><g class=\"toyplot-coordinates-Cartesian\" id=\"tc135f97a79994137ab74b7d0d82589c9\"><clipPath id=\"td2b0ebf9fb4b4e49956b5194fcb80a2e\"><rect height=\"200.0\" width=\"290.0\" x=\"30.0\" y=\"30.0\"></rect></clipPath><g clip-path=\"url(#td2b0ebf9fb4b4e49956b5194fcb80a2e)\"><g class=\"toytree-mark-Toytree\" id=\"t72689b369f1b4ebf8db74bb996de75d4\"><g class=\"toytree-Edges\" style=\"fill:none;stroke:rgb(14.9%,14.9%,14.9%);stroke-linecap:round;stroke-opacity:1;stroke-width:2\"><path d=\"M 229.6 61.5 L 274.2 81.9\" id=\"18,17\"></path><path d=\"M 229.6 61.5 L 185.1 81.9\" id=\"18,16\"></path><path d=\"M 185.1 81.9 L 224.6 102.4\" id=\"16,15\"></path><path d=\"M 185.1 81.9 L 145.5 102.4\" id=\"16,14\"></path><path d=\"M 145.5 102.4 L 175.0 122.8\" id=\"14,13\"></path><path d=\"M 145.5 102.4 L 116.1 122.8\" id=\"14,12\"></path><path d=\"M 116.1 122.8 L 94.4 143.3\" id=\"12,11\"></path><path d=\"M 94.4 143.3 L 75.8 163.7\" id=\"11,10\"></path><path d=\"M 274.2 81.9 L 286.6 184.2\" id=\"17,9\"></path><path d=\"M 274.2 81.9 L 261.8 184.2\" id=\"17,8\"></path><path d=\"M 224.6 102.4 L 237.0 184.2\" id=\"15,7\"></path><path d=\"M 224.6 102.4 L 212.2 184.2\" id=\"15,6\"></path><path d=\"M 175.0 122.8 L 187.4 184.2\" id=\"13,5\"></path><path d=\"M 175.0 122.8 L 162.6 184.2\" id=\"13,4\"></path><path d=\"M 116.1 122.8 L 137.8 184.2\" id=\"12,3\"></path><path d=\"M 94.4 143.3 L 113.0 184.2\" id=\"11,2\"></path><path d=\"M 75.8 163.7 L 88.2 184.2\" id=\"10,1\"></path><path d=\"M 75.8 163.7 L 63.4 184.2\" id=\"10,0\"></path></g><g class=\"toytree-AdmixEdges\" style=\"fill:none;font-size:14px;stroke:rgba(90.6%,54.1%,76.5%,1.000);stroke-linecap:round;stroke-opacity:0.6;stroke-width:5\"><path d=\"M 162.6 184.2 L 168.8 153.5 L 181.2 153.5 L 175.0 122.8\" style=\"stroke:rgb(98.8%,55.3%,38.4%);stroke-opacity:0.7\"></path><path d=\"M 212.2 184.2 L 218.4 143.3 L 281.6 143.3 L 274.2 81.9\" style=\"stroke:rgb(55.3%,62.7%,79.6%);stroke-opacity:0.7\"></path></g><g class=\"toytree-Nodes\" style=\"fill:rgb(40%,76.1%,64.7%);fill-opacity:1.0;stroke:rgb(14.9%,14.9%,14.9%);stroke-opacity:1.0;stroke-width:1\"><g id=\"node-0\" transform=\"translate(63.393,184.184)\"><circle r=\"7.5\"></circle></g><g id=\"node-1\" transform=\"translate(88.194,184.184)\"><circle r=\"7.5\"></circle></g><g id=\"node-2\" transform=\"translate(112.996,184.184)\"><circle r=\"7.5\"></circle></g><g id=\"node-3\" transform=\"translate(137.798,184.184)\"><circle r=\"7.5\"></circle></g><g id=\"node-4\" transform=\"translate(162.599,184.184)\"><circle r=\"7.5\"></circle></g><g id=\"node-5\" transform=\"translate(187.401,184.184)\"><circle r=\"7.5\"></circle></g><g id=\"node-6\" transform=\"translate(212.202,184.184)\"><circle r=\"7.5\"></circle></g><g id=\"node-7\" transform=\"translate(237.004,184.184)\"><circle r=\"7.5\"></circle></g><g id=\"node-8\" transform=\"translate(261.806,184.184)\"><circle r=\"7.5\"></circle></g><g id=\"node-9\" transform=\"translate(286.607,184.184)\"><circle r=\"7.5\"></circle></g><g id=\"node-10\" transform=\"translate(75.794,163.737)\"><circle r=\"7.5\"></circle></g><g id=\"node-11\" transform=\"translate(94.395,143.290)\"><circle r=\"7.5\"></circle></g><g id=\"node-12\" transform=\"translate(116.096,122.843)\"><circle r=\"7.5\"></circle></g><g id=\"node-13\" transform=\"translate(175.000,122.843)\"><circle r=\"7.5\"></circle></g><g id=\"node-14\" transform=\"translate(145.548,102.396)\"><circle r=\"7.5\"></circle></g><g id=\"node-15\" transform=\"translate(224.603,102.396)\"><circle r=\"7.5\"></circle></g><g id=\"node-16\" transform=\"translate(185.076,81.949)\"><circle r=\"7.5\"></circle></g><g id=\"node-17\" transform=\"translate(274.206,81.949)\"><circle r=\"7.5\"></circle></g><g id=\"node-18\" transform=\"translate(229.641,61.501)\"><circle r=\"7.5\"></circle></g></g><g class=\"toytree-NodeLabels\" style=\"fill:rgb(14.9%,14.9%,14.9%);fill-opacity:1.0;font-size:9px;stroke:none\"><g transform=\"translate(60.89,186.48)\"><text>0</text></g><g transform=\"translate(85.69,186.48)\"><text>1</text></g><g transform=\"translate(110.49,186.48)\"><text>2</text></g><g transform=\"translate(135.30,186.48)\"><text>3</text></g><g transform=\"translate(160.10,186.48)\"><text>4</text></g><g transform=\"translate(184.90,186.48)\"><text>5</text></g><g transform=\"translate(209.70,186.48)\"><text>6</text></g><g transform=\"translate(234.50,186.48)\"><text>7</text></g><g transform=\"translate(259.30,186.48)\"><text>8</text></g><g transform=\"translate(284.11,186.48)\"><text>9</text></g><g transform=\"translate(70.79,166.04)\"><text>10</text></g><g transform=\"translate(89.39,145.59)\"><text>11</text></g><g transform=\"translate(111.09,125.14)\"><text>12</text></g><g transform=\"translate(170.00,125.14)\"><text>13</text></g><g transform=\"translate(140.54,104.70)\"><text>14</text></g><g transform=\"translate(219.60,104.70)\"><text>15</text></g><g transform=\"translate(180.07,84.25)\"><text>16</text></g><g transform=\"translate(269.20,84.25)\"><text>17</text></g><g transform=\"translate(224.64,63.80)\"><text>18</text></g></g><g class=\"toytree-TipLabels\" style=\"fill:rgb(14.9%,14.9%,14.9%);fill-opacity:1.0;font-family:helvetica;font-size:11px;font-weight:normal;stroke:none;white-space:pre\"><g transform=\"translate(63.39,184.18)rotate(-90)\"><text style=\"\" x=\"-24.78\" y=\"2.81\">r0</text></g><g transform=\"translate(88.19,184.18)rotate(-90)\"><text style=\"\" x=\"-24.78\" y=\"2.81\">r1</text></g><g transform=\"translate(113.00,184.18)rotate(-90)\"><text style=\"\" x=\"-24.78\" y=\"2.81\">r2</text></g><g transform=\"translate(137.80,184.18)rotate(-90)\"><text style=\"\" x=\"-24.78\" y=\"2.81\">r3</text></g><g transform=\"translate(162.60,184.18)rotate(-90)\"><text style=\"\" x=\"-24.78\" y=\"2.81\">r4</text></g><g transform=\"translate(187.40,184.18)rotate(-90)\"><text style=\"\" x=\"-24.78\" y=\"2.81\">r5</text></g><g transform=\"translate(212.20,184.18)rotate(-90)\"><text style=\"\" x=\"-24.78\" y=\"2.81\">r6</text></g><g transform=\"translate(237.00,184.18)rotate(-90)\"><text style=\"\" x=\"-24.78\" y=\"2.81\">r7</text></g><g transform=\"translate(261.81,184.18)rotate(-90)\"><text style=\"\" x=\"-24.78\" y=\"2.81\">r8</text></g><g transform=\"translate(286.61,184.18)rotate(-90)\"><text style=\"\" x=\"-24.78\" y=\"2.81\">r9</text></g></g></g></g><g class=\"toyplot-coordinates-Axis\" id=\"t26dc77ad38f646efbab2327dd5604d55\" transform=\"translate(50.0,210.0)rotate(-90.0)translate(0,-20.0)\"><line style=\"\" x1=\"25.81619694348465\" x2=\"148.4985311665844\" y1=\"0\" y2=\"0\"></line><g><line style=\"\" x1=\"25.81619694348465\" x2=\"25.81619694348465\" y1=\"0\" y2=\"5\"></line><line style=\"\" x1=\"87.15736405503452\" x2=\"87.15736405503452\" y1=\"0\" y2=\"5\"></line><line style=\"\" x1=\"148.4985311665844\" x2=\"148.4985311665844\" y1=\"0\" y2=\"5\"></line></g><g><g transform=\"translate(25.81619694348465,-6)\"><text style=\"fill:rgb(16.1%,15.3%,14.1%);fill-opacity:1.0;font-family:helvetica;font-size:10.0px;font-weight:normal;stroke:none;vertical-align:baseline;white-space:pre\" x=\"-6.95\" y=\"-4.440892098500626e-16\">0.0</text></g><g transform=\"translate(87.15736405503452,-6)\"><text style=\"fill:rgb(16.1%,15.3%,14.1%);fill-opacity:1.0;font-family:helvetica;font-size:10.0px;font-weight:normal;stroke:none;vertical-align:baseline;white-space:pre\" x=\"-6.95\" y=\"-4.440892098500626e-16\">0.5</text></g><g transform=\"translate(148.4985311665844,-6)\"><text style=\"fill:rgb(16.1%,15.3%,14.1%);fill-opacity:1.0;font-family:helvetica;font-size:10.0px;font-weight:normal;stroke:none;vertical-align:baseline;white-space:pre\" x=\"-6.95\" y=\"-4.440892098500626e-16\">1.0</text></g></g><g class=\"toyplot-coordinates-Axis-coordinates\" style=\"visibility:hidden\" transform=\"\"><line style=\"stroke:rgb(43.9%,50.2%,56.5%);stroke-opacity:1.0;stroke-width:1.0\" x1=\"0\" x2=\"0\" y1=\"3.0\" y2=\"-4.5\"></line><text style=\"alignment-baseline:hanging;fill:rgb(43.9%,50.2%,56.5%);fill-opacity:1.0;font-size:10px;font-weight:normal;stroke:none;text-anchor:middle\" x=\"0\" y=\"6\"></text></g></g></g></svg><div class=\"toyplot-behavior\"><script>(function()\n",
       "{\n",
       "var modules={};\n",
       "modules[\"toyplot/canvas/id\"] = \"t079ed40a18a34532b3bb1c465cbe9512\";\n",
       "modules[\"toyplot/canvas\"] = (function(canvas_id)\n",
       "    {\n",
       "        return document.querySelector(\"#\" + canvas_id);\n",
       "    })(modules[\"toyplot/canvas/id\"]);\n",
       "modules[\"toyplot.coordinates.Axis\"] = (\n",
       "        function(canvas)\n",
       "        {\n",
       "            function sign(x)\n",
       "            {\n",
       "                return x < 0 ? -1 : x > 0 ? 1 : 0;\n",
       "            }\n",
       "\n",
       "            function mix(a, b, amount)\n",
       "            {\n",
       "                return ((1.0 - amount) * a) + (amount * b);\n",
       "            }\n",
       "\n",
       "            function log(x, base)\n",
       "            {\n",
       "                return Math.log(Math.abs(x)) / Math.log(base);\n",
       "            }\n",
       "\n",
       "            function in_range(a, x, b)\n",
       "            {\n",
       "                var left = Math.min(a, b);\n",
       "                var right = Math.max(a, b);\n",
       "                return left <= x && x <= right;\n",
       "            }\n",
       "\n",
       "            function inside(range, projection)\n",
       "            {\n",
       "                for(var i = 0; i != projection.length; ++i)\n",
       "                {\n",
       "                    var segment = projection[i];\n",
       "                    if(in_range(segment.range.min, range, segment.range.max))\n",
       "                        return true;\n",
       "                }\n",
       "                return false;\n",
       "            }\n",
       "\n",
       "            function to_domain(range, projection)\n",
       "            {\n",
       "                for(var i = 0; i != projection.length; ++i)\n",
       "                {\n",
       "                    var segment = projection[i];\n",
       "                    if(in_range(segment.range.bounds.min, range, segment.range.bounds.max))\n",
       "                    {\n",
       "                        if(segment.scale == \"linear\")\n",
       "                        {\n",
       "                            var amount = (range - segment.range.min) / (segment.range.max - segment.range.min);\n",
       "                            return mix(segment.domain.min, segment.domain.max, amount)\n",
       "                        }\n",
       "                        else if(segment.scale[0] == \"log\")\n",
       "                        {\n",
       "                            var amount = (range - segment.range.min) / (segment.range.max - segment.range.min);\n",
       "                            var base = segment.scale[1];\n",
       "                            return sign(segment.domain.min) * Math.pow(base, mix(log(segment.domain.min, base), log(segment.domain.max, base), amount));\n",
       "                        }\n",
       "                    }\n",
       "                }\n",
       "            }\n",
       "\n",
       "            var axes = {};\n",
       "\n",
       "            function display_coordinates(e)\n",
       "            {\n",
       "                var current = canvas.createSVGPoint();\n",
       "                current.x = e.clientX;\n",
       "                current.y = e.clientY;\n",
       "\n",
       "                for(var axis_id in axes)\n",
       "                {\n",
       "                    var axis = document.querySelector(\"#\" + axis_id);\n",
       "                    var coordinates = axis.querySelector(\".toyplot-coordinates-Axis-coordinates\");\n",
       "                    if(coordinates)\n",
       "                    {\n",
       "                        var projection = axes[axis_id];\n",
       "                        var local = current.matrixTransform(axis.getScreenCTM().inverse());\n",
       "                        if(inside(local.x, projection))\n",
       "                        {\n",
       "                            var domain = to_domain(local.x, projection);\n",
       "                            coordinates.style.visibility = \"visible\";\n",
       "                            coordinates.setAttribute(\"transform\", \"translate(\" + local.x + \")\");\n",
       "                            var text = coordinates.querySelector(\"text\");\n",
       "                            text.textContent = domain.toFixed(2);\n",
       "                        }\n",
       "                        else\n",
       "                        {\n",
       "                            coordinates.style.visibility= \"hidden\";\n",
       "                        }\n",
       "                    }\n",
       "                }\n",
       "            }\n",
       "\n",
       "            canvas.addEventListener(\"click\", display_coordinates);\n",
       "\n",
       "            var module = {};\n",
       "            module.show_coordinates = function(axis_id, projection)\n",
       "            {\n",
       "                axes[axis_id] = projection;\n",
       "            }\n",
       "\n",
       "            return module;\n",
       "        })(modules[\"toyplot/canvas\"]);\n",
       "(function(axis, axis_id, projection)\n",
       "        {\n",
       "            axis.show_coordinates(axis_id, projection);\n",
       "        })(modules[\"toyplot.coordinates.Axis\"],\"t26dc77ad38f646efbab2327dd5604d55\",[{\"domain\": {\"bounds\": {\"max\": Infinity, \"min\": -Infinity}, \"max\": 1.09375, \"min\": -0.2104312499999999}, \"range\": {\"bounds\": {\"max\": Infinity, \"min\": -Infinity}, \"max\": 160.0, \"min\": 0.0}, \"scale\": \"linear\"}]);\n",
       "})();</script></div></div>"
      ]
     },
     "metadata": {},
     "output_type": "display_data"
    }
   ],
   "source": [
    "c, a, m = tre.draw(ts='p', admixture_edges=[(4, 5), (6, 9)]);"
   ]
  },
  {
   "cell_type": "code",
   "execution_count": 12,
   "metadata": {},
   "outputs": [],
   "source": [
    "import toyplot.svg, toyplot.pdf\n",
    "\n",
    "toyplot.svg.render(c, \"/home/deren/Desktop/toytree-n.svg\")\n",
    "toyplot.pdf.render(c, \"/home/deren/Desktop/toytree-n.pdf\")"
   ]
  }
 ],
 "metadata": {
  "kernelspec": {
   "display_name": "Python 3",
   "language": "python",
   "name": "python3"
  },
  "language_info": {
   "codemirror_mode": {
    "name": "ipython",
    "version": 3
   },
   "file_extension": ".py",
   "mimetype": "text/x-python",
   "name": "python",
   "nbconvert_exporter": "python",
   "pygments_lexer": "ipython3",
   "version": "3.6.7"
  }
 },
 "nbformat": 4,
 "nbformat_minor": 4
}
