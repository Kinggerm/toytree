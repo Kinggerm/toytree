{
 "cells": [
  {
   "cell_type": "markdown",
   "metadata": {},
   "source": [
    "### Use nan for returned values"
   ]
  },
  {
   "cell_type": "code",
   "execution_count": 7,
   "metadata": {},
   "outputs": [],
   "source": [
    "import toytree\n",
    "import numpy as np\n",
    "import toyplot"
   ]
  },
  {
   "cell_type": "code",
   "execution_count": 8,
   "metadata": {},
   "outputs": [],
   "source": [
    "tre = toytree.rtree.unittree(5)"
   ]
  },
  {
   "cell_type": "code",
   "execution_count": 9,
   "metadata": {},
   "outputs": [],
   "source": [
    "ntre = tre.set_node_values(\"bodysize\", {0:10, 1:50, 2:100}, 25)"
   ]
  },
  {
   "cell_type": "code",
   "execution_count": 10,
   "metadata": {},
   "outputs": [],
   "source": [
    "n = ntre.get_node_values(\"support\", 1, 0)"
   ]
  },
  {
   "cell_type": "code",
   "execution_count": 11,
   "metadata": {},
   "outputs": [
    {
     "data": {
      "text/plain": [
       "array([1.0, 1.0, 1.6666666666666667, nan], dtype=object)"
      ]
     },
     "execution_count": 11,
     "metadata": {},
     "output_type": "execute_result"
    }
   ],
   "source": [
    "np.array([3, 3.0, 5, np.nan], dtype=object) / 3"
   ]
  },
  {
   "cell_type": "markdown",
   "metadata": {},
   "source": [
    "- mask nan values (in StyleChecker)\n",
    "- check float to int (in StyleChecker)\n",
    "- allow string format in get-node-labels\n",
    "- check docs and other code for usage change.\n",
    "- print statement is still in code."
   ]
  },
  {
   "cell_type": "code",
   "execution_count": 26,
   "metadata": {},
   "outputs": [
    {
     "name": "stdout",
     "output_type": "stream",
     "text": [
      "[100.0 100.0 100.0 100.0 100.0 100.0 100.0 100.0 nan]\n"
     ]
    },
    {
     "data": {
      "text/html": [
       "<div class=\"toyplot\" id=\"te57a266b8cec497a8d8553fb73959c6c\" style=\"text-align:center\"><svg class=\"toyplot-canvas-Canvas\" height=\"275.0px\" id=\"t10582759fca143c68e4d768ced783370\" preserveAspectRatio=\"xMidYMid meet\" style=\"background-color:transparent;border-color:#292724;border-style:none;border-width:1.0;fill:rgb(16.1%,15.3%,14.1%);fill-opacity:1.0;font-family:Helvetica;font-size:12px;opacity:1.0;stroke:rgb(16.1%,15.3%,14.1%);stroke-opacity:1.0;stroke-width:1.0\" viewBox=\"0 0 260.0 275.0\" width=\"260.0px\" xmlns=\"http://www.w3.org/2000/svg\" xmlns:toyplot=\"http://www.sandia.gov/toyplot\" xmlns:xlink=\"http://www.w3.org/1999/xlink\"><g class=\"toyplot-coordinates-Cartesian\" id=\"t697b37b1c53a462b88092e632b913bd1\"><clipPath id=\"t8923dbc180574259a0bc2b6327179eec\"><rect height=\"215.0\" width=\"200.0\" x=\"30.0\" y=\"30.0\"></rect></clipPath><g clip-path=\"url(#t8923dbc180574259a0bc2b6327179eec)\"><g class=\"toytree-mark-Toytree\" id=\"t36befd4aed014efdb0199652ec995dd1\"><g class=\"toytree-Edges\" style=\"fill:none;stroke:rgb(14.9%,14.9%,14.9%);stroke-linecap:round;stroke-opacity:1;stroke-width:2\"><path d=\"M 51.8 123.2 L 51.8 80.1 L 99.0 80.1\" id=\"8,7\"></path><path d=\"M 51.8 123.2 L 51.8 166.2 L 99.0 166.2\" id=\"8,6\"></path><path d=\"M 99.0 166.2 L 99.0 194.9 L 146.2 194.9\" id=\"6,5\"></path><path d=\"M 99.0 80.1 L 99.0 61.0 L 193.5 61.0\" id=\"7,4\"></path><path d=\"M 99.0 80.1 L 99.0 99.3 L 193.5 99.3\" id=\"7,3\"></path><path d=\"M 99.0 166.2 L 99.0 137.5 L 193.5 137.5\" id=\"6,2\"></path><path d=\"M 146.2 194.9 L 146.2 175.7 L 193.5 175.7\" id=\"5,1\"></path><path d=\"M 146.2 194.9 L 146.2 214.0 L 193.5 214.0\" id=\"5,0\"></path></g><g class=\"toytree-NodeLabels\" style=\"fill:rgb(14.9%,14.9%,14.9%);fill-opacity:1.0;font-size:9px;stroke:none\"><g transform=\"translate(167.21,216.29)\"><text>100.0</text></g><g transform=\"translate(167.21,178.04)\"><text>100.0</text></g><g transform=\"translate(167.21,139.80)\"><text>100.0</text></g><g transform=\"translate(167.21,101.56)\"><text>100.0</text></g><g transform=\"translate(167.21,63.31)\"><text>100.0</text></g><g transform=\"translate(119.98,197.16)\"><text>100.0</text></g><g transform=\"translate(72.74,168.48)\"><text>100.0</text></g><g transform=\"translate(72.74,82.43)\"><text>100.0</text></g><g transform=\"translate(29.27,125.46)\"><text>nan</text></g></g><g class=\"toytree-TipLabels\" style=\"fill:rgb(14.9%,14.9%,14.9%);fill-opacity:1.0;font-family:helvetica;font-size:11px;font-weight:normal;stroke:none;white-space:pre\"><g transform=\"translate(193.47,213.99)rotate(0)\"><text style=\"\" x=\"15.00\" y=\"2.81\">r0</text></g><g transform=\"translate(193.47,175.74)rotate(0)\"><text style=\"\" x=\"15.00\" y=\"2.81\">r1</text></g><g transform=\"translate(193.47,137.50)rotate(0)\"><text style=\"\" x=\"15.00\" y=\"2.81\">r2</text></g><g transform=\"translate(193.47,99.26)rotate(0)\"><text style=\"\" x=\"15.00\" y=\"2.81\">r3</text></g><g transform=\"translate(193.47,61.01)rotate(0)\"><text style=\"\" x=\"15.00\" y=\"2.81\">r4</text></g></g></g></g></g></svg><div class=\"toyplot-behavior\"><script>(function()\n",
       "{\n",
       "var modules={};\n",
       "})();</script></div></div>"
      ]
     },
     "metadata": {},
     "output_type": "display_data"
    }
   ],
   "source": [
    "tre.draw(\n",
    "    node_labels=(\"support\", 1, 0), \n",
    "    node_labels_style={\"-toyplot-anchor-shift\": \"-15px\"}\n",
    ");"
   ]
  },
  {
   "cell_type": "code",
   "execution_count": null,
   "metadata": {},
   "outputs": [],
   "source": []
  }
 ],
 "metadata": {
  "kernelspec": {
   "display_name": "Python 3",
   "language": "python",
   "name": "python3"
  },
  "language_info": {
   "codemirror_mode": {
    "name": "ipython",
    "version": 3
   },
   "file_extension": ".py",
   "mimetype": "text/x-python",
   "name": "python",
   "nbconvert_exporter": "python",
   "pygments_lexer": "ipython3",
   "version": "3.6.7"
  }
 },
 "nbformat": 4,
 "nbformat_minor": 4
}
