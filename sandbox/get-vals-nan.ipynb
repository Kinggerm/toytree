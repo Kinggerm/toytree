{
 "cells": [
  {
   "cell_type": "markdown",
   "metadata": {},
   "source": [
    "### Use nan for returned values"
   ]
  },
  {
   "cell_type": "code",
   "execution_count": 2,
   "metadata": {},
   "outputs": [],
   "source": [
    "import toytree\n",
    "import numpy as np\n",
    "import toyplot"
   ]
  },
  {
   "cell_type": "code",
   "execution_count": null,
   "metadata": {},
   "outputs": [],
   "source": []
  },
  {
   "cell_type": "code",
   "execution_count": null,
   "metadata": {},
   "outputs": [],
   "source": []
  },
  {
   "cell_type": "code",
   "execution_count": 4,
   "metadata": {},
   "outputs": [],
   "source": [
    "from collections import deque"
   ]
  },
  {
   "cell_type": "code",
   "execution_count": 22,
   "metadata": {},
   "outputs": [],
   "source": [
    "class A:\n",
    "    def __init__(self, name):\n",
    "        self.name = name\n",
    "        self.children = []\n",
    "    def __repr__(self):\n",
    "        return self.name"
   ]
  },
  {
   "cell_type": "code",
   "execution_count": 33,
   "metadata": {},
   "outputs": [],
   "source": [
    "a = A('a')\n",
    "b = A('b')\n",
    "c = A('c')\n",
    "d = A('d')\n",
    "b.children = [d]\n",
    "a.children = [b, c]"
   ]
  },
  {
   "cell_type": "code",
   "execution_count": 34,
   "metadata": {},
   "outputs": [],
   "source": [
    "todo = deque([a])"
   ]
  },
  {
   "cell_type": "code",
   "execution_count": 42,
   "metadata": {},
   "outputs": [
    {
     "ename": "IndexError",
     "evalue": "pop from an empty deque",
     "output_type": "error",
     "traceback": [
      "\u001b[0;31m---------------------------------------------------------------------------\u001b[0m",
      "\u001b[0;31mIndexError\u001b[0m                                Traceback (most recent call last)",
      "\u001b[0;32m<ipython-input-42-d79ca79f1816>\u001b[0m in \u001b[0;36m<module>\u001b[0;34m\u001b[0m\n\u001b[0;32m----> 1\u001b[0;31m \u001b[0mtodo\u001b[0m\u001b[0;34m.\u001b[0m\u001b[0mpopleft\u001b[0m\u001b[0;34m(\u001b[0m\u001b[0;34m)\u001b[0m\u001b[0;34m\u001b[0m\u001b[0;34m\u001b[0m\u001b[0m\n\u001b[0m",
      "\u001b[0;31mIndexError\u001b[0m: pop from an empty deque"
     ]
    }
   ],
   "source": [
    "todo.popleft()"
   ]
  },
  {
   "cell_type": "code",
   "execution_count": 39,
   "metadata": {},
   "outputs": [],
   "source": [
    "def it(no):\n",
    "    todo = deque([no])\n",
    "    while len(todo):\n",
    "        node = todo.popleft()\n",
    "        yield node\n",
    "        todo.extend(node.children)"
   ]
  },
  {
   "cell_type": "code",
   "execution_count": 40,
   "metadata": {},
   "outputs": [
    {
     "name": "stdout",
     "output_type": "stream",
     "text": [
      "a\n",
      "b\n",
      "c\n",
      "d\n"
     ]
    }
   ],
   "source": [
    "for i in it(a):\n",
    "    print(i)"
   ]
  },
  {
   "cell_type": "code",
   "execution_count": 12,
   "metadata": {},
   "outputs": [],
   "source": [
    "a.extend('b')"
   ]
  },
  {
   "cell_type": "code",
   "execution_count": 13,
   "metadata": {},
   "outputs": [
    {
     "data": {
      "text/plain": [
       "deque(['x', 'a', 'b'])"
      ]
     },
     "execution_count": 13,
     "metadata": {},
     "output_type": "execute_result"
    }
   ],
   "source": [
    "a"
   ]
  },
  {
   "cell_type": "code",
   "execution_count": 2,
   "metadata": {},
   "outputs": [
    {
     "data": {
      "text/html": [
       "<div class=\"toyplot\" id=\"t84dae07aa0c84a3ab62bf80d7e6011e8\" style=\"text-align:center\"><svg class=\"toyplot-canvas-Canvas\" xmlns:toyplot=\"http://www.sandia.gov/toyplot\" xmlns:xlink=\"http://www.w3.org/1999/xlink\" xmlns=\"http://www.w3.org/2000/svg\" width=\"260.0px\" height=\"275.0px\" viewBox=\"0 0 260.0 275.0\" preserveAspectRatio=\"xMidYMid meet\" style=\"background-color:transparent;border-color:#292724;border-style:none;border-width:1.0;fill:rgb(16.1%,15.3%,14.1%);fill-opacity:1.0;font-family:Helvetica;font-size:12px;opacity:1.0;stroke:rgb(16.1%,15.3%,14.1%);stroke-opacity:1.0;stroke-width:1.0\" id=\"tf469ec4c28c34e6889fe2e096ddc6230\"><g class=\"toyplot-coordinates-Cartesian\" id=\"teacf94edb6e040b394be86c0ebb0ffbd\"><clipPath id=\"t2dc1f1ba1ace4433b8cbe77186dd10af\"><rect x=\"30.0\" y=\"30.0\" width=\"200.0\" height=\"215.0\"></rect></clipPath><g clip-path=\"url(#t2dc1f1ba1ace4433b8cbe77186dd10af)\"><g class=\"toytree-mark-Toytree\" id=\"tdfdae2eee80c42f0a321f25765c68e8b\"><g class=\"toytree-Edges\" style=\"fill:none;stroke:rgb(14.9%,14.9%,14.9%);stroke-linecap:round;stroke-opacity:1;stroke-width:2\"><path d=\"M 51.8 96.9 L 51.8 132.7 L 87.2 132.7\" id=\"8,7\"></path><path d=\"M 87.2 132.7 L 87.2 166.2 L 122.6 166.2\" id=\"7,6\"></path><path d=\"M 122.6 166.2 L 122.6 194.9 L 158.0 194.9\" id=\"6,5\"></path><path d=\"M 51.8 96.9 L 51.8 61.0 L 193.5 61.0\" id=\"8,4\"></path><path d=\"M 87.2 132.7 L 87.2 99.3 L 193.5 99.3\" id=\"7,3\"></path><path d=\"M 122.6 166.2 L 122.6 137.5 L 193.5 137.5\" id=\"6,2\"></path><path d=\"M 158.0 194.9 L 158.0 175.7 L 193.5 175.7\" id=\"5,1\"></path><path d=\"M 158.0 194.9 L 158.0 214.0 L 193.5 214.0\" id=\"5,0\"></path></g><g class=\"toytree-TipLabels\" style=\"fill:rgb(14.9%,14.9%,14.9%);fill-opacity:1.0;font-family:helvetica;font-size:11px;font-weight:normal;stroke:none;white-space:pre\"><g transform=\"translate(193.47,213.99)rotate(0)\"><text x=\"15.00\" y=\"2.81\" style=\"\">r0</text></g><g transform=\"translate(193.47,175.74)rotate(0)\"><text x=\"15.00\" y=\"2.81\" style=\"\">r1</text></g><g transform=\"translate(193.47,137.50)rotate(0)\"><text x=\"15.00\" y=\"2.81\" style=\"\">r2</text></g><g transform=\"translate(193.47,99.26)rotate(0)\"><text x=\"15.00\" y=\"2.81\" style=\"\">r3</text></g><g transform=\"translate(193.47,61.01)rotate(0)\"><text x=\"15.00\" y=\"2.81\" style=\"\">r4</text></g></g></g></g></g></svg><div class=\"toyplot-behavior\"><script>(function()\n",
       "{\n",
       "var modules={};\n",
       "})();</script></div></div>"
      ]
     },
     "metadata": {},
     "output_type": "display_data"
    }
   ],
   "source": [
    "tre = toytree.rtree.unittree(5)\n",
    "tre.draw();"
   ]
  },
  {
   "cell_type": "code",
   "execution_count": 3,
   "metadata": {},
   "outputs": [
    {
     "data": {
      "text/plain": [
       "{('dist', float),\n",
       " ('height', float),\n",
       " ('idx', int),\n",
       " ('name', str),\n",
       " ('support', float),\n",
       " 'idx'}"
      ]
     },
     "execution_count": 3,
     "metadata": {},
     "output_type": "execute_result"
    }
   ],
   "source": [
    "tre.features"
   ]
  },
  {
   "cell_type": "code",
   "execution_count": 24,
   "metadata": {},
   "outputs": [],
   "source": [
    "ntre = tre.set_node_values(\"bodysize\", {0:10, 1:50, 2:100}, 25)"
   ]
  },
  {
   "cell_type": "code",
   "execution_count": 27,
   "metadata": {},
   "outputs": [
    {
     "data": {
      "text/plain": [
       "array([0., 0., 0., 0., 0., 0., 0., 0., 0.])"
      ]
     },
     "execution_count": 27,
     "metadata": {},
     "output_type": "execute_result"
    }
   ],
   "source": [
    "n = ntre.get_node_values(\"support\")\n",
    "n"
   ]
  },
  {
   "cell_type": "code",
   "execution_count": null,
   "metadata": {},
   "outputs": [],
   "source": [
    "np.array([3, 3.0, 5, np.nan], dtype=object).round(0)"
   ]
  },
  {
   "cell_type": "markdown",
   "metadata": {},
   "source": [
    "- mask nan values (in StyleChecker)\n",
    "- check float to int (in StyleChecker)\n",
    "- allow string format in get-node-labels\n",
    "- check docs and other code for usage change.\n",
    "- print statement is still in code."
   ]
  },
  {
   "cell_type": "code",
   "execution_count": 26,
   "metadata": {},
   "outputs": [
    {
     "name": "stdout",
     "output_type": "stream",
     "text": [
      "[100.0 100.0 100.0 100.0 100.0 100.0 100.0 100.0 nan]\n"
     ]
    },
    {
     "data": {
      "text/html": [
       "<div class=\"toyplot\" id=\"te57a266b8cec497a8d8553fb73959c6c\" style=\"text-align:center\"><svg class=\"toyplot-canvas-Canvas\" height=\"275.0px\" id=\"t10582759fca143c68e4d768ced783370\" preserveAspectRatio=\"xMidYMid meet\" style=\"background-color:transparent;border-color:#292724;border-style:none;border-width:1.0;fill:rgb(16.1%,15.3%,14.1%);fill-opacity:1.0;font-family:Helvetica;font-size:12px;opacity:1.0;stroke:rgb(16.1%,15.3%,14.1%);stroke-opacity:1.0;stroke-width:1.0\" viewBox=\"0 0 260.0 275.0\" width=\"260.0px\" xmlns=\"http://www.w3.org/2000/svg\" xmlns:toyplot=\"http://www.sandia.gov/toyplot\" xmlns:xlink=\"http://www.w3.org/1999/xlink\"><g class=\"toyplot-coordinates-Cartesian\" id=\"t697b37b1c53a462b88092e632b913bd1\"><clipPath id=\"t8923dbc180574259a0bc2b6327179eec\"><rect height=\"215.0\" width=\"200.0\" x=\"30.0\" y=\"30.0\"></rect></clipPath><g clip-path=\"url(#t8923dbc180574259a0bc2b6327179eec)\"><g class=\"toytree-mark-Toytree\" id=\"t36befd4aed014efdb0199652ec995dd1\"><g class=\"toytree-Edges\" style=\"fill:none;stroke:rgb(14.9%,14.9%,14.9%);stroke-linecap:round;stroke-opacity:1;stroke-width:2\"><path d=\"M 51.8 123.2 L 51.8 80.1 L 99.0 80.1\" id=\"8,7\"></path><path d=\"M 51.8 123.2 L 51.8 166.2 L 99.0 166.2\" id=\"8,6\"></path><path d=\"M 99.0 166.2 L 99.0 194.9 L 146.2 194.9\" id=\"6,5\"></path><path d=\"M 99.0 80.1 L 99.0 61.0 L 193.5 61.0\" id=\"7,4\"></path><path d=\"M 99.0 80.1 L 99.0 99.3 L 193.5 99.3\" id=\"7,3\"></path><path d=\"M 99.0 166.2 L 99.0 137.5 L 193.5 137.5\" id=\"6,2\"></path><path d=\"M 146.2 194.9 L 146.2 175.7 L 193.5 175.7\" id=\"5,1\"></path><path d=\"M 146.2 194.9 L 146.2 214.0 L 193.5 214.0\" id=\"5,0\"></path></g><g class=\"toytree-NodeLabels\" style=\"fill:rgb(14.9%,14.9%,14.9%);fill-opacity:1.0;font-size:9px;stroke:none\"><g transform=\"translate(167.21,216.29)\"><text>100.0</text></g><g transform=\"translate(167.21,178.04)\"><text>100.0</text></g><g transform=\"translate(167.21,139.80)\"><text>100.0</text></g><g transform=\"translate(167.21,101.56)\"><text>100.0</text></g><g transform=\"translate(167.21,63.31)\"><text>100.0</text></g><g transform=\"translate(119.98,197.16)\"><text>100.0</text></g><g transform=\"translate(72.74,168.48)\"><text>100.0</text></g><g transform=\"translate(72.74,82.43)\"><text>100.0</text></g><g transform=\"translate(29.27,125.46)\"><text>nan</text></g></g><g class=\"toytree-TipLabels\" style=\"fill:rgb(14.9%,14.9%,14.9%);fill-opacity:1.0;font-family:helvetica;font-size:11px;font-weight:normal;stroke:none;white-space:pre\"><g transform=\"translate(193.47,213.99)rotate(0)\"><text style=\"\" x=\"15.00\" y=\"2.81\">r0</text></g><g transform=\"translate(193.47,175.74)rotate(0)\"><text style=\"\" x=\"15.00\" y=\"2.81\">r1</text></g><g transform=\"translate(193.47,137.50)rotate(0)\"><text style=\"\" x=\"15.00\" y=\"2.81\">r2</text></g><g transform=\"translate(193.47,99.26)rotate(0)\"><text style=\"\" x=\"15.00\" y=\"2.81\">r3</text></g><g transform=\"translate(193.47,61.01)rotate(0)\"><text style=\"\" x=\"15.00\" y=\"2.81\">r4</text></g></g></g></g></g></svg><div class=\"toyplot-behavior\"><script>(function()\n",
       "{\n",
       "var modules={};\n",
       "})();</script></div></div>"
      ]
     },
     "metadata": {},
     "output_type": "display_data"
    }
   ],
   "source": [
    "tre.draw(\n",
    "    node_labels=(\"support\", 1, 0), \n",
    "    node_labels_style={\"-toyplot-anchor-shift\": \"-15px\"}\n",
    ");"
   ]
  },
  {
   "cell_type": "code",
   "execution_count": null,
   "metadata": {},
   "outputs": [],
   "source": []
  }
 ],
 "metadata": {
  "kernelspec": {
   "display_name": "Python 3 (ipykernel)",
   "language": "python",
   "name": "python3"
  },
  "language_info": {
   "codemirror_mode": {
    "name": "ipython",
    "version": 3
   },
   "file_extension": ".py",
   "mimetype": "text/x-python",
   "name": "python",
   "nbconvert_exporter": "python",
   "pygments_lexer": "ipython3",
   "version": "3.9.7"
  }
 },
 "nbformat": 4,
 "nbformat_minor": 4
}
