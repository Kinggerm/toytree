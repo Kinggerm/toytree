{
 "cells": [
  {
   "cell_type": "markdown",
   "metadata": {},
   "source": [
    "### Issue 32: add_sisters has strange behavior\n",
    "\n",
    "I added the 'split' option to `add_sister` to allow adding a subtree as sister to another subtree. I think this is beyond the original goal of the function which was to add single tips sister to other single tips. To add a subtree to a subtree we need to create a new node, and thus we want to also be able to set the .dist of this node. Examples shown."
   ]
  },
  {
   "cell_type": "code",
   "execution_count": 1,
   "metadata": {},
   "outputs": [],
   "source": [
    "import toytree"
   ]
  },
  {
   "cell_type": "markdown",
   "metadata": {},
   "source": [
    "### 'add_sister' in the context of treenodes\n",
    "I think this is the intended use of `add_sister`. I agree the behavior is weird when adding a subtree instead of a single tip."
   ]
  },
  {
   "cell_type": "code",
   "execution_count": 2,
   "metadata": {},
   "outputs": [
    {
     "name": "stdout",
     "output_type": "stream",
     "text": [
      "\n",
      "   /-A\n",
      "--|\n",
      "   \\-B\n"
     ]
    }
   ],
   "source": [
    "# only using add_child to build a clade\n",
    "anc = toytree.TreeNode.TreeNode(name=\"Anc\")\n",
    "anc.add_child(name=\"A\")\n",
    "anc.add_child(name=\"B\")\n",
    "print(anc)"
   ]
  },
  {
   "cell_type": "code",
   "execution_count": 3,
   "metadata": {},
   "outputs": [
    {
     "name": "stdout",
     "output_type": "stream",
     "text": [
      "\n",
      "   /-A\n",
      "--|\n",
      "   \\-B\n"
     ]
    }
   ],
   "source": [
    "# same as above using add_sister\n",
    "anc = toytree.TreeNode.TreeNode(name=\"Anc\")\n",
    "anc.add_child(name=\"A\")\n",
    "anc.children[0].add_sister(name=\"B\")\n",
    "print(anc)"
   ]
  },
  {
   "cell_type": "code",
   "execution_count": 4,
   "metadata": {},
   "outputs": [
    {
     "name": "stdout",
     "output_type": "stream",
     "text": [
      "\n",
      "   /-A\n",
      "  |\n",
      "--|--B\n",
      "  |\n",
      "   \\-C\n"
     ]
    }
   ],
   "source": [
    "# but, adding a sister to a clade just creates polytomies...\n",
    "anc = toytree.TreeNode.TreeNode(name=\"Anc\")\n",
    "anc.add_child(name=\"A\")\n",
    "anc.children[0].add_sister(name=\"B\")\n",
    "anc.children[0].add_sister(name=\"C\")\n",
    "print(anc)"
   ]
  },
  {
   "cell_type": "code",
   "execution_count": 23,
   "metadata": {},
   "outputs": [
    {
     "name": "stdout",
     "output_type": "stream",
     "text": [
      "\n",
      "      /-A\n",
      "   /-|\n",
      "  |   \\-B\n",
      "--|\n",
      "  |   /-C\n",
      "   \\-|\n",
      "      \\-D\n"
     ]
    }
   ],
   "source": [
    "# similarly adding a clade as sister to a clade does the same\n",
    "anc1 = toytree.TreeNode.TreeNode(name=\"Anc1\")\n",
    "anc1.add_child(name=\"A\")\n",
    "anc1.children[0].add_sister(name=\"B\")\n",
    "\n",
    "anc2 = toytree.TreeNode.TreeNode(name=\"Anc2\")\n",
    "anc2.add_child(name=\"C\")\n",
    "anc2.children[0].add_sister(name=\"D\")\n",
    "\n",
    "anc = toytree.TreeNode.TreeNode('Anc')\n",
    "anc.add_child(anc1)\n",
    "anc.children[0].add_sister(anc2)\n",
    "\n",
    "print(anc)"
   ]
  },
  {
   "cell_type": "markdown",
   "metadata": {},
   "source": [
    "# Example with toytree\n"
   ]
  },
  {
   "cell_type": "code",
   "execution_count": 5,
   "metadata": {},
   "outputs": [
    {
     "data": {
      "text/html": [
       "<div class=\"toyplot\" id=\"t0e1685b9322944fbb6fa8ab910cd40d6\" style=\"text-align:center\"><svg class=\"toyplot-canvas-Canvas\" height=\"275.0px\" id=\"t91ebdc7815454f50a906cfea9b0e61c3\" preserveAspectRatio=\"xMidYMid meet\" style=\"background-color:transparent;border-color:#292724;border-style:none;border-width:1.0;fill:rgb(16.1%,15.3%,14.1%);fill-opacity:1.0;font-family:Helvetica;font-size:12px;opacity:1.0;stroke:rgb(16.1%,15.3%,14.1%);stroke-opacity:1.0;stroke-width:1.0\" viewBox=\"0 0 255.0 275.0\" width=\"255.0px\" xmlns=\"http://www.w3.org/2000/svg\" xmlns:toyplot=\"http://www.sandia.gov/toyplot\" xmlns:xlink=\"http://www.w3.org/1999/xlink\"><g class=\"toyplot-coordinates-Cartesian\" id=\"te9ada0397fbb46cea72e5dac4ecaed6a\"><clipPath id=\"t133275ae3d2f4cc5be1563dc69026786\"><rect height=\"215.0\" width=\"195.0\" x=\"30.0\" y=\"30.0\"></rect></clipPath><g clip-path=\"url(#t133275ae3d2f4cc5be1563dc69026786)\"><g class=\"toytree-mark-Toytree\" id=\"tde373114008b42f7a115d4e5bf922ade\"><g class=\"toytree-Edges\" style=\"fill:none;stroke:rgb(14.9%,14.9%,14.9%);stroke-linecap:round;stroke-opacity:1;stroke-width:2\"><path d=\"M 62.6 137.5 L 62.6 62.8 L 192.4 62.8\" id=\"2,1\"></path><path d=\"M 62.6 137.5 L 62.6 212.2 L 127.5 212.2\" id=\"2,0\"></path></g><g class=\"toytree-Nodes\" style=\"fill:rgb(82.7%,82.7%,82.7%);fill-opacity:1.0;stroke:rgb(14.9%,14.9%,14.9%);stroke-opacity:1.0;stroke-width:1.5\"><g id=\"node-0\" transform=\"translate(127.500,212.195)\"><circle r=\"7.5\"></circle></g><g id=\"node-1\" transform=\"translate(192.432,62.805)\"><circle r=\"7.5\"></circle></g><g id=\"node-2\" transform=\"translate(62.568,137.500)\"><circle r=\"7.5\"></circle></g></g><g class=\"toytree-NodeLabels\" style=\"fill:rgb(14.9%,14.9%,14.9%);fill-opacity:1.0;font-size:9px;stroke:none\"><g transform=\"translate(125.00,214.49)\"><text>0</text></g><g transform=\"translate(189.93,65.10)\"><text>1</text></g><g transform=\"translate(60.07,139.80)\"><text>2</text></g></g><g class=\"toytree-TipLabels\" style=\"fill:rgb(14.9%,14.9%,14.9%);fill-opacity:1.0;font-family:helvetica;font-size:11px;font-weight:normal;stroke:none;white-space:pre\"><g transform=\"translate(127.50,212.20)rotate(0)\"><text style=\"\" x=\"15.00\" y=\"2.81\">B</text></g><g transform=\"translate(192.43,62.80)rotate(0)\"><text style=\"\" x=\"15.00\" y=\"2.81\">A</text></g></g></g></g></g></svg><div class=\"toyplot-behavior\"><script>(function()\n",
       "{\n",
       "var modules={};\n",
       "})();</script></div></div>"
      ]
     },
     "metadata": {},
     "output_type": "display_data"
    }
   ],
   "source": [
    "# a subtree\n",
    "new = toytree.tree(newick=\"(A:2,B:1):1;\")\n",
    "new.draw(ts='s', use_edge_lengths=True);"
   ]
  },
  {
   "cell_type": "code",
   "execution_count": 6,
   "metadata": {},
   "outputs": [
    {
     "data": {
      "text/html": [
       "<div class=\"toyplot\" id=\"t95cdf315c57c4d3a8fd1b43a3fc86771\" style=\"text-align:center\"><svg class=\"toyplot-canvas-Canvas\" height=\"275.0px\" id=\"tf312fdef3bd44c2184daa2549ab9ce1e\" preserveAspectRatio=\"xMidYMid meet\" style=\"background-color:transparent;border-color:#292724;border-style:none;border-width:1.0;fill:rgb(16.1%,15.3%,14.1%);fill-opacity:1.0;font-family:Helvetica;font-size:12px;opacity:1.0;stroke:rgb(16.1%,15.3%,14.1%);stroke-opacity:1.0;stroke-width:1.0\" viewBox=\"0 0 260.0 275.0\" width=\"260.0px\" xmlns=\"http://www.w3.org/2000/svg\" xmlns:toyplot=\"http://www.sandia.gov/toyplot\" xmlns:xlink=\"http://www.w3.org/1999/xlink\"><g class=\"toyplot-coordinates-Cartesian\" id=\"t77f7d038bc2d488b8f30fb7e44d36d91\"><clipPath id=\"tca241c9633f04048a075676f65ed64c4\"><rect height=\"215.0\" width=\"200.0\" x=\"30.0\" y=\"30.0\"></rect></clipPath><g clip-path=\"url(#tca241c9633f04048a075676f65ed64c4)\"><g class=\"toytree-mark-Toytree\" id=\"t672a96accbd540d5b41d2463582e6477\"><g class=\"toytree-Edges\" style=\"fill:none;stroke:rgb(14.9%,14.9%,14.9%);stroke-linecap:round;stroke-opacity:1;stroke-width:2\"><path d=\"M 62.4 117.3 L 62.4 77.3 L 115.3 77.3\" id=\"18,17\"></path><path d=\"M 62.4 117.3 L 62.4 157.2 L 88.8 157.2\" id=\"18,16\"></path><path d=\"M 115.3 77.3 L 115.3 91.9 L 141.7 91.9\" id=\"17,15\"></path><path d=\"M 88.8 157.2 L 88.8 137.5 L 168.1 137.5\" id=\"16,14\"></path><path d=\"M 88.8 157.2 L 88.8 176.9 L 115.3 176.9\" id=\"16,13\"></path><path d=\"M 141.7 91.9 L 141.7 104.3 L 168.1 104.3\" id=\"15,12\"></path><path d=\"M 115.3 176.9 L 115.3 191.4 L 141.7 191.4\" id=\"13,11\"></path><path d=\"M 141.7 191.4 L 141.7 203.9 L 168.1 203.9\" id=\"11,10\"></path><path d=\"M 115.3 77.3 L 115.3 62.8 L 194.6 62.8\" id=\"17,9\"></path><path d=\"M 141.7 91.9 L 141.7 79.4 L 194.6 79.4\" id=\"15,8\"></path><path d=\"M 168.1 104.3 L 168.1 96.0 L 194.6 96.0\" id=\"12,7\"></path><path d=\"M 168.1 104.3 L 168.1 112.6 L 194.6 112.6\" id=\"12,6\"></path><path d=\"M 168.1 137.5 L 168.1 129.2 L 194.6 129.2\" id=\"14,5\"></path><path d=\"M 168.1 137.5 L 168.1 145.8 L 194.6 145.8\" id=\"14,4\"></path><path d=\"M 115.3 176.9 L 115.3 162.4 L 194.6 162.4\" id=\"13,3\"></path><path d=\"M 141.7 191.4 L 141.7 179.0 L 194.6 179.0\" id=\"11,2\"></path><path d=\"M 168.1 203.9 L 168.1 195.6 L 194.6 195.6\" id=\"10,1\"></path><path d=\"M 168.1 203.9 L 168.1 212.2 L 194.6 212.2\" id=\"10,0\"></path></g><g class=\"toytree-Nodes\" style=\"fill:rgb(82.7%,82.7%,82.7%);fill-opacity:1.0;stroke:rgb(14.9%,14.9%,14.9%);stroke-opacity:1.0;stroke-width:1.5\"><g id=\"node-0\" transform=\"translate(194.577,212.195)\"><circle r=\"7.5\"></circle></g><g id=\"node-1\" transform=\"translate(194.577,195.596)\"><circle r=\"7.5\"></circle></g><g id=\"node-2\" transform=\"translate(194.577,178.997)\"><circle r=\"7.5\"></circle></g><g id=\"node-3\" transform=\"translate(194.577,162.398)\"><circle r=\"7.5\"></circle></g><g id=\"node-4\" transform=\"translate(194.577,145.799)\"><circle r=\"7.5\"></circle></g><g id=\"node-5\" transform=\"translate(194.577,129.201)\"><circle r=\"7.5\"></circle></g><g id=\"node-6\" transform=\"translate(194.577,112.602)\"><circle r=\"7.5\"></circle></g><g id=\"node-7\" transform=\"translate(194.577,96.003)\"><circle r=\"7.5\"></circle></g><g id=\"node-8\" transform=\"translate(194.577,79.404)\"><circle r=\"7.5\"></circle></g><g id=\"node-9\" transform=\"translate(194.577,62.805)\"><circle r=\"7.5\"></circle></g><g id=\"node-10\" transform=\"translate(168.140,203.896)\"><circle r=\"7.5\"></circle></g><g id=\"node-11\" transform=\"translate(141.703,191.446)\"><circle r=\"7.5\"></circle></g><g id=\"node-12\" transform=\"translate(168.140,104.302)\"><circle r=\"7.5\"></circle></g><g id=\"node-13\" transform=\"translate(115.266,176.922)\"><circle r=\"7.5\"></circle></g><g id=\"node-14\" transform=\"translate(168.140,137.500)\"><circle r=\"7.5\"></circle></g><g id=\"node-15\" transform=\"translate(141.703,91.853)\"><circle r=\"7.5\"></circle></g><g id=\"node-16\" transform=\"translate(88.829,157.211)\"><circle r=\"7.5\"></circle></g><g id=\"node-17\" transform=\"translate(115.266,77.329)\"><circle r=\"7.5\"></circle></g><g id=\"node-18\" transform=\"translate(62.392,117.270)\"><circle r=\"7.5\"></circle></g></g><g class=\"toytree-NodeLabels\" style=\"fill:rgb(14.9%,14.9%,14.9%);fill-opacity:1.0;font-size:9px;stroke:none\"><g transform=\"translate(192.07,214.49)\"><text>0</text></g><g transform=\"translate(192.07,197.90)\"><text>1</text></g><g transform=\"translate(192.07,181.30)\"><text>2</text></g><g transform=\"translate(192.07,164.70)\"><text>3</text></g><g transform=\"translate(192.07,148.10)\"><text>4</text></g><g transform=\"translate(192.07,131.50)\"><text>5</text></g><g transform=\"translate(192.07,114.90)\"><text>6</text></g><g transform=\"translate(192.07,98.30)\"><text>7</text></g><g transform=\"translate(192.07,81.70)\"><text>8</text></g><g transform=\"translate(192.07,65.10)\"><text>9</text></g><g transform=\"translate(163.14,206.20)\"><text>10</text></g><g transform=\"translate(136.70,193.75)\"><text>11</text></g><g transform=\"translate(163.14,106.60)\"><text>12</text></g><g transform=\"translate(110.26,179.22)\"><text>13</text></g><g transform=\"translate(163.14,139.80)\"><text>14</text></g><g transform=\"translate(136.70,94.15)\"><text>15</text></g><g transform=\"translate(83.83,159.51)\"><text>16</text></g><g transform=\"translate(110.26,79.63)\"><text>17</text></g><g transform=\"translate(57.39,119.57)\"><text>18</text></g></g><g class=\"toytree-TipLabels\" style=\"fill:rgb(14.9%,14.9%,14.9%);fill-opacity:1.0;font-family:helvetica;font-size:11px;font-weight:normal;stroke:none;white-space:pre\"><g transform=\"translate(194.58,212.20)rotate(0)\"><text style=\"\" x=\"15.00\" y=\"2.81\">r0</text></g><g transform=\"translate(194.58,195.60)rotate(0)\"><text style=\"\" x=\"15.00\" y=\"2.81\">r1</text></g><g transform=\"translate(194.58,179.00)rotate(0)\"><text style=\"\" x=\"15.00\" y=\"2.81\">r2</text></g><g transform=\"translate(194.58,162.40)rotate(0)\"><text style=\"\" x=\"15.00\" y=\"2.81\">r3</text></g><g transform=\"translate(194.58,145.80)rotate(0)\"><text style=\"\" x=\"15.00\" y=\"2.81\">r4</text></g><g transform=\"translate(194.58,129.20)rotate(0)\"><text style=\"\" x=\"15.00\" y=\"2.81\">r5</text></g><g transform=\"translate(194.58,112.60)rotate(0)\"><text style=\"\" x=\"15.00\" y=\"2.81\">r6</text></g><g transform=\"translate(194.58,96.00)rotate(0)\"><text style=\"\" x=\"15.00\" y=\"2.81\">r7</text></g><g transform=\"translate(194.58,79.40)rotate(0)\"><text style=\"\" x=\"15.00\" y=\"2.81\">r8</text></g><g transform=\"translate(194.58,62.80)rotate(0)\"><text style=\"\" x=\"15.00\" y=\"2.81\">r9</text></g></g></g></g></g></svg><div class=\"toyplot-behavior\"><script>(function()\n",
       "{\n",
       "var modules={};\n",
       "})();</script></div></div>"
      ]
     },
     "metadata": {},
     "output_type": "display_data"
    }
   ],
   "source": [
    "# create some other tree\n",
    "tre = toytree.rtree.unittree(ntips=10, treeheight=10, seed=123)\n",
    "tre.draw(ts='s');"
   ]
  },
  {
   "cell_type": "code",
   "execution_count": 7,
   "metadata": {},
   "outputs": [
    {
     "data": {
      "text/html": [
       "<div class=\"toyplot\" id=\"t74409088c7774b41b435da717df92d4b\" style=\"text-align:center\"><svg class=\"toyplot-canvas-Canvas\" height=\"400.0px\" id=\"t41955cf283a64c2ea2cc1cea078c8d89\" preserveAspectRatio=\"xMidYMid meet\" style=\"background-color:transparent;border-color:#292724;border-style:none;border-width:1.0;fill:rgb(16.1%,15.3%,14.1%);fill-opacity:1.0;font-family:Helvetica;font-size:12px;opacity:1.0;stroke:rgb(16.1%,15.3%,14.1%);stroke-opacity:1.0;stroke-width:1.0\" viewBox=\"0 0 260.0 400.0\" width=\"260.0px\" xmlns=\"http://www.w3.org/2000/svg\" xmlns:toyplot=\"http://www.sandia.gov/toyplot\" xmlns:xlink=\"http://www.w3.org/1999/xlink\"><g class=\"toyplot-coordinates-Cartesian\" id=\"tbaaab2f6177f4887985e01c3d20b14e7\"><clipPath id=\"t5d31aa8ae09347d8b452e50b562c2bb6\"><rect height=\"340.0\" width=\"200.0\" x=\"30.0\" y=\"30.0\"></rect></clipPath><g clip-path=\"url(#t5d31aa8ae09347d8b452e50b562c2bb6)\"><g class=\"toytree-mark-Toytree\" id=\"t1d64da29df994c9f8732f0b6a220ac72\"><g class=\"toytree-Edges\" style=\"fill:none;stroke:rgb(14.9%,14.9%,14.9%);stroke-linecap:round;stroke-opacity:1;stroke-width:2\"><path d=\"M 62.6 147.8 L 62.6 85.3 L 83.4 85.3\" id=\"21,20\"></path><path d=\"M 62.6 147.8 L 62.6 210.3 L 83.4 210.3\" id=\"21,19\"></path><path d=\"M 83.4 85.3 L 83.4 107.0 L 104.1 107.0\" id=\"20,18\"></path><path d=\"M 83.4 210.3 L 83.4 175.2 L 104.1 175.2\" id=\"19,17\"></path><path d=\"M 83.4 210.3 L 83.4 245.5 L 104.1 245.5\" id=\"19,16\"></path><path d=\"M 104.1 107.0 L 104.1 125.6 L 124.8 125.6\" id=\"18,15\"></path><path d=\"M 104.1 245.5 L 104.1 278.5 L 124.8 278.5\" id=\"16,14\"></path><path d=\"M 124.8 278.5 L 124.8 274.4 L 145.5 274.4\" id=\"14,13\"></path><path d=\"M 124.8 278.5 L 124.8 324.0 L 176.6 324.0\" id=\"14,12\"></path><path d=\"M 83.4 85.3 L 83.4 63.6 L 166.3 63.6\" id=\"20,11\"></path><path d=\"M 104.1 107.0 L 104.1 88.4 L 166.3 88.4\" id=\"18,10\"></path><path d=\"M 124.8 125.6 L 124.8 113.2 L 166.3 113.2\" id=\"15,9\"></path><path d=\"M 124.8 125.6 L 124.8 138.0 L 166.3 138.0\" id=\"15,8\"></path><path d=\"M 104.1 175.2 L 104.1 162.8 L 166.3 162.8\" id=\"17,7\"></path><path d=\"M 104.1 175.2 L 104.1 187.6 L 166.3 187.6\" id=\"17,6\"></path><path d=\"M 104.1 245.5 L 104.1 212.4 L 166.3 212.4\" id=\"16,5\"></path><path d=\"M 124.8 278.5 L 124.8 237.2 L 166.3 237.2\" id=\"14,4\"></path><path d=\"M 145.5 274.4 L 145.5 262.0 L 166.3 262.0\" id=\"13,3\"></path><path d=\"M 145.5 274.4 L 145.5 286.8 L 166.3 286.8\" id=\"13,2\"></path><path d=\"M 176.6 324.0 L 176.6 311.6 L 197.4 311.6\" id=\"12,1\"></path><path d=\"M 176.6 324.0 L 176.6 336.4 L 187.0 336.4\" id=\"12,0\"></path></g><g class=\"toytree-Nodes\" style=\"fill:rgb(82.7%,82.7%,82.7%);fill-opacity:1.0;stroke:rgb(14.9%,14.9%,14.9%);stroke-opacity:1.0;stroke-width:1.5\"><g id=\"node-0\" transform=\"translate(187.004,336.364)\"><circle r=\"7.5\"></circle></g><g id=\"node-1\" transform=\"translate(197.368,311.570)\"><circle r=\"7.5\"></circle></g><g id=\"node-2\" transform=\"translate(166.275,286.777)\"><circle r=\"7.5\"></circle></g><g id=\"node-3\" transform=\"translate(166.275,261.983)\"><circle r=\"7.5\"></circle></g><g id=\"node-4\" transform=\"translate(166.275,237.190)\"><circle r=\"7.5\"></circle></g><g id=\"node-5\" transform=\"translate(166.275,212.397)\"><circle r=\"7.5\"></circle></g><g id=\"node-6\" transform=\"translate(166.275,187.603)\"><circle r=\"7.5\"></circle></g><g id=\"node-7\" transform=\"translate(166.275,162.810)\"><circle r=\"7.5\"></circle></g><g id=\"node-8\" transform=\"translate(166.275,138.017)\"><circle r=\"7.5\"></circle></g><g id=\"node-9\" transform=\"translate(166.275,113.223)\"><circle r=\"7.5\"></circle></g><g id=\"node-10\" transform=\"translate(166.275,88.430)\"><circle r=\"7.5\"></circle></g><g id=\"node-11\" transform=\"translate(166.275,63.636)\"><circle r=\"7.5\"></circle></g><g id=\"node-12\" transform=\"translate(176.640,323.967)\"><circle r=\"7.5\"></circle></g><g id=\"node-13\" transform=\"translate(145.547,274.380)\"><circle r=\"7.5\"></circle></g><g id=\"node-14\" transform=\"translate(124.818,278.512)\"><circle r=\"7.5\"></circle></g><g id=\"node-15\" transform=\"translate(124.818,125.620)\"><circle r=\"7.5\"></circle></g><g id=\"node-16\" transform=\"translate(104.089,245.455)\"><circle r=\"7.5\"></circle></g><g id=\"node-17\" transform=\"translate(104.089,175.207)\"><circle r=\"7.5\"></circle></g><g id=\"node-18\" transform=\"translate(104.089,107.025)\"><circle r=\"7.5\"></circle></g><g id=\"node-19\" transform=\"translate(83.360,210.331)\"><circle r=\"7.5\"></circle></g><g id=\"node-20\" transform=\"translate(83.360,85.331)\"><circle r=\"7.5\"></circle></g><g id=\"node-21\" transform=\"translate(62.632,147.831)\"><circle r=\"7.5\"></circle></g></g><g class=\"toytree-NodeLabels\" style=\"fill:rgb(14.9%,14.9%,14.9%);fill-opacity:1.0;font-size:9px;stroke:none\"><g transform=\"translate(184.50,338.66)\"><title>idx: 0\n",
       "dist: 1.0000\n",
       "support: 0.0000\n",
       "height: 1.0000\n",
       "name: B</title><text>0</text></g><g transform=\"translate(194.87,313.87)\"><title>idx: 1\n",
       "dist: 2.0000\n",
       "support: 0.0000\n",
       "height: 0.0000\n",
       "name: A</title><text>1</text></g><g transform=\"translate(163.77,289.08)\"><title>idx: 2\n",
       "dist: 2.0000\n",
       "support: 100.0000\n",
       "height: 3.0000\n",
       "name: r0</title><text>2</text></g><g transform=\"translate(163.77,264.28)\"><title>idx: 3\n",
       "dist: 2.0000\n",
       "support: 100.0000\n",
       "height: 3.0000\n",
       "name: r1</title><text>3</text></g><g transform=\"translate(163.77,239.49)\"><title>idx: 4\n",
       "dist: 4.0000\n",
       "support: 100.0000\n",
       "height: 3.0000\n",
       "name: r2</title><text>4</text></g><g transform=\"translate(163.77,214.70)\"><title>idx: 5\n",
       "dist: 6.0000\n",
       "support: 100.0000\n",
       "height: 3.0000\n",
       "name: r3</title><text>5</text></g><g transform=\"translate(163.77,189.90)\"><title>idx: 6\n",
       "dist: 6.0000\n",
       "support: 100.0000\n",
       "height: 3.0000\n",
       "name: r4</title><text>6</text></g><g transform=\"translate(163.77,165.11)\"><title>idx: 7\n",
       "dist: 6.0000\n",
       "support: 100.0000\n",
       "height: 3.0000\n",
       "name: r5</title><text>7</text></g><g transform=\"translate(163.77,140.32)\"><title>idx: 8\n",
       "dist: 4.0000\n",
       "support: 100.0000\n",
       "height: 3.0000\n",
       "name: r6</title><text>8</text></g><g transform=\"translate(163.77,115.52)\"><title>idx: 9\n",
       "dist: 4.0000\n",
       "support: 100.0000\n",
       "height: 3.0000\n",
       "name: r7</title><text>9</text></g><g transform=\"translate(161.27,90.73)\"><title>idx: 10\n",
       "dist: 6.0000\n",
       "support: 100.0000\n",
       "height: 3.0000\n",
       "name: r8</title><text>10</text></g><g transform=\"translate(161.27,65.94)\"><title>idx: 11\n",
       "dist: 8.0000\n",
       "support: 100.0000\n",
       "height: 3.0000\n",
       "name: r9</title><text>11</text></g><g transform=\"translate(171.64,326.27)\"><title>idx: 12\n",
       "dist: 5.0000\n",
       "support: 0.0000\n",
       "height: 2.0000\n",
       "name: X</title><text>12</text></g><g transform=\"translate(140.54,276.68)\"><title>idx: 13\n",
       "dist: 2.0000\n",
       "support: 100.0000\n",
       "height: 5.0000\n",
       "name: 10</title><text>13</text></g><g transform=\"translate(119.81,280.81)\"><title>idx: 14\n",
       "dist: 2.0000\n",
       "support: 100.0000\n",
       "height: 7.0000\n",
       "name: 11</title><text>14</text></g><g transform=\"translate(119.81,127.92)\"><title>idx: 15\n",
       "dist: 2.0000\n",
       "support: 100.0000\n",
       "height: 7.0000\n",
       "name: 12</title><text>15</text></g><g transform=\"translate(99.09,247.75)\"><title>idx: 16\n",
       "dist: 2.0000\n",
       "support: 100.0000\n",
       "height: 9.0000\n",
       "name: 13</title><text>16</text></g><g transform=\"translate(99.09,177.51)\"><title>idx: 17\n",
       "dist: 2.0000\n",
       "support: 100.0000\n",
       "height: 9.0000\n",
       "name: 14</title><text>17</text></g><g transform=\"translate(99.09,109.32)\"><title>idx: 18\n",
       "dist: 2.0000\n",
       "support: 100.0000\n",
       "height: 9.0000\n",
       "name: 15</title><text>18</text></g><g transform=\"translate(78.36,212.63)\"><title>idx: 19\n",
       "dist: 2.0000\n",
       "support: 100.0000\n",
       "height: 11.0000\n",
       "name: 16</title><text>19</text></g><g transform=\"translate(78.36,87.63)\"><title>idx: 20\n",
       "dist: 2.0000\n",
       "support: 100.0000\n",
       "height: 11.0000\n",
       "name: 17</title><text>20</text></g><g transform=\"translate(57.63,150.13)\"><title>idx: 21\n",
       "dist: 2.0000\n",
       "support: 100.0000\n",
       "height: 13.0000\n",
       "name: 18</title><text>21</text></g></g><g class=\"toytree-TipLabels\" style=\"fill:rgb(14.9%,14.9%,14.9%);fill-opacity:1.0;font-family:helvetica;font-size:11px;font-weight:normal;stroke:none;white-space:pre\"><g transform=\"translate(187.00,336.36)rotate(0)\"><text style=\"\" x=\"15.00\" y=\"2.81\">B</text></g><g transform=\"translate(197.37,311.57)rotate(0)\"><text style=\"\" x=\"15.00\" y=\"2.81\">A</text></g><g transform=\"translate(166.28,286.78)rotate(0)\"><text style=\"\" x=\"15.00\" y=\"2.81\">r0</text></g><g transform=\"translate(166.28,261.98)rotate(0)\"><text style=\"\" x=\"15.00\" y=\"2.81\">r1</text></g><g transform=\"translate(166.28,237.19)rotate(0)\"><text style=\"\" x=\"15.00\" y=\"2.81\">r2</text></g><g transform=\"translate(166.28,212.40)rotate(0)\"><text style=\"\" x=\"15.00\" y=\"2.81\">r3</text></g><g transform=\"translate(166.28,187.60)rotate(0)\"><text style=\"\" x=\"15.00\" y=\"2.81\">r4</text></g><g transform=\"translate(166.28,162.81)rotate(0)\"><text style=\"\" x=\"15.00\" y=\"2.81\">r5</text></g><g transform=\"translate(166.28,138.02)rotate(0)\"><text style=\"\" x=\"15.00\" y=\"2.81\">r6</text></g><g transform=\"translate(166.28,113.22)rotate(0)\"><text style=\"\" x=\"15.00\" y=\"2.81\">r7</text></g><g transform=\"translate(166.28,88.43)rotate(0)\"><text style=\"\" x=\"15.00\" y=\"2.81\">r8</text></g><g transform=\"translate(166.28,63.64)rotate(0)\"><text style=\"\" x=\"15.00\" y=\"2.81\">r9</text></g></g></g></g></g></svg><div class=\"toyplot-behavior\"><script>(function()\n",
       "{\n",
       "var modules={};\n",
       "})();</script></div></div>"
      ]
     },
     "metadata": {},
     "output_type": "display_data"
    }
   ],
   "source": [
    "# big tree\n",
    "tre = toytree.rtree.unittree(ntips=10, treeheight=10, seed=123)\n",
    "\n",
    "# add subtree to the big tree at node idx 10\n",
    "node = tre.idx_dict[10]\n",
    "node.add_sister(sister=new.treenode, name=\"X\", dist=5);\n",
    "\n",
    "# update toytree object for new node (always do this after mod'ing treenode structure)\n",
    "tre._coords.update()\n",
    "\n",
    "# draw new tree, hover to see node idx and names; it names node 12 'X'\n",
    "tre.draw(ts='s', height=400, node_hover=True, use_edge_lengths=True);"
   ]
  },
  {
   "cell_type": "markdown",
   "metadata": {},
   "source": [
    "### Using the 'split' argument instead to append clades sister to clades"
   ]
  },
  {
   "cell_type": "code",
   "execution_count": 8,
   "metadata": {},
   "outputs": [
    {
     "data": {
      "text/html": [
       "<div class=\"toyplot\" id=\"t357721aeb19e4f3d9ac3d5bc33373ebf\" style=\"text-align:center\"><svg class=\"toyplot-canvas-Canvas\" height=\"400.0px\" id=\"tdbedc651bb9541dfb75f8a733ac8bc18\" preserveAspectRatio=\"xMidYMid meet\" style=\"background-color:transparent;border-color:#292724;border-style:none;border-width:1.0;fill:rgb(16.1%,15.3%,14.1%);fill-opacity:1.0;font-family:Helvetica;font-size:12px;opacity:1.0;stroke:rgb(16.1%,15.3%,14.1%);stroke-opacity:1.0;stroke-width:1.0\" viewBox=\"0 0 260.0 400.0\" width=\"260.0px\" xmlns=\"http://www.w3.org/2000/svg\" xmlns:toyplot=\"http://www.sandia.gov/toyplot\" xmlns:xlink=\"http://www.w3.org/1999/xlink\"><g class=\"toyplot-coordinates-Cartesian\" id=\"ta2fe8ad690aa44d281720717938be50e\"><clipPath id=\"tf5d863ff3abf4f8d935b3b5221be783c\"><rect height=\"340.0\" width=\"200.0\" x=\"30.0\" y=\"30.0\"></rect></clipPath><g clip-path=\"url(#tf5d863ff3abf4f8d935b3b5221be783c)\"><g class=\"toytree-mark-Toytree\" id=\"t69ec4bda1b6745de9b6cb3283ba1bcde\"><g class=\"toytree-Edges\" style=\"fill:none;stroke:rgb(14.9%,14.9%,14.9%);stroke-linecap:round;stroke-opacity:1;stroke-width:2\"><path d=\"M 62.4 146.5 L 62.4 85.3 L 88.8 85.3\" id=\"22,21\"></path><path d=\"M 62.4 146.5 L 62.4 207.7 L 88.8 207.7\" id=\"22,20\"></path><path d=\"M 88.8 85.3 L 88.8 107.0 L 115.3 107.0\" id=\"21,19\"></path><path d=\"M 88.8 207.7 L 88.8 175.2 L 115.3 175.2\" id=\"20,18\"></path><path d=\"M 88.8 207.7 L 88.8 240.3 L 115.3 240.3\" id=\"20,17\"></path><path d=\"M 115.3 107.0 L 115.3 125.6 L 141.7 125.6\" id=\"19,16\"></path><path d=\"M 115.3 240.3 L 115.3 268.2 L 141.7 268.2\" id=\"17,15\"></path><path d=\"M 141.7 268.2 L 141.7 299.2 L 154.9 299.2\" id=\"15,14\"></path><path d=\"M 154.9 299.2 L 154.9 274.4 L 168.1 274.4\" id=\"14,13\"></path><path d=\"M 154.9 299.2 L 154.9 324.0 L 168.1 324.0\" id=\"14,12\"></path><path d=\"M 88.8 85.3 L 88.8 63.6 L 194.6 63.6\" id=\"21,11\"></path><path d=\"M 115.3 107.0 L 115.3 88.4 L 194.6 88.4\" id=\"19,10\"></path><path d=\"M 141.7 125.6 L 141.7 113.2 L 194.6 113.2\" id=\"16,9\"></path><path d=\"M 141.7 125.6 L 141.7 138.0 L 194.6 138.0\" id=\"16,8\"></path><path d=\"M 115.3 175.2 L 115.3 162.8 L 194.6 162.8\" id=\"18,7\"></path><path d=\"M 115.3 175.2 L 115.3 187.6 L 194.6 187.6\" id=\"18,6\"></path><path d=\"M 115.3 240.3 L 115.3 212.4 L 194.6 212.4\" id=\"17,5\"></path><path d=\"M 141.7 268.2 L 141.7 237.2 L 194.6 237.2\" id=\"15,4\"></path><path d=\"M 168.1 274.4 L 168.1 262.0 L 194.6 262.0\" id=\"13,3\"></path><path d=\"M 168.1 274.4 L 168.1 286.8 L 194.6 286.8\" id=\"13,2\"></path><path d=\"M 168.1 324.0 L 168.1 311.6 L 194.6 311.6\" id=\"12,1\"></path><path d=\"M 168.1 324.0 L 168.1 336.4 L 181.4 336.4\" id=\"12,0\"></path></g><g class=\"toytree-Nodes\" style=\"fill:rgb(82.7%,82.7%,82.7%);fill-opacity:1.0;stroke:rgb(14.9%,14.9%,14.9%);stroke-opacity:1.0;stroke-width:1.5\"><g id=\"node-0\" transform=\"translate(181.358,336.364)\"><circle r=\"7.5\"></circle></g><g id=\"node-1\" transform=\"translate(194.577,311.570)\"><circle r=\"7.5\"></circle></g><g id=\"node-2\" transform=\"translate(194.577,286.777)\"><circle r=\"7.5\"></circle></g><g id=\"node-3\" transform=\"translate(194.577,261.983)\"><circle r=\"7.5\"></circle></g><g id=\"node-4\" transform=\"translate(194.577,237.190)\"><circle r=\"7.5\"></circle></g><g id=\"node-5\" transform=\"translate(194.577,212.397)\"><circle r=\"7.5\"></circle></g><g id=\"node-6\" transform=\"translate(194.577,187.603)\"><circle r=\"7.5\"></circle></g><g id=\"node-7\" transform=\"translate(194.577,162.810)\"><circle r=\"7.5\"></circle></g><g id=\"node-8\" transform=\"translate(194.577,138.017)\"><circle r=\"7.5\"></circle></g><g id=\"node-9\" transform=\"translate(194.577,113.223)\"><circle r=\"7.5\"></circle></g><g id=\"node-10\" transform=\"translate(194.577,88.430)\"><circle r=\"7.5\"></circle></g><g id=\"node-11\" transform=\"translate(194.577,63.636)\"><circle r=\"7.5\"></circle></g><g id=\"node-12\" transform=\"translate(168.140,323.967)\"><circle r=\"7.5\"></circle></g><g id=\"node-13\" transform=\"translate(168.140,274.380)\"><circle r=\"7.5\"></circle></g><g id=\"node-14\" transform=\"translate(154.921,299.174)\"><circle r=\"7.5\"></circle></g><g id=\"node-15\" transform=\"translate(141.703,268.182)\"><circle r=\"7.5\"></circle></g><g id=\"node-16\" transform=\"translate(141.703,125.620)\"><circle r=\"7.5\"></circle></g><g id=\"node-17\" transform=\"translate(115.266,240.289)\"><circle r=\"7.5\"></circle></g><g id=\"node-18\" transform=\"translate(115.266,175.207)\"><circle r=\"7.5\"></circle></g><g id=\"node-19\" transform=\"translate(115.266,107.025)\"><circle r=\"7.5\"></circle></g><g id=\"node-20\" transform=\"translate(88.829,207.748)\"><circle r=\"7.5\"></circle></g><g id=\"node-21\" transform=\"translate(88.829,85.331)\"><circle r=\"7.5\"></circle></g><g id=\"node-22\" transform=\"translate(62.392,146.539)\"><circle r=\"7.5\"></circle></g></g><g class=\"toytree-NodeLabels\" style=\"fill:rgb(14.9%,14.9%,14.9%);fill-opacity:1.0;font-size:9px;stroke:none\"><g transform=\"translate(178.86,338.66)\"><title>idx: 0\n",
       "dist: 1.0000\n",
       "support: 0.0000\n",
       "height: 1.0000\n",
       "name: B</title><text>0</text></g><g transform=\"translate(192.07,313.87)\"><title>idx: 1\n",
       "dist: 2.0000\n",
       "support: 0.0000\n",
       "height: 0.0000\n",
       "name: A</title><text>1</text></g><g transform=\"translate(192.07,289.08)\"><title>idx: 2\n",
       "dist: 2.0000\n",
       "support: 100.0000\n",
       "height: 0.0000\n",
       "name: r0</title><text>2</text></g><g transform=\"translate(192.07,264.28)\"><title>idx: 3\n",
       "dist: 2.0000\n",
       "support: 100.0000\n",
       "height: 0.0000\n",
       "name: r1</title><text>3</text></g><g transform=\"translate(192.07,239.49)\"><title>idx: 4\n",
       "dist: 4.0000\n",
       "support: 100.0000\n",
       "height: 0.0000\n",
       "name: r2</title><text>4</text></g><g transform=\"translate(192.07,214.70)\"><title>idx: 5\n",
       "dist: 6.0000\n",
       "support: 100.0000\n",
       "height: 0.0000\n",
       "name: r3</title><text>5</text></g><g transform=\"translate(192.07,189.90)\"><title>idx: 6\n",
       "dist: 6.0000\n",
       "support: 100.0000\n",
       "height: 0.0000\n",
       "name: r4</title><text>6</text></g><g transform=\"translate(192.07,165.11)\"><title>idx: 7\n",
       "dist: 6.0000\n",
       "support: 100.0000\n",
       "height: 0.0000\n",
       "name: r5</title><text>7</text></g><g transform=\"translate(192.07,140.32)\"><title>idx: 8\n",
       "dist: 4.0000\n",
       "support: 100.0000\n",
       "height: 0.0000\n",
       "name: r6</title><text>8</text></g><g transform=\"translate(192.07,115.52)\"><title>idx: 9\n",
       "dist: 4.0000\n",
       "support: 100.0000\n",
       "height: 0.0000\n",
       "name: r7</title><text>9</text></g><g transform=\"translate(189.57,90.73)\"><title>idx: 10\n",
       "dist: 6.0000\n",
       "support: 100.0000\n",
       "height: 0.0000\n",
       "name: r8</title><text>10</text></g><g transform=\"translate(189.57,65.94)\"><title>idx: 11\n",
       "dist: 8.0000\n",
       "support: 100.0000\n",
       "height: 0.0000\n",
       "name: r9</title><text>11</text></g><g transform=\"translate(163.14,326.27)\"><title>idx: 12\n",
       "dist: 1.0000\n",
       "support: 0.0000\n",
       "height: 2.0000\n",
       "name: X</title><text>12</text></g><g transform=\"translate(163.14,276.68)\"><title>idx: 13\n",
       "dist: 1.0000\n",
       "support: 100.0000\n",
       "height: 2.0000\n",
       "name: 10</title><text>13</text></g><g transform=\"translate(149.92,301.47)\"><title>idx: 14\n",
       "dist: 1.0000\n",
       "support: 0.0000\n",
       "height: 3.0000\n",
       "name: newnode</title><text>14</text></g><g transform=\"translate(136.70,270.48)\"><title>idx: 15\n",
       "dist: 2.0000\n",
       "support: 100.0000\n",
       "height: 4.0000\n",
       "name: 11</title><text>15</text></g><g transform=\"translate(136.70,127.92)\"><title>idx: 16\n",
       "dist: 2.0000\n",
       "support: 100.0000\n",
       "height: 4.0000\n",
       "name: 12</title><text>16</text></g><g transform=\"translate(110.26,242.59)\"><title>idx: 17\n",
       "dist: 2.0000\n",
       "support: 100.0000\n",
       "height: 6.0000\n",
       "name: 13</title><text>17</text></g><g transform=\"translate(110.26,177.51)\"><title>idx: 18\n",
       "dist: 2.0000\n",
       "support: 100.0000\n",
       "height: 6.0000\n",
       "name: 14</title><text>18</text></g><g transform=\"translate(110.26,109.32)\"><title>idx: 19\n",
       "dist: 2.0000\n",
       "support: 100.0000\n",
       "height: 6.0000\n",
       "name: 15</title><text>19</text></g><g transform=\"translate(83.83,210.05)\"><title>idx: 20\n",
       "dist: 2.0000\n",
       "support: 100.0000\n",
       "height: 8.0000\n",
       "name: 16</title><text>20</text></g><g transform=\"translate(83.83,87.63)\"><title>idx: 21\n",
       "dist: 2.0000\n",
       "support: 100.0000\n",
       "height: 8.0000\n",
       "name: 17</title><text>21</text></g><g transform=\"translate(57.39,148.84)\"><title>idx: 22\n",
       "dist: 2.0000\n",
       "support: 100.0000\n",
       "height: 10.0000\n",
       "name: 18</title><text>22</text></g></g><g class=\"toytree-TipLabels\" style=\"fill:rgb(14.9%,14.9%,14.9%);fill-opacity:1.0;font-family:helvetica;font-size:11px;font-weight:normal;stroke:none;white-space:pre\"><g transform=\"translate(181.36,336.36)rotate(0)\"><text style=\"\" x=\"15.00\" y=\"2.81\">B</text></g><g transform=\"translate(194.58,311.57)rotate(0)\"><text style=\"\" x=\"15.00\" y=\"2.81\">A</text></g><g transform=\"translate(194.58,286.78)rotate(0)\"><text style=\"\" x=\"15.00\" y=\"2.81\">r0</text></g><g transform=\"translate(194.58,261.98)rotate(0)\"><text style=\"\" x=\"15.00\" y=\"2.81\">r1</text></g><g transform=\"translate(194.58,237.19)rotate(0)\"><text style=\"\" x=\"15.00\" y=\"2.81\">r2</text></g><g transform=\"translate(194.58,212.40)rotate(0)\"><text style=\"\" x=\"15.00\" y=\"2.81\">r3</text></g><g transform=\"translate(194.58,187.60)rotate(0)\"><text style=\"\" x=\"15.00\" y=\"2.81\">r4</text></g><g transform=\"translate(194.58,162.81)rotate(0)\"><text style=\"\" x=\"15.00\" y=\"2.81\">r5</text></g><g transform=\"translate(194.58,138.02)rotate(0)\"><text style=\"\" x=\"15.00\" y=\"2.81\">r6</text></g><g transform=\"translate(194.58,113.22)rotate(0)\"><text style=\"\" x=\"15.00\" y=\"2.81\">r7</text></g><g transform=\"translate(194.58,88.43)rotate(0)\"><text style=\"\" x=\"15.00\" y=\"2.81\">r8</text></g><g transform=\"translate(194.58,63.64)rotate(0)\"><text style=\"\" x=\"15.00\" y=\"2.81\">r9</text></g></g></g></g></g></svg><div class=\"toyplot-behavior\"><script>(function()\n",
       "{\n",
       "var modules={};\n",
       "})();</script></div></div>"
      ]
     },
     "metadata": {},
     "output_type": "display_data"
    }
   ],
   "source": [
    "# places new node (idx=14) at midpoint of split edge; names it 'newnode', node idx 12 is named \"X\"\n",
    "tre = toytree.rtree.unittree(ntips=10, treeheight=10, seed=123)\n",
    "tre.idx_dict[10].add_sister(sister=new.treenode, name=\"X\", dist=None, split=True)\n",
    "tre._coords.update()\n",
    "tre.draw(ts='s', height=400, node_hover=True, use_edge_lengths=True);"
   ]
  },
  {
   "cell_type": "code",
   "execution_count": 9,
   "metadata": {},
   "outputs": [
    {
     "data": {
      "text/html": [
       "<div class=\"toyplot\" id=\"te33aa21d8d5949c6b09e99334df36a05\" style=\"text-align:center\"><svg class=\"toyplot-canvas-Canvas\" height=\"400.0px\" id=\"t749b56ea783b422b923c3032384aa46b\" preserveAspectRatio=\"xMidYMid meet\" style=\"background-color:transparent;border-color:#292724;border-style:none;border-width:1.0;fill:rgb(16.1%,15.3%,14.1%);fill-opacity:1.0;font-family:Helvetica;font-size:12px;opacity:1.0;stroke:rgb(16.1%,15.3%,14.1%);stroke-opacity:1.0;stroke-width:1.0\" viewBox=\"0 0 260.0 400.0\" width=\"260.0px\" xmlns=\"http://www.w3.org/2000/svg\" xmlns:toyplot=\"http://www.sandia.gov/toyplot\" xmlns:xlink=\"http://www.w3.org/1999/xlink\"><g class=\"toyplot-coordinates-Cartesian\" id=\"t4430906546fd46b7b98abe26f19320b5\"><clipPath id=\"t33978aa14eb94dda8916f100db0ab5b8\"><rect height=\"340.0\" width=\"200.0\" x=\"30.0\" y=\"30.0\"></rect></clipPath><g clip-path=\"url(#t33978aa14eb94dda8916f100db0ab5b8)\"><g class=\"toytree-mark-Toytree\" id=\"tebe3c1823d5d4a38bbbc412f9f356f2b\"><g class=\"toytree-Edges\" style=\"fill:none;stroke:rgb(14.9%,14.9%,14.9%);stroke-linecap:round;stroke-opacity:1;stroke-width:2\"><path d=\"M 62.4 146.5 L 62.4 85.3 L 88.8 85.3\" id=\"22,21\"></path><path d=\"M 62.4 146.5 L 62.4 207.7 L 88.8 207.7\" id=\"22,20\"></path><path d=\"M 88.8 85.3 L 88.8 107.0 L 115.3 107.0\" id=\"21,19\"></path><path d=\"M 88.8 207.7 L 88.8 175.2 L 115.3 175.2\" id=\"20,18\"></path><path d=\"M 88.8 207.7 L 88.8 240.3 L 115.3 240.3\" id=\"20,17\"></path><path d=\"M 115.3 107.0 L 115.3 125.6 L 141.7 125.6\" id=\"19,16\"></path><path d=\"M 115.3 240.3 L 115.3 268.2 L 141.7 268.2\" id=\"17,15\"></path><path d=\"M 141.7 268.2 L 141.7 299.2 L 148.3 299.2\" id=\"15,14\"></path><path d=\"M 148.3 299.2 L 148.3 274.4 L 168.1 274.4\" id=\"14,13\"></path><path d=\"M 148.3 299.2 L 148.3 324.0 L 168.1 324.0\" id=\"14,12\"></path><path d=\"M 88.8 85.3 L 88.8 63.6 L 194.6 63.6\" id=\"21,11\"></path><path d=\"M 115.3 107.0 L 115.3 88.4 L 194.6 88.4\" id=\"19,10\"></path><path d=\"M 141.7 125.6 L 141.7 113.2 L 194.6 113.2\" id=\"16,9\"></path><path d=\"M 141.7 125.6 L 141.7 138.0 L 194.6 138.0\" id=\"16,8\"></path><path d=\"M 115.3 175.2 L 115.3 162.8 L 194.6 162.8\" id=\"18,7\"></path><path d=\"M 115.3 175.2 L 115.3 187.6 L 194.6 187.6\" id=\"18,6\"></path><path d=\"M 115.3 240.3 L 115.3 212.4 L 194.6 212.4\" id=\"17,5\"></path><path d=\"M 141.7 268.2 L 141.7 237.2 L 194.6 237.2\" id=\"15,4\"></path><path d=\"M 168.1 274.4 L 168.1 262.0 L 194.6 262.0\" id=\"13,3\"></path><path d=\"M 168.1 274.4 L 168.1 286.8 L 194.6 286.8\" id=\"13,2\"></path><path d=\"M 168.1 324.0 L 168.1 311.6 L 194.6 311.6\" id=\"12,1\"></path><path d=\"M 168.1 324.0 L 168.1 336.4 L 181.4 336.4\" id=\"12,0\"></path></g><g class=\"toytree-Nodes\" style=\"fill:rgb(82.7%,82.7%,82.7%);fill-opacity:1.0;stroke:rgb(14.9%,14.9%,14.9%);stroke-opacity:1.0;stroke-width:1.5\"><g id=\"node-0\" transform=\"translate(181.358,336.364)\"><circle r=\"7.5\"></circle></g><g id=\"node-1\" transform=\"translate(194.577,311.570)\"><circle r=\"7.5\"></circle></g><g id=\"node-2\" transform=\"translate(194.577,286.777)\"><circle r=\"7.5\"></circle></g><g id=\"node-3\" transform=\"translate(194.577,261.983)\"><circle r=\"7.5\"></circle></g><g id=\"node-4\" transform=\"translate(194.577,237.190)\"><circle r=\"7.5\"></circle></g><g id=\"node-5\" transform=\"translate(194.577,212.397)\"><circle r=\"7.5\"></circle></g><g id=\"node-6\" transform=\"translate(194.577,187.603)\"><circle r=\"7.5\"></circle></g><g id=\"node-7\" transform=\"translate(194.577,162.810)\"><circle r=\"7.5\"></circle></g><g id=\"node-8\" transform=\"translate(194.577,138.017)\"><circle r=\"7.5\"></circle></g><g id=\"node-9\" transform=\"translate(194.577,113.223)\"><circle r=\"7.5\"></circle></g><g id=\"node-10\" transform=\"translate(194.577,88.430)\"><circle r=\"7.5\"></circle></g><g id=\"node-11\" transform=\"translate(194.577,63.636)\"><circle r=\"7.5\"></circle></g><g id=\"node-12\" transform=\"translate(168.140,323.967)\"><circle r=\"7.5\"></circle></g><g id=\"node-13\" transform=\"translate(168.140,274.380)\"><circle r=\"7.5\"></circle></g><g id=\"node-14\" transform=\"translate(148.312,299.174)\"><circle r=\"7.5\"></circle></g><g id=\"node-15\" transform=\"translate(141.703,268.182)\"><circle r=\"7.5\"></circle></g><g id=\"node-16\" transform=\"translate(141.703,125.620)\"><circle r=\"7.5\"></circle></g><g id=\"node-17\" transform=\"translate(115.266,240.289)\"><circle r=\"7.5\"></circle></g><g id=\"node-18\" transform=\"translate(115.266,175.207)\"><circle r=\"7.5\"></circle></g><g id=\"node-19\" transform=\"translate(115.266,107.025)\"><circle r=\"7.5\"></circle></g><g id=\"node-20\" transform=\"translate(88.829,207.748)\"><circle r=\"7.5\"></circle></g><g id=\"node-21\" transform=\"translate(88.829,85.331)\"><circle r=\"7.5\"></circle></g><g id=\"node-22\" transform=\"translate(62.392,146.539)\"><circle r=\"7.5\"></circle></g></g><g class=\"toytree-NodeLabels\" style=\"fill:rgb(14.9%,14.9%,14.9%);fill-opacity:1.0;font-size:9px;stroke:none\"><g transform=\"translate(178.86,338.66)\"><title>idx: 0\n",
       "dist: 1.0000\n",
       "support: 0.0000\n",
       "height: 1.0000\n",
       "name: B</title><text>0</text></g><g transform=\"translate(192.07,313.87)\"><title>idx: 1\n",
       "dist: 2.0000\n",
       "support: 0.0000\n",
       "height: 0.0000\n",
       "name: A</title><text>1</text></g><g transform=\"translate(192.07,289.08)\"><title>idx: 2\n",
       "dist: 2.0000\n",
       "support: 100.0000\n",
       "height: 0.0000\n",
       "name: r0</title><text>2</text></g><g transform=\"translate(192.07,264.28)\"><title>idx: 3\n",
       "dist: 2.0000\n",
       "support: 100.0000\n",
       "height: 0.0000\n",
       "name: r1</title><text>3</text></g><g transform=\"translate(192.07,239.49)\"><title>idx: 4\n",
       "dist: 4.0000\n",
       "support: 100.0000\n",
       "height: 0.0000\n",
       "name: r2</title><text>4</text></g><g transform=\"translate(192.07,214.70)\"><title>idx: 5\n",
       "dist: 6.0000\n",
       "support: 100.0000\n",
       "height: 0.0000\n",
       "name: r3</title><text>5</text></g><g transform=\"translate(192.07,189.90)\"><title>idx: 6\n",
       "dist: 6.0000\n",
       "support: 100.0000\n",
       "height: 0.0000\n",
       "name: r4</title><text>6</text></g><g transform=\"translate(192.07,165.11)\"><title>idx: 7\n",
       "dist: 6.0000\n",
       "support: 100.0000\n",
       "height: 0.0000\n",
       "name: r5</title><text>7</text></g><g transform=\"translate(192.07,140.32)\"><title>idx: 8\n",
       "dist: 4.0000\n",
       "support: 100.0000\n",
       "height: 0.0000\n",
       "name: r6</title><text>8</text></g><g transform=\"translate(192.07,115.52)\"><title>idx: 9\n",
       "dist: 4.0000\n",
       "support: 100.0000\n",
       "height: 0.0000\n",
       "name: r7</title><text>9</text></g><g transform=\"translate(189.57,90.73)\"><title>idx: 10\n",
       "dist: 6.0000\n",
       "support: 100.0000\n",
       "height: 0.0000\n",
       "name: r8</title><text>10</text></g><g transform=\"translate(189.57,65.94)\"><title>idx: 11\n",
       "dist: 8.0000\n",
       "support: 100.0000\n",
       "height: 0.0000\n",
       "name: r9</title><text>11</text></g><g transform=\"translate(163.14,326.27)\"><title>idx: 12\n",
       "dist: 1.5000\n",
       "support: 0.0000\n",
       "height: 2.0000\n",
       "name: X</title><text>12</text></g><g transform=\"translate(163.14,276.68)\"><title>idx: 13\n",
       "dist: 1.5000\n",
       "support: 100.0000\n",
       "height: 2.0000\n",
       "name: 10</title><text>13</text></g><g transform=\"translate(143.31,301.47)\"><title>idx: 14\n",
       "dist: 0.5000\n",
       "support: 0.0000\n",
       "height: 3.5000\n",
       "name: newnode</title><text>14</text></g><g transform=\"translate(136.70,270.48)\"><title>idx: 15\n",
       "dist: 2.0000\n",
       "support: 100.0000\n",
       "height: 4.0000\n",
       "name: 11</title><text>15</text></g><g transform=\"translate(136.70,127.92)\"><title>idx: 16\n",
       "dist: 2.0000\n",
       "support: 100.0000\n",
       "height: 4.0000\n",
       "name: 12</title><text>16</text></g><g transform=\"translate(110.26,242.59)\"><title>idx: 17\n",
       "dist: 2.0000\n",
       "support: 100.0000\n",
       "height: 6.0000\n",
       "name: 13</title><text>17</text></g><g transform=\"translate(110.26,177.51)\"><title>idx: 18\n",
       "dist: 2.0000\n",
       "support: 100.0000\n",
       "height: 6.0000\n",
       "name: 14</title><text>18</text></g><g transform=\"translate(110.26,109.32)\"><title>idx: 19\n",
       "dist: 2.0000\n",
       "support: 100.0000\n",
       "height: 6.0000\n",
       "name: 15</title><text>19</text></g><g transform=\"translate(83.83,210.05)\"><title>idx: 20\n",
       "dist: 2.0000\n",
       "support: 100.0000\n",
       "height: 8.0000\n",
       "name: 16</title><text>20</text></g><g transform=\"translate(83.83,87.63)\"><title>idx: 21\n",
       "dist: 2.0000\n",
       "support: 100.0000\n",
       "height: 8.0000\n",
       "name: 17</title><text>21</text></g><g transform=\"translate(57.39,148.84)\"><title>idx: 22\n",
       "dist: 2.0000\n",
       "support: 100.0000\n",
       "height: 10.0000\n",
       "name: 18</title><text>22</text></g></g><g class=\"toytree-TipLabels\" style=\"fill:rgb(14.9%,14.9%,14.9%);fill-opacity:1.0;font-family:helvetica;font-size:11px;font-weight:normal;stroke:none;white-space:pre\"><g transform=\"translate(181.36,336.36)rotate(0)\"><text style=\"\" x=\"15.00\" y=\"2.81\">B</text></g><g transform=\"translate(194.58,311.57)rotate(0)\"><text style=\"\" x=\"15.00\" y=\"2.81\">A</text></g><g transform=\"translate(194.58,286.78)rotate(0)\"><text style=\"\" x=\"15.00\" y=\"2.81\">r0</text></g><g transform=\"translate(194.58,261.98)rotate(0)\"><text style=\"\" x=\"15.00\" y=\"2.81\">r1</text></g><g transform=\"translate(194.58,237.19)rotate(0)\"><text style=\"\" x=\"15.00\" y=\"2.81\">r2</text></g><g transform=\"translate(194.58,212.40)rotate(0)\"><text style=\"\" x=\"15.00\" y=\"2.81\">r3</text></g><g transform=\"translate(194.58,187.60)rotate(0)\"><text style=\"\" x=\"15.00\" y=\"2.81\">r4</text></g><g transform=\"translate(194.58,162.81)rotate(0)\"><text style=\"\" x=\"15.00\" y=\"2.81\">r5</text></g><g transform=\"translate(194.58,138.02)rotate(0)\"><text style=\"\" x=\"15.00\" y=\"2.81\">r6</text></g><g transform=\"translate(194.58,113.22)rotate(0)\"><text style=\"\" x=\"15.00\" y=\"2.81\">r7</text></g><g transform=\"translate(194.58,88.43)rotate(0)\"><text style=\"\" x=\"15.00\" y=\"2.81\">r8</text></g><g transform=\"translate(194.58,63.64)rotate(0)\"><text style=\"\" x=\"15.00\" y=\"2.81\">r9</text></g></g></g></g></g></svg><div class=\"toyplot-behavior\"><script>(function()\n",
       "{\n",
       "var modules={};\n",
       "})();</script></div></div>"
      ]
     },
     "metadata": {},
     "output_type": "display_data"
    }
   ],
   "source": [
    "# or, set newnode dist and split node dist explicitly\n",
    "tre = toytree.rtree.unittree(ntips=10, treeheight=10, seed=123)\n",
    "tre.idx_dict[10].add_sister(sister=new.treenode, name=\"X\", dist=1.5, split=1.5)\n",
    "tre._coords.update()\n",
    "tre.draw(ts='s', height=400, node_hover=True, use_edge_lengths=True);"
   ]
  },
  {
   "cell_type": "markdown",
   "metadata": {},
   "source": [
    "### Get mrca returns the proper node idx"
   ]
  },
  {
   "cell_type": "code",
   "execution_count": 10,
   "metadata": {
    "scrolled": true
   },
   "outputs": [
    {
     "data": {
      "text/plain": [
       "12"
      ]
     },
     "execution_count": 10,
     "metadata": {},
     "output_type": "execute_result"
    }
   ],
   "source": [
    "tre.get_mrca_idx_from_tip_labels([\"A\", \"B\"])"
   ]
  },
  {
   "cell_type": "code",
   "execution_count": 11,
   "metadata": {},
   "outputs": [
    {
     "data": {
      "text/plain": [
       "13"
      ]
     },
     "execution_count": 11,
     "metadata": {},
     "output_type": "execute_result"
    }
   ],
   "source": [
    "tre.get_mrca_idx_from_tip_labels([\"r0\", \"r1\"])"
   ]
  },
  {
   "cell_type": "code",
   "execution_count": 12,
   "metadata": {},
   "outputs": [
    {
     "data": {
      "text/plain": [
       "14"
      ]
     },
     "execution_count": 12,
     "metadata": {},
     "output_type": "execute_result"
    }
   ],
   "source": [
    "tre.get_mrca_idx_from_tip_labels([\"r0\", \"r1\", \"A\", \"B\"])"
   ]
  }
 ],
 "metadata": {
  "kernelspec": {
   "display_name": "Python 3",
   "language": "python",
   "name": "python3"
  },
  "language_info": {
   "codemirror_mode": {
    "name": "ipython",
    "version": 3
   },
   "file_extension": ".py",
   "mimetype": "text/x-python",
   "name": "python",
   "nbconvert_exporter": "python",
   "pygments_lexer": "ipython3",
   "version": "3.7.9"
  }
 },
 "nbformat": 4,
 "nbformat_minor": 4
}
