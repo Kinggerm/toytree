{
 "cells": [
  {
   "cell_type": "markdown",
   "metadata": {},
   "source": [
    "### Issue #42\n",
    "\n",
    "\n",
    "    I am a new user of toytree tool, could you tell me please how can I change the position of inner nodes added custom labels. For examble I want to plot some new_added features above or below or right the branches . Could you help me with this please?"
   ]
  },
  {
   "cell_type": "code",
   "execution_count": 1,
   "metadata": {},
   "outputs": [
    {
     "data": {
      "text/plain": [
       "'2.0.4'"
      ]
     },
     "execution_count": 1,
     "metadata": {},
     "output_type": "execute_result"
    }
   ],
   "source": [
    "import toytree\n",
    "toytree.__version__"
   ]
  },
  {
   "cell_type": "markdown",
   "metadata": {},
   "source": [
    "### Get a random tree and show node indices"
   ]
  },
  {
   "cell_type": "code",
   "execution_count": 3,
   "metadata": {},
   "outputs": [
    {
     "data": {
      "text/html": [
       "<div class=\"toyplot\" id=\"t7afb2e6128c94f4d9ac29f64c8645da5\" style=\"text-align:center\"><svg class=\"toyplot-canvas-Canvas\" height=\"275.0px\" id=\"tc8fbbbf4023c48328e8e9b204c32fe0d\" preserveAspectRatio=\"xMidYMid meet\" style=\"background-color:transparent;border-color:#292724;border-style:none;border-width:1.0;fill:rgb(16.1%,15.3%,14.1%);fill-opacity:1.0;font-family:Helvetica;font-size:12px;opacity:1.0;stroke:rgb(16.1%,15.3%,14.1%);stroke-opacity:1.0;stroke-width:1.0\" viewBox=\"0 0 260.0 275.0\" width=\"260.0px\" xmlns=\"http://www.w3.org/2000/svg\" xmlns:toyplot=\"http://www.sandia.gov/toyplot\" xmlns:xlink=\"http://www.w3.org/1999/xlink\"><g class=\"toyplot-coordinates-Cartesian\" id=\"t3315aac8322442cbb521692aa1f8abc7\"><clipPath id=\"t0af768ef9f65449c8de6c5237c43de93\"><rect height=\"215.0\" width=\"200.0\" x=\"30.0\" y=\"30.0\"></rect></clipPath><g clip-path=\"url(#t0af768ef9f65449c8de6c5237c43de93)\"><g class=\"toytree-mark-Toytree\" id=\"t49968d64c3804b0285204b65de29eb4d\"><g class=\"toytree-Edges\" style=\"fill:none;stroke:rgb(14.9%,14.9%,14.9%);stroke-linecap:round;stroke-opacity:1;stroke-width:2\"><path d=\"M 62.4 117.3 L 62.4 77.3 L 115.3 77.3\" id=\"18,17\"></path><path d=\"M 62.4 117.3 L 62.4 157.2 L 88.8 157.2\" id=\"18,16\"></path><path d=\"M 115.3 77.3 L 115.3 91.9 L 141.7 91.9\" id=\"17,15\"></path><path d=\"M 88.8 157.2 L 88.8 137.5 L 168.1 137.5\" id=\"16,14\"></path><path d=\"M 88.8 157.2 L 88.8 176.9 L 115.3 176.9\" id=\"16,13\"></path><path d=\"M 141.7 91.9 L 141.7 104.3 L 168.1 104.3\" id=\"15,12\"></path><path d=\"M 115.3 176.9 L 115.3 191.4 L 141.7 191.4\" id=\"13,11\"></path><path d=\"M 141.7 191.4 L 141.7 203.9 L 168.1 203.9\" id=\"11,10\"></path><path d=\"M 115.3 77.3 L 115.3 62.8 L 194.6 62.8\" id=\"17,9\"></path><path d=\"M 141.7 91.9 L 141.7 79.4 L 194.6 79.4\" id=\"15,8\"></path><path d=\"M 168.1 104.3 L 168.1 96.0 L 194.6 96.0\" id=\"12,7\"></path><path d=\"M 168.1 104.3 L 168.1 112.6 L 194.6 112.6\" id=\"12,6\"></path><path d=\"M 168.1 137.5 L 168.1 129.2 L 194.6 129.2\" id=\"14,5\"></path><path d=\"M 168.1 137.5 L 168.1 145.8 L 194.6 145.8\" id=\"14,4\"></path><path d=\"M 115.3 176.9 L 115.3 162.4 L 194.6 162.4\" id=\"13,3\"></path><path d=\"M 141.7 191.4 L 141.7 179.0 L 194.6 179.0\" id=\"11,2\"></path><path d=\"M 168.1 203.9 L 168.1 195.6 L 194.6 195.6\" id=\"10,1\"></path><path d=\"M 168.1 203.9 L 168.1 212.2 L 194.6 212.2\" id=\"10,0\"></path></g><g class=\"toytree-Nodes\" style=\"fill:rgb(82.7%,82.7%,82.7%);fill-opacity:1.0;stroke:rgb(14.9%,14.9%,14.9%);stroke-opacity:1.0;stroke-width:1.5\"><g id=\"node-0\" transform=\"translate(194.577,212.195)\"><circle r=\"7.5\"></circle></g><g id=\"node-1\" transform=\"translate(194.577,195.596)\"><circle r=\"7.5\"></circle></g><g id=\"node-2\" transform=\"translate(194.577,178.997)\"><circle r=\"7.5\"></circle></g><g id=\"node-3\" transform=\"translate(194.577,162.398)\"><circle r=\"7.5\"></circle></g><g id=\"node-4\" transform=\"translate(194.577,145.799)\"><circle r=\"7.5\"></circle></g><g id=\"node-5\" transform=\"translate(194.577,129.201)\"><circle r=\"7.5\"></circle></g><g id=\"node-6\" transform=\"translate(194.577,112.602)\"><circle r=\"7.5\"></circle></g><g id=\"node-7\" transform=\"translate(194.577,96.003)\"><circle r=\"7.5\"></circle></g><g id=\"node-8\" transform=\"translate(194.577,79.404)\"><circle r=\"7.5\"></circle></g><g id=\"node-9\" transform=\"translate(194.577,62.805)\"><circle r=\"7.5\"></circle></g><g id=\"node-10\" transform=\"translate(168.140,203.896)\"><circle r=\"7.5\"></circle></g><g id=\"node-11\" transform=\"translate(141.703,191.446)\"><circle r=\"7.5\"></circle></g><g id=\"node-12\" transform=\"translate(168.140,104.302)\"><circle r=\"7.5\"></circle></g><g id=\"node-13\" transform=\"translate(115.266,176.922)\"><circle r=\"7.5\"></circle></g><g id=\"node-14\" transform=\"translate(168.140,137.500)\"><circle r=\"7.5\"></circle></g><g id=\"node-15\" transform=\"translate(141.703,91.853)\"><circle r=\"7.5\"></circle></g><g id=\"node-16\" transform=\"translate(88.829,157.211)\"><circle r=\"7.5\"></circle></g><g id=\"node-17\" transform=\"translate(115.266,77.329)\"><circle r=\"7.5\"></circle></g><g id=\"node-18\" transform=\"translate(62.392,117.270)\"><circle r=\"7.5\"></circle></g></g><g class=\"toytree-NodeLabels\" style=\"fill:rgb(14.9%,14.9%,14.9%);fill-opacity:1.0;font-size:9px;stroke:none\"><g transform=\"translate(192.07,214.49)\"><text>0</text></g><g transform=\"translate(192.07,197.90)\"><text>1</text></g><g transform=\"translate(192.07,181.30)\"><text>2</text></g><g transform=\"translate(192.07,164.70)\"><text>3</text></g><g transform=\"translate(192.07,148.10)\"><text>4</text></g><g transform=\"translate(192.07,131.50)\"><text>5</text></g><g transform=\"translate(192.07,114.90)\"><text>6</text></g><g transform=\"translate(192.07,98.30)\"><text>7</text></g><g transform=\"translate(192.07,81.70)\"><text>8</text></g><g transform=\"translate(192.07,65.10)\"><text>9</text></g><g transform=\"translate(163.14,206.20)\"><text>10</text></g><g transform=\"translate(136.70,193.75)\"><text>11</text></g><g transform=\"translate(163.14,106.60)\"><text>12</text></g><g transform=\"translate(110.26,179.22)\"><text>13</text></g><g transform=\"translate(163.14,139.80)\"><text>14</text></g><g transform=\"translate(136.70,94.15)\"><text>15</text></g><g transform=\"translate(83.83,159.51)\"><text>16</text></g><g transform=\"translate(110.26,79.63)\"><text>17</text></g><g transform=\"translate(57.39,119.57)\"><text>18</text></g></g><g class=\"toytree-TipLabels\" style=\"fill:rgb(14.9%,14.9%,14.9%);fill-opacity:1.0;font-family:helvetica;font-size:11px;font-weight:normal;stroke:none;white-space:pre\"><g transform=\"translate(194.58,212.20)rotate(0)\"><text style=\"\" x=\"15.00\" y=\"2.81\">r0</text></g><g transform=\"translate(194.58,195.60)rotate(0)\"><text style=\"\" x=\"15.00\" y=\"2.81\">r1</text></g><g transform=\"translate(194.58,179.00)rotate(0)\"><text style=\"\" x=\"15.00\" y=\"2.81\">r2</text></g><g transform=\"translate(194.58,162.40)rotate(0)\"><text style=\"\" x=\"15.00\" y=\"2.81\">r3</text></g><g transform=\"translate(194.58,145.80)rotate(0)\"><text style=\"\" x=\"15.00\" y=\"2.81\">r4</text></g><g transform=\"translate(194.58,129.20)rotate(0)\"><text style=\"\" x=\"15.00\" y=\"2.81\">r5</text></g><g transform=\"translate(194.58,112.60)rotate(0)\"><text style=\"\" x=\"15.00\" y=\"2.81\">r6</text></g><g transform=\"translate(194.58,96.00)rotate(0)\"><text style=\"\" x=\"15.00\" y=\"2.81\">r7</text></g><g transform=\"translate(194.58,79.40)rotate(0)\"><text style=\"\" x=\"15.00\" y=\"2.81\">r8</text></g><g transform=\"translate(194.58,62.80)rotate(0)\"><text style=\"\" x=\"15.00\" y=\"2.81\">r9</text></g></g></g></g></g></svg><div class=\"toyplot-behavior\"><script>(function()\n",
       "{\n",
       "var modules={};\n",
       "})();</script></div></div>"
      ]
     },
     "metadata": {},
     "output_type": "display_data"
    }
   ],
   "source": [
    "tree = toytree.rtree.unittree(10)\n",
    "tree.draw(ts='s');"
   ]
  },
  {
   "cell_type": "markdown",
   "metadata": {},
   "source": [
    "### Set custom node labels"
   ]
  },
  {
   "cell_type": "code",
   "execution_count": 17,
   "metadata": {},
   "outputs": [],
   "source": [
    "tree = tree.set_node_values(\n",
    "    feature=\"custom\",\n",
    "    values={16: \"black\", 13: \"black\", 11: \"black\"},\n",
    "    default=\"goldenrod\",\n",
    ")"
   ]
  },
  {
   "cell_type": "code",
   "execution_count": 19,
   "metadata": {},
   "outputs": [
    {
     "data": {
      "text/html": [
       "<div class=\"toyplot\" id=\"t906e768a33c6480f9153cd37b011db38\" style=\"text-align:center\"><svg class=\"toyplot-canvas-Canvas\" height=\"275.0px\" id=\"tc47a87ae56f4479d95203310dcbe0520\" preserveAspectRatio=\"xMidYMid meet\" style=\"background-color:transparent;border-color:#292724;border-style:none;border-width:1.0;fill:rgb(16.1%,15.3%,14.1%);fill-opacity:1.0;font-family:Helvetica;font-size:12px;opacity:1.0;stroke:rgb(16.1%,15.3%,14.1%);stroke-opacity:1.0;stroke-width:1.0\" viewBox=\"0 0 260.0 275.0\" width=\"260.0px\" xmlns=\"http://www.w3.org/2000/svg\" xmlns:toyplot=\"http://www.sandia.gov/toyplot\" xmlns:xlink=\"http://www.w3.org/1999/xlink\"><g class=\"toyplot-coordinates-Cartesian\" id=\"t113932b0fa2c49fcbe90b18a06bdfe72\"><clipPath id=\"t4c98659e8fb04feaab57f53f6ed67fa7\"><rect height=\"215.0\" width=\"200.0\" x=\"30.0\" y=\"30.0\"></rect></clipPath><g clip-path=\"url(#t4c98659e8fb04feaab57f53f6ed67fa7)\"><g class=\"toytree-mark-Toytree\" id=\"t88990a8359cf43d29d1a3079ab6c98e3\"><g class=\"toytree-Edges\" style=\"fill:none;stroke:rgb(14.9%,14.9%,14.9%);stroke-linecap:round;stroke-opacity:1;stroke-width:2\"><path d=\"M 61.6 117.1 L 61.6 76.7 L 88.2 76.7\" id=\"18,17\"></path><path d=\"M 61.6 117.1 L 61.6 157.4 L 88.2 157.4\" id=\"18,16\"></path><path d=\"M 88.2 76.7 L 88.2 91.4 L 114.8 91.4\" id=\"17,15\"></path><path d=\"M 88.2 157.4 L 88.2 137.5 L 114.8 137.5\" id=\"16,14\"></path><path d=\"M 88.2 157.4 L 88.2 177.3 L 114.8 177.3\" id=\"16,13\"></path><path d=\"M 114.8 91.4 L 114.8 104.0 L 141.3 104.0\" id=\"15,12\"></path><path d=\"M 114.8 177.3 L 114.8 192.0 L 141.3 192.0\" id=\"13,11\"></path><path d=\"M 141.3 192.0 L 141.3 204.5 L 167.9 204.5\" id=\"11,10\"></path><path d=\"M 88.2 76.7 L 88.2 62.1 L 194.5 62.1\" id=\"17,9\"></path><path d=\"M 114.8 91.4 L 114.8 78.8 L 194.5 78.8\" id=\"15,8\"></path><path d=\"M 141.3 104.0 L 141.3 95.6 L 194.5 95.6\" id=\"12,7\"></path><path d=\"M 141.3 104.0 L 141.3 112.4 L 194.5 112.4\" id=\"12,6\"></path><path d=\"M 114.8 137.5 L 114.8 129.1 L 194.5 129.1\" id=\"14,5\"></path><path d=\"M 114.8 137.5 L 114.8 145.9 L 194.5 145.9\" id=\"14,4\"></path><path d=\"M 114.8 177.3 L 114.8 162.6 L 194.5 162.6\" id=\"13,3\"></path><path d=\"M 141.3 192.0 L 141.3 179.4 L 194.5 179.4\" id=\"11,2\"></path><path d=\"M 167.9 204.5 L 167.9 196.2 L 194.5 196.2\" id=\"10,1\"></path><path d=\"M 167.9 204.5 L 167.9 212.9 L 194.5 212.9\" id=\"10,0\"></path></g><g class=\"toytree-Nodes\" style=\"fill:rgb(40%,76.1%,64.7%);fill-opacity:1.0;stroke:None;stroke-width:1\"><g fill=\"rgb(85.5%,64.7%,12.5%)\" fill-opacity=\"1.0\" id=\"node-0\" transform=\"translate(194.497,212.931)\"><circle r=\"7.0\"></circle></g><g fill=\"rgb(85.5%,64.7%,12.5%)\" fill-opacity=\"1.0\" id=\"node-1\" transform=\"translate(194.497,196.169)\"><circle r=\"7.0\"></circle></g><g fill=\"rgb(85.5%,64.7%,12.5%)\" fill-opacity=\"1.0\" id=\"node-2\" transform=\"translate(194.497,179.406)\"><circle r=\"7.0\"></circle></g><g fill=\"rgb(85.5%,64.7%,12.5%)\" fill-opacity=\"1.0\" id=\"node-3\" transform=\"translate(194.497,162.644)\"><circle r=\"7.0\"></circle></g><g fill=\"rgb(85.5%,64.7%,12.5%)\" fill-opacity=\"1.0\" id=\"node-4\" transform=\"translate(194.497,145.881)\"><circle r=\"7.0\"></circle></g><g fill=\"rgb(85.5%,64.7%,12.5%)\" fill-opacity=\"1.0\" id=\"node-5\" transform=\"translate(194.497,129.119)\"><circle r=\"7.0\"></circle></g><g fill=\"rgb(85.5%,64.7%,12.5%)\" fill-opacity=\"1.0\" id=\"node-6\" transform=\"translate(194.497,112.356)\"><circle r=\"7.0\"></circle></g><g fill=\"rgb(85.5%,64.7%,12.5%)\" fill-opacity=\"1.0\" id=\"node-7\" transform=\"translate(194.497,95.594)\"><circle r=\"7.0\"></circle></g><g fill=\"rgb(85.5%,64.7%,12.5%)\" fill-opacity=\"1.0\" id=\"node-8\" transform=\"translate(194.497,78.831)\"><circle r=\"7.0\"></circle></g><g fill=\"rgb(85.5%,64.7%,12.5%)\" fill-opacity=\"1.0\" id=\"node-9\" transform=\"translate(194.497,62.069)\"><circle r=\"7.0\"></circle></g><g fill=\"rgb(85.5%,64.7%,12.5%)\" fill-opacity=\"1.0\" id=\"node-10\" transform=\"translate(167.922,204.550)\"><circle r=\"7.0\"></circle></g><g fill=\"rgb(0%,0%,0%)\" fill-opacity=\"1.0\" id=\"node-11\" transform=\"translate(141.348,191.978)\"><circle r=\"7.0\"></circle></g><g fill=\"rgb(85.5%,64.7%,12.5%)\" fill-opacity=\"1.0\" id=\"node-12\" transform=\"translate(141.348,103.975)\"><circle r=\"7.0\"></circle></g><g fill=\"rgb(0%,0%,0%)\" fill-opacity=\"1.0\" id=\"node-13\" transform=\"translate(114.774,177.311)\"><circle r=\"7.0\"></circle></g><g fill=\"rgb(85.5%,64.7%,12.5%)\" fill-opacity=\"1.0\" id=\"node-14\" transform=\"translate(114.774,137.500)\"><circle r=\"7.0\"></circle></g><g fill=\"rgb(85.5%,64.7%,12.5%)\" fill-opacity=\"1.0\" id=\"node-15\" transform=\"translate(114.774,91.403)\"><circle r=\"7.0\"></circle></g><g fill=\"rgb(0%,0%,0%)\" fill-opacity=\"1.0\" id=\"node-16\" transform=\"translate(88.200,157.405)\"><circle r=\"7.0\"></circle></g><g fill=\"rgb(85.5%,64.7%,12.5%)\" fill-opacity=\"1.0\" id=\"node-17\" transform=\"translate(88.200,76.736)\"><circle r=\"7.0\"></circle></g><g fill=\"rgb(85.5%,64.7%,12.5%)\" fill-opacity=\"1.0\" id=\"node-18\" transform=\"translate(61.626,117.071)\"><circle r=\"7.0\"></circle></g></g><g class=\"toytree-TipLabels\" style=\"fill:rgb(14.9%,14.9%,14.9%);fill-opacity:1.0;font-family:helvetica;font-size:11px;font-weight:normal;stroke:none;white-space:pre\"><g transform=\"translate(194.50,212.93)rotate(0)\"><text style=\"\" x=\"15.00\" y=\"2.81\">r0</text></g><g transform=\"translate(194.50,196.17)rotate(0)\"><text style=\"\" x=\"15.00\" y=\"2.81\">r1</text></g><g transform=\"translate(194.50,179.41)rotate(0)\"><text style=\"\" x=\"15.00\" y=\"2.81\">r2</text></g><g transform=\"translate(194.50,162.64)rotate(0)\"><text style=\"\" x=\"15.00\" y=\"2.81\">r3</text></g><g transform=\"translate(194.50,145.88)rotate(0)\"><text style=\"\" x=\"15.00\" y=\"2.81\">r4</text></g><g transform=\"translate(194.50,129.12)rotate(0)\"><text style=\"\" x=\"15.00\" y=\"2.81\">r5</text></g><g transform=\"translate(194.50,112.36)rotate(0)\"><text style=\"\" x=\"15.00\" y=\"2.81\">r6</text></g><g transform=\"translate(194.50,95.59)rotate(0)\"><text style=\"\" x=\"15.00\" y=\"2.81\">r7</text></g><g transform=\"translate(194.50,78.83)rotate(0)\"><text style=\"\" x=\"15.00\" y=\"2.81\">r8</text></g><g transform=\"translate(194.50,62.07)rotate(0)\"><text style=\"\" x=\"15.00\" y=\"2.81\">r9</text></g></g></g></g></g></svg><div class=\"toyplot-behavior\"><script>(function()\n",
       "{\n",
       "var modules={};\n",
       "})();</script></div></div>"
      ]
     },
     "metadata": {},
     "output_type": "display_data"
    }
   ],
   "source": [
    "tree.draw(\n",
    "    node_sizes=14, \n",
    "    node_colors=tree.get_node_values(\"custom\", 1, 1),\n",
    ");"
   ]
  },
  {
   "cell_type": "markdown",
   "metadata": {},
   "source": [
    "### Show a node feature (e.g., int or str) next to the node"
   ]
  },
  {
   "cell_type": "code",
   "execution_count": 33,
   "metadata": {},
   "outputs": [
    {
     "data": {
      "text/html": [
       "<div class=\"toyplot\" id=\"t535a4afc1da342c2ac144b641e97ad5d\" style=\"text-align:center\"><svg class=\"toyplot-canvas-Canvas\" height=\"275.0px\" id=\"t22f0e2277aca42a99a8d8a721245f408\" preserveAspectRatio=\"xMidYMid meet\" style=\"background-color:transparent;border-color:#292724;border-style:none;border-width:1.0;fill:rgb(16.1%,15.3%,14.1%);fill-opacity:1.0;font-family:Helvetica;font-size:12px;opacity:1.0;stroke:rgb(16.1%,15.3%,14.1%);stroke-opacity:1.0;stroke-width:1.0\" viewBox=\"0 0 260.0 275.0\" width=\"260.0px\" xmlns=\"http://www.w3.org/2000/svg\" xmlns:toyplot=\"http://www.sandia.gov/toyplot\" xmlns:xlink=\"http://www.w3.org/1999/xlink\"><g class=\"toyplot-coordinates-Cartesian\" id=\"t254e053dd4a642178781050fd878faa6\"><clipPath id=\"t6851ebca1eb64bcf8c38445eea2db199\"><rect height=\"215.0\" width=\"200.0\" x=\"30.0\" y=\"30.0\"></rect></clipPath><g clip-path=\"url(#t6851ebca1eb64bcf8c38445eea2db199)\"><g class=\"toytree-mark-Toytree\" id=\"te5bfbc653a7544e69ab6356a705ad081\"><g class=\"toytree-Edges\" style=\"fill:none;stroke:rgb(14.9%,14.9%,14.9%);stroke-linecap:round;stroke-opacity:1;stroke-width:2\"><path d=\"M 51.8 116.8 L 51.8 75.9 L 80.1 75.9\" id=\"18,17\"></path><path d=\"M 51.8 116.8 L 51.8 157.7 L 80.1 157.7\" id=\"18,16\"></path><path d=\"M 80.1 75.9 L 80.1 90.8 L 108.4 90.8\" id=\"17,15\"></path><path d=\"M 80.1 157.7 L 80.1 137.5 L 108.4 137.5\" id=\"16,14\"></path><path d=\"M 80.1 157.7 L 80.1 177.9 L 108.4 177.9\" id=\"16,13\"></path><path d=\"M 108.4 90.8 L 108.4 103.5 L 136.8 103.5\" id=\"15,12\"></path><path d=\"M 108.4 177.9 L 108.4 192.7 L 136.8 192.7\" id=\"13,11\"></path><path d=\"M 136.8 192.7 L 136.8 205.5 L 165.1 205.5\" id=\"11,10\"></path><path d=\"M 80.1 75.9 L 80.1 61.0 L 193.5 61.0\" id=\"17,9\"></path><path d=\"M 108.4 90.8 L 108.4 78.0 L 193.5 78.0\" id=\"15,8\"></path><path d=\"M 136.8 103.5 L 136.8 95.0 L 193.5 95.0\" id=\"12,7\"></path><path d=\"M 136.8 103.5 L 136.8 112.0 L 193.5 112.0\" id=\"12,6\"></path><path d=\"M 108.4 137.5 L 108.4 129.0 L 193.5 129.0\" id=\"14,5\"></path><path d=\"M 108.4 137.5 L 108.4 146.0 L 193.5 146.0\" id=\"14,4\"></path><path d=\"M 108.4 177.9 L 108.4 163.0 L 193.5 163.0\" id=\"13,3\"></path><path d=\"M 136.8 192.7 L 136.8 180.0 L 193.5 180.0\" id=\"11,2\"></path><path d=\"M 165.1 205.5 L 165.1 197.0 L 193.5 197.0\" id=\"10,1\"></path><path d=\"M 165.1 205.5 L 165.1 214.0 L 193.5 214.0\" id=\"10,0\"></path></g><g class=\"toytree-NodeLabels\" style=\"fill:rgb(100%,0%,0%);fill-opacity:1.0;font-size:12px;stroke:none\"><g transform=\"translate(171.78,212.05)\"><text>goldenrod</text></g><g transform=\"translate(171.78,195.06)\"><text>goldenrod</text></g><g transform=\"translate(171.78,178.06)\"><text>goldenrod</text></g><g transform=\"translate(171.78,161.06)\"><text>goldenrod</text></g><g transform=\"translate(171.78,144.06)\"><text>goldenrod</text></g><g transform=\"translate(171.78,127.07)\"><text>goldenrod</text></g><g transform=\"translate(171.78,110.07)\"><text>goldenrod</text></g><g transform=\"translate(171.78,93.07)\"><text>goldenrod</text></g><g transform=\"translate(171.78,76.08)\"><text>goldenrod</text></g><g transform=\"translate(171.78,59.08)\"><text>goldenrod</text></g><g transform=\"translate(143.45,203.55)\"><text>goldenrod</text></g><g transform=\"translate(127.78,190.81)\"><text>black</text></g><g transform=\"translate(115.11,101.57)\"><text>goldenrod</text></g><g transform=\"translate(99.45,175.93)\"><text>black</text></g><g transform=\"translate(86.77,135.57)\"><text>goldenrod</text></g><g transform=\"translate(86.77,88.82)\"><text>goldenrod</text></g><g transform=\"translate(71.11,155.75)\"><text>black</text></g><g transform=\"translate(58.43,73.95)\"><text>goldenrod</text></g><g transform=\"translate(30.09,114.85)\"><text>goldenrod</text></g></g><g class=\"toytree-TipLabels\" style=\"fill:rgb(14.9%,14.9%,14.9%);fill-opacity:1.0;font-family:helvetica;font-size:11px;font-weight:normal;stroke:none;white-space:pre\"><g transform=\"translate(193.47,213.99)rotate(0)\"><text style=\"\" x=\"15.00\" y=\"2.81\">r0</text></g><g transform=\"translate(193.47,196.99)rotate(0)\"><text style=\"\" x=\"15.00\" y=\"2.81\">r1</text></g><g transform=\"translate(193.47,179.99)rotate(0)\"><text style=\"\" x=\"15.00\" y=\"2.81\">r2</text></g><g transform=\"translate(193.47,163.00)rotate(0)\"><text style=\"\" x=\"15.00\" y=\"2.81\">r3</text></g><g transform=\"translate(193.47,146.00)rotate(0)\"><text style=\"\" x=\"15.00\" y=\"2.81\">r4</text></g><g transform=\"translate(193.47,129.00)rotate(0)\"><text style=\"\" x=\"15.00\" y=\"2.81\">r5</text></g><g transform=\"translate(193.47,112.00)rotate(0)\"><text style=\"\" x=\"15.00\" y=\"2.81\">r6</text></g><g transform=\"translate(193.47,95.01)rotate(0)\"><text style=\"\" x=\"15.00\" y=\"2.81\">r7</text></g><g transform=\"translate(193.47,78.01)rotate(0)\"><text style=\"\" x=\"15.00\" y=\"2.81\">r8</text></g><g transform=\"translate(193.47,61.01)rotate(0)\"><text style=\"\" x=\"15.00\" y=\"2.81\">r9</text></g></g></g></g></g></svg><div class=\"toyplot-behavior\"><script>(function()\n",
       "{\n",
       "var modules={};\n",
       "})();</script></div></div>"
      ]
     },
     "metadata": {},
     "output_type": "display_data"
    }
   ],
   "source": [
    "tree.draw(\n",
    "    \n",
    "    # show 'custom' label at all nodes \n",
    "    node_labels=tree.get_node_values(\"custom\", True, True),  \n",
    "    \n",
    "    # offset the node labels to the left and up\n",
    "    node_labels_style={\n",
    "        \"-toyplot-anchor-shift\": \"5px\",\n",
    "        \"baseline-shift\": \"5px\",\n",
    "        \"fill\": \"red\",\n",
    "        \"font-size\": \"12px\"\n",
    "    }\n",
    ");"
   ]
  }
 ],
 "metadata": {
  "kernelspec": {
   "display_name": "Python 3",
   "language": "python",
   "name": "python3"
  },
  "language_info": {
   "codemirror_mode": {
    "name": "ipython",
    "version": 3
   },
   "file_extension": ".py",
   "mimetype": "text/x-python",
   "name": "python",
   "nbconvert_exporter": "python",
   "pygments_lexer": "ipython3",
   "version": "3.7.9"
  }
 },
 "nbformat": 4,
 "nbformat_minor": 4
}
