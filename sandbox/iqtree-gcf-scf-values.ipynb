{
 "cells": [
  {
   "cell_type": "markdown",
   "metadata": {},
   "source": [
    "### Plotting IQtree concordance metrics (odd newick format)"
   ]
  },
  {
   "cell_type": "code",
   "execution_count": 1,
   "metadata": {},
   "outputs": [],
   "source": [
    "import toytree"
   ]
  },
  {
   "cell_type": "markdown",
   "metadata": {},
   "source": [
    "The newick format below stores the concordance metrics as node annotations (names) and also includes branch lengths in the format (node)name:dist for internal nodes, and name:dist for tip nodes. The concordance metrics are stored as a string `x/y/z` where the three values are of interest. "
   ]
  },
  {
   "cell_type": "code",
   "execution_count": 2,
   "metadata": {},
   "outputs": [],
   "source": [
    "NEWICK = \"\"\"\n",
    "(MjavVW4_1:0.0029143962,(((((MjavVW4_2:0.0041175791,MareHarA_2\n",
    ":0.0046787476)100/46.2/56.5:0.0027390681,(MfloSJF1_2:0.0036565039,\n",
    "MincW1_2:0.0041099329)100/42.6/60.7:0.0024466057)100/46.9/70.6:\n",
    "0.0024712752,((MentL30_2:0.0131877117,MentL30_1:0.0131141768)\n",
    "100/61.2/64.9:0.0037704010,(Mhaplanaria_1:0.0193708158,\n",
    "Mhaplanaria_2:0.0105167729)64/16.7/33.4:0.0010075264)100/28.6/\n",
    "51.2:0.0005818881)100/34.5/65.9:0.0034515356,MfloSJF1_1:0.0077\n",
    "086495)100/34.6/43:0.0034574478,MincW1_1:0.0042945317)100/46.1\n",
    "/60.5:0.0022392730,MareHarA_1:0.0031851283);\n",
    "\"\"\".replace(\"\\n\", \"\")"
   ]
  },
  {
   "cell_type": "code",
   "execution_count": 3,
   "metadata": {},
   "outputs": [],
   "source": [
    "# parse tree and extract values on nodes (names)\n",
    "tree = toytree.tree(NEWICK, tree_format=1)"
   ]
  },
  {
   "cell_type": "markdown",
   "metadata": {},
   "source": [
    "### Accessing features \n",
    "\n",
    "The annotations in the newick string will be stored as features in the toytree object. If the newick string is in NHX format, like mrbayes produces, then the features will be stored with unique names, whereas if it is a standard newick string then the data are parsed to standard keys 'dist' and 'name'. \n",
    "\n"
   ]
  },
  {
   "cell_type": "code",
   "execution_count": 6,
   "metadata": {},
   "outputs": [
    {
     "data": {
      "text/plain": [
       "array(['', '100/46.1/60.5', '100/34.6/43', '100/34.5/65.9',\n",
       "       '100/46.9/70.6', '100/28.6/51.2', '100/46.2/56.5', '100/42.6/60.7',\n",
       "       '100/61.2/64.9', '64/16.7/33.4', '', '', '', '', '', '', '', '',\n",
       "       '', '', '', ''], dtype=object)"
      ]
     },
     "execution_count": 6,
     "metadata": {},
     "output_type": "execute_result"
    }
   ],
   "source": [
    "# extract names from internal nodes\n",
    "tree.get_node_values(\"name\")"
   ]
  },
  {
   "cell_type": "code",
   "execution_count": 8,
   "metadata": {},
   "outputs": [
    {
     "data": {
      "text/plain": [
       "['',\n",
       " '100',\n",
       " '100',\n",
       " '100',\n",
       " '100',\n",
       " '100',\n",
       " '100',\n",
       " '100',\n",
       " '100',\n",
       " '64',\n",
       " '',\n",
       " '',\n",
       " '',\n",
       " '',\n",
       " '',\n",
       " '',\n",
       " '',\n",
       " '',\n",
       " '',\n",
       " '',\n",
       " '',\n",
       " '']"
      ]
     },
     "execution_count": 8,
     "metadata": {},
     "output_type": "execute_result"
    }
   ],
   "source": [
    "# Example: you could extract each element manually\n",
    "# split values on / to extract nth element \n",
    "val0 = [\n",
    "    i.split(\"/\")[0] if \"/\" in i else \"\" for i in \n",
    "    tree.get_node_values(\"name\")\n",
    "]\n",
    "\n",
    "# show the parsed values\n",
    "val0"
   ]
  },
  {
   "cell_type": "markdown",
   "metadata": {},
   "source": [
    "### Set values as features on a tree\n",
    "The `.set_node_values` function allows you to set node values on the tree object itself with new feature names. Here I set a new `concordance` feature (name it whatever you want) and set the first value from the concordance string to each node. Below I repeat for the other two values. "
   ]
  },
  {
   "cell_type": "code",
   "execution_count": 9,
   "metadata": {},
   "outputs": [],
   "source": [
    "# extract the 0th element\n",
    "ctree = tree.set_node_values(\n",
    "    feature=\"concordance\",\n",
    "    values={\n",
    "        i: j.name.split(\"/\")[0]\n",
    "        for (i, j) in tree.idx_dict.items()\n",
    "        if \"/\" in j.name\n",
    "    }\n",
    ")"
   ]
  },
  {
   "cell_type": "code",
   "execution_count": 10,
   "metadata": {},
   "outputs": [
    {
     "data": {
      "text/html": [
       "<div class=\"toyplot\" id=\"t0c140b2f76df47a79bc3a2f9d8d484b8\" style=\"text-align:center\"><svg class=\"toyplot-canvas-Canvas\" height=\"275.0px\" id=\"t368798aff57544bab2ad012e5008e415\" preserveAspectRatio=\"xMidYMid meet\" style=\"background-color:transparent;border-color:#292724;border-style:none;border-width:1.0;fill:rgb(16.1%,15.3%,14.1%);fill-opacity:1.0;font-family:Helvetica;font-size:12px;opacity:1.0;stroke:rgb(16.1%,15.3%,14.1%);stroke-opacity:1.0;stroke-width:1.0\" viewBox=\"0 0 315.0 275.0\" width=\"315.0px\" xmlns=\"http://www.w3.org/2000/svg\" xmlns:toyplot=\"http://www.sandia.gov/toyplot\" xmlns:xlink=\"http://www.w3.org/1999/xlink\"><g class=\"toyplot-coordinates-Cartesian\" id=\"t4b3663cbdf344deba1bf80ffa0c682ab\"><clipPath id=\"te5e1822ac74f47b5bc73a9c4ae0dc422\"><rect height=\"215.0\" width=\"255.0\" x=\"30.0\" y=\"30.0\"></rect></clipPath><g clip-path=\"url(#te5e1822ac74f47b5bc73a9c4ae0dc422)\"><g class=\"toytree-mark-Toytree\" id=\"t7fb000b33a86493cb9b305c976bbb0fa\"><g class=\"toytree-Edges\" style=\"fill:none;stroke:rgb(14.9%,14.9%,14.9%);stroke-linecap:round;stroke-opacity:1;stroke-width:2\"><path d=\"M 51.2 82.5 L 51.2 111.4 L 60.9 111.4\" id=\"21,20\"></path><path d=\"M 60.9 111.4 L 60.9 134.0 L 75.8 134.0\" id=\"20,19\"></path><path d=\"M 75.8 134.0 L 75.8 165.3 L 90.7 165.3\" id=\"19,18\"></path><path d=\"M 90.7 165.3 L 90.7 137.5 L 101.3 137.5\" id=\"18,17\"></path><path d=\"M 90.7 165.3 L 90.7 193.1 L 93.2 193.1\" id=\"18,16\"></path><path d=\"M 101.3 137.5 L 101.3 123.6 L 113.2 123.6\" id=\"17,15\"></path><path d=\"M 101.3 137.5 L 101.3 151.4 L 111.9 151.4\" id=\"17,14\"></path><path d=\"M 93.2 193.1 L 93.2 179.2 L 109.5 179.2\" id=\"16,13\"></path><path d=\"M 93.2 193.1 L 93.2 207.0 L 97.5 207.0\" id=\"16,12\"></path><path d=\"M 51.2 82.5 L 51.2 61.0 L 63.8 61.0\" id=\"21,11\"></path><path d=\"M 51.2 82.5 L 51.2 74.9 L 65.0 74.9\" id=\"21,10\"></path><path d=\"M 60.9 111.4 L 60.9 88.8 L 79.4 88.8\" id=\"20,9\"></path><path d=\"M 75.8 134.0 L 75.8 102.7 L 109.0 102.7\" id=\"19,8\"></path><path d=\"M 113.2 123.6 L 113.2 116.6 L 130.9 116.6\" id=\"15,7\"></path><path d=\"M 113.2 123.6 L 113.2 130.5 L 133.3 130.5\" id=\"15,6\"></path><path d=\"M 111.9 151.4 L 111.9 144.5 L 127.7 144.5\" id=\"14,5\"></path><path d=\"M 111.9 151.4 L 111.9 158.4 L 129.6 158.4\" id=\"14,4\"></path><path d=\"M 109.5 179.2 L 109.5 172.3 L 166.3 172.3\" id=\"13,3\"></path><path d=\"M 109.5 179.2 L 109.5 186.2 L 166.0 186.2\" id=\"13,2\"></path><path d=\"M 97.5 207.0 L 97.5 200.1 L 181.1 200.1\" id=\"12,1\"></path><path d=\"M 97.5 207.0 L 97.5 214.0 L 142.9 214.0\" id=\"12,0\"></path></g><g class=\"toytree-Nodes\" style=\"fill:rgb(40%,76.1%,64.7%);fill-opacity:1.0;stroke:None;stroke-width:1\"><g id=\"node-0\" transform=\"translate(142.901,213.986)\"><circle r=\"0.0\"></circle></g><g id=\"node-1\" transform=\"translate(181.095,200.079)\"><circle r=\"0.0\"></circle></g><g id=\"node-2\" transform=\"translate(166.023,186.173)\"><circle r=\"0.0\"></circle></g><g id=\"node-3\" transform=\"translate(166.341,172.266)\"><circle r=\"0.0\"></circle></g><g id=\"node-4\" transform=\"translate(129.621,158.360)\"><circle r=\"0.0\"></circle></g><g id=\"node-5\" transform=\"translate(127.665,144.453)\"><circle r=\"0.0\"></circle></g><g id=\"node-6\" transform=\"translate(133.337,130.547)\"><circle r=\"0.0\"></circle></g><g id=\"node-7\" transform=\"translate(130.916,116.640)\"><circle r=\"0.0\"></circle></g><g id=\"node-8\" transform=\"translate(109.042,102.734)\"><circle r=\"0.0\"></circle></g><g id=\"node-9\" transform=\"translate(79.399,88.827)\"><circle r=\"0.0\"></circle></g><g id=\"node-10\" transform=\"translate(64.954,74.921)\"><circle r=\"0.0\"></circle></g><g id=\"node-11\" transform=\"translate(63.786,61.014)\"><circle r=\"0.0\"></circle></g><g id=\"node-12\" transform=\"translate(97.534,207.033)\"><circle r=\"9.0\"></circle></g><g id=\"node-13\" transform=\"translate(109.452,179.220)\"><circle r=\"9.0\"></circle></g><g id=\"node-14\" transform=\"translate(111.892,151.407)\"><circle r=\"9.0\"></circle></g><g id=\"node-15\" transform=\"translate(113.154,123.593)\"><circle r=\"9.0\"></circle></g><g id=\"node-16\" transform=\"translate(93.188,193.126)\"><circle r=\"9.0\"></circle></g><g id=\"node-17\" transform=\"translate(101.338,137.500)\"><circle r=\"9.0\"></circle></g><g id=\"node-18\" transform=\"translate(90.677,165.313)\"><circle r=\"9.0\"></circle></g><g id=\"node-19\" transform=\"translate(75.788,134.023)\"><circle r=\"9.0\"></circle></g><g id=\"node-20\" transform=\"translate(60.874,111.425)\"><circle r=\"9.0\"></circle></g><g id=\"node-21\" transform=\"translate(51.214,82.453)\"><circle r=\"0.0\"></circle></g></g><g class=\"toytree-NodeLabels\" style=\"fill:rgb(14.9%,14.9%,14.9%);fill-opacity:1.0;font-size:9px;stroke:none\"><g transform=\"translate(92.53,209.33)\"><text>64</text></g><g transform=\"translate(101.95,181.52)\"><text>100</text></g><g transform=\"translate(104.39,153.71)\"><text>100</text></g><g transform=\"translate(105.65,125.89)\"><text>100</text></g><g transform=\"translate(85.68,195.43)\"><text>100</text></g><g transform=\"translate(93.83,139.80)\"><text>100</text></g><g transform=\"translate(83.17,167.61)\"><text>100</text></g><g transform=\"translate(68.28,136.32)\"><text>100</text></g><g transform=\"translate(53.37,113.72)\"><text>100</text></g></g><g class=\"toytree-TipLabels\" style=\"fill:rgb(14.9%,14.9%,14.9%);fill-opacity:1.0;font-family:helvetica;font-size:11px;font-weight:normal;stroke:none;white-space:pre\"><g transform=\"translate(142.90,213.99)rotate(0)\"><text style=\"\" x=\"15.00\" y=\"2.81\">Mhaplanaria_2</text></g><g transform=\"translate(181.09,200.08)rotate(0)\"><text style=\"\" x=\"15.00\" y=\"2.81\">Mhaplanaria_1</text></g><g transform=\"translate(166.02,186.17)rotate(0)\"><text style=\"\" x=\"15.00\" y=\"2.81\">MentL30_1</text></g><g transform=\"translate(166.34,172.27)rotate(0)\"><text style=\"\" x=\"15.00\" y=\"2.81\">MentL30_2</text></g><g transform=\"translate(129.62,158.36)rotate(0)\"><text style=\"\" x=\"15.00\" y=\"2.81\">MincW1_2</text></g><g transform=\"translate(127.67,144.45)rotate(0)\"><text style=\"\" x=\"15.00\" y=\"2.81\">MfloSJF1_2</text></g><g transform=\"translate(133.34,130.55)rotate(0)\"><text style=\"\" x=\"15.00\" y=\"2.81\">MareHarA_2</text></g><g transform=\"translate(130.92,116.64)rotate(0)\"><text style=\"\" x=\"15.00\" y=\"2.81\">MjavVW4_2</text></g><g transform=\"translate(109.04,102.73)rotate(0)\"><text style=\"\" x=\"15.00\" y=\"2.81\">MfloSJF1_1</text></g><g transform=\"translate(79.40,88.83)rotate(0)\"><text style=\"\" x=\"15.00\" y=\"2.81\">MincW1_1</text></g><g transform=\"translate(64.95,74.92)rotate(0)\"><text style=\"\" x=\"15.00\" y=\"2.81\">MareHarA_1</text></g><g transform=\"translate(63.79,61.01)rotate(0)\"><text style=\"\" x=\"15.00\" y=\"2.81\">MjavVW4_1</text></g></g></g></g></g></svg><div class=\"toyplot-behavior\"><script>(function()\n",
       "{\n",
       "var modules={};\n",
       "})();</script></div></div>"
      ]
     },
     "metadata": {},
     "output_type": "display_data"
    }
   ],
   "source": [
    "ctree.draw(node_labels=\"concordance\", node_sizes=18);"
   ]
  },
  {
   "cell_type": "code",
   "execution_count": 11,
   "metadata": {},
   "outputs": [],
   "source": [
    "# extract the 1th element\n",
    "ctree = ctree.set_node_values(\n",
    "    feature=\"concordance-1\",\n",
    "    values={\n",
    "        i: j.name.split(\"/\")[1]\n",
    "        for (i, j) in tree.idx_dict.items()\n",
    "        if \"/\" in j.name\n",
    "    }\n",
    ")"
   ]
  },
  {
   "cell_type": "code",
   "execution_count": 12,
   "metadata": {},
   "outputs": [
    {
     "data": {
      "text/html": [
       "<div class=\"toyplot\" id=\"t295efecb909044fbb66019f08300d821\" style=\"text-align:center\"><svg class=\"toyplot-canvas-Canvas\" height=\"350.0px\" id=\"t62867aed0ca0426dba3550cf18c79fca\" preserveAspectRatio=\"xMidYMid meet\" style=\"background-color:transparent;border-color:#292724;border-style:none;border-width:1.0;fill:rgb(16.1%,15.3%,14.1%);fill-opacity:1.0;font-family:Helvetica;font-size:12px;opacity:1.0;stroke:rgb(16.1%,15.3%,14.1%);stroke-opacity:1.0;stroke-width:1.0\" viewBox=\"0 0 400.0 350.0\" width=\"400.0px\" xmlns=\"http://www.w3.org/2000/svg\" xmlns:toyplot=\"http://www.sandia.gov/toyplot\" xmlns:xlink=\"http://www.w3.org/1999/xlink\"><g class=\"toyplot-coordinates-Cartesian\" id=\"t62d78844208b4558bd4288a3a6db2da0\"><clipPath id=\"t353b202112094f958bb388cf5922b322\"><rect height=\"290.0\" width=\"340.0\" x=\"30.0\" y=\"30.0\"></rect></clipPath><g clip-path=\"url(#t353b202112094f958bb388cf5922b322)\"><g class=\"toytree-mark-Toytree\" id=\"t1ad097c7bba74096968a3d3c73e19f13\"><g class=\"toytree-Edges\" style=\"fill:none;stroke:rgb(14.9%,14.9%,14.9%);stroke-linecap:round;stroke-opacity:1;stroke-width:2\"><path d=\"M 50.0 93.3 L 50.0 136.3 L 84.2 136.3\" id=\"21,20\"></path><path d=\"M 84.2 136.3 L 84.2 169.8 L 118.4 169.8\" id=\"20,19\"></path><path d=\"M 118.4 169.8 L 118.4 216.3 L 152.5 216.3\" id=\"19,18\"></path><path d=\"M 152.5 216.3 L 152.5 175.0 L 186.7 175.0\" id=\"18,17\"></path><path d=\"M 152.5 216.3 L 152.5 257.6 L 186.7 257.6\" id=\"18,16\"></path><path d=\"M 186.7 175.0 L 186.7 154.4 L 220.9 154.4\" id=\"17,15\"></path><path d=\"M 186.7 175.0 L 186.7 195.6 L 220.9 195.6\" id=\"17,14\"></path><path d=\"M 186.7 257.6 L 186.7 236.9 L 220.9 236.9\" id=\"16,13\"></path><path d=\"M 186.7 257.6 L 186.7 278.2 L 220.9 278.2\" id=\"16,12\"></path><path d=\"M 50.0 93.3 L 50.0 61.4 L 255.1 61.4\" id=\"21,11\"></path><path d=\"M 50.0 93.3 L 50.0 82.1 L 255.1 82.1\" id=\"21,10\"></path><path d=\"M 84.2 136.3 L 84.2 102.7 L 255.1 102.7\" id=\"20,9\"></path><path d=\"M 118.4 169.8 L 118.4 123.4 L 255.1 123.4\" id=\"19,8\"></path><path d=\"M 220.9 154.4 L 220.9 144.0 L 255.1 144.0\" id=\"15,7\"></path><path d=\"M 220.9 154.4 L 220.9 164.7 L 255.1 164.7\" id=\"15,6\"></path><path d=\"M 220.9 195.6 L 220.9 185.3 L 255.1 185.3\" id=\"14,5\"></path><path d=\"M 220.9 195.6 L 220.9 206.0 L 255.1 206.0\" id=\"14,4\"></path><path d=\"M 220.9 236.9 L 220.9 226.6 L 255.1 226.6\" id=\"13,3\"></path><path d=\"M 220.9 236.9 L 220.9 247.3 L 255.1 247.3\" id=\"13,2\"></path><path d=\"M 220.9 278.2 L 220.9 267.9 L 255.1 267.9\" id=\"12,1\"></path><path d=\"M 220.9 278.2 L 220.9 288.6 L 255.1 288.6\" id=\"12,0\"></path></g><g class=\"toytree-Nodes\" style=\"fill:rgb(82.7%,82.7%,82.7%);fill-opacity:1.0;stroke:rgb(14.9%,14.9%,14.9%);stroke-opacity:1.0;stroke-width:1.5\"><g id=\"node-0\" transform=\"translate(255.061,288.554)\"><circle r=\"0.0\"></circle></g><g id=\"node-1\" transform=\"translate(255.061,267.908)\"><circle r=\"0.0\"></circle></g><g id=\"node-2\" transform=\"translate(255.061,247.261)\"><circle r=\"0.0\"></circle></g><g id=\"node-3\" transform=\"translate(255.061,226.615)\"><circle r=\"0.0\"></circle></g><g id=\"node-4\" transform=\"translate(255.061,205.969)\"><circle r=\"0.0\"></circle></g><g id=\"node-5\" transform=\"translate(255.061,185.323)\"><circle r=\"0.0\"></circle></g><g id=\"node-6\" transform=\"translate(255.061,164.677)\"><circle r=\"0.0\"></circle></g><g id=\"node-7\" transform=\"translate(255.061,144.031)\"><circle r=\"0.0\"></circle></g><g id=\"node-8\" transform=\"translate(255.061,123.385)\"><circle r=\"0.0\"></circle></g><g id=\"node-9\" transform=\"translate(255.061,102.739)\"><circle r=\"0.0\"></circle></g><g id=\"node-10\" transform=\"translate(255.061,82.092)\"><circle r=\"0.0\"></circle></g><g id=\"node-11\" transform=\"translate(255.061,61.446)\"><circle r=\"0.0\"></circle></g><g id=\"node-12\" transform=\"translate(220.884,278.231)\"><circle r=\"10.5\"></circle></g><g id=\"node-13\" transform=\"translate(220.884,236.938)\"><circle r=\"10.5\"></circle></g><g id=\"node-14\" transform=\"translate(220.884,195.646)\"><circle r=\"10.5\"></circle></g><g id=\"node-15\" transform=\"translate(220.884,154.354)\"><circle r=\"10.5\"></circle></g><g id=\"node-16\" transform=\"translate(186.707,257.585)\"><circle r=\"10.5\"></circle></g><g id=\"node-17\" transform=\"translate(186.707,175.000)\"><circle r=\"10.5\"></circle></g><g id=\"node-18\" transform=\"translate(152.530,216.292)\"><circle r=\"10.5\"></circle></g><g id=\"node-19\" transform=\"translate(118.354,169.838)\"><circle r=\"10.5\"></circle></g><g id=\"node-20\" transform=\"translate(84.177,136.288)\"><circle r=\"10.5\"></circle></g><g id=\"node-21\" transform=\"translate(50.000,93.276)\"><circle r=\"0.0\"></circle></g></g><g class=\"toytree-NodeLabels\" style=\"fill:rgb(14.9%,14.9%,14.9%);fill-opacity:1.0;font-size:9px;stroke:none\"><g transform=\"translate(212.13,280.53)\"><text>16.7</text></g><g transform=\"translate(212.13,239.24)\"><text>61.2</text></g><g transform=\"translate(212.13,197.95)\"><text>42.6</text></g><g transform=\"translate(212.13,156.65)\"><text>46.2</text></g><g transform=\"translate(177.95,259.88)\"><text>28.6</text></g><g transform=\"translate(177.95,177.30)\"><text>46.9</text></g><g transform=\"translate(143.77,218.59)\"><text>34.5</text></g><g transform=\"translate(109.60,172.14)\"><text>34.6</text></g><g transform=\"translate(75.42,138.59)\"><text>46.1</text></g></g><g class=\"toytree-TipLabels\" style=\"fill:rgb(14.9%,14.9%,14.9%);fill-opacity:1.0;font-family:helvetica;font-size:11px;font-weight:normal;stroke:none;white-space:pre\"><g transform=\"translate(255.06,288.55)rotate(0)\"><text style=\"\" x=\"15.00\" y=\"2.81\">Mhaplanaria_2</text></g><g transform=\"translate(255.06,267.91)rotate(0)\"><text style=\"\" x=\"15.00\" y=\"2.81\">Mhaplanaria_1</text></g><g transform=\"translate(255.06,247.26)rotate(0)\"><text style=\"\" x=\"15.00\" y=\"2.81\">MentL30_1</text></g><g transform=\"translate(255.06,226.62)rotate(0)\"><text style=\"\" x=\"15.00\" y=\"2.81\">MentL30_2</text></g><g transform=\"translate(255.06,205.97)rotate(0)\"><text style=\"\" x=\"15.00\" y=\"2.81\">MincW1_2</text></g><g transform=\"translate(255.06,185.32)rotate(0)\"><text style=\"\" x=\"15.00\" y=\"2.81\">MfloSJF1_2</text></g><g transform=\"translate(255.06,164.68)rotate(0)\"><text style=\"\" x=\"15.00\" y=\"2.81\">MareHarA_2</text></g><g transform=\"translate(255.06,144.03)rotate(0)\"><text style=\"\" x=\"15.00\" y=\"2.81\">MjavVW4_2</text></g><g transform=\"translate(255.06,123.38)rotate(0)\"><text style=\"\" x=\"15.00\" y=\"2.81\">MfloSJF1_1</text></g><g transform=\"translate(255.06,102.74)rotate(0)\"><text style=\"\" x=\"15.00\" y=\"2.81\">MincW1_1</text></g><g transform=\"translate(255.06,82.09)rotate(0)\"><text style=\"\" x=\"15.00\" y=\"2.81\">MareHarA_1</text></g><g transform=\"translate(255.06,61.45)rotate(0)\"><text style=\"\" x=\"15.00\" y=\"2.81\">MjavVW4_1</text></g></g></g></g></g></svg><div class=\"toyplot-behavior\"><script>(function()\n",
       "{\n",
       "var modules={};\n",
       "})();</script></div></div>"
      ]
     },
     "metadata": {},
     "output_type": "display_data"
    }
   ],
   "source": [
    "ctree.draw(node_labels=\"concordance-1\", node_sizes=21, height=350, width=400, ts='s');"
   ]
  },
  {
   "cell_type": "code",
   "execution_count": 13,
   "metadata": {},
   "outputs": [],
   "source": [
    "# extract the 2th element\n",
    "ctree = ctree.set_node_values(\n",
    "    feature=\"concordance-2\",\n",
    "    values={\n",
    "        i: j.name.split(\"/\")[2]\n",
    "        for (i, j) in tree.idx_dict.items()\n",
    "        if \"/\" in j.name\n",
    "    }\n",
    ")"
   ]
  },
  {
   "cell_type": "code",
   "execution_count": 77,
   "metadata": {},
   "outputs": [
    {
     "data": {
      "text/html": [
       "<div class=\"toyplot\" id=\"t0838fa40800e4dd9a5dac9e6f282b6da\" style=\"text-align:center\"><svg class=\"toyplot-canvas-Canvas\" height=\"350.0px\" id=\"tec03eeb2ca3e4bf5815cc546cfca5227\" preserveAspectRatio=\"xMidYMid meet\" style=\"background-color:transparent;border-color:#292724;border-style:none;border-width:1.0;fill:rgb(16.1%,15.3%,14.1%);fill-opacity:1.0;font-family:Helvetica;font-size:12px;opacity:1.0;stroke:rgb(16.1%,15.3%,14.1%);stroke-opacity:1.0;stroke-width:1.0\" viewBox=\"0 0 400.0 350.0\" width=\"400.0px\" xmlns=\"http://www.w3.org/2000/svg\" xmlns:toyplot=\"http://www.sandia.gov/toyplot\" xmlns:xlink=\"http://www.w3.org/1999/xlink\"><g class=\"toyplot-coordinates-Cartesian\" id=\"t2480b2362b134c21bab71ed054f45827\"><clipPath id=\"t04713ef1264843c4bbe5d28bdb983caa\"><rect height=\"290.0\" width=\"340.0\" x=\"30.0\" y=\"30.0\"></rect></clipPath><g clip-path=\"url(#t04713ef1264843c4bbe5d28bdb983caa)\"><g class=\"toytree-mark-Toytree\" id=\"t642aeefa04fd489d8c5d2c290a65e440\"><g class=\"toytree-Edges\" style=\"fill:none;stroke:rgb(14.9%,14.9%,14.9%);stroke-linecap:round;stroke-opacity:1;stroke-width:2\"><path d=\"M 50.0 93.3 L 50.0 136.3 L 84.2 136.3\" id=\"21,20\"></path><path d=\"M 84.2 136.3 L 84.2 169.8 L 118.4 169.8\" id=\"20,19\"></path><path d=\"M 118.4 169.8 L 118.4 216.3 L 152.5 216.3\" id=\"19,18\"></path><path d=\"M 152.5 216.3 L 152.5 175.0 L 186.7 175.0\" id=\"18,17\"></path><path d=\"M 152.5 216.3 L 152.5 257.6 L 186.7 257.6\" id=\"18,16\"></path><path d=\"M 186.7 175.0 L 186.7 154.4 L 220.9 154.4\" id=\"17,15\"></path><path d=\"M 186.7 175.0 L 186.7 195.6 L 220.9 195.6\" id=\"17,14\"></path><path d=\"M 186.7 257.6 L 186.7 236.9 L 220.9 236.9\" id=\"16,13\"></path><path d=\"M 186.7 257.6 L 186.7 278.2 L 220.9 278.2\" id=\"16,12\"></path><path d=\"M 50.0 93.3 L 50.0 61.4 L 255.1 61.4\" id=\"21,11\"></path><path d=\"M 50.0 93.3 L 50.0 82.1 L 255.1 82.1\" id=\"21,10\"></path><path d=\"M 84.2 136.3 L 84.2 102.7 L 255.1 102.7\" id=\"20,9\"></path><path d=\"M 118.4 169.8 L 118.4 123.4 L 255.1 123.4\" id=\"19,8\"></path><path d=\"M 220.9 154.4 L 220.9 144.0 L 255.1 144.0\" id=\"15,7\"></path><path d=\"M 220.9 154.4 L 220.9 164.7 L 255.1 164.7\" id=\"15,6\"></path><path d=\"M 220.9 195.6 L 220.9 185.3 L 255.1 185.3\" id=\"14,5\"></path><path d=\"M 220.9 195.6 L 220.9 206.0 L 255.1 206.0\" id=\"14,4\"></path><path d=\"M 220.9 236.9 L 220.9 226.6 L 255.1 226.6\" id=\"13,3\"></path><path d=\"M 220.9 236.9 L 220.9 247.3 L 255.1 247.3\" id=\"13,2\"></path><path d=\"M 220.9 278.2 L 220.9 267.9 L 255.1 267.9\" id=\"12,1\"></path><path d=\"M 220.9 278.2 L 220.9 288.6 L 255.1 288.6\" id=\"12,0\"></path></g><g class=\"toytree-Nodes\" style=\"fill:rgb(82.7%,82.7%,82.7%);fill-opacity:1.0;stroke:rgb(14.9%,14.9%,14.9%);stroke-opacity:1.0;stroke-width:1.5\"><g id=\"node-0\" transform=\"translate(255.061,288.554)\"><circle r=\"0.0\"></circle></g><g id=\"node-1\" transform=\"translate(255.061,267.908)\"><circle r=\"0.0\"></circle></g><g id=\"node-2\" transform=\"translate(255.061,247.261)\"><circle r=\"0.0\"></circle></g><g id=\"node-3\" transform=\"translate(255.061,226.615)\"><circle r=\"0.0\"></circle></g><g id=\"node-4\" transform=\"translate(255.061,205.969)\"><circle r=\"0.0\"></circle></g><g id=\"node-5\" transform=\"translate(255.061,185.323)\"><circle r=\"0.0\"></circle></g><g id=\"node-6\" transform=\"translate(255.061,164.677)\"><circle r=\"0.0\"></circle></g><g id=\"node-7\" transform=\"translate(255.061,144.031)\"><circle r=\"0.0\"></circle></g><g id=\"node-8\" transform=\"translate(255.061,123.385)\"><circle r=\"0.0\"></circle></g><g id=\"node-9\" transform=\"translate(255.061,102.739)\"><circle r=\"0.0\"></circle></g><g id=\"node-10\" transform=\"translate(255.061,82.092)\"><circle r=\"0.0\"></circle></g><g id=\"node-11\" transform=\"translate(255.061,61.446)\"><circle r=\"0.0\"></circle></g><g id=\"node-12\" transform=\"translate(220.884,278.231)\"><circle r=\"10.5\"></circle></g><g id=\"node-13\" transform=\"translate(220.884,236.938)\"><circle r=\"10.5\"></circle></g><g id=\"node-14\" transform=\"translate(220.884,195.646)\"><circle r=\"10.5\"></circle></g><g id=\"node-15\" transform=\"translate(220.884,154.354)\"><circle r=\"10.5\"></circle></g><g id=\"node-16\" transform=\"translate(186.707,257.585)\"><circle r=\"10.5\"></circle></g><g id=\"node-17\" transform=\"translate(186.707,175.000)\"><circle r=\"10.5\"></circle></g><g id=\"node-18\" transform=\"translate(152.530,216.292)\"><circle r=\"10.5\"></circle></g><g id=\"node-19\" transform=\"translate(118.354,169.838)\"><circle r=\"10.5\"></circle></g><g id=\"node-20\" transform=\"translate(84.177,136.288)\"><circle r=\"10.5\"></circle></g><g id=\"node-21\" transform=\"translate(50.000,93.276)\"><circle r=\"0.0\"></circle></g></g><g class=\"toytree-NodeLabels\" style=\"fill:rgb(14.9%,14.9%,14.9%);fill-opacity:1.0;font-size:9px;stroke:none\"><g transform=\"translate(212.13,280.53)\"><text>33.4</text></g><g transform=\"translate(212.13,239.24)\"><text>64.9</text></g><g transform=\"translate(212.13,197.95)\"><text>60.7</text></g><g transform=\"translate(212.13,156.65)\"><text>56.5</text></g><g transform=\"translate(177.95,259.88)\"><text>51.2</text></g><g transform=\"translate(177.95,177.30)\"><text>70.6</text></g><g transform=\"translate(143.77,218.59)\"><text>65.9</text></g><g transform=\"translate(113.35,172.14)\"><text>43</text></g><g transform=\"translate(75.42,138.59)\"><text>60.5</text></g></g><g class=\"toytree-TipLabels\" style=\"fill:rgb(14.9%,14.9%,14.9%);fill-opacity:1.0;font-family:helvetica;font-size:11px;font-weight:normal;stroke:none;white-space:pre\"><g transform=\"translate(255.06,288.55)rotate(0)\"><text style=\"\" x=\"15.00\" y=\"2.81\">Mhaplanaria_2</text></g><g transform=\"translate(255.06,267.91)rotate(0)\"><text style=\"\" x=\"15.00\" y=\"2.81\">Mhaplanaria_1</text></g><g transform=\"translate(255.06,247.26)rotate(0)\"><text style=\"\" x=\"15.00\" y=\"2.81\">MentL30_1</text></g><g transform=\"translate(255.06,226.62)rotate(0)\"><text style=\"\" x=\"15.00\" y=\"2.81\">MentL30_2</text></g><g transform=\"translate(255.06,205.97)rotate(0)\"><text style=\"\" x=\"15.00\" y=\"2.81\">MincW1_2</text></g><g transform=\"translate(255.06,185.32)rotate(0)\"><text style=\"\" x=\"15.00\" y=\"2.81\">MfloSJF1_2</text></g><g transform=\"translate(255.06,164.68)rotate(0)\"><text style=\"\" x=\"15.00\" y=\"2.81\">MareHarA_2</text></g><g transform=\"translate(255.06,144.03)rotate(0)\"><text style=\"\" x=\"15.00\" y=\"2.81\">MjavVW4_2</text></g><g transform=\"translate(255.06,123.38)rotate(0)\"><text style=\"\" x=\"15.00\" y=\"2.81\">MfloSJF1_1</text></g><g transform=\"translate(255.06,102.74)rotate(0)\"><text style=\"\" x=\"15.00\" y=\"2.81\">MincW1_1</text></g><g transform=\"translate(255.06,82.09)rotate(0)\"><text style=\"\" x=\"15.00\" y=\"2.81\">MareHarA_1</text></g><g transform=\"translate(255.06,61.45)rotate(0)\"><text style=\"\" x=\"15.00\" y=\"2.81\">MjavVW4_1</text></g></g></g></g></g></svg><div class=\"toyplot-behavior\"><script>(function()\n",
       "{\n",
       "var modules={};\n",
       "})();</script></div></div>"
      ]
     },
     "metadata": {},
     "output_type": "display_data"
    }
   ],
   "source": [
    "ctree.draw(node_labels=\"concordance-2\", node_sizes=21, height=350, width=400, ts='s');"
   ]
  }
 ],
 "metadata": {
  "kernelspec": {
   "display_name": "Python 3",
   "language": "python",
   "name": "python3"
  },
  "language_info": {
   "codemirror_mode": {
    "name": "ipython",
    "version": 3
   },
   "file_extension": ".py",
   "mimetype": "text/x-python",
   "name": "python",
   "nbconvert_exporter": "python",
   "pygments_lexer": "ipython3",
   "version": "3.7.8"
  }
 },
 "nbformat": 4,
 "nbformat_minor": 4
}
