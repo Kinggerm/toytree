{
 "cells": [
  {
   "cell_type": "markdown",
   "metadata": {},
   "source": [
    "### Issue 30: add toytree prune func"
   ]
  },
  {
   "cell_type": "code",
   "execution_count": 1,
   "metadata": {},
   "outputs": [],
   "source": [
    "import toytree"
   ]
  },
  {
   "cell_type": "code",
   "execution_count": 28,
   "metadata": {},
   "outputs": [
    {
     "data": {
      "text/html": [
       "<div class=\"toyplot\" id=\"t14a9f758cfc84add8e2b3b1d7424718c\" style=\"text-align:center\"><svg class=\"toyplot-canvas-Canvas\" height=\"540.0px\" id=\"tbb78f95ace5b45f1a856c77571ca636b\" preserveAspectRatio=\"xMidYMid meet\" style=\"background-color:transparent;border-color:#292724;border-style:none;border-width:1.0;fill:rgb(16.1%,15.3%,14.1%);fill-opacity:1.0;font-family:Helvetica;font-size:12px;opacity:1.0;stroke:rgb(16.1%,15.3%,14.1%);stroke-opacity:1.0;stroke-width:1.0\" viewBox=\"0 0 265.0 540.0\" width=\"265.0px\" xmlns=\"http://www.w3.org/2000/svg\" xmlns:toyplot=\"http://www.sandia.gov/toyplot\" xmlns:xlink=\"http://www.w3.org/1999/xlink\"><g class=\"toyplot-coordinates-Cartesian\" id=\"tdaebeacaff214217bb0b67034a6d4139\"><clipPath id=\"t13b7322a9acf427d9d2e6a79c0df06e4\"><rect height=\"480.0\" width=\"205.0\" x=\"30.0\" y=\"30.0\"></rect></clipPath><g clip-path=\"url(#t13b7322a9acf427d9d2e6a79c0df06e4)\"><g class=\"toytree-mark-Toytree\" id=\"t0466e4eec1794c899b9a3fd23e3b2336\"><g class=\"toytree-Edges\" style=\"fill:none;stroke:rgb(14.9%,14.9%,14.9%);stroke-linecap:round;stroke-opacity:1;stroke-width:2\"><path d=\"M 51.7 215.6 L 51.7 105.8 L 67.0 105.8\" id=\"58,57\"></path><path d=\"M 51.7 215.6 L 51.7 325.4 L 67.0 325.4\" id=\"58,56\"></path><path d=\"M 67.0 105.8 L 67.0 72.7 L 82.3 72.7\" id=\"57,55\"></path><path d=\"M 67.0 105.8 L 67.0 138.9 L 82.3 138.9\" id=\"57,54\"></path><path d=\"M 67.0 325.4 L 67.0 271.8 L 82.3 271.8\" id=\"56,53\"></path><path d=\"M 67.0 325.4 L 67.0 379.0 L 82.3 379.0\" id=\"56,52\"></path><path d=\"M 82.3 72.7 L 82.3 83.4 L 97.7 83.4\" id=\"55,51\"></path><path d=\"M 82.3 138.9 L 82.3 115.7 L 97.7 115.7\" id=\"54,50\"></path><path d=\"M 82.3 138.9 L 82.3 162.1 L 97.7 162.1\" id=\"54,49\"></path><path d=\"M 82.3 271.8 L 82.3 255.6 L 97.7 255.6\" id=\"53,48\"></path><path d=\"M 82.3 271.8 L 82.3 287.9 L 97.7 287.9\" id=\"53,47\"></path><path d=\"M 82.3 379.0 L 82.3 341.8 L 97.7 341.8\" id=\"52,46\"></path><path d=\"M 82.3 379.0 L 82.3 416.2 L 97.7 416.2\" id=\"52,45\"></path><path d=\"M 97.7 115.7 L 97.7 126.5 L 113.0 126.5\" id=\"50,44\"></path><path d=\"M 97.7 162.1 L 97.7 176.3 L 113.0 176.3\" id=\"49,43\"></path><path d=\"M 97.7 287.9 L 97.7 298.7 L 113.0 298.7\" id=\"47,42\"></path><path d=\"M 97.7 341.8 L 97.7 327.4 L 113.0 327.4\" id=\"46,41\"></path><path d=\"M 97.7 341.8 L 97.7 356.1 L 113.0 356.1\" id=\"46,40\"></path><path d=\"M 97.7 416.2 L 97.7 388.4 L 113.0 388.4\" id=\"45,39\"></path><path d=\"M 97.7 416.2 L 97.7 444.0 L 113.0 444.0\" id=\"45,38\"></path><path d=\"M 113.0 176.3 L 113.0 190.2 L 128.3 190.2\" id=\"43,37\"></path><path d=\"M 113.0 388.4 L 113.0 399.2 L 128.3 399.2\" id=\"39,36\"></path><path d=\"M 113.0 444.0 L 113.0 427.9 L 128.3 427.9\" id=\"38,35\"></path><path d=\"M 113.0 444.0 L 113.0 460.1 L 128.3 460.1\" id=\"38,34\"></path><path d=\"M 128.3 190.2 L 128.3 203.6 L 143.6 203.6\" id=\"37,33\"></path><path d=\"M 128.3 460.1 L 128.3 470.9 L 143.6 470.9\" id=\"34,32\"></path><path d=\"M 143.6 203.6 L 143.6 216.2 L 159.0 216.2\" id=\"33,31\"></path><path d=\"M 159.0 216.2 L 159.0 226.9 L 174.3 226.9\" id=\"31,30\"></path><path d=\"M 82.3 72.7 L 82.3 61.9 L 189.6 61.9\" id=\"55,29\"></path><path d=\"M 97.7 83.4 L 97.7 76.3 L 189.6 76.3\" id=\"51,28\"></path><path d=\"M 97.7 83.4 L 97.7 90.6 L 189.6 90.6\" id=\"51,27\"></path><path d=\"M 97.7 115.7 L 97.7 105.0 L 189.6 105.0\" id=\"50,26\"></path><path d=\"M 113.0 126.5 L 113.0 119.3 L 189.6 119.3\" id=\"44,25\"></path><path d=\"M 113.0 126.5 L 113.0 133.7 L 189.6 133.7\" id=\"44,24\"></path><path d=\"M 97.7 162.1 L 97.7 148.0 L 189.6 148.0\" id=\"49,23\"></path><path d=\"M 113.0 176.3 L 113.0 162.4 L 189.6 162.4\" id=\"43,22\"></path><path d=\"M 128.3 190.2 L 128.3 176.7 L 189.6 176.7\" id=\"37,21\"></path><path d=\"M 143.6 203.6 L 143.6 191.1 L 189.6 191.1\" id=\"33,20\"></path><path d=\"M 159.0 216.2 L 159.0 205.4 L 189.6 205.4\" id=\"31,19\"></path><path d=\"M 174.3 226.9 L 174.3 219.8 L 189.6 219.8\" id=\"30,18\"></path><path d=\"M 174.3 226.9 L 174.3 234.1 L 189.6 234.1\" id=\"30,17\"></path><path d=\"M 97.7 255.6 L 97.7 248.5 L 189.6 248.5\" id=\"48,16\"></path><path d=\"M 97.7 255.6 L 97.7 262.8 L 189.6 262.8\" id=\"48,15\"></path><path d=\"M 97.7 287.9 L 97.7 277.2 L 189.6 277.2\" id=\"47,14\"></path><path d=\"M 113.0 298.7 L 113.0 291.5 L 189.6 291.5\" id=\"42,13\"></path><path d=\"M 113.0 298.7 L 113.0 305.9 L 189.6 305.9\" id=\"42,12\"></path><path d=\"M 113.0 327.4 L 113.0 320.2 L 189.6 320.2\" id=\"41,11\"></path><path d=\"M 113.0 327.4 L 113.0 334.6 L 189.6 334.6\" id=\"41,10\"></path><path d=\"M 113.0 356.1 L 113.0 348.9 L 189.6 348.9\" id=\"40,9\"></path><path d=\"M 113.0 356.1 L 113.0 363.3 L 189.6 363.3\" id=\"40,8\"></path><path d=\"M 113.0 388.4 L 113.0 377.6 L 189.6 377.6\" id=\"39,7\"></path><path d=\"M 128.3 399.2 L 128.3 392.0 L 189.6 392.0\" id=\"36,6\"></path><path d=\"M 128.3 399.2 L 128.3 406.3 L 189.6 406.3\" id=\"36,5\"></path><path d=\"M 128.3 427.9 L 128.3 420.7 L 189.6 420.7\" id=\"35,4\"></path><path d=\"M 128.3 427.9 L 128.3 435.0 L 189.6 435.0\" id=\"35,3\"></path><path d=\"M 128.3 460.1 L 128.3 449.4 L 189.6 449.4\" id=\"34,2\"></path><path d=\"M 143.6 470.9 L 143.6 463.7 L 189.6 463.7\" id=\"32,1\"></path><path d=\"M 143.6 470.9 L 143.6 478.1 L 189.6 478.1\" id=\"32,0\"></path></g><g class=\"toytree-TipLabels\" style=\"fill:rgb(14.9%,14.9%,14.9%);fill-opacity:1.0;font-family:helvetica;font-size:11px;font-weight:normal;stroke:none;white-space:pre\"><g transform=\"translate(189.63,478.08)rotate(0)\"><text style=\"\" x=\"15.00\" y=\"2.81\">r0</text></g><g transform=\"translate(189.63,463.73)rotate(0)\"><text style=\"\" x=\"15.00\" y=\"2.81\">r1</text></g><g transform=\"translate(189.63,449.38)rotate(0)\"><text style=\"\" x=\"15.00\" y=\"2.81\">r2</text></g><g transform=\"translate(189.63,435.03)rotate(0)\"><text style=\"\" x=\"15.00\" y=\"2.81\">r3</text></g><g transform=\"translate(189.63,420.68)rotate(0)\"><text style=\"\" x=\"15.00\" y=\"2.81\">r4</text></g><g transform=\"translate(189.63,406.33)rotate(0)\"><text style=\"\" x=\"15.00\" y=\"2.81\">r5</text></g><g transform=\"translate(189.63,391.98)rotate(0)\"><text style=\"\" x=\"15.00\" y=\"2.81\">r6</text></g><g transform=\"translate(189.63,377.63)rotate(0)\"><text style=\"\" x=\"15.00\" y=\"2.81\">r7</text></g><g transform=\"translate(189.63,363.28)rotate(0)\"><text style=\"\" x=\"15.00\" y=\"2.81\">r8</text></g><g transform=\"translate(189.63,348.93)rotate(0)\"><text style=\"\" x=\"15.00\" y=\"2.81\">r9</text></g><g transform=\"translate(189.63,334.58)rotate(0)\"><text style=\"\" x=\"15.00\" y=\"2.81\">r10</text></g><g transform=\"translate(189.63,320.23)rotate(0)\"><text style=\"\" x=\"15.00\" y=\"2.81\">r11</text></g><g transform=\"translate(189.63,305.88)rotate(0)\"><text style=\"\" x=\"15.00\" y=\"2.81\">r12</text></g><g transform=\"translate(189.63,291.53)rotate(0)\"><text style=\"\" x=\"15.00\" y=\"2.81\">r13</text></g><g transform=\"translate(189.63,277.18)rotate(0)\"><text style=\"\" x=\"15.00\" y=\"2.81\">r14</text></g><g transform=\"translate(189.63,262.82)rotate(0)\"><text style=\"\" x=\"15.00\" y=\"2.81\">r15</text></g><g transform=\"translate(189.63,248.47)rotate(0)\"><text style=\"\" x=\"15.00\" y=\"2.81\">r16</text></g><g transform=\"translate(189.63,234.12)rotate(0)\"><text style=\"\" x=\"15.00\" y=\"2.81\">r17</text></g><g transform=\"translate(189.63,219.77)rotate(0)\"><text style=\"\" x=\"15.00\" y=\"2.81\">r18</text></g><g transform=\"translate(189.63,205.42)rotate(0)\"><text style=\"\" x=\"15.00\" y=\"2.81\">r19</text></g><g transform=\"translate(189.63,191.07)rotate(0)\"><text style=\"\" x=\"15.00\" y=\"2.81\">r20</text></g><g transform=\"translate(189.63,176.72)rotate(0)\"><text style=\"\" x=\"15.00\" y=\"2.81\">r21</text></g><g transform=\"translate(189.63,162.37)rotate(0)\"><text style=\"\" x=\"15.00\" y=\"2.81\">r22</text></g><g transform=\"translate(189.63,148.02)rotate(0)\"><text style=\"\" x=\"15.00\" y=\"2.81\">r23</text></g><g transform=\"translate(189.63,133.67)rotate(0)\"><text style=\"\" x=\"15.00\" y=\"2.81\">r24</text></g><g transform=\"translate(189.63,119.32)rotate(0)\"><text style=\"\" x=\"15.00\" y=\"2.81\">r25</text></g><g transform=\"translate(189.63,104.97)rotate(0)\"><text style=\"\" x=\"15.00\" y=\"2.81\">r26</text></g><g transform=\"translate(189.63,90.62)rotate(0)\"><text style=\"\" x=\"15.00\" y=\"2.81\">r27</text></g><g transform=\"translate(189.63,76.27)rotate(0)\"><text style=\"\" x=\"15.00\" y=\"2.81\">r28</text></g><g transform=\"translate(189.63,61.92)rotate(0)\"><text style=\"\" x=\"15.00\" y=\"2.81\">r29</text></g></g></g></g></g></svg><div class=\"toyplot-behavior\"><script>(function()\n",
       "{\n",
       "var modules={};\n",
       "})();</script></div></div>"
      ]
     },
     "metadata": {},
     "output_type": "display_data"
    }
   ],
   "source": [
    "tre = toytree.rtree.unittree(30)\n",
    "tre.draw();"
   ]
  },
  {
   "cell_type": "code",
   "execution_count": 29,
   "metadata": {},
   "outputs": [
    {
     "data": {
      "text/html": [
       "<div class=\"toyplot\" id=\"t3086a0e497af4eb8b5522e1dc6dfdbfa\" style=\"text-align:center\"><svg class=\"toyplot-canvas-Canvas\" height=\"275.0px\" id=\"t0c51fb760233407abe73da4d46bfcf4b\" preserveAspectRatio=\"xMidYMid meet\" style=\"background-color:transparent;border-color:#292724;border-style:none;border-width:1.0;fill:rgb(16.1%,15.3%,14.1%);fill-opacity:1.0;font-family:Helvetica;font-size:12px;opacity:1.0;stroke:rgb(16.1%,15.3%,14.1%);stroke-opacity:1.0;stroke-width:1.0\" viewBox=\"0 0 265.0 275.0\" width=\"265.0px\" xmlns=\"http://www.w3.org/2000/svg\" xmlns:toyplot=\"http://www.sandia.gov/toyplot\" xmlns:xlink=\"http://www.w3.org/1999/xlink\"><g class=\"toyplot-coordinates-Cartesian\" id=\"t8204d6be1e304cb68d5f33dc19b73c67\"><clipPath id=\"ta6ffb655117b4d9bb87ce623f335f4a4\"><rect height=\"215.0\" width=\"205.0\" x=\"30.0\" y=\"30.0\"></rect></clipPath><g clip-path=\"url(#ta6ffb655117b4d9bb87ce623f335f4a4)\"><g class=\"toytree-mark-Toytree\" id=\"tebb889521ae848debc587d424eaff1c3\"><g class=\"toytree-Edges\" style=\"fill:none;stroke:rgb(14.9%,14.9%,14.9%);stroke-linecap:round;stroke-opacity:1;stroke-width:2\"><path d=\"M 51.7 156.6 L 51.7 99.3 L 67.0 99.3\" id=\"6,5\"></path><path d=\"M 67.0 99.3 L 67.0 137.5 L 143.6 137.5\" id=\"5,4\"></path><path d=\"M 67.0 99.3 L 67.0 61.0 L 189.6 61.0\" id=\"5,3\"></path><path d=\"M 143.6 137.5 L 143.6 112.0 L 189.6 112.0\" id=\"4,2\"></path><path d=\"M 143.6 137.5 L 143.6 163.0 L 189.6 163.0\" id=\"4,1\"></path><path d=\"M 51.7 156.6 L 51.7 214.0 L 189.6 214.0\" id=\"6,0\"></path></g><g class=\"toytree-TipLabels\" style=\"fill:rgb(14.9%,14.9%,14.9%);fill-opacity:1.0;font-family:helvetica;font-size:11px;font-weight:normal;stroke:none;white-space:pre\"><g transform=\"translate(189.63,213.99)rotate(0)\"><text style=\"\" x=\"15.00\" y=\"2.81\">r29</text></g><g transform=\"translate(189.63,163.00)rotate(0)\"><text style=\"\" x=\"15.00\" y=\"2.81\">r0</text></g><g transform=\"translate(189.63,112.00)rotate(0)\"><text style=\"\" x=\"15.00\" y=\"2.81\">r1</text></g><g transform=\"translate(189.63,61.01)rotate(0)\"><text style=\"\" x=\"15.00\" y=\"2.81\">r13</text></g></g></g></g></g></svg><div class=\"toyplot-behavior\"><script>(function()\n",
       "{\n",
       "var modules={};\n",
       "})();</script></div></div>"
      ]
     },
     "metadata": {},
     "output_type": "display_data"
    }
   ],
   "source": [
    "tre.prune(['r29', 'r13', 'r1', 'r0']).draw();"
   ]
  },
  {
   "cell_type": "code",
   "execution_count": 33,
   "metadata": {},
   "outputs": [
    {
     "data": {
      "text/html": [
       "<div class=\"toyplot\" id=\"tb6c820a974684b1ea608a14a4e0e421c\" style=\"text-align:center\"><svg class=\"toyplot-canvas-Canvas\" height=\"275.0px\" id=\"t2e8ad06f20b148018bc0c0d96a4d855a\" preserveAspectRatio=\"xMidYMid meet\" style=\"background-color:transparent;border-color:#292724;border-style:none;border-width:1.0;fill:rgb(16.1%,15.3%,14.1%);fill-opacity:1.0;font-family:Helvetica;font-size:12px;opacity:1.0;stroke:rgb(16.1%,15.3%,14.1%);stroke-opacity:1.0;stroke-width:1.0\" viewBox=\"0 0 265.0 275.0\" width=\"265.0px\" xmlns=\"http://www.w3.org/2000/svg\" xmlns:toyplot=\"http://www.sandia.gov/toyplot\" xmlns:xlink=\"http://www.w3.org/1999/xlink\"><g class=\"toyplot-coordinates-Cartesian\" id=\"te7fcdcb9ad9f4af98aa2be54370eb51a\"><clipPath id=\"td54f85bfca724a8686c001545beef149\"><rect height=\"215.0\" width=\"205.0\" x=\"30.0\" y=\"30.0\"></rect></clipPath><g clip-path=\"url(#td54f85bfca724a8686c001545beef149)\"><g class=\"toytree-mark-Toytree\" id=\"tc0e2248409ee429195c2ec7af4666f6c\"><g class=\"toytree-Edges\" style=\"fill:none;stroke:rgb(14.9%,14.9%,14.9%);stroke-linecap:round;stroke-opacity:1;stroke-width:2\"><path d=\"M 51.7 173.4 L 51.7 132.7 L 68.9 132.7\" id=\"8,7\"></path><path d=\"M 68.9 132.7 L 68.9 89.7 L 86.2 89.7\" id=\"7,6\"></path><path d=\"M 86.2 89.7 L 86.2 118.4 L 103.4 118.4\" id=\"6,5\"></path><path d=\"M 86.2 89.7 L 86.2 61.0 L 189.6 61.0\" id=\"6,4\"></path><path d=\"M 103.4 118.4 L 103.4 99.3 L 189.6 99.3\" id=\"5,3\"></path><path d=\"M 103.4 118.4 L 103.4 137.5 L 189.6 137.5\" id=\"5,2\"></path><path d=\"M 68.9 132.7 L 68.9 175.7 L 189.6 175.7\" id=\"7,1\"></path><path d=\"M 51.7 173.4 L 51.7 214.0 L 189.6 214.0\" id=\"8,0\"></path></g><g class=\"toytree-TipLabels\" style=\"fill:rgb(14.9%,14.9%,14.9%);fill-opacity:1.0;font-family:helvetica;font-size:11px;font-weight:normal;stroke:none;white-space:pre\"><g transform=\"translate(189.63,213.99)rotate(0)\"><text style=\"\" x=\"15.00\" y=\"2.81\">r11</text></g><g transform=\"translate(189.63,175.74)rotate(0)\"><text style=\"\" x=\"15.00\" y=\"2.81\">r15</text></g><g transform=\"translate(189.63,137.50)rotate(0)\"><text style=\"\" x=\"15.00\" y=\"2.81\">r12</text></g><g transform=\"translate(189.63,99.26)rotate(0)\"><text style=\"\" x=\"15.00\" y=\"2.81\">r13</text></g><g transform=\"translate(189.63,61.01)rotate(0)\"><text style=\"\" x=\"15.00\" y=\"2.81\">r14</text></g></g></g></g></g></svg><div class=\"toyplot-behavior\"><script>(function()\n",
       "{\n",
       "var modules={};\n",
       "})();</script></div></div>"
      ]
     },
     "metadata": {},
     "output_type": "display_data"
    }
   ],
   "source": [
    "tre.prune(regex='r1[1-5]').draw();"
   ]
  }
 ],
 "metadata": {
  "kernelspec": {
   "display_name": "Python 3",
   "language": "python",
   "name": "python3"
  },
  "language_info": {
   "codemirror_mode": {
    "name": "ipython",
    "version": 3
   },
   "file_extension": ".py",
   "mimetype": "text/x-python",
   "name": "python",
   "nbconvert_exporter": "python",
   "pygments_lexer": "ipython3",
   "version": "3.7.9"
  }
 },
 "nbformat": 4,
 "nbformat_minor": 4
}
