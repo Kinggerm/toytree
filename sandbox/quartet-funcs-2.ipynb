{
 "cells": [
  {
   "cell_type": "markdown",
   "metadata": {},
   "source": [
    "### toytree quartet functions (in progress)"
   ]
  },
  {
   "cell_type": "code",
   "execution_count": 1,
   "metadata": {},
   "outputs": [],
   "source": [
    "import toytree\n",
    "import itertools\n",
    "import numpy as np"
   ]
  },
  {
   "cell_type": "markdown",
   "metadata": {},
   "source": [
    "### get two random trees"
   ]
  },
  {
   "cell_type": "code",
   "execution_count": 2,
   "metadata": {},
   "outputs": [],
   "source": [
    "t0 = toytree.rtree.unittree(10, seed=0)\n",
    "t1 = toytree.rtree.unittree(10, seed=1)"
   ]
  },
  {
   "cell_type": "code",
   "execution_count": 3,
   "metadata": {},
   "outputs": [
    {
     "data": {
      "text/html": [
       "<div class=\"toyplot\" id=\"t5fccfaef8a724106b79689608f3b64dc\" style=\"text-align:center\"><svg class=\"toyplot-canvas-Canvas\" height=\"200.0px\" id=\"t0c25e6929e064bdb8c237eaa9bbf252a\" preserveAspectRatio=\"xMidYMid meet\" style=\"background-color:transparent;border-color:#292724;border-style:none;border-width:1.0;fill:rgb(16.1%,15.3%,14.1%);fill-opacity:1.0;font-family:Helvetica;font-size:12px;opacity:1.0;stroke:rgb(16.1%,15.3%,14.1%);stroke-opacity:1.0;stroke-width:1.0\" viewBox=\"0 0 500.0 200.0\" width=\"500.0px\" xmlns=\"http://www.w3.org/2000/svg\" xmlns:toyplot=\"http://www.sandia.gov/toyplot\" xmlns:xlink=\"http://www.w3.org/1999/xlink\"><g class=\"toyplot-coordinates-Cartesian\" id=\"t90dda1570a34418d8686edccdd3e8cd9\"><clipPath id=\"tfbf1a7082350446f9975bbc3161b4d49\"><rect height=\"170.0\" width=\"220.0\" x=\"15.0\" y=\"15.0\"></rect></clipPath><g clip-path=\"url(#tfbf1a7082350446f9975bbc3161b4d49)\"><g class=\"toytree-mark-Toytree\" id=\"t0df36df772e5412b92ca4dfb80dc0b34\"><g class=\"toytree-Edges\" style=\"fill:none;stroke:rgb(14.9%,14.9%,14.9%);stroke-linecap:round;stroke-opacity:1;stroke-width:2\"><path d=\"M 178.2 36.7 L 202.3 51.4\" id=\"18,17\"></path><path d=\"M 178.2 36.7 L 154.1 51.4\" id=\"18,16\"></path><path d=\"M 154.1 51.4 L 135.0 66.0\" id=\"16,15\"></path><path d=\"M 135.0 66.0 L 115.9 80.7\" id=\"15,14\"></path><path d=\"M 115.9 80.7 L 97.2 95.4\" id=\"14,13\"></path><path d=\"M 97.2 95.4 L 79.1 110.0\" id=\"13,12\"></path><path d=\"M 79.1 110.0 L 62.2 124.7\" id=\"12,11\"></path><path d=\"M 62.2 124.7 L 47.7 139.3\" id=\"11,10\"></path><path d=\"M 202.3 51.4 L 212.0 154.0\" id=\"17,9\"></path><path d=\"M 202.3 51.4 L 192.6 154.0\" id=\"17,8\"></path><path d=\"M 154.1 51.4 L 173.3 154.0\" id=\"16,7\"></path><path d=\"M 135.0 66.0 L 154.0 154.0\" id=\"15,6\"></path><path d=\"M 115.9 80.7 L 134.7 154.0\" id=\"14,5\"></path><path d=\"M 97.2 95.4 L 115.3 154.0\" id=\"13,4\"></path><path d=\"M 79.1 110.0 L 96.0 154.0\" id=\"12,3\"></path><path d=\"M 62.2 124.7 L 76.7 154.0\" id=\"11,2\"></path><path d=\"M 47.7 139.3 L 57.4 154.0\" id=\"10,1\"></path><path d=\"M 47.7 139.3 L 38.0 154.0\" id=\"10,0\"></path></g><g class=\"toytree-Nodes\" style=\"fill:rgb(40%,76.1%,64.7%);fill-opacity:1.0;stroke:rgb(14.9%,14.9%,14.9%);stroke-opacity:1.0;stroke-width:1\"><g id=\"node-0\" transform=\"translate(38.043,153.979)\"><circle r=\"7.5\"></circle></g><g id=\"node-1\" transform=\"translate(57.367,153.979)\"><circle r=\"7.5\"></circle></g><g id=\"node-2\" transform=\"translate(76.691,153.979)\"><circle r=\"7.5\"></circle></g><g id=\"node-3\" transform=\"translate(96.014,153.979)\"><circle r=\"7.5\"></circle></g><g id=\"node-4\" transform=\"translate(115.338,153.979)\"><circle r=\"7.5\"></circle></g><g id=\"node-5\" transform=\"translate(134.662,153.979)\"><circle r=\"7.5\"></circle></g><g id=\"node-6\" transform=\"translate(153.986,153.979)\"><circle r=\"7.5\"></circle></g><g id=\"node-7\" transform=\"translate(173.309,153.979)\"><circle r=\"7.5\"></circle></g><g id=\"node-8\" transform=\"translate(192.633,153.979)\"><circle r=\"7.5\"></circle></g><g id=\"node-9\" transform=\"translate(211.957,153.979)\"><circle r=\"7.5\"></circle></g><g id=\"node-10\" transform=\"translate(47.705,139.323)\"><circle r=\"7.5\"></circle></g><g id=\"node-11\" transform=\"translate(62.198,124.666)\"><circle r=\"7.5\"></circle></g><g id=\"node-12\" transform=\"translate(79.106,110.009)\"><circle r=\"7.5\"></circle></g><g id=\"node-13\" transform=\"translate(97.222,95.352)\"><circle r=\"7.5\"></circle></g><g id=\"node-14\" transform=\"translate(115.942,80.696)\"><circle r=\"7.5\"></circle></g><g id=\"node-15\" transform=\"translate(134.964,66.039)\"><circle r=\"7.5\"></circle></g><g id=\"node-16\" transform=\"translate(154.136,51.382)\"><circle r=\"7.5\"></circle></g><g id=\"node-17\" transform=\"translate(202.295,51.382)\"><circle r=\"7.5\"></circle></g><g id=\"node-18\" transform=\"translate(178.216,36.725)\"><circle r=\"7.5\"></circle></g></g><g class=\"toytree-NodeLabels\" style=\"fill:rgb(14.9%,14.9%,14.9%);fill-opacity:1.0;font-size:9px;stroke:none\"><g transform=\"translate(35.54,156.28)\"><text>0</text></g><g transform=\"translate(54.87,156.28)\"><text>1</text></g><g transform=\"translate(74.19,156.28)\"><text>2</text></g><g transform=\"translate(93.51,156.28)\"><text>3</text></g><g transform=\"translate(112.84,156.28)\"><text>4</text></g><g transform=\"translate(132.16,156.28)\"><text>5</text></g><g transform=\"translate(151.48,156.28)\"><text>6</text></g><g transform=\"translate(170.81,156.28)\"><text>7</text></g><g transform=\"translate(190.13,156.28)\"><text>8</text></g><g transform=\"translate(209.45,156.28)\"><text>9</text></g><g transform=\"translate(42.70,141.62)\"><text>10</text></g><g transform=\"translate(57.19,126.97)\"><text>11</text></g><g transform=\"translate(74.10,112.31)\"><text>12</text></g><g transform=\"translate(92.22,97.65)\"><text>13</text></g><g transform=\"translate(110.94,83.00)\"><text>14</text></g><g transform=\"translate(129.96,68.34)\"><text>15</text></g><g transform=\"translate(149.13,53.68)\"><text>16</text></g><g transform=\"translate(197.29,53.68)\"><text>17</text></g><g transform=\"translate(173.21,39.02)\"><text>18</text></g></g><g class=\"toytree-TipLabels\" style=\"fill:rgb(14.9%,14.9%,14.9%);fill-opacity:1.0;font-family:helvetica;font-size:9px;font-weight:normal;stroke:none;white-space:pre\"><g transform=\"translate(38.04,153.98)rotate(-90)\"><text style=\"\" x=\"-18.00\" y=\"2.30\">r0</text></g><g transform=\"translate(57.37,153.98)rotate(-90)\"><text style=\"\" x=\"-18.00\" y=\"2.30\">r1</text></g><g transform=\"translate(76.69,153.98)rotate(-90)\"><text style=\"\" x=\"-18.00\" y=\"2.30\">r2</text></g><g transform=\"translate(96.01,153.98)rotate(-90)\"><text style=\"\" x=\"-18.00\" y=\"2.30\">r3</text></g><g transform=\"translate(115.34,153.98)rotate(-90)\"><text style=\"\" x=\"-18.00\" y=\"2.30\">r4</text></g><g transform=\"translate(134.66,153.98)rotate(-90)\"><text style=\"\" x=\"-18.00\" y=\"2.30\">r5</text></g><g transform=\"translate(153.99,153.98)rotate(-90)\"><text style=\"\" x=\"-18.00\" y=\"2.30\">r6</text></g><g transform=\"translate(173.31,153.98)rotate(-90)\"><text style=\"\" x=\"-18.00\" y=\"2.30\">r7</text></g><g transform=\"translate(192.63,153.98)rotate(-90)\"><text style=\"\" x=\"-18.00\" y=\"2.30\">r8</text></g><g transform=\"translate(211.96,153.98)rotate(-90)\"><text style=\"\" x=\"-18.00\" y=\"2.30\">r9</text></g></g></g></g></g><g class=\"toyplot-coordinates-Cartesian\" id=\"td80b80ef03654c818bad526c32107d06\"><clipPath id=\"t198984d594ea44ee8c0156bd39cf383a\"><rect height=\"170.0\" width=\"220.0\" x=\"265.0\" y=\"15.0\"></rect></clipPath><g clip-path=\"url(#t198984d594ea44ee8c0156bd39cf383a)\"><g class=\"toytree-mark-Toytree\" id=\"ta18c9127ea2a4ac3a097a7a9760f1803\"><g class=\"toytree-Edges\" style=\"fill:none;stroke:rgb(14.9%,14.9%,14.9%);stroke-linecap:round;stroke-opacity:1;stroke-width:2\"><path d=\"M 399.5 36.7 L 433.0 56.3\" id=\"18,17\"></path><path d=\"M 399.5 36.7 L 365.9 56.3\" id=\"18,16\"></path><path d=\"M 433.0 56.3 L 452.3 75.8\" id=\"17,15\"></path><path d=\"M 433.0 56.3 L 413.6 75.8\" id=\"17,14\"></path><path d=\"M 365.9 56.3 L 347.2 75.8\" id=\"16,13\"></path><path d=\"M 347.2 75.8 L 329.1 95.4\" id=\"13,12\"></path><path d=\"M 329.1 95.4 L 312.2 114.9\" id=\"12,11\"></path><path d=\"M 312.2 114.9 L 297.7 134.4\" id=\"11,10\"></path><path d=\"M 452.3 75.8 L 462.0 154.0\" id=\"15,9\"></path><path d=\"M 452.3 75.8 L 442.6 154.0\" id=\"15,8\"></path><path d=\"M 413.6 75.8 L 423.3 154.0\" id=\"14,7\"></path><path d=\"M 413.6 75.8 L 404.0 154.0\" id=\"14,6\"></path><path d=\"M 365.9 56.3 L 384.7 154.0\" id=\"16,5\"></path><path d=\"M 347.2 75.8 L 365.3 154.0\" id=\"13,4\"></path><path d=\"M 329.1 95.4 L 346.0 154.0\" id=\"12,3\"></path><path d=\"M 312.2 114.9 L 326.7 154.0\" id=\"11,2\"></path><path d=\"M 297.7 134.4 L 307.4 154.0\" id=\"10,1\"></path><path d=\"M 297.7 134.4 L 288.0 154.0\" id=\"10,0\"></path></g><g class=\"toytree-Nodes\" style=\"fill:rgb(40%,76.1%,64.7%);fill-opacity:1.0;stroke:rgb(14.9%,14.9%,14.9%);stroke-opacity:1.0;stroke-width:1\"><g id=\"node-0\" transform=\"translate(288.043,153.979)\"><circle r=\"7.5\"></circle></g><g id=\"node-1\" transform=\"translate(307.367,153.979)\"><circle r=\"7.5\"></circle></g><g id=\"node-2\" transform=\"translate(326.691,153.979)\"><circle r=\"7.5\"></circle></g><g id=\"node-3\" transform=\"translate(346.014,153.979)\"><circle r=\"7.5\"></circle></g><g id=\"node-4\" transform=\"translate(365.338,153.979)\"><circle r=\"7.5\"></circle></g><g id=\"node-5\" transform=\"translate(384.662,153.979)\"><circle r=\"7.5\"></circle></g><g id=\"node-6\" transform=\"translate(403.986,153.979)\"><circle r=\"7.5\"></circle></g><g id=\"node-7\" transform=\"translate(423.309,153.979)\"><circle r=\"7.5\"></circle></g><g id=\"node-8\" transform=\"translate(442.633,153.979)\"><circle r=\"7.5\"></circle></g><g id=\"node-9\" transform=\"translate(461.957,153.979)\"><circle r=\"7.5\"></circle></g><g id=\"node-10\" transform=\"translate(297.705,134.437)\"><circle r=\"7.5\"></circle></g><g id=\"node-11\" transform=\"translate(312.198,114.895)\"><circle r=\"7.5\"></circle></g><g id=\"node-12\" transform=\"translate(329.106,95.352)\"><circle r=\"7.5\"></circle></g><g id=\"node-13\" transform=\"translate(347.222,75.810)\"><circle r=\"7.5\"></circle></g><g id=\"node-14\" transform=\"translate(413.647,75.810)\"><circle r=\"7.5\"></circle></g><g id=\"node-15\" transform=\"translate(452.295,75.810)\"><circle r=\"7.5\"></circle></g><g id=\"node-16\" transform=\"translate(365.942,56.268)\"><circle r=\"7.5\"></circle></g><g id=\"node-17\" transform=\"translate(432.971,56.268)\"><circle r=\"7.5\"></circle></g><g id=\"node-18\" transform=\"translate(399.457,36.725)\"><circle r=\"7.5\"></circle></g></g><g class=\"toytree-NodeLabels\" style=\"fill:rgb(14.9%,14.9%,14.9%);fill-opacity:1.0;font-size:9px;stroke:none\"><g transform=\"translate(285.54,156.28)\"><text>0</text></g><g transform=\"translate(304.87,156.28)\"><text>1</text></g><g transform=\"translate(324.19,156.28)\"><text>2</text></g><g transform=\"translate(343.51,156.28)\"><text>3</text></g><g transform=\"translate(362.84,156.28)\"><text>4</text></g><g transform=\"translate(382.16,156.28)\"><text>5</text></g><g transform=\"translate(401.48,156.28)\"><text>6</text></g><g transform=\"translate(420.81,156.28)\"><text>7</text></g><g transform=\"translate(440.13,156.28)\"><text>8</text></g><g transform=\"translate(459.45,156.28)\"><text>9</text></g><g transform=\"translate(292.70,136.74)\"><text>10</text></g><g transform=\"translate(307.19,117.19)\"><text>11</text></g><g transform=\"translate(324.10,97.65)\"><text>12</text></g><g transform=\"translate(342.22,78.11)\"><text>13</text></g><g transform=\"translate(408.64,78.11)\"><text>14</text></g><g transform=\"translate(447.29,78.11)\"><text>15</text></g><g transform=\"translate(360.94,58.57)\"><text>16</text></g><g transform=\"translate(427.97,58.57)\"><text>17</text></g><g transform=\"translate(394.45,39.02)\"><text>18</text></g></g><g class=\"toytree-TipLabels\" style=\"fill:rgb(14.9%,14.9%,14.9%);fill-opacity:1.0;font-family:helvetica;font-size:9px;font-weight:normal;stroke:none;white-space:pre\"><g transform=\"translate(288.04,153.98)rotate(-90)\"><text style=\"\" x=\"-18.00\" y=\"2.30\">r0</text></g><g transform=\"translate(307.37,153.98)rotate(-90)\"><text style=\"\" x=\"-18.00\" y=\"2.30\">r1</text></g><g transform=\"translate(326.69,153.98)rotate(-90)\"><text style=\"\" x=\"-18.00\" y=\"2.30\">r2</text></g><g transform=\"translate(346.01,153.98)rotate(-90)\"><text style=\"\" x=\"-18.00\" y=\"2.30\">r3</text></g><g transform=\"translate(365.34,153.98)rotate(-90)\"><text style=\"\" x=\"-18.00\" y=\"2.30\">r4</text></g><g transform=\"translate(384.66,153.98)rotate(-90)\"><text style=\"\" x=\"-18.00\" y=\"2.30\">r5</text></g><g transform=\"translate(403.99,153.98)rotate(-90)\"><text style=\"\" x=\"-18.00\" y=\"2.30\">r6</text></g><g transform=\"translate(423.31,153.98)rotate(-90)\"><text style=\"\" x=\"-18.00\" y=\"2.30\">r7</text></g><g transform=\"translate(442.63,153.98)rotate(-90)\"><text style=\"\" x=\"-18.00\" y=\"2.30\">r8</text></g><g transform=\"translate(461.96,153.98)rotate(-90)\"><text style=\"\" x=\"-18.00\" y=\"2.30\">r9</text></g></g></g></g></g></svg><div class=\"toyplot-behavior\"><script>(function()\n",
       "{\n",
       "var modules={};\n",
       "})();</script></div></div>"
      ]
     },
     "metadata": {},
     "output_type": "display_data"
    }
   ],
   "source": [
    "toytree.mtree([t0, t1]).draw(ts='p', height=200);"
   ]
  },
  {
   "cell_type": "markdown",
   "metadata": {},
   "source": [
    "### Quartet functions"
   ]
  },
  {
   "cell_type": "code",
   "execution_count": 4,
   "metadata": {},
   "outputs": [],
   "source": [
    "def get_quartets(ttre):\n",
    "    \n",
    "    # store all quartets in this SET\n",
    "    qset = set([])\n",
    "    \n",
    "    # get a SET with all tips in the tree\n",
    "    fullset = set(ttre.get_tip_labels())\n",
    "    \n",
    "    # get a SET of the descendants from each internal node\n",
    "    for node in ttre.idx_dict.values():   \n",
    "\n",
    "        # skip leaf nodes\n",
    "        if not node.is_leaf():\n",
    "            \n",
    "            children = set(node.get_leaf_names())\n",
    "            prod = itertools.product(\n",
    "                itertools.combinations(children, 2),\n",
    "                itertools.combinations(fullset - children, 2),\n",
    "            )\n",
    "            quartets = set([tuple(itertools.chain(*i)) for i in prod])\n",
    "            qset = qset.union(quartets)\n",
    "\n",
    "    # order tups in sets\n",
    "    sorted_set = set()\n",
    "    for qs in qset:\n",
    "        if np.argmin(qs) > 1:\n",
    "            tup = tuple(sorted(qs[2:]) + sorted(qs[:2]))\n",
    "            sorted_set.add(tup)\n",
    "        else:\n",
    "            tup = tuple(sorted(qs[:2]) + sorted(qs[2:]))\n",
    "            sorted_set.add(tup)            \n",
    "    \n",
    "    return sorted_set"
   ]
  },
  {
   "cell_type": "code",
   "execution_count": 5,
   "metadata": {},
   "outputs": [],
   "source": [
    "def get_quartets_new(ttre):\n",
    "    # store all quartets in this list\n",
    "    qlist = list()\n",
    "    \n",
    "    # get names\n",
    "    tnames = ttre.get_tip_labels()\n",
    "    \n",
    "    # for each combination of four names...\n",
    "    for qnames in itertools.combinations(tnames,4):\n",
    "        # drop all tips not in our four chosen\n",
    "        qtre = ttre.drop_tips(set(tnames).difference(qnames))\n",
    "        \n",
    "        # ladderize to order tips around split\n",
    "        ltre = qtre.ladderize()\n",
    "        \n",
    "        # get names ordered around split (first two on one side, second two on other side)\n",
    "        snames = ltre.get_tip_labels()\n",
    "        \n",
    "        # append to quartet list\n",
    "        qlist.append(tuple(snames))\n",
    "    return(set(tuple(qlist)))"
   ]
  },
  {
   "cell_type": "code",
   "execution_count": 6,
   "metadata": {},
   "outputs": [
    {
     "name": "stdout",
     "output_type": "stream",
     "text": [
      "2.06 ms ± 11.4 µs per loop (mean ± std. dev. of 7 runs, 100 loops each)\n"
     ]
    }
   ],
   "source": [
    "%%timeit\n",
    "get_quartets(t0)"
   ]
  },
  {
   "cell_type": "code",
   "execution_count": 7,
   "metadata": {},
   "outputs": [
    {
     "name": "stdout",
     "output_type": "stream",
     "text": [
      "305 ms ± 10.3 ms per loop (mean ± std. dev. of 7 runs, 1 loop each)\n"
     ]
    }
   ],
   "source": [
    "%%timeit\n",
    "get_quartets_new(t0)"
   ]
  },
  {
   "cell_type": "markdown",
   "metadata": {},
   "source": [
    "### Compare quartet sets method 1"
   ]
  },
  {
   "cell_type": "code",
   "execution_count": 8,
   "metadata": {},
   "outputs": [],
   "source": [
    "q0 = get_quartets(t0)\n",
    "q1 = get_quartets(t1)"
   ]
  },
  {
   "cell_type": "code",
   "execution_count": 9,
   "metadata": {},
   "outputs": [
    {
     "data": {
      "text/plain": [
       "24"
      ]
     },
     "execution_count": 9,
     "metadata": {},
     "output_type": "execute_result"
    }
   ],
   "source": [
    "# quartets that are in one tree but not the other\n",
    "diffs = q0.symmetric_difference(q1)\n",
    "len(diffs)"
   ]
  },
  {
   "cell_type": "code",
   "execution_count": 10,
   "metadata": {},
   "outputs": [
    {
     "data": {
      "text/plain": [
       "0.9428571428571428"
      ]
     },
     "execution_count": 10,
     "metadata": {},
     "output_type": "execute_result"
    }
   ],
   "source": [
    "len(q0.intersection(q1)) / len(q0)"
   ]
  },
  {
   "cell_type": "markdown",
   "metadata": {},
   "source": [
    "### Compare quartets method 2"
   ]
  },
  {
   "cell_type": "code",
   "execution_count": 11,
   "metadata": {},
   "outputs": [],
   "source": [
    "q0 = get_quartets_new(t0)\n",
    "q1 = get_quartets_new(t1)"
   ]
  },
  {
   "cell_type": "code",
   "execution_count": 12,
   "metadata": {},
   "outputs": [
    {
     "data": {
      "text/plain": [
       "68"
      ]
     },
     "execution_count": 12,
     "metadata": {},
     "output_type": "execute_result"
    }
   ],
   "source": [
    "# quartets that are in one tree but not the other\n",
    "diffs = q0.symmetric_difference(q1)\n",
    "len(diffs)"
   ]
  },
  {
   "cell_type": "code",
   "execution_count": 13,
   "metadata": {
    "scrolled": true
   },
   "outputs": [
    {
     "data": {
      "text/plain": [
       "0.8380952380952381"
      ]
     },
     "execution_count": 13,
     "metadata": {},
     "output_type": "execute_result"
    }
   ],
   "source": [
    "len(q0.intersection(q1)) / len(q0)"
   ]
  },
  {
   "cell_type": "markdown",
   "metadata": {},
   "source": [
    "### Expectation that 1/3 will match on random trees"
   ]
  },
  {
   "cell_type": "code",
   "execution_count": 14,
   "metadata": {},
   "outputs": [],
   "source": [
    "def random_tree_dist(ntips=10, ntrees=10):\n",
    "    rtrees = [toytree.rtree.unittree(ntips, random_names=True) for i in range(ntrees)]\n",
    "    dists = []\n",
    "    for treepair in itertools.combinations(rtrees, 2):\n",
    "        q0 = get_quartets(treepair[0])\n",
    "        q1 = get_quartets(treepair[1])\n",
    "        dist = len(q0.intersection(q1)) / len(q0)\n",
    "        dists.append(dist)\n",
    "    return {\"mean\": np.mean(dists), \"std\": np.std(dists)}"
   ]
  },
  {
   "cell_type": "code",
   "execution_count": 15,
   "metadata": {},
   "outputs": [
    {
     "data": {
      "text/plain": [
       "{'mean': 0.33851163857355804, 'std': 0.034079189736534586}"
      ]
     },
     "execution_count": 15,
     "metadata": {},
     "output_type": "execute_result"
    }
   ],
   "source": [
    "# looks pretty close to the expectation\n",
    "random_tree_dist(20, 10)"
   ]
  },
  {
   "cell_type": "code",
   "execution_count": null,
   "metadata": {},
   "outputs": [],
   "source": []
  },
  {
   "cell_type": "code",
   "execution_count": null,
   "metadata": {},
   "outputs": [],
   "source": []
  }
 ],
 "metadata": {
  "kernelspec": {
   "display_name": "Python 3",
   "language": "python",
   "name": "python3"
  },
  "language_info": {
   "codemirror_mode": {
    "name": "ipython",
    "version": 3
   },
   "file_extension": ".py",
   "mimetype": "text/x-python",
   "name": "python",
   "nbconvert_exporter": "python",
   "pygments_lexer": "ipython3",
   "version": "3.7.9"
  }
 },
 "nbformat": 4,
 "nbformat_minor": 4
}
