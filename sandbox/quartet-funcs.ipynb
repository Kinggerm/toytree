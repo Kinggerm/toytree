{
 "cells": [
  {
   "cell_type": "markdown",
   "metadata": {},
   "source": [
    "### toytree quartet functions (in progress)"
   ]
  },
  {
   "cell_type": "code",
   "execution_count": 1,
   "metadata": {},
   "outputs": [],
   "source": [
    "import toytree\n",
    "import itertools\n",
    "import numpy as np"
   ]
  },
  {
   "cell_type": "markdown",
   "metadata": {},
   "source": [
    "### get two random trees"
   ]
  },
  {
   "cell_type": "code",
   "execution_count": 2,
   "metadata": {},
   "outputs": [],
   "source": [
    "t0 = toytree.rtree.unittree(10, seed=0)\n",
    "t1 = toytree.rtree.unittree(10, seed=1)"
   ]
  },
  {
   "cell_type": "code",
   "execution_count": 3,
   "metadata": {},
   "outputs": [
    {
     "data": {
      "text/html": [
       "<div class=\"toyplot\" id=\"t6cf1406f3c414ac8a53e92a0383001c6\" style=\"text-align:center\"><svg class=\"toyplot-canvas-Canvas\" height=\"200.0px\" id=\"t23e3b585a2eb4854bba17abf3a270b00\" preserveAspectRatio=\"xMidYMid meet\" style=\"background-color:transparent;border-color:#292724;border-style:none;border-width:1.0;fill:rgb(16.1%,15.3%,14.1%);fill-opacity:1.0;font-family:Helvetica;font-size:12px;opacity:1.0;stroke:rgb(16.1%,15.3%,14.1%);stroke-opacity:1.0;stroke-width:1.0\" viewBox=\"0 0 500.0 200.0\" width=\"500.0px\" xmlns=\"http://www.w3.org/2000/svg\" xmlns:toyplot=\"http://www.sandia.gov/toyplot\" xmlns:xlink=\"http://www.w3.org/1999/xlink\"><g class=\"toyplot-coordinates-Cartesian\" id=\"t7894ed3b31f2428f8bb20496a6553cc8\"><clipPath id=\"t644b7d83310644be818da0d249f1f8f7\"><rect height=\"170.0\" width=\"220.0\" x=\"15.0\" y=\"15.0\"></rect></clipPath><g clip-path=\"url(#t644b7d83310644be818da0d249f1f8f7)\"><g class=\"toytree-mark-Toytree\" id=\"teb95c2fdc5a34f65b7bf13cd8e4a22d1\"><g class=\"toytree-Edges\" style=\"fill:none;stroke:rgb(14.9%,14.9%,14.9%);stroke-linecap:round;stroke-opacity:1;stroke-width:2\"><path d=\"M 178.2 36.7 L 202.3 51.4\" id=\"18,17\"></path><path d=\"M 178.2 36.7 L 154.1 51.4\" id=\"18,16\"></path><path d=\"M 154.1 51.4 L 135.0 66.0\" id=\"16,15\"></path><path d=\"M 135.0 66.0 L 115.9 80.7\" id=\"15,14\"></path><path d=\"M 115.9 80.7 L 97.2 95.4\" id=\"14,13\"></path><path d=\"M 97.2 95.4 L 79.1 110.0\" id=\"13,12\"></path><path d=\"M 79.1 110.0 L 62.2 124.7\" id=\"12,11\"></path><path d=\"M 62.2 124.7 L 47.7 139.3\" id=\"11,10\"></path><path d=\"M 202.3 51.4 L 212.0 154.0\" id=\"17,9\"></path><path d=\"M 202.3 51.4 L 192.6 154.0\" id=\"17,8\"></path><path d=\"M 154.1 51.4 L 173.3 154.0\" id=\"16,7\"></path><path d=\"M 135.0 66.0 L 154.0 154.0\" id=\"15,6\"></path><path d=\"M 115.9 80.7 L 134.7 154.0\" id=\"14,5\"></path><path d=\"M 97.2 95.4 L 115.3 154.0\" id=\"13,4\"></path><path d=\"M 79.1 110.0 L 96.0 154.0\" id=\"12,3\"></path><path d=\"M 62.2 124.7 L 76.7 154.0\" id=\"11,2\"></path><path d=\"M 47.7 139.3 L 57.4 154.0\" id=\"10,1\"></path><path d=\"M 47.7 139.3 L 38.0 154.0\" id=\"10,0\"></path></g><g class=\"toytree-Nodes\" style=\"fill:rgb(40%,76.1%,64.7%);fill-opacity:1.0;stroke:rgb(14.9%,14.9%,14.9%);stroke-opacity:1.0;stroke-width:1\"><g id=\"node-0\" transform=\"translate(38.043,153.979)\"><circle r=\"7.5\"></circle></g><g id=\"node-1\" transform=\"translate(57.367,153.979)\"><circle r=\"7.5\"></circle></g><g id=\"node-2\" transform=\"translate(76.691,153.979)\"><circle r=\"7.5\"></circle></g><g id=\"node-3\" transform=\"translate(96.014,153.979)\"><circle r=\"7.5\"></circle></g><g id=\"node-4\" transform=\"translate(115.338,153.979)\"><circle r=\"7.5\"></circle></g><g id=\"node-5\" transform=\"translate(134.662,153.979)\"><circle r=\"7.5\"></circle></g><g id=\"node-6\" transform=\"translate(153.986,153.979)\"><circle r=\"7.5\"></circle></g><g id=\"node-7\" transform=\"translate(173.309,153.979)\"><circle r=\"7.5\"></circle></g><g id=\"node-8\" transform=\"translate(192.633,153.979)\"><circle r=\"7.5\"></circle></g><g id=\"node-9\" transform=\"translate(211.957,153.979)\"><circle r=\"7.5\"></circle></g><g id=\"node-10\" transform=\"translate(47.705,139.323)\"><circle r=\"7.5\"></circle></g><g id=\"node-11\" transform=\"translate(62.198,124.666)\"><circle r=\"7.5\"></circle></g><g id=\"node-12\" transform=\"translate(79.106,110.009)\"><circle r=\"7.5\"></circle></g><g id=\"node-13\" transform=\"translate(97.222,95.352)\"><circle r=\"7.5\"></circle></g><g id=\"node-14\" transform=\"translate(115.942,80.696)\"><circle r=\"7.5\"></circle></g><g id=\"node-15\" transform=\"translate(134.964,66.039)\"><circle r=\"7.5\"></circle></g><g id=\"node-16\" transform=\"translate(154.136,51.382)\"><circle r=\"7.5\"></circle></g><g id=\"node-17\" transform=\"translate(202.295,51.382)\"><circle r=\"7.5\"></circle></g><g id=\"node-18\" transform=\"translate(178.216,36.725)\"><circle r=\"7.5\"></circle></g></g><g class=\"toytree-NodeLabels\" style=\"fill:rgb(14.9%,14.9%,14.9%);fill-opacity:1.0;font-size:9px;stroke:none\"><g transform=\"translate(35.54,156.28)\"><text>0</text></g><g transform=\"translate(54.87,156.28)\"><text>1</text></g><g transform=\"translate(74.19,156.28)\"><text>2</text></g><g transform=\"translate(93.51,156.28)\"><text>3</text></g><g transform=\"translate(112.84,156.28)\"><text>4</text></g><g transform=\"translate(132.16,156.28)\"><text>5</text></g><g transform=\"translate(151.48,156.28)\"><text>6</text></g><g transform=\"translate(170.81,156.28)\"><text>7</text></g><g transform=\"translate(190.13,156.28)\"><text>8</text></g><g transform=\"translate(209.45,156.28)\"><text>9</text></g><g transform=\"translate(42.70,141.62)\"><text>10</text></g><g transform=\"translate(57.19,126.97)\"><text>11</text></g><g transform=\"translate(74.10,112.31)\"><text>12</text></g><g transform=\"translate(92.22,97.65)\"><text>13</text></g><g transform=\"translate(110.94,83.00)\"><text>14</text></g><g transform=\"translate(129.96,68.34)\"><text>15</text></g><g transform=\"translate(149.13,53.68)\"><text>16</text></g><g transform=\"translate(197.29,53.68)\"><text>17</text></g><g transform=\"translate(173.21,39.02)\"><text>18</text></g></g><g class=\"toytree-TipLabels\" style=\"fill:rgb(14.9%,14.9%,14.9%);fill-opacity:1.0;font-family:helvetica;font-size:9px;font-weight:normal;stroke:none;white-space:pre\"><g transform=\"translate(38.04,153.98)rotate(-90)\"><text style=\"\" x=\"-18.00\" y=\"2.30\">r0</text></g><g transform=\"translate(57.37,153.98)rotate(-90)\"><text style=\"\" x=\"-18.00\" y=\"2.30\">r1</text></g><g transform=\"translate(76.69,153.98)rotate(-90)\"><text style=\"\" x=\"-18.00\" y=\"2.30\">r2</text></g><g transform=\"translate(96.01,153.98)rotate(-90)\"><text style=\"\" x=\"-18.00\" y=\"2.30\">r3</text></g><g transform=\"translate(115.34,153.98)rotate(-90)\"><text style=\"\" x=\"-18.00\" y=\"2.30\">r4</text></g><g transform=\"translate(134.66,153.98)rotate(-90)\"><text style=\"\" x=\"-18.00\" y=\"2.30\">r5</text></g><g transform=\"translate(153.99,153.98)rotate(-90)\"><text style=\"\" x=\"-18.00\" y=\"2.30\">r6</text></g><g transform=\"translate(173.31,153.98)rotate(-90)\"><text style=\"\" x=\"-18.00\" y=\"2.30\">r7</text></g><g transform=\"translate(192.63,153.98)rotate(-90)\"><text style=\"\" x=\"-18.00\" y=\"2.30\">r8</text></g><g transform=\"translate(211.96,153.98)rotate(-90)\"><text style=\"\" x=\"-18.00\" y=\"2.30\">r9</text></g></g></g></g></g><g class=\"toyplot-coordinates-Cartesian\" id=\"tad3e7f0870214baf83978ad1a3743fee\"><clipPath id=\"td8b70d757e0c4dfcaba17a6cbe1ea737\"><rect height=\"170.0\" width=\"220.0\" x=\"265.0\" y=\"15.0\"></rect></clipPath><g clip-path=\"url(#td8b70d757e0c4dfcaba17a6cbe1ea737)\"><g class=\"toytree-mark-Toytree\" id=\"t2cbb7a6488d54cf785f4f5a99643fe58\"><g class=\"toytree-Edges\" style=\"fill:none;stroke:rgb(14.9%,14.9%,14.9%);stroke-linecap:round;stroke-opacity:1;stroke-width:2\"><path d=\"M 399.5 36.7 L 433.0 56.3\" id=\"18,17\"></path><path d=\"M 399.5 36.7 L 365.9 56.3\" id=\"18,16\"></path><path d=\"M 433.0 56.3 L 452.3 75.8\" id=\"17,15\"></path><path d=\"M 433.0 56.3 L 413.6 75.8\" id=\"17,14\"></path><path d=\"M 365.9 56.3 L 347.2 75.8\" id=\"16,13\"></path><path d=\"M 347.2 75.8 L 329.1 95.4\" id=\"13,12\"></path><path d=\"M 329.1 95.4 L 312.2 114.9\" id=\"12,11\"></path><path d=\"M 312.2 114.9 L 297.7 134.4\" id=\"11,10\"></path><path d=\"M 452.3 75.8 L 462.0 154.0\" id=\"15,9\"></path><path d=\"M 452.3 75.8 L 442.6 154.0\" id=\"15,8\"></path><path d=\"M 413.6 75.8 L 423.3 154.0\" id=\"14,7\"></path><path d=\"M 413.6 75.8 L 404.0 154.0\" id=\"14,6\"></path><path d=\"M 365.9 56.3 L 384.7 154.0\" id=\"16,5\"></path><path d=\"M 347.2 75.8 L 365.3 154.0\" id=\"13,4\"></path><path d=\"M 329.1 95.4 L 346.0 154.0\" id=\"12,3\"></path><path d=\"M 312.2 114.9 L 326.7 154.0\" id=\"11,2\"></path><path d=\"M 297.7 134.4 L 307.4 154.0\" id=\"10,1\"></path><path d=\"M 297.7 134.4 L 288.0 154.0\" id=\"10,0\"></path></g><g class=\"toytree-Nodes\" style=\"fill:rgb(40%,76.1%,64.7%);fill-opacity:1.0;stroke:rgb(14.9%,14.9%,14.9%);stroke-opacity:1.0;stroke-width:1\"><g id=\"node-0\" transform=\"translate(288.043,153.979)\"><circle r=\"7.5\"></circle></g><g id=\"node-1\" transform=\"translate(307.367,153.979)\"><circle r=\"7.5\"></circle></g><g id=\"node-2\" transform=\"translate(326.691,153.979)\"><circle r=\"7.5\"></circle></g><g id=\"node-3\" transform=\"translate(346.014,153.979)\"><circle r=\"7.5\"></circle></g><g id=\"node-4\" transform=\"translate(365.338,153.979)\"><circle r=\"7.5\"></circle></g><g id=\"node-5\" transform=\"translate(384.662,153.979)\"><circle r=\"7.5\"></circle></g><g id=\"node-6\" transform=\"translate(403.986,153.979)\"><circle r=\"7.5\"></circle></g><g id=\"node-7\" transform=\"translate(423.309,153.979)\"><circle r=\"7.5\"></circle></g><g id=\"node-8\" transform=\"translate(442.633,153.979)\"><circle r=\"7.5\"></circle></g><g id=\"node-9\" transform=\"translate(461.957,153.979)\"><circle r=\"7.5\"></circle></g><g id=\"node-10\" transform=\"translate(297.705,134.437)\"><circle r=\"7.5\"></circle></g><g id=\"node-11\" transform=\"translate(312.198,114.895)\"><circle r=\"7.5\"></circle></g><g id=\"node-12\" transform=\"translate(329.106,95.352)\"><circle r=\"7.5\"></circle></g><g id=\"node-13\" transform=\"translate(347.222,75.810)\"><circle r=\"7.5\"></circle></g><g id=\"node-14\" transform=\"translate(413.647,75.810)\"><circle r=\"7.5\"></circle></g><g id=\"node-15\" transform=\"translate(452.295,75.810)\"><circle r=\"7.5\"></circle></g><g id=\"node-16\" transform=\"translate(365.942,56.268)\"><circle r=\"7.5\"></circle></g><g id=\"node-17\" transform=\"translate(432.971,56.268)\"><circle r=\"7.5\"></circle></g><g id=\"node-18\" transform=\"translate(399.457,36.725)\"><circle r=\"7.5\"></circle></g></g><g class=\"toytree-NodeLabels\" style=\"fill:rgb(14.9%,14.9%,14.9%);fill-opacity:1.0;font-size:9px;stroke:none\"><g transform=\"translate(285.54,156.28)\"><text>0</text></g><g transform=\"translate(304.87,156.28)\"><text>1</text></g><g transform=\"translate(324.19,156.28)\"><text>2</text></g><g transform=\"translate(343.51,156.28)\"><text>3</text></g><g transform=\"translate(362.84,156.28)\"><text>4</text></g><g transform=\"translate(382.16,156.28)\"><text>5</text></g><g transform=\"translate(401.48,156.28)\"><text>6</text></g><g transform=\"translate(420.81,156.28)\"><text>7</text></g><g transform=\"translate(440.13,156.28)\"><text>8</text></g><g transform=\"translate(459.45,156.28)\"><text>9</text></g><g transform=\"translate(292.70,136.74)\"><text>10</text></g><g transform=\"translate(307.19,117.19)\"><text>11</text></g><g transform=\"translate(324.10,97.65)\"><text>12</text></g><g transform=\"translate(342.22,78.11)\"><text>13</text></g><g transform=\"translate(408.64,78.11)\"><text>14</text></g><g transform=\"translate(447.29,78.11)\"><text>15</text></g><g transform=\"translate(360.94,58.57)\"><text>16</text></g><g transform=\"translate(427.97,58.57)\"><text>17</text></g><g transform=\"translate(394.45,39.02)\"><text>18</text></g></g><g class=\"toytree-TipLabels\" style=\"fill:rgb(14.9%,14.9%,14.9%);fill-opacity:1.0;font-family:helvetica;font-size:9px;font-weight:normal;stroke:none;white-space:pre\"><g transform=\"translate(288.04,153.98)rotate(-90)\"><text style=\"\" x=\"-18.00\" y=\"2.30\">r0</text></g><g transform=\"translate(307.37,153.98)rotate(-90)\"><text style=\"\" x=\"-18.00\" y=\"2.30\">r1</text></g><g transform=\"translate(326.69,153.98)rotate(-90)\"><text style=\"\" x=\"-18.00\" y=\"2.30\">r2</text></g><g transform=\"translate(346.01,153.98)rotate(-90)\"><text style=\"\" x=\"-18.00\" y=\"2.30\">r3</text></g><g transform=\"translate(365.34,153.98)rotate(-90)\"><text style=\"\" x=\"-18.00\" y=\"2.30\">r4</text></g><g transform=\"translate(384.66,153.98)rotate(-90)\"><text style=\"\" x=\"-18.00\" y=\"2.30\">r5</text></g><g transform=\"translate(403.99,153.98)rotate(-90)\"><text style=\"\" x=\"-18.00\" y=\"2.30\">r6</text></g><g transform=\"translate(423.31,153.98)rotate(-90)\"><text style=\"\" x=\"-18.00\" y=\"2.30\">r7</text></g><g transform=\"translate(442.63,153.98)rotate(-90)\"><text style=\"\" x=\"-18.00\" y=\"2.30\">r8</text></g><g transform=\"translate(461.96,153.98)rotate(-90)\"><text style=\"\" x=\"-18.00\" y=\"2.30\">r9</text></g></g></g></g></g></svg><div class=\"toyplot-behavior\"><script>(function()\n",
       "{\n",
       "var modules={};\n",
       "})();</script></div></div>"
      ]
     },
     "metadata": {},
     "output_type": "display_data"
    }
   ],
   "source": [
    "toytree.mtree([t0, t1]).draw(ts='p', height=200);"
   ]
  },
  {
   "cell_type": "markdown",
   "metadata": {},
   "source": [
    "### Plan for counting quartets (Illustrated below)\n",
    "\n",
    "We will traverse the tree visiting every node in turn. At each node we will select the edge above it (towards the root) to be the focal 'split'. Each split can represent many possible quartets, where at least one tip can be sampled from each of the four edges leading from the split. In the example below, we are visiting node 12, and the focal split is shown in black. The four edges leaving this split are shown in red, pink, blue, and aqua. To get all quartets from this split we must sample all possible combinations of one sample from each colored set. "
   ]
  },
  {
   "cell_type": "code",
   "execution_count": 4,
   "metadata": {},
   "outputs": [
    {
     "data": {
      "text/html": [
       "<div class=\"toyplot\" id=\"tee8765a2998a46b7a62cb28778ef6941\" style=\"text-align:center\"><svg class=\"toyplot-canvas-Canvas\" height=\"260.0px\" id=\"t08ee85451be948e9a0493fb599155bfb\" preserveAspectRatio=\"xMidYMid meet\" style=\"background-color:transparent;border-color:#292724;border-style:none;border-width:1.0;fill:rgb(16.1%,15.3%,14.1%);fill-opacity:1.0;font-family:Helvetica;font-size:12px;opacity:1.0;stroke:rgb(16.1%,15.3%,14.1%);stroke-opacity:1.0;stroke-width:1.0\" viewBox=\"0 0 350.0 260.0\" width=\"350.0px\" xmlns=\"http://www.w3.org/2000/svg\" xmlns:toyplot=\"http://www.sandia.gov/toyplot\" xmlns:xlink=\"http://www.w3.org/1999/xlink\"><g class=\"toyplot-coordinates-Cartesian\" id=\"tfacf0e488b424cbd98eaf68caff114d5\"><clipPath id=\"tfa9812aed8dc44e584720369673248c2\"><rect height=\"200.0\" width=\"290.0\" x=\"30.0\" y=\"30.0\"></rect></clipPath><g clip-path=\"url(#tfa9812aed8dc44e584720369673248c2)\"><g class=\"toytree-mark-Toytree\" id=\"t29f2a89154c94c4792e9567d7e0e3bdf\"><g class=\"toytree-Edges\" style=\"fill:none;stroke:rgb(14.9%,14.9%,14.9%);stroke-linecap:round;stroke-opacity:1;stroke-width:3\"><path d=\"M 243.3 61.5 L 274.2 76.8\" id=\"18,17\" style=\"stroke:rgb(0%,100%,100%);stroke-opacity:1.0\"></path><path d=\"M 243.3 61.5 L 212.4 76.8\" id=\"18,16\" style=\"stroke:rgb(0%,100%,100%);stroke-opacity:1.0\"></path><path d=\"M 212.4 76.8 L 187.8 92.2\" id=\"16,15\" style=\"stroke:rgb(0%,100%,100%);stroke-opacity:1.0\"></path><path d=\"M 187.8 92.2 L 163.4 107.5\" id=\"15,14\" style=\"stroke:rgb(0%,100%,100%);stroke-opacity:1.0\"></path><path d=\"M 163.4 107.5 L 139.3 122.8\" id=\"14,13\" style=\"stroke:rgb(0%,100%,100%);stroke-opacity:1.0\"></path><path d=\"M 139.3 122.8 L 116.1 138.2\" id=\"13,12\" style=\"stroke:rgb(0%,0%,0%);stroke-opacity:1.0\"></path><path d=\"M 116.1 138.2 L 94.4 153.5\" id=\"12,11\" style=\"stroke:rgb(100%,0%,0%);stroke-opacity:1.0\"></path><path d=\"M 94.4 153.5 L 75.8 168.8\" id=\"11,10\" style=\"stroke:rgb(100%,0%,0%);stroke-opacity:1.0\"></path><path d=\"M 274.2 76.8 L 286.6 184.2\" id=\"17,9\" style=\"stroke:rgb(0%,100%,100%);stroke-opacity:1.0\"></path><path d=\"M 274.2 76.8 L 261.8 184.2\" id=\"17,8\" style=\"stroke:rgb(0%,100%,100%);stroke-opacity:1.0\"></path><path d=\"M 212.4 76.8 L 237.0 184.2\" id=\"16,7\" style=\"stroke:rgb(0%,100%,100%);stroke-opacity:1.0\"></path><path d=\"M 187.8 92.2 L 212.2 184.2\" id=\"15,6\" style=\"stroke:rgb(0%,100%,100%);stroke-opacity:1.0\"></path><path d=\"M 163.4 107.5 L 187.4 184.2\" id=\"14,5\" style=\"stroke:rgb(0%,100%,100%);stroke-opacity:1.0\"></path><path d=\"M 139.3 122.8 L 162.6 184.2\" id=\"13,4\" style=\"stroke:rgb(0%,0%,100%);stroke-opacity:1.0\"></path><path d=\"M 116.1 138.2 L 137.8 184.2\" id=\"12,3\" style=\"stroke:rgb(100%,75.3%,79.6%);stroke-opacity:1.0\"></path><path d=\"M 94.4 153.5 L 113.0 184.2\" id=\"11,2\" style=\"stroke:rgb(100%,0%,0%);stroke-opacity:1.0\"></path><path d=\"M 75.8 168.8 L 88.2 184.2\" id=\"10,1\" style=\"stroke:rgb(100%,0%,0%);stroke-opacity:1.0\"></path><path d=\"M 75.8 168.8 L 63.4 184.2\" id=\"10,0\" style=\"stroke:rgb(100%,0%,0%);stroke-opacity:1.0\"></path></g><g class=\"toytree-Nodes\" style=\"fill:rgb(82.7%,82.7%,82.7%);fill-opacity:1.0;stroke:rgb(14.9%,14.9%,14.9%);stroke-opacity:1.0;stroke-width:1\"><g id=\"node-0\" transform=\"translate(63.393,184.184)\"><circle r=\"7.5\"></circle></g><g id=\"node-1\" transform=\"translate(88.194,184.184)\"><circle r=\"7.5\"></circle></g><g id=\"node-2\" transform=\"translate(112.996,184.184)\"><circle r=\"7.5\"></circle></g><g id=\"node-3\" transform=\"translate(137.798,184.184)\"><circle r=\"7.5\"></circle></g><g id=\"node-4\" transform=\"translate(162.599,184.184)\"><circle r=\"7.5\"></circle></g><g id=\"node-5\" transform=\"translate(187.401,184.184)\"><circle r=\"7.5\"></circle></g><g id=\"node-6\" transform=\"translate(212.202,184.184)\"><circle r=\"7.5\"></circle></g><g id=\"node-7\" transform=\"translate(237.004,184.184)\"><circle r=\"7.5\"></circle></g><g id=\"node-8\" transform=\"translate(261.806,184.184)\"><circle r=\"7.5\"></circle></g><g id=\"node-9\" transform=\"translate(286.607,184.184)\"><circle r=\"7.5\"></circle></g><g id=\"node-10\" transform=\"translate(75.794,168.849)\"><circle r=\"7.5\"></circle></g><g id=\"node-11\" transform=\"translate(94.395,153.513)\"><circle r=\"7.5\"></circle></g><g id=\"node-12\" transform=\"translate(116.096,138.178)\"><circle r=\"7.5\"></circle></g><g id=\"node-13\" transform=\"translate(139.348,122.843)\"><circle r=\"7.5\"></circle></g><g id=\"node-14\" transform=\"translate(163.374,107.507)\"><circle r=\"7.5\"></circle></g><g id=\"node-15\" transform=\"translate(187.788,92.172)\"><circle r=\"7.5\"></circle></g><g id=\"node-16\" transform=\"translate(212.396,76.837)\"><circle r=\"7.5\"></circle></g><g id=\"node-17\" transform=\"translate(274.206,76.837)\"><circle r=\"7.5\"></circle></g><g id=\"node-18\" transform=\"translate(243.301,61.501)\"><circle r=\"7.5\"></circle></g></g><g class=\"toytree-NodeLabels\" style=\"fill:rgb(14.9%,14.9%,14.9%);fill-opacity:1.0;font-size:9px;stroke:none\"><g transform=\"translate(60.89,186.48)\"><text>0</text></g><g transform=\"translate(85.69,186.48)\"><text>1</text></g><g transform=\"translate(110.49,186.48)\"><text>2</text></g><g transform=\"translate(135.30,186.48)\"><text>3</text></g><g transform=\"translate(160.10,186.48)\"><text>4</text></g><g transform=\"translate(184.90,186.48)\"><text>5</text></g><g transform=\"translate(209.70,186.48)\"><text>6</text></g><g transform=\"translate(234.50,186.48)\"><text>7</text></g><g transform=\"translate(259.30,186.48)\"><text>8</text></g><g transform=\"translate(284.11,186.48)\"><text>9</text></g><g transform=\"translate(70.79,171.15)\"><text>10</text></g><g transform=\"translate(89.39,155.81)\"><text>11</text></g><g transform=\"translate(111.09,140.48)\"><text>12</text></g><g transform=\"translate(134.34,125.14)\"><text>13</text></g><g transform=\"translate(158.37,109.81)\"><text>14</text></g><g transform=\"translate(182.78,94.47)\"><text>15</text></g><g transform=\"translate(207.39,79.14)\"><text>16</text></g><g transform=\"translate(269.20,79.14)\"><text>17</text></g><g transform=\"translate(238.30,63.80)\"><text>18</text></g></g><g class=\"toytree-TipLabels\" style=\"fill:rgb(14.9%,14.9%,14.9%);fill-opacity:1.0;font-family:helvetica;font-size:11px;font-weight:normal;stroke:none;white-space:pre\"><g transform=\"translate(63.39,184.18)rotate(-90)\"><text style=\"\" x=\"-24.78\" y=\"2.81\">r0</text></g><g transform=\"translate(88.19,184.18)rotate(-90)\"><text style=\"\" x=\"-24.78\" y=\"2.81\">r1</text></g><g transform=\"translate(113.00,184.18)rotate(-90)\"><text style=\"\" x=\"-24.78\" y=\"2.81\">r2</text></g><g transform=\"translate(137.80,184.18)rotate(-90)\"><text style=\"\" x=\"-24.78\" y=\"2.81\">r3</text></g><g transform=\"translate(162.60,184.18)rotate(-90)\"><text style=\"\" x=\"-24.78\" y=\"2.81\">r4</text></g><g transform=\"translate(187.40,184.18)rotate(-90)\"><text style=\"\" x=\"-24.78\" y=\"2.81\">r5</text></g><g transform=\"translate(212.20,184.18)rotate(-90)\"><text style=\"\" x=\"-24.78\" y=\"2.81\">r6</text></g><g transform=\"translate(237.00,184.18)rotate(-90)\"><text style=\"\" x=\"-24.78\" y=\"2.81\">r7</text></g><g transform=\"translate(261.81,184.18)rotate(-90)\"><text style=\"\" x=\"-24.78\" y=\"2.81\">r8</text></g><g transform=\"translate(286.61,184.18)rotate(-90)\"><text style=\"\" x=\"-24.78\" y=\"2.81\">r9</text></g></g></g></g><g class=\"toyplot-coordinates-Axis\" id=\"t9f51879749634163962e2d9f038c1b88\" transform=\"translate(50.0,210.0)rotate(-90.0)translate(0,-20.0)\"><line style=\"\" x1=\"25.81619694348465\" x2=\"148.4985311665844\" y1=\"0\" y2=\"0\"></line><g><line style=\"\" x1=\"25.81619694348465\" x2=\"25.81619694348465\" y1=\"0\" y2=\"5\"></line><line style=\"\" x1=\"87.15736405503452\" x2=\"87.15736405503452\" y1=\"0\" y2=\"5\"></line><line style=\"\" x1=\"148.4985311665844\" x2=\"148.4985311665844\" y1=\"0\" y2=\"5\"></line></g><g><g transform=\"translate(25.81619694348465,-6)\"><text style=\"fill:rgb(16.1%,15.3%,14.1%);fill-opacity:1.0;font-family:helvetica;font-size:10.0px;font-weight:normal;stroke:none;vertical-align:baseline;white-space:pre\" x=\"-6.95\" y=\"-4.440892098500626e-16\">0.0</text></g><g transform=\"translate(87.15736405503452,-6)\"><text style=\"fill:rgb(16.1%,15.3%,14.1%);fill-opacity:1.0;font-family:helvetica;font-size:10.0px;font-weight:normal;stroke:none;vertical-align:baseline;white-space:pre\" x=\"-6.95\" y=\"-4.440892098500626e-16\">0.5</text></g><g transform=\"translate(148.4985311665844,-6)\"><text style=\"fill:rgb(16.1%,15.3%,14.1%);fill-opacity:1.0;font-family:helvetica;font-size:10.0px;font-weight:normal;stroke:none;vertical-align:baseline;white-space:pre\" x=\"-6.95\" y=\"-4.440892098500626e-16\">1.0</text></g></g><g class=\"toyplot-coordinates-Axis-coordinates\" style=\"visibility:hidden\" transform=\"\"><line style=\"stroke:rgb(43.9%,50.2%,56.5%);stroke-opacity:1.0;stroke-width:1.0\" x1=\"0\" x2=\"0\" y1=\"3.0\" y2=\"-4.5\"></line><text style=\"alignment-baseline:hanging;fill:rgb(43.9%,50.2%,56.5%);fill-opacity:1.0;font-size:10px;font-weight:normal;stroke:none;text-anchor:middle\" x=\"0\" y=\"6\"></text></g></g></g></svg><div class=\"toyplot-behavior\"><script>(function()\n",
       "{\n",
       "var modules={};\n",
       "modules[\"toyplot/canvas/id\"] = \"t08ee85451be948e9a0493fb599155bfb\";\n",
       "modules[\"toyplot/canvas\"] = (function(canvas_id)\n",
       "    {\n",
       "        return document.querySelector(\"#\" + canvas_id);\n",
       "    })(modules[\"toyplot/canvas/id\"]);\n",
       "modules[\"toyplot.coordinates.Axis\"] = (\n",
       "        function(canvas)\n",
       "        {\n",
       "            function sign(x)\n",
       "            {\n",
       "                return x < 0 ? -1 : x > 0 ? 1 : 0;\n",
       "            }\n",
       "\n",
       "            function mix(a, b, amount)\n",
       "            {\n",
       "                return ((1.0 - amount) * a) + (amount * b);\n",
       "            }\n",
       "\n",
       "            function log(x, base)\n",
       "            {\n",
       "                return Math.log(Math.abs(x)) / Math.log(base);\n",
       "            }\n",
       "\n",
       "            function in_range(a, x, b)\n",
       "            {\n",
       "                var left = Math.min(a, b);\n",
       "                var right = Math.max(a, b);\n",
       "                return left <= x && x <= right;\n",
       "            }\n",
       "\n",
       "            function inside(range, projection)\n",
       "            {\n",
       "                for(var i = 0; i != projection.length; ++i)\n",
       "                {\n",
       "                    var segment = projection[i];\n",
       "                    if(in_range(segment.range.min, range, segment.range.max))\n",
       "                        return true;\n",
       "                }\n",
       "                return false;\n",
       "            }\n",
       "\n",
       "            function to_domain(range, projection)\n",
       "            {\n",
       "                for(var i = 0; i != projection.length; ++i)\n",
       "                {\n",
       "                    var segment = projection[i];\n",
       "                    if(in_range(segment.range.bounds.min, range, segment.range.bounds.max))\n",
       "                    {\n",
       "                        if(segment.scale == \"linear\")\n",
       "                        {\n",
       "                            var amount = (range - segment.range.min) / (segment.range.max - segment.range.min);\n",
       "                            return mix(segment.domain.min, segment.domain.max, amount)\n",
       "                        }\n",
       "                        else if(segment.scale[0] == \"log\")\n",
       "                        {\n",
       "                            var amount = (range - segment.range.min) / (segment.range.max - segment.range.min);\n",
       "                            var base = segment.scale[1];\n",
       "                            return sign(segment.domain.min) * Math.pow(base, mix(log(segment.domain.min, base), log(segment.domain.max, base), amount));\n",
       "                        }\n",
       "                    }\n",
       "                }\n",
       "            }\n",
       "\n",
       "            var axes = {};\n",
       "\n",
       "            function display_coordinates(e)\n",
       "            {\n",
       "                var current = canvas.createSVGPoint();\n",
       "                current.x = e.clientX;\n",
       "                current.y = e.clientY;\n",
       "\n",
       "                for(var axis_id in axes)\n",
       "                {\n",
       "                    var axis = document.querySelector(\"#\" + axis_id);\n",
       "                    var coordinates = axis.querySelector(\".toyplot-coordinates-Axis-coordinates\");\n",
       "                    if(coordinates)\n",
       "                    {\n",
       "                        var projection = axes[axis_id];\n",
       "                        var local = current.matrixTransform(axis.getScreenCTM().inverse());\n",
       "                        if(inside(local.x, projection))\n",
       "                        {\n",
       "                            var domain = to_domain(local.x, projection);\n",
       "                            coordinates.style.visibility = \"visible\";\n",
       "                            coordinates.setAttribute(\"transform\", \"translate(\" + local.x + \")\");\n",
       "                            var text = coordinates.querySelector(\"text\");\n",
       "                            text.textContent = domain.toFixed(2);\n",
       "                        }\n",
       "                        else\n",
       "                        {\n",
       "                            coordinates.style.visibility= \"hidden\";\n",
       "                        }\n",
       "                    }\n",
       "                }\n",
       "            }\n",
       "\n",
       "            canvas.addEventListener(\"click\", display_coordinates);\n",
       "\n",
       "            var module = {};\n",
       "            module.show_coordinates = function(axis_id, projection)\n",
       "            {\n",
       "                axes[axis_id] = projection;\n",
       "            }\n",
       "\n",
       "            return module;\n",
       "        })(modules[\"toyplot/canvas\"]);\n",
       "(function(axis, axis_id, projection)\n",
       "        {\n",
       "            axis.show_coordinates(axis_id, projection);\n",
       "        })(modules[\"toyplot.coordinates.Axis\"],\"t9f51879749634163962e2d9f038c1b88\",[{\"domain\": {\"bounds\": {\"max\": Infinity, \"min\": -Infinity}, \"max\": 1.09375, \"min\": -0.2104312499999999}, \"range\": {\"bounds\": {\"max\": Infinity, \"min\": -Infinity}, \"max\": 160.0, \"min\": 0.0}, \"scale\": \"linear\"}]);\n",
       "})();</script></div></div>"
      ]
     },
     "metadata": {},
     "output_type": "display_data"
    }
   ],
   "source": [
    "t0.draw(\n",
    "    ts='p',\n",
    "    node_colors=\"lightgrey\",\n",
    "    edge_widths=3,\n",
    "    edge_colors=t0.get_edge_values_mapped(\n",
    "        {11: 'red', 3: 'pink', 4: 'blue', 18: 'aqua', 12: 'black'},\n",
    "    ),\n",
    ");"
   ]
  },
  {
   "cell_type": "markdown",
   "metadata": {},
   "source": [
    "### Example to sample tips from each quartet edge"
   ]
  },
  {
   "cell_type": "code",
   "execution_count": 5,
   "metadata": {},
   "outputs": [
    {
     "name": "stdout",
     "output_type": "stream",
     "text": [
      "{'r3'}\n",
      "{'r0', 'r2', 'r1'}\n",
      "{'r4'}\n",
      "{'r8', 'r6', 'r7', 'r9', 'r5'}\n"
     ]
    }
   ],
   "source": [
    "# focal node\n",
    "nidx = 12\n",
    "\n",
    "# get all tips as a set\n",
    "fullset = set(i for i in t0.get_tip_labels())\n",
    "\n",
    "# get tips from each child of a given node\n",
    "down0 = set(t0.idx_dict[nidx].children[0].get_leaf_names())\n",
    "down1 = set(t0.idx_dict[nidx].children[1].get_leaf_names())\n",
    "up0 = set(t0.idx_dict[nidx].up.get_leaf_names()) - down0 - down1\n",
    "up1 = fullset - down0 - down1 - up0\n",
    "\n",
    "print(down0)\n",
    "print(down1)\n",
    "print(up0)\n",
    "print(up1)"
   ]
  },
  {
   "cell_type": "markdown",
   "metadata": {},
   "source": [
    "### Example to get all quartet sets from sampled tips"
   ]
  },
  {
   "cell_type": "code",
   "execution_count": 6,
   "metadata": {
    "scrolled": true
   },
   "outputs": [
    {
     "data": {
      "text/plain": [
       "{('r3', 'r0', 'r4', 'r5'),\n",
       " ('r3', 'r0', 'r4', 'r6'),\n",
       " ('r3', 'r0', 'r4', 'r7'),\n",
       " ('r3', 'r0', 'r4', 'r8'),\n",
       " ('r3', 'r0', 'r4', 'r9'),\n",
       " ('r3', 'r1', 'r4', 'r5'),\n",
       " ('r3', 'r1', 'r4', 'r6'),\n",
       " ('r3', 'r1', 'r4', 'r7'),\n",
       " ('r3', 'r1', 'r4', 'r8'),\n",
       " ('r3', 'r1', 'r4', 'r9'),\n",
       " ('r3', 'r2', 'r4', 'r5'),\n",
       " ('r3', 'r2', 'r4', 'r6'),\n",
       " ('r3', 'r2', 'r4', 'r7'),\n",
       " ('r3', 'r2', 'r4', 'r8'),\n",
       " ('r3', 'r2', 'r4', 'r9')}"
      ]
     },
     "execution_count": 6,
     "metadata": {},
     "output_type": "execute_result"
    }
   ],
   "source": [
    "set(itertools.product(down0, down1, up0, up1))"
   ]
  },
  {
   "cell_type": "markdown",
   "metadata": {},
   "source": [
    "### Combine into a function"
   ]
  },
  {
   "cell_type": "code",
   "execution_count": 297,
   "metadata": {},
   "outputs": [],
   "source": [
    "def get_quartets(ttre):\n",
    "    \n",
    "    # store all quartets in this SET\n",
    "    qset = set([])\n",
    "    \n",
    "    # get a SET with all tips in the tree\n",
    "    fullset = set(ttre.get_tip_labels())\n",
    "    \n",
    "    # get a SET of the descendants from each internal node\n",
    "    for node in ttre.idx_dict.values():   \n",
    "\n",
    "        # skip leaf nodes\n",
    "        if not node.is_leaf():\n",
    "            \n",
    "            children = set(node.get_leaf_names())\n",
    "            prod = itertools.product(\n",
    "                itertools.combinations(children, 2),\n",
    "                itertools.combinations(fullset - children, 2),\n",
    "            )\n",
    "            quartets = set([tuple(itertools.chain(*i)) for i in prod])\n",
    "            qset = qset.union(quartets)\n",
    "\n",
    "    # order tups in sets\n",
    "    sorted_set = set()\n",
    "    for qs in qset:\n",
    "        if np.argmin(qs) > 1:\n",
    "            tup = tuple(sorted(qs[2:]) + sorted(qs[:2]))\n",
    "            sorted_set.add(tup)\n",
    "        else:\n",
    "            tup = tuple(sorted(qs[:2]) + sorted(qs[2:]))\n",
    "            sorted_set.add(tup)            \n",
    "    \n",
    "    return sorted_set"
   ]
  },
  {
   "cell_type": "code",
   "execution_count": 291,
   "metadata": {},
   "outputs": [
    {
     "data": {
      "text/plain": [
       "{('r0', 'r1', 'r2', 'r3'),\n",
       " ('r0', 'r1', 'r2', 'r4'),\n",
       " ('r0', 'r1', 'r2', 'r5'),\n",
       " ('r0', 'r1', 'r3', 'r4'),\n",
       " ('r0', 'r1', 'r3', 'r5'),\n",
       " ('r0', 'r1', 'r4', 'r5'),\n",
       " ('r0', 'r2', 'r3', 'r4'),\n",
       " ('r0', 'r2', 'r3', 'r5'),\n",
       " ('r0', 'r2', 'r4', 'r5'),\n",
       " ('r0', 'r5', 'r3', 'r4'),\n",
       " ('r1', 'r2', 'r3', 'r4'),\n",
       " ('r1', 'r2', 'r3', 'r5'),\n",
       " ('r1', 'r2', 'r4', 'r5'),\n",
       " ('r1', 'r5', 'r3', 'r4'),\n",
       " ('r2', 'r5', 'r3', 'r4')}"
      ]
     },
     "execution_count": 291,
     "metadata": {},
     "output_type": "execute_result"
    }
   ],
   "source": [
    "get_quartets(t1)"
   ]
  },
  {
   "cell_type": "markdown",
   "metadata": {},
   "source": [
    "### Compare quartet sets"
   ]
  },
  {
   "cell_type": "code",
   "execution_count": 292,
   "metadata": {},
   "outputs": [],
   "source": [
    "q0 = get_quartets(t0)\n",
    "q1 = get_quartets(t1)"
   ]
  },
  {
   "cell_type": "code",
   "execution_count": 294,
   "metadata": {},
   "outputs": [
    {
     "data": {
      "text/plain": [
       "{('r0', 'r3', 'r4', 'r5'),\n",
       " ('r0', 'r5', 'r3', 'r4'),\n",
       " ('r1', 'r3', 'r4', 'r5'),\n",
       " ('r1', 'r5', 'r3', 'r4'),\n",
       " ('r2', 'r3', 'r4', 'r5'),\n",
       " ('r2', 'r5', 'r3', 'r4')}"
      ]
     },
     "execution_count": 294,
     "metadata": {},
     "output_type": "execute_result"
    }
   ],
   "source": [
    "# quartets that are in one tree but not the other\n",
    "q0.symmetric_difference(q1)"
   ]
  },
  {
   "cell_type": "markdown",
   "metadata": {},
   "source": [
    "### what proportion of quartets are shared or different?"
   ]
  },
  {
   "cell_type": "code",
   "execution_count": null,
   "metadata": {},
   "outputs": [],
   "source": []
  }
 ],
 "metadata": {
  "kernelspec": {
   "display_name": "Python 3",
   "language": "python",
   "name": "python3"
  },
  "language_info": {
   "codemirror_mode": {
    "name": "ipython",
    "version": 3
   },
   "file_extension": ".py",
   "mimetype": "text/x-python",
   "name": "python",
   "nbconvert_exporter": "python",
   "pygments_lexer": "ipython3",
   "version": "3.7.9"
  }
 },
 "nbformat": 4,
 "nbformat_minor": 4
}
